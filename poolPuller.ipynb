{
 "cells": [
  {
   "cell_type": "code",
   "execution_count": 2,
   "metadata": {
    "collapsed": true
   },
   "outputs": [],
   "source": [
    "from datetime import datetime\n",
    "from datetime import date\n",
    "from subgrounds.subgraph import SyntheticField, FieldPath\n",
    "from subgrounds.subgrounds import Subgrounds\n",
    "import pandas as pd\n",
    "import duckdb as db\n",
    "import  os as os\n",
    "import seaborn as sns\n",
    "import matplotlib.pyplot as plt"
   ]
  },
  {
   "cell_type": "markdown",
   "source": [
    "Sushiswap: https://thegraph.com/explorer/subgraphs/7h1x51fyT5KigAhXd8sdE3kzzxQDJxxz1y66LTFiC3mS?view=Playground\n",
    "Curve: https://thegraph.com/explorer/subgraphs/GAGwGKc4ArNKKq9eFTcwgd1UGymvqhTier9Npqo1YvZB?view=Playground\n",
    "Balancer: https://thegraph.com/explorer/subgraphs/Ei5typKWPepPSgqkaKf3p5bPhgJesnu1RuRpyt69Pcrx?view=Overview\n",
    "Uniswap: https://thegraph.com/explorer/subgraphs/ELUcwgpm14LKPLrBRuVvPvNKHQ9HvwmtKgKSH6123cr7?view=Playground"
   ],
   "metadata": {
    "collapsed": false
   }
  },
  {
   "cell_type": "code",
   "execution_count": 3,
   "outputs": [],
   "source": [
    "sg = Subgrounds()\n",
    "apiKey = file = input('API Key, please')"
   ],
   "metadata": {
    "collapsed": false
   }
  },
  {
   "cell_type": "code",
   "execution_count": 4,
   "outputs": [
    {
     "name": "stdout",
     "output_type": "stream",
     "text": [
      "ticker:  2  - records collected:  72  - token:  2023-02-16 20:25:47  - pool list length:  1072  - record from:  1676608427\n"
     ]
    }
   ],
   "source": [
    "##SUSHISWAP POOLS\n",
    "sushi7 = sg.load_api('https://gateway.thegraph.com/api/'+apiKey+'/subgraphs/id/7h1x51fyT5KigAhXd8sdE3kzzxQDJxxz1y66LTFiC3mS')\n",
    "listLength=1000\n",
    "trigger=0\n",
    "pool_list = pd.DataFrame()\n",
    "\n",
    "\n",
    "pools7 = sushi7.Query.liquidityPoolDailySnapshots(\n",
    "        orderBy='id',\n",
    "        orderDirection='desc',\n",
    "        first=1000,\n",
    "        where={ 'pool_in': ['0xfffae4a0f4ac251f4705717cd24cadccc9f33e06','0x055475920a8c93cffb64d039a8205f7acc7722d3'] }\n",
    "    )\n",
    "\n",
    "pool_data7 = sg.query_df([\n",
    "     pools7.id\n",
    "    ,pools7.timestamp\n",
    "    ,pools7.blockNumber\n",
    "    ,pools7.totalValueLockedUSD\n",
    "    ,pools7.cumulativeSupplySideRevenueUSD\n",
    "    ,pools7.dailySupplySideRevenueUSD\n",
    "    ,pools7.cumulativeProtocolSideRevenueUSD\n",
    "    ,pools7.dailyProtocolSideRevenueUSD\n",
    "    ,pools7.cumulativeTotalRevenueUSD\n",
    "    ,pools7.dailyTotalRevenueUSD\n",
    "    ,pools7.dailyVolumeUSD\n",
    "    ,pools7.cumulativeVolumeUSD\n",
    "    ,pools7.outputTokenSupply\n",
    "    ,pools7.outputTokenPriceUSD\n",
    "    ,pools7.stakedOutputTokenAmount\n",
    "    ,pools7.pool.name\n",
    "    ,pools7.pool.symbol\n",
    "    ,pools7.pool.outputToken\n",
    "])\n",
    "\n",
    "pool_list = db.query(\"select \"\n",
    "               \"    * \"\n",
    "                    \" ,to_timestamp(liquidityPoolDailySnapshots_timestamp) dateTime\"\n",
    "                     \",'Sushi' as dex \"\n",
    "               \"From pool_data7 \"\n",
    "               #\"where lower(liquidityPools_name) like lower('%olympus%') \"\n",
    "                #    \"or lower(pairs_token1_symbol) like lower('%OHM%')  \"\n",
    "               #\" limit 100 \"\n",
    "               ).df()\n",
    "ticker = 1\n",
    "listLength = len(pool_list)\n",
    "pool_list_length = len(pool_list)\n",
    "sushi_pool_datadb = pool_list\n",
    "\n",
    "while listLength>999:\n",
    "    #listLength=0\n",
    "    skipValue = (ticker)*(1000)\n",
    "    pools7 = sushi7.Query.liquidityPoolDailySnapshots(\n",
    "        orderBy='id',\n",
    "        orderDirection='desc',\n",
    "        skip =(skipValue),\n",
    "        first=1000,\n",
    "        where={ 'pool_in': ['0xfffae4a0f4ac251f4705717cd24cadccc9f33e06','0x055475920a8c93cffb64d039a8205f7acc7722d3'] }\n",
    "    )\n",
    "\n",
    "    pool_data7 = sg.query_df([\n",
    "         pools7.id\n",
    "        ,pools7.timestamp\n",
    "        ,pools7.blockNumber\n",
    "        ,pools7.totalValueLockedUSD\n",
    "        ,pools7.cumulativeSupplySideRevenueUSD\n",
    "        ,pools7.dailySupplySideRevenueUSD\n",
    "        ,pools7.cumulativeProtocolSideRevenueUSD\n",
    "        ,pools7.dailyProtocolSideRevenueUSD\n",
    "        ,pools7.cumulativeTotalRevenueUSD\n",
    "        ,pools7.dailyTotalRevenueUSD\n",
    "        ,pools7.dailyVolumeUSD\n",
    "        ,pools7.cumulativeVolumeUSD\n",
    "        ,pools7.outputTokenSupply\n",
    "        ,pools7.outputTokenPriceUSD\n",
    "        ,pools7.stakedOutputTokenAmount\n",
    "        ,pools7.pool.name\n",
    "        ,pools7.pool.symbol\n",
    "        ,pools7.pool.outputToken\n",
    "    ])\n",
    "\n",
    "    sushi_pool_datadb = db.query(\"select \"\n",
    "                   \"    * \"\n",
    "                        \" ,to_timestamp(liquidityPoolDailySnapshots_timestamp) dateTime\"\n",
    "                         \",'Sushi' as dex \"\n",
    "                   \"From pool_data7 \"\n",
    "                   #\"where lower(liquidityPools_name) like lower('%olympus%') \"\n",
    "                    #    \"or lower(pairs_token1_symbol) like lower('%OHM%')  \"\n",
    "                   #\" limit 100 \"\n",
    "                   ).df()\n",
    "\n",
    "    pool_list=pd.concat([pool_list, sushi_pool_datadb])\n",
    "    recordTimestamp = pool_list.iat[ticker,1]\n",
    "    ticker = ticker+1\n",
    "    pool_list_length = len(pool_list)\n",
    "    listLength = len(sushi_pool_datadb)\n",
    "    value1 = pool_list.iat[ticker,23]\n",
    "    #pool_datadb7 = pd.DataFrame(None)\n",
    "    sushi_pool_datadb = pool_list\n",
    "    print(\"ticker: \", ticker,\" - records collected: \", listLength, \" - token: \",value1 , \" - pool list length: \", pool_list_length, \" - record from: \", recordTimestamp)"
   ],
   "metadata": {
    "collapsed": false
   }
  },
  {
   "cell_type": "code",
   "execution_count": 5,
   "outputs": [
    {
     "name": "stdout",
     "output_type": "stream",
     "text": [
      "ticker:  1  - records collected:  939  - token:  2023-02-16 20:25:47  - pool list length:  939  - record from:  1676608427\n"
     ]
    }
   ],
   "source": [
    "##BALANCER POOLS\n",
    "balancer = sg.load_api('https://gateway.thegraph.com/api/'+apiKey+'/subgraphs/id/Ei5typKWPepPSgqkaKf3p5bPhgJesnu1RuRpyt69Pcrx')\n",
    "listLength=1000\n",
    "trigger=0\n",
    "pool_list = pd.DataFrame()\n",
    "\n",
    "\n",
    "pools7 = balancer.Query.liquidityPoolDailySnapshots(\n",
    "        orderBy='id',\n",
    "        orderDirection='desc',\n",
    "        first=1000,\n",
    "        where={ 'pool_in': ['0xd1ec5e215e8148d76f4460e4097fd3d5ae0a3558','0x76fcf0e8c7ff37a47a799fa2cd4c13cde0d981c9','0x2de32a7c98c3ef6ec79e703500e8ca5b2ec819aa', '0xf5f6fb82649df7991054ef796c39da81b93364df', '0xfb46bc8fc0d06421d362a31b7230f39462efa79a', '0xc45d42f801105e861e86658648e3678ad7aa70f9'] }\n",
    "\n",
    "    )\n",
    "\n",
    "pool_data7 = sg.query_df([\n",
    "     pools7.id\n",
    "    ,pools7.timestamp\n",
    "    ,pools7.blockNumber\n",
    "    ,pools7.totalValueLockedUSD\n",
    "    ,pools7.cumulativeSupplySideRevenueUSD\n",
    "    ,pools7.dailySupplySideRevenueUSD\n",
    "    ,pools7.cumulativeProtocolSideRevenueUSD\n",
    "    ,pools7.dailyProtocolSideRevenueUSD\n",
    "    ,pools7.cumulativeTotalRevenueUSD\n",
    "    ,pools7.dailyTotalRevenueUSD\n",
    "    ,pools7.dailyVolumeUSD\n",
    "    ,pools7.cumulativeVolumeUSD\n",
    "    ,pools7.outputTokenSupply\n",
    "    ,pools7.outputTokenPriceUSD\n",
    "    ,pools7.stakedOutputTokenAmount\n",
    "    ,pools7.pool.name\n",
    "    ,pools7.pool.symbol\n",
    "    ,pools7.pool.outputToken\n",
    "])\n",
    "\n",
    "pool_list = db.query(\"select \"\n",
    "               \"    * \"\n",
    "                    \" ,to_timestamp(liquidityPoolDailySnapshots_timestamp) dateTime\"\n",
    "                     \",'Balancer' as dex \"\n",
    "               \"From pool_data7 \"\n",
    "               #\"where lower(liquidityPools_name) like lower('%olympus%') \"\n",
    "                #    \"or lower(pairs_token1_symbol) like lower('%OHM%')  \"\n",
    "               #\" limit 100 \"\n",
    "               ).df()\n",
    "ticker = 1\n",
    "balancer_pool_datadb = pool_list\n",
    "listLength = len(pool_list)\n",
    "pool_list_length = len(pool_list)\n",
    "\n",
    "while listLength>999:\n",
    "    #listLength=0\n",
    "    skipValue = (ticker)*(1000)\n",
    "    pools7 = balancer.Query.liquidityPoolDailySnapshots(\n",
    "        orderBy='id',\n",
    "        orderDirection='desc',\n",
    "        skip =(skipValue),\n",
    "        first=1000,\n",
    "        where={ 'pool_in': ['0xd1ec5e215e8148d76f4460e4097fd3d5ae0a3558','0x76fcf0e8c7ff37a47a799fa2cd4c13cde0d981c9','0x2de32a7c98c3ef6ec79e703500e8ca5b2ec819aa', '0xf5f6fb82649df7991054ef796c39da81b93364df', '0xfb46bc8fc0d06421d362a31b7230f39462efa79a', '0xc45d42f801105e861e86658648e3678ad7aa70f9'] }\n",
    "        )\n",
    "\n",
    "\n",
    "    pool_data7 = sg.query_df([\n",
    "         pools7.id\n",
    "        ,pools7.timestamp\n",
    "        ,pools7.blockNumber\n",
    "        ,pools7.totalValueLockedUSD\n",
    "        ,pools7.cumulativeSupplySideRevenueUSD\n",
    "        ,pools7.dailySupplySideRevenueUSD\n",
    "        ,pools7.cumulativeProtocolSideRevenueUSD\n",
    "        ,pools7.dailyProtocolSideRevenueUSD\n",
    "        ,pools7.cumulativeTotalRevenueUSD\n",
    "        ,pools7.dailyTotalRevenueUSD\n",
    "        ,pools7.dailyVolumeUSD\n",
    "        ,pools7.cumulativeVolumeUSD\n",
    "        ,pools7.outputTokenSupply\n",
    "        ,pools7.outputTokenPriceUSD\n",
    "        ,pools7.stakedOutputTokenAmount\n",
    "        ,pools7.pool.name\n",
    "        ,pools7.pool.symbol\n",
    "        ,pools7.pool.outputToken\n",
    "    ])\n",
    "\n",
    "    balancer_pool_datadb = db.query(\"select \"\n",
    "                   \"    * \"\n",
    "                        \" ,to_timestamp(liquidityPoolDailySnapshots_timestamp) dateTime\"\n",
    "                         \",'Balancer' as dex \"\n",
    "                   \"From pool_data7 \"\n",
    "                   #\"where lower(liquidityPools_name) like lower('%olympus%') \"\n",
    "                    #    \"or lower(pairs_token1_symbol) like lower('%OHM%')  \"\n",
    "                   #\" limit 100 \"\n",
    "                   ).df()\n",
    "\n",
    "    pool_list=pd.concat([pool_list, balancer_pool_datadb])\n",
    "    recordTimestamp = pool_list.iat[ticker,1]\n",
    "    ticker = ticker+1\n",
    "    pool_list_length = len(pool_list)\n",
    "    listLength = len(balancer_pool_datadb)\n",
    "    value1 = pool_list.iat[ticker,23]\n",
    "    balancer_pool_datadb = pool_list\n",
    "\n",
    "print(\"ticker: \", ticker,\" - records collected: \", listLength, \" - token: \",value1 , \" - pool list length: \", pool_list_length, \" - record from: \", recordTimestamp)"
   ],
   "metadata": {
    "collapsed": false
   }
  },
  {
   "cell_type": "code",
   "execution_count": 6,
   "outputs": [
    {
     "name": "stdout",
     "output_type": "stream",
     "text": [
      "first pull: 674\n",
      "ticker:  1  - records collected:  674  - token:  2023-02-16 20:25:47  - pool list length:  674  - record from:  1676608427\n"
     ]
    },
    {
     "data": {
      "text/plain": "                     liquidityPoolDailySnapshots_id  \\\n0  0xcf7e21b96a7dae8e1663b5a266fd812cbe973e70-19408   \n1  0xcf7e21b96a7dae8e1663b5a266fd812cbe973e70-19405   \n2  0xcf7e21b96a7dae8e1663b5a266fd812cbe973e70-19404   \n3  0xcf7e21b96a7dae8e1663b5a266fd812cbe973e70-19403   \n4  0xcf7e21b96a7dae8e1663b5a266fd812cbe973e70-19402   \n5  0xcf7e21b96a7dae8e1663b5a266fd812cbe973e70-19401   \n6  0xcf7e21b96a7dae8e1663b5a266fd812cbe973e70-19400   \n7  0xcf7e21b96a7dae8e1663b5a266fd812cbe973e70-19399   \n8  0xcf7e21b96a7dae8e1663b5a266fd812cbe973e70-19398   \n9  0xcf7e21b96a7dae8e1663b5a266fd812cbe973e70-19397   \n\n   liquidityPoolDailySnapshots_timestamp  \\\n0                             1676911247   \n1                             1676660879   \n2                             1676570315   \n3                             1676504723   \n4                             1676415647   \n5                             1676311523   \n6                             1676240195   \n7                             1676146655   \n8                             1676044415   \n9                             1675982579   \n\n   liquidityPoolDailySnapshots_blockNumber  \\\n0                                 16671006   \n1                                 16650398   \n2                                 16642933   \n3                                 16637501   \n4                                 16630127   \n5                                 16621508   \n6                                 16615601   \n7                                 16607854   \n8                                 16599377   \n9                                 16594247   \n\n   liquidityPoolDailySnapshots_totalValueLockedUSD  \\\n0                                    109387.588406   \n1                                    109293.596248   \n2                                    113144.385478   \n3                                    112868.320631   \n4                                    107842.109538   \n5                                    102745.988657   \n6                                    101558.717390   \n7                                    101044.935520   \n8                                    101050.822764   \n9                                    101859.796353   \n\n   liquidityPoolDailySnapshots_cumulativeSupplySideRevenueUSD  \\\n0                                       2.366634e+06            \n1                                       2.366634e+06            \n2                                       2.366612e+06            \n3                                       2.366582e+06            \n4                                       2.366554e+06            \n5                                       2.366550e+06            \n6                                       2.366521e+06            \n7                                       2.366506e+06            \n8                                       2.366505e+06            \n9                                       2.366492e+06            \n\n   liquidityPoolDailySnapshots_dailySupplySideRevenueUSD  \\\n0                                           0.248477       \n1                                          21.683341       \n2                                          29.756356       \n3                                          27.951793       \n4                                           4.418073       \n5                                          28.471476       \n6                                          14.996381       \n7                                           1.791294       \n8                                          12.770572       \n9                                          45.475507       \n\n   liquidityPoolDailySnapshots_cumulativeProtocolSideRevenueUSD  \\\n0                                                0.0              \n1                                                0.0              \n2                                                0.0              \n3                                                0.0              \n4                                                0.0              \n5                                                0.0              \n6                                                0.0              \n7                                                0.0              \n8                                                0.0              \n9                                                0.0              \n\n   liquidityPoolDailySnapshots_dailyProtocolSideRevenueUSD  \\\n0                                                0.0         \n1                                                0.0         \n2                                                0.0         \n3                                                0.0         \n4                                                0.0         \n5                                                0.0         \n6                                                0.0         \n7                                                0.0         \n8                                                0.0         \n9                                                0.0         \n\n   liquidityPoolDailySnapshots_cumulativeTotalRevenueUSD  \\\n0                                       2.366634e+06       \n1                                       2.366634e+06       \n2                                       2.366612e+06       \n3                                       2.366582e+06       \n4                                       2.366554e+06       \n5                                       2.366550e+06       \n6                                       2.366521e+06       \n7                                       2.366506e+06       \n8                                       2.366505e+06       \n9                                       2.366492e+06       \n\n   liquidityPoolDailySnapshots_dailyTotalRevenueUSD  ...  \\\n0                                          0.248477  ...   \n1                                         21.683341  ...   \n2                                         29.756356  ...   \n3                                         27.951793  ...   \n4                                          4.418073  ...   \n5                                         28.471476  ...   \n6                                         14.996381  ...   \n7                                          1.791294  ...   \n8                                         12.770572  ...   \n9                                         45.475507  ...   \n\n        liquidityPoolDailySnapshots_pool_name  \\\n0  Uniswap V3 Governance OHM/Wrapped Ether 1%   \n1  Uniswap V3 Governance OHM/Wrapped Ether 1%   \n2  Uniswap V3 Governance OHM/Wrapped Ether 1%   \n3  Uniswap V3 Governance OHM/Wrapped Ether 1%   \n4  Uniswap V3 Governance OHM/Wrapped Ether 1%   \n5  Uniswap V3 Governance OHM/Wrapped Ether 1%   \n6  Uniswap V3 Governance OHM/Wrapped Ether 1%   \n7  Uniswap V3 Governance OHM/Wrapped Ether 1%   \n8  Uniswap V3 Governance OHM/Wrapped Ether 1%   \n9  Uniswap V3 Governance OHM/Wrapped Ether 1%   \n\n   liquidityPoolDailySnapshots_pool_symbol  \\\n0             Governance OHM/Wrapped Ether   \n1             Governance OHM/Wrapped Ether   \n2             Governance OHM/Wrapped Ether   \n3             Governance OHM/Wrapped Ether   \n4             Governance OHM/Wrapped Ether   \n5             Governance OHM/Wrapped Ether   \n6             Governance OHM/Wrapped Ether   \n7             Governance OHM/Wrapped Ether   \n8             Governance OHM/Wrapped Ether   \n9             Governance OHM/Wrapped Ether   \n\n  liquidityPoolDailySnapshots_pool_outputToken_id  \\\n0                                             NaN   \n1                                             NaN   \n2                                             NaN   \n3                                             NaN   \n4                                             NaN   \n5                                             NaN   \n6                                             NaN   \n7                                             NaN   \n8                                             NaN   \n9                                             NaN   \n\n  liquidityPoolDailySnapshots_pool_outputToken_name  \\\n0                                               NaN   \n1                                               NaN   \n2                                               NaN   \n3                                               NaN   \n4                                               NaN   \n5                                               NaN   \n6                                               NaN   \n7                                               NaN   \n8                                               NaN   \n9                                               NaN   \n\n  liquidityPoolDailySnapshots_pool_outputToken_symbol  \\\n0                                                NaN    \n1                                                NaN    \n2                                                NaN    \n3                                                NaN    \n4                                                NaN    \n5                                                NaN    \n6                                                NaN    \n7                                                NaN    \n8                                                NaN    \n9                                                NaN    \n\n  liquidityPoolDailySnapshots_pool_outputToken_decimals  \\\n0                                                NaN      \n1                                                NaN      \n2                                                NaN      \n3                                                NaN      \n4                                                NaN      \n5                                                NaN      \n6                                                NaN      \n7                                                NaN      \n8                                                NaN      \n9                                                NaN      \n\n  liquidityPoolDailySnapshots_pool_outputToken_lastPriceUSD  \\\n0                                                NaN          \n1                                                NaN          \n2                                                NaN          \n3                                                NaN          \n4                                                NaN          \n5                                                NaN          \n6                                                NaN          \n7                                                NaN          \n8                                                NaN          \n9                                                NaN          \n\n  liquidityPoolDailySnapshots_pool_outputToken_lastPriceBlockNumber  \\\n0                                                NaN                  \n1                                                NaN                  \n2                                                NaN                  \n3                                                NaN                  \n4                                                NaN                  \n5                                                NaN                  \n6                                                NaN                  \n7                                                NaN                  \n8                                                NaN                  \n9                                                NaN                  \n\n             dateTime      dex  \n0 2023-02-20 16:40:47  Uniswap  \n1 2023-02-17 19:07:59  Uniswap  \n2 2023-02-16 17:58:35  Uniswap  \n3 2023-02-15 23:45:23  Uniswap  \n4 2023-02-14 23:00:47  Uniswap  \n5 2023-02-13 18:05:23  Uniswap  \n6 2023-02-12 22:16:35  Uniswap  \n7 2023-02-11 20:17:35  Uniswap  \n8 2023-02-10 15:53:35  Uniswap  \n9 2023-02-09 22:42:59  Uniswap  \n\n[10 rows x 25 columns]",
      "text/html": "<div>\n<style scoped>\n    .dataframe tbody tr th:only-of-type {\n        vertical-align: middle;\n    }\n\n    .dataframe tbody tr th {\n        vertical-align: top;\n    }\n\n    .dataframe thead th {\n        text-align: right;\n    }\n</style>\n<table border=\"1\" class=\"dataframe\">\n  <thead>\n    <tr style=\"text-align: right;\">\n      <th></th>\n      <th>liquidityPoolDailySnapshots_id</th>\n      <th>liquidityPoolDailySnapshots_timestamp</th>\n      <th>liquidityPoolDailySnapshots_blockNumber</th>\n      <th>liquidityPoolDailySnapshots_totalValueLockedUSD</th>\n      <th>liquidityPoolDailySnapshots_cumulativeSupplySideRevenueUSD</th>\n      <th>liquidityPoolDailySnapshots_dailySupplySideRevenueUSD</th>\n      <th>liquidityPoolDailySnapshots_cumulativeProtocolSideRevenueUSD</th>\n      <th>liquidityPoolDailySnapshots_dailyProtocolSideRevenueUSD</th>\n      <th>liquidityPoolDailySnapshots_cumulativeTotalRevenueUSD</th>\n      <th>liquidityPoolDailySnapshots_dailyTotalRevenueUSD</th>\n      <th>...</th>\n      <th>liquidityPoolDailySnapshots_pool_name</th>\n      <th>liquidityPoolDailySnapshots_pool_symbol</th>\n      <th>liquidityPoolDailySnapshots_pool_outputToken_id</th>\n      <th>liquidityPoolDailySnapshots_pool_outputToken_name</th>\n      <th>liquidityPoolDailySnapshots_pool_outputToken_symbol</th>\n      <th>liquidityPoolDailySnapshots_pool_outputToken_decimals</th>\n      <th>liquidityPoolDailySnapshots_pool_outputToken_lastPriceUSD</th>\n      <th>liquidityPoolDailySnapshots_pool_outputToken_lastPriceBlockNumber</th>\n      <th>dateTime</th>\n      <th>dex</th>\n    </tr>\n  </thead>\n  <tbody>\n    <tr>\n      <th>0</th>\n      <td>0xcf7e21b96a7dae8e1663b5a266fd812cbe973e70-19408</td>\n      <td>1676911247</td>\n      <td>16671006</td>\n      <td>109387.588406</td>\n      <td>2.366634e+06</td>\n      <td>0.248477</td>\n      <td>0.0</td>\n      <td>0.0</td>\n      <td>2.366634e+06</td>\n      <td>0.248477</td>\n      <td>...</td>\n      <td>Uniswap V3 Governance OHM/Wrapped Ether 1%</td>\n      <td>Governance OHM/Wrapped Ether</td>\n      <td>NaN</td>\n      <td>NaN</td>\n      <td>NaN</td>\n      <td>NaN</td>\n      <td>NaN</td>\n      <td>NaN</td>\n      <td>2023-02-20 16:40:47</td>\n      <td>Uniswap</td>\n    </tr>\n    <tr>\n      <th>1</th>\n      <td>0xcf7e21b96a7dae8e1663b5a266fd812cbe973e70-19405</td>\n      <td>1676660879</td>\n      <td>16650398</td>\n      <td>109293.596248</td>\n      <td>2.366634e+06</td>\n      <td>21.683341</td>\n      <td>0.0</td>\n      <td>0.0</td>\n      <td>2.366634e+06</td>\n      <td>21.683341</td>\n      <td>...</td>\n      <td>Uniswap V3 Governance OHM/Wrapped Ether 1%</td>\n      <td>Governance OHM/Wrapped Ether</td>\n      <td>NaN</td>\n      <td>NaN</td>\n      <td>NaN</td>\n      <td>NaN</td>\n      <td>NaN</td>\n      <td>NaN</td>\n      <td>2023-02-17 19:07:59</td>\n      <td>Uniswap</td>\n    </tr>\n    <tr>\n      <th>2</th>\n      <td>0xcf7e21b96a7dae8e1663b5a266fd812cbe973e70-19404</td>\n      <td>1676570315</td>\n      <td>16642933</td>\n      <td>113144.385478</td>\n      <td>2.366612e+06</td>\n      <td>29.756356</td>\n      <td>0.0</td>\n      <td>0.0</td>\n      <td>2.366612e+06</td>\n      <td>29.756356</td>\n      <td>...</td>\n      <td>Uniswap V3 Governance OHM/Wrapped Ether 1%</td>\n      <td>Governance OHM/Wrapped Ether</td>\n      <td>NaN</td>\n      <td>NaN</td>\n      <td>NaN</td>\n      <td>NaN</td>\n      <td>NaN</td>\n      <td>NaN</td>\n      <td>2023-02-16 17:58:35</td>\n      <td>Uniswap</td>\n    </tr>\n    <tr>\n      <th>3</th>\n      <td>0xcf7e21b96a7dae8e1663b5a266fd812cbe973e70-19403</td>\n      <td>1676504723</td>\n      <td>16637501</td>\n      <td>112868.320631</td>\n      <td>2.366582e+06</td>\n      <td>27.951793</td>\n      <td>0.0</td>\n      <td>0.0</td>\n      <td>2.366582e+06</td>\n      <td>27.951793</td>\n      <td>...</td>\n      <td>Uniswap V3 Governance OHM/Wrapped Ether 1%</td>\n      <td>Governance OHM/Wrapped Ether</td>\n      <td>NaN</td>\n      <td>NaN</td>\n      <td>NaN</td>\n      <td>NaN</td>\n      <td>NaN</td>\n      <td>NaN</td>\n      <td>2023-02-15 23:45:23</td>\n      <td>Uniswap</td>\n    </tr>\n    <tr>\n      <th>4</th>\n      <td>0xcf7e21b96a7dae8e1663b5a266fd812cbe973e70-19402</td>\n      <td>1676415647</td>\n      <td>16630127</td>\n      <td>107842.109538</td>\n      <td>2.366554e+06</td>\n      <td>4.418073</td>\n      <td>0.0</td>\n      <td>0.0</td>\n      <td>2.366554e+06</td>\n      <td>4.418073</td>\n      <td>...</td>\n      <td>Uniswap V3 Governance OHM/Wrapped Ether 1%</td>\n      <td>Governance OHM/Wrapped Ether</td>\n      <td>NaN</td>\n      <td>NaN</td>\n      <td>NaN</td>\n      <td>NaN</td>\n      <td>NaN</td>\n      <td>NaN</td>\n      <td>2023-02-14 23:00:47</td>\n      <td>Uniswap</td>\n    </tr>\n    <tr>\n      <th>5</th>\n      <td>0xcf7e21b96a7dae8e1663b5a266fd812cbe973e70-19401</td>\n      <td>1676311523</td>\n      <td>16621508</td>\n      <td>102745.988657</td>\n      <td>2.366550e+06</td>\n      <td>28.471476</td>\n      <td>0.0</td>\n      <td>0.0</td>\n      <td>2.366550e+06</td>\n      <td>28.471476</td>\n      <td>...</td>\n      <td>Uniswap V3 Governance OHM/Wrapped Ether 1%</td>\n      <td>Governance OHM/Wrapped Ether</td>\n      <td>NaN</td>\n      <td>NaN</td>\n      <td>NaN</td>\n      <td>NaN</td>\n      <td>NaN</td>\n      <td>NaN</td>\n      <td>2023-02-13 18:05:23</td>\n      <td>Uniswap</td>\n    </tr>\n    <tr>\n      <th>6</th>\n      <td>0xcf7e21b96a7dae8e1663b5a266fd812cbe973e70-19400</td>\n      <td>1676240195</td>\n      <td>16615601</td>\n      <td>101558.717390</td>\n      <td>2.366521e+06</td>\n      <td>14.996381</td>\n      <td>0.0</td>\n      <td>0.0</td>\n      <td>2.366521e+06</td>\n      <td>14.996381</td>\n      <td>...</td>\n      <td>Uniswap V3 Governance OHM/Wrapped Ether 1%</td>\n      <td>Governance OHM/Wrapped Ether</td>\n      <td>NaN</td>\n      <td>NaN</td>\n      <td>NaN</td>\n      <td>NaN</td>\n      <td>NaN</td>\n      <td>NaN</td>\n      <td>2023-02-12 22:16:35</td>\n      <td>Uniswap</td>\n    </tr>\n    <tr>\n      <th>7</th>\n      <td>0xcf7e21b96a7dae8e1663b5a266fd812cbe973e70-19399</td>\n      <td>1676146655</td>\n      <td>16607854</td>\n      <td>101044.935520</td>\n      <td>2.366506e+06</td>\n      <td>1.791294</td>\n      <td>0.0</td>\n      <td>0.0</td>\n      <td>2.366506e+06</td>\n      <td>1.791294</td>\n      <td>...</td>\n      <td>Uniswap V3 Governance OHM/Wrapped Ether 1%</td>\n      <td>Governance OHM/Wrapped Ether</td>\n      <td>NaN</td>\n      <td>NaN</td>\n      <td>NaN</td>\n      <td>NaN</td>\n      <td>NaN</td>\n      <td>NaN</td>\n      <td>2023-02-11 20:17:35</td>\n      <td>Uniswap</td>\n    </tr>\n    <tr>\n      <th>8</th>\n      <td>0xcf7e21b96a7dae8e1663b5a266fd812cbe973e70-19398</td>\n      <td>1676044415</td>\n      <td>16599377</td>\n      <td>101050.822764</td>\n      <td>2.366505e+06</td>\n      <td>12.770572</td>\n      <td>0.0</td>\n      <td>0.0</td>\n      <td>2.366505e+06</td>\n      <td>12.770572</td>\n      <td>...</td>\n      <td>Uniswap V3 Governance OHM/Wrapped Ether 1%</td>\n      <td>Governance OHM/Wrapped Ether</td>\n      <td>NaN</td>\n      <td>NaN</td>\n      <td>NaN</td>\n      <td>NaN</td>\n      <td>NaN</td>\n      <td>NaN</td>\n      <td>2023-02-10 15:53:35</td>\n      <td>Uniswap</td>\n    </tr>\n    <tr>\n      <th>9</th>\n      <td>0xcf7e21b96a7dae8e1663b5a266fd812cbe973e70-19397</td>\n      <td>1675982579</td>\n      <td>16594247</td>\n      <td>101859.796353</td>\n      <td>2.366492e+06</td>\n      <td>45.475507</td>\n      <td>0.0</td>\n      <td>0.0</td>\n      <td>2.366492e+06</td>\n      <td>45.475507</td>\n      <td>...</td>\n      <td>Uniswap V3 Governance OHM/Wrapped Ether 1%</td>\n      <td>Governance OHM/Wrapped Ether</td>\n      <td>NaN</td>\n      <td>NaN</td>\n      <td>NaN</td>\n      <td>NaN</td>\n      <td>NaN</td>\n      <td>NaN</td>\n      <td>2023-02-09 22:42:59</td>\n      <td>Uniswap</td>\n    </tr>\n  </tbody>\n</table>\n<p>10 rows × 25 columns</p>\n</div>"
     },
     "execution_count": 6,
     "metadata": {},
     "output_type": "execute_result"
    }
   ],
   "source": [
    "##UNISWAP POOLS\n",
    "uniswap = sg.load_api('https://gateway.thegraph.com/api/'+apiKey+'/subgraphs/id/ELUcwgpm14LKPLrBRuVvPvNKHQ9HvwmtKgKSH6123cr7')\n",
    "listLength=1000\n",
    "trigger=0\n",
    "pool_list = pd.DataFrame()\n",
    "\n",
    "pools7 = uniswap.Query.liquidityPoolDailySnapshots(\n",
    "        orderBy='id',\n",
    "        orderDirection='desc',\n",
    "        first=1000,\n",
    "        where={ 'pool_in': ['0x88051b0eea095007d3bef21ab287be961f3d8598','0xc987d503a9f78f6d1d782c1fff5af4cb34437e3f','0x08f68110f1e0ca67c80a24b4bd206675610f445d','0xeac758487f4868952ac9bf5b5eb885bcf462aa67','0xcf7e21b96a7dae8e1663b5a266fd812cbe973e70','0x1ba81d6cec9eb0e2f9fff78b9379bedc04150461'] }\n",
    "\n",
    "    )\n",
    "\n",
    "pool_data7 = sg.query_df([\n",
    "     pools7.id\n",
    "    ,pools7.timestamp\n",
    "    ,pools7.blockNumber\n",
    "    ,pools7.totalValueLockedUSD\n",
    "    ,pools7.cumulativeSupplySideRevenueUSD\n",
    "    ,pools7.dailySupplySideRevenueUSD\n",
    "    ,pools7.cumulativeProtocolSideRevenueUSD\n",
    "    ,pools7.dailyProtocolSideRevenueUSD\n",
    "    ,pools7.cumulativeTotalRevenueUSD\n",
    "    ,pools7.dailyTotalRevenueUSD\n",
    "    ,pools7.dailyVolumeUSD\n",
    "    ,pools7.cumulativeVolumeUSD\n",
    "    ,pools7.outputTokenSupply\n",
    "    ,pools7.outputTokenPriceUSD\n",
    "    ,pools7.stakedOutputTokenAmount\n",
    "    ,pools7.pool.name\n",
    "    ,pools7.pool.symbol\n",
    "    ,pools7.pool.outputToken\n",
    "])\n",
    "\n",
    "pool_list = db.query(\"select \"\n",
    "               \"    * \"\n",
    "                    \" ,to_timestamp(liquidityPoolDailySnapshots_timestamp) dateTime\"\n",
    "                     \",'Uniswap' as dex \"\n",
    "               \"From pool_data7 \"\n",
    "               #\"where lower(liquidityPools_name) like lower('%olympus%') \"\n",
    "                #    \"or lower(pairs_token1_symbol) like lower('%OHM%')  \"\n",
    "               #\" limit 100 \"\n",
    "               ).df()\n",
    "ticker = 1\n",
    "\n",
    "listLength = len(pool_list)\n",
    "pool_list_length = len(pool_list)\n",
    "print('first pull: '+ str(pool_list_length) )\n",
    "uniswap_pool_datadb = pool_list\n",
    "\n",
    "\n",
    "while listLength>999:\n",
    "    #listLength=0\n",
    "    skipValue = (ticker)*(1000)\n",
    "    pools7 = uniswap.Query.liquidityPoolDailySnapshots(\n",
    "        orderBy='id',\n",
    "        orderDirection='desc',\n",
    "        skip =(skipValue),\n",
    "        first=1000,\n",
    "        where={ 'pool_in': ['0x88051b0eea095007d3bef21ab287be961f3d8598','0xc987d503a9f78f6d1d782c1fff5af4cb34437e3f','0x08f68110f1e0ca67c80a24b4bd206675610f445d','0xeac758487f4868952ac9bf5b5eb885bcf462aa67','0xcf7e21b96a7dae8e1663b5a266fd812cbe973e70','0x1ba81d6cec9eb0e2f9fff78b9379bedc04150461'] }\n",
    "        )\n",
    "\n",
    "\n",
    "    pool_data7 = sg.query_df([\n",
    "         pools7.id\n",
    "        ,pools7.timestamp\n",
    "        ,pools7.blockNumber\n",
    "        ,pools7.totalValueLockedUSD\n",
    "        ,pools7.cumulativeSupplySideRevenueUSD\n",
    "        ,pools7.dailySupplySideRevenueUSD\n",
    "        ,pools7.cumulativeProtocolSideRevenueUSD\n",
    "        ,pools7.dailyProtocolSideRevenueUSD\n",
    "        ,pools7.cumulativeTotalRevenueUSD\n",
    "        ,pools7.dailyTotalRevenueUSD\n",
    "        ,pools7.dailyVolumeUSD\n",
    "        ,pools7.cumulativeVolumeUSD\n",
    "        ,pools7.outputTokenSupply\n",
    "        ,pools7.outputTokenPriceUSD\n",
    "        ,pools7.stakedOutputTokenAmount\n",
    "        ,pools7.pool.name\n",
    "        ,pools7.pool.symbol\n",
    "        ,pools7.pool.outputToken\n",
    "    ])\n",
    "\n",
    "    uniswap_pool_datadb = db.query(\"select \"\n",
    "                   \"    * \"\n",
    "                        \" ,to_timestamp(liquidityPoolDailySnapshots_timestamp) dateTime\"\n",
    "                         \",'Uniswap' as dex \"\n",
    "                   \"From pool_data7 \"\n",
    "                   #\"where lower(liquidityPools_name) like lower('%olympus%') \"\n",
    "                    #    \"or lower(pairs_token1_symbol) like lower('%OHM%')  \"\n",
    "                   #\" limit 100 \"\n",
    "                   ).df()\n",
    "\n",
    "    pool_list=pd.concat([pool_list, uniswap_pool_datadb])\n",
    "    recordTimestamp = pool_list.iat[ticker,1]\n",
    "    ticker = ticker+1\n",
    "    pool_list_length = len(pool_list)\n",
    "    listLength = len(uniswap_pool_datadb)\n",
    "    value1 = pool_list.iat[ticker,23]\n",
    "    uniswap_pool_datadb = pool_list\n",
    "\n",
    "print(\"ticker: \", ticker,\" - records collected: \", listLength, \" - token: \",value1 , \" - pool list length: \", pool_list_length, \" - record from: \", recordTimestamp)\n",
    "uniswap_pool_datadb.head(10)"
   ],
   "metadata": {
    "collapsed": false
   }
  },
  {
   "cell_type": "code",
   "execution_count": 4,
   "outputs": [
    {
     "ename": "NameError",
     "evalue": "name 'value1' is not defined",
     "output_type": "error",
     "traceback": [
      "\u001B[1;31m---------------------------------------------------------------------------\u001B[0m",
      "\u001B[1;31mNameError\u001B[0m                                 Traceback (most recent call last)",
      "Input \u001B[1;32mIn [4]\u001B[0m, in \u001B[0;36m<cell line: 102>\u001B[1;34m()\u001B[0m\n\u001B[0;32m     99\u001B[0m     \u001B[38;5;66;03m#pool_datadb7 = pd.DataFrame(None)\u001B[39;00m\n\u001B[0;32m    100\u001B[0m     curve_pool_datadb \u001B[38;5;241m=\u001B[39m pool_list\n\u001B[1;32m--> 102\u001B[0m \u001B[38;5;28mprint\u001B[39m(\u001B[38;5;124m\"\u001B[39m\u001B[38;5;124mticker: \u001B[39m\u001B[38;5;124m\"\u001B[39m, ticker,\u001B[38;5;124m\"\u001B[39m\u001B[38;5;124m - records collected: \u001B[39m\u001B[38;5;124m\"\u001B[39m, listLength, \u001B[38;5;124m\"\u001B[39m\u001B[38;5;124m - token: \u001B[39m\u001B[38;5;124m\"\u001B[39m,\u001B[43mvalue1\u001B[49m , \u001B[38;5;124m\"\u001B[39m\u001B[38;5;124m - pool list length: \u001B[39m\u001B[38;5;124m\"\u001B[39m, pool_list_length, \u001B[38;5;124m\"\u001B[39m\u001B[38;5;124m - record from: \u001B[39m\u001B[38;5;124m\"\u001B[39m, recordTimestamp)\n",
      "\u001B[1;31mNameError\u001B[0m: name 'value1' is not defined"
     ]
    }
   ],
   "source": [
    "##CURVE POOLS\n",
    "curve = sg.load_api('https://gateway.thegraph.com/api/'+apiKey+'/subgraphs/id/GAGwGKc4ArNKKq9eFTcwgd1UGymvqhTier9Npqo1YvZB')\n",
    "listLength=1000\n",
    "trigger=0\n",
    "pool_list = pd.DataFrame()\n",
    "\n",
    "\n",
    "pools7 = curve.Query.liquidityPoolDailySnapshots(\n",
    "        orderBy='id',\n",
    "        orderDirection='desc',\n",
    "        first=1000,\n",
    "        where={ 'pool_in': ['0xfc1e8bf3e81383ef07be24c3fd146745719de48d','0x6ec38b3228251a0c5d491faf66858e2e23d7728b'] }\n",
    "    )\n",
    "\n",
    "pool_data7 = sg.query_df([\n",
    "     pools7.id\n",
    "    ,pools7.timestamp\n",
    "    ,pools7.blockNumber\n",
    "    ,pools7.totalValueLockedUSD\n",
    "    ,pools7.cumulativeSupplySideRevenueUSD\n",
    "    ,pools7.dailySupplySideRevenueUSD\n",
    "    ,pools7.cumulativeProtocolSideRevenueUSD\n",
    "    ,pools7.dailyProtocolSideRevenueUSD\n",
    "    ,pools7.cumulativeTotalRevenueUSD\n",
    "    ,pools7.dailyTotalRevenueUSD\n",
    "    ,pools7.dailyVolumeUSD\n",
    "    ,pools7.cumulativeVolumeUSD\n",
    "    ,pools7.outputTokenSupply\n",
    "    ,pools7.outputTokenPriceUSD\n",
    "    ,pools7.stakedOutputTokenAmount\n",
    "    ,pools7.pool.name\n",
    "    ,pools7.pool.symbol\n",
    "    ,pools7.pool.outputToken\n",
    "])\n",
    "\n",
    "pool_list = db.query(\"select \"\n",
    "               \"    * \"\n",
    "                    \" ,to_timestamp(liquidityPoolDailySnapshots_timestamp) dateTime\"\n",
    "                     \",'Curve' as dex \"\n",
    "               \"From pool_data7 \"\n",
    "               #\"where lower(liquidityPools_name) like lower('%olympus%') \"\n",
    "                #    \"or lower(pairs_token1_symbol) like lower('%OHM%')  \"\n",
    "               #\" limit 100 \"\n",
    "               ).df()\n",
    "ticker = 1\n",
    "listLength = len(pool_list)\n",
    "pool_list_length = len(pool_list)\n",
    "curve_pool_datadb = pool_list\n",
    "\n",
    "while listLength>999:\n",
    "    #listLength=0\n",
    "    skipValue = (ticker)*(1000)\n",
    "    pools7 = curve.Query.liquidityPoolDailySnapshots(\n",
    "        orderBy='id',\n",
    "        orderDirection='desc',\n",
    "        skip =(skipValue),\n",
    "        first=1000,\n",
    "        where={ 'pool_in': ['0xfc1e8bf3e81383ef07be24c3fd146745719de48d','0x6ec38b3228251a0c5d491faf66858e2e23d7728b'] }\n",
    "    )\n",
    "\n",
    "    pool_data7 = sg.query_df([\n",
    "         pools7.id\n",
    "        ,pools7.timestamp\n",
    "        ,pools7.blockNumber\n",
    "        ,pools7.totalValueLockedUSD\n",
    "        ,pools7.cumulativeSupplySideRevenueUSD\n",
    "        ,pools7.dailySupplySideRevenueUSD\n",
    "        ,pools7.cumulativeProtocolSideRevenueUSD\n",
    "        ,pools7.dailyProtocolSideRevenueUSD\n",
    "        ,pools7.cumulativeTotalRevenueUSD\n",
    "        ,pools7.dailyTotalRevenueUSD\n",
    "        ,pools7.dailyVolumeUSD\n",
    "        ,pools7.cumulativeVolumeUSD\n",
    "        ,pools7.outputTokenSupply\n",
    "        ,pools7.outputTokenPriceUSD\n",
    "        ,pools7.stakedOutputTokenAmount\n",
    "        ,pools7.pool.name\n",
    "        ,pools7.pool.symbol\n",
    "        ,pools7.pool.outputToken\n",
    "    ])\n",
    "\n",
    "\n",
    "\n",
    "    pool_list=pd.concat([pool_list, curve_pool_datadb])\n",
    "    recordTimestamp = pool_list.iat[ticker,1]\n",
    "    ticker = ticker+1\n",
    "    curve_pool_datadb = db.query(\"select \"\n",
    "                   \"    * \"\n",
    "                        \" ,to_timestamp(liquidityPoolDailySnapshots_timestamp) dateTime\"\n",
    "                         \",'Curve' as dex \"\n",
    "                   \"From pool_data7 \"\n",
    "                   #\"where lower(liquidityPools_name) like lower('%olympus%') \"\n",
    "                    #    \"or lower(pairs_token1_symbol) like lower('%OHM%')  \"\n",
    "                   #\" limit 100 \"\n",
    "                   ).df()\n",
    "    pool_list_length = len(pool_list)\n",
    "    listLength = len(curve_pool_datadb)\n",
    "    value1 = pool_list.iat[ticker,23]\n",
    "    #pool_datadb7 = pd.DataFrame(None)\n",
    "    curve_pool_datadb = pool_list\n",
    "\n",
    "print(\"ticker: \", ticker,\" - records collected: \", listLength, \" - token: \",value1 , \" - pool list length: \", pool_list_length, \" - record from: \", recordTimestamp)"
   ],
   "metadata": {
    "collapsed": false
   }
  },
  {
   "cell_type": "code",
   "execution_count": 9,
   "outputs": [
    {
     "data": {
      "text/plain": "                     liquidityPoolDailySnapshots_id  \\\n0  0xfffae4a0f4ac251f4705717cd24cadccc9f33e06-19406   \n1  0xfffae4a0f4ac251f4705717cd24cadccc9f33e06-19405   \n2  0xfffae4a0f4ac251f4705717cd24cadccc9f33e06-19404   \n3  0xfffae4a0f4ac251f4705717cd24cadccc9f33e06-19403   \n4  0xfffae4a0f4ac251f4705717cd24cadccc9f33e06-19402   \n\n   liquidityPoolDailySnapshots_timestamp  \\\n0                             1676764715   \n1                             1676608427   \n2                             1676579147   \n3                             1676494067   \n4                             1676359463   \n\n   liquidityPoolDailySnapshots_blockNumber  \\\n0                                 16658931   \n1                                 16646089   \n2                                 16643666   \n3                                 16636619   \n4                                 16625484   \n\n   liquidityPoolDailySnapshots_totalValueLockedUSD  \\\n0                                     19703.020825   \n1                                     19131.879946   \n2                                     19759.451421   \n3                                     19569.140970   \n4                                     17834.607250   \n\n   liquidityPoolDailySnapshots_cumulativeSupplySideRevenueUSD  \\\n0                                       3.908983e+06            \n1                                       3.908974e+06            \n2                                       3.908964e+06            \n3                                       3.908963e+06            \n4                                       3.908962e+06            \n\n   liquidityPoolDailySnapshots_dailySupplySideRevenueUSD  \\\n0                                           9.283523       \n1                                          10.562457       \n2                                           0.012730       \n3                                           1.202852       \n4                                           0.025166       \n\n   liquidityPoolDailySnapshots_cumulativeProtocolSideRevenueUSD  \\\n0                                      781796.669355              \n1                                      781794.812651              \n2                                      781792.700159              \n3                                      781792.697613              \n4                                      781792.457043              \n\n   liquidityPoolDailySnapshots_dailyProtocolSideRevenueUSD  \\\n0                                           1.856705         \n1                                           2.112491         \n2                                           0.002546         \n3                                           0.240570         \n4                                           0.005033         \n\n   liquidityPoolDailySnapshots_cumulativeTotalRevenueUSD  \\\n0                                       4.690780e+06       \n1                                       4.690769e+06       \n2                                       4.690756e+06       \n3                                       4.690756e+06       \n4                                       4.690755e+06       \n\n   liquidityPoolDailySnapshots_dailyTotalRevenueUSD  ...  \\\n0                                         11.140227  ...   \n1                                         12.674948  ...   \n2                                          0.015276  ...   \n3                                          1.443423  ...   \n4                                          0.030199  ...   \n\n   liquidityPoolDailySnapshots_pool_name  \\\n0        SushiSwap Olympus/Wrapped Ether   \n1        SushiSwap Olympus/Wrapped Ether   \n2        SushiSwap Olympus/Wrapped Ether   \n3        SushiSwap Olympus/Wrapped Ether   \n4        SushiSwap Olympus/Wrapped Ether   \n\n   liquidityPoolDailySnapshots_pool_symbol  \\\n0                    Olympus/Wrapped Ether   \n1                    Olympus/Wrapped Ether   \n2                    Olympus/Wrapped Ether   \n3                    Olympus/Wrapped Ether   \n4                    Olympus/Wrapped Ether   \n\n  liquidityPoolDailySnapshots_pool_outputToken_id  \\\n0      0xfffae4a0f4ac251f4705717cd24cadccc9f33e06   \n1      0xfffae4a0f4ac251f4705717cd24cadccc9f33e06   \n2      0xfffae4a0f4ac251f4705717cd24cadccc9f33e06   \n3      0xfffae4a0f4ac251f4705717cd24cadccc9f33e06   \n4      0xfffae4a0f4ac251f4705717cd24cadccc9f33e06   \n\n   liquidityPoolDailySnapshots_pool_outputToken_name  \\\n0                           Olympus/Wrapped Ether LP   \n1                           Olympus/Wrapped Ether LP   \n2                           Olympus/Wrapped Ether LP   \n3                           Olympus/Wrapped Ether LP   \n4                           Olympus/Wrapped Ether LP   \n\n   liquidityPoolDailySnapshots_pool_outputToken_symbol  \\\n0                              Olympus/Wrapped Ether     \n1                              Olympus/Wrapped Ether     \n2                              Olympus/Wrapped Ether     \n3                              Olympus/Wrapped Ether     \n4                              Olympus/Wrapped Ether     \n\n  liquidityPoolDailySnapshots_pool_outputToken_decimals  \\\n0                                                 18      \n1                                                 18      \n2                                                 18      \n3                                                 18      \n4                                                 18      \n\n  liquidityPoolDailySnapshots_pool_outputToken_lastPriceUSD  \\\n0                                                0.0          \n1                                                0.0          \n2                                                0.0          \n3                                                0.0          \n4                                                0.0          \n\n  liquidityPoolDailySnapshots_pool_outputToken_lastPriceBlockNumber  \\\n0                                                  0                  \n1                                                  0                  \n2                                                  0                  \n3                                                  0                  \n4                                                  0                  \n\n             dateTime    dex  \n0 2023-02-18 23:58:35  Sushi  \n1 2023-02-17 04:33:47  Sushi  \n2 2023-02-16 20:25:47  Sushi  \n3 2023-02-15 20:47:47  Sushi  \n4 2023-02-14 07:24:23  Sushi  \n\n[5 rows x 25 columns]",
      "text/html": "<div>\n<style scoped>\n    .dataframe tbody tr th:only-of-type {\n        vertical-align: middle;\n    }\n\n    .dataframe tbody tr th {\n        vertical-align: top;\n    }\n\n    .dataframe thead th {\n        text-align: right;\n    }\n</style>\n<table border=\"1\" class=\"dataframe\">\n  <thead>\n    <tr style=\"text-align: right;\">\n      <th></th>\n      <th>liquidityPoolDailySnapshots_id</th>\n      <th>liquidityPoolDailySnapshots_timestamp</th>\n      <th>liquidityPoolDailySnapshots_blockNumber</th>\n      <th>liquidityPoolDailySnapshots_totalValueLockedUSD</th>\n      <th>liquidityPoolDailySnapshots_cumulativeSupplySideRevenueUSD</th>\n      <th>liquidityPoolDailySnapshots_dailySupplySideRevenueUSD</th>\n      <th>liquidityPoolDailySnapshots_cumulativeProtocolSideRevenueUSD</th>\n      <th>liquidityPoolDailySnapshots_dailyProtocolSideRevenueUSD</th>\n      <th>liquidityPoolDailySnapshots_cumulativeTotalRevenueUSD</th>\n      <th>liquidityPoolDailySnapshots_dailyTotalRevenueUSD</th>\n      <th>...</th>\n      <th>liquidityPoolDailySnapshots_pool_name</th>\n      <th>liquidityPoolDailySnapshots_pool_symbol</th>\n      <th>liquidityPoolDailySnapshots_pool_outputToken_id</th>\n      <th>liquidityPoolDailySnapshots_pool_outputToken_name</th>\n      <th>liquidityPoolDailySnapshots_pool_outputToken_symbol</th>\n      <th>liquidityPoolDailySnapshots_pool_outputToken_decimals</th>\n      <th>liquidityPoolDailySnapshots_pool_outputToken_lastPriceUSD</th>\n      <th>liquidityPoolDailySnapshots_pool_outputToken_lastPriceBlockNumber</th>\n      <th>dateTime</th>\n      <th>dex</th>\n    </tr>\n  </thead>\n  <tbody>\n    <tr>\n      <th>0</th>\n      <td>0xfffae4a0f4ac251f4705717cd24cadccc9f33e06-19406</td>\n      <td>1676764715</td>\n      <td>16658931</td>\n      <td>19703.020825</td>\n      <td>3.908983e+06</td>\n      <td>9.283523</td>\n      <td>781796.669355</td>\n      <td>1.856705</td>\n      <td>4.690780e+06</td>\n      <td>11.140227</td>\n      <td>...</td>\n      <td>SushiSwap Olympus/Wrapped Ether</td>\n      <td>Olympus/Wrapped Ether</td>\n      <td>0xfffae4a0f4ac251f4705717cd24cadccc9f33e06</td>\n      <td>Olympus/Wrapped Ether LP</td>\n      <td>Olympus/Wrapped Ether</td>\n      <td>18</td>\n      <td>0.0</td>\n      <td>0</td>\n      <td>2023-02-18 23:58:35</td>\n      <td>Sushi</td>\n    </tr>\n    <tr>\n      <th>1</th>\n      <td>0xfffae4a0f4ac251f4705717cd24cadccc9f33e06-19405</td>\n      <td>1676608427</td>\n      <td>16646089</td>\n      <td>19131.879946</td>\n      <td>3.908974e+06</td>\n      <td>10.562457</td>\n      <td>781794.812651</td>\n      <td>2.112491</td>\n      <td>4.690769e+06</td>\n      <td>12.674948</td>\n      <td>...</td>\n      <td>SushiSwap Olympus/Wrapped Ether</td>\n      <td>Olympus/Wrapped Ether</td>\n      <td>0xfffae4a0f4ac251f4705717cd24cadccc9f33e06</td>\n      <td>Olympus/Wrapped Ether LP</td>\n      <td>Olympus/Wrapped Ether</td>\n      <td>18</td>\n      <td>0.0</td>\n      <td>0</td>\n      <td>2023-02-17 04:33:47</td>\n      <td>Sushi</td>\n    </tr>\n    <tr>\n      <th>2</th>\n      <td>0xfffae4a0f4ac251f4705717cd24cadccc9f33e06-19404</td>\n      <td>1676579147</td>\n      <td>16643666</td>\n      <td>19759.451421</td>\n      <td>3.908964e+06</td>\n      <td>0.012730</td>\n      <td>781792.700159</td>\n      <td>0.002546</td>\n      <td>4.690756e+06</td>\n      <td>0.015276</td>\n      <td>...</td>\n      <td>SushiSwap Olympus/Wrapped Ether</td>\n      <td>Olympus/Wrapped Ether</td>\n      <td>0xfffae4a0f4ac251f4705717cd24cadccc9f33e06</td>\n      <td>Olympus/Wrapped Ether LP</td>\n      <td>Olympus/Wrapped Ether</td>\n      <td>18</td>\n      <td>0.0</td>\n      <td>0</td>\n      <td>2023-02-16 20:25:47</td>\n      <td>Sushi</td>\n    </tr>\n    <tr>\n      <th>3</th>\n      <td>0xfffae4a0f4ac251f4705717cd24cadccc9f33e06-19403</td>\n      <td>1676494067</td>\n      <td>16636619</td>\n      <td>19569.140970</td>\n      <td>3.908963e+06</td>\n      <td>1.202852</td>\n      <td>781792.697613</td>\n      <td>0.240570</td>\n      <td>4.690756e+06</td>\n      <td>1.443423</td>\n      <td>...</td>\n      <td>SushiSwap Olympus/Wrapped Ether</td>\n      <td>Olympus/Wrapped Ether</td>\n      <td>0xfffae4a0f4ac251f4705717cd24cadccc9f33e06</td>\n      <td>Olympus/Wrapped Ether LP</td>\n      <td>Olympus/Wrapped Ether</td>\n      <td>18</td>\n      <td>0.0</td>\n      <td>0</td>\n      <td>2023-02-15 20:47:47</td>\n      <td>Sushi</td>\n    </tr>\n    <tr>\n      <th>4</th>\n      <td>0xfffae4a0f4ac251f4705717cd24cadccc9f33e06-19402</td>\n      <td>1676359463</td>\n      <td>16625484</td>\n      <td>17834.607250</td>\n      <td>3.908962e+06</td>\n      <td>0.025166</td>\n      <td>781792.457043</td>\n      <td>0.005033</td>\n      <td>4.690755e+06</td>\n      <td>0.030199</td>\n      <td>...</td>\n      <td>SushiSwap Olympus/Wrapped Ether</td>\n      <td>Olympus/Wrapped Ether</td>\n      <td>0xfffae4a0f4ac251f4705717cd24cadccc9f33e06</td>\n      <td>Olympus/Wrapped Ether LP</td>\n      <td>Olympus/Wrapped Ether</td>\n      <td>18</td>\n      <td>0.0</td>\n      <td>0</td>\n      <td>2023-02-14 07:24:23</td>\n      <td>Sushi</td>\n    </tr>\n  </tbody>\n</table>\n<p>5 rows × 25 columns</p>\n</div>"
     },
     "execution_count": 9,
     "metadata": {},
     "output_type": "execute_result"
    }
   ],
   "source": [
    "sushi_pool_datadb.head(5)"
   ],
   "metadata": {
    "collapsed": false
   }
  },
  {
   "cell_type": "code",
   "execution_count": 10,
   "outputs": [
    {
     "name": "stdout",
     "output_type": "stream",
     "text": [
      "1072\n"
     ]
    }
   ],
   "source": [
    "print(len(sushi_pool_datadb))"
   ],
   "metadata": {
    "collapsed": false
   }
  },
  {
   "cell_type": "code",
   "execution_count": 11,
   "outputs": [
    {
     "data": {
      "text/plain": "                     liquidityPoolDailySnapshots_id  \\\n0  0xfb46bc8fc0d06421d362a31b7230f39462efa79a-19407   \n1  0xfb46bc8fc0d06421d362a31b7230f39462efa79a-19402   \n2  0xfb46bc8fc0d06421d362a31b7230f39462efa79a-19401   \n3  0xfb46bc8fc0d06421d362a31b7230f39462efa79a-19400   \n4  0xfb46bc8fc0d06421d362a31b7230f39462efa79a-19399   \n\n   liquidityPoolDailySnapshots_timestamp  \\\n0                             1676832791   \n1                             1676375651   \n2                             1676311547   \n3                             1676242175   \n4                             1676116211   \n\n   liquidityPoolDailySnapshots_blockNumber  \\\n0                                 16664538   \n1                                 16626817   \n2                                 16621510   \n3                                 16615765   \n4                                 16605329   \n\n   liquidityPoolDailySnapshots_totalValueLockedUSD  \\\n0                                      5618.244121   \n1                                      4817.281048   \n2                                      3914.497277   \n3                                      4174.803471   \n4                                      4370.304571   \n\n   liquidityPoolDailySnapshots_cumulativeSupplySideRevenueUSD  \\\n0                                         138.115669            \n1                                         136.505232            \n2                                         134.141580            \n3                                         133.616335            \n4                                         132.858847            \n\n   liquidityPoolDailySnapshots_dailySupplySideRevenueUSD  \\\n0                                           1.610437       \n1                                           2.363653       \n2                                           0.525245       \n3                                           0.757487       \n4                                           2.596551       \n\n   liquidityPoolDailySnapshots_cumulativeProtocolSideRevenueUSD  \\\n0                                         138.115669              \n1                                         136.505232              \n2                                         134.141580              \n3                                         133.616335              \n4                                         132.858847              \n\n   liquidityPoolDailySnapshots_dailyProtocolSideRevenueUSD  \\\n0                                           1.610437         \n1                                           2.363653         \n2                                           0.525245         \n3                                           0.757487         \n4                                           2.596551         \n\n   liquidityPoolDailySnapshots_cumulativeTotalRevenueUSD  \\\n0                                         276.231338       \n1                                         273.010465       \n2                                         268.283159       \n3                                         267.232670       \n4                                         265.717695       \n\n   liquidityPoolDailySnapshots_dailyTotalRevenueUSD  ...  \\\n0                                          3.220873  ...   \n1                                          4.727306  ...   \n2                                          1.050489  ...   \n3                                          1.514975  ...   \n4                                          5.193103  ...   \n\n   liquidityPoolDailySnapshots_pool_name  \\\n0                            20OHM-80FDT   \n1                            20OHM-80FDT   \n2                            20OHM-80FDT   \n3                            20OHM-80FDT   \n4                            20OHM-80FDT   \n\n   liquidityPoolDailySnapshots_pool_symbol  \\\n0                              20OHM-80FDT   \n1                              20OHM-80FDT   \n2                              20OHM-80FDT   \n3                              20OHM-80FDT   \n4                              20OHM-80FDT   \n\n  liquidityPoolDailySnapshots_pool_outputToken_id  \\\n0      0xfb46bc8fc0d06421d362a31b7230f39462efa79a   \n1      0xfb46bc8fc0d06421d362a31b7230f39462efa79a   \n2      0xfb46bc8fc0d06421d362a31b7230f39462efa79a   \n3      0xfb46bc8fc0d06421d362a31b7230f39462efa79a   \n4      0xfb46bc8fc0d06421d362a31b7230f39462efa79a   \n\n   liquidityPoolDailySnapshots_pool_outputToken_name  \\\n0                                        20OHM-80FDT   \n1                                        20OHM-80FDT   \n2                                        20OHM-80FDT   \n3                                        20OHM-80FDT   \n4                                        20OHM-80FDT   \n\n   liquidityPoolDailySnapshots_pool_outputToken_symbol  \\\n0                                        20OHM-80FDT     \n1                                        20OHM-80FDT     \n2                                        20OHM-80FDT     \n3                                        20OHM-80FDT     \n4                                        20OHM-80FDT     \n\n  liquidityPoolDailySnapshots_pool_outputToken_decimals  \\\n0                                                 18      \n1                                                 18      \n2                                                 18      \n3                                                 18      \n4                                                 18      \n\n  liquidityPoolDailySnapshots_pool_outputToken_lastPriceUSD  \\\n0                                           0.004681          \n1                                           0.004681          \n2                                           0.004681          \n3                                           0.004681          \n4                                           0.004681          \n\n  liquidityPoolDailySnapshots_pool_outputToken_lastPriceBlockNumber  \\\n0                                           16658952                  \n1                                           16658952                  \n2                                           16658952                  \n3                                           16658952                  \n4                                           16658952                  \n\n             dateTime       dex  \n0 2023-02-19 18:53:11  Balancer  \n1 2023-02-14 11:54:11  Balancer  \n2 2023-02-13 18:05:47  Balancer  \n3 2023-02-12 22:49:35  Balancer  \n4 2023-02-11 11:50:11  Balancer  \n\n[5 rows x 25 columns]",
      "text/html": "<div>\n<style scoped>\n    .dataframe tbody tr th:only-of-type {\n        vertical-align: middle;\n    }\n\n    .dataframe tbody tr th {\n        vertical-align: top;\n    }\n\n    .dataframe thead th {\n        text-align: right;\n    }\n</style>\n<table border=\"1\" class=\"dataframe\">\n  <thead>\n    <tr style=\"text-align: right;\">\n      <th></th>\n      <th>liquidityPoolDailySnapshots_id</th>\n      <th>liquidityPoolDailySnapshots_timestamp</th>\n      <th>liquidityPoolDailySnapshots_blockNumber</th>\n      <th>liquidityPoolDailySnapshots_totalValueLockedUSD</th>\n      <th>liquidityPoolDailySnapshots_cumulativeSupplySideRevenueUSD</th>\n      <th>liquidityPoolDailySnapshots_dailySupplySideRevenueUSD</th>\n      <th>liquidityPoolDailySnapshots_cumulativeProtocolSideRevenueUSD</th>\n      <th>liquidityPoolDailySnapshots_dailyProtocolSideRevenueUSD</th>\n      <th>liquidityPoolDailySnapshots_cumulativeTotalRevenueUSD</th>\n      <th>liquidityPoolDailySnapshots_dailyTotalRevenueUSD</th>\n      <th>...</th>\n      <th>liquidityPoolDailySnapshots_pool_name</th>\n      <th>liquidityPoolDailySnapshots_pool_symbol</th>\n      <th>liquidityPoolDailySnapshots_pool_outputToken_id</th>\n      <th>liquidityPoolDailySnapshots_pool_outputToken_name</th>\n      <th>liquidityPoolDailySnapshots_pool_outputToken_symbol</th>\n      <th>liquidityPoolDailySnapshots_pool_outputToken_decimals</th>\n      <th>liquidityPoolDailySnapshots_pool_outputToken_lastPriceUSD</th>\n      <th>liquidityPoolDailySnapshots_pool_outputToken_lastPriceBlockNumber</th>\n      <th>dateTime</th>\n      <th>dex</th>\n    </tr>\n  </thead>\n  <tbody>\n    <tr>\n      <th>0</th>\n      <td>0xfb46bc8fc0d06421d362a31b7230f39462efa79a-19407</td>\n      <td>1676832791</td>\n      <td>16664538</td>\n      <td>5618.244121</td>\n      <td>138.115669</td>\n      <td>1.610437</td>\n      <td>138.115669</td>\n      <td>1.610437</td>\n      <td>276.231338</td>\n      <td>3.220873</td>\n      <td>...</td>\n      <td>20OHM-80FDT</td>\n      <td>20OHM-80FDT</td>\n      <td>0xfb46bc8fc0d06421d362a31b7230f39462efa79a</td>\n      <td>20OHM-80FDT</td>\n      <td>20OHM-80FDT</td>\n      <td>18</td>\n      <td>0.004681</td>\n      <td>16658952</td>\n      <td>2023-02-19 18:53:11</td>\n      <td>Balancer</td>\n    </tr>\n    <tr>\n      <th>1</th>\n      <td>0xfb46bc8fc0d06421d362a31b7230f39462efa79a-19402</td>\n      <td>1676375651</td>\n      <td>16626817</td>\n      <td>4817.281048</td>\n      <td>136.505232</td>\n      <td>2.363653</td>\n      <td>136.505232</td>\n      <td>2.363653</td>\n      <td>273.010465</td>\n      <td>4.727306</td>\n      <td>...</td>\n      <td>20OHM-80FDT</td>\n      <td>20OHM-80FDT</td>\n      <td>0xfb46bc8fc0d06421d362a31b7230f39462efa79a</td>\n      <td>20OHM-80FDT</td>\n      <td>20OHM-80FDT</td>\n      <td>18</td>\n      <td>0.004681</td>\n      <td>16658952</td>\n      <td>2023-02-14 11:54:11</td>\n      <td>Balancer</td>\n    </tr>\n    <tr>\n      <th>2</th>\n      <td>0xfb46bc8fc0d06421d362a31b7230f39462efa79a-19401</td>\n      <td>1676311547</td>\n      <td>16621510</td>\n      <td>3914.497277</td>\n      <td>134.141580</td>\n      <td>0.525245</td>\n      <td>134.141580</td>\n      <td>0.525245</td>\n      <td>268.283159</td>\n      <td>1.050489</td>\n      <td>...</td>\n      <td>20OHM-80FDT</td>\n      <td>20OHM-80FDT</td>\n      <td>0xfb46bc8fc0d06421d362a31b7230f39462efa79a</td>\n      <td>20OHM-80FDT</td>\n      <td>20OHM-80FDT</td>\n      <td>18</td>\n      <td>0.004681</td>\n      <td>16658952</td>\n      <td>2023-02-13 18:05:47</td>\n      <td>Balancer</td>\n    </tr>\n    <tr>\n      <th>3</th>\n      <td>0xfb46bc8fc0d06421d362a31b7230f39462efa79a-19400</td>\n      <td>1676242175</td>\n      <td>16615765</td>\n      <td>4174.803471</td>\n      <td>133.616335</td>\n      <td>0.757487</td>\n      <td>133.616335</td>\n      <td>0.757487</td>\n      <td>267.232670</td>\n      <td>1.514975</td>\n      <td>...</td>\n      <td>20OHM-80FDT</td>\n      <td>20OHM-80FDT</td>\n      <td>0xfb46bc8fc0d06421d362a31b7230f39462efa79a</td>\n      <td>20OHM-80FDT</td>\n      <td>20OHM-80FDT</td>\n      <td>18</td>\n      <td>0.004681</td>\n      <td>16658952</td>\n      <td>2023-02-12 22:49:35</td>\n      <td>Balancer</td>\n    </tr>\n    <tr>\n      <th>4</th>\n      <td>0xfb46bc8fc0d06421d362a31b7230f39462efa79a-19399</td>\n      <td>1676116211</td>\n      <td>16605329</td>\n      <td>4370.304571</td>\n      <td>132.858847</td>\n      <td>2.596551</td>\n      <td>132.858847</td>\n      <td>2.596551</td>\n      <td>265.717695</td>\n      <td>5.193103</td>\n      <td>...</td>\n      <td>20OHM-80FDT</td>\n      <td>20OHM-80FDT</td>\n      <td>0xfb46bc8fc0d06421d362a31b7230f39462efa79a</td>\n      <td>20OHM-80FDT</td>\n      <td>20OHM-80FDT</td>\n      <td>18</td>\n      <td>0.004681</td>\n      <td>16658952</td>\n      <td>2023-02-11 11:50:11</td>\n      <td>Balancer</td>\n    </tr>\n  </tbody>\n</table>\n<p>5 rows × 25 columns</p>\n</div>"
     },
     "execution_count": 11,
     "metadata": {},
     "output_type": "execute_result"
    }
   ],
   "source": [
    "balancer_pool_datadb.head(5)"
   ],
   "metadata": {
    "collapsed": false
   }
  },
  {
   "cell_type": "code",
   "execution_count": 12,
   "outputs": [
    {
     "name": "stdout",
     "output_type": "stream",
     "text": [
      "939\n"
     ]
    }
   ],
   "source": [
    "print(len(balancer_pool_datadb))"
   ],
   "metadata": {
    "collapsed": false
   }
  },
  {
   "cell_type": "code",
   "execution_count": 13,
   "outputs": [
    {
     "data": {
      "text/plain": "                     liquidityPoolDailySnapshots_id  \\\n0  0xcf7e21b96a7dae8e1663b5a266fd812cbe973e70-19408   \n1  0xcf7e21b96a7dae8e1663b5a266fd812cbe973e70-19405   \n2  0xcf7e21b96a7dae8e1663b5a266fd812cbe973e70-19404   \n3  0xcf7e21b96a7dae8e1663b5a266fd812cbe973e70-19403   \n4  0xcf7e21b96a7dae8e1663b5a266fd812cbe973e70-19402   \n\n   liquidityPoolDailySnapshots_timestamp  \\\n0                             1676911247   \n1                             1676660879   \n2                             1676570315   \n3                             1676504723   \n4                             1676415647   \n\n   liquidityPoolDailySnapshots_blockNumber  \\\n0                                 16671006   \n1                                 16650398   \n2                                 16642933   \n3                                 16637501   \n4                                 16630127   \n\n   liquidityPoolDailySnapshots_totalValueLockedUSD  \\\n0                                    109387.588406   \n1                                    109293.596248   \n2                                    113144.385478   \n3                                    112868.320631   \n4                                    107842.109538   \n\n   liquidityPoolDailySnapshots_cumulativeSupplySideRevenueUSD  \\\n0                                       2.366634e+06            \n1                                       2.366634e+06            \n2                                       2.366612e+06            \n3                                       2.366582e+06            \n4                                       2.366554e+06            \n\n   liquidityPoolDailySnapshots_dailySupplySideRevenueUSD  \\\n0                                           0.248477       \n1                                          21.683341       \n2                                          29.756356       \n3                                          27.951793       \n4                                           4.418073       \n\n   liquidityPoolDailySnapshots_cumulativeProtocolSideRevenueUSD  \\\n0                                                0.0              \n1                                                0.0              \n2                                                0.0              \n3                                                0.0              \n4                                                0.0              \n\n   liquidityPoolDailySnapshots_dailyProtocolSideRevenueUSD  \\\n0                                                0.0         \n1                                                0.0         \n2                                                0.0         \n3                                                0.0         \n4                                                0.0         \n\n   liquidityPoolDailySnapshots_cumulativeTotalRevenueUSD  \\\n0                                       2.366634e+06       \n1                                       2.366634e+06       \n2                                       2.366612e+06       \n3                                       2.366582e+06       \n4                                       2.366554e+06       \n\n   liquidityPoolDailySnapshots_dailyTotalRevenueUSD  ...  \\\n0                                          0.248477  ...   \n1                                         21.683341  ...   \n2                                         29.756356  ...   \n3                                         27.951793  ...   \n4                                          4.418073  ...   \n\n        liquidityPoolDailySnapshots_pool_name  \\\n0  Uniswap V3 Governance OHM/Wrapped Ether 1%   \n1  Uniswap V3 Governance OHM/Wrapped Ether 1%   \n2  Uniswap V3 Governance OHM/Wrapped Ether 1%   \n3  Uniswap V3 Governance OHM/Wrapped Ether 1%   \n4  Uniswap V3 Governance OHM/Wrapped Ether 1%   \n\n   liquidityPoolDailySnapshots_pool_symbol  \\\n0             Governance OHM/Wrapped Ether   \n1             Governance OHM/Wrapped Ether   \n2             Governance OHM/Wrapped Ether   \n3             Governance OHM/Wrapped Ether   \n4             Governance OHM/Wrapped Ether   \n\n  liquidityPoolDailySnapshots_pool_outputToken_id  \\\n0                                             NaN   \n1                                             NaN   \n2                                             NaN   \n3                                             NaN   \n4                                             NaN   \n\n  liquidityPoolDailySnapshots_pool_outputToken_name  \\\n0                                               NaN   \n1                                               NaN   \n2                                               NaN   \n3                                               NaN   \n4                                               NaN   \n\n  liquidityPoolDailySnapshots_pool_outputToken_symbol  \\\n0                                                NaN    \n1                                                NaN    \n2                                                NaN    \n3                                                NaN    \n4                                                NaN    \n\n  liquidityPoolDailySnapshots_pool_outputToken_decimals  \\\n0                                                NaN      \n1                                                NaN      \n2                                                NaN      \n3                                                NaN      \n4                                                NaN      \n\n  liquidityPoolDailySnapshots_pool_outputToken_lastPriceUSD  \\\n0                                                NaN          \n1                                                NaN          \n2                                                NaN          \n3                                                NaN          \n4                                                NaN          \n\n  liquidityPoolDailySnapshots_pool_outputToken_lastPriceBlockNumber  \\\n0                                                NaN                  \n1                                                NaN                  \n2                                                NaN                  \n3                                                NaN                  \n4                                                NaN                  \n\n             dateTime      dex  \n0 2023-02-20 16:40:47  Uniswap  \n1 2023-02-17 19:07:59  Uniswap  \n2 2023-02-16 17:58:35  Uniswap  \n3 2023-02-15 23:45:23  Uniswap  \n4 2023-02-14 23:00:47  Uniswap  \n\n[5 rows x 25 columns]",
      "text/html": "<div>\n<style scoped>\n    .dataframe tbody tr th:only-of-type {\n        vertical-align: middle;\n    }\n\n    .dataframe tbody tr th {\n        vertical-align: top;\n    }\n\n    .dataframe thead th {\n        text-align: right;\n    }\n</style>\n<table border=\"1\" class=\"dataframe\">\n  <thead>\n    <tr style=\"text-align: right;\">\n      <th></th>\n      <th>liquidityPoolDailySnapshots_id</th>\n      <th>liquidityPoolDailySnapshots_timestamp</th>\n      <th>liquidityPoolDailySnapshots_blockNumber</th>\n      <th>liquidityPoolDailySnapshots_totalValueLockedUSD</th>\n      <th>liquidityPoolDailySnapshots_cumulativeSupplySideRevenueUSD</th>\n      <th>liquidityPoolDailySnapshots_dailySupplySideRevenueUSD</th>\n      <th>liquidityPoolDailySnapshots_cumulativeProtocolSideRevenueUSD</th>\n      <th>liquidityPoolDailySnapshots_dailyProtocolSideRevenueUSD</th>\n      <th>liquidityPoolDailySnapshots_cumulativeTotalRevenueUSD</th>\n      <th>liquidityPoolDailySnapshots_dailyTotalRevenueUSD</th>\n      <th>...</th>\n      <th>liquidityPoolDailySnapshots_pool_name</th>\n      <th>liquidityPoolDailySnapshots_pool_symbol</th>\n      <th>liquidityPoolDailySnapshots_pool_outputToken_id</th>\n      <th>liquidityPoolDailySnapshots_pool_outputToken_name</th>\n      <th>liquidityPoolDailySnapshots_pool_outputToken_symbol</th>\n      <th>liquidityPoolDailySnapshots_pool_outputToken_decimals</th>\n      <th>liquidityPoolDailySnapshots_pool_outputToken_lastPriceUSD</th>\n      <th>liquidityPoolDailySnapshots_pool_outputToken_lastPriceBlockNumber</th>\n      <th>dateTime</th>\n      <th>dex</th>\n    </tr>\n  </thead>\n  <tbody>\n    <tr>\n      <th>0</th>\n      <td>0xcf7e21b96a7dae8e1663b5a266fd812cbe973e70-19408</td>\n      <td>1676911247</td>\n      <td>16671006</td>\n      <td>109387.588406</td>\n      <td>2.366634e+06</td>\n      <td>0.248477</td>\n      <td>0.0</td>\n      <td>0.0</td>\n      <td>2.366634e+06</td>\n      <td>0.248477</td>\n      <td>...</td>\n      <td>Uniswap V3 Governance OHM/Wrapped Ether 1%</td>\n      <td>Governance OHM/Wrapped Ether</td>\n      <td>NaN</td>\n      <td>NaN</td>\n      <td>NaN</td>\n      <td>NaN</td>\n      <td>NaN</td>\n      <td>NaN</td>\n      <td>2023-02-20 16:40:47</td>\n      <td>Uniswap</td>\n    </tr>\n    <tr>\n      <th>1</th>\n      <td>0xcf7e21b96a7dae8e1663b5a266fd812cbe973e70-19405</td>\n      <td>1676660879</td>\n      <td>16650398</td>\n      <td>109293.596248</td>\n      <td>2.366634e+06</td>\n      <td>21.683341</td>\n      <td>0.0</td>\n      <td>0.0</td>\n      <td>2.366634e+06</td>\n      <td>21.683341</td>\n      <td>...</td>\n      <td>Uniswap V3 Governance OHM/Wrapped Ether 1%</td>\n      <td>Governance OHM/Wrapped Ether</td>\n      <td>NaN</td>\n      <td>NaN</td>\n      <td>NaN</td>\n      <td>NaN</td>\n      <td>NaN</td>\n      <td>NaN</td>\n      <td>2023-02-17 19:07:59</td>\n      <td>Uniswap</td>\n    </tr>\n    <tr>\n      <th>2</th>\n      <td>0xcf7e21b96a7dae8e1663b5a266fd812cbe973e70-19404</td>\n      <td>1676570315</td>\n      <td>16642933</td>\n      <td>113144.385478</td>\n      <td>2.366612e+06</td>\n      <td>29.756356</td>\n      <td>0.0</td>\n      <td>0.0</td>\n      <td>2.366612e+06</td>\n      <td>29.756356</td>\n      <td>...</td>\n      <td>Uniswap V3 Governance OHM/Wrapped Ether 1%</td>\n      <td>Governance OHM/Wrapped Ether</td>\n      <td>NaN</td>\n      <td>NaN</td>\n      <td>NaN</td>\n      <td>NaN</td>\n      <td>NaN</td>\n      <td>NaN</td>\n      <td>2023-02-16 17:58:35</td>\n      <td>Uniswap</td>\n    </tr>\n    <tr>\n      <th>3</th>\n      <td>0xcf7e21b96a7dae8e1663b5a266fd812cbe973e70-19403</td>\n      <td>1676504723</td>\n      <td>16637501</td>\n      <td>112868.320631</td>\n      <td>2.366582e+06</td>\n      <td>27.951793</td>\n      <td>0.0</td>\n      <td>0.0</td>\n      <td>2.366582e+06</td>\n      <td>27.951793</td>\n      <td>...</td>\n      <td>Uniswap V3 Governance OHM/Wrapped Ether 1%</td>\n      <td>Governance OHM/Wrapped Ether</td>\n      <td>NaN</td>\n      <td>NaN</td>\n      <td>NaN</td>\n      <td>NaN</td>\n      <td>NaN</td>\n      <td>NaN</td>\n      <td>2023-02-15 23:45:23</td>\n      <td>Uniswap</td>\n    </tr>\n    <tr>\n      <th>4</th>\n      <td>0xcf7e21b96a7dae8e1663b5a266fd812cbe973e70-19402</td>\n      <td>1676415647</td>\n      <td>16630127</td>\n      <td>107842.109538</td>\n      <td>2.366554e+06</td>\n      <td>4.418073</td>\n      <td>0.0</td>\n      <td>0.0</td>\n      <td>2.366554e+06</td>\n      <td>4.418073</td>\n      <td>...</td>\n      <td>Uniswap V3 Governance OHM/Wrapped Ether 1%</td>\n      <td>Governance OHM/Wrapped Ether</td>\n      <td>NaN</td>\n      <td>NaN</td>\n      <td>NaN</td>\n      <td>NaN</td>\n      <td>NaN</td>\n      <td>NaN</td>\n      <td>2023-02-14 23:00:47</td>\n      <td>Uniswap</td>\n    </tr>\n  </tbody>\n</table>\n<p>5 rows × 25 columns</p>\n</div>"
     },
     "execution_count": 13,
     "metadata": {},
     "output_type": "execute_result"
    }
   ],
   "source": [
    "uniswap_pool_datadb.head(5)"
   ],
   "metadata": {
    "collapsed": false
   }
  },
  {
   "cell_type": "code",
   "execution_count": 14,
   "outputs": [
    {
     "name": "stdout",
     "output_type": "stream",
     "text": [
      "674\n"
     ]
    }
   ],
   "source": [
    "print(len(uniswap_pool_datadb))"
   ],
   "metadata": {
    "collapsed": false
   }
  },
  {
   "cell_type": "code",
   "execution_count": 15,
   "outputs": [
    {
     "data": {
      "text/plain": "                     liquidityPoolDailySnapshots_id  \\\n0  0xfc1e8bf3e81383ef07be24c3fd146745719de48d-19408   \n1  0xfc1e8bf3e81383ef07be24c3fd146745719de48d-19407   \n2  0xfc1e8bf3e81383ef07be24c3fd146745719de48d-19406   \n3  0xfc1e8bf3e81383ef07be24c3fd146745719de48d-19405   \n4  0xfc1e8bf3e81383ef07be24c3fd146745719de48d-19404   \n5  0xfc1e8bf3e81383ef07be24c3fd146745719de48d-19403   \n6  0xfc1e8bf3e81383ef07be24c3fd146745719de48d-19402   \n7  0xfc1e8bf3e81383ef07be24c3fd146745719de48d-19401   \n8  0xfc1e8bf3e81383ef07be24c3fd146745719de48d-19400   \n9  0xfc1e8bf3e81383ef07be24c3fd146745719de48d-19399   \n\n   liquidityPoolDailySnapshots_timestamp  \\\n0                             1676910227   \n1                             1676837963   \n2                             1676739419   \n3                             1676662727   \n4                             1676591543   \n5                             1676499047   \n6                             1676399375   \n7                             1676315915   \n8                             1676232767   \n9                             1676154527   \n\n   liquidityPoolDailySnapshots_blockNumber  \\\n0                                 16670922   \n1                                 16664964   \n2                                 16656845   \n3                                 16650549   \n4                                 16644694   \n5                                 16637031   \n6                                 16628782   \n7                                 16621873   \n8                                 16614990   \n9                                 16608507   \n\n   liquidityPoolDailySnapshots_totalValueLockedUSD  \\\n0                                              0.0   \n1                                              0.0   \n2                                              0.0   \n3                                              0.0   \n4                                              0.0   \n5                                              0.0   \n6                                              0.0   \n7                                              0.0   \n8                                              0.0   \n9                                              0.0   \n\n   liquidityPoolDailySnapshots_cumulativeSupplySideRevenueUSD  \\\n0                                        2304.451777            \n1                                        2172.850950            \n2                                        2082.279460            \n3                                        2064.882065            \n4                                        1898.546215            \n5                                        1556.517048            \n6                                        1448.624393            \n7                                        1184.170519            \n8                                        1045.768571            \n9                                        1032.907743            \n\n   liquidityPoolDailySnapshots_dailySupplySideRevenueUSD  \\\n0                                         131.600827       \n1                                          90.571491       \n2                                          17.397394       \n3                                         166.335850       \n4                                         342.029167       \n5                                         107.892654       \n6                                         264.453875       \n7                                         138.401948       \n8                                          12.860828       \n9                                          84.262272       \n\n   liquidityPoolDailySnapshots_cumulativeProtocolSideRevenueUSD  \\\n0                                        2304.451777              \n1                                        2172.850950              \n2                                        2082.279460              \n3                                        2064.882065              \n4                                        1898.546215              \n5                                        1556.517048              \n6                                        1448.624393              \n7                                        1184.170519              \n8                                        1045.768571              \n9                                        1032.907743              \n\n   liquidityPoolDailySnapshots_dailyProtocolSideRevenueUSD  \\\n0                                         131.600827         \n1                                          90.571491         \n2                                          17.397394         \n3                                         166.335850         \n4                                         342.029167         \n5                                         107.892654         \n6                                         264.453875         \n7                                         138.401948         \n8                                          12.860828         \n9                                          84.262272         \n\n   liquidityPoolDailySnapshots_cumulativeTotalRevenueUSD  \\\n0                                        4608.903555       \n1                                        4345.701900       \n2                                        4164.558919       \n3                                        4129.764130       \n4                                        3797.092430       \n5                                        3113.034095       \n6                                        2897.248787       \n7                                        2368.341038       \n8                                        2091.537142       \n9                                        2065.815487       \n\n   liquidityPoolDailySnapshots_dailyTotalRevenueUSD  ...  \\\n0                                        263.201655  ...   \n1                                        181.142981  ...   \n2                                         34.794789  ...   \n3                                        332.671700  ...   \n4                                        684.058335  ...   \n5                                        215.785309  ...   \n6                                        528.907749  ...   \n7                                        276.803896  ...   \n8                                         25.721655  ...   \n9                                        168.524544  ...   \n\n      liquidityPoolDailySnapshots_pool_name  \\\n0  Curve.fi Factory Crypto Pool: OHM/FRAXBP   \n1  Curve.fi Factory Crypto Pool: OHM/FRAXBP   \n2  Curve.fi Factory Crypto Pool: OHM/FRAXBP   \n3  Curve.fi Factory Crypto Pool: OHM/FRAXBP   \n4  Curve.fi Factory Crypto Pool: OHM/FRAXBP   \n5  Curve.fi Factory Crypto Pool: OHM/FRAXBP   \n6  Curve.fi Factory Crypto Pool: OHM/FRAXBP   \n7  Curve.fi Factory Crypto Pool: OHM/FRAXBP   \n8  Curve.fi Factory Crypto Pool: OHM/FRAXBP   \n9  Curve.fi Factory Crypto Pool: OHM/FRAXBP   \n\n   liquidityPoolDailySnapshots_pool_symbol  \\\n0                              OHMFRAXBP-f   \n1                              OHMFRAXBP-f   \n2                              OHMFRAXBP-f   \n3                              OHMFRAXBP-f   \n4                              OHMFRAXBP-f   \n5                              OHMFRAXBP-f   \n6                              OHMFRAXBP-f   \n7                              OHMFRAXBP-f   \n8                              OHMFRAXBP-f   \n9                              OHMFRAXBP-f   \n\n  liquidityPoolDailySnapshots_pool_outputToken_id  \\\n0      0x5271045f7b73c17825a7a7aee6917ee46b0b7520   \n1      0x5271045f7b73c17825a7a7aee6917ee46b0b7520   \n2      0x5271045f7b73c17825a7a7aee6917ee46b0b7520   \n3      0x5271045f7b73c17825a7a7aee6917ee46b0b7520   \n4      0x5271045f7b73c17825a7a7aee6917ee46b0b7520   \n5      0x5271045f7b73c17825a7a7aee6917ee46b0b7520   \n6      0x5271045f7b73c17825a7a7aee6917ee46b0b7520   \n7      0x5271045f7b73c17825a7a7aee6917ee46b0b7520   \n8      0x5271045f7b73c17825a7a7aee6917ee46b0b7520   \n9      0x5271045f7b73c17825a7a7aee6917ee46b0b7520   \n\n   liquidityPoolDailySnapshots_pool_outputToken_name  \\\n0           Curve.fi Factory Crypto Pool: OHM/FRAXBP   \n1           Curve.fi Factory Crypto Pool: OHM/FRAXBP   \n2           Curve.fi Factory Crypto Pool: OHM/FRAXBP   \n3           Curve.fi Factory Crypto Pool: OHM/FRAXBP   \n4           Curve.fi Factory Crypto Pool: OHM/FRAXBP   \n5           Curve.fi Factory Crypto Pool: OHM/FRAXBP   \n6           Curve.fi Factory Crypto Pool: OHM/FRAXBP   \n7           Curve.fi Factory Crypto Pool: OHM/FRAXBP   \n8           Curve.fi Factory Crypto Pool: OHM/FRAXBP   \n9           Curve.fi Factory Crypto Pool: OHM/FRAXBP   \n\n  liquidityPoolDailySnapshots_pool_outputToken_symbol  \\\n0                                        OHMFRAXBP-f    \n1                                        OHMFRAXBP-f    \n2                                        OHMFRAXBP-f    \n3                                        OHMFRAXBP-f    \n4                                        OHMFRAXBP-f    \n5                                        OHMFRAXBP-f    \n6                                        OHMFRAXBP-f    \n7                                        OHMFRAXBP-f    \n8                                        OHMFRAXBP-f    \n9                                        OHMFRAXBP-f    \n\n  liquidityPoolDailySnapshots_pool_outputToken_decimals  \\\n0                                                 18      \n1                                                 18      \n2                                                 18      \n3                                                 18      \n4                                                 18      \n5                                                 18      \n6                                                 18      \n7                                                 18      \n8                                                 18      \n9                                                 18      \n\n  liquidityPoolDailySnapshots_pool_outputToken_lastPriceUSD  \\\n0                                                0.0          \n1                                                0.0          \n2                                                0.0          \n3                                                0.0          \n4                                                0.0          \n5                                                0.0          \n6                                                0.0          \n7                                                0.0          \n8                                                0.0          \n9                                                0.0          \n\n  liquidityPoolDailySnapshots_pool_outputToken_lastPriceBlockNumber  \\\n0                                           16662352                  \n1                                           16662352                  \n2                                           16662352                  \n3                                           16662352                  \n4                                           16662352                  \n5                                           16662352                  \n6                                           16662352                  \n7                                           16662352                  \n8                                           16662352                  \n9                                           16662352                  \n\n             dateTime    dex  \n0 2023-02-20 16:23:47  Curve  \n1 2023-02-19 20:19:23  Curve  \n2 2023-02-18 16:56:59  Curve  \n3 2023-02-17 19:38:47  Curve  \n4 2023-02-16 23:52:23  Curve  \n5 2023-02-15 22:10:47  Curve  \n6 2023-02-14 18:29:35  Curve  \n7 2023-02-13 19:18:35  Curve  \n8 2023-02-12 20:12:47  Curve  \n9 2023-02-11 22:28:47  Curve  \n\n[10 rows x 25 columns]",
      "text/html": "<div>\n<style scoped>\n    .dataframe tbody tr th:only-of-type {\n        vertical-align: middle;\n    }\n\n    .dataframe tbody tr th {\n        vertical-align: top;\n    }\n\n    .dataframe thead th {\n        text-align: right;\n    }\n</style>\n<table border=\"1\" class=\"dataframe\">\n  <thead>\n    <tr style=\"text-align: right;\">\n      <th></th>\n      <th>liquidityPoolDailySnapshots_id</th>\n      <th>liquidityPoolDailySnapshots_timestamp</th>\n      <th>liquidityPoolDailySnapshots_blockNumber</th>\n      <th>liquidityPoolDailySnapshots_totalValueLockedUSD</th>\n      <th>liquidityPoolDailySnapshots_cumulativeSupplySideRevenueUSD</th>\n      <th>liquidityPoolDailySnapshots_dailySupplySideRevenueUSD</th>\n      <th>liquidityPoolDailySnapshots_cumulativeProtocolSideRevenueUSD</th>\n      <th>liquidityPoolDailySnapshots_dailyProtocolSideRevenueUSD</th>\n      <th>liquidityPoolDailySnapshots_cumulativeTotalRevenueUSD</th>\n      <th>liquidityPoolDailySnapshots_dailyTotalRevenueUSD</th>\n      <th>...</th>\n      <th>liquidityPoolDailySnapshots_pool_name</th>\n      <th>liquidityPoolDailySnapshots_pool_symbol</th>\n      <th>liquidityPoolDailySnapshots_pool_outputToken_id</th>\n      <th>liquidityPoolDailySnapshots_pool_outputToken_name</th>\n      <th>liquidityPoolDailySnapshots_pool_outputToken_symbol</th>\n      <th>liquidityPoolDailySnapshots_pool_outputToken_decimals</th>\n      <th>liquidityPoolDailySnapshots_pool_outputToken_lastPriceUSD</th>\n      <th>liquidityPoolDailySnapshots_pool_outputToken_lastPriceBlockNumber</th>\n      <th>dateTime</th>\n      <th>dex</th>\n    </tr>\n  </thead>\n  <tbody>\n    <tr>\n      <th>0</th>\n      <td>0xfc1e8bf3e81383ef07be24c3fd146745719de48d-19408</td>\n      <td>1676910227</td>\n      <td>16670922</td>\n      <td>0.0</td>\n      <td>2304.451777</td>\n      <td>131.600827</td>\n      <td>2304.451777</td>\n      <td>131.600827</td>\n      <td>4608.903555</td>\n      <td>263.201655</td>\n      <td>...</td>\n      <td>Curve.fi Factory Crypto Pool: OHM/FRAXBP</td>\n      <td>OHMFRAXBP-f</td>\n      <td>0x5271045f7b73c17825a7a7aee6917ee46b0b7520</td>\n      <td>Curve.fi Factory Crypto Pool: OHM/FRAXBP</td>\n      <td>OHMFRAXBP-f</td>\n      <td>18</td>\n      <td>0.0</td>\n      <td>16662352</td>\n      <td>2023-02-20 16:23:47</td>\n      <td>Curve</td>\n    </tr>\n    <tr>\n      <th>1</th>\n      <td>0xfc1e8bf3e81383ef07be24c3fd146745719de48d-19407</td>\n      <td>1676837963</td>\n      <td>16664964</td>\n      <td>0.0</td>\n      <td>2172.850950</td>\n      <td>90.571491</td>\n      <td>2172.850950</td>\n      <td>90.571491</td>\n      <td>4345.701900</td>\n      <td>181.142981</td>\n      <td>...</td>\n      <td>Curve.fi Factory Crypto Pool: OHM/FRAXBP</td>\n      <td>OHMFRAXBP-f</td>\n      <td>0x5271045f7b73c17825a7a7aee6917ee46b0b7520</td>\n      <td>Curve.fi Factory Crypto Pool: OHM/FRAXBP</td>\n      <td>OHMFRAXBP-f</td>\n      <td>18</td>\n      <td>0.0</td>\n      <td>16662352</td>\n      <td>2023-02-19 20:19:23</td>\n      <td>Curve</td>\n    </tr>\n    <tr>\n      <th>2</th>\n      <td>0xfc1e8bf3e81383ef07be24c3fd146745719de48d-19406</td>\n      <td>1676739419</td>\n      <td>16656845</td>\n      <td>0.0</td>\n      <td>2082.279460</td>\n      <td>17.397394</td>\n      <td>2082.279460</td>\n      <td>17.397394</td>\n      <td>4164.558919</td>\n      <td>34.794789</td>\n      <td>...</td>\n      <td>Curve.fi Factory Crypto Pool: OHM/FRAXBP</td>\n      <td>OHMFRAXBP-f</td>\n      <td>0x5271045f7b73c17825a7a7aee6917ee46b0b7520</td>\n      <td>Curve.fi Factory Crypto Pool: OHM/FRAXBP</td>\n      <td>OHMFRAXBP-f</td>\n      <td>18</td>\n      <td>0.0</td>\n      <td>16662352</td>\n      <td>2023-02-18 16:56:59</td>\n      <td>Curve</td>\n    </tr>\n    <tr>\n      <th>3</th>\n      <td>0xfc1e8bf3e81383ef07be24c3fd146745719de48d-19405</td>\n      <td>1676662727</td>\n      <td>16650549</td>\n      <td>0.0</td>\n      <td>2064.882065</td>\n      <td>166.335850</td>\n      <td>2064.882065</td>\n      <td>166.335850</td>\n      <td>4129.764130</td>\n      <td>332.671700</td>\n      <td>...</td>\n      <td>Curve.fi Factory Crypto Pool: OHM/FRAXBP</td>\n      <td>OHMFRAXBP-f</td>\n      <td>0x5271045f7b73c17825a7a7aee6917ee46b0b7520</td>\n      <td>Curve.fi Factory Crypto Pool: OHM/FRAXBP</td>\n      <td>OHMFRAXBP-f</td>\n      <td>18</td>\n      <td>0.0</td>\n      <td>16662352</td>\n      <td>2023-02-17 19:38:47</td>\n      <td>Curve</td>\n    </tr>\n    <tr>\n      <th>4</th>\n      <td>0xfc1e8bf3e81383ef07be24c3fd146745719de48d-19404</td>\n      <td>1676591543</td>\n      <td>16644694</td>\n      <td>0.0</td>\n      <td>1898.546215</td>\n      <td>342.029167</td>\n      <td>1898.546215</td>\n      <td>342.029167</td>\n      <td>3797.092430</td>\n      <td>684.058335</td>\n      <td>...</td>\n      <td>Curve.fi Factory Crypto Pool: OHM/FRAXBP</td>\n      <td>OHMFRAXBP-f</td>\n      <td>0x5271045f7b73c17825a7a7aee6917ee46b0b7520</td>\n      <td>Curve.fi Factory Crypto Pool: OHM/FRAXBP</td>\n      <td>OHMFRAXBP-f</td>\n      <td>18</td>\n      <td>0.0</td>\n      <td>16662352</td>\n      <td>2023-02-16 23:52:23</td>\n      <td>Curve</td>\n    </tr>\n    <tr>\n      <th>5</th>\n      <td>0xfc1e8bf3e81383ef07be24c3fd146745719de48d-19403</td>\n      <td>1676499047</td>\n      <td>16637031</td>\n      <td>0.0</td>\n      <td>1556.517048</td>\n      <td>107.892654</td>\n      <td>1556.517048</td>\n      <td>107.892654</td>\n      <td>3113.034095</td>\n      <td>215.785309</td>\n      <td>...</td>\n      <td>Curve.fi Factory Crypto Pool: OHM/FRAXBP</td>\n      <td>OHMFRAXBP-f</td>\n      <td>0x5271045f7b73c17825a7a7aee6917ee46b0b7520</td>\n      <td>Curve.fi Factory Crypto Pool: OHM/FRAXBP</td>\n      <td>OHMFRAXBP-f</td>\n      <td>18</td>\n      <td>0.0</td>\n      <td>16662352</td>\n      <td>2023-02-15 22:10:47</td>\n      <td>Curve</td>\n    </tr>\n    <tr>\n      <th>6</th>\n      <td>0xfc1e8bf3e81383ef07be24c3fd146745719de48d-19402</td>\n      <td>1676399375</td>\n      <td>16628782</td>\n      <td>0.0</td>\n      <td>1448.624393</td>\n      <td>264.453875</td>\n      <td>1448.624393</td>\n      <td>264.453875</td>\n      <td>2897.248787</td>\n      <td>528.907749</td>\n      <td>...</td>\n      <td>Curve.fi Factory Crypto Pool: OHM/FRAXBP</td>\n      <td>OHMFRAXBP-f</td>\n      <td>0x5271045f7b73c17825a7a7aee6917ee46b0b7520</td>\n      <td>Curve.fi Factory Crypto Pool: OHM/FRAXBP</td>\n      <td>OHMFRAXBP-f</td>\n      <td>18</td>\n      <td>0.0</td>\n      <td>16662352</td>\n      <td>2023-02-14 18:29:35</td>\n      <td>Curve</td>\n    </tr>\n    <tr>\n      <th>7</th>\n      <td>0xfc1e8bf3e81383ef07be24c3fd146745719de48d-19401</td>\n      <td>1676315915</td>\n      <td>16621873</td>\n      <td>0.0</td>\n      <td>1184.170519</td>\n      <td>138.401948</td>\n      <td>1184.170519</td>\n      <td>138.401948</td>\n      <td>2368.341038</td>\n      <td>276.803896</td>\n      <td>...</td>\n      <td>Curve.fi Factory Crypto Pool: OHM/FRAXBP</td>\n      <td>OHMFRAXBP-f</td>\n      <td>0x5271045f7b73c17825a7a7aee6917ee46b0b7520</td>\n      <td>Curve.fi Factory Crypto Pool: OHM/FRAXBP</td>\n      <td>OHMFRAXBP-f</td>\n      <td>18</td>\n      <td>0.0</td>\n      <td>16662352</td>\n      <td>2023-02-13 19:18:35</td>\n      <td>Curve</td>\n    </tr>\n    <tr>\n      <th>8</th>\n      <td>0xfc1e8bf3e81383ef07be24c3fd146745719de48d-19400</td>\n      <td>1676232767</td>\n      <td>16614990</td>\n      <td>0.0</td>\n      <td>1045.768571</td>\n      <td>12.860828</td>\n      <td>1045.768571</td>\n      <td>12.860828</td>\n      <td>2091.537142</td>\n      <td>25.721655</td>\n      <td>...</td>\n      <td>Curve.fi Factory Crypto Pool: OHM/FRAXBP</td>\n      <td>OHMFRAXBP-f</td>\n      <td>0x5271045f7b73c17825a7a7aee6917ee46b0b7520</td>\n      <td>Curve.fi Factory Crypto Pool: OHM/FRAXBP</td>\n      <td>OHMFRAXBP-f</td>\n      <td>18</td>\n      <td>0.0</td>\n      <td>16662352</td>\n      <td>2023-02-12 20:12:47</td>\n      <td>Curve</td>\n    </tr>\n    <tr>\n      <th>9</th>\n      <td>0xfc1e8bf3e81383ef07be24c3fd146745719de48d-19399</td>\n      <td>1676154527</td>\n      <td>16608507</td>\n      <td>0.0</td>\n      <td>1032.907743</td>\n      <td>84.262272</td>\n      <td>1032.907743</td>\n      <td>84.262272</td>\n      <td>2065.815487</td>\n      <td>168.524544</td>\n      <td>...</td>\n      <td>Curve.fi Factory Crypto Pool: OHM/FRAXBP</td>\n      <td>OHMFRAXBP-f</td>\n      <td>0x5271045f7b73c17825a7a7aee6917ee46b0b7520</td>\n      <td>Curve.fi Factory Crypto Pool: OHM/FRAXBP</td>\n      <td>OHMFRAXBP-f</td>\n      <td>18</td>\n      <td>0.0</td>\n      <td>16662352</td>\n      <td>2023-02-11 22:28:47</td>\n      <td>Curve</td>\n    </tr>\n  </tbody>\n</table>\n<p>10 rows × 25 columns</p>\n</div>"
     },
     "execution_count": 15,
     "metadata": {},
     "output_type": "execute_result"
    }
   ],
   "source": [
    "curve_pool_datadb.head(10)"
   ],
   "metadata": {
    "collapsed": false
   }
  },
  {
   "cell_type": "code",
   "execution_count": 16,
   "outputs": [
    {
     "data": {
      "text/plain": "                       liquidityPoolDailySnapshots_id  \\\n0    0xfffae4a0f4ac251f4705717cd24cadccc9f33e06-19406   \n1    0xfffae4a0f4ac251f4705717cd24cadccc9f33e06-19405   \n2    0xfffae4a0f4ac251f4705717cd24cadccc9f33e06-19404   \n3    0xfffae4a0f4ac251f4705717cd24cadccc9f33e06-19403   \n4    0xfffae4a0f4ac251f4705717cd24cadccc9f33e06-19402   \n..                                                ...   \n495  0xfffae4a0f4ac251f4705717cd24cadccc9f33e06-18894   \n496  0xfffae4a0f4ac251f4705717cd24cadccc9f33e06-18893   \n497  0xfffae4a0f4ac251f4705717cd24cadccc9f33e06-18892   \n498  0xfffae4a0f4ac251f4705717cd24cadccc9f33e06-18891   \n499  0xfffae4a0f4ac251f4705717cd24cadccc9f33e06-18890   \n\n     liquidityPoolDailySnapshots_timestamp  \\\n0                               1676764715   \n1                               1676608427   \n2                               1676579147   \n3                               1676494067   \n4                               1676359463   \n..                                     ...   \n495                             1632526750   \n496                             1632440783   \n497                             1632353147   \n498                             1632268277   \n499                             1632180769   \n\n     liquidityPoolDailySnapshots_blockNumber  \\\n0                                   16658931   \n1                                   16646089   \n2                                   16643666   \n3                                   16636619   \n4                                   16625484   \n..                                       ...   \n495                                 13291458   \n496                                 13285040   \n497                                 13278544   \n498                                 13272215   \n499                                 13265646   \n\n     liquidityPoolDailySnapshots_totalValueLockedUSD  \\\n0                                       19703.020825   \n1                                       19131.879946   \n2                                       19759.451421   \n3                                       19569.140970   \n4                                       17834.607250   \n..                                               ...   \n495                                     23358.455425   \n496                                     24887.291789   \n497                                     23959.376714   \n498                                     22682.986178   \n499                                     21682.848765   \n\n     liquidityPoolDailySnapshots_cumulativeSupplySideRevenueUSD  \\\n0                                         3.908983e+06            \n1                                         3.908974e+06            \n2                                         3.908964e+06            \n3                                         3.908963e+06            \n4                                         3.908962e+06            \n..                                                 ...            \n495                                       1.865556e+04            \n496                                       1.859639e+04            \n497                                       1.854610e+04            \n498                                       1.842453e+04            \n499                                       1.839416e+04            \n\n     liquidityPoolDailySnapshots_dailySupplySideRevenueUSD  \\\n0                                             9.283523       \n1                                            10.562457       \n2                                             0.012730       \n3                                             1.202852       \n4                                             0.025166       \n..                                                 ...       \n495                                          59.174597       \n496                                          50.284299       \n497                                         121.570307       \n498                                          30.369032       \n499                                          36.949720       \n\n     liquidityPoolDailySnapshots_cumulativeProtocolSideRevenueUSD  \\\n0                                        781796.669355              \n1                                        781794.812651              \n2                                        781792.700159              \n3                                        781792.697613              \n4                                        781792.457043              \n..                                                 ...              \n495                                        3731.112503              \n496                                        3719.277584              \n497                                        3709.220724              \n498                                        3684.906663              \n499                                        3678.832856              \n\n     liquidityPoolDailySnapshots_dailyProtocolSideRevenueUSD  \\\n0                                             1.856705         \n1                                             2.112491         \n2                                             0.002546         \n3                                             0.240570         \n4                                             0.005033         \n..                                                 ...         \n495                                          11.834919         \n496                                          10.056860         \n497                                          24.314061         \n498                                           6.073806         \n499                                           7.389944         \n\n     liquidityPoolDailySnapshots_cumulativeTotalRevenueUSD  \\\n0                                         4.690780e+06       \n1                                         4.690769e+06       \n2                                         4.690756e+06       \n3                                         4.690756e+06       \n4                                         4.690755e+06       \n..                                                 ...       \n495                                       2.238668e+04       \n496                                       2.231567e+04       \n497                                       2.225532e+04       \n498                                       2.210944e+04       \n499                                       2.207300e+04       \n\n     liquidityPoolDailySnapshots_dailyTotalRevenueUSD  ...  \\\n0                                           11.140227  ...   \n1                                           12.674948  ...   \n2                                            0.015276  ...   \n3                                            1.443423  ...   \n4                                            0.030199  ...   \n..                                                ...  ...   \n495                                         71.009517  ...   \n496                                         60.341158  ...   \n497                                        145.884368  ...   \n498                                         36.442838  ...   \n499                                         44.339664  ...   \n\n     liquidityPoolDailySnapshots_pool_name  \\\n0          SushiSwap Olympus/Wrapped Ether   \n1          SushiSwap Olympus/Wrapped Ether   \n2          SushiSwap Olympus/Wrapped Ether   \n3          SushiSwap Olympus/Wrapped Ether   \n4          SushiSwap Olympus/Wrapped Ether   \n..                                     ...   \n495        SushiSwap Olympus/Wrapped Ether   \n496        SushiSwap Olympus/Wrapped Ether   \n497        SushiSwap Olympus/Wrapped Ether   \n498        SushiSwap Olympus/Wrapped Ether   \n499        SushiSwap Olympus/Wrapped Ether   \n\n     liquidityPoolDailySnapshots_pool_symbol  \\\n0                      Olympus/Wrapped Ether   \n1                      Olympus/Wrapped Ether   \n2                      Olympus/Wrapped Ether   \n3                      Olympus/Wrapped Ether   \n4                      Olympus/Wrapped Ether   \n..                                       ...   \n495                    Olympus/Wrapped Ether   \n496                    Olympus/Wrapped Ether   \n497                    Olympus/Wrapped Ether   \n498                    Olympus/Wrapped Ether   \n499                    Olympus/Wrapped Ether   \n\n    liquidityPoolDailySnapshots_pool_outputToken_id  \\\n0        0xfffae4a0f4ac251f4705717cd24cadccc9f33e06   \n1        0xfffae4a0f4ac251f4705717cd24cadccc9f33e06   \n2        0xfffae4a0f4ac251f4705717cd24cadccc9f33e06   \n3        0xfffae4a0f4ac251f4705717cd24cadccc9f33e06   \n4        0xfffae4a0f4ac251f4705717cd24cadccc9f33e06   \n..                                              ...   \n495      0xfffae4a0f4ac251f4705717cd24cadccc9f33e06   \n496      0xfffae4a0f4ac251f4705717cd24cadccc9f33e06   \n497      0xfffae4a0f4ac251f4705717cd24cadccc9f33e06   \n498      0xfffae4a0f4ac251f4705717cd24cadccc9f33e06   \n499      0xfffae4a0f4ac251f4705717cd24cadccc9f33e06   \n\n    liquidityPoolDailySnapshots_pool_outputToken_name  \\\n0                            Olympus/Wrapped Ether LP   \n1                            Olympus/Wrapped Ether LP   \n2                            Olympus/Wrapped Ether LP   \n3                            Olympus/Wrapped Ether LP   \n4                            Olympus/Wrapped Ether LP   \n..                                                ...   \n495                          Olympus/Wrapped Ether LP   \n496                          Olympus/Wrapped Ether LP   \n497                          Olympus/Wrapped Ether LP   \n498                          Olympus/Wrapped Ether LP   \n499                          Olympus/Wrapped Ether LP   \n\n    liquidityPoolDailySnapshots_pool_outputToken_symbol  \\\n0                                Olympus/Wrapped Ether    \n1                                Olympus/Wrapped Ether    \n2                                Olympus/Wrapped Ether    \n3                                Olympus/Wrapped Ether    \n4                                Olympus/Wrapped Ether    \n..                                                 ...    \n495                              Olympus/Wrapped Ether    \n496                              Olympus/Wrapped Ether    \n497                              Olympus/Wrapped Ether    \n498                              Olympus/Wrapped Ether    \n499                              Olympus/Wrapped Ether    \n\n    liquidityPoolDailySnapshots_pool_outputToken_decimals  \\\n0                                                   18      \n1                                                   18      \n2                                                   18      \n3                                                   18      \n4                                                   18      \n..                                                 ...      \n495                                                 18      \n496                                                 18      \n497                                                 18      \n498                                                 18      \n499                                                 18      \n\n    liquidityPoolDailySnapshots_pool_outputToken_lastPriceUSD  \\\n0                                                  0.0          \n1                                                  0.0          \n2                                                  0.0          \n3                                                  0.0          \n4                                                  0.0          \n..                                                 ...          \n495                                                0.0          \n496                                                0.0          \n497                                                0.0          \n498                                                0.0          \n499                                                0.0          \n\n    liquidityPoolDailySnapshots_pool_outputToken_lastPriceBlockNumber  \\\n0                                                    0                  \n1                                                    0                  \n2                                                    0                  \n3                                                    0                  \n4                                                    0                  \n..                                                 ...                  \n495                                                  0                  \n496                                                  0                  \n497                                                  0                  \n498                                                  0                  \n499                                                  0                  \n\n               dateTime    dex  \n0   2023-02-18 23:58:35  Sushi  \n1   2023-02-17 04:33:47  Sushi  \n2   2023-02-16 20:25:47  Sushi  \n3   2023-02-15 20:47:47  Sushi  \n4   2023-02-14 07:24:23  Sushi  \n..                  ...    ...  \n495 2021-09-24 23:39:10  Sushi  \n496 2021-09-23 23:46:23  Sushi  \n497 2021-09-22 23:25:47  Sushi  \n498 2021-09-21 23:51:17  Sushi  \n499 2021-09-20 23:32:49  Sushi  \n\n[500 rows x 25 columns]",
      "text/html": "<div>\n<style scoped>\n    .dataframe tbody tr th:only-of-type {\n        vertical-align: middle;\n    }\n\n    .dataframe tbody tr th {\n        vertical-align: top;\n    }\n\n    .dataframe thead th {\n        text-align: right;\n    }\n</style>\n<table border=\"1\" class=\"dataframe\">\n  <thead>\n    <tr style=\"text-align: right;\">\n      <th></th>\n      <th>liquidityPoolDailySnapshots_id</th>\n      <th>liquidityPoolDailySnapshots_timestamp</th>\n      <th>liquidityPoolDailySnapshots_blockNumber</th>\n      <th>liquidityPoolDailySnapshots_totalValueLockedUSD</th>\n      <th>liquidityPoolDailySnapshots_cumulativeSupplySideRevenueUSD</th>\n      <th>liquidityPoolDailySnapshots_dailySupplySideRevenueUSD</th>\n      <th>liquidityPoolDailySnapshots_cumulativeProtocolSideRevenueUSD</th>\n      <th>liquidityPoolDailySnapshots_dailyProtocolSideRevenueUSD</th>\n      <th>liquidityPoolDailySnapshots_cumulativeTotalRevenueUSD</th>\n      <th>liquidityPoolDailySnapshots_dailyTotalRevenueUSD</th>\n      <th>...</th>\n      <th>liquidityPoolDailySnapshots_pool_name</th>\n      <th>liquidityPoolDailySnapshots_pool_symbol</th>\n      <th>liquidityPoolDailySnapshots_pool_outputToken_id</th>\n      <th>liquidityPoolDailySnapshots_pool_outputToken_name</th>\n      <th>liquidityPoolDailySnapshots_pool_outputToken_symbol</th>\n      <th>liquidityPoolDailySnapshots_pool_outputToken_decimals</th>\n      <th>liquidityPoolDailySnapshots_pool_outputToken_lastPriceUSD</th>\n      <th>liquidityPoolDailySnapshots_pool_outputToken_lastPriceBlockNumber</th>\n      <th>dateTime</th>\n      <th>dex</th>\n    </tr>\n  </thead>\n  <tbody>\n    <tr>\n      <th>0</th>\n      <td>0xfffae4a0f4ac251f4705717cd24cadccc9f33e06-19406</td>\n      <td>1676764715</td>\n      <td>16658931</td>\n      <td>19703.020825</td>\n      <td>3.908983e+06</td>\n      <td>9.283523</td>\n      <td>781796.669355</td>\n      <td>1.856705</td>\n      <td>4.690780e+06</td>\n      <td>11.140227</td>\n      <td>...</td>\n      <td>SushiSwap Olympus/Wrapped Ether</td>\n      <td>Olympus/Wrapped Ether</td>\n      <td>0xfffae4a0f4ac251f4705717cd24cadccc9f33e06</td>\n      <td>Olympus/Wrapped Ether LP</td>\n      <td>Olympus/Wrapped Ether</td>\n      <td>18</td>\n      <td>0.0</td>\n      <td>0</td>\n      <td>2023-02-18 23:58:35</td>\n      <td>Sushi</td>\n    </tr>\n    <tr>\n      <th>1</th>\n      <td>0xfffae4a0f4ac251f4705717cd24cadccc9f33e06-19405</td>\n      <td>1676608427</td>\n      <td>16646089</td>\n      <td>19131.879946</td>\n      <td>3.908974e+06</td>\n      <td>10.562457</td>\n      <td>781794.812651</td>\n      <td>2.112491</td>\n      <td>4.690769e+06</td>\n      <td>12.674948</td>\n      <td>...</td>\n      <td>SushiSwap Olympus/Wrapped Ether</td>\n      <td>Olympus/Wrapped Ether</td>\n      <td>0xfffae4a0f4ac251f4705717cd24cadccc9f33e06</td>\n      <td>Olympus/Wrapped Ether LP</td>\n      <td>Olympus/Wrapped Ether</td>\n      <td>18</td>\n      <td>0.0</td>\n      <td>0</td>\n      <td>2023-02-17 04:33:47</td>\n      <td>Sushi</td>\n    </tr>\n    <tr>\n      <th>2</th>\n      <td>0xfffae4a0f4ac251f4705717cd24cadccc9f33e06-19404</td>\n      <td>1676579147</td>\n      <td>16643666</td>\n      <td>19759.451421</td>\n      <td>3.908964e+06</td>\n      <td>0.012730</td>\n      <td>781792.700159</td>\n      <td>0.002546</td>\n      <td>4.690756e+06</td>\n      <td>0.015276</td>\n      <td>...</td>\n      <td>SushiSwap Olympus/Wrapped Ether</td>\n      <td>Olympus/Wrapped Ether</td>\n      <td>0xfffae4a0f4ac251f4705717cd24cadccc9f33e06</td>\n      <td>Olympus/Wrapped Ether LP</td>\n      <td>Olympus/Wrapped Ether</td>\n      <td>18</td>\n      <td>0.0</td>\n      <td>0</td>\n      <td>2023-02-16 20:25:47</td>\n      <td>Sushi</td>\n    </tr>\n    <tr>\n      <th>3</th>\n      <td>0xfffae4a0f4ac251f4705717cd24cadccc9f33e06-19403</td>\n      <td>1676494067</td>\n      <td>16636619</td>\n      <td>19569.140970</td>\n      <td>3.908963e+06</td>\n      <td>1.202852</td>\n      <td>781792.697613</td>\n      <td>0.240570</td>\n      <td>4.690756e+06</td>\n      <td>1.443423</td>\n      <td>...</td>\n      <td>SushiSwap Olympus/Wrapped Ether</td>\n      <td>Olympus/Wrapped Ether</td>\n      <td>0xfffae4a0f4ac251f4705717cd24cadccc9f33e06</td>\n      <td>Olympus/Wrapped Ether LP</td>\n      <td>Olympus/Wrapped Ether</td>\n      <td>18</td>\n      <td>0.0</td>\n      <td>0</td>\n      <td>2023-02-15 20:47:47</td>\n      <td>Sushi</td>\n    </tr>\n    <tr>\n      <th>4</th>\n      <td>0xfffae4a0f4ac251f4705717cd24cadccc9f33e06-19402</td>\n      <td>1676359463</td>\n      <td>16625484</td>\n      <td>17834.607250</td>\n      <td>3.908962e+06</td>\n      <td>0.025166</td>\n      <td>781792.457043</td>\n      <td>0.005033</td>\n      <td>4.690755e+06</td>\n      <td>0.030199</td>\n      <td>...</td>\n      <td>SushiSwap Olympus/Wrapped Ether</td>\n      <td>Olympus/Wrapped Ether</td>\n      <td>0xfffae4a0f4ac251f4705717cd24cadccc9f33e06</td>\n      <td>Olympus/Wrapped Ether LP</td>\n      <td>Olympus/Wrapped Ether</td>\n      <td>18</td>\n      <td>0.0</td>\n      <td>0</td>\n      <td>2023-02-14 07:24:23</td>\n      <td>Sushi</td>\n    </tr>\n    <tr>\n      <th>...</th>\n      <td>...</td>\n      <td>...</td>\n      <td>...</td>\n      <td>...</td>\n      <td>...</td>\n      <td>...</td>\n      <td>...</td>\n      <td>...</td>\n      <td>...</td>\n      <td>...</td>\n      <td>...</td>\n      <td>...</td>\n      <td>...</td>\n      <td>...</td>\n      <td>...</td>\n      <td>...</td>\n      <td>...</td>\n      <td>...</td>\n      <td>...</td>\n      <td>...</td>\n      <td>...</td>\n    </tr>\n    <tr>\n      <th>495</th>\n      <td>0xfffae4a0f4ac251f4705717cd24cadccc9f33e06-18894</td>\n      <td>1632526750</td>\n      <td>13291458</td>\n      <td>23358.455425</td>\n      <td>1.865556e+04</td>\n      <td>59.174597</td>\n      <td>3731.112503</td>\n      <td>11.834919</td>\n      <td>2.238668e+04</td>\n      <td>71.009517</td>\n      <td>...</td>\n      <td>SushiSwap Olympus/Wrapped Ether</td>\n      <td>Olympus/Wrapped Ether</td>\n      <td>0xfffae4a0f4ac251f4705717cd24cadccc9f33e06</td>\n      <td>Olympus/Wrapped Ether LP</td>\n      <td>Olympus/Wrapped Ether</td>\n      <td>18</td>\n      <td>0.0</td>\n      <td>0</td>\n      <td>2021-09-24 23:39:10</td>\n      <td>Sushi</td>\n    </tr>\n    <tr>\n      <th>496</th>\n      <td>0xfffae4a0f4ac251f4705717cd24cadccc9f33e06-18893</td>\n      <td>1632440783</td>\n      <td>13285040</td>\n      <td>24887.291789</td>\n      <td>1.859639e+04</td>\n      <td>50.284299</td>\n      <td>3719.277584</td>\n      <td>10.056860</td>\n      <td>2.231567e+04</td>\n      <td>60.341158</td>\n      <td>...</td>\n      <td>SushiSwap Olympus/Wrapped Ether</td>\n      <td>Olympus/Wrapped Ether</td>\n      <td>0xfffae4a0f4ac251f4705717cd24cadccc9f33e06</td>\n      <td>Olympus/Wrapped Ether LP</td>\n      <td>Olympus/Wrapped Ether</td>\n      <td>18</td>\n      <td>0.0</td>\n      <td>0</td>\n      <td>2021-09-23 23:46:23</td>\n      <td>Sushi</td>\n    </tr>\n    <tr>\n      <th>497</th>\n      <td>0xfffae4a0f4ac251f4705717cd24cadccc9f33e06-18892</td>\n      <td>1632353147</td>\n      <td>13278544</td>\n      <td>23959.376714</td>\n      <td>1.854610e+04</td>\n      <td>121.570307</td>\n      <td>3709.220724</td>\n      <td>24.314061</td>\n      <td>2.225532e+04</td>\n      <td>145.884368</td>\n      <td>...</td>\n      <td>SushiSwap Olympus/Wrapped Ether</td>\n      <td>Olympus/Wrapped Ether</td>\n      <td>0xfffae4a0f4ac251f4705717cd24cadccc9f33e06</td>\n      <td>Olympus/Wrapped Ether LP</td>\n      <td>Olympus/Wrapped Ether</td>\n      <td>18</td>\n      <td>0.0</td>\n      <td>0</td>\n      <td>2021-09-22 23:25:47</td>\n      <td>Sushi</td>\n    </tr>\n    <tr>\n      <th>498</th>\n      <td>0xfffae4a0f4ac251f4705717cd24cadccc9f33e06-18891</td>\n      <td>1632268277</td>\n      <td>13272215</td>\n      <td>22682.986178</td>\n      <td>1.842453e+04</td>\n      <td>30.369032</td>\n      <td>3684.906663</td>\n      <td>6.073806</td>\n      <td>2.210944e+04</td>\n      <td>36.442838</td>\n      <td>...</td>\n      <td>SushiSwap Olympus/Wrapped Ether</td>\n      <td>Olympus/Wrapped Ether</td>\n      <td>0xfffae4a0f4ac251f4705717cd24cadccc9f33e06</td>\n      <td>Olympus/Wrapped Ether LP</td>\n      <td>Olympus/Wrapped Ether</td>\n      <td>18</td>\n      <td>0.0</td>\n      <td>0</td>\n      <td>2021-09-21 23:51:17</td>\n      <td>Sushi</td>\n    </tr>\n    <tr>\n      <th>499</th>\n      <td>0xfffae4a0f4ac251f4705717cd24cadccc9f33e06-18890</td>\n      <td>1632180769</td>\n      <td>13265646</td>\n      <td>21682.848765</td>\n      <td>1.839416e+04</td>\n      <td>36.949720</td>\n      <td>3678.832856</td>\n      <td>7.389944</td>\n      <td>2.207300e+04</td>\n      <td>44.339664</td>\n      <td>...</td>\n      <td>SushiSwap Olympus/Wrapped Ether</td>\n      <td>Olympus/Wrapped Ether</td>\n      <td>0xfffae4a0f4ac251f4705717cd24cadccc9f33e06</td>\n      <td>Olympus/Wrapped Ether LP</td>\n      <td>Olympus/Wrapped Ether</td>\n      <td>18</td>\n      <td>0.0</td>\n      <td>0</td>\n      <td>2021-09-20 23:32:49</td>\n      <td>Sushi</td>\n    </tr>\n  </tbody>\n</table>\n<p>500 rows × 25 columns</p>\n</div>"
     },
     "execution_count": 16,
     "metadata": {},
     "output_type": "execute_result"
    }
   ],
   "source": [
    "pool_data = pd.concat([sushi_pool_datadb,balancer_pool_datadb,uniswap_pool_datadb,curve_pool_datadb])\n",
    "pool_data.head(500)"
   ],
   "metadata": {
    "collapsed": false
   }
  },
  {
   "cell_type": "code",
   "execution_count": null,
   "outputs": [],
   "source": [
    "global file\n",
    "file = input('Selet a folder to save output') ##enter your file path here - the file is in the repo \"summary_stats.csv\".\n",
    "path =file+'/LPsnapshots '+str(date.today().strftime(\"%b-%d-%Y\"))+str(len(pool_data))+'records.csv'\n",
    "pool_data.to_csv(path, index = False)"
   ],
   "metadata": {
    "collapsed": false
   }
  },
  {
   "cell_type": "code",
   "execution_count": null,
   "outputs": [],
   "source": [
    "print(len(pool_data))"
   ],
   "metadata": {
    "collapsed": false
   }
  },
  {
   "cell_type": "code",
   "execution_count": 17,
   "outputs": [
    {
     "name": "stdout",
     "output_type": "stream",
     "text": [
      "[Text(0.5, 1.0, 'Total Pool Liquidity per DEX'), Text(0.5, 0, 'DEX'), Text(0, 0.5, 'TVL - USD')]\n"
     ]
    },
    {
     "data": {
      "text/plain": "<Figure size 432x288 with 1 Axes>",
      "image/png": "[encoded data removed]"
     },
     "metadata": {
      "needs_background": "light"
     },
     "output_type": "display_data"
    }
   ],
   "source": [
    "plt.rc(\"figure\", figsize=(40, 20))\n",
    "#sns.set_style(\"whitegrid\")\n",
    "plt.rc(\"font\", size=25)\n",
    "\n",
    "\n",
    "value_locked = pool_data.groupby(\"dex\")[\"liquidityPoolDailySnapshots_totalValueLockedUSD\"].agg(\"sum\").reset_index()\n",
    "plot_title = 'Total Pool Liquidity per DEX'\n",
    "chart=sns.barplot(data=value_locked,y=\"liquidityPoolDailySnapshots_totalValueLockedUSD\",x=\"dex\").set(title = plot_title, xlabel = 'DEX', ylabel = 'TVL - USD', )\n",
    "print(chart)\n"
   ],
   "metadata": {
    "collapsed": false
   }
  },
  {
   "cell_type": "code",
   "execution_count": null,
   "outputs": [],
   "source": [],
   "metadata": {
    "collapsed": false
   }
  }
 ],
 "metadata": {
  "kernelspec": {
   "display_name": "Python 3",
   "language": "python",
   "name": "python3"
  },
  "language_info": {
   "codemirror_mode": {
    "name": "ipython",
    "version": 2
   },
   "file_extension": ".py",
   "mimetype": "text/x-python",
   "name": "python",
   "nbconvert_exporter": "python",
   "pygments_lexer": "ipython2",
   "version": "2.7.6"
  }
 },
 "nbformat": 4,
 "nbformat_minor": 0
}
