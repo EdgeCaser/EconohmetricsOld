{
 "cells": [
  {
   "cell_type": "code",
   "execution_count": 1,
   "outputs": [],
   "source": [
    "from datetime import datetime\n",
    "import datetime as dt\n",
    "import time\n",
    "from subgrounds.subgraph import SyntheticField, FieldPath\n",
    "from subgrounds.subgrounds import Subgrounds\n",
    "import pandas as pd\n",
    "import duckdb as db\n",
    "import seaborn as sns\n",
    "import matplotlib.pyplot as plt\n",
    "import IPython as ip\n",
    "import  os as os\n"
   ],
   "metadata": {
    "collapsed": false
   }
  },
  {
   "cell_type": "code",
   "execution_count": 2,
   "outputs": [],
   "source": [
    "sg = Subgrounds()\n",
    "apiKey = input('API Key, please')"
   ],
   "metadata": {
    "collapsed": false
   }
  },
  {
   "cell_type": "code",
   "execution_count": 3,
   "outputs": [],
   "source": [
    "#for when we save the files\n",
    "file = input('Selet a folder to save output') ##enter your file path here - the file is in the repo \"summary_stats.csv\".\n",
    "file = file+'/data'\n",
    "if not os.path.exists(file):\n",
    "    os.makedirs(file)"
   ],
   "metadata": {
    "collapsed": false
   }
  },
  {
   "cell_type": "markdown",
   "source": [],
   "metadata": {
    "collapsed": false
   }
  },
  {
   "cell_type": "markdown",
   "source": [
    "*******************************************************************\n",
    "*******************************************************************\n",
    "LET'S LOOK AT SILO BORROWS FIRST\n",
    "https://app.silo.finance/silo/0xc413dd03555f3eb29d834b482d386b2999dc2eb0"
   ],
   "metadata": {
    "collapsed": false
   }
  },
  {
   "cell_type": "code",
   "execution_count": 4,
   "outputs": [],
   "source": [
    "#SILO subgraph: https://gateway.thegraph.com/api/[api-key]/subgraphs/id/6rcT2GzBXGoi3ZMus92LHajM2b9qWGj7Z3dDhPxoUogB\n",
    "silo = sg.load_api('https://gateway.thegraph.com/api/'+apiKey+'/subgraphs/id/6rcT2GzBXGoi3ZMus92LHajM2b9qWGj7Z3dDhPxoUogB')"
   ],
   "metadata": {
    "collapsed": false
   }
  },
  {
   "cell_type": "code",
   "execution_count": 5,
   "outputs": [
    {
     "data": {
      "text/plain": "Empty DataFrame\nColumns: []\nIndex: []",
      "text/html": "<div>\n<style scoped>\n    .dataframe tbody tr th:only-of-type {\n        vertical-align: middle;\n    }\n\n    .dataframe tbody tr th {\n        vertical-align: top;\n    }\n\n    .dataframe thead th {\n        text-align: right;\n    }\n</style>\n<table border=\"1\" class=\"dataframe\">\n  <thead>\n    <tr style=\"text-align: right;\">\n      <th></th>\n    </tr>\n  </thead>\n  <tbody>\n  </tbody>\n</table>\n</div>"
     },
     "execution_count": 5,
     "metadata": {},
     "output_type": "execute_result"
    }
   ],
   "source": [
    "oldBorrowsDb = pd.DataFrame()\n",
    "siloFileName = file+'/siloFinance_borrows.csv'\n",
    "try:\n",
    "    oldBorrowsDb = pd.read_csv (siloFileName)\n",
    "except:\n",
    "    oldBorrowsDb = pd.DataFrame()\n",
    "oldBorrowsDb.head(100)"
   ],
   "metadata": {
    "collapsed": false
   }
  },
  {
   "cell_type": "code",
   "execution_count": 6,
   "outputs": [
    {
     "data": {
      "text/plain": "0"
     },
     "execution_count": 6,
     "metadata": {},
     "output_type": "execute_result"
    }
   ],
   "source": [
    "maxSiloBorrowTimestamp = 0\n",
    "try:\n",
    "    maxSiloBorrowTimestamp = (max(0,oldBorrowsDb['transaction_timestamp'].max()))-5\n",
    "except:\n",
    "        maxSiloBorrowTimestamp = 0\n",
    "maxSiloBorrowTimestamp = int(maxSiloBorrowTimestamp)\n",
    "maxSiloBorrowTimestamp"
   ],
   "metadata": {
    "collapsed": false
   }
  },
  {
   "cell_type": "code",
   "execution_count": 66,
   "outputs": [
    {
     "name": "stdout",
     "output_type": "stream",
     "text": [
      "iterations:  0 Lines skipped:  0 records collected:  1998  - latest recordID:  0xccb7b4f00f58ea66194c868a8d0dfbc35816b965da27f70941fd16a318fd8638   0xccb7b4f00f58ea66194c868a8d0dfbc35816b965da27f70941fd16a318fd8638-228  - borrows DB length:  1998  - latest record from:  2023-02-25 04:10:47 0 days ago\n",
      "iterations:  1 Lines skipped:  1000 records collected:  0  - latest recordID:  0xccb7b4f00f58ea66194c868a8d0dfbc35816b965da27f70941fd16a318fd8638   0xccb7b4f00f58ea66194c868a8d0dfbc35816b965da27f70941fd16a318fd8638-228  - borrows DB length:  1998  - latest record from:  2023-02-25 04:10:47 0 days ago\n",
      "Done. Total Records collected:  1998\n"
     ]
    }
   ],
   "source": [
    "##this captures the ENTIRE list of people who borrowed XAI against gOHM\n",
    "borrowTicker = 0\n",
    "borrowslist = pd.DataFrame()\n",
    "borrowsDb = pd.DataFrame()\n",
    "borrowListLength = 1000\n",
    "datediff = 0\n",
    "now=0\n",
    "daysAgo=0\n",
    "daysLimit = 45\n",
    "exit = False\n",
    "while exit==False:\n",
    "    skipValue = (borrowTicker)*(1000)\n",
    "    borrows = silo.Query.borrows(\n",
    "        orderBy='timestamp',\n",
    "        orderDirection='desc',\n",
    "        first=1000,\n",
    "        skip = skipValue,\n",
    "        where={ 'market': '0xc413dd03555f3eb29d834b482d386b2999dc2eb0',\n",
    "                'timestamp_gte': maxSiloBorrowTimestamp\n",
    "                } #gOHM market\n",
    "\n",
    "    )\n",
    "\n",
    "    borrowslist = sg.query_df([\n",
    "        borrows.id\n",
    "        ,borrows.hash\n",
    "        ,borrows.blockNumber\n",
    "        ,borrows.timestamp\n",
    "        ,borrows.account.id\n",
    "        ,borrows.market.id\n",
    "        ,borrows.market.protocol.id\n",
    "        ,borrows.market.rates.rate\n",
    "        ,borrows.market.rates.duration\n",
    "        ,borrows.market.rates.side\n",
    "        ,borrows.market.rates.type\n",
    "        ,borrows.market.rates.token.id\n",
    "        ,borrows.asset.name\n",
    "        ,borrows.asset.symbol\n",
    "        ,borrows.asset.decimals\n",
    "        ,borrows.asset.lastPriceUSD\n",
    "        ,borrows.amount\n",
    "        ,borrows.amountUSD\n",
    "    ])\n",
    "\n",
    "    #borrowslist.sort_values(by=['borrows_timestamp'])\n",
    "\n",
    "    borrowsDb=pd.concat([borrowsDb, borrowslist])\n",
    "    recordTimestamp1 = borrowsDb.iat[borrowTicker,3]\n",
    "    recordTimestamp = dt.datetime.fromtimestamp( recordTimestamp1 )\n",
    "    now = (int(dt.datetime.utcnow().timestamp()))\n",
    "    datediff=abs(int(now) - recordTimestamp1)\n",
    "    daysAgo = int(datediff/86400)\n",
    "    borrowsDbLength = len(borrowsDb)\n",
    "    borrowListLength = len(borrowslist)\n",
    "    recordID = borrowsDb.iat[borrowTicker,0]\n",
    "    borrow = borrowsDb.iat[borrowTicker,1]\n",
    "    print(\"iterations: \", borrowTicker, \"Lines skipped: \",skipValue, \"records collected: \", borrowListLength, \" - latest recordID: \",borrow, \" \", recordID , \" - borrows DB length: \", borrowsDbLength, \" - latest record from: \", recordTimestamp, daysAgo,\"days ago\")\n",
    "    #print(\"iterations: \", borrowTicker, \"records collected: \", borrowListLength, \" - userdb length: \", borrowsDbLength)\n",
    "    borrowTicker = borrowTicker+1\n",
    "\n",
    "    if daysAgo>daysLimit: exit =True\n",
    "    if borrowListLength<1000: exit =True\n",
    "\n",
    "borrowsDb.columns = borrowsDb.columns.str.replace(\"borrows\", \"transaction\")\n",
    "borrowsDb['event']='borrow'\n",
    "borrowsDb.drop_duplicates\n",
    "print(\"Done. Total Records collected: \", borrowsDbLength)"
   ],
   "metadata": {
    "collapsed": false
   }
  },
  {
   "cell_type": "code",
   "execution_count": 67,
   "outputs": [
    {
     "data": {
      "text/plain": "                                       transaction_id  \\\n0   0xccb7b4f00f58ea66194c868a8d0dfbc35816b965da27...   \n1   0xccb7b4f00f58ea66194c868a8d0dfbc35816b965da27...   \n2   0xccb7b4f00f58ea66194c868a8d0dfbc35816b965da27...   \n3   0xccb7b4f00f58ea66194c868a8d0dfbc35816b965da27...   \n4   0xccb7b4f00f58ea66194c868a8d0dfbc35816b965da27...   \n..                                                ...   \n95  0x264ecb6cc9089ebf8fcb6f8ae5ce26358b15b0551e61...   \n96  0x65ddba01deef5ba9df8f48c688b1bcca63ceb6255e5c...   \n97  0x65ddba01deef5ba9df8f48c688b1bcca63ceb6255e5c...   \n98  0x65ddba01deef5ba9df8f48c688b1bcca63ceb6255e5c...   \n99  0x65ddba01deef5ba9df8f48c688b1bcca63ceb6255e5c...   \n\n                                     transaction_hash  \\\n0   0xccb7b4f00f58ea66194c868a8d0dfbc35816b965da27...   \n1   0xccb7b4f00f58ea66194c868a8d0dfbc35816b965da27...   \n2   0xccb7b4f00f58ea66194c868a8d0dfbc35816b965da27...   \n3   0xccb7b4f00f58ea66194c868a8d0dfbc35816b965da27...   \n4   0xccb7b4f00f58ea66194c868a8d0dfbc35816b965da27...   \n..                                                ...   \n95  0x264ecb6cc9089ebf8fcb6f8ae5ce26358b15b0551e61...   \n96  0x65ddba01deef5ba9df8f48c688b1bcca63ceb6255e5c...   \n97  0x65ddba01deef5ba9df8f48c688b1bcca63ceb6255e5c...   \n98  0x65ddba01deef5ba9df8f48c688b1bcca63ceb6255e5c...   \n99  0x65ddba01deef5ba9df8f48c688b1bcca63ceb6255e5c...   \n\n    transaction_blockNumber  transaction_timestamp  \\\n0                  16705210             1677327047   \n1                  16705210             1677327047   \n2                  16705210             1677327047   \n3                  16705210             1677327047   \n4                  16705210             1677327047   \n..                      ...                    ...   \n95                 16648400             1676636519   \n96                 16647257             1676622563   \n97                 16647257             1676622563   \n98                 16647257             1676622563   \n99                 16647257             1676622563   \n\n                        transaction_account_id  \\\n0   0xd49a92e7b6b0cb702f4cfb35c2502c08f26ef62e   \n1   0xd49a92e7b6b0cb702f4cfb35c2502c08f26ef62e   \n2   0xd49a92e7b6b0cb702f4cfb35c2502c08f26ef62e   \n3   0xd49a92e7b6b0cb702f4cfb35c2502c08f26ef62e   \n4   0xd49a92e7b6b0cb702f4cfb35c2502c08f26ef62e   \n..                                         ...   \n95  0xcb6e1613029d790c00f89296808f278d6dc25b2f   \n96  0xf3fcaba0702b49c33664058ed6dc745ed6d393f1   \n97  0xf3fcaba0702b49c33664058ed6dc745ed6d393f1   \n98  0xf3fcaba0702b49c33664058ed6dc745ed6d393f1   \n99  0xf3fcaba0702b49c33664058ed6dc745ed6d393f1   \n\n                         transaction_market_id  \\\n0   0xac3333401e69574d433307b31f43a7826eb6f8fd   \n1   0xac3333401e69574d433307b31f43a7826eb6f8fd   \n2   0xac3333401e69574d433307b31f43a7826eb6f8fd   \n3   0xac3333401e69574d433307b31f43a7826eb6f8fd   \n4   0xac3333401e69574d433307b31f43a7826eb6f8fd   \n..                                         ...   \n95  0xf5ffabab8f9a6f4f6de1f0dd6e0820f68657d7db   \n96  0xac3333401e69574d433307b31f43a7826eb6f8fd   \n97  0xac3333401e69574d433307b31f43a7826eb6f8fd   \n98  0xac3333401e69574d433307b31f43a7826eb6f8fd   \n99  0xac3333401e69574d433307b31f43a7826eb6f8fd   \n\n                transaction_market_protocol_id  transaction_market_rates_rate  \\\n0   0xd998c35b7900b344bbbe6555cc11576942cf309d                       0.000000   \n1   0xd998c35b7900b344bbbe6555cc11576942cf309d                       0.000000   \n2   0xd998c35b7900b344bbbe6555cc11576942cf309d                       3.457274   \n3   0xd998c35b7900b344bbbe6555cc11576942cf309d                       0.000000   \n4   0xd998c35b7900b344bbbe6555cc11576942cf309d                       0.000000   \n..                                         ...                            ...   \n95  0xd998c35b7900b344bbbe6555cc11576942cf309d                       0.943749   \n96  0xd998c35b7900b344bbbe6555cc11576942cf309d                       0.000000   \n97  0xd998c35b7900b344bbbe6555cc11576942cf309d                       0.000000   \n98  0xd998c35b7900b344bbbe6555cc11576942cf309d                       3.457274   \n99  0xd998c35b7900b344bbbe6555cc11576942cf309d                       0.000000   \n\n   transaction_market_rates_duration transaction_market_rates_side  \\\n0                               None                      BORROWER   \n1                               None                      BORROWER   \n2                               None                      BORROWER   \n3                               None                        LENDER   \n4                               None                        LENDER   \n..                               ...                           ...   \n95                              None                        LENDER   \n96                              None                      BORROWER   \n97                              None                      BORROWER   \n98                              None                      BORROWER   \n99                              None                        LENDER   \n\n   transaction_market_rates_type           transaction_market_rates_token_id  \\\n0                       VARIABLE  0x4a220e6096b25eadb88358cb44068a3248254675   \n1                       VARIABLE  0xc02aaa39b223fe8d0a0e5c4f27ead9083c756cc2   \n2                       VARIABLE  0xd7c9f0e536dc865ae858b0c0453fe76d13c3beac   \n3                       VARIABLE  0x4a220e6096b25eadb88358cb44068a3248254675   \n4                       VARIABLE  0xc02aaa39b223fe8d0a0e5c4f27ead9083c756cc2   \n..                           ...                                         ...   \n95                      VARIABLE  0xd7c9f0e536dc865ae858b0c0453fe76d13c3beac   \n96                      VARIABLE  0x4a220e6096b25eadb88358cb44068a3248254675   \n97                      VARIABLE  0xc02aaa39b223fe8d0a0e5c4f27ead9083c756cc2   \n98                      VARIABLE  0xd7c9f0e536dc865ae858b0c0453fe76d13c3beac   \n99                      VARIABLE  0x4a220e6096b25eadb88358cb44068a3248254675   \n\n   transaction_asset_name transaction_asset_symbol  \\\n0          XAI Stablecoin                      XAI   \n1          XAI Stablecoin                      XAI   \n2          XAI Stablecoin                      XAI   \n3          XAI Stablecoin                      XAI   \n4          XAI Stablecoin                      XAI   \n..                    ...                      ...   \n95                Olympus                      OHM   \n96         XAI Stablecoin                      XAI   \n97         XAI Stablecoin                      XAI   \n98         XAI Stablecoin                      XAI   \n99         XAI Stablecoin                      XAI   \n\n    transaction_asset_decimals  transaction_asset_lastPriceUSD  \\\n0                           18                        1.006361   \n1                           18                        1.006361   \n2                           18                        1.006361   \n3                           18                        1.006361   \n4                           18                        1.006361   \n..                         ...                             ...   \n95                           9                       10.368667   \n96                          18                        1.006361   \n97                          18                        1.006361   \n98                          18                        1.006361   \n99                          18                        1.006361   \n\n         transaction_amount  transaction_amountUSD   event  \n0    3300000000000000000000            3317.807830  borrow  \n1    3300000000000000000000            3317.807830  borrow  \n2    3300000000000000000000            3317.807830  borrow  \n3    3300000000000000000000            3317.807830  borrow  \n4    3300000000000000000000            3317.807830  borrow  \n..                      ...                    ...     ...  \n95              58000000000             615.628222  borrow  \n96  50000000000000000000000           50138.456850  borrow  \n97  50000000000000000000000           50138.456850  borrow  \n98  50000000000000000000000           50138.456850  borrow  \n99  50000000000000000000000           50138.456850  borrow  \n\n[100 rows x 19 columns]",
      "text/html": "<div>\n<style scoped>\n    .dataframe tbody tr th:only-of-type {\n        vertical-align: middle;\n    }\n\n    .dataframe tbody tr th {\n        vertical-align: top;\n    }\n\n    .dataframe thead th {\n        text-align: right;\n    }\n</style>\n<table border=\"1\" class=\"dataframe\">\n  <thead>\n    <tr style=\"text-align: right;\">\n      <th></th>\n      <th>transaction_id</th>\n      <th>transaction_hash</th>\n      <th>transaction_blockNumber</th>\n      <th>transaction_timestamp</th>\n      <th>transaction_account_id</th>\n      <th>transaction_market_id</th>\n      <th>transaction_market_protocol_id</th>\n      <th>transaction_market_rates_rate</th>\n      <th>transaction_market_rates_duration</th>\n      <th>transaction_market_rates_side</th>\n      <th>transaction_market_rates_type</th>\n      <th>transaction_market_rates_token_id</th>\n      <th>transaction_asset_name</th>\n      <th>transaction_asset_symbol</th>\n      <th>transaction_asset_decimals</th>\n      <th>transaction_asset_lastPriceUSD</th>\n      <th>transaction_amount</th>\n      <th>transaction_amountUSD</th>\n      <th>event</th>\n    </tr>\n  </thead>\n  <tbody>\n    <tr>\n      <th>0</th>\n      <td>0xccb7b4f00f58ea66194c868a8d0dfbc35816b965da27...</td>\n      <td>0xccb7b4f00f58ea66194c868a8d0dfbc35816b965da27...</td>\n      <td>16705210</td>\n      <td>1677327047</td>\n      <td>0xd49a92e7b6b0cb702f4cfb35c2502c08f26ef62e</td>\n      <td>0xac3333401e69574d433307b31f43a7826eb6f8fd</td>\n      <td>0xd998c35b7900b344bbbe6555cc11576942cf309d</td>\n      <td>0.000000</td>\n      <td>None</td>\n      <td>BORROWER</td>\n      <td>VARIABLE</td>\n      <td>0x4a220e6096b25eadb88358cb44068a3248254675</td>\n      <td>XAI Stablecoin</td>\n      <td>XAI</td>\n      <td>18</td>\n      <td>1.006361</td>\n      <td>3300000000000000000000</td>\n      <td>3317.807830</td>\n      <td>borrow</td>\n    </tr>\n    <tr>\n      <th>1</th>\n      <td>0xccb7b4f00f58ea66194c868a8d0dfbc35816b965da27...</td>\n      <td>0xccb7b4f00f58ea66194c868a8d0dfbc35816b965da27...</td>\n      <td>16705210</td>\n      <td>1677327047</td>\n      <td>0xd49a92e7b6b0cb702f4cfb35c2502c08f26ef62e</td>\n      <td>0xac3333401e69574d433307b31f43a7826eb6f8fd</td>\n      <td>0xd998c35b7900b344bbbe6555cc11576942cf309d</td>\n      <td>0.000000</td>\n      <td>None</td>\n      <td>BORROWER</td>\n      <td>VARIABLE</td>\n      <td>0xc02aaa39b223fe8d0a0e5c4f27ead9083c756cc2</td>\n      <td>XAI Stablecoin</td>\n      <td>XAI</td>\n      <td>18</td>\n      <td>1.006361</td>\n      <td>3300000000000000000000</td>\n      <td>3317.807830</td>\n      <td>borrow</td>\n    </tr>\n    <tr>\n      <th>2</th>\n      <td>0xccb7b4f00f58ea66194c868a8d0dfbc35816b965da27...</td>\n      <td>0xccb7b4f00f58ea66194c868a8d0dfbc35816b965da27...</td>\n      <td>16705210</td>\n      <td>1677327047</td>\n      <td>0xd49a92e7b6b0cb702f4cfb35c2502c08f26ef62e</td>\n      <td>0xac3333401e69574d433307b31f43a7826eb6f8fd</td>\n      <td>0xd998c35b7900b344bbbe6555cc11576942cf309d</td>\n      <td>3.457274</td>\n      <td>None</td>\n      <td>BORROWER</td>\n      <td>VARIABLE</td>\n      <td>0xd7c9f0e536dc865ae858b0c0453fe76d13c3beac</td>\n      <td>XAI Stablecoin</td>\n      <td>XAI</td>\n      <td>18</td>\n      <td>1.006361</td>\n      <td>3300000000000000000000</td>\n      <td>3317.807830</td>\n      <td>borrow</td>\n    </tr>\n    <tr>\n      <th>3</th>\n      <td>0xccb7b4f00f58ea66194c868a8d0dfbc35816b965da27...</td>\n      <td>0xccb7b4f00f58ea66194c868a8d0dfbc35816b965da27...</td>\n      <td>16705210</td>\n      <td>1677327047</td>\n      <td>0xd49a92e7b6b0cb702f4cfb35c2502c08f26ef62e</td>\n      <td>0xac3333401e69574d433307b31f43a7826eb6f8fd</td>\n      <td>0xd998c35b7900b344bbbe6555cc11576942cf309d</td>\n      <td>0.000000</td>\n      <td>None</td>\n      <td>LENDER</td>\n      <td>VARIABLE</td>\n      <td>0x4a220e6096b25eadb88358cb44068a3248254675</td>\n      <td>XAI Stablecoin</td>\n      <td>XAI</td>\n      <td>18</td>\n      <td>1.006361</td>\n      <td>3300000000000000000000</td>\n      <td>3317.807830</td>\n      <td>borrow</td>\n    </tr>\n    <tr>\n      <th>4</th>\n      <td>0xccb7b4f00f58ea66194c868a8d0dfbc35816b965da27...</td>\n      <td>0xccb7b4f00f58ea66194c868a8d0dfbc35816b965da27...</td>\n      <td>16705210</td>\n      <td>1677327047</td>\n      <td>0xd49a92e7b6b0cb702f4cfb35c2502c08f26ef62e</td>\n      <td>0xac3333401e69574d433307b31f43a7826eb6f8fd</td>\n      <td>0xd998c35b7900b344bbbe6555cc11576942cf309d</td>\n      <td>0.000000</td>\n      <td>None</td>\n      <td>LENDER</td>\n      <td>VARIABLE</td>\n      <td>0xc02aaa39b223fe8d0a0e5c4f27ead9083c756cc2</td>\n      <td>XAI Stablecoin</td>\n      <td>XAI</td>\n      <td>18</td>\n      <td>1.006361</td>\n      <td>3300000000000000000000</td>\n      <td>3317.807830</td>\n      <td>borrow</td>\n    </tr>\n    <tr>\n      <th>...</th>\n      <td>...</td>\n      <td>...</td>\n      <td>...</td>\n      <td>...</td>\n      <td>...</td>\n      <td>...</td>\n      <td>...</td>\n      <td>...</td>\n      <td>...</td>\n      <td>...</td>\n      <td>...</td>\n      <td>...</td>\n      <td>...</td>\n      <td>...</td>\n      <td>...</td>\n      <td>...</td>\n      <td>...</td>\n      <td>...</td>\n      <td>...</td>\n    </tr>\n    <tr>\n      <th>95</th>\n      <td>0x264ecb6cc9089ebf8fcb6f8ae5ce26358b15b0551e61...</td>\n      <td>0x264ecb6cc9089ebf8fcb6f8ae5ce26358b15b0551e61...</td>\n      <td>16648400</td>\n      <td>1676636519</td>\n      <td>0xcb6e1613029d790c00f89296808f278d6dc25b2f</td>\n      <td>0xf5ffabab8f9a6f4f6de1f0dd6e0820f68657d7db</td>\n      <td>0xd998c35b7900b344bbbe6555cc11576942cf309d</td>\n      <td>0.943749</td>\n      <td>None</td>\n      <td>LENDER</td>\n      <td>VARIABLE</td>\n      <td>0xd7c9f0e536dc865ae858b0c0453fe76d13c3beac</td>\n      <td>Olympus</td>\n      <td>OHM</td>\n      <td>9</td>\n      <td>10.368667</td>\n      <td>58000000000</td>\n      <td>615.628222</td>\n      <td>borrow</td>\n    </tr>\n    <tr>\n      <th>96</th>\n      <td>0x65ddba01deef5ba9df8f48c688b1bcca63ceb6255e5c...</td>\n      <td>0x65ddba01deef5ba9df8f48c688b1bcca63ceb6255e5c...</td>\n      <td>16647257</td>\n      <td>1676622563</td>\n      <td>0xf3fcaba0702b49c33664058ed6dc745ed6d393f1</td>\n      <td>0xac3333401e69574d433307b31f43a7826eb6f8fd</td>\n      <td>0xd998c35b7900b344bbbe6555cc11576942cf309d</td>\n      <td>0.000000</td>\n      <td>None</td>\n      <td>BORROWER</td>\n      <td>VARIABLE</td>\n      <td>0x4a220e6096b25eadb88358cb44068a3248254675</td>\n      <td>XAI Stablecoin</td>\n      <td>XAI</td>\n      <td>18</td>\n      <td>1.006361</td>\n      <td>50000000000000000000000</td>\n      <td>50138.456850</td>\n      <td>borrow</td>\n    </tr>\n    <tr>\n      <th>97</th>\n      <td>0x65ddba01deef5ba9df8f48c688b1bcca63ceb6255e5c...</td>\n      <td>0x65ddba01deef5ba9df8f48c688b1bcca63ceb6255e5c...</td>\n      <td>16647257</td>\n      <td>1676622563</td>\n      <td>0xf3fcaba0702b49c33664058ed6dc745ed6d393f1</td>\n      <td>0xac3333401e69574d433307b31f43a7826eb6f8fd</td>\n      <td>0xd998c35b7900b344bbbe6555cc11576942cf309d</td>\n      <td>0.000000</td>\n      <td>None</td>\n      <td>BORROWER</td>\n      <td>VARIABLE</td>\n      <td>0xc02aaa39b223fe8d0a0e5c4f27ead9083c756cc2</td>\n      <td>XAI Stablecoin</td>\n      <td>XAI</td>\n      <td>18</td>\n      <td>1.006361</td>\n      <td>50000000000000000000000</td>\n      <td>50138.456850</td>\n      <td>borrow</td>\n    </tr>\n    <tr>\n      <th>98</th>\n      <td>0x65ddba01deef5ba9df8f48c688b1bcca63ceb6255e5c...</td>\n      <td>0x65ddba01deef5ba9df8f48c688b1bcca63ceb6255e5c...</td>\n      <td>16647257</td>\n      <td>1676622563</td>\n      <td>0xf3fcaba0702b49c33664058ed6dc745ed6d393f1</td>\n      <td>0xac3333401e69574d433307b31f43a7826eb6f8fd</td>\n      <td>0xd998c35b7900b344bbbe6555cc11576942cf309d</td>\n      <td>3.457274</td>\n      <td>None</td>\n      <td>BORROWER</td>\n      <td>VARIABLE</td>\n      <td>0xd7c9f0e536dc865ae858b0c0453fe76d13c3beac</td>\n      <td>XAI Stablecoin</td>\n      <td>XAI</td>\n      <td>18</td>\n      <td>1.006361</td>\n      <td>50000000000000000000000</td>\n      <td>50138.456850</td>\n      <td>borrow</td>\n    </tr>\n    <tr>\n      <th>99</th>\n      <td>0x65ddba01deef5ba9df8f48c688b1bcca63ceb6255e5c...</td>\n      <td>0x65ddba01deef5ba9df8f48c688b1bcca63ceb6255e5c...</td>\n      <td>16647257</td>\n      <td>1676622563</td>\n      <td>0xf3fcaba0702b49c33664058ed6dc745ed6d393f1</td>\n      <td>0xac3333401e69574d433307b31f43a7826eb6f8fd</td>\n      <td>0xd998c35b7900b344bbbe6555cc11576942cf309d</td>\n      <td>0.000000</td>\n      <td>None</td>\n      <td>LENDER</td>\n      <td>VARIABLE</td>\n      <td>0x4a220e6096b25eadb88358cb44068a3248254675</td>\n      <td>XAI Stablecoin</td>\n      <td>XAI</td>\n      <td>18</td>\n      <td>1.006361</td>\n      <td>50000000000000000000000</td>\n      <td>50138.456850</td>\n      <td>borrow</td>\n    </tr>\n  </tbody>\n</table>\n<p>100 rows × 19 columns</p>\n</div>"
     },
     "execution_count": 67,
     "metadata": {},
     "output_type": "execute_result"
    }
   ],
   "source": [
    "borrowsDb.head(100)"
   ],
   "metadata": {
    "collapsed": false
   }
  },
  {
   "cell_type": "code",
   "execution_count": 9,
   "outputs": [
    {
     "data": {
      "text/plain": "                                       transaction_id  \\\n0   0x16f2ff52f7a9e9057848569ea37c3e59eb558af0e044...   \n1   0x16f2ff52f7a9e9057848569ea37c3e59eb558af0e044...   \n2   0x16f2ff52f7a9e9057848569ea37c3e59eb558af0e044...   \n3   0x16f2ff52f7a9e9057848569ea37c3e59eb558af0e044...   \n4   0x16f2ff52f7a9e9057848569ea37c3e59eb558af0e044...   \n..                                                ...   \n95  0x30c76353a03ffe6931799da8b7439b1fcb02c3952f54...   \n96  0x5946a769e10307668b4b60aa3b36d5189916cc02fc23...   \n97  0x5946a769e10307668b4b60aa3b36d5189916cc02fc23...   \n98  0x5946a769e10307668b4b60aa3b36d5189916cc02fc23...   \n99  0x5946a769e10307668b4b60aa3b36d5189916cc02fc23...   \n\n                                     transaction_hash  \\\n0   0x16f2ff52f7a9e9057848569ea37c3e59eb558af0e044...   \n1   0x16f2ff52f7a9e9057848569ea37c3e59eb558af0e044...   \n2   0x16f2ff52f7a9e9057848569ea37c3e59eb558af0e044...   \n3   0x16f2ff52f7a9e9057848569ea37c3e59eb558af0e044...   \n4   0x16f2ff52f7a9e9057848569ea37c3e59eb558af0e044...   \n..                                                ...   \n95  0x30c76353a03ffe6931799da8b7439b1fcb02c3952f54...   \n96  0x5946a769e10307668b4b60aa3b36d5189916cc02fc23...   \n97  0x5946a769e10307668b4b60aa3b36d5189916cc02fc23...   \n98  0x5946a769e10307668b4b60aa3b36d5189916cc02fc23...   \n99  0x5946a769e10307668b4b60aa3b36d5189916cc02fc23...   \n\n    transaction_blockNumber  transaction_timestamp  \\\n0                  16589389             1675923839   \n1                  16589389             1675923839   \n2                  16589389             1675923839   \n3                  16589389             1675923839   \n4                  16589389             1675923839   \n..                      ...                    ...   \n95                 16533360             1675247171   \n96                 16684007             1677069179   \n97                 16684007             1677069179   \n98                 16684007             1677069179   \n99                 16684007             1677069179   \n\n                        transaction_account_id  \\\n0   0xb0399dac8f4d4100b49b2a7b3873481114229d18   \n1   0xb0399dac8f4d4100b49b2a7b3873481114229d18   \n2   0xb0399dac8f4d4100b49b2a7b3873481114229d18   \n3   0xb0399dac8f4d4100b49b2a7b3873481114229d18   \n4   0xb0399dac8f4d4100b49b2a7b3873481114229d18   \n..                                         ...   \n95  0x339fd7c17ce670e7821f2f2ee94ddd49771483da   \n96  0x5656cb4721c21e1f5dcbe03db9026ac0203d6e4f   \n97  0x5656cb4721c21e1f5dcbe03db9026ac0203d6e4f   \n98  0x5656cb4721c21e1f5dcbe03db9026ac0203d6e4f   \n99  0x5656cb4721c21e1f5dcbe03db9026ac0203d6e4f   \n\n                         transaction_market_id  \\\n0   0xc413dd03555f3eb29d834b482d386b2999dc2eb0   \n1   0xc413dd03555f3eb29d834b482d386b2999dc2eb0   \n2   0xc413dd03555f3eb29d834b482d386b2999dc2eb0   \n3   0xc413dd03555f3eb29d834b482d386b2999dc2eb0   \n4   0xc413dd03555f3eb29d834b482d386b2999dc2eb0   \n..                                         ...   \n95  0xc413dd03555f3eb29d834b482d386b2999dc2eb0   \n96  0xc413dd03555f3eb29d834b482d386b2999dc2eb0   \n97  0xc413dd03555f3eb29d834b482d386b2999dc2eb0   \n98  0xc413dd03555f3eb29d834b482d386b2999dc2eb0   \n99  0xc413dd03555f3eb29d834b482d386b2999dc2eb0   \n\n                transaction_market_protocol_id  transaction_market_rates_rate  \\\n0   0xd998c35b7900b344bbbe6555cc11576942cf309d                       0.000000   \n1   0xd998c35b7900b344bbbe6555cc11576942cf309d                      11.352275   \n2   0xd998c35b7900b344bbbe6555cc11576942cf309d                       3.411870   \n3   0xd998c35b7900b344bbbe6555cc11576942cf309d                       0.000000   \n4   0xd998c35b7900b344bbbe6555cc11576942cf309d                       8.722231   \n..                                         ...                            ...   \n95  0xd998c35b7900b344bbbe6555cc11576942cf309d                       2.328203   \n96  0xd998c35b7900b344bbbe6555cc11576942cf309d                       0.000000   \n97  0xd998c35b7900b344bbbe6555cc11576942cf309d                      11.352275   \n98  0xd998c35b7900b344bbbe6555cc11576942cf309d                       3.411870   \n99  0xd998c35b7900b344bbbe6555cc11576942cf309d                       0.000000   \n\n   transaction_market_rates_duration transaction_market_rates_side  \\\n0                                NaN                      BORROWER   \n1                                NaN                      BORROWER   \n2                                NaN                      BORROWER   \n3                                NaN                        LENDER   \n4                                NaN                        LENDER   \n..                               ...                           ...   \n95                               NaN                        LENDER   \n96                               NaN                      BORROWER   \n97                               NaN                      BORROWER   \n98                               NaN                      BORROWER   \n99                               NaN                        LENDER   \n\n   transaction_market_rates_type           transaction_market_rates_token_id  \\\n0                       VARIABLE  0x0ab87046fbb341d058f17cbc4c1133f25a20a52f   \n1                       VARIABLE  0xc02aaa39b223fe8d0a0e5c4f27ead9083c756cc2   \n2                       VARIABLE  0xd7c9f0e536dc865ae858b0c0453fe76d13c3beac   \n3                       VARIABLE  0x0ab87046fbb341d058f17cbc4c1133f25a20a52f   \n4                       VARIABLE  0xc02aaa39b223fe8d0a0e5c4f27ead9083c756cc2   \n..                           ...                                         ...   \n95                      VARIABLE  0xd7c9f0e536dc865ae858b0c0453fe76d13c3beac   \n96                      VARIABLE  0x0ab87046fbb341d058f17cbc4c1133f25a20a52f   \n97                      VARIABLE  0xc02aaa39b223fe8d0a0e5c4f27ead9083c756cc2   \n98                      VARIABLE  0xd7c9f0e536dc865ae858b0c0453fe76d13c3beac   \n99                      VARIABLE  0x0ab87046fbb341d058f17cbc4c1133f25a20a52f   \n\n   transaction_asset_name transaction_asset_symbol  \\\n0          XAI Stablecoin                      XAI   \n1          XAI Stablecoin                      XAI   \n2          XAI Stablecoin                      XAI   \n3          XAI Stablecoin                      XAI   \n4          XAI Stablecoin                      XAI   \n..                    ...                      ...   \n95         XAI Stablecoin                      XAI   \n96         XAI Stablecoin                      XAI   \n97         XAI Stablecoin                      XAI   \n98         XAI Stablecoin                      XAI   \n99         XAI Stablecoin                      XAI   \n\n    transaction_asset_decimals  transaction_asset_lastPriceUSD  \\\n0                           18                        1.005034   \n1                           18                        1.005034   \n2                           18                        1.005034   \n3                           18                        1.005034   \n4                           18                        1.005034   \n..                         ...                             ...   \n95                          18                        1.005034   \n96                          18                        1.005034   \n97                          18                        1.005034   \n98                          18                        1.005034   \n99                          18                        1.005034   \n\n          transaction_amount  transaction_amountUSD   event  \\\n0   186000000000000000000000          185996.147731  borrow   \n1   186000000000000000000000          185996.147731  borrow   \n2   186000000000000000000000          185996.147731  borrow   \n3   186000000000000000000000          185996.147731  borrow   \n4   186000000000000000000000          185996.147731  borrow   \n..                       ...                    ...     ...   \n95    5000000000000000000000            5001.341848  borrow   \n96    4520000000000000000000            4510.003371  borrow   \n97    4520000000000000000000            4510.003371  borrow   \n98    4520000000000000000000            4510.003371  borrow   \n99    4520000000000000000000            4510.003371  borrow   \n\n              dateTime  \n0  2023-02-09 06:23:59  \n1  2023-02-09 06:23:59  \n2  2023-02-09 06:23:59  \n3  2023-02-09 06:23:59  \n4  2023-02-09 06:23:59  \n..                 ...  \n95 2023-02-01 10:26:11  \n96 2023-02-22 12:32:59  \n97 2023-02-22 12:32:59  \n98 2023-02-22 12:32:59  \n99 2023-02-22 12:32:59  \n\n[100 rows x 20 columns]",
      "text/html": "<div>\n<style scoped>\n    .dataframe tbody tr th:only-of-type {\n        vertical-align: middle;\n    }\n\n    .dataframe tbody tr th {\n        vertical-align: top;\n    }\n\n    .dataframe thead th {\n        text-align: right;\n    }\n</style>\n<table border=\"1\" class=\"dataframe\">\n  <thead>\n    <tr style=\"text-align: right;\">\n      <th></th>\n      <th>transaction_id</th>\n      <th>transaction_hash</th>\n      <th>transaction_blockNumber</th>\n      <th>transaction_timestamp</th>\n      <th>transaction_account_id</th>\n      <th>transaction_market_id</th>\n      <th>transaction_market_protocol_id</th>\n      <th>transaction_market_rates_rate</th>\n      <th>transaction_market_rates_duration</th>\n      <th>transaction_market_rates_side</th>\n      <th>transaction_market_rates_type</th>\n      <th>transaction_market_rates_token_id</th>\n      <th>transaction_asset_name</th>\n      <th>transaction_asset_symbol</th>\n      <th>transaction_asset_decimals</th>\n      <th>transaction_asset_lastPriceUSD</th>\n      <th>transaction_amount</th>\n      <th>transaction_amountUSD</th>\n      <th>event</th>\n      <th>dateTime</th>\n    </tr>\n  </thead>\n  <tbody>\n    <tr>\n      <th>0</th>\n      <td>0x16f2ff52f7a9e9057848569ea37c3e59eb558af0e044...</td>\n      <td>0x16f2ff52f7a9e9057848569ea37c3e59eb558af0e044...</td>\n      <td>16589389</td>\n      <td>1675923839</td>\n      <td>0xb0399dac8f4d4100b49b2a7b3873481114229d18</td>\n      <td>0xc413dd03555f3eb29d834b482d386b2999dc2eb0</td>\n      <td>0xd998c35b7900b344bbbe6555cc11576942cf309d</td>\n      <td>0.000000</td>\n      <td>NaN</td>\n      <td>BORROWER</td>\n      <td>VARIABLE</td>\n      <td>0x0ab87046fbb341d058f17cbc4c1133f25a20a52f</td>\n      <td>XAI Stablecoin</td>\n      <td>XAI</td>\n      <td>18</td>\n      <td>1.005034</td>\n      <td>186000000000000000000000</td>\n      <td>185996.147731</td>\n      <td>borrow</td>\n      <td>2023-02-09 06:23:59</td>\n    </tr>\n    <tr>\n      <th>1</th>\n      <td>0x16f2ff52f7a9e9057848569ea37c3e59eb558af0e044...</td>\n      <td>0x16f2ff52f7a9e9057848569ea37c3e59eb558af0e044...</td>\n      <td>16589389</td>\n      <td>1675923839</td>\n      <td>0xb0399dac8f4d4100b49b2a7b3873481114229d18</td>\n      <td>0xc413dd03555f3eb29d834b482d386b2999dc2eb0</td>\n      <td>0xd998c35b7900b344bbbe6555cc11576942cf309d</td>\n      <td>11.352275</td>\n      <td>NaN</td>\n      <td>BORROWER</td>\n      <td>VARIABLE</td>\n      <td>0xc02aaa39b223fe8d0a0e5c4f27ead9083c756cc2</td>\n      <td>XAI Stablecoin</td>\n      <td>XAI</td>\n      <td>18</td>\n      <td>1.005034</td>\n      <td>186000000000000000000000</td>\n      <td>185996.147731</td>\n      <td>borrow</td>\n      <td>2023-02-09 06:23:59</td>\n    </tr>\n    <tr>\n      <th>2</th>\n      <td>0x16f2ff52f7a9e9057848569ea37c3e59eb558af0e044...</td>\n      <td>0x16f2ff52f7a9e9057848569ea37c3e59eb558af0e044...</td>\n      <td>16589389</td>\n      <td>1675923839</td>\n      <td>0xb0399dac8f4d4100b49b2a7b3873481114229d18</td>\n      <td>0xc413dd03555f3eb29d834b482d386b2999dc2eb0</td>\n      <td>0xd998c35b7900b344bbbe6555cc11576942cf309d</td>\n      <td>3.411870</td>\n      <td>NaN</td>\n      <td>BORROWER</td>\n      <td>VARIABLE</td>\n      <td>0xd7c9f0e536dc865ae858b0c0453fe76d13c3beac</td>\n      <td>XAI Stablecoin</td>\n      <td>XAI</td>\n      <td>18</td>\n      <td>1.005034</td>\n      <td>186000000000000000000000</td>\n      <td>185996.147731</td>\n      <td>borrow</td>\n      <td>2023-02-09 06:23:59</td>\n    </tr>\n    <tr>\n      <th>3</th>\n      <td>0x16f2ff52f7a9e9057848569ea37c3e59eb558af0e044...</td>\n      <td>0x16f2ff52f7a9e9057848569ea37c3e59eb558af0e044...</td>\n      <td>16589389</td>\n      <td>1675923839</td>\n      <td>0xb0399dac8f4d4100b49b2a7b3873481114229d18</td>\n      <td>0xc413dd03555f3eb29d834b482d386b2999dc2eb0</td>\n      <td>0xd998c35b7900b344bbbe6555cc11576942cf309d</td>\n      <td>0.000000</td>\n      <td>NaN</td>\n      <td>LENDER</td>\n      <td>VARIABLE</td>\n      <td>0x0ab87046fbb341d058f17cbc4c1133f25a20a52f</td>\n      <td>XAI Stablecoin</td>\n      <td>XAI</td>\n      <td>18</td>\n      <td>1.005034</td>\n      <td>186000000000000000000000</td>\n      <td>185996.147731</td>\n      <td>borrow</td>\n      <td>2023-02-09 06:23:59</td>\n    </tr>\n    <tr>\n      <th>4</th>\n      <td>0x16f2ff52f7a9e9057848569ea37c3e59eb558af0e044...</td>\n      <td>0x16f2ff52f7a9e9057848569ea37c3e59eb558af0e044...</td>\n      <td>16589389</td>\n      <td>1675923839</td>\n      <td>0xb0399dac8f4d4100b49b2a7b3873481114229d18</td>\n      <td>0xc413dd03555f3eb29d834b482d386b2999dc2eb0</td>\n      <td>0xd998c35b7900b344bbbe6555cc11576942cf309d</td>\n      <td>8.722231</td>\n      <td>NaN</td>\n      <td>LENDER</td>\n      <td>VARIABLE</td>\n      <td>0xc02aaa39b223fe8d0a0e5c4f27ead9083c756cc2</td>\n      <td>XAI Stablecoin</td>\n      <td>XAI</td>\n      <td>18</td>\n      <td>1.005034</td>\n      <td>186000000000000000000000</td>\n      <td>185996.147731</td>\n      <td>borrow</td>\n      <td>2023-02-09 06:23:59</td>\n    </tr>\n    <tr>\n      <th>...</th>\n      <td>...</td>\n      <td>...</td>\n      <td>...</td>\n      <td>...</td>\n      <td>...</td>\n      <td>...</td>\n      <td>...</td>\n      <td>...</td>\n      <td>...</td>\n      <td>...</td>\n      <td>...</td>\n      <td>...</td>\n      <td>...</td>\n      <td>...</td>\n      <td>...</td>\n      <td>...</td>\n      <td>...</td>\n      <td>...</td>\n      <td>...</td>\n      <td>...</td>\n    </tr>\n    <tr>\n      <th>95</th>\n      <td>0x30c76353a03ffe6931799da8b7439b1fcb02c3952f54...</td>\n      <td>0x30c76353a03ffe6931799da8b7439b1fcb02c3952f54...</td>\n      <td>16533360</td>\n      <td>1675247171</td>\n      <td>0x339fd7c17ce670e7821f2f2ee94ddd49771483da</td>\n      <td>0xc413dd03555f3eb29d834b482d386b2999dc2eb0</td>\n      <td>0xd998c35b7900b344bbbe6555cc11576942cf309d</td>\n      <td>2.328203</td>\n      <td>NaN</td>\n      <td>LENDER</td>\n      <td>VARIABLE</td>\n      <td>0xd7c9f0e536dc865ae858b0c0453fe76d13c3beac</td>\n      <td>XAI Stablecoin</td>\n      <td>XAI</td>\n      <td>18</td>\n      <td>1.005034</td>\n      <td>5000000000000000000000</td>\n      <td>5001.341848</td>\n      <td>borrow</td>\n      <td>2023-02-01 10:26:11</td>\n    </tr>\n    <tr>\n      <th>96</th>\n      <td>0x5946a769e10307668b4b60aa3b36d5189916cc02fc23...</td>\n      <td>0x5946a769e10307668b4b60aa3b36d5189916cc02fc23...</td>\n      <td>16684007</td>\n      <td>1677069179</td>\n      <td>0x5656cb4721c21e1f5dcbe03db9026ac0203d6e4f</td>\n      <td>0xc413dd03555f3eb29d834b482d386b2999dc2eb0</td>\n      <td>0xd998c35b7900b344bbbe6555cc11576942cf309d</td>\n      <td>0.000000</td>\n      <td>NaN</td>\n      <td>BORROWER</td>\n      <td>VARIABLE</td>\n      <td>0x0ab87046fbb341d058f17cbc4c1133f25a20a52f</td>\n      <td>XAI Stablecoin</td>\n      <td>XAI</td>\n      <td>18</td>\n      <td>1.005034</td>\n      <td>4520000000000000000000</td>\n      <td>4510.003371</td>\n      <td>borrow</td>\n      <td>2023-02-22 12:32:59</td>\n    </tr>\n    <tr>\n      <th>97</th>\n      <td>0x5946a769e10307668b4b60aa3b36d5189916cc02fc23...</td>\n      <td>0x5946a769e10307668b4b60aa3b36d5189916cc02fc23...</td>\n      <td>16684007</td>\n      <td>1677069179</td>\n      <td>0x5656cb4721c21e1f5dcbe03db9026ac0203d6e4f</td>\n      <td>0xc413dd03555f3eb29d834b482d386b2999dc2eb0</td>\n      <td>0xd998c35b7900b344bbbe6555cc11576942cf309d</td>\n      <td>11.352275</td>\n      <td>NaN</td>\n      <td>BORROWER</td>\n      <td>VARIABLE</td>\n      <td>0xc02aaa39b223fe8d0a0e5c4f27ead9083c756cc2</td>\n      <td>XAI Stablecoin</td>\n      <td>XAI</td>\n      <td>18</td>\n      <td>1.005034</td>\n      <td>4520000000000000000000</td>\n      <td>4510.003371</td>\n      <td>borrow</td>\n      <td>2023-02-22 12:32:59</td>\n    </tr>\n    <tr>\n      <th>98</th>\n      <td>0x5946a769e10307668b4b60aa3b36d5189916cc02fc23...</td>\n      <td>0x5946a769e10307668b4b60aa3b36d5189916cc02fc23...</td>\n      <td>16684007</td>\n      <td>1677069179</td>\n      <td>0x5656cb4721c21e1f5dcbe03db9026ac0203d6e4f</td>\n      <td>0xc413dd03555f3eb29d834b482d386b2999dc2eb0</td>\n      <td>0xd998c35b7900b344bbbe6555cc11576942cf309d</td>\n      <td>3.411870</td>\n      <td>NaN</td>\n      <td>BORROWER</td>\n      <td>VARIABLE</td>\n      <td>0xd7c9f0e536dc865ae858b0c0453fe76d13c3beac</td>\n      <td>XAI Stablecoin</td>\n      <td>XAI</td>\n      <td>18</td>\n      <td>1.005034</td>\n      <td>4520000000000000000000</td>\n      <td>4510.003371</td>\n      <td>borrow</td>\n      <td>2023-02-22 12:32:59</td>\n    </tr>\n    <tr>\n      <th>99</th>\n      <td>0x5946a769e10307668b4b60aa3b36d5189916cc02fc23...</td>\n      <td>0x5946a769e10307668b4b60aa3b36d5189916cc02fc23...</td>\n      <td>16684007</td>\n      <td>1677069179</td>\n      <td>0x5656cb4721c21e1f5dcbe03db9026ac0203d6e4f</td>\n      <td>0xc413dd03555f3eb29d834b482d386b2999dc2eb0</td>\n      <td>0xd998c35b7900b344bbbe6555cc11576942cf309d</td>\n      <td>0.000000</td>\n      <td>NaN</td>\n      <td>LENDER</td>\n      <td>VARIABLE</td>\n      <td>0x0ab87046fbb341d058f17cbc4c1133f25a20a52f</td>\n      <td>XAI Stablecoin</td>\n      <td>XAI</td>\n      <td>18</td>\n      <td>1.005034</td>\n      <td>4520000000000000000000</td>\n      <td>4510.003371</td>\n      <td>borrow</td>\n      <td>2023-02-22 12:32:59</td>\n    </tr>\n  </tbody>\n</table>\n<p>100 rows × 20 columns</p>\n</div>"
     },
     "execution_count": 9,
     "metadata": {},
     "output_type": "execute_result"
    }
   ],
   "source": [
    "#I swear I will figure out synthetic fields, but until then...\n",
    "borrowsDbTimed = db.query(\"select \"\n",
    "               \"    * \"\n",
    "                    \" ,to_timestamp(transaction_timestamp::int) dateTime \"\n",
    "               \"From borrowsDb \"\n",
    "                      \"order by transaction_amountUSD desc\"\n",
    "               #\"where lower(liquidityPools_name) like lower('%olympus%') \"\n",
    "                #    \"or lower(pairs_token1_symbol) like lower('%OHM%')  \"\n",
    "               #\" limit 100 \"\n",
    "               ).df()\n",
    "borrowsDbTimed.head(100)"
   ],
   "metadata": {
    "collapsed": false
   }
  },
  {
   "cell_type": "code",
   "execution_count": 10,
   "outputs": [
    {
     "data": {
      "text/plain": "                                       transaction_id  \\\n0   0x16f2ff52f7a9e9057848569ea37c3e59eb558af0e044...   \n1   0x16f2ff52f7a9e9057848569ea37c3e59eb558af0e044...   \n2   0x16f2ff52f7a9e9057848569ea37c3e59eb558af0e044...   \n3   0x16f2ff52f7a9e9057848569ea37c3e59eb558af0e044...   \n4   0x16f2ff52f7a9e9057848569ea37c3e59eb558af0e044...   \n..                                                ...   \n95  0x30c76353a03ffe6931799da8b7439b1fcb02c3952f54...   \n96  0x5946a769e10307668b4b60aa3b36d5189916cc02fc23...   \n97  0x5946a769e10307668b4b60aa3b36d5189916cc02fc23...   \n98  0x5946a769e10307668b4b60aa3b36d5189916cc02fc23...   \n99  0x5946a769e10307668b4b60aa3b36d5189916cc02fc23...   \n\n                                     transaction_hash  \\\n0   0x16f2ff52f7a9e9057848569ea37c3e59eb558af0e044...   \n1   0x16f2ff52f7a9e9057848569ea37c3e59eb558af0e044...   \n2   0x16f2ff52f7a9e9057848569ea37c3e59eb558af0e044...   \n3   0x16f2ff52f7a9e9057848569ea37c3e59eb558af0e044...   \n4   0x16f2ff52f7a9e9057848569ea37c3e59eb558af0e044...   \n..                                                ...   \n95  0x30c76353a03ffe6931799da8b7439b1fcb02c3952f54...   \n96  0x5946a769e10307668b4b60aa3b36d5189916cc02fc23...   \n97  0x5946a769e10307668b4b60aa3b36d5189916cc02fc23...   \n98  0x5946a769e10307668b4b60aa3b36d5189916cc02fc23...   \n99  0x5946a769e10307668b4b60aa3b36d5189916cc02fc23...   \n\n    transaction_blockNumber  transaction_timestamp  \\\n0                  16589389             1675923839   \n1                  16589389             1675923839   \n2                  16589389             1675923839   \n3                  16589389             1675923839   \n4                  16589389             1675923839   \n..                      ...                    ...   \n95                 16533360             1675247171   \n96                 16684007             1677069179   \n97                 16684007             1677069179   \n98                 16684007             1677069179   \n99                 16684007             1677069179   \n\n                        transaction_account_id  \\\n0   0xb0399dac8f4d4100b49b2a7b3873481114229d18   \n1   0xb0399dac8f4d4100b49b2a7b3873481114229d18   \n2   0xb0399dac8f4d4100b49b2a7b3873481114229d18   \n3   0xb0399dac8f4d4100b49b2a7b3873481114229d18   \n4   0xb0399dac8f4d4100b49b2a7b3873481114229d18   \n..                                         ...   \n95  0x339fd7c17ce670e7821f2f2ee94ddd49771483da   \n96  0x5656cb4721c21e1f5dcbe03db9026ac0203d6e4f   \n97  0x5656cb4721c21e1f5dcbe03db9026ac0203d6e4f   \n98  0x5656cb4721c21e1f5dcbe03db9026ac0203d6e4f   \n99  0x5656cb4721c21e1f5dcbe03db9026ac0203d6e4f   \n\n                         transaction_market_id  \\\n0   0xc413dd03555f3eb29d834b482d386b2999dc2eb0   \n1   0xc413dd03555f3eb29d834b482d386b2999dc2eb0   \n2   0xc413dd03555f3eb29d834b482d386b2999dc2eb0   \n3   0xc413dd03555f3eb29d834b482d386b2999dc2eb0   \n4   0xc413dd03555f3eb29d834b482d386b2999dc2eb0   \n..                                         ...   \n95  0xc413dd03555f3eb29d834b482d386b2999dc2eb0   \n96  0xc413dd03555f3eb29d834b482d386b2999dc2eb0   \n97  0xc413dd03555f3eb29d834b482d386b2999dc2eb0   \n98  0xc413dd03555f3eb29d834b482d386b2999dc2eb0   \n99  0xc413dd03555f3eb29d834b482d386b2999dc2eb0   \n\n                transaction_market_protocol_id  transaction_market_rates_rate  \\\n0   0xd998c35b7900b344bbbe6555cc11576942cf309d                       0.000000   \n1   0xd998c35b7900b344bbbe6555cc11576942cf309d                      11.352275   \n2   0xd998c35b7900b344bbbe6555cc11576942cf309d                       3.411870   \n3   0xd998c35b7900b344bbbe6555cc11576942cf309d                       0.000000   \n4   0xd998c35b7900b344bbbe6555cc11576942cf309d                       8.722231   \n..                                         ...                            ...   \n95  0xd998c35b7900b344bbbe6555cc11576942cf309d                       0.000000   \n96  0xd998c35b7900b344bbbe6555cc11576942cf309d                       0.000000   \n97  0xd998c35b7900b344bbbe6555cc11576942cf309d                      11.352275   \n98  0xd998c35b7900b344bbbe6555cc11576942cf309d                       3.411870   \n99  0xd998c35b7900b344bbbe6555cc11576942cf309d                       0.000000   \n\n   transaction_market_rates_duration transaction_market_rates_side  \\\n0                                NaN                      BORROWER   \n1                                NaN                      BORROWER   \n2                                NaN                      BORROWER   \n3                                NaN                        LENDER   \n4                                NaN                        LENDER   \n..                               ...                           ...   \n95                               NaN                      BORROWER   \n96                               NaN                      BORROWER   \n97                               NaN                      BORROWER   \n98                               NaN                      BORROWER   \n99                               NaN                        LENDER   \n\n   transaction_market_rates_type           transaction_market_rates_token_id  \\\n0                       VARIABLE  0x0ab87046fbb341d058f17cbc4c1133f25a20a52f   \n1                       VARIABLE  0xc02aaa39b223fe8d0a0e5c4f27ead9083c756cc2   \n2                       VARIABLE  0xd7c9f0e536dc865ae858b0c0453fe76d13c3beac   \n3                       VARIABLE  0x0ab87046fbb341d058f17cbc4c1133f25a20a52f   \n4                       VARIABLE  0xc02aaa39b223fe8d0a0e5c4f27ead9083c756cc2   \n..                           ...                                         ...   \n95                      VARIABLE  0x0ab87046fbb341d058f17cbc4c1133f25a20a52f   \n96                      VARIABLE  0x0ab87046fbb341d058f17cbc4c1133f25a20a52f   \n97                      VARIABLE  0xc02aaa39b223fe8d0a0e5c4f27ead9083c756cc2   \n98                      VARIABLE  0xd7c9f0e536dc865ae858b0c0453fe76d13c3beac   \n99                      VARIABLE  0x0ab87046fbb341d058f17cbc4c1133f25a20a52f   \n\n   transaction_asset_name transaction_asset_symbol  \\\n0          XAI Stablecoin                      XAI   \n1          XAI Stablecoin                      XAI   \n2          XAI Stablecoin                      XAI   \n3          XAI Stablecoin                      XAI   \n4          XAI Stablecoin                      XAI   \n..                    ...                      ...   \n95         XAI Stablecoin                      XAI   \n96         XAI Stablecoin                      XAI   \n97         XAI Stablecoin                      XAI   \n98         XAI Stablecoin                      XAI   \n99         XAI Stablecoin                      XAI   \n\n    transaction_asset_decimals  transaction_asset_lastPriceUSD  \\\n0                           18                        1.005034   \n1                           18                        1.005034   \n2                           18                        1.005034   \n3                           18                        1.005034   \n4                           18                        1.005034   \n..                         ...                             ...   \n95                          18                        1.005034   \n96                          18                        1.005034   \n97                          18                        1.005034   \n98                          18                        1.005034   \n99                          18                        1.005034   \n\n          transaction_amount  transaction_amountUSD   event  \\\n0   186000000000000000000000          185996.147731  borrow   \n1   186000000000000000000000          185996.147731  borrow   \n2   186000000000000000000000          185996.147731  borrow   \n3   186000000000000000000000          185996.147731  borrow   \n4   186000000000000000000000          185996.147731  borrow   \n..                       ...                    ...     ...   \n95    5000000000000000000000            5001.341848  borrow   \n96    4520000000000000000000            4510.003371  borrow   \n97    4520000000000000000000            4510.003371  borrow   \n98    4520000000000000000000            4510.003371  borrow   \n99    4520000000000000000000            4510.003371  borrow   \n\n              dateTime  \n0  2023-02-09 06:23:59  \n1  2023-02-09 06:23:59  \n2  2023-02-09 06:23:59  \n3  2023-02-09 06:23:59  \n4  2023-02-09 06:23:59  \n..                 ...  \n95 2023-02-01 10:26:11  \n96 2023-02-22 12:32:59  \n97 2023-02-22 12:32:59  \n98 2023-02-22 12:32:59  \n99 2023-02-22 12:32:59  \n\n[100 rows x 20 columns]",
      "text/html": "<div>\n<style scoped>\n    .dataframe tbody tr th:only-of-type {\n        vertical-align: middle;\n    }\n\n    .dataframe tbody tr th {\n        vertical-align: top;\n    }\n\n    .dataframe thead th {\n        text-align: right;\n    }\n</style>\n<table border=\"1\" class=\"dataframe\">\n  <thead>\n    <tr style=\"text-align: right;\">\n      <th></th>\n      <th>transaction_id</th>\n      <th>transaction_hash</th>\n      <th>transaction_blockNumber</th>\n      <th>transaction_timestamp</th>\n      <th>transaction_account_id</th>\n      <th>transaction_market_id</th>\n      <th>transaction_market_protocol_id</th>\n      <th>transaction_market_rates_rate</th>\n      <th>transaction_market_rates_duration</th>\n      <th>transaction_market_rates_side</th>\n      <th>transaction_market_rates_type</th>\n      <th>transaction_market_rates_token_id</th>\n      <th>transaction_asset_name</th>\n      <th>transaction_asset_symbol</th>\n      <th>transaction_asset_decimals</th>\n      <th>transaction_asset_lastPriceUSD</th>\n      <th>transaction_amount</th>\n      <th>transaction_amountUSD</th>\n      <th>event</th>\n      <th>dateTime</th>\n    </tr>\n  </thead>\n  <tbody>\n    <tr>\n      <th>0</th>\n      <td>0x16f2ff52f7a9e9057848569ea37c3e59eb558af0e044...</td>\n      <td>0x16f2ff52f7a9e9057848569ea37c3e59eb558af0e044...</td>\n      <td>16589389</td>\n      <td>1675923839</td>\n      <td>0xb0399dac8f4d4100b49b2a7b3873481114229d18</td>\n      <td>0xc413dd03555f3eb29d834b482d386b2999dc2eb0</td>\n      <td>0xd998c35b7900b344bbbe6555cc11576942cf309d</td>\n      <td>0.000000</td>\n      <td>NaN</td>\n      <td>BORROWER</td>\n      <td>VARIABLE</td>\n      <td>0x0ab87046fbb341d058f17cbc4c1133f25a20a52f</td>\n      <td>XAI Stablecoin</td>\n      <td>XAI</td>\n      <td>18</td>\n      <td>1.005034</td>\n      <td>186000000000000000000000</td>\n      <td>185996.147731</td>\n      <td>borrow</td>\n      <td>2023-02-09 06:23:59</td>\n    </tr>\n    <tr>\n      <th>1</th>\n      <td>0x16f2ff52f7a9e9057848569ea37c3e59eb558af0e044...</td>\n      <td>0x16f2ff52f7a9e9057848569ea37c3e59eb558af0e044...</td>\n      <td>16589389</td>\n      <td>1675923839</td>\n      <td>0xb0399dac8f4d4100b49b2a7b3873481114229d18</td>\n      <td>0xc413dd03555f3eb29d834b482d386b2999dc2eb0</td>\n      <td>0xd998c35b7900b344bbbe6555cc11576942cf309d</td>\n      <td>11.352275</td>\n      <td>NaN</td>\n      <td>BORROWER</td>\n      <td>VARIABLE</td>\n      <td>0xc02aaa39b223fe8d0a0e5c4f27ead9083c756cc2</td>\n      <td>XAI Stablecoin</td>\n      <td>XAI</td>\n      <td>18</td>\n      <td>1.005034</td>\n      <td>186000000000000000000000</td>\n      <td>185996.147731</td>\n      <td>borrow</td>\n      <td>2023-02-09 06:23:59</td>\n    </tr>\n    <tr>\n      <th>2</th>\n      <td>0x16f2ff52f7a9e9057848569ea37c3e59eb558af0e044...</td>\n      <td>0x16f2ff52f7a9e9057848569ea37c3e59eb558af0e044...</td>\n      <td>16589389</td>\n      <td>1675923839</td>\n      <td>0xb0399dac8f4d4100b49b2a7b3873481114229d18</td>\n      <td>0xc413dd03555f3eb29d834b482d386b2999dc2eb0</td>\n      <td>0xd998c35b7900b344bbbe6555cc11576942cf309d</td>\n      <td>3.411870</td>\n      <td>NaN</td>\n      <td>BORROWER</td>\n      <td>VARIABLE</td>\n      <td>0xd7c9f0e536dc865ae858b0c0453fe76d13c3beac</td>\n      <td>XAI Stablecoin</td>\n      <td>XAI</td>\n      <td>18</td>\n      <td>1.005034</td>\n      <td>186000000000000000000000</td>\n      <td>185996.147731</td>\n      <td>borrow</td>\n      <td>2023-02-09 06:23:59</td>\n    </tr>\n    <tr>\n      <th>3</th>\n      <td>0x16f2ff52f7a9e9057848569ea37c3e59eb558af0e044...</td>\n      <td>0x16f2ff52f7a9e9057848569ea37c3e59eb558af0e044...</td>\n      <td>16589389</td>\n      <td>1675923839</td>\n      <td>0xb0399dac8f4d4100b49b2a7b3873481114229d18</td>\n      <td>0xc413dd03555f3eb29d834b482d386b2999dc2eb0</td>\n      <td>0xd998c35b7900b344bbbe6555cc11576942cf309d</td>\n      <td>0.000000</td>\n      <td>NaN</td>\n      <td>LENDER</td>\n      <td>VARIABLE</td>\n      <td>0x0ab87046fbb341d058f17cbc4c1133f25a20a52f</td>\n      <td>XAI Stablecoin</td>\n      <td>XAI</td>\n      <td>18</td>\n      <td>1.005034</td>\n      <td>186000000000000000000000</td>\n      <td>185996.147731</td>\n      <td>borrow</td>\n      <td>2023-02-09 06:23:59</td>\n    </tr>\n    <tr>\n      <th>4</th>\n      <td>0x16f2ff52f7a9e9057848569ea37c3e59eb558af0e044...</td>\n      <td>0x16f2ff52f7a9e9057848569ea37c3e59eb558af0e044...</td>\n      <td>16589389</td>\n      <td>1675923839</td>\n      <td>0xb0399dac8f4d4100b49b2a7b3873481114229d18</td>\n      <td>0xc413dd03555f3eb29d834b482d386b2999dc2eb0</td>\n      <td>0xd998c35b7900b344bbbe6555cc11576942cf309d</td>\n      <td>8.722231</td>\n      <td>NaN</td>\n      <td>LENDER</td>\n      <td>VARIABLE</td>\n      <td>0xc02aaa39b223fe8d0a0e5c4f27ead9083c756cc2</td>\n      <td>XAI Stablecoin</td>\n      <td>XAI</td>\n      <td>18</td>\n      <td>1.005034</td>\n      <td>186000000000000000000000</td>\n      <td>185996.147731</td>\n      <td>borrow</td>\n      <td>2023-02-09 06:23:59</td>\n    </tr>\n    <tr>\n      <th>...</th>\n      <td>...</td>\n      <td>...</td>\n      <td>...</td>\n      <td>...</td>\n      <td>...</td>\n      <td>...</td>\n      <td>...</td>\n      <td>...</td>\n      <td>...</td>\n      <td>...</td>\n      <td>...</td>\n      <td>...</td>\n      <td>...</td>\n      <td>...</td>\n      <td>...</td>\n      <td>...</td>\n      <td>...</td>\n      <td>...</td>\n      <td>...</td>\n      <td>...</td>\n    </tr>\n    <tr>\n      <th>95</th>\n      <td>0x30c76353a03ffe6931799da8b7439b1fcb02c3952f54...</td>\n      <td>0x30c76353a03ffe6931799da8b7439b1fcb02c3952f54...</td>\n      <td>16533360</td>\n      <td>1675247171</td>\n      <td>0x339fd7c17ce670e7821f2f2ee94ddd49771483da</td>\n      <td>0xc413dd03555f3eb29d834b482d386b2999dc2eb0</td>\n      <td>0xd998c35b7900b344bbbe6555cc11576942cf309d</td>\n      <td>0.000000</td>\n      <td>NaN</td>\n      <td>BORROWER</td>\n      <td>VARIABLE</td>\n      <td>0x0ab87046fbb341d058f17cbc4c1133f25a20a52f</td>\n      <td>XAI Stablecoin</td>\n      <td>XAI</td>\n      <td>18</td>\n      <td>1.005034</td>\n      <td>5000000000000000000000</td>\n      <td>5001.341848</td>\n      <td>borrow</td>\n      <td>2023-02-01 10:26:11</td>\n    </tr>\n    <tr>\n      <th>96</th>\n      <td>0x5946a769e10307668b4b60aa3b36d5189916cc02fc23...</td>\n      <td>0x5946a769e10307668b4b60aa3b36d5189916cc02fc23...</td>\n      <td>16684007</td>\n      <td>1677069179</td>\n      <td>0x5656cb4721c21e1f5dcbe03db9026ac0203d6e4f</td>\n      <td>0xc413dd03555f3eb29d834b482d386b2999dc2eb0</td>\n      <td>0xd998c35b7900b344bbbe6555cc11576942cf309d</td>\n      <td>0.000000</td>\n      <td>NaN</td>\n      <td>BORROWER</td>\n      <td>VARIABLE</td>\n      <td>0x0ab87046fbb341d058f17cbc4c1133f25a20a52f</td>\n      <td>XAI Stablecoin</td>\n      <td>XAI</td>\n      <td>18</td>\n      <td>1.005034</td>\n      <td>4520000000000000000000</td>\n      <td>4510.003371</td>\n      <td>borrow</td>\n      <td>2023-02-22 12:32:59</td>\n    </tr>\n    <tr>\n      <th>97</th>\n      <td>0x5946a769e10307668b4b60aa3b36d5189916cc02fc23...</td>\n      <td>0x5946a769e10307668b4b60aa3b36d5189916cc02fc23...</td>\n      <td>16684007</td>\n      <td>1677069179</td>\n      <td>0x5656cb4721c21e1f5dcbe03db9026ac0203d6e4f</td>\n      <td>0xc413dd03555f3eb29d834b482d386b2999dc2eb0</td>\n      <td>0xd998c35b7900b344bbbe6555cc11576942cf309d</td>\n      <td>11.352275</td>\n      <td>NaN</td>\n      <td>BORROWER</td>\n      <td>VARIABLE</td>\n      <td>0xc02aaa39b223fe8d0a0e5c4f27ead9083c756cc2</td>\n      <td>XAI Stablecoin</td>\n      <td>XAI</td>\n      <td>18</td>\n      <td>1.005034</td>\n      <td>4520000000000000000000</td>\n      <td>4510.003371</td>\n      <td>borrow</td>\n      <td>2023-02-22 12:32:59</td>\n    </tr>\n    <tr>\n      <th>98</th>\n      <td>0x5946a769e10307668b4b60aa3b36d5189916cc02fc23...</td>\n      <td>0x5946a769e10307668b4b60aa3b36d5189916cc02fc23...</td>\n      <td>16684007</td>\n      <td>1677069179</td>\n      <td>0x5656cb4721c21e1f5dcbe03db9026ac0203d6e4f</td>\n      <td>0xc413dd03555f3eb29d834b482d386b2999dc2eb0</td>\n      <td>0xd998c35b7900b344bbbe6555cc11576942cf309d</td>\n      <td>3.411870</td>\n      <td>NaN</td>\n      <td>BORROWER</td>\n      <td>VARIABLE</td>\n      <td>0xd7c9f0e536dc865ae858b0c0453fe76d13c3beac</td>\n      <td>XAI Stablecoin</td>\n      <td>XAI</td>\n      <td>18</td>\n      <td>1.005034</td>\n      <td>4520000000000000000000</td>\n      <td>4510.003371</td>\n      <td>borrow</td>\n      <td>2023-02-22 12:32:59</td>\n    </tr>\n    <tr>\n      <th>99</th>\n      <td>0x5946a769e10307668b4b60aa3b36d5189916cc02fc23...</td>\n      <td>0x5946a769e10307668b4b60aa3b36d5189916cc02fc23...</td>\n      <td>16684007</td>\n      <td>1677069179</td>\n      <td>0x5656cb4721c21e1f5dcbe03db9026ac0203d6e4f</td>\n      <td>0xc413dd03555f3eb29d834b482d386b2999dc2eb0</td>\n      <td>0xd998c35b7900b344bbbe6555cc11576942cf309d</td>\n      <td>0.000000</td>\n      <td>NaN</td>\n      <td>LENDER</td>\n      <td>VARIABLE</td>\n      <td>0x0ab87046fbb341d058f17cbc4c1133f25a20a52f</td>\n      <td>XAI Stablecoin</td>\n      <td>XAI</td>\n      <td>18</td>\n      <td>1.005034</td>\n      <td>4520000000000000000000</td>\n      <td>4510.003371</td>\n      <td>borrow</td>\n      <td>2023-02-22 12:32:59</td>\n    </tr>\n  </tbody>\n</table>\n<p>100 rows × 20 columns</p>\n</div>"
     },
     "execution_count": 10,
     "metadata": {},
     "output_type": "execute_result"
    }
   ],
   "source": [
    "borrowsDbTimed = pd.concat([oldBorrowsDb,borrowsDbTimed]).drop_duplicates().reset_index(drop=True)\n",
    "borrowsDbTimed.drop_duplicates()\n",
    "borrowsDbTimed = db.query(\"select \"\n",
    "               \"    * \"\n",
    "               \"From borrowsDbTimed \"\n",
    "                         \"group by 1,2,3,4,5,6,7,8,9,10,11,12,13,14,15,16,17,18,19,20 \"\n",
    "                      \"order by transaction_amountUSD desc \"\n",
    "               #\"where lower(liquidityPools_name) like lower('%olympus%') \"\n",
    "                #    \"or lower(pairs_token1_symbol) like lower('%OHM%')  \"\n",
    "               #\" limit 100 \"\n",
    "               ).df()\n",
    "\n",
    "borrowsDbTimed.head(100)"
   ],
   "metadata": {
    "collapsed": false
   }
  },
  {
   "cell_type": "code",
   "execution_count": 11,
   "outputs": [
    {
     "data": {
      "text/plain": "                                       transaction_id   event  \\\n0   0x16f2ff52f7a9e9057848569ea37c3e59eb558af0e044...  borrow   \n1   0x3b0f26e10c63a71c916e8a68bd1889d9bab38aeb62d7...  borrow   \n2   0x3dba2dd3c913b399164efd71db73121c9c94c0096139...  borrow   \n3   0x66fe10ed6dcb8b83bdb5b0c46cd321060734b9063bd5...  borrow   \n4   0x072c04ee8776ea91e8c1003bad2d401e3ac90d0ab2fc...  borrow   \n5   0xb38cef69963653bc8f3e04720bd0d3f3df6e6e9ede13...  borrow   \n6   0x38ce8e39e188c85ba03a340cdde95c2e1d56b54161e6...  borrow   \n7   0x7a9527e13f7627c09cc9bdcc43d1aa6a7babf0c087b8...  borrow   \n8   0x2485acd5a3853dc50921a27ea5bf8227871425cca3e4...  borrow   \n9   0xe034b0dedaea9ad1f849d5420228106937d816b89b3a...  borrow   \n10  0xbfc6df3a770233f4e0fbd6fe0cf8f6fa02f1432c570f...  borrow   \n11  0x045f19530c6f8c0b6eca525f3921e207938e841b3670...  borrow   \n12  0x84778306b3f662f7d98e431591f302d924d143c3c0b2...  borrow   \n13  0x4fa0cb2fdde04b90f07602351b260aa5202562c7b701...  borrow   \n14  0xd1e0d42b27bc7304ce2aa914d63058fbf5be6709aa77...  borrow   \n15  0x30c76353a03ffe6931799da8b7439b1fcb02c3952f54...  borrow   \n16  0x5946a769e10307668b4b60aa3b36d5189916cc02fc23...  borrow   \n17  0x17fedebf20b120a55b895f96e2b466f2bbdcceb2b542...  borrow   \n18  0xf1d5b9c7f23bd9935061e4d08734cbfba9b9a53bacd5...  borrow   \n19  0xbcfc05398a874e98a80e823ffb016c119b06c7b07a7c...  borrow   \n20  0xfa292276fc71f90e29ca90a7b8a2be9a4094f459fb99...  borrow   \n21  0x39c11cb01e34d9f8ca55a8820482eaf8a217033cdb6f...  borrow   \n22  0x97811f7e7b7d202797093d44047ed986054be3dd6120...  borrow   \n23  0x2c0d9ab92c0eef11fa3394b4a89a62c7ee27bd5b64a1...  borrow   \n24  0xd9329978828295f4f091eaa77a6d8c388c5616bbe92c...  borrow   \n25  0xd5dc7147192591c7d19856d12e9278928932a5921653...  borrow   \n26  0xc629960194d24bb2e3aaf7a91b2cf4f547703cd7ed68...  borrow   \n27  0x83addaa30259315b10869fa8653a468eb1cc82a43f57...  borrow   \n28  0x9acb7bcb3e826a231f0cb2e55f4d2ea70d7ff8cbe18a...  borrow   \n29  0x1aac54ba339ee99c2b3c69cbde905f3ddc7832ffd946...  borrow   \n\n                                     transaction_hash  \\\n0   0x16f2ff52f7a9e9057848569ea37c3e59eb558af0e044...   \n1   0x3b0f26e10c63a71c916e8a68bd1889d9bab38aeb62d7...   \n2   0x3dba2dd3c913b399164efd71db73121c9c94c0096139...   \n3   0x66fe10ed6dcb8b83bdb5b0c46cd321060734b9063bd5...   \n4   0x072c04ee8776ea91e8c1003bad2d401e3ac90d0ab2fc...   \n5   0xb38cef69963653bc8f3e04720bd0d3f3df6e6e9ede13...   \n6   0x38ce8e39e188c85ba03a340cdde95c2e1d56b54161e6...   \n7   0x7a9527e13f7627c09cc9bdcc43d1aa6a7babf0c087b8...   \n8   0x2485acd5a3853dc50921a27ea5bf8227871425cca3e4...   \n9   0xe034b0dedaea9ad1f849d5420228106937d816b89b3a...   \n10  0xbfc6df3a770233f4e0fbd6fe0cf8f6fa02f1432c570f...   \n11  0x045f19530c6f8c0b6eca525f3921e207938e841b3670...   \n12  0x84778306b3f662f7d98e431591f302d924d143c3c0b2...   \n13  0x4fa0cb2fdde04b90f07602351b260aa5202562c7b701...   \n14  0xd1e0d42b27bc7304ce2aa914d63058fbf5be6709aa77...   \n15  0x30c76353a03ffe6931799da8b7439b1fcb02c3952f54...   \n16  0x5946a769e10307668b4b60aa3b36d5189916cc02fc23...   \n17  0x17fedebf20b120a55b895f96e2b466f2bbdcceb2b542...   \n18  0xf1d5b9c7f23bd9935061e4d08734cbfba9b9a53bacd5...   \n19  0xbcfc05398a874e98a80e823ffb016c119b06c7b07a7c...   \n20  0xfa292276fc71f90e29ca90a7b8a2be9a4094f459fb99...   \n21  0x39c11cb01e34d9f8ca55a8820482eaf8a217033cdb6f...   \n22  0x97811f7e7b7d202797093d44047ed986054be3dd6120...   \n23  0x2c0d9ab92c0eef11fa3394b4a89a62c7ee27bd5b64a1...   \n24  0xd9329978828295f4f091eaa77a6d8c388c5616bbe92c...   \n25  0xd5dc7147192591c7d19856d12e9278928932a5921653...   \n26  0xc629960194d24bb2e3aaf7a91b2cf4f547703cd7ed68...   \n27  0x83addaa30259315b10869fa8653a468eb1cc82a43f57...   \n28  0x9acb7bcb3e826a231f0cb2e55f4d2ea70d7ff8cbe18a...   \n29  0x1aac54ba339ee99c2b3c69cbde905f3ddc7832ffd946...   \n\n    transaction_blockNumber  transaction_timestamp  \\\n0                  16589389             1675923839   \n1                  16641746             1676556011   \n2                  16622907             1676328371   \n3                  16651434             1676673563   \n4                  16579820             1675808183   \n5                  16573202             1675728155   \n6                  16579819             1675808171   \n7                  16681973             1677044447   \n8                  16171818             1670886647   \n9                  16505284             1674908519   \n10                 16173505             1670906999   \n11                 16580114             1675811711   \n12                 16678471             1677001823   \n13                 16574830             1675747799   \n14                 16686330             1677097475   \n15                 16533360             1675247171   \n16                 16684007             1677069179   \n17                 16171351             1670881019   \n18                 16626396             1676370563   \n19                 16619977             1676292983   \n20                 16634870             1676472911   \n21                 16626801             1676375459   \n22                 16623063             1676330255   \n23                 16588637             1675914791   \n24                 16644592             1676590307   \n25                 16627480             1676383655   \n26                 16204982             1671286919   \n27                 16034628             1669229867   \n28                 16585909             1675881839   \n29                 16036018             1669246811   \n\n                        transaction_account_id  \\\n0   0xb0399dac8f4d4100b49b2a7b3873481114229d18   \n1   0xee95e4cf086fc80df7ae0f39dfc9ea53a3eaadcb   \n2   0x46535cbc3fa574c32ea392d4f89c518290597072   \n3   0xd33e76d21d32c21811593ae54e38f68df0cfe8ed   \n4   0x0493bcca897a2248ae3cd4c66aea90dbfc7e13c6   \n5   0x36125234dd6c7d0a01dcadc67e79e061d405098e   \n6   0x96035b45bc0d22f0ed11283a91145fb001c48370   \n7   0x7aaee144a14ec3ba0e468c9dcf4a89fdb62c5aa6   \n8   0x1ba67f30e25fc43863b50047d7fd4bd63b9c59ec   \n9   0x42daeb9ca091e3933c8ee93c029701b926b1f336   \n10  0x339fd7c17ce670e7821f2f2ee94ddd49771483da   \n11  0xb86cd2efc1f461beee8deec2c3f053ccb2781ef9   \n12  0x9b8b04b6f82cd5e1dae58ca3614d445f93defc5c   \n13  0x6487d336bdec94d4714a4d217b15aa5c7b9dfa99   \n14  0xd33e76d21d32c21811593ae54e38f68df0cfe8ed   \n15  0x339fd7c17ce670e7821f2f2ee94ddd49771483da   \n16  0x5656cb4721c21e1f5dcbe03db9026ac0203d6e4f   \n17  0x3985caf03eef8f885edb1f8358143bdf08d8d48b   \n18  0x339fd7c17ce670e7821f2f2ee94ddd49771483da   \n19  0xc0b1f200aa9546ce074397bed7438bb2ec033877   \n20  0x16ff8ad104fa6195260a6d4a3f311c5f120df77d   \n21  0x16ff8ad104fa6195260a6d4a3f311c5f120df77d   \n22  0xc0b1f200aa9546ce074397bed7438bb2ec033877   \n23  0x804157889ac56a4e50278610c67960c1605a3264   \n24  0x96035b45bc0d22f0ed11283a91145fb001c48370   \n25  0xc0b1f200aa9546ce074397bed7438bb2ec033877   \n26  0x44504ba8d43b30e882503948654e247b928bcc7f   \n27  0x7776421dd146dfd6ea947cbf29b69c519807d259   \n28  0xfe9d1bd54e344dc8c4bd93e7935e39af452e5d41   \n29  0xd3064611b24eba7a6dbcbc26c1b35dfee1170880   \n\n                         transaction_market_id transaction_asset_name  \\\n0   0xc413dd03555f3eb29d834b482d386b2999dc2eb0         XAI Stablecoin   \n1   0xc413dd03555f3eb29d834b482d386b2999dc2eb0         XAI Stablecoin   \n2   0xc413dd03555f3eb29d834b482d386b2999dc2eb0         Governance OHM   \n3   0xc413dd03555f3eb29d834b482d386b2999dc2eb0         XAI Stablecoin   \n4   0xc413dd03555f3eb29d834b482d386b2999dc2eb0         XAI Stablecoin   \n5   0xc413dd03555f3eb29d834b482d386b2999dc2eb0         XAI Stablecoin   \n6   0xc413dd03555f3eb29d834b482d386b2999dc2eb0         XAI Stablecoin   \n7   0xc413dd03555f3eb29d834b482d386b2999dc2eb0         XAI Stablecoin   \n8   0xc413dd03555f3eb29d834b482d386b2999dc2eb0         XAI Stablecoin   \n9   0xc413dd03555f3eb29d834b482d386b2999dc2eb0         XAI Stablecoin   \n10  0xc413dd03555f3eb29d834b482d386b2999dc2eb0         XAI Stablecoin   \n11  0xc413dd03555f3eb29d834b482d386b2999dc2eb0         XAI Stablecoin   \n12  0xc413dd03555f3eb29d834b482d386b2999dc2eb0         XAI Stablecoin   \n13  0xc413dd03555f3eb29d834b482d386b2999dc2eb0         XAI Stablecoin   \n14  0xc413dd03555f3eb29d834b482d386b2999dc2eb0          Wrapped Ether   \n15  0xc413dd03555f3eb29d834b482d386b2999dc2eb0         XAI Stablecoin   \n16  0xc413dd03555f3eb29d834b482d386b2999dc2eb0         XAI Stablecoin   \n17  0xc413dd03555f3eb29d834b482d386b2999dc2eb0         XAI Stablecoin   \n18  0xc413dd03555f3eb29d834b482d386b2999dc2eb0         XAI Stablecoin   \n19  0xc413dd03555f3eb29d834b482d386b2999dc2eb0         XAI Stablecoin   \n20  0xc413dd03555f3eb29d834b482d386b2999dc2eb0         XAI Stablecoin   \n21  0xc413dd03555f3eb29d834b482d386b2999dc2eb0          Wrapped Ether   \n22  0xc413dd03555f3eb29d834b482d386b2999dc2eb0         XAI Stablecoin   \n23  0xc413dd03555f3eb29d834b482d386b2999dc2eb0         XAI Stablecoin   \n24  0xc413dd03555f3eb29d834b482d386b2999dc2eb0          Wrapped Ether   \n25  0xc413dd03555f3eb29d834b482d386b2999dc2eb0         XAI Stablecoin   \n26  0xc413dd03555f3eb29d834b482d386b2999dc2eb0         XAI Stablecoin   \n27  0xc413dd03555f3eb29d834b482d386b2999dc2eb0         Governance OHM   \n28  0xc413dd03555f3eb29d834b482d386b2999dc2eb0         XAI Stablecoin   \n29  0xc413dd03555f3eb29d834b482d386b2999dc2eb0         XAI Stablecoin   \n\n   transaction_asset_symbol        transaction_amount  \\\n0                       XAI  186000000000000000000000   \n1                       XAI  100000000000000000000000   \n2                      gOHM      26400000000000000000   \n3                       XAI   60500000000000000000000   \n4                       XAI   30000000000000000000000   \n5                       XAI   25000000000000000000000   \n6                       XAI   20000000000000000000000   \n7                       XAI   16500000000000000000000   \n8                       XAI   11900000000000000000000   \n9                       XAI   10000000000000000000000   \n10                      XAI    8000000000000000000000   \n11                      XAI    7000000000000000000000   \n12                      XAI    6540000000000000000000   \n13                      XAI    6030000000000000000000   \n14                     WETH       3250000000000000000   \n15                      XAI    5000000000000000000000   \n16                      XAI    4520000000000000000000   \n17                      XAI    4000000000000000000000   \n18                      XAI    4000000000000000000000   \n19                      XAI    3090000000000000000000   \n20                      XAI    3000000000000000000000   \n21                     WETH       1920000000000000000   \n22                      XAI    2457516074488804244751   \n23                      XAI    1000000000000000000000   \n24                     WETH        600000000000000000   \n25                      XAI    1000000000000000000000   \n26                      XAI     500000000000000000000   \n27                     gOHM        182000000000000000   \n28                      XAI     398385626312673057643   \n29                      XAI     262000000000000000000   \n\n    transactionReadableAmount  transaction_amountUSD            dateTime  \\\n0                1.860000e+06          185996.147731 2023-02-09 06:23:59   \n1                1.000000e+06          100012.487283 2023-02-16 14:00:11   \n2                2.640000e+02           71910.521424 2023-02-13 22:46:11   \n3                6.050000e+05           59947.550425 2023-02-17 22:39:23   \n4                3.000000e+05           29884.417447 2023-02-07 22:16:23   \n5                2.500000e+05           24937.155253 2023-02-07 00:02:35   \n6                2.000000e+05           19922.944964 2023-02-07 22:16:11   \n7                1.650000e+05           16472.437498 2023-02-22 05:40:47   \n8                1.190000e+05           11928.568949 2022-12-12 23:10:47   \n9                1.000000e+05           10040.961438 2023-01-28 12:21:59   \n10               8.000000e+04            8040.631376 2022-12-13 04:49:59   \n11               7.000000e+04            6976.053341 2023-02-07 23:15:11   \n12               6.540000e+04            6588.024198 2023-02-21 17:50:23   \n13               6.030000e+04            6015.596587 2023-02-07 05:29:59   \n14               3.250000e+01            5270.606820 2023-02-22 20:24:35   \n15               5.000000e+04            5001.341848 2023-02-01 10:26:11   \n16               4.520000e+04            4510.003371 2023-02-22 12:32:59   \n17               4.000000e+04            4012.000608 2022-12-12 21:36:59   \n18               4.000000e+04            3963.627622 2023-02-14 10:29:23   \n19               3.090000e+04            3085.406589 2023-02-13 12:56:23   \n20               3.000000e+04            3023.153053 2023-02-15 14:55:11   \n21               1.920000e+01            2885.217480 2023-02-14 11:50:59   \n22               2.457516e+04            2446.717700 2023-02-13 23:17:35   \n23               1.000000e+04            1005.010529 2023-02-09 03:53:11   \n24               6.000000e+00             995.052978 2023-02-16 23:31:47   \n25               1.000000e+04             992.079025 2023-02-14 14:07:35   \n26               5.000000e+03             498.489611 2022-12-17 14:21:59   \n27               1.820000e+00             399.040935 2022-11-23 18:57:47   \n28               3.983856e+03             397.352793 2023-02-08 18:43:59   \n29               2.620000e+03             262.176433 2022-11-23 23:40:11   \n\n      calDate  \n0  2023-02-09  \n1  2023-02-16  \n2  2023-02-13  \n3  2023-02-17  \n4  2023-02-07  \n5  2023-02-07  \n6  2023-02-07  \n7  2023-02-22  \n8  2022-12-12  \n9  2023-01-28  \n10 2022-12-13  \n11 2023-02-07  \n12 2023-02-21  \n13 2023-02-07  \n14 2023-02-22  \n15 2023-02-01  \n16 2023-02-22  \n17 2022-12-12  \n18 2023-02-14  \n19 2023-02-13  \n20 2023-02-15  \n21 2023-02-14  \n22 2023-02-13  \n23 2023-02-09  \n24 2023-02-16  \n25 2023-02-14  \n26 2022-12-17  \n27 2022-11-23  \n28 2023-02-08  \n29 2022-11-23  ",
      "text/html": "<div>\n<style scoped>\n    .dataframe tbody tr th:only-of-type {\n        vertical-align: middle;\n    }\n\n    .dataframe tbody tr th {\n        vertical-align: top;\n    }\n\n    .dataframe thead th {\n        text-align: right;\n    }\n</style>\n<table border=\"1\" class=\"dataframe\">\n  <thead>\n    <tr style=\"text-align: right;\">\n      <th></th>\n      <th>transaction_id</th>\n      <th>event</th>\n      <th>transaction_hash</th>\n      <th>transaction_blockNumber</th>\n      <th>transaction_timestamp</th>\n      <th>transaction_account_id</th>\n      <th>transaction_market_id</th>\n      <th>transaction_asset_name</th>\n      <th>transaction_asset_symbol</th>\n      <th>transaction_amount</th>\n      <th>transactionReadableAmount</th>\n      <th>transaction_amountUSD</th>\n      <th>dateTime</th>\n      <th>calDate</th>\n    </tr>\n  </thead>\n  <tbody>\n    <tr>\n      <th>0</th>\n      <td>0x16f2ff52f7a9e9057848569ea37c3e59eb558af0e044...</td>\n      <td>borrow</td>\n      <td>0x16f2ff52f7a9e9057848569ea37c3e59eb558af0e044...</td>\n      <td>16589389</td>\n      <td>1675923839</td>\n      <td>0xb0399dac8f4d4100b49b2a7b3873481114229d18</td>\n      <td>0xc413dd03555f3eb29d834b482d386b2999dc2eb0</td>\n      <td>XAI Stablecoin</td>\n      <td>XAI</td>\n      <td>186000000000000000000000</td>\n      <td>1.860000e+06</td>\n      <td>185996.147731</td>\n      <td>2023-02-09 06:23:59</td>\n      <td>2023-02-09</td>\n    </tr>\n    <tr>\n      <th>1</th>\n      <td>0x3b0f26e10c63a71c916e8a68bd1889d9bab38aeb62d7...</td>\n      <td>borrow</td>\n      <td>0x3b0f26e10c63a71c916e8a68bd1889d9bab38aeb62d7...</td>\n      <td>16641746</td>\n      <td>1676556011</td>\n      <td>0xee95e4cf086fc80df7ae0f39dfc9ea53a3eaadcb</td>\n      <td>0xc413dd03555f3eb29d834b482d386b2999dc2eb0</td>\n      <td>XAI Stablecoin</td>\n      <td>XAI</td>\n      <td>100000000000000000000000</td>\n      <td>1.000000e+06</td>\n      <td>100012.487283</td>\n      <td>2023-02-16 14:00:11</td>\n      <td>2023-02-16</td>\n    </tr>\n    <tr>\n      <th>2</th>\n      <td>0x3dba2dd3c913b399164efd71db73121c9c94c0096139...</td>\n      <td>borrow</td>\n      <td>0x3dba2dd3c913b399164efd71db73121c9c94c0096139...</td>\n      <td>16622907</td>\n      <td>1676328371</td>\n      <td>0x46535cbc3fa574c32ea392d4f89c518290597072</td>\n      <td>0xc413dd03555f3eb29d834b482d386b2999dc2eb0</td>\n      <td>Governance OHM</td>\n      <td>gOHM</td>\n      <td>26400000000000000000</td>\n      <td>2.640000e+02</td>\n      <td>71910.521424</td>\n      <td>2023-02-13 22:46:11</td>\n      <td>2023-02-13</td>\n    </tr>\n    <tr>\n      <th>3</th>\n      <td>0x66fe10ed6dcb8b83bdb5b0c46cd321060734b9063bd5...</td>\n      <td>borrow</td>\n      <td>0x66fe10ed6dcb8b83bdb5b0c46cd321060734b9063bd5...</td>\n      <td>16651434</td>\n      <td>1676673563</td>\n      <td>0xd33e76d21d32c21811593ae54e38f68df0cfe8ed</td>\n      <td>0xc413dd03555f3eb29d834b482d386b2999dc2eb0</td>\n      <td>XAI Stablecoin</td>\n      <td>XAI</td>\n      <td>60500000000000000000000</td>\n      <td>6.050000e+05</td>\n      <td>59947.550425</td>\n      <td>2023-02-17 22:39:23</td>\n      <td>2023-02-17</td>\n    </tr>\n    <tr>\n      <th>4</th>\n      <td>0x072c04ee8776ea91e8c1003bad2d401e3ac90d0ab2fc...</td>\n      <td>borrow</td>\n      <td>0x072c04ee8776ea91e8c1003bad2d401e3ac90d0ab2fc...</td>\n      <td>16579820</td>\n      <td>1675808183</td>\n      <td>0x0493bcca897a2248ae3cd4c66aea90dbfc7e13c6</td>\n      <td>0xc413dd03555f3eb29d834b482d386b2999dc2eb0</td>\n      <td>XAI Stablecoin</td>\n      <td>XAI</td>\n      <td>30000000000000000000000</td>\n      <td>3.000000e+05</td>\n      <td>29884.417447</td>\n      <td>2023-02-07 22:16:23</td>\n      <td>2023-02-07</td>\n    </tr>\n    <tr>\n      <th>5</th>\n      <td>0xb38cef69963653bc8f3e04720bd0d3f3df6e6e9ede13...</td>\n      <td>borrow</td>\n      <td>0xb38cef69963653bc8f3e04720bd0d3f3df6e6e9ede13...</td>\n      <td>16573202</td>\n      <td>1675728155</td>\n      <td>0x36125234dd6c7d0a01dcadc67e79e061d405098e</td>\n      <td>0xc413dd03555f3eb29d834b482d386b2999dc2eb0</td>\n      <td>XAI Stablecoin</td>\n      <td>XAI</td>\n      <td>25000000000000000000000</td>\n      <td>2.500000e+05</td>\n      <td>24937.155253</td>\n      <td>2023-02-07 00:02:35</td>\n      <td>2023-02-07</td>\n    </tr>\n    <tr>\n      <th>6</th>\n      <td>0x38ce8e39e188c85ba03a340cdde95c2e1d56b54161e6...</td>\n      <td>borrow</td>\n      <td>0x38ce8e39e188c85ba03a340cdde95c2e1d56b54161e6...</td>\n      <td>16579819</td>\n      <td>1675808171</td>\n      <td>0x96035b45bc0d22f0ed11283a91145fb001c48370</td>\n      <td>0xc413dd03555f3eb29d834b482d386b2999dc2eb0</td>\n      <td>XAI Stablecoin</td>\n      <td>XAI</td>\n      <td>20000000000000000000000</td>\n      <td>2.000000e+05</td>\n      <td>19922.944964</td>\n      <td>2023-02-07 22:16:11</td>\n      <td>2023-02-07</td>\n    </tr>\n    <tr>\n      <th>7</th>\n      <td>0x7a9527e13f7627c09cc9bdcc43d1aa6a7babf0c087b8...</td>\n      <td>borrow</td>\n      <td>0x7a9527e13f7627c09cc9bdcc43d1aa6a7babf0c087b8...</td>\n      <td>16681973</td>\n      <td>1677044447</td>\n      <td>0x7aaee144a14ec3ba0e468c9dcf4a89fdb62c5aa6</td>\n      <td>0xc413dd03555f3eb29d834b482d386b2999dc2eb0</td>\n      <td>XAI Stablecoin</td>\n      <td>XAI</td>\n      <td>16500000000000000000000</td>\n      <td>1.650000e+05</td>\n      <td>16472.437498</td>\n      <td>2023-02-22 05:40:47</td>\n      <td>2023-02-22</td>\n    </tr>\n    <tr>\n      <th>8</th>\n      <td>0x2485acd5a3853dc50921a27ea5bf8227871425cca3e4...</td>\n      <td>borrow</td>\n      <td>0x2485acd5a3853dc50921a27ea5bf8227871425cca3e4...</td>\n      <td>16171818</td>\n      <td>1670886647</td>\n      <td>0x1ba67f30e25fc43863b50047d7fd4bd63b9c59ec</td>\n      <td>0xc413dd03555f3eb29d834b482d386b2999dc2eb0</td>\n      <td>XAI Stablecoin</td>\n      <td>XAI</td>\n      <td>11900000000000000000000</td>\n      <td>1.190000e+05</td>\n      <td>11928.568949</td>\n      <td>2022-12-12 23:10:47</td>\n      <td>2022-12-12</td>\n    </tr>\n    <tr>\n      <th>9</th>\n      <td>0xe034b0dedaea9ad1f849d5420228106937d816b89b3a...</td>\n      <td>borrow</td>\n      <td>0xe034b0dedaea9ad1f849d5420228106937d816b89b3a...</td>\n      <td>16505284</td>\n      <td>1674908519</td>\n      <td>0x42daeb9ca091e3933c8ee93c029701b926b1f336</td>\n      <td>0xc413dd03555f3eb29d834b482d386b2999dc2eb0</td>\n      <td>XAI Stablecoin</td>\n      <td>XAI</td>\n      <td>10000000000000000000000</td>\n      <td>1.000000e+05</td>\n      <td>10040.961438</td>\n      <td>2023-01-28 12:21:59</td>\n      <td>2023-01-28</td>\n    </tr>\n    <tr>\n      <th>10</th>\n      <td>0xbfc6df3a770233f4e0fbd6fe0cf8f6fa02f1432c570f...</td>\n      <td>borrow</td>\n      <td>0xbfc6df3a770233f4e0fbd6fe0cf8f6fa02f1432c570f...</td>\n      <td>16173505</td>\n      <td>1670906999</td>\n      <td>0x339fd7c17ce670e7821f2f2ee94ddd49771483da</td>\n      <td>0xc413dd03555f3eb29d834b482d386b2999dc2eb0</td>\n      <td>XAI Stablecoin</td>\n      <td>XAI</td>\n      <td>8000000000000000000000</td>\n      <td>8.000000e+04</td>\n      <td>8040.631376</td>\n      <td>2022-12-13 04:49:59</td>\n      <td>2022-12-13</td>\n    </tr>\n    <tr>\n      <th>11</th>\n      <td>0x045f19530c6f8c0b6eca525f3921e207938e841b3670...</td>\n      <td>borrow</td>\n      <td>0x045f19530c6f8c0b6eca525f3921e207938e841b3670...</td>\n      <td>16580114</td>\n      <td>1675811711</td>\n      <td>0xb86cd2efc1f461beee8deec2c3f053ccb2781ef9</td>\n      <td>0xc413dd03555f3eb29d834b482d386b2999dc2eb0</td>\n      <td>XAI Stablecoin</td>\n      <td>XAI</td>\n      <td>7000000000000000000000</td>\n      <td>7.000000e+04</td>\n      <td>6976.053341</td>\n      <td>2023-02-07 23:15:11</td>\n      <td>2023-02-07</td>\n    </tr>\n    <tr>\n      <th>12</th>\n      <td>0x84778306b3f662f7d98e431591f302d924d143c3c0b2...</td>\n      <td>borrow</td>\n      <td>0x84778306b3f662f7d98e431591f302d924d143c3c0b2...</td>\n      <td>16678471</td>\n      <td>1677001823</td>\n      <td>0x9b8b04b6f82cd5e1dae58ca3614d445f93defc5c</td>\n      <td>0xc413dd03555f3eb29d834b482d386b2999dc2eb0</td>\n      <td>XAI Stablecoin</td>\n      <td>XAI</td>\n      <td>6540000000000000000000</td>\n      <td>6.540000e+04</td>\n      <td>6588.024198</td>\n      <td>2023-02-21 17:50:23</td>\n      <td>2023-02-21</td>\n    </tr>\n    <tr>\n      <th>13</th>\n      <td>0x4fa0cb2fdde04b90f07602351b260aa5202562c7b701...</td>\n      <td>borrow</td>\n      <td>0x4fa0cb2fdde04b90f07602351b260aa5202562c7b701...</td>\n      <td>16574830</td>\n      <td>1675747799</td>\n      <td>0x6487d336bdec94d4714a4d217b15aa5c7b9dfa99</td>\n      <td>0xc413dd03555f3eb29d834b482d386b2999dc2eb0</td>\n      <td>XAI Stablecoin</td>\n      <td>XAI</td>\n      <td>6030000000000000000000</td>\n      <td>6.030000e+04</td>\n      <td>6015.596587</td>\n      <td>2023-02-07 05:29:59</td>\n      <td>2023-02-07</td>\n    </tr>\n    <tr>\n      <th>14</th>\n      <td>0xd1e0d42b27bc7304ce2aa914d63058fbf5be6709aa77...</td>\n      <td>borrow</td>\n      <td>0xd1e0d42b27bc7304ce2aa914d63058fbf5be6709aa77...</td>\n      <td>16686330</td>\n      <td>1677097475</td>\n      <td>0xd33e76d21d32c21811593ae54e38f68df0cfe8ed</td>\n      <td>0xc413dd03555f3eb29d834b482d386b2999dc2eb0</td>\n      <td>Wrapped Ether</td>\n      <td>WETH</td>\n      <td>3250000000000000000</td>\n      <td>3.250000e+01</td>\n      <td>5270.606820</td>\n      <td>2023-02-22 20:24:35</td>\n      <td>2023-02-22</td>\n    </tr>\n    <tr>\n      <th>15</th>\n      <td>0x30c76353a03ffe6931799da8b7439b1fcb02c3952f54...</td>\n      <td>borrow</td>\n      <td>0x30c76353a03ffe6931799da8b7439b1fcb02c3952f54...</td>\n      <td>16533360</td>\n      <td>1675247171</td>\n      <td>0x339fd7c17ce670e7821f2f2ee94ddd49771483da</td>\n      <td>0xc413dd03555f3eb29d834b482d386b2999dc2eb0</td>\n      <td>XAI Stablecoin</td>\n      <td>XAI</td>\n      <td>5000000000000000000000</td>\n      <td>5.000000e+04</td>\n      <td>5001.341848</td>\n      <td>2023-02-01 10:26:11</td>\n      <td>2023-02-01</td>\n    </tr>\n    <tr>\n      <th>16</th>\n      <td>0x5946a769e10307668b4b60aa3b36d5189916cc02fc23...</td>\n      <td>borrow</td>\n      <td>0x5946a769e10307668b4b60aa3b36d5189916cc02fc23...</td>\n      <td>16684007</td>\n      <td>1677069179</td>\n      <td>0x5656cb4721c21e1f5dcbe03db9026ac0203d6e4f</td>\n      <td>0xc413dd03555f3eb29d834b482d386b2999dc2eb0</td>\n      <td>XAI Stablecoin</td>\n      <td>XAI</td>\n      <td>4520000000000000000000</td>\n      <td>4.520000e+04</td>\n      <td>4510.003371</td>\n      <td>2023-02-22 12:32:59</td>\n      <td>2023-02-22</td>\n    </tr>\n    <tr>\n      <th>17</th>\n      <td>0x17fedebf20b120a55b895f96e2b466f2bbdcceb2b542...</td>\n      <td>borrow</td>\n      <td>0x17fedebf20b120a55b895f96e2b466f2bbdcceb2b542...</td>\n      <td>16171351</td>\n      <td>1670881019</td>\n      <td>0x3985caf03eef8f885edb1f8358143bdf08d8d48b</td>\n      <td>0xc413dd03555f3eb29d834b482d386b2999dc2eb0</td>\n      <td>XAI Stablecoin</td>\n      <td>XAI</td>\n      <td>4000000000000000000000</td>\n      <td>4.000000e+04</td>\n      <td>4012.000608</td>\n      <td>2022-12-12 21:36:59</td>\n      <td>2022-12-12</td>\n    </tr>\n    <tr>\n      <th>18</th>\n      <td>0xf1d5b9c7f23bd9935061e4d08734cbfba9b9a53bacd5...</td>\n      <td>borrow</td>\n      <td>0xf1d5b9c7f23bd9935061e4d08734cbfba9b9a53bacd5...</td>\n      <td>16626396</td>\n      <td>1676370563</td>\n      <td>0x339fd7c17ce670e7821f2f2ee94ddd49771483da</td>\n      <td>0xc413dd03555f3eb29d834b482d386b2999dc2eb0</td>\n      <td>XAI Stablecoin</td>\n      <td>XAI</td>\n      <td>4000000000000000000000</td>\n      <td>4.000000e+04</td>\n      <td>3963.627622</td>\n      <td>2023-02-14 10:29:23</td>\n      <td>2023-02-14</td>\n    </tr>\n    <tr>\n      <th>19</th>\n      <td>0xbcfc05398a874e98a80e823ffb016c119b06c7b07a7c...</td>\n      <td>borrow</td>\n      <td>0xbcfc05398a874e98a80e823ffb016c119b06c7b07a7c...</td>\n      <td>16619977</td>\n      <td>1676292983</td>\n      <td>0xc0b1f200aa9546ce074397bed7438bb2ec033877</td>\n      <td>0xc413dd03555f3eb29d834b482d386b2999dc2eb0</td>\n      <td>XAI Stablecoin</td>\n      <td>XAI</td>\n      <td>3090000000000000000000</td>\n      <td>3.090000e+04</td>\n      <td>3085.406589</td>\n      <td>2023-02-13 12:56:23</td>\n      <td>2023-02-13</td>\n    </tr>\n    <tr>\n      <th>20</th>\n      <td>0xfa292276fc71f90e29ca90a7b8a2be9a4094f459fb99...</td>\n      <td>borrow</td>\n      <td>0xfa292276fc71f90e29ca90a7b8a2be9a4094f459fb99...</td>\n      <td>16634870</td>\n      <td>1676472911</td>\n      <td>0x16ff8ad104fa6195260a6d4a3f311c5f120df77d</td>\n      <td>0xc413dd03555f3eb29d834b482d386b2999dc2eb0</td>\n      <td>XAI Stablecoin</td>\n      <td>XAI</td>\n      <td>3000000000000000000000</td>\n      <td>3.000000e+04</td>\n      <td>3023.153053</td>\n      <td>2023-02-15 14:55:11</td>\n      <td>2023-02-15</td>\n    </tr>\n    <tr>\n      <th>21</th>\n      <td>0x39c11cb01e34d9f8ca55a8820482eaf8a217033cdb6f...</td>\n      <td>borrow</td>\n      <td>0x39c11cb01e34d9f8ca55a8820482eaf8a217033cdb6f...</td>\n      <td>16626801</td>\n      <td>1676375459</td>\n      <td>0x16ff8ad104fa6195260a6d4a3f311c5f120df77d</td>\n      <td>0xc413dd03555f3eb29d834b482d386b2999dc2eb0</td>\n      <td>Wrapped Ether</td>\n      <td>WETH</td>\n      <td>1920000000000000000</td>\n      <td>1.920000e+01</td>\n      <td>2885.217480</td>\n      <td>2023-02-14 11:50:59</td>\n      <td>2023-02-14</td>\n    </tr>\n    <tr>\n      <th>22</th>\n      <td>0x97811f7e7b7d202797093d44047ed986054be3dd6120...</td>\n      <td>borrow</td>\n      <td>0x97811f7e7b7d202797093d44047ed986054be3dd6120...</td>\n      <td>16623063</td>\n      <td>1676330255</td>\n      <td>0xc0b1f200aa9546ce074397bed7438bb2ec033877</td>\n      <td>0xc413dd03555f3eb29d834b482d386b2999dc2eb0</td>\n      <td>XAI Stablecoin</td>\n      <td>XAI</td>\n      <td>2457516074488804244751</td>\n      <td>2.457516e+04</td>\n      <td>2446.717700</td>\n      <td>2023-02-13 23:17:35</td>\n      <td>2023-02-13</td>\n    </tr>\n    <tr>\n      <th>23</th>\n      <td>0x2c0d9ab92c0eef11fa3394b4a89a62c7ee27bd5b64a1...</td>\n      <td>borrow</td>\n      <td>0x2c0d9ab92c0eef11fa3394b4a89a62c7ee27bd5b64a1...</td>\n      <td>16588637</td>\n      <td>1675914791</td>\n      <td>0x804157889ac56a4e50278610c67960c1605a3264</td>\n      <td>0xc413dd03555f3eb29d834b482d386b2999dc2eb0</td>\n      <td>XAI Stablecoin</td>\n      <td>XAI</td>\n      <td>1000000000000000000000</td>\n      <td>1.000000e+04</td>\n      <td>1005.010529</td>\n      <td>2023-02-09 03:53:11</td>\n      <td>2023-02-09</td>\n    </tr>\n    <tr>\n      <th>24</th>\n      <td>0xd9329978828295f4f091eaa77a6d8c388c5616bbe92c...</td>\n      <td>borrow</td>\n      <td>0xd9329978828295f4f091eaa77a6d8c388c5616bbe92c...</td>\n      <td>16644592</td>\n      <td>1676590307</td>\n      <td>0x96035b45bc0d22f0ed11283a91145fb001c48370</td>\n      <td>0xc413dd03555f3eb29d834b482d386b2999dc2eb0</td>\n      <td>Wrapped Ether</td>\n      <td>WETH</td>\n      <td>600000000000000000</td>\n      <td>6.000000e+00</td>\n      <td>995.052978</td>\n      <td>2023-02-16 23:31:47</td>\n      <td>2023-02-16</td>\n    </tr>\n    <tr>\n      <th>25</th>\n      <td>0xd5dc7147192591c7d19856d12e9278928932a5921653...</td>\n      <td>borrow</td>\n      <td>0xd5dc7147192591c7d19856d12e9278928932a5921653...</td>\n      <td>16627480</td>\n      <td>1676383655</td>\n      <td>0xc0b1f200aa9546ce074397bed7438bb2ec033877</td>\n      <td>0xc413dd03555f3eb29d834b482d386b2999dc2eb0</td>\n      <td>XAI Stablecoin</td>\n      <td>XAI</td>\n      <td>1000000000000000000000</td>\n      <td>1.000000e+04</td>\n      <td>992.079025</td>\n      <td>2023-02-14 14:07:35</td>\n      <td>2023-02-14</td>\n    </tr>\n    <tr>\n      <th>26</th>\n      <td>0xc629960194d24bb2e3aaf7a91b2cf4f547703cd7ed68...</td>\n      <td>borrow</td>\n      <td>0xc629960194d24bb2e3aaf7a91b2cf4f547703cd7ed68...</td>\n      <td>16204982</td>\n      <td>1671286919</td>\n      <td>0x44504ba8d43b30e882503948654e247b928bcc7f</td>\n      <td>0xc413dd03555f3eb29d834b482d386b2999dc2eb0</td>\n      <td>XAI Stablecoin</td>\n      <td>XAI</td>\n      <td>500000000000000000000</td>\n      <td>5.000000e+03</td>\n      <td>498.489611</td>\n      <td>2022-12-17 14:21:59</td>\n      <td>2022-12-17</td>\n    </tr>\n    <tr>\n      <th>27</th>\n      <td>0x83addaa30259315b10869fa8653a468eb1cc82a43f57...</td>\n      <td>borrow</td>\n      <td>0x83addaa30259315b10869fa8653a468eb1cc82a43f57...</td>\n      <td>16034628</td>\n      <td>1669229867</td>\n      <td>0x7776421dd146dfd6ea947cbf29b69c519807d259</td>\n      <td>0xc413dd03555f3eb29d834b482d386b2999dc2eb0</td>\n      <td>Governance OHM</td>\n      <td>gOHM</td>\n      <td>182000000000000000</td>\n      <td>1.820000e+00</td>\n      <td>399.040935</td>\n      <td>2022-11-23 18:57:47</td>\n      <td>2022-11-23</td>\n    </tr>\n    <tr>\n      <th>28</th>\n      <td>0x9acb7bcb3e826a231f0cb2e55f4d2ea70d7ff8cbe18a...</td>\n      <td>borrow</td>\n      <td>0x9acb7bcb3e826a231f0cb2e55f4d2ea70d7ff8cbe18a...</td>\n      <td>16585909</td>\n      <td>1675881839</td>\n      <td>0xfe9d1bd54e344dc8c4bd93e7935e39af452e5d41</td>\n      <td>0xc413dd03555f3eb29d834b482d386b2999dc2eb0</td>\n      <td>XAI Stablecoin</td>\n      <td>XAI</td>\n      <td>398385626312673057643</td>\n      <td>3.983856e+03</td>\n      <td>397.352793</td>\n      <td>2023-02-08 18:43:59</td>\n      <td>2023-02-08</td>\n    </tr>\n    <tr>\n      <th>29</th>\n      <td>0x1aac54ba339ee99c2b3c69cbde905f3ddc7832ffd946...</td>\n      <td>borrow</td>\n      <td>0x1aac54ba339ee99c2b3c69cbde905f3ddc7832ffd946...</td>\n      <td>16036018</td>\n      <td>1669246811</td>\n      <td>0xd3064611b24eba7a6dbcbc26c1b35dfee1170880</td>\n      <td>0xc413dd03555f3eb29d834b482d386b2999dc2eb0</td>\n      <td>XAI Stablecoin</td>\n      <td>XAI</td>\n      <td>262000000000000000000</td>\n      <td>2.620000e+03</td>\n      <td>262.176433</td>\n      <td>2022-11-23 23:40:11</td>\n      <td>2022-11-23</td>\n    </tr>\n  </tbody>\n</table>\n</div>"
     },
     "execution_count": 11,
     "metadata": {},
     "output_type": "execute_result"
    }
   ],
   "source": [
    "siloBorrowEventsDbTimedClean = db.query(\"select \"\n",
    "                            \" transaction_id\"\n",
    "                            \" ,event \"\n",
    "                            \", transaction_hash \"\n",
    "                            \", transaction_blockNumber \"\n",
    "                            \", transaction_timestamp \"\n",
    "                            \", transaction_account_id \"\n",
    "                            \", transaction_market_id \"\n",
    "                            \", transaction_asset_name \"\n",
    "                            \", transaction_asset_symbol \"\n",
    "                            \", transaction_amount \"\n",
    "                            \", (transaction_amount::hugeint*1e-17) transactionReadableAmount \"\n",
    "                            \", transaction_amountUSD \"\n",
    "                            \", dateTime \"\n",
    "                            \", date_trunc('day', dateTime) calDate \"\n",
    "               \"From borrowsDbTimed \"\n",
    "                         \"group by\"\n",
    "                            \" transaction_id\"\n",
    "                            \" ,event \"\n",
    "                            \", transaction_hash \"\n",
    "                            \", transaction_blockNumber \"\n",
    "                            \", transaction_timestamp \"\n",
    "                            \", transaction_account_id \"\n",
    "                            \", transaction_market_id \"\n",
    "                            \", transaction_asset_name \"\n",
    "                            \", transaction_asset_symbol \"\n",
    "                            \", transaction_amount \"\n",
    "                            \", transaction_amountUSD \"\n",
    "                            \", dateTime \"\n",
    "                      \"order by transaction_amountUSD desc \"\n",
    "               #\"where lower(liquidityPools_name) like lower('%olympus%') \"\n",
    "                #    \"or lower(pairs_token1_symbol) like lower('%OHM%')  \"\n",
    "               #\" limit 100 \"\n",
    "               ).df()\n",
    "siloBorrowEventsDbTimedClean.head(100)"
   ],
   "metadata": {
    "collapsed": false
   }
  },
  {
   "cell_type": "code",
   "execution_count": 12,
   "outputs": [
    {
     "name": "stdout",
     "output_type": "stream",
     "text": [
      "D:\\Dropbox\\Documents\\Edgecaser LLC\\Projects\\Olympus\\Econohmetrics\\gohmAsStablecoinCollateral/data/siloFinance_borrows_piped.csv file saved, 180  records\n"
     ]
    }
   ],
   "source": [
    "path =file+'/siloFinance_borrows.csv'\n",
    "siloBorrowEventsDbTimedClean.to_csv(path, index = False)\n",
    "\n",
    "path =file+'/siloFinance_borrows_piped.csv'\n",
    "siloBorrowEventsDbTimedClean.to_csv(path, index = False, sep='|')\n",
    "print(path, 'file saved,', len(borrowsDbTimed),' records')"
   ],
   "metadata": {
    "collapsed": false
   }
  },
  {
   "cell_type": "code",
   "execution_count": 13,
   "outputs": [
    {
     "name": "stdout",
     "output_type": "stream",
     "text": [
      "There has been a total of 5167302.54 OHM borrowed cumulatively to date\n"
     ]
    }
   ],
   "source": [
    "totalBorrowed = sum(siloBorrowEventsDbTimedClean['transactionReadableAmount'])\n",
    "print('There has been a total of',round(totalBorrowed,2),  'OHM borrowed cumulatively to date')"
   ],
   "metadata": {
    "collapsed": false
   }
  },
  {
   "cell_type": "code",
   "execution_count": 14,
   "outputs": [
    {
     "name": "stdout",
     "output_type": "stream",
     "text": [
      "[Text(0.5, 1.0, 'OHM borrowed per day'), Text(0.5, 0, 'Date'), Text(0, 0.5, 'OHM')]\n"
     ]
    },
    {
     "data": {
      "text/plain": "<Figure size 432x288 with 1 Axes>",
      "image/png": "[encoded data removed]"
     },
     "metadata": {
      "needs_background": "light"
     },
     "output_type": "display_data"
    }
   ],
   "source": [
    "plt.rc(\"figure\", figsize=(80, 40))\n",
    "#sns.set_style(\"whitegrid\")\n",
    "plt.rc(\"font\", size=50)\n",
    "\n",
    "\n",
    "value_locked = siloBorrowEventsDbTimedClean.groupby(\"calDate\")[\"transactionReadableAmount\"].agg(\"sum\").reset_index()\n",
    "plot_title = 'OHM borrowed per day'\n",
    "chart=sns.barplot(data=value_locked,y=\"transactionReadableAmount\",x=\"calDate\").set(title = plot_title, xlabel = 'Date', ylabel = 'OHM', )\n",
    "print(chart)"
   ],
   "metadata": {
    "collapsed": false
   }
  },
  {
   "cell_type": "code",
   "execution_count": 14,
   "outputs": [],
   "source": [],
   "metadata": {
    "collapsed": false
   }
  },
  {
   "cell_type": "markdown",
   "source": [
    "********************************************************************************************\n",
    "********************************************************************************************\n",
    "Silo Repays"
   ],
   "metadata": {
    "collapsed": false
   }
  },
  {
   "cell_type": "code",
   "execution_count": 15,
   "outputs": [
    {
     "data": {
      "text/plain": "Empty DataFrame\nColumns: []\nIndex: []",
      "text/html": "<div>\n<style scoped>\n    .dataframe tbody tr th:only-of-type {\n        vertical-align: middle;\n    }\n\n    .dataframe tbody tr th {\n        vertical-align: top;\n    }\n\n    .dataframe thead th {\n        text-align: right;\n    }\n</style>\n<table border=\"1\" class=\"dataframe\">\n  <thead>\n    <tr style=\"text-align: right;\">\n      <th></th>\n    </tr>\n  </thead>\n  <tbody>\n  </tbody>\n</table>\n</div>"
     },
     "execution_count": 15,
     "metadata": {},
     "output_type": "execute_result"
    }
   ],
   "source": [
    "oldRepaysDb = pd.DataFrame()\n",
    "siloFileName = file+'/siloFinance_repays.csv'\n",
    "try:\n",
    "    oldRepaysDb = pd.read_csv (siloFileName)\n",
    "except:\n",
    "    oldRepaysDb = pd.DataFrame()\n",
    "oldRepaysDb.head(100)"
   ],
   "metadata": {
    "collapsed": false
   }
  },
  {
   "cell_type": "code",
   "execution_count": 16,
   "outputs": [
    {
     "data": {
      "text/plain": "0"
     },
     "execution_count": 16,
     "metadata": {},
     "output_type": "execute_result"
    }
   ],
   "source": [
    "maxRepaySiloTimestamp = 0\n",
    "try:\n",
    "    maxRepaySiloTimestamp = (max(1,oldRepaysDb['transaction_timestamp'].max()))-5\n",
    "except:\n",
    "        maxRepaySiloTimestamp = 0\n",
    "maxRepaySiloTimestamp = int(maxRepaySiloTimestamp)\n",
    "maxRepaySiloTimestamp"
   ],
   "metadata": {
    "collapsed": false
   }
  },
  {
   "cell_type": "code",
   "execution_count": 17,
   "outputs": [
    {
     "name": "stdout",
     "output_type": "stream",
     "text": [
      "iterations:  0 Lines skipped:  0 records collected:  42  - latest recordID:  0x038790f93d972fc6a3542036d9e615be7c3eb1252013bc4b5a45d5e24f503511   0x038790f93d972fc6a3542036d9e615be7c3eb1252013bc4b5a45d5e24f503511-229  - repays DB length:  42  - latest record from:  2023-02-15 07:27:11 8 days ago\n",
      "Done. Total Records collected:  42\n"
     ]
    }
   ],
   "source": [
    "##this tracks the ENTIRE list of events for repaying the XAI repayed against gOHM\n",
    "repayTicker = 0\n",
    "repayslist = pd.DataFrame()\n",
    "repaysDb = pd.DataFrame()\n",
    "repayListLength = 1000\n",
    "datediff = 0\n",
    "now=0\n",
    "daysAgo=0\n",
    "daysLimit = 45\n",
    "exit = False\n",
    "while exit==False:\n",
    "    skipValue = (repayTicker)*(1000)\n",
    "    repays = silo.Query.repays(\n",
    "        orderBy='timestamp',\n",
    "        orderDirection='desc',\n",
    "        first=1000,\n",
    "        skip = skipValue,\n",
    "        where={ 'market': '0xc413dd03555f3eb29d834b482d386b2999dc2eb0'  #gOHM market\n",
    "                ,'timestamp_gte': maxRepaySiloTimestamp\n",
    "                } #gOHM market\n",
    "\n",
    "    )\n",
    "\n",
    "    repayslist = sg.query_df([\n",
    "        repays.id\n",
    "        ,repays.hash\n",
    "        ,repays.blockNumber\n",
    "        ,repays.timestamp\n",
    "        ,repays.account.id\n",
    "        ,repays.market.id\n",
    "        ,repays.market.protocol.id\n",
    "        ,repays.market.rates.rate\n",
    "        ,repays.market.rates.duration\n",
    "        ,repays.market.rates.side\n",
    "        ,repays.market.rates.type\n",
    "        ,repays.market.rates.token.id\n",
    "        ,repays.asset.name\n",
    "        ,repays.asset.symbol\n",
    "        ,repays.asset.decimals\n",
    "        ,repays.asset.lastPriceUSD\n",
    "        ,repays.amount\n",
    "        ,repays.amountUSD\n",
    "    ])\n",
    "\n",
    "    #repayslist.sort_values(by=['repays_timestamp'])\n",
    "\n",
    "    repaysDb=pd.concat([repaysDb, repayslist])\n",
    "    recordTimestamp1 = repaysDb.iat[repayTicker,3]\n",
    "    recordTimestamp = dt.datetime.fromtimestamp( recordTimestamp1 )\n",
    "    now = (int(dt.datetime.utcnow().timestamp()))\n",
    "    datediff=abs(int(now) - recordTimestamp1)\n",
    "    daysAgo = int(datediff/86400)\n",
    "    repaysDbLength = len(repaysDb)\n",
    "    repayListLength = len(repayslist)\n",
    "    recordID = repaysDb.iat[repayTicker,0]\n",
    "    repay = repaysDb.iat[repayTicker,1]\n",
    "    print(\"iterations: \", repayTicker, \"Lines skipped: \",skipValue, \"records collected: \", repayListLength, \" - latest recordID: \",repay, \" \", recordID , \" - repays DB length: \", repaysDbLength, \" - latest record from: \", recordTimestamp, daysAgo,\"days ago\")\n",
    "    #print(\"iterations: \", repayTicker, \"records collected: \", repayListLength, \" - userdb length: \", repaysDbLength)\n",
    "    repayTicker = repayTicker+1\n",
    "\n",
    "    if daysAgo>daysLimit: exit =True\n",
    "    if repayListLength<1000: exit =True\n",
    "\n",
    "repaysDb.columns = repaysDb.columns.str.replace(\"repays\", \"transaction\")\n",
    "repaysDb['event']='repay'\n",
    "repaysDb.drop_duplicates()\n",
    "print(\"Done. Total Records collected: \", repaysDbLength)"
   ],
   "metadata": {
    "collapsed": false
   }
  },
  {
   "cell_type": "code",
   "execution_count": 18,
   "outputs": [
    {
     "data": {
      "text/plain": "                                       transaction_id  \\\n0   0xfb97f8e2544f2063f69249a0ba2138b8272c34596661...   \n1   0xfb97f8e2544f2063f69249a0ba2138b8272c34596661...   \n2   0xfb97f8e2544f2063f69249a0ba2138b8272c34596661...   \n3   0xfb97f8e2544f2063f69249a0ba2138b8272c34596661...   \n4   0xfb97f8e2544f2063f69249a0ba2138b8272c34596661...   \n5   0xfb97f8e2544f2063f69249a0ba2138b8272c34596661...   \n6   0xcd3894d9378da63ad37be32ec959973c5b171dc8c285...   \n7   0xcd3894d9378da63ad37be32ec959973c5b171dc8c285...   \n8   0xcd3894d9378da63ad37be32ec959973c5b171dc8c285...   \n9   0xcd3894d9378da63ad37be32ec959973c5b171dc8c285...   \n10  0xcd3894d9378da63ad37be32ec959973c5b171dc8c285...   \n11  0xcd3894d9378da63ad37be32ec959973c5b171dc8c285...   \n12  0xcbfc584edeb424b312011c7884bce8c77facd5b4bad8...   \n13  0xcbfc584edeb424b312011c7884bce8c77facd5b4bad8...   \n14  0xcbfc584edeb424b312011c7884bce8c77facd5b4bad8...   \n15  0xcbfc584edeb424b312011c7884bce8c77facd5b4bad8...   \n16  0xcbfc584edeb424b312011c7884bce8c77facd5b4bad8...   \n17  0xcbfc584edeb424b312011c7884bce8c77facd5b4bad8...   \n18  0x038790f93d972fc6a3542036d9e615be7c3eb1252013...   \n19  0x038790f93d972fc6a3542036d9e615be7c3eb1252013...   \n20  0x038790f93d972fc6a3542036d9e615be7c3eb1252013...   \n21  0x038790f93d972fc6a3542036d9e615be7c3eb1252013...   \n22  0x038790f93d972fc6a3542036d9e615be7c3eb1252013...   \n23  0x038790f93d972fc6a3542036d9e615be7c3eb1252013...   \n24  0x8fe7fa24f9cac5bf31917896c4a1241263cc837890b2...   \n25  0x8fe7fa24f9cac5bf31917896c4a1241263cc837890b2...   \n26  0x8fe7fa24f9cac5bf31917896c4a1241263cc837890b2...   \n27  0x8fe7fa24f9cac5bf31917896c4a1241263cc837890b2...   \n28  0x8fe7fa24f9cac5bf31917896c4a1241263cc837890b2...   \n29  0x8fe7fa24f9cac5bf31917896c4a1241263cc837890b2...   \n30  0x0c0283dc0e75f17b5e9eb79b05bea3cae12d32204aad...   \n31  0x0c0283dc0e75f17b5e9eb79b05bea3cae12d32204aad...   \n32  0x0c0283dc0e75f17b5e9eb79b05bea3cae12d32204aad...   \n33  0x0c0283dc0e75f17b5e9eb79b05bea3cae12d32204aad...   \n34  0x0c0283dc0e75f17b5e9eb79b05bea3cae12d32204aad...   \n35  0x0c0283dc0e75f17b5e9eb79b05bea3cae12d32204aad...   \n36  0x748852c58dd4b57d3f6ed80bc81f74b439efcb94968b...   \n37  0x748852c58dd4b57d3f6ed80bc81f74b439efcb94968b...   \n38  0x748852c58dd4b57d3f6ed80bc81f74b439efcb94968b...   \n39  0x748852c58dd4b57d3f6ed80bc81f74b439efcb94968b...   \n40  0x748852c58dd4b57d3f6ed80bc81f74b439efcb94968b...   \n41  0x748852c58dd4b57d3f6ed80bc81f74b439efcb94968b...   \n\n                                     transaction_hash  \\\n0   0xfb97f8e2544f2063f69249a0ba2138b8272c34596661...   \n1   0xfb97f8e2544f2063f69249a0ba2138b8272c34596661...   \n2   0xfb97f8e2544f2063f69249a0ba2138b8272c34596661...   \n3   0xfb97f8e2544f2063f69249a0ba2138b8272c34596661...   \n4   0xfb97f8e2544f2063f69249a0ba2138b8272c34596661...   \n5   0xfb97f8e2544f2063f69249a0ba2138b8272c34596661...   \n6   0xcd3894d9378da63ad37be32ec959973c5b171dc8c285...   \n7   0xcd3894d9378da63ad37be32ec959973c5b171dc8c285...   \n8   0xcd3894d9378da63ad37be32ec959973c5b171dc8c285...   \n9   0xcd3894d9378da63ad37be32ec959973c5b171dc8c285...   \n10  0xcd3894d9378da63ad37be32ec959973c5b171dc8c285...   \n11  0xcd3894d9378da63ad37be32ec959973c5b171dc8c285...   \n12  0xcbfc584edeb424b312011c7884bce8c77facd5b4bad8...   \n13  0xcbfc584edeb424b312011c7884bce8c77facd5b4bad8...   \n14  0xcbfc584edeb424b312011c7884bce8c77facd5b4bad8...   \n15  0xcbfc584edeb424b312011c7884bce8c77facd5b4bad8...   \n16  0xcbfc584edeb424b312011c7884bce8c77facd5b4bad8...   \n17  0xcbfc584edeb424b312011c7884bce8c77facd5b4bad8...   \n18  0x038790f93d972fc6a3542036d9e615be7c3eb1252013...   \n19  0x038790f93d972fc6a3542036d9e615be7c3eb1252013...   \n20  0x038790f93d972fc6a3542036d9e615be7c3eb1252013...   \n21  0x038790f93d972fc6a3542036d9e615be7c3eb1252013...   \n22  0x038790f93d972fc6a3542036d9e615be7c3eb1252013...   \n23  0x038790f93d972fc6a3542036d9e615be7c3eb1252013...   \n24  0x8fe7fa24f9cac5bf31917896c4a1241263cc837890b2...   \n25  0x8fe7fa24f9cac5bf31917896c4a1241263cc837890b2...   \n26  0x8fe7fa24f9cac5bf31917896c4a1241263cc837890b2...   \n27  0x8fe7fa24f9cac5bf31917896c4a1241263cc837890b2...   \n28  0x8fe7fa24f9cac5bf31917896c4a1241263cc837890b2...   \n29  0x8fe7fa24f9cac5bf31917896c4a1241263cc837890b2...   \n30  0x0c0283dc0e75f17b5e9eb79b05bea3cae12d32204aad...   \n31  0x0c0283dc0e75f17b5e9eb79b05bea3cae12d32204aad...   \n32  0x0c0283dc0e75f17b5e9eb79b05bea3cae12d32204aad...   \n33  0x0c0283dc0e75f17b5e9eb79b05bea3cae12d32204aad...   \n34  0x0c0283dc0e75f17b5e9eb79b05bea3cae12d32204aad...   \n35  0x0c0283dc0e75f17b5e9eb79b05bea3cae12d32204aad...   \n36  0x748852c58dd4b57d3f6ed80bc81f74b439efcb94968b...   \n37  0x748852c58dd4b57d3f6ed80bc81f74b439efcb94968b...   \n38  0x748852c58dd4b57d3f6ed80bc81f74b439efcb94968b...   \n39  0x748852c58dd4b57d3f6ed80bc81f74b439efcb94968b...   \n40  0x748852c58dd4b57d3f6ed80bc81f74b439efcb94968b...   \n41  0x748852c58dd4b57d3f6ed80bc81f74b439efcb94968b...   \n\n    transaction_blockNumber  transaction_timestamp  \\\n0                  16628154             1676391755   \n1                  16628154             1676391755   \n2                  16628154             1676391755   \n3                  16628154             1676391755   \n4                  16628154             1676391755   \n5                  16628154             1676391755   \n6                  16634833             1676472467   \n7                  16634833             1676472467   \n8                  16634833             1676472467   \n9                  16634833             1676472467   \n10                 16634833             1676472467   \n11                 16634833             1676472467   \n12                 16626928             1676376983   \n13                 16626928             1676376983   \n14                 16626928             1676376983   \n15                 16626928             1676376983   \n16                 16626928             1676376983   \n17                 16626928             1676376983   \n18                 16635029             1676474831   \n19                 16635029             1676474831   \n20                 16635029             1676474831   \n21                 16635029             1676474831   \n22                 16635029             1676474831   \n23                 16635029             1676474831   \n24                 16634792             1676471975   \n25                 16634792             1676471975   \n26                 16634792             1676471975   \n27                 16634792             1676471975   \n28                 16634792             1676471975   \n29                 16634792             1676471975   \n30                 16049560             1669410227   \n31                 16049560             1669410227   \n32                 16049560             1669410227   \n33                 16049560             1669410227   \n34                 16049560             1669410227   \n35                 16049560             1669410227   \n36                 16036129             1669248167   \n37                 16036129             1669248167   \n38                 16036129             1669248167   \n39                 16036129             1669248167   \n40                 16036129             1669248167   \n41                 16036129             1669248167   \n\n                        transaction_account_id  \\\n0   0xb0399dac8f4d4100b49b2a7b3873481114229d18   \n1   0xb0399dac8f4d4100b49b2a7b3873481114229d18   \n2   0xb0399dac8f4d4100b49b2a7b3873481114229d18   \n3   0xb0399dac8f4d4100b49b2a7b3873481114229d18   \n4   0xb0399dac8f4d4100b49b2a7b3873481114229d18   \n5   0xb0399dac8f4d4100b49b2a7b3873481114229d18   \n6   0xb0399dac8f4d4100b49b2a7b3873481114229d18   \n7   0xb0399dac8f4d4100b49b2a7b3873481114229d18   \n8   0xb0399dac8f4d4100b49b2a7b3873481114229d18   \n9   0xb0399dac8f4d4100b49b2a7b3873481114229d18   \n10  0xb0399dac8f4d4100b49b2a7b3873481114229d18   \n11  0xb0399dac8f4d4100b49b2a7b3873481114229d18   \n12  0x46535cbc3fa574c32ea392d4f89c518290597072   \n13  0x46535cbc3fa574c32ea392d4f89c518290597072   \n14  0x46535cbc3fa574c32ea392d4f89c518290597072   \n15  0x46535cbc3fa574c32ea392d4f89c518290597072   \n16  0x46535cbc3fa574c32ea392d4f89c518290597072   \n17  0x46535cbc3fa574c32ea392d4f89c518290597072   \n18  0x0493bcca897a2248ae3cd4c66aea90dbfc7e13c6   \n19  0x0493bcca897a2248ae3cd4c66aea90dbfc7e13c6   \n20  0x0493bcca897a2248ae3cd4c66aea90dbfc7e13c6   \n21  0x0493bcca897a2248ae3cd4c66aea90dbfc7e13c6   \n22  0x0493bcca897a2248ae3cd4c66aea90dbfc7e13c6   \n23  0x0493bcca897a2248ae3cd4c66aea90dbfc7e13c6   \n24  0x16ff8ad104fa6195260a6d4a3f311c5f120df77d   \n25  0x16ff8ad104fa6195260a6d4a3f311c5f120df77d   \n26  0x16ff8ad104fa6195260a6d4a3f311c5f120df77d   \n27  0x16ff8ad104fa6195260a6d4a3f311c5f120df77d   \n28  0x16ff8ad104fa6195260a6d4a3f311c5f120df77d   \n29  0x16ff8ad104fa6195260a6d4a3f311c5f120df77d   \n30  0x7776421dd146dfd6ea947cbf29b69c519807d259   \n31  0x7776421dd146dfd6ea947cbf29b69c519807d259   \n32  0x7776421dd146dfd6ea947cbf29b69c519807d259   \n33  0x7776421dd146dfd6ea947cbf29b69c519807d259   \n34  0x7776421dd146dfd6ea947cbf29b69c519807d259   \n35  0x7776421dd146dfd6ea947cbf29b69c519807d259   \n36  0xd3064611b24eba7a6dbcbc26c1b35dfee1170880   \n37  0xd3064611b24eba7a6dbcbc26c1b35dfee1170880   \n38  0xd3064611b24eba7a6dbcbc26c1b35dfee1170880   \n39  0xd3064611b24eba7a6dbcbc26c1b35dfee1170880   \n40  0xd3064611b24eba7a6dbcbc26c1b35dfee1170880   \n41  0xd3064611b24eba7a6dbcbc26c1b35dfee1170880   \n\n                         transaction_market_id  \\\n0   0xc413dd03555f3eb29d834b482d386b2999dc2eb0   \n1   0xc413dd03555f3eb29d834b482d386b2999dc2eb0   \n2   0xc413dd03555f3eb29d834b482d386b2999dc2eb0   \n3   0xc413dd03555f3eb29d834b482d386b2999dc2eb0   \n4   0xc413dd03555f3eb29d834b482d386b2999dc2eb0   \n5   0xc413dd03555f3eb29d834b482d386b2999dc2eb0   \n6   0xc413dd03555f3eb29d834b482d386b2999dc2eb0   \n7   0xc413dd03555f3eb29d834b482d386b2999dc2eb0   \n8   0xc413dd03555f3eb29d834b482d386b2999dc2eb0   \n9   0xc413dd03555f3eb29d834b482d386b2999dc2eb0   \n10  0xc413dd03555f3eb29d834b482d386b2999dc2eb0   \n11  0xc413dd03555f3eb29d834b482d386b2999dc2eb0   \n12  0xc413dd03555f3eb29d834b482d386b2999dc2eb0   \n13  0xc413dd03555f3eb29d834b482d386b2999dc2eb0   \n14  0xc413dd03555f3eb29d834b482d386b2999dc2eb0   \n15  0xc413dd03555f3eb29d834b482d386b2999dc2eb0   \n16  0xc413dd03555f3eb29d834b482d386b2999dc2eb0   \n17  0xc413dd03555f3eb29d834b482d386b2999dc2eb0   \n18  0xc413dd03555f3eb29d834b482d386b2999dc2eb0   \n19  0xc413dd03555f3eb29d834b482d386b2999dc2eb0   \n20  0xc413dd03555f3eb29d834b482d386b2999dc2eb0   \n21  0xc413dd03555f3eb29d834b482d386b2999dc2eb0   \n22  0xc413dd03555f3eb29d834b482d386b2999dc2eb0   \n23  0xc413dd03555f3eb29d834b482d386b2999dc2eb0   \n24  0xc413dd03555f3eb29d834b482d386b2999dc2eb0   \n25  0xc413dd03555f3eb29d834b482d386b2999dc2eb0   \n26  0xc413dd03555f3eb29d834b482d386b2999dc2eb0   \n27  0xc413dd03555f3eb29d834b482d386b2999dc2eb0   \n28  0xc413dd03555f3eb29d834b482d386b2999dc2eb0   \n29  0xc413dd03555f3eb29d834b482d386b2999dc2eb0   \n30  0xc413dd03555f3eb29d834b482d386b2999dc2eb0   \n31  0xc413dd03555f3eb29d834b482d386b2999dc2eb0   \n32  0xc413dd03555f3eb29d834b482d386b2999dc2eb0   \n33  0xc413dd03555f3eb29d834b482d386b2999dc2eb0   \n34  0xc413dd03555f3eb29d834b482d386b2999dc2eb0   \n35  0xc413dd03555f3eb29d834b482d386b2999dc2eb0   \n36  0xc413dd03555f3eb29d834b482d386b2999dc2eb0   \n37  0xc413dd03555f3eb29d834b482d386b2999dc2eb0   \n38  0xc413dd03555f3eb29d834b482d386b2999dc2eb0   \n39  0xc413dd03555f3eb29d834b482d386b2999dc2eb0   \n40  0xc413dd03555f3eb29d834b482d386b2999dc2eb0   \n41  0xc413dd03555f3eb29d834b482d386b2999dc2eb0   \n\n                transaction_market_protocol_id  transaction_market_rates_rate  \\\n0   0xd998c35b7900b344bbbe6555cc11576942cf309d                       0.000000   \n1   0xd998c35b7900b344bbbe6555cc11576942cf309d                      11.352275   \n2   0xd998c35b7900b344bbbe6555cc11576942cf309d                       3.411870   \n3   0xd998c35b7900b344bbbe6555cc11576942cf309d                       0.000000   \n4   0xd998c35b7900b344bbbe6555cc11576942cf309d                       8.722231   \n5   0xd998c35b7900b344bbbe6555cc11576942cf309d                       2.328203   \n6   0xd998c35b7900b344bbbe6555cc11576942cf309d                       0.000000   \n7   0xd998c35b7900b344bbbe6555cc11576942cf309d                      11.352275   \n8   0xd998c35b7900b344bbbe6555cc11576942cf309d                       3.411870   \n9   0xd998c35b7900b344bbbe6555cc11576942cf309d                       0.000000   \n10  0xd998c35b7900b344bbbe6555cc11576942cf309d                       8.722231   \n11  0xd998c35b7900b344bbbe6555cc11576942cf309d                       2.328203   \n12  0xd998c35b7900b344bbbe6555cc11576942cf309d                       0.000000   \n13  0xd998c35b7900b344bbbe6555cc11576942cf309d                      11.352275   \n14  0xd998c35b7900b344bbbe6555cc11576942cf309d                       3.411870   \n15  0xd998c35b7900b344bbbe6555cc11576942cf309d                       0.000000   \n16  0xd998c35b7900b344bbbe6555cc11576942cf309d                       8.722231   \n17  0xd998c35b7900b344bbbe6555cc11576942cf309d                       2.328203   \n18  0xd998c35b7900b344bbbe6555cc11576942cf309d                       0.000000   \n19  0xd998c35b7900b344bbbe6555cc11576942cf309d                      11.352275   \n20  0xd998c35b7900b344bbbe6555cc11576942cf309d                       3.411870   \n21  0xd998c35b7900b344bbbe6555cc11576942cf309d                       0.000000   \n22  0xd998c35b7900b344bbbe6555cc11576942cf309d                       8.722231   \n23  0xd998c35b7900b344bbbe6555cc11576942cf309d                       2.328203   \n24  0xd998c35b7900b344bbbe6555cc11576942cf309d                       0.000000   \n25  0xd998c35b7900b344bbbe6555cc11576942cf309d                      11.352275   \n26  0xd998c35b7900b344bbbe6555cc11576942cf309d                       3.411870   \n27  0xd998c35b7900b344bbbe6555cc11576942cf309d                       0.000000   \n28  0xd998c35b7900b344bbbe6555cc11576942cf309d                       8.722231   \n29  0xd998c35b7900b344bbbe6555cc11576942cf309d                       2.328203   \n30  0xd998c35b7900b344bbbe6555cc11576942cf309d                       0.000000   \n31  0xd998c35b7900b344bbbe6555cc11576942cf309d                      11.352275   \n32  0xd998c35b7900b344bbbe6555cc11576942cf309d                       3.411870   \n33  0xd998c35b7900b344bbbe6555cc11576942cf309d                       0.000000   \n34  0xd998c35b7900b344bbbe6555cc11576942cf309d                       8.722231   \n35  0xd998c35b7900b344bbbe6555cc11576942cf309d                       2.328203   \n36  0xd998c35b7900b344bbbe6555cc11576942cf309d                       0.000000   \n37  0xd998c35b7900b344bbbe6555cc11576942cf309d                      11.352275   \n38  0xd998c35b7900b344bbbe6555cc11576942cf309d                       3.411870   \n39  0xd998c35b7900b344bbbe6555cc11576942cf309d                       0.000000   \n40  0xd998c35b7900b344bbbe6555cc11576942cf309d                       8.722231   \n41  0xd998c35b7900b344bbbe6555cc11576942cf309d                       2.328203   \n\n   transaction_market_rates_duration transaction_market_rates_side  \\\n0                                NaN                      BORROWER   \n1                                NaN                      BORROWER   \n2                                NaN                      BORROWER   \n3                                NaN                        LENDER   \n4                                NaN                        LENDER   \n5                                NaN                        LENDER   \n6                                NaN                      BORROWER   \n7                                NaN                      BORROWER   \n8                                NaN                      BORROWER   \n9                                NaN                        LENDER   \n10                               NaN                        LENDER   \n11                               NaN                        LENDER   \n12                               NaN                      BORROWER   \n13                               NaN                      BORROWER   \n14                               NaN                      BORROWER   \n15                               NaN                        LENDER   \n16                               NaN                        LENDER   \n17                               NaN                        LENDER   \n18                               NaN                      BORROWER   \n19                               NaN                      BORROWER   \n20                               NaN                      BORROWER   \n21                               NaN                        LENDER   \n22                               NaN                        LENDER   \n23                               NaN                        LENDER   \n24                               NaN                      BORROWER   \n25                               NaN                      BORROWER   \n26                               NaN                      BORROWER   \n27                               NaN                        LENDER   \n28                               NaN                        LENDER   \n29                               NaN                        LENDER   \n30                               NaN                      BORROWER   \n31                               NaN                      BORROWER   \n32                               NaN                      BORROWER   \n33                               NaN                        LENDER   \n34                               NaN                        LENDER   \n35                               NaN                        LENDER   \n36                               NaN                      BORROWER   \n37                               NaN                      BORROWER   \n38                               NaN                      BORROWER   \n39                               NaN                        LENDER   \n40                               NaN                        LENDER   \n41                               NaN                        LENDER   \n\n   transaction_market_rates_type           transaction_market_rates_token_id  \\\n0                       VARIABLE  0x0ab87046fbb341d058f17cbc4c1133f25a20a52f   \n1                       VARIABLE  0xc02aaa39b223fe8d0a0e5c4f27ead9083c756cc2   \n2                       VARIABLE  0xd7c9f0e536dc865ae858b0c0453fe76d13c3beac   \n3                       VARIABLE  0x0ab87046fbb341d058f17cbc4c1133f25a20a52f   \n4                       VARIABLE  0xc02aaa39b223fe8d0a0e5c4f27ead9083c756cc2   \n5                       VARIABLE  0xd7c9f0e536dc865ae858b0c0453fe76d13c3beac   \n6                       VARIABLE  0x0ab87046fbb341d058f17cbc4c1133f25a20a52f   \n7                       VARIABLE  0xc02aaa39b223fe8d0a0e5c4f27ead9083c756cc2   \n8                       VARIABLE  0xd7c9f0e536dc865ae858b0c0453fe76d13c3beac   \n9                       VARIABLE  0x0ab87046fbb341d058f17cbc4c1133f25a20a52f   \n10                      VARIABLE  0xc02aaa39b223fe8d0a0e5c4f27ead9083c756cc2   \n11                      VARIABLE  0xd7c9f0e536dc865ae858b0c0453fe76d13c3beac   \n12                      VARIABLE  0x0ab87046fbb341d058f17cbc4c1133f25a20a52f   \n13                      VARIABLE  0xc02aaa39b223fe8d0a0e5c4f27ead9083c756cc2   \n14                      VARIABLE  0xd7c9f0e536dc865ae858b0c0453fe76d13c3beac   \n15                      VARIABLE  0x0ab87046fbb341d058f17cbc4c1133f25a20a52f   \n16                      VARIABLE  0xc02aaa39b223fe8d0a0e5c4f27ead9083c756cc2   \n17                      VARIABLE  0xd7c9f0e536dc865ae858b0c0453fe76d13c3beac   \n18                      VARIABLE  0x0ab87046fbb341d058f17cbc4c1133f25a20a52f   \n19                      VARIABLE  0xc02aaa39b223fe8d0a0e5c4f27ead9083c756cc2   \n20                      VARIABLE  0xd7c9f0e536dc865ae858b0c0453fe76d13c3beac   \n21                      VARIABLE  0x0ab87046fbb341d058f17cbc4c1133f25a20a52f   \n22                      VARIABLE  0xc02aaa39b223fe8d0a0e5c4f27ead9083c756cc2   \n23                      VARIABLE  0xd7c9f0e536dc865ae858b0c0453fe76d13c3beac   \n24                      VARIABLE  0x0ab87046fbb341d058f17cbc4c1133f25a20a52f   \n25                      VARIABLE  0xc02aaa39b223fe8d0a0e5c4f27ead9083c756cc2   \n26                      VARIABLE  0xd7c9f0e536dc865ae858b0c0453fe76d13c3beac   \n27                      VARIABLE  0x0ab87046fbb341d058f17cbc4c1133f25a20a52f   \n28                      VARIABLE  0xc02aaa39b223fe8d0a0e5c4f27ead9083c756cc2   \n29                      VARIABLE  0xd7c9f0e536dc865ae858b0c0453fe76d13c3beac   \n30                      VARIABLE  0x0ab87046fbb341d058f17cbc4c1133f25a20a52f   \n31                      VARIABLE  0xc02aaa39b223fe8d0a0e5c4f27ead9083c756cc2   \n32                      VARIABLE  0xd7c9f0e536dc865ae858b0c0453fe76d13c3beac   \n33                      VARIABLE  0x0ab87046fbb341d058f17cbc4c1133f25a20a52f   \n34                      VARIABLE  0xc02aaa39b223fe8d0a0e5c4f27ead9083c756cc2   \n35                      VARIABLE  0xd7c9f0e536dc865ae858b0c0453fe76d13c3beac   \n36                      VARIABLE  0x0ab87046fbb341d058f17cbc4c1133f25a20a52f   \n37                      VARIABLE  0xc02aaa39b223fe8d0a0e5c4f27ead9083c756cc2   \n38                      VARIABLE  0xd7c9f0e536dc865ae858b0c0453fe76d13c3beac   \n39                      VARIABLE  0x0ab87046fbb341d058f17cbc4c1133f25a20a52f   \n40                      VARIABLE  0xc02aaa39b223fe8d0a0e5c4f27ead9083c756cc2   \n41                      VARIABLE  0xd7c9f0e536dc865ae858b0c0453fe76d13c3beac   \n\n   transaction_asset_name transaction_asset_symbol  \\\n0          XAI Stablecoin                      XAI   \n1          XAI Stablecoin                      XAI   \n2          XAI Stablecoin                      XAI   \n3          XAI Stablecoin                      XAI   \n4          XAI Stablecoin                      XAI   \n5          XAI Stablecoin                      XAI   \n6          XAI Stablecoin                      XAI   \n7          XAI Stablecoin                      XAI   \n8          XAI Stablecoin                      XAI   \n9          XAI Stablecoin                      XAI   \n10         XAI Stablecoin                      XAI   \n11         XAI Stablecoin                      XAI   \n12         Governance OHM                     gOHM   \n13         Governance OHM                     gOHM   \n14         Governance OHM                     gOHM   \n15         Governance OHM                     gOHM   \n16         Governance OHM                     gOHM   \n17         Governance OHM                     gOHM   \n18         XAI Stablecoin                      XAI   \n19         XAI Stablecoin                      XAI   \n20         XAI Stablecoin                      XAI   \n21         XAI Stablecoin                      XAI   \n22         XAI Stablecoin                      XAI   \n23         XAI Stablecoin                      XAI   \n24          Wrapped Ether                     WETH   \n25          Wrapped Ether                     WETH   \n26          Wrapped Ether                     WETH   \n27          Wrapped Ether                     WETH   \n28          Wrapped Ether                     WETH   \n29          Wrapped Ether                     WETH   \n30         Governance OHM                     gOHM   \n31         Governance OHM                     gOHM   \n32         Governance OHM                     gOHM   \n33         Governance OHM                     gOHM   \n34         Governance OHM                     gOHM   \n35         Governance OHM                     gOHM   \n36         XAI Stablecoin                      XAI   \n37         XAI Stablecoin                      XAI   \n38         XAI Stablecoin                      XAI   \n39         XAI Stablecoin                      XAI   \n40         XAI Stablecoin                      XAI   \n41         XAI Stablecoin                      XAI   \n\n    transaction_asset_decimals  transaction_asset_lastPriceUSD  \\\n0                           18                        1.005034   \n1                           18                        1.005034   \n2                           18                        1.005034   \n3                           18                        1.005034   \n4                           18                        1.005034   \n5                           18                        1.005034   \n6                           18                        1.005034   \n7                           18                        1.005034   \n8                           18                        1.005034   \n9                           18                        1.005034   \n10                          18                        1.005034   \n11                          18                        1.005034   \n12                          18                     2735.431044   \n13                          18                     2735.431044   \n14                          18                     2735.431044   \n15                          18                     2735.431044   \n16                          18                     2735.431044   \n17                          18                     2735.431044   \n18                          18                        1.005034   \n19                          18                        1.005034   \n20                          18                        1.005034   \n21                          18                        1.005034   \n22                          18                        1.005034   \n23                          18                        1.005034   \n24                          18                     1655.794128   \n25                          18                     1655.794128   \n26                          18                     1655.794128   \n27                          18                     1655.794128   \n28                          18                     1655.794128   \n29                          18                     1655.794128   \n30                          18                     2735.431044   \n31                          18                     2735.431044   \n32                          18                     2735.431044   \n33                          18                     2735.431044   \n34                          18                     2735.431044   \n35                          18                     2735.431044   \n36                          18                        1.005034   \n37                          18                        1.005034   \n38                          18                        1.005034   \n39                          18                        1.005034   \n40                          18                        1.005034   \n41                          18                        1.005034   \n\n          transaction_amount  transaction_amountUSD  event            dateTime  \n0   100000000000000000000000          100169.938162  repay 2023-02-14 16:22:35  \n1   100000000000000000000000          100169.938162  repay 2023-02-14 16:22:35  \n2   100000000000000000000000          100169.938162  repay 2023-02-14 16:22:35  \n3   100000000000000000000000          100169.938162  repay 2023-02-14 16:22:35  \n4   100000000000000000000000          100169.938162  repay 2023-02-14 16:22:35  \n5   100000000000000000000000          100169.938162  repay 2023-02-14 16:22:35  \n6    86097742961225053188537           86762.218165  repay 2023-02-15 14:47:47  \n7    86097742961225053188537           86762.218165  repay 2023-02-15 14:47:47  \n8    86097742961225053188537           86762.218165  repay 2023-02-15 14:47:47  \n9    86097742961225053188537           86762.218165  repay 2023-02-15 14:47:47  \n10   86097742961225053188537           86762.218165  repay 2023-02-15 14:47:47  \n11   86097742961225053188537           86762.218165  repay 2023-02-15 14:47:47  \n12      26400333491938938022           71784.459721  repay 2023-02-14 12:16:23  \n13      26400333491938938022           71784.459721  repay 2023-02-14 12:16:23  \n14      26400333491938938022           71784.459721  repay 2023-02-14 12:16:23  \n15      26400333491938938022           71784.459721  repay 2023-02-14 12:16:23  \n16      26400333491938938022           71784.459721  repay 2023-02-14 12:16:23  \n17      26400333491938938022           71784.459721  repay 2023-02-14 12:16:23  \n18   30018522086274362309835           30145.515376  repay 2023-02-15 15:27:11  \n19   30018522086274362309835           30145.515376  repay 2023-02-15 15:27:11  \n20   30018522086274362309835           30145.515376  repay 2023-02-15 15:27:11  \n21   30018522086274362309835           30145.515376  repay 2023-02-15 15:27:11  \n22   30018522086274362309835           30145.515376  repay 2023-02-15 15:27:11  \n23   30018522086274362309835           30145.515376  repay 2023-02-15 15:27:11  \n24       1922657967519338881            3047.575989  repay 2023-02-15 14:39:35  \n25       1922657967519338881            3047.575989  repay 2023-02-15 14:39:35  \n26       1922657967519338881            3047.575989  repay 2023-02-15 14:39:35  \n27       1922657967519338881            3047.575989  repay 2023-02-15 14:39:35  \n28       1922657967519338881            3047.575989  repay 2023-02-15 14:39:35  \n29       1922657967519338881            3047.575989  repay 2023-02-15 14:39:35  \n30        211113566088300260             466.683913  repay 2022-11-25 21:03:47  \n31        211113566088300260             466.683913  repay 2022-11-25 21:03:47  \n32        211113566088300260             466.683913  repay 2022-11-25 21:03:47  \n33        211113566088300260             466.683913  repay 2022-11-25 21:03:47  \n34        211113566088300260             466.683913  repay 2022-11-25 21:03:47  \n35        211113566088300260             466.683913  repay 2022-11-25 21:03:47  \n36     262009180608605163324             262.209786  repay 2022-11-24 00:02:47  \n37     262009180608605163324             262.209786  repay 2022-11-24 00:02:47  \n38     262009180608605163324             262.209786  repay 2022-11-24 00:02:47  \n39     262009180608605163324             262.209786  repay 2022-11-24 00:02:47  \n40     262009180608605163324             262.209786  repay 2022-11-24 00:02:47  \n41     262009180608605163324             262.209786  repay 2022-11-24 00:02:47  ",
      "text/html": "<div>\n<style scoped>\n    .dataframe tbody tr th:only-of-type {\n        vertical-align: middle;\n    }\n\n    .dataframe tbody tr th {\n        vertical-align: top;\n    }\n\n    .dataframe thead th {\n        text-align: right;\n    }\n</style>\n<table border=\"1\" class=\"dataframe\">\n  <thead>\n    <tr style=\"text-align: right;\">\n      <th></th>\n      <th>transaction_id</th>\n      <th>transaction_hash</th>\n      <th>transaction_blockNumber</th>\n      <th>transaction_timestamp</th>\n      <th>transaction_account_id</th>\n      <th>transaction_market_id</th>\n      <th>transaction_market_protocol_id</th>\n      <th>transaction_market_rates_rate</th>\n      <th>transaction_market_rates_duration</th>\n      <th>transaction_market_rates_side</th>\n      <th>transaction_market_rates_type</th>\n      <th>transaction_market_rates_token_id</th>\n      <th>transaction_asset_name</th>\n      <th>transaction_asset_symbol</th>\n      <th>transaction_asset_decimals</th>\n      <th>transaction_asset_lastPriceUSD</th>\n      <th>transaction_amount</th>\n      <th>transaction_amountUSD</th>\n      <th>event</th>\n      <th>dateTime</th>\n    </tr>\n  </thead>\n  <tbody>\n    <tr>\n      <th>0</th>\n      <td>0xfb97f8e2544f2063f69249a0ba2138b8272c34596661...</td>\n      <td>0xfb97f8e2544f2063f69249a0ba2138b8272c34596661...</td>\n      <td>16628154</td>\n      <td>1676391755</td>\n      <td>0xb0399dac8f4d4100b49b2a7b3873481114229d18</td>\n      <td>0xc413dd03555f3eb29d834b482d386b2999dc2eb0</td>\n      <td>0xd998c35b7900b344bbbe6555cc11576942cf309d</td>\n      <td>0.000000</td>\n      <td>NaN</td>\n      <td>BORROWER</td>\n      <td>VARIABLE</td>\n      <td>0x0ab87046fbb341d058f17cbc4c1133f25a20a52f</td>\n      <td>XAI Stablecoin</td>\n      <td>XAI</td>\n      <td>18</td>\n      <td>1.005034</td>\n      <td>100000000000000000000000</td>\n      <td>100169.938162</td>\n      <td>repay</td>\n      <td>2023-02-14 16:22:35</td>\n    </tr>\n    <tr>\n      <th>1</th>\n      <td>0xfb97f8e2544f2063f69249a0ba2138b8272c34596661...</td>\n      <td>0xfb97f8e2544f2063f69249a0ba2138b8272c34596661...</td>\n      <td>16628154</td>\n      <td>1676391755</td>\n      <td>0xb0399dac8f4d4100b49b2a7b3873481114229d18</td>\n      <td>0xc413dd03555f3eb29d834b482d386b2999dc2eb0</td>\n      <td>0xd998c35b7900b344bbbe6555cc11576942cf309d</td>\n      <td>11.352275</td>\n      <td>NaN</td>\n      <td>BORROWER</td>\n      <td>VARIABLE</td>\n      <td>0xc02aaa39b223fe8d0a0e5c4f27ead9083c756cc2</td>\n      <td>XAI Stablecoin</td>\n      <td>XAI</td>\n      <td>18</td>\n      <td>1.005034</td>\n      <td>100000000000000000000000</td>\n      <td>100169.938162</td>\n      <td>repay</td>\n      <td>2023-02-14 16:22:35</td>\n    </tr>\n    <tr>\n      <th>2</th>\n      <td>0xfb97f8e2544f2063f69249a0ba2138b8272c34596661...</td>\n      <td>0xfb97f8e2544f2063f69249a0ba2138b8272c34596661...</td>\n      <td>16628154</td>\n      <td>1676391755</td>\n      <td>0xb0399dac8f4d4100b49b2a7b3873481114229d18</td>\n      <td>0xc413dd03555f3eb29d834b482d386b2999dc2eb0</td>\n      <td>0xd998c35b7900b344bbbe6555cc11576942cf309d</td>\n      <td>3.411870</td>\n      <td>NaN</td>\n      <td>BORROWER</td>\n      <td>VARIABLE</td>\n      <td>0xd7c9f0e536dc865ae858b0c0453fe76d13c3beac</td>\n      <td>XAI Stablecoin</td>\n      <td>XAI</td>\n      <td>18</td>\n      <td>1.005034</td>\n      <td>100000000000000000000000</td>\n      <td>100169.938162</td>\n      <td>repay</td>\n      <td>2023-02-14 16:22:35</td>\n    </tr>\n    <tr>\n      <th>3</th>\n      <td>0xfb97f8e2544f2063f69249a0ba2138b8272c34596661...</td>\n      <td>0xfb97f8e2544f2063f69249a0ba2138b8272c34596661...</td>\n      <td>16628154</td>\n      <td>1676391755</td>\n      <td>0xb0399dac8f4d4100b49b2a7b3873481114229d18</td>\n      <td>0xc413dd03555f3eb29d834b482d386b2999dc2eb0</td>\n      <td>0xd998c35b7900b344bbbe6555cc11576942cf309d</td>\n      <td>0.000000</td>\n      <td>NaN</td>\n      <td>LENDER</td>\n      <td>VARIABLE</td>\n      <td>0x0ab87046fbb341d058f17cbc4c1133f25a20a52f</td>\n      <td>XAI Stablecoin</td>\n      <td>XAI</td>\n      <td>18</td>\n      <td>1.005034</td>\n      <td>100000000000000000000000</td>\n      <td>100169.938162</td>\n      <td>repay</td>\n      <td>2023-02-14 16:22:35</td>\n    </tr>\n    <tr>\n      <th>4</th>\n      <td>0xfb97f8e2544f2063f69249a0ba2138b8272c34596661...</td>\n      <td>0xfb97f8e2544f2063f69249a0ba2138b8272c34596661...</td>\n      <td>16628154</td>\n      <td>1676391755</td>\n      <td>0xb0399dac8f4d4100b49b2a7b3873481114229d18</td>\n      <td>0xc413dd03555f3eb29d834b482d386b2999dc2eb0</td>\n      <td>0xd998c35b7900b344bbbe6555cc11576942cf309d</td>\n      <td>8.722231</td>\n      <td>NaN</td>\n      <td>LENDER</td>\n      <td>VARIABLE</td>\n      <td>0xc02aaa39b223fe8d0a0e5c4f27ead9083c756cc2</td>\n      <td>XAI Stablecoin</td>\n      <td>XAI</td>\n      <td>18</td>\n      <td>1.005034</td>\n      <td>100000000000000000000000</td>\n      <td>100169.938162</td>\n      <td>repay</td>\n      <td>2023-02-14 16:22:35</td>\n    </tr>\n    <tr>\n      <th>5</th>\n      <td>0xfb97f8e2544f2063f69249a0ba2138b8272c34596661...</td>\n      <td>0xfb97f8e2544f2063f69249a0ba2138b8272c34596661...</td>\n      <td>16628154</td>\n      <td>1676391755</td>\n      <td>0xb0399dac8f4d4100b49b2a7b3873481114229d18</td>\n      <td>0xc413dd03555f3eb29d834b482d386b2999dc2eb0</td>\n      <td>0xd998c35b7900b344bbbe6555cc11576942cf309d</td>\n      <td>2.328203</td>\n      <td>NaN</td>\n      <td>LENDER</td>\n      <td>VARIABLE</td>\n      <td>0xd7c9f0e536dc865ae858b0c0453fe76d13c3beac</td>\n      <td>XAI Stablecoin</td>\n      <td>XAI</td>\n      <td>18</td>\n      <td>1.005034</td>\n      <td>100000000000000000000000</td>\n      <td>100169.938162</td>\n      <td>repay</td>\n      <td>2023-02-14 16:22:35</td>\n    </tr>\n    <tr>\n      <th>6</th>\n      <td>0xcd3894d9378da63ad37be32ec959973c5b171dc8c285...</td>\n      <td>0xcd3894d9378da63ad37be32ec959973c5b171dc8c285...</td>\n      <td>16634833</td>\n      <td>1676472467</td>\n      <td>0xb0399dac8f4d4100b49b2a7b3873481114229d18</td>\n      <td>0xc413dd03555f3eb29d834b482d386b2999dc2eb0</td>\n      <td>0xd998c35b7900b344bbbe6555cc11576942cf309d</td>\n      <td>0.000000</td>\n      <td>NaN</td>\n      <td>BORROWER</td>\n      <td>VARIABLE</td>\n      <td>0x0ab87046fbb341d058f17cbc4c1133f25a20a52f</td>\n      <td>XAI Stablecoin</td>\n      <td>XAI</td>\n      <td>18</td>\n      <td>1.005034</td>\n      <td>86097742961225053188537</td>\n      <td>86762.218165</td>\n      <td>repay</td>\n      <td>2023-02-15 14:47:47</td>\n    </tr>\n    <tr>\n      <th>7</th>\n      <td>0xcd3894d9378da63ad37be32ec959973c5b171dc8c285...</td>\n      <td>0xcd3894d9378da63ad37be32ec959973c5b171dc8c285...</td>\n      <td>16634833</td>\n      <td>1676472467</td>\n      <td>0xb0399dac8f4d4100b49b2a7b3873481114229d18</td>\n      <td>0xc413dd03555f3eb29d834b482d386b2999dc2eb0</td>\n      <td>0xd998c35b7900b344bbbe6555cc11576942cf309d</td>\n      <td>11.352275</td>\n      <td>NaN</td>\n      <td>BORROWER</td>\n      <td>VARIABLE</td>\n      <td>0xc02aaa39b223fe8d0a0e5c4f27ead9083c756cc2</td>\n      <td>XAI Stablecoin</td>\n      <td>XAI</td>\n      <td>18</td>\n      <td>1.005034</td>\n      <td>86097742961225053188537</td>\n      <td>86762.218165</td>\n      <td>repay</td>\n      <td>2023-02-15 14:47:47</td>\n    </tr>\n    <tr>\n      <th>8</th>\n      <td>0xcd3894d9378da63ad37be32ec959973c5b171dc8c285...</td>\n      <td>0xcd3894d9378da63ad37be32ec959973c5b171dc8c285...</td>\n      <td>16634833</td>\n      <td>1676472467</td>\n      <td>0xb0399dac8f4d4100b49b2a7b3873481114229d18</td>\n      <td>0xc413dd03555f3eb29d834b482d386b2999dc2eb0</td>\n      <td>0xd998c35b7900b344bbbe6555cc11576942cf309d</td>\n      <td>3.411870</td>\n      <td>NaN</td>\n      <td>BORROWER</td>\n      <td>VARIABLE</td>\n      <td>0xd7c9f0e536dc865ae858b0c0453fe76d13c3beac</td>\n      <td>XAI Stablecoin</td>\n      <td>XAI</td>\n      <td>18</td>\n      <td>1.005034</td>\n      <td>86097742961225053188537</td>\n      <td>86762.218165</td>\n      <td>repay</td>\n      <td>2023-02-15 14:47:47</td>\n    </tr>\n    <tr>\n      <th>9</th>\n      <td>0xcd3894d9378da63ad37be32ec959973c5b171dc8c285...</td>\n      <td>0xcd3894d9378da63ad37be32ec959973c5b171dc8c285...</td>\n      <td>16634833</td>\n      <td>1676472467</td>\n      <td>0xb0399dac8f4d4100b49b2a7b3873481114229d18</td>\n      <td>0xc413dd03555f3eb29d834b482d386b2999dc2eb0</td>\n      <td>0xd998c35b7900b344bbbe6555cc11576942cf309d</td>\n      <td>0.000000</td>\n      <td>NaN</td>\n      <td>LENDER</td>\n      <td>VARIABLE</td>\n      <td>0x0ab87046fbb341d058f17cbc4c1133f25a20a52f</td>\n      <td>XAI Stablecoin</td>\n      <td>XAI</td>\n      <td>18</td>\n      <td>1.005034</td>\n      <td>86097742961225053188537</td>\n      <td>86762.218165</td>\n      <td>repay</td>\n      <td>2023-02-15 14:47:47</td>\n    </tr>\n    <tr>\n      <th>10</th>\n      <td>0xcd3894d9378da63ad37be32ec959973c5b171dc8c285...</td>\n      <td>0xcd3894d9378da63ad37be32ec959973c5b171dc8c285...</td>\n      <td>16634833</td>\n      <td>1676472467</td>\n      <td>0xb0399dac8f4d4100b49b2a7b3873481114229d18</td>\n      <td>0xc413dd03555f3eb29d834b482d386b2999dc2eb0</td>\n      <td>0xd998c35b7900b344bbbe6555cc11576942cf309d</td>\n      <td>8.722231</td>\n      <td>NaN</td>\n      <td>LENDER</td>\n      <td>VARIABLE</td>\n      <td>0xc02aaa39b223fe8d0a0e5c4f27ead9083c756cc2</td>\n      <td>XAI Stablecoin</td>\n      <td>XAI</td>\n      <td>18</td>\n      <td>1.005034</td>\n      <td>86097742961225053188537</td>\n      <td>86762.218165</td>\n      <td>repay</td>\n      <td>2023-02-15 14:47:47</td>\n    </tr>\n    <tr>\n      <th>11</th>\n      <td>0xcd3894d9378da63ad37be32ec959973c5b171dc8c285...</td>\n      <td>0xcd3894d9378da63ad37be32ec959973c5b171dc8c285...</td>\n      <td>16634833</td>\n      <td>1676472467</td>\n      <td>0xb0399dac8f4d4100b49b2a7b3873481114229d18</td>\n      <td>0xc413dd03555f3eb29d834b482d386b2999dc2eb0</td>\n      <td>0xd998c35b7900b344bbbe6555cc11576942cf309d</td>\n      <td>2.328203</td>\n      <td>NaN</td>\n      <td>LENDER</td>\n      <td>VARIABLE</td>\n      <td>0xd7c9f0e536dc865ae858b0c0453fe76d13c3beac</td>\n      <td>XAI Stablecoin</td>\n      <td>XAI</td>\n      <td>18</td>\n      <td>1.005034</td>\n      <td>86097742961225053188537</td>\n      <td>86762.218165</td>\n      <td>repay</td>\n      <td>2023-02-15 14:47:47</td>\n    </tr>\n    <tr>\n      <th>12</th>\n      <td>0xcbfc584edeb424b312011c7884bce8c77facd5b4bad8...</td>\n      <td>0xcbfc584edeb424b312011c7884bce8c77facd5b4bad8...</td>\n      <td>16626928</td>\n      <td>1676376983</td>\n      <td>0x46535cbc3fa574c32ea392d4f89c518290597072</td>\n      <td>0xc413dd03555f3eb29d834b482d386b2999dc2eb0</td>\n      <td>0xd998c35b7900b344bbbe6555cc11576942cf309d</td>\n      <td>0.000000</td>\n      <td>NaN</td>\n      <td>BORROWER</td>\n      <td>VARIABLE</td>\n      <td>0x0ab87046fbb341d058f17cbc4c1133f25a20a52f</td>\n      <td>Governance OHM</td>\n      <td>gOHM</td>\n      <td>18</td>\n      <td>2735.431044</td>\n      <td>26400333491938938022</td>\n      <td>71784.459721</td>\n      <td>repay</td>\n      <td>2023-02-14 12:16:23</td>\n    </tr>\n    <tr>\n      <th>13</th>\n      <td>0xcbfc584edeb424b312011c7884bce8c77facd5b4bad8...</td>\n      <td>0xcbfc584edeb424b312011c7884bce8c77facd5b4bad8...</td>\n      <td>16626928</td>\n      <td>1676376983</td>\n      <td>0x46535cbc3fa574c32ea392d4f89c518290597072</td>\n      <td>0xc413dd03555f3eb29d834b482d386b2999dc2eb0</td>\n      <td>0xd998c35b7900b344bbbe6555cc11576942cf309d</td>\n      <td>11.352275</td>\n      <td>NaN</td>\n      <td>BORROWER</td>\n      <td>VARIABLE</td>\n      <td>0xc02aaa39b223fe8d0a0e5c4f27ead9083c756cc2</td>\n      <td>Governance OHM</td>\n      <td>gOHM</td>\n      <td>18</td>\n      <td>2735.431044</td>\n      <td>26400333491938938022</td>\n      <td>71784.459721</td>\n      <td>repay</td>\n      <td>2023-02-14 12:16:23</td>\n    </tr>\n    <tr>\n      <th>14</th>\n      <td>0xcbfc584edeb424b312011c7884bce8c77facd5b4bad8...</td>\n      <td>0xcbfc584edeb424b312011c7884bce8c77facd5b4bad8...</td>\n      <td>16626928</td>\n      <td>1676376983</td>\n      <td>0x46535cbc3fa574c32ea392d4f89c518290597072</td>\n      <td>0xc413dd03555f3eb29d834b482d386b2999dc2eb0</td>\n      <td>0xd998c35b7900b344bbbe6555cc11576942cf309d</td>\n      <td>3.411870</td>\n      <td>NaN</td>\n      <td>BORROWER</td>\n      <td>VARIABLE</td>\n      <td>0xd7c9f0e536dc865ae858b0c0453fe76d13c3beac</td>\n      <td>Governance OHM</td>\n      <td>gOHM</td>\n      <td>18</td>\n      <td>2735.431044</td>\n      <td>26400333491938938022</td>\n      <td>71784.459721</td>\n      <td>repay</td>\n      <td>2023-02-14 12:16:23</td>\n    </tr>\n    <tr>\n      <th>15</th>\n      <td>0xcbfc584edeb424b312011c7884bce8c77facd5b4bad8...</td>\n      <td>0xcbfc584edeb424b312011c7884bce8c77facd5b4bad8...</td>\n      <td>16626928</td>\n      <td>1676376983</td>\n      <td>0x46535cbc3fa574c32ea392d4f89c518290597072</td>\n      <td>0xc413dd03555f3eb29d834b482d386b2999dc2eb0</td>\n      <td>0xd998c35b7900b344bbbe6555cc11576942cf309d</td>\n      <td>0.000000</td>\n      <td>NaN</td>\n      <td>LENDER</td>\n      <td>VARIABLE</td>\n      <td>0x0ab87046fbb341d058f17cbc4c1133f25a20a52f</td>\n      <td>Governance OHM</td>\n      <td>gOHM</td>\n      <td>18</td>\n      <td>2735.431044</td>\n      <td>26400333491938938022</td>\n      <td>71784.459721</td>\n      <td>repay</td>\n      <td>2023-02-14 12:16:23</td>\n    </tr>\n    <tr>\n      <th>16</th>\n      <td>0xcbfc584edeb424b312011c7884bce8c77facd5b4bad8...</td>\n      <td>0xcbfc584edeb424b312011c7884bce8c77facd5b4bad8...</td>\n      <td>16626928</td>\n      <td>1676376983</td>\n      <td>0x46535cbc3fa574c32ea392d4f89c518290597072</td>\n      <td>0xc413dd03555f3eb29d834b482d386b2999dc2eb0</td>\n      <td>0xd998c35b7900b344bbbe6555cc11576942cf309d</td>\n      <td>8.722231</td>\n      <td>NaN</td>\n      <td>LENDER</td>\n      <td>VARIABLE</td>\n      <td>0xc02aaa39b223fe8d0a0e5c4f27ead9083c756cc2</td>\n      <td>Governance OHM</td>\n      <td>gOHM</td>\n      <td>18</td>\n      <td>2735.431044</td>\n      <td>26400333491938938022</td>\n      <td>71784.459721</td>\n      <td>repay</td>\n      <td>2023-02-14 12:16:23</td>\n    </tr>\n    <tr>\n      <th>17</th>\n      <td>0xcbfc584edeb424b312011c7884bce8c77facd5b4bad8...</td>\n      <td>0xcbfc584edeb424b312011c7884bce8c77facd5b4bad8...</td>\n      <td>16626928</td>\n      <td>1676376983</td>\n      <td>0x46535cbc3fa574c32ea392d4f89c518290597072</td>\n      <td>0xc413dd03555f3eb29d834b482d386b2999dc2eb0</td>\n      <td>0xd998c35b7900b344bbbe6555cc11576942cf309d</td>\n      <td>2.328203</td>\n      <td>NaN</td>\n      <td>LENDER</td>\n      <td>VARIABLE</td>\n      <td>0xd7c9f0e536dc865ae858b0c0453fe76d13c3beac</td>\n      <td>Governance OHM</td>\n      <td>gOHM</td>\n      <td>18</td>\n      <td>2735.431044</td>\n      <td>26400333491938938022</td>\n      <td>71784.459721</td>\n      <td>repay</td>\n      <td>2023-02-14 12:16:23</td>\n    </tr>\n    <tr>\n      <th>18</th>\n      <td>0x038790f93d972fc6a3542036d9e615be7c3eb1252013...</td>\n      <td>0x038790f93d972fc6a3542036d9e615be7c3eb1252013...</td>\n      <td>16635029</td>\n      <td>1676474831</td>\n      <td>0x0493bcca897a2248ae3cd4c66aea90dbfc7e13c6</td>\n      <td>0xc413dd03555f3eb29d834b482d386b2999dc2eb0</td>\n      <td>0xd998c35b7900b344bbbe6555cc11576942cf309d</td>\n      <td>0.000000</td>\n      <td>NaN</td>\n      <td>BORROWER</td>\n      <td>VARIABLE</td>\n      <td>0x0ab87046fbb341d058f17cbc4c1133f25a20a52f</td>\n      <td>XAI Stablecoin</td>\n      <td>XAI</td>\n      <td>18</td>\n      <td>1.005034</td>\n      <td>30018522086274362309835</td>\n      <td>30145.515376</td>\n      <td>repay</td>\n      <td>2023-02-15 15:27:11</td>\n    </tr>\n    <tr>\n      <th>19</th>\n      <td>0x038790f93d972fc6a3542036d9e615be7c3eb1252013...</td>\n      <td>0x038790f93d972fc6a3542036d9e615be7c3eb1252013...</td>\n      <td>16635029</td>\n      <td>1676474831</td>\n      <td>0x0493bcca897a2248ae3cd4c66aea90dbfc7e13c6</td>\n      <td>0xc413dd03555f3eb29d834b482d386b2999dc2eb0</td>\n      <td>0xd998c35b7900b344bbbe6555cc11576942cf309d</td>\n      <td>11.352275</td>\n      <td>NaN</td>\n      <td>BORROWER</td>\n      <td>VARIABLE</td>\n      <td>0xc02aaa39b223fe8d0a0e5c4f27ead9083c756cc2</td>\n      <td>XAI Stablecoin</td>\n      <td>XAI</td>\n      <td>18</td>\n      <td>1.005034</td>\n      <td>30018522086274362309835</td>\n      <td>30145.515376</td>\n      <td>repay</td>\n      <td>2023-02-15 15:27:11</td>\n    </tr>\n    <tr>\n      <th>20</th>\n      <td>0x038790f93d972fc6a3542036d9e615be7c3eb1252013...</td>\n      <td>0x038790f93d972fc6a3542036d9e615be7c3eb1252013...</td>\n      <td>16635029</td>\n      <td>1676474831</td>\n      <td>0x0493bcca897a2248ae3cd4c66aea90dbfc7e13c6</td>\n      <td>0xc413dd03555f3eb29d834b482d386b2999dc2eb0</td>\n      <td>0xd998c35b7900b344bbbe6555cc11576942cf309d</td>\n      <td>3.411870</td>\n      <td>NaN</td>\n      <td>BORROWER</td>\n      <td>VARIABLE</td>\n      <td>0xd7c9f0e536dc865ae858b0c0453fe76d13c3beac</td>\n      <td>XAI Stablecoin</td>\n      <td>XAI</td>\n      <td>18</td>\n      <td>1.005034</td>\n      <td>30018522086274362309835</td>\n      <td>30145.515376</td>\n      <td>repay</td>\n      <td>2023-02-15 15:27:11</td>\n    </tr>\n    <tr>\n      <th>21</th>\n      <td>0x038790f93d972fc6a3542036d9e615be7c3eb1252013...</td>\n      <td>0x038790f93d972fc6a3542036d9e615be7c3eb1252013...</td>\n      <td>16635029</td>\n      <td>1676474831</td>\n      <td>0x0493bcca897a2248ae3cd4c66aea90dbfc7e13c6</td>\n      <td>0xc413dd03555f3eb29d834b482d386b2999dc2eb0</td>\n      <td>0xd998c35b7900b344bbbe6555cc11576942cf309d</td>\n      <td>0.000000</td>\n      <td>NaN</td>\n      <td>LENDER</td>\n      <td>VARIABLE</td>\n      <td>0x0ab87046fbb341d058f17cbc4c1133f25a20a52f</td>\n      <td>XAI Stablecoin</td>\n      <td>XAI</td>\n      <td>18</td>\n      <td>1.005034</td>\n      <td>30018522086274362309835</td>\n      <td>30145.515376</td>\n      <td>repay</td>\n      <td>2023-02-15 15:27:11</td>\n    </tr>\n    <tr>\n      <th>22</th>\n      <td>0x038790f93d972fc6a3542036d9e615be7c3eb1252013...</td>\n      <td>0x038790f93d972fc6a3542036d9e615be7c3eb1252013...</td>\n      <td>16635029</td>\n      <td>1676474831</td>\n      <td>0x0493bcca897a2248ae3cd4c66aea90dbfc7e13c6</td>\n      <td>0xc413dd03555f3eb29d834b482d386b2999dc2eb0</td>\n      <td>0xd998c35b7900b344bbbe6555cc11576942cf309d</td>\n      <td>8.722231</td>\n      <td>NaN</td>\n      <td>LENDER</td>\n      <td>VARIABLE</td>\n      <td>0xc02aaa39b223fe8d0a0e5c4f27ead9083c756cc2</td>\n      <td>XAI Stablecoin</td>\n      <td>XAI</td>\n      <td>18</td>\n      <td>1.005034</td>\n      <td>30018522086274362309835</td>\n      <td>30145.515376</td>\n      <td>repay</td>\n      <td>2023-02-15 15:27:11</td>\n    </tr>\n    <tr>\n      <th>23</th>\n      <td>0x038790f93d972fc6a3542036d9e615be7c3eb1252013...</td>\n      <td>0x038790f93d972fc6a3542036d9e615be7c3eb1252013...</td>\n      <td>16635029</td>\n      <td>1676474831</td>\n      <td>0x0493bcca897a2248ae3cd4c66aea90dbfc7e13c6</td>\n      <td>0xc413dd03555f3eb29d834b482d386b2999dc2eb0</td>\n      <td>0xd998c35b7900b344bbbe6555cc11576942cf309d</td>\n      <td>2.328203</td>\n      <td>NaN</td>\n      <td>LENDER</td>\n      <td>VARIABLE</td>\n      <td>0xd7c9f0e536dc865ae858b0c0453fe76d13c3beac</td>\n      <td>XAI Stablecoin</td>\n      <td>XAI</td>\n      <td>18</td>\n      <td>1.005034</td>\n      <td>30018522086274362309835</td>\n      <td>30145.515376</td>\n      <td>repay</td>\n      <td>2023-02-15 15:27:11</td>\n    </tr>\n    <tr>\n      <th>24</th>\n      <td>0x8fe7fa24f9cac5bf31917896c4a1241263cc837890b2...</td>\n      <td>0x8fe7fa24f9cac5bf31917896c4a1241263cc837890b2...</td>\n      <td>16634792</td>\n      <td>1676471975</td>\n      <td>0x16ff8ad104fa6195260a6d4a3f311c5f120df77d</td>\n      <td>0xc413dd03555f3eb29d834b482d386b2999dc2eb0</td>\n      <td>0xd998c35b7900b344bbbe6555cc11576942cf309d</td>\n      <td>0.000000</td>\n      <td>NaN</td>\n      <td>BORROWER</td>\n      <td>VARIABLE</td>\n      <td>0x0ab87046fbb341d058f17cbc4c1133f25a20a52f</td>\n      <td>Wrapped Ether</td>\n      <td>WETH</td>\n      <td>18</td>\n      <td>1655.794128</td>\n      <td>1922657967519338881</td>\n      <td>3047.575989</td>\n      <td>repay</td>\n      <td>2023-02-15 14:39:35</td>\n    </tr>\n    <tr>\n      <th>25</th>\n      <td>0x8fe7fa24f9cac5bf31917896c4a1241263cc837890b2...</td>\n      <td>0x8fe7fa24f9cac5bf31917896c4a1241263cc837890b2...</td>\n      <td>16634792</td>\n      <td>1676471975</td>\n      <td>0x16ff8ad104fa6195260a6d4a3f311c5f120df77d</td>\n      <td>0xc413dd03555f3eb29d834b482d386b2999dc2eb0</td>\n      <td>0xd998c35b7900b344bbbe6555cc11576942cf309d</td>\n      <td>11.352275</td>\n      <td>NaN</td>\n      <td>BORROWER</td>\n      <td>VARIABLE</td>\n      <td>0xc02aaa39b223fe8d0a0e5c4f27ead9083c756cc2</td>\n      <td>Wrapped Ether</td>\n      <td>WETH</td>\n      <td>18</td>\n      <td>1655.794128</td>\n      <td>1922657967519338881</td>\n      <td>3047.575989</td>\n      <td>repay</td>\n      <td>2023-02-15 14:39:35</td>\n    </tr>\n    <tr>\n      <th>26</th>\n      <td>0x8fe7fa24f9cac5bf31917896c4a1241263cc837890b2...</td>\n      <td>0x8fe7fa24f9cac5bf31917896c4a1241263cc837890b2...</td>\n      <td>16634792</td>\n      <td>1676471975</td>\n      <td>0x16ff8ad104fa6195260a6d4a3f311c5f120df77d</td>\n      <td>0xc413dd03555f3eb29d834b482d386b2999dc2eb0</td>\n      <td>0xd998c35b7900b344bbbe6555cc11576942cf309d</td>\n      <td>3.411870</td>\n      <td>NaN</td>\n      <td>BORROWER</td>\n      <td>VARIABLE</td>\n      <td>0xd7c9f0e536dc865ae858b0c0453fe76d13c3beac</td>\n      <td>Wrapped Ether</td>\n      <td>WETH</td>\n      <td>18</td>\n      <td>1655.794128</td>\n      <td>1922657967519338881</td>\n      <td>3047.575989</td>\n      <td>repay</td>\n      <td>2023-02-15 14:39:35</td>\n    </tr>\n    <tr>\n      <th>27</th>\n      <td>0x8fe7fa24f9cac5bf31917896c4a1241263cc837890b2...</td>\n      <td>0x8fe7fa24f9cac5bf31917896c4a1241263cc837890b2...</td>\n      <td>16634792</td>\n      <td>1676471975</td>\n      <td>0x16ff8ad104fa6195260a6d4a3f311c5f120df77d</td>\n      <td>0xc413dd03555f3eb29d834b482d386b2999dc2eb0</td>\n      <td>0xd998c35b7900b344bbbe6555cc11576942cf309d</td>\n      <td>0.000000</td>\n      <td>NaN</td>\n      <td>LENDER</td>\n      <td>VARIABLE</td>\n      <td>0x0ab87046fbb341d058f17cbc4c1133f25a20a52f</td>\n      <td>Wrapped Ether</td>\n      <td>WETH</td>\n      <td>18</td>\n      <td>1655.794128</td>\n      <td>1922657967519338881</td>\n      <td>3047.575989</td>\n      <td>repay</td>\n      <td>2023-02-15 14:39:35</td>\n    </tr>\n    <tr>\n      <th>28</th>\n      <td>0x8fe7fa24f9cac5bf31917896c4a1241263cc837890b2...</td>\n      <td>0x8fe7fa24f9cac5bf31917896c4a1241263cc837890b2...</td>\n      <td>16634792</td>\n      <td>1676471975</td>\n      <td>0x16ff8ad104fa6195260a6d4a3f311c5f120df77d</td>\n      <td>0xc413dd03555f3eb29d834b482d386b2999dc2eb0</td>\n      <td>0xd998c35b7900b344bbbe6555cc11576942cf309d</td>\n      <td>8.722231</td>\n      <td>NaN</td>\n      <td>LENDER</td>\n      <td>VARIABLE</td>\n      <td>0xc02aaa39b223fe8d0a0e5c4f27ead9083c756cc2</td>\n      <td>Wrapped Ether</td>\n      <td>WETH</td>\n      <td>18</td>\n      <td>1655.794128</td>\n      <td>1922657967519338881</td>\n      <td>3047.575989</td>\n      <td>repay</td>\n      <td>2023-02-15 14:39:35</td>\n    </tr>\n    <tr>\n      <th>29</th>\n      <td>0x8fe7fa24f9cac5bf31917896c4a1241263cc837890b2...</td>\n      <td>0x8fe7fa24f9cac5bf31917896c4a1241263cc837890b2...</td>\n      <td>16634792</td>\n      <td>1676471975</td>\n      <td>0x16ff8ad104fa6195260a6d4a3f311c5f120df77d</td>\n      <td>0xc413dd03555f3eb29d834b482d386b2999dc2eb0</td>\n      <td>0xd998c35b7900b344bbbe6555cc11576942cf309d</td>\n      <td>2.328203</td>\n      <td>NaN</td>\n      <td>LENDER</td>\n      <td>VARIABLE</td>\n      <td>0xd7c9f0e536dc865ae858b0c0453fe76d13c3beac</td>\n      <td>Wrapped Ether</td>\n      <td>WETH</td>\n      <td>18</td>\n      <td>1655.794128</td>\n      <td>1922657967519338881</td>\n      <td>3047.575989</td>\n      <td>repay</td>\n      <td>2023-02-15 14:39:35</td>\n    </tr>\n    <tr>\n      <th>30</th>\n      <td>0x0c0283dc0e75f17b5e9eb79b05bea3cae12d32204aad...</td>\n      <td>0x0c0283dc0e75f17b5e9eb79b05bea3cae12d32204aad...</td>\n      <td>16049560</td>\n      <td>1669410227</td>\n      <td>0x7776421dd146dfd6ea947cbf29b69c519807d259</td>\n      <td>0xc413dd03555f3eb29d834b482d386b2999dc2eb0</td>\n      <td>0xd998c35b7900b344bbbe6555cc11576942cf309d</td>\n      <td>0.000000</td>\n      <td>NaN</td>\n      <td>BORROWER</td>\n      <td>VARIABLE</td>\n      <td>0x0ab87046fbb341d058f17cbc4c1133f25a20a52f</td>\n      <td>Governance OHM</td>\n      <td>gOHM</td>\n      <td>18</td>\n      <td>2735.431044</td>\n      <td>211113566088300260</td>\n      <td>466.683913</td>\n      <td>repay</td>\n      <td>2022-11-25 21:03:47</td>\n    </tr>\n    <tr>\n      <th>31</th>\n      <td>0x0c0283dc0e75f17b5e9eb79b05bea3cae12d32204aad...</td>\n      <td>0x0c0283dc0e75f17b5e9eb79b05bea3cae12d32204aad...</td>\n      <td>16049560</td>\n      <td>1669410227</td>\n      <td>0x7776421dd146dfd6ea947cbf29b69c519807d259</td>\n      <td>0xc413dd03555f3eb29d834b482d386b2999dc2eb0</td>\n      <td>0xd998c35b7900b344bbbe6555cc11576942cf309d</td>\n      <td>11.352275</td>\n      <td>NaN</td>\n      <td>BORROWER</td>\n      <td>VARIABLE</td>\n      <td>0xc02aaa39b223fe8d0a0e5c4f27ead9083c756cc2</td>\n      <td>Governance OHM</td>\n      <td>gOHM</td>\n      <td>18</td>\n      <td>2735.431044</td>\n      <td>211113566088300260</td>\n      <td>466.683913</td>\n      <td>repay</td>\n      <td>2022-11-25 21:03:47</td>\n    </tr>\n    <tr>\n      <th>32</th>\n      <td>0x0c0283dc0e75f17b5e9eb79b05bea3cae12d32204aad...</td>\n      <td>0x0c0283dc0e75f17b5e9eb79b05bea3cae12d32204aad...</td>\n      <td>16049560</td>\n      <td>1669410227</td>\n      <td>0x7776421dd146dfd6ea947cbf29b69c519807d259</td>\n      <td>0xc413dd03555f3eb29d834b482d386b2999dc2eb0</td>\n      <td>0xd998c35b7900b344bbbe6555cc11576942cf309d</td>\n      <td>3.411870</td>\n      <td>NaN</td>\n      <td>BORROWER</td>\n      <td>VARIABLE</td>\n      <td>0xd7c9f0e536dc865ae858b0c0453fe76d13c3beac</td>\n      <td>Governance OHM</td>\n      <td>gOHM</td>\n      <td>18</td>\n      <td>2735.431044</td>\n      <td>211113566088300260</td>\n      <td>466.683913</td>\n      <td>repay</td>\n      <td>2022-11-25 21:03:47</td>\n    </tr>\n    <tr>\n      <th>33</th>\n      <td>0x0c0283dc0e75f17b5e9eb79b05bea3cae12d32204aad...</td>\n      <td>0x0c0283dc0e75f17b5e9eb79b05bea3cae12d32204aad...</td>\n      <td>16049560</td>\n      <td>1669410227</td>\n      <td>0x7776421dd146dfd6ea947cbf29b69c519807d259</td>\n      <td>0xc413dd03555f3eb29d834b482d386b2999dc2eb0</td>\n      <td>0xd998c35b7900b344bbbe6555cc11576942cf309d</td>\n      <td>0.000000</td>\n      <td>NaN</td>\n      <td>LENDER</td>\n      <td>VARIABLE</td>\n      <td>0x0ab87046fbb341d058f17cbc4c1133f25a20a52f</td>\n      <td>Governance OHM</td>\n      <td>gOHM</td>\n      <td>18</td>\n      <td>2735.431044</td>\n      <td>211113566088300260</td>\n      <td>466.683913</td>\n      <td>repay</td>\n      <td>2022-11-25 21:03:47</td>\n    </tr>\n    <tr>\n      <th>34</th>\n      <td>0x0c0283dc0e75f17b5e9eb79b05bea3cae12d32204aad...</td>\n      <td>0x0c0283dc0e75f17b5e9eb79b05bea3cae12d32204aad...</td>\n      <td>16049560</td>\n      <td>1669410227</td>\n      <td>0x7776421dd146dfd6ea947cbf29b69c519807d259</td>\n      <td>0xc413dd03555f3eb29d834b482d386b2999dc2eb0</td>\n      <td>0xd998c35b7900b344bbbe6555cc11576942cf309d</td>\n      <td>8.722231</td>\n      <td>NaN</td>\n      <td>LENDER</td>\n      <td>VARIABLE</td>\n      <td>0xc02aaa39b223fe8d0a0e5c4f27ead9083c756cc2</td>\n      <td>Governance OHM</td>\n      <td>gOHM</td>\n      <td>18</td>\n      <td>2735.431044</td>\n      <td>211113566088300260</td>\n      <td>466.683913</td>\n      <td>repay</td>\n      <td>2022-11-25 21:03:47</td>\n    </tr>\n    <tr>\n      <th>35</th>\n      <td>0x0c0283dc0e75f17b5e9eb79b05bea3cae12d32204aad...</td>\n      <td>0x0c0283dc0e75f17b5e9eb79b05bea3cae12d32204aad...</td>\n      <td>16049560</td>\n      <td>1669410227</td>\n      <td>0x7776421dd146dfd6ea947cbf29b69c519807d259</td>\n      <td>0xc413dd03555f3eb29d834b482d386b2999dc2eb0</td>\n      <td>0xd998c35b7900b344bbbe6555cc11576942cf309d</td>\n      <td>2.328203</td>\n      <td>NaN</td>\n      <td>LENDER</td>\n      <td>VARIABLE</td>\n      <td>0xd7c9f0e536dc865ae858b0c0453fe76d13c3beac</td>\n      <td>Governance OHM</td>\n      <td>gOHM</td>\n      <td>18</td>\n      <td>2735.431044</td>\n      <td>211113566088300260</td>\n      <td>466.683913</td>\n      <td>repay</td>\n      <td>2022-11-25 21:03:47</td>\n    </tr>\n    <tr>\n      <th>36</th>\n      <td>0x748852c58dd4b57d3f6ed80bc81f74b439efcb94968b...</td>\n      <td>0x748852c58dd4b57d3f6ed80bc81f74b439efcb94968b...</td>\n      <td>16036129</td>\n      <td>1669248167</td>\n      <td>0xd3064611b24eba7a6dbcbc26c1b35dfee1170880</td>\n      <td>0xc413dd03555f3eb29d834b482d386b2999dc2eb0</td>\n      <td>0xd998c35b7900b344bbbe6555cc11576942cf309d</td>\n      <td>0.000000</td>\n      <td>NaN</td>\n      <td>BORROWER</td>\n      <td>VARIABLE</td>\n      <td>0x0ab87046fbb341d058f17cbc4c1133f25a20a52f</td>\n      <td>XAI Stablecoin</td>\n      <td>XAI</td>\n      <td>18</td>\n      <td>1.005034</td>\n      <td>262009180608605163324</td>\n      <td>262.209786</td>\n      <td>repay</td>\n      <td>2022-11-24 00:02:47</td>\n    </tr>\n    <tr>\n      <th>37</th>\n      <td>0x748852c58dd4b57d3f6ed80bc81f74b439efcb94968b...</td>\n      <td>0x748852c58dd4b57d3f6ed80bc81f74b439efcb94968b...</td>\n      <td>16036129</td>\n      <td>1669248167</td>\n      <td>0xd3064611b24eba7a6dbcbc26c1b35dfee1170880</td>\n      <td>0xc413dd03555f3eb29d834b482d386b2999dc2eb0</td>\n      <td>0xd998c35b7900b344bbbe6555cc11576942cf309d</td>\n      <td>11.352275</td>\n      <td>NaN</td>\n      <td>BORROWER</td>\n      <td>VARIABLE</td>\n      <td>0xc02aaa39b223fe8d0a0e5c4f27ead9083c756cc2</td>\n      <td>XAI Stablecoin</td>\n      <td>XAI</td>\n      <td>18</td>\n      <td>1.005034</td>\n      <td>262009180608605163324</td>\n      <td>262.209786</td>\n      <td>repay</td>\n      <td>2022-11-24 00:02:47</td>\n    </tr>\n    <tr>\n      <th>38</th>\n      <td>0x748852c58dd4b57d3f6ed80bc81f74b439efcb94968b...</td>\n      <td>0x748852c58dd4b57d3f6ed80bc81f74b439efcb94968b...</td>\n      <td>16036129</td>\n      <td>1669248167</td>\n      <td>0xd3064611b24eba7a6dbcbc26c1b35dfee1170880</td>\n      <td>0xc413dd03555f3eb29d834b482d386b2999dc2eb0</td>\n      <td>0xd998c35b7900b344bbbe6555cc11576942cf309d</td>\n      <td>3.411870</td>\n      <td>NaN</td>\n      <td>BORROWER</td>\n      <td>VARIABLE</td>\n      <td>0xd7c9f0e536dc865ae858b0c0453fe76d13c3beac</td>\n      <td>XAI Stablecoin</td>\n      <td>XAI</td>\n      <td>18</td>\n      <td>1.005034</td>\n      <td>262009180608605163324</td>\n      <td>262.209786</td>\n      <td>repay</td>\n      <td>2022-11-24 00:02:47</td>\n    </tr>\n    <tr>\n      <th>39</th>\n      <td>0x748852c58dd4b57d3f6ed80bc81f74b439efcb94968b...</td>\n      <td>0x748852c58dd4b57d3f6ed80bc81f74b439efcb94968b...</td>\n      <td>16036129</td>\n      <td>1669248167</td>\n      <td>0xd3064611b24eba7a6dbcbc26c1b35dfee1170880</td>\n      <td>0xc413dd03555f3eb29d834b482d386b2999dc2eb0</td>\n      <td>0xd998c35b7900b344bbbe6555cc11576942cf309d</td>\n      <td>0.000000</td>\n      <td>NaN</td>\n      <td>LENDER</td>\n      <td>VARIABLE</td>\n      <td>0x0ab87046fbb341d058f17cbc4c1133f25a20a52f</td>\n      <td>XAI Stablecoin</td>\n      <td>XAI</td>\n      <td>18</td>\n      <td>1.005034</td>\n      <td>262009180608605163324</td>\n      <td>262.209786</td>\n      <td>repay</td>\n      <td>2022-11-24 00:02:47</td>\n    </tr>\n    <tr>\n      <th>40</th>\n      <td>0x748852c58dd4b57d3f6ed80bc81f74b439efcb94968b...</td>\n      <td>0x748852c58dd4b57d3f6ed80bc81f74b439efcb94968b...</td>\n      <td>16036129</td>\n      <td>1669248167</td>\n      <td>0xd3064611b24eba7a6dbcbc26c1b35dfee1170880</td>\n      <td>0xc413dd03555f3eb29d834b482d386b2999dc2eb0</td>\n      <td>0xd998c35b7900b344bbbe6555cc11576942cf309d</td>\n      <td>8.722231</td>\n      <td>NaN</td>\n      <td>LENDER</td>\n      <td>VARIABLE</td>\n      <td>0xc02aaa39b223fe8d0a0e5c4f27ead9083c756cc2</td>\n      <td>XAI Stablecoin</td>\n      <td>XAI</td>\n      <td>18</td>\n      <td>1.005034</td>\n      <td>262009180608605163324</td>\n      <td>262.209786</td>\n      <td>repay</td>\n      <td>2022-11-24 00:02:47</td>\n    </tr>\n    <tr>\n      <th>41</th>\n      <td>0x748852c58dd4b57d3f6ed80bc81f74b439efcb94968b...</td>\n      <td>0x748852c58dd4b57d3f6ed80bc81f74b439efcb94968b...</td>\n      <td>16036129</td>\n      <td>1669248167</td>\n      <td>0xd3064611b24eba7a6dbcbc26c1b35dfee1170880</td>\n      <td>0xc413dd03555f3eb29d834b482d386b2999dc2eb0</td>\n      <td>0xd998c35b7900b344bbbe6555cc11576942cf309d</td>\n      <td>2.328203</td>\n      <td>NaN</td>\n      <td>LENDER</td>\n      <td>VARIABLE</td>\n      <td>0xd7c9f0e536dc865ae858b0c0453fe76d13c3beac</td>\n      <td>XAI Stablecoin</td>\n      <td>XAI</td>\n      <td>18</td>\n      <td>1.005034</td>\n      <td>262009180608605163324</td>\n      <td>262.209786</td>\n      <td>repay</td>\n      <td>2022-11-24 00:02:47</td>\n    </tr>\n  </tbody>\n</table>\n</div>"
     },
     "execution_count": 18,
     "metadata": {},
     "output_type": "execute_result"
    }
   ],
   "source": [
    "#I swear I will figure out synthetic fields, but until then...\n",
    "repaysDbDbTimed = db.query(\"select \"\n",
    "               \"    * \"\n",
    "                    \" ,to_timestamp(transaction_timestamp::int) dateTime \"\n",
    "               \"From repaysDb \"\n",
    "                      \"order by transaction_amountUSD desc\"\n",
    "               #\"where lower(liquidityPools_name) like lower('%olympus%') \"\n",
    "                #    \"or lower(pairs_token1_symbol) like lower('%OHM%')  \"\n",
    "               #\" limit 100 \"\n",
    "               ).df()\n",
    "repaysDbDbTimed.head(100)"
   ],
   "metadata": {
    "collapsed": false
   }
  },
  {
   "cell_type": "markdown",
   "source": [
    "Why the heck do I see several interest rates for the same txn?"
   ],
   "metadata": {
    "collapsed": false
   }
  },
  {
   "cell_type": "code",
   "execution_count": 19,
   "outputs": [
    {
     "data": {
      "text/plain": "                                       transaction_id  \\\n0   0xfb97f8e2544f2063f69249a0ba2138b8272c34596661...   \n1   0xfb97f8e2544f2063f69249a0ba2138b8272c34596661...   \n2   0xfb97f8e2544f2063f69249a0ba2138b8272c34596661...   \n3   0xfb97f8e2544f2063f69249a0ba2138b8272c34596661...   \n4   0xfb97f8e2544f2063f69249a0ba2138b8272c34596661...   \n5   0xfb97f8e2544f2063f69249a0ba2138b8272c34596661...   \n6   0xcd3894d9378da63ad37be32ec959973c5b171dc8c285...   \n7   0xcd3894d9378da63ad37be32ec959973c5b171dc8c285...   \n8   0xcd3894d9378da63ad37be32ec959973c5b171dc8c285...   \n9   0xcd3894d9378da63ad37be32ec959973c5b171dc8c285...   \n10  0xcd3894d9378da63ad37be32ec959973c5b171dc8c285...   \n11  0xcd3894d9378da63ad37be32ec959973c5b171dc8c285...   \n12  0xcbfc584edeb424b312011c7884bce8c77facd5b4bad8...   \n13  0xcbfc584edeb424b312011c7884bce8c77facd5b4bad8...   \n14  0xcbfc584edeb424b312011c7884bce8c77facd5b4bad8...   \n15  0xcbfc584edeb424b312011c7884bce8c77facd5b4bad8...   \n16  0xcbfc584edeb424b312011c7884bce8c77facd5b4bad8...   \n17  0xcbfc584edeb424b312011c7884bce8c77facd5b4bad8...   \n18  0x038790f93d972fc6a3542036d9e615be7c3eb1252013...   \n19  0x038790f93d972fc6a3542036d9e615be7c3eb1252013...   \n20  0x038790f93d972fc6a3542036d9e615be7c3eb1252013...   \n21  0x038790f93d972fc6a3542036d9e615be7c3eb1252013...   \n22  0x038790f93d972fc6a3542036d9e615be7c3eb1252013...   \n23  0x038790f93d972fc6a3542036d9e615be7c3eb1252013...   \n24  0x8fe7fa24f9cac5bf31917896c4a1241263cc837890b2...   \n25  0x8fe7fa24f9cac5bf31917896c4a1241263cc837890b2...   \n26  0x8fe7fa24f9cac5bf31917896c4a1241263cc837890b2...   \n27  0x8fe7fa24f9cac5bf31917896c4a1241263cc837890b2...   \n28  0x8fe7fa24f9cac5bf31917896c4a1241263cc837890b2...   \n29  0x8fe7fa24f9cac5bf31917896c4a1241263cc837890b2...   \n30  0x0c0283dc0e75f17b5e9eb79b05bea3cae12d32204aad...   \n31  0x0c0283dc0e75f17b5e9eb79b05bea3cae12d32204aad...   \n32  0x0c0283dc0e75f17b5e9eb79b05bea3cae12d32204aad...   \n33  0x0c0283dc0e75f17b5e9eb79b05bea3cae12d32204aad...   \n34  0x0c0283dc0e75f17b5e9eb79b05bea3cae12d32204aad...   \n35  0x0c0283dc0e75f17b5e9eb79b05bea3cae12d32204aad...   \n36  0x748852c58dd4b57d3f6ed80bc81f74b439efcb94968b...   \n37  0x748852c58dd4b57d3f6ed80bc81f74b439efcb94968b...   \n38  0x748852c58dd4b57d3f6ed80bc81f74b439efcb94968b...   \n39  0x748852c58dd4b57d3f6ed80bc81f74b439efcb94968b...   \n40  0x748852c58dd4b57d3f6ed80bc81f74b439efcb94968b...   \n41  0x748852c58dd4b57d3f6ed80bc81f74b439efcb94968b...   \n\n                                     transaction_hash  \\\n0   0xfb97f8e2544f2063f69249a0ba2138b8272c34596661...   \n1   0xfb97f8e2544f2063f69249a0ba2138b8272c34596661...   \n2   0xfb97f8e2544f2063f69249a0ba2138b8272c34596661...   \n3   0xfb97f8e2544f2063f69249a0ba2138b8272c34596661...   \n4   0xfb97f8e2544f2063f69249a0ba2138b8272c34596661...   \n5   0xfb97f8e2544f2063f69249a0ba2138b8272c34596661...   \n6   0xcd3894d9378da63ad37be32ec959973c5b171dc8c285...   \n7   0xcd3894d9378da63ad37be32ec959973c5b171dc8c285...   \n8   0xcd3894d9378da63ad37be32ec959973c5b171dc8c285...   \n9   0xcd3894d9378da63ad37be32ec959973c5b171dc8c285...   \n10  0xcd3894d9378da63ad37be32ec959973c5b171dc8c285...   \n11  0xcd3894d9378da63ad37be32ec959973c5b171dc8c285...   \n12  0xcbfc584edeb424b312011c7884bce8c77facd5b4bad8...   \n13  0xcbfc584edeb424b312011c7884bce8c77facd5b4bad8...   \n14  0xcbfc584edeb424b312011c7884bce8c77facd5b4bad8...   \n15  0xcbfc584edeb424b312011c7884bce8c77facd5b4bad8...   \n16  0xcbfc584edeb424b312011c7884bce8c77facd5b4bad8...   \n17  0xcbfc584edeb424b312011c7884bce8c77facd5b4bad8...   \n18  0x038790f93d972fc6a3542036d9e615be7c3eb1252013...   \n19  0x038790f93d972fc6a3542036d9e615be7c3eb1252013...   \n20  0x038790f93d972fc6a3542036d9e615be7c3eb1252013...   \n21  0x038790f93d972fc6a3542036d9e615be7c3eb1252013...   \n22  0x038790f93d972fc6a3542036d9e615be7c3eb1252013...   \n23  0x038790f93d972fc6a3542036d9e615be7c3eb1252013...   \n24  0x8fe7fa24f9cac5bf31917896c4a1241263cc837890b2...   \n25  0x8fe7fa24f9cac5bf31917896c4a1241263cc837890b2...   \n26  0x8fe7fa24f9cac5bf31917896c4a1241263cc837890b2...   \n27  0x8fe7fa24f9cac5bf31917896c4a1241263cc837890b2...   \n28  0x8fe7fa24f9cac5bf31917896c4a1241263cc837890b2...   \n29  0x8fe7fa24f9cac5bf31917896c4a1241263cc837890b2...   \n30  0x0c0283dc0e75f17b5e9eb79b05bea3cae12d32204aad...   \n31  0x0c0283dc0e75f17b5e9eb79b05bea3cae12d32204aad...   \n32  0x0c0283dc0e75f17b5e9eb79b05bea3cae12d32204aad...   \n33  0x0c0283dc0e75f17b5e9eb79b05bea3cae12d32204aad...   \n34  0x0c0283dc0e75f17b5e9eb79b05bea3cae12d32204aad...   \n35  0x0c0283dc0e75f17b5e9eb79b05bea3cae12d32204aad...   \n36  0x748852c58dd4b57d3f6ed80bc81f74b439efcb94968b...   \n37  0x748852c58dd4b57d3f6ed80bc81f74b439efcb94968b...   \n38  0x748852c58dd4b57d3f6ed80bc81f74b439efcb94968b...   \n39  0x748852c58dd4b57d3f6ed80bc81f74b439efcb94968b...   \n40  0x748852c58dd4b57d3f6ed80bc81f74b439efcb94968b...   \n41  0x748852c58dd4b57d3f6ed80bc81f74b439efcb94968b...   \n\n    transaction_blockNumber  transaction_timestamp  \\\n0                  16628154             1676391755   \n1                  16628154             1676391755   \n2                  16628154             1676391755   \n3                  16628154             1676391755   \n4                  16628154             1676391755   \n5                  16628154             1676391755   \n6                  16634833             1676472467   \n7                  16634833             1676472467   \n8                  16634833             1676472467   \n9                  16634833             1676472467   \n10                 16634833             1676472467   \n11                 16634833             1676472467   \n12                 16626928             1676376983   \n13                 16626928             1676376983   \n14                 16626928             1676376983   \n15                 16626928             1676376983   \n16                 16626928             1676376983   \n17                 16626928             1676376983   \n18                 16635029             1676474831   \n19                 16635029             1676474831   \n20                 16635029             1676474831   \n21                 16635029             1676474831   \n22                 16635029             1676474831   \n23                 16635029             1676474831   \n24                 16634792             1676471975   \n25                 16634792             1676471975   \n26                 16634792             1676471975   \n27                 16634792             1676471975   \n28                 16634792             1676471975   \n29                 16634792             1676471975   \n30                 16049560             1669410227   \n31                 16049560             1669410227   \n32                 16049560             1669410227   \n33                 16049560             1669410227   \n34                 16049560             1669410227   \n35                 16049560             1669410227   \n36                 16036129             1669248167   \n37                 16036129             1669248167   \n38                 16036129             1669248167   \n39                 16036129             1669248167   \n40                 16036129             1669248167   \n41                 16036129             1669248167   \n\n                        transaction_account_id  \\\n0   0xb0399dac8f4d4100b49b2a7b3873481114229d18   \n1   0xb0399dac8f4d4100b49b2a7b3873481114229d18   \n2   0xb0399dac8f4d4100b49b2a7b3873481114229d18   \n3   0xb0399dac8f4d4100b49b2a7b3873481114229d18   \n4   0xb0399dac8f4d4100b49b2a7b3873481114229d18   \n5   0xb0399dac8f4d4100b49b2a7b3873481114229d18   \n6   0xb0399dac8f4d4100b49b2a7b3873481114229d18   \n7   0xb0399dac8f4d4100b49b2a7b3873481114229d18   \n8   0xb0399dac8f4d4100b49b2a7b3873481114229d18   \n9   0xb0399dac8f4d4100b49b2a7b3873481114229d18   \n10  0xb0399dac8f4d4100b49b2a7b3873481114229d18   \n11  0xb0399dac8f4d4100b49b2a7b3873481114229d18   \n12  0x46535cbc3fa574c32ea392d4f89c518290597072   \n13  0x46535cbc3fa574c32ea392d4f89c518290597072   \n14  0x46535cbc3fa574c32ea392d4f89c518290597072   \n15  0x46535cbc3fa574c32ea392d4f89c518290597072   \n16  0x46535cbc3fa574c32ea392d4f89c518290597072   \n17  0x46535cbc3fa574c32ea392d4f89c518290597072   \n18  0x0493bcca897a2248ae3cd4c66aea90dbfc7e13c6   \n19  0x0493bcca897a2248ae3cd4c66aea90dbfc7e13c6   \n20  0x0493bcca897a2248ae3cd4c66aea90dbfc7e13c6   \n21  0x0493bcca897a2248ae3cd4c66aea90dbfc7e13c6   \n22  0x0493bcca897a2248ae3cd4c66aea90dbfc7e13c6   \n23  0x0493bcca897a2248ae3cd4c66aea90dbfc7e13c6   \n24  0x16ff8ad104fa6195260a6d4a3f311c5f120df77d   \n25  0x16ff8ad104fa6195260a6d4a3f311c5f120df77d   \n26  0x16ff8ad104fa6195260a6d4a3f311c5f120df77d   \n27  0x16ff8ad104fa6195260a6d4a3f311c5f120df77d   \n28  0x16ff8ad104fa6195260a6d4a3f311c5f120df77d   \n29  0x16ff8ad104fa6195260a6d4a3f311c5f120df77d   \n30  0x7776421dd146dfd6ea947cbf29b69c519807d259   \n31  0x7776421dd146dfd6ea947cbf29b69c519807d259   \n32  0x7776421dd146dfd6ea947cbf29b69c519807d259   \n33  0x7776421dd146dfd6ea947cbf29b69c519807d259   \n34  0x7776421dd146dfd6ea947cbf29b69c519807d259   \n35  0x7776421dd146dfd6ea947cbf29b69c519807d259   \n36  0xd3064611b24eba7a6dbcbc26c1b35dfee1170880   \n37  0xd3064611b24eba7a6dbcbc26c1b35dfee1170880   \n38  0xd3064611b24eba7a6dbcbc26c1b35dfee1170880   \n39  0xd3064611b24eba7a6dbcbc26c1b35dfee1170880   \n40  0xd3064611b24eba7a6dbcbc26c1b35dfee1170880   \n41  0xd3064611b24eba7a6dbcbc26c1b35dfee1170880   \n\n                         transaction_market_id  \\\n0   0xc413dd03555f3eb29d834b482d386b2999dc2eb0   \n1   0xc413dd03555f3eb29d834b482d386b2999dc2eb0   \n2   0xc413dd03555f3eb29d834b482d386b2999dc2eb0   \n3   0xc413dd03555f3eb29d834b482d386b2999dc2eb0   \n4   0xc413dd03555f3eb29d834b482d386b2999dc2eb0   \n5   0xc413dd03555f3eb29d834b482d386b2999dc2eb0   \n6   0xc413dd03555f3eb29d834b482d386b2999dc2eb0   \n7   0xc413dd03555f3eb29d834b482d386b2999dc2eb0   \n8   0xc413dd03555f3eb29d834b482d386b2999dc2eb0   \n9   0xc413dd03555f3eb29d834b482d386b2999dc2eb0   \n10  0xc413dd03555f3eb29d834b482d386b2999dc2eb0   \n11  0xc413dd03555f3eb29d834b482d386b2999dc2eb0   \n12  0xc413dd03555f3eb29d834b482d386b2999dc2eb0   \n13  0xc413dd03555f3eb29d834b482d386b2999dc2eb0   \n14  0xc413dd03555f3eb29d834b482d386b2999dc2eb0   \n15  0xc413dd03555f3eb29d834b482d386b2999dc2eb0   \n16  0xc413dd03555f3eb29d834b482d386b2999dc2eb0   \n17  0xc413dd03555f3eb29d834b482d386b2999dc2eb0   \n18  0xc413dd03555f3eb29d834b482d386b2999dc2eb0   \n19  0xc413dd03555f3eb29d834b482d386b2999dc2eb0   \n20  0xc413dd03555f3eb29d834b482d386b2999dc2eb0   \n21  0xc413dd03555f3eb29d834b482d386b2999dc2eb0   \n22  0xc413dd03555f3eb29d834b482d386b2999dc2eb0   \n23  0xc413dd03555f3eb29d834b482d386b2999dc2eb0   \n24  0xc413dd03555f3eb29d834b482d386b2999dc2eb0   \n25  0xc413dd03555f3eb29d834b482d386b2999dc2eb0   \n26  0xc413dd03555f3eb29d834b482d386b2999dc2eb0   \n27  0xc413dd03555f3eb29d834b482d386b2999dc2eb0   \n28  0xc413dd03555f3eb29d834b482d386b2999dc2eb0   \n29  0xc413dd03555f3eb29d834b482d386b2999dc2eb0   \n30  0xc413dd03555f3eb29d834b482d386b2999dc2eb0   \n31  0xc413dd03555f3eb29d834b482d386b2999dc2eb0   \n32  0xc413dd03555f3eb29d834b482d386b2999dc2eb0   \n33  0xc413dd03555f3eb29d834b482d386b2999dc2eb0   \n34  0xc413dd03555f3eb29d834b482d386b2999dc2eb0   \n35  0xc413dd03555f3eb29d834b482d386b2999dc2eb0   \n36  0xc413dd03555f3eb29d834b482d386b2999dc2eb0   \n37  0xc413dd03555f3eb29d834b482d386b2999dc2eb0   \n38  0xc413dd03555f3eb29d834b482d386b2999dc2eb0   \n39  0xc413dd03555f3eb29d834b482d386b2999dc2eb0   \n40  0xc413dd03555f3eb29d834b482d386b2999dc2eb0   \n41  0xc413dd03555f3eb29d834b482d386b2999dc2eb0   \n\n                transaction_market_protocol_id  transaction_market_rates_rate  \\\n0   0xd998c35b7900b344bbbe6555cc11576942cf309d                       0.000000   \n1   0xd998c35b7900b344bbbe6555cc11576942cf309d                      11.352275   \n2   0xd998c35b7900b344bbbe6555cc11576942cf309d                       3.411870   \n3   0xd998c35b7900b344bbbe6555cc11576942cf309d                       0.000000   \n4   0xd998c35b7900b344bbbe6555cc11576942cf309d                       8.722231   \n5   0xd998c35b7900b344bbbe6555cc11576942cf309d                       2.328203   \n6   0xd998c35b7900b344bbbe6555cc11576942cf309d                       0.000000   \n7   0xd998c35b7900b344bbbe6555cc11576942cf309d                      11.352275   \n8   0xd998c35b7900b344bbbe6555cc11576942cf309d                       3.411870   \n9   0xd998c35b7900b344bbbe6555cc11576942cf309d                       0.000000   \n10  0xd998c35b7900b344bbbe6555cc11576942cf309d                       8.722231   \n11  0xd998c35b7900b344bbbe6555cc11576942cf309d                       2.328203   \n12  0xd998c35b7900b344bbbe6555cc11576942cf309d                       0.000000   \n13  0xd998c35b7900b344bbbe6555cc11576942cf309d                      11.352275   \n14  0xd998c35b7900b344bbbe6555cc11576942cf309d                       3.411870   \n15  0xd998c35b7900b344bbbe6555cc11576942cf309d                       0.000000   \n16  0xd998c35b7900b344bbbe6555cc11576942cf309d                       8.722231   \n17  0xd998c35b7900b344bbbe6555cc11576942cf309d                       2.328203   \n18  0xd998c35b7900b344bbbe6555cc11576942cf309d                       0.000000   \n19  0xd998c35b7900b344bbbe6555cc11576942cf309d                      11.352275   \n20  0xd998c35b7900b344bbbe6555cc11576942cf309d                       3.411870   \n21  0xd998c35b7900b344bbbe6555cc11576942cf309d                       0.000000   \n22  0xd998c35b7900b344bbbe6555cc11576942cf309d                       8.722231   \n23  0xd998c35b7900b344bbbe6555cc11576942cf309d                       2.328203   \n24  0xd998c35b7900b344bbbe6555cc11576942cf309d                       0.000000   \n25  0xd998c35b7900b344bbbe6555cc11576942cf309d                      11.352275   \n26  0xd998c35b7900b344bbbe6555cc11576942cf309d                       3.411870   \n27  0xd998c35b7900b344bbbe6555cc11576942cf309d                       0.000000   \n28  0xd998c35b7900b344bbbe6555cc11576942cf309d                       8.722231   \n29  0xd998c35b7900b344bbbe6555cc11576942cf309d                       2.328203   \n30  0xd998c35b7900b344bbbe6555cc11576942cf309d                       0.000000   \n31  0xd998c35b7900b344bbbe6555cc11576942cf309d                      11.352275   \n32  0xd998c35b7900b344bbbe6555cc11576942cf309d                       3.411870   \n33  0xd998c35b7900b344bbbe6555cc11576942cf309d                       0.000000   \n34  0xd998c35b7900b344bbbe6555cc11576942cf309d                       8.722231   \n35  0xd998c35b7900b344bbbe6555cc11576942cf309d                       2.328203   \n36  0xd998c35b7900b344bbbe6555cc11576942cf309d                       0.000000   \n37  0xd998c35b7900b344bbbe6555cc11576942cf309d                      11.352275   \n38  0xd998c35b7900b344bbbe6555cc11576942cf309d                       3.411870   \n39  0xd998c35b7900b344bbbe6555cc11576942cf309d                       0.000000   \n40  0xd998c35b7900b344bbbe6555cc11576942cf309d                       8.722231   \n41  0xd998c35b7900b344bbbe6555cc11576942cf309d                       2.328203   \n\n   transaction_market_rates_duration transaction_market_rates_side  \\\n0                                NaN                      BORROWER   \n1                                NaN                      BORROWER   \n2                                NaN                      BORROWER   \n3                                NaN                        LENDER   \n4                                NaN                        LENDER   \n5                                NaN                        LENDER   \n6                                NaN                      BORROWER   \n7                                NaN                      BORROWER   \n8                                NaN                      BORROWER   \n9                                NaN                        LENDER   \n10                               NaN                        LENDER   \n11                               NaN                        LENDER   \n12                               NaN                      BORROWER   \n13                               NaN                      BORROWER   \n14                               NaN                      BORROWER   \n15                               NaN                        LENDER   \n16                               NaN                        LENDER   \n17                               NaN                        LENDER   \n18                               NaN                      BORROWER   \n19                               NaN                      BORROWER   \n20                               NaN                      BORROWER   \n21                               NaN                        LENDER   \n22                               NaN                        LENDER   \n23                               NaN                        LENDER   \n24                               NaN                      BORROWER   \n25                               NaN                      BORROWER   \n26                               NaN                      BORROWER   \n27                               NaN                        LENDER   \n28                               NaN                        LENDER   \n29                               NaN                        LENDER   \n30                               NaN                      BORROWER   \n31                               NaN                      BORROWER   \n32                               NaN                      BORROWER   \n33                               NaN                        LENDER   \n34                               NaN                        LENDER   \n35                               NaN                        LENDER   \n36                               NaN                      BORROWER   \n37                               NaN                      BORROWER   \n38                               NaN                      BORROWER   \n39                               NaN                        LENDER   \n40                               NaN                        LENDER   \n41                               NaN                        LENDER   \n\n   transaction_market_rates_type           transaction_market_rates_token_id  \\\n0                       VARIABLE  0x0ab87046fbb341d058f17cbc4c1133f25a20a52f   \n1                       VARIABLE  0xc02aaa39b223fe8d0a0e5c4f27ead9083c756cc2   \n2                       VARIABLE  0xd7c9f0e536dc865ae858b0c0453fe76d13c3beac   \n3                       VARIABLE  0x0ab87046fbb341d058f17cbc4c1133f25a20a52f   \n4                       VARIABLE  0xc02aaa39b223fe8d0a0e5c4f27ead9083c756cc2   \n5                       VARIABLE  0xd7c9f0e536dc865ae858b0c0453fe76d13c3beac   \n6                       VARIABLE  0x0ab87046fbb341d058f17cbc4c1133f25a20a52f   \n7                       VARIABLE  0xc02aaa39b223fe8d0a0e5c4f27ead9083c756cc2   \n8                       VARIABLE  0xd7c9f0e536dc865ae858b0c0453fe76d13c3beac   \n9                       VARIABLE  0x0ab87046fbb341d058f17cbc4c1133f25a20a52f   \n10                      VARIABLE  0xc02aaa39b223fe8d0a0e5c4f27ead9083c756cc2   \n11                      VARIABLE  0xd7c9f0e536dc865ae858b0c0453fe76d13c3beac   \n12                      VARIABLE  0x0ab87046fbb341d058f17cbc4c1133f25a20a52f   \n13                      VARIABLE  0xc02aaa39b223fe8d0a0e5c4f27ead9083c756cc2   \n14                      VARIABLE  0xd7c9f0e536dc865ae858b0c0453fe76d13c3beac   \n15                      VARIABLE  0x0ab87046fbb341d058f17cbc4c1133f25a20a52f   \n16                      VARIABLE  0xc02aaa39b223fe8d0a0e5c4f27ead9083c756cc2   \n17                      VARIABLE  0xd7c9f0e536dc865ae858b0c0453fe76d13c3beac   \n18                      VARIABLE  0x0ab87046fbb341d058f17cbc4c1133f25a20a52f   \n19                      VARIABLE  0xc02aaa39b223fe8d0a0e5c4f27ead9083c756cc2   \n20                      VARIABLE  0xd7c9f0e536dc865ae858b0c0453fe76d13c3beac   \n21                      VARIABLE  0x0ab87046fbb341d058f17cbc4c1133f25a20a52f   \n22                      VARIABLE  0xc02aaa39b223fe8d0a0e5c4f27ead9083c756cc2   \n23                      VARIABLE  0xd7c9f0e536dc865ae858b0c0453fe76d13c3beac   \n24                      VARIABLE  0x0ab87046fbb341d058f17cbc4c1133f25a20a52f   \n25                      VARIABLE  0xc02aaa39b223fe8d0a0e5c4f27ead9083c756cc2   \n26                      VARIABLE  0xd7c9f0e536dc865ae858b0c0453fe76d13c3beac   \n27                      VARIABLE  0x0ab87046fbb341d058f17cbc4c1133f25a20a52f   \n28                      VARIABLE  0xc02aaa39b223fe8d0a0e5c4f27ead9083c756cc2   \n29                      VARIABLE  0xd7c9f0e536dc865ae858b0c0453fe76d13c3beac   \n30                      VARIABLE  0x0ab87046fbb341d058f17cbc4c1133f25a20a52f   \n31                      VARIABLE  0xc02aaa39b223fe8d0a0e5c4f27ead9083c756cc2   \n32                      VARIABLE  0xd7c9f0e536dc865ae858b0c0453fe76d13c3beac   \n33                      VARIABLE  0x0ab87046fbb341d058f17cbc4c1133f25a20a52f   \n34                      VARIABLE  0xc02aaa39b223fe8d0a0e5c4f27ead9083c756cc2   \n35                      VARIABLE  0xd7c9f0e536dc865ae858b0c0453fe76d13c3beac   \n36                      VARIABLE  0x0ab87046fbb341d058f17cbc4c1133f25a20a52f   \n37                      VARIABLE  0xc02aaa39b223fe8d0a0e5c4f27ead9083c756cc2   \n38                      VARIABLE  0xd7c9f0e536dc865ae858b0c0453fe76d13c3beac   \n39                      VARIABLE  0x0ab87046fbb341d058f17cbc4c1133f25a20a52f   \n40                      VARIABLE  0xc02aaa39b223fe8d0a0e5c4f27ead9083c756cc2   \n41                      VARIABLE  0xd7c9f0e536dc865ae858b0c0453fe76d13c3beac   \n\n   transaction_asset_name transaction_asset_symbol  \\\n0          XAI Stablecoin                      XAI   \n1          XAI Stablecoin                      XAI   \n2          XAI Stablecoin                      XAI   \n3          XAI Stablecoin                      XAI   \n4          XAI Stablecoin                      XAI   \n5          XAI Stablecoin                      XAI   \n6          XAI Stablecoin                      XAI   \n7          XAI Stablecoin                      XAI   \n8          XAI Stablecoin                      XAI   \n9          XAI Stablecoin                      XAI   \n10         XAI Stablecoin                      XAI   \n11         XAI Stablecoin                      XAI   \n12         Governance OHM                     gOHM   \n13         Governance OHM                     gOHM   \n14         Governance OHM                     gOHM   \n15         Governance OHM                     gOHM   \n16         Governance OHM                     gOHM   \n17         Governance OHM                     gOHM   \n18         XAI Stablecoin                      XAI   \n19         XAI Stablecoin                      XAI   \n20         XAI Stablecoin                      XAI   \n21         XAI Stablecoin                      XAI   \n22         XAI Stablecoin                      XAI   \n23         XAI Stablecoin                      XAI   \n24          Wrapped Ether                     WETH   \n25          Wrapped Ether                     WETH   \n26          Wrapped Ether                     WETH   \n27          Wrapped Ether                     WETH   \n28          Wrapped Ether                     WETH   \n29          Wrapped Ether                     WETH   \n30         Governance OHM                     gOHM   \n31         Governance OHM                     gOHM   \n32         Governance OHM                     gOHM   \n33         Governance OHM                     gOHM   \n34         Governance OHM                     gOHM   \n35         Governance OHM                     gOHM   \n36         XAI Stablecoin                      XAI   \n37         XAI Stablecoin                      XAI   \n38         XAI Stablecoin                      XAI   \n39         XAI Stablecoin                      XAI   \n40         XAI Stablecoin                      XAI   \n41         XAI Stablecoin                      XAI   \n\n    transaction_asset_decimals  transaction_asset_lastPriceUSD  \\\n0                           18                        1.005034   \n1                           18                        1.005034   \n2                           18                        1.005034   \n3                           18                        1.005034   \n4                           18                        1.005034   \n5                           18                        1.005034   \n6                           18                        1.005034   \n7                           18                        1.005034   \n8                           18                        1.005034   \n9                           18                        1.005034   \n10                          18                        1.005034   \n11                          18                        1.005034   \n12                          18                     2735.431044   \n13                          18                     2735.431044   \n14                          18                     2735.431044   \n15                          18                     2735.431044   \n16                          18                     2735.431044   \n17                          18                     2735.431044   \n18                          18                        1.005034   \n19                          18                        1.005034   \n20                          18                        1.005034   \n21                          18                        1.005034   \n22                          18                        1.005034   \n23                          18                        1.005034   \n24                          18                     1655.794128   \n25                          18                     1655.794128   \n26                          18                     1655.794128   \n27                          18                     1655.794128   \n28                          18                     1655.794128   \n29                          18                     1655.794128   \n30                          18                     2735.431044   \n31                          18                     2735.431044   \n32                          18                     2735.431044   \n33                          18                     2735.431044   \n34                          18                     2735.431044   \n35                          18                     2735.431044   \n36                          18                        1.005034   \n37                          18                        1.005034   \n38                          18                        1.005034   \n39                          18                        1.005034   \n40                          18                        1.005034   \n41                          18                        1.005034   \n\n          transaction_amount  transaction_amountUSD  event            dateTime  \n0   100000000000000000000000          100169.938162  repay 2023-02-14 16:22:35  \n1   100000000000000000000000          100169.938162  repay 2023-02-14 16:22:35  \n2   100000000000000000000000          100169.938162  repay 2023-02-14 16:22:35  \n3   100000000000000000000000          100169.938162  repay 2023-02-14 16:22:35  \n4   100000000000000000000000          100169.938162  repay 2023-02-14 16:22:35  \n5   100000000000000000000000          100169.938162  repay 2023-02-14 16:22:35  \n6    86097742961225053188537           86762.218165  repay 2023-02-15 14:47:47  \n7    86097742961225053188537           86762.218165  repay 2023-02-15 14:47:47  \n8    86097742961225053188537           86762.218165  repay 2023-02-15 14:47:47  \n9    86097742961225053188537           86762.218165  repay 2023-02-15 14:47:47  \n10   86097742961225053188537           86762.218165  repay 2023-02-15 14:47:47  \n11   86097742961225053188537           86762.218165  repay 2023-02-15 14:47:47  \n12      26400333491938938022           71784.459721  repay 2023-02-14 12:16:23  \n13      26400333491938938022           71784.459721  repay 2023-02-14 12:16:23  \n14      26400333491938938022           71784.459721  repay 2023-02-14 12:16:23  \n15      26400333491938938022           71784.459721  repay 2023-02-14 12:16:23  \n16      26400333491938938022           71784.459721  repay 2023-02-14 12:16:23  \n17      26400333491938938022           71784.459721  repay 2023-02-14 12:16:23  \n18   30018522086274362309835           30145.515376  repay 2023-02-15 15:27:11  \n19   30018522086274362309835           30145.515376  repay 2023-02-15 15:27:11  \n20   30018522086274362309835           30145.515376  repay 2023-02-15 15:27:11  \n21   30018522086274362309835           30145.515376  repay 2023-02-15 15:27:11  \n22   30018522086274362309835           30145.515376  repay 2023-02-15 15:27:11  \n23   30018522086274362309835           30145.515376  repay 2023-02-15 15:27:11  \n24       1922657967519338881            3047.575989  repay 2023-02-15 14:39:35  \n25       1922657967519338881            3047.575989  repay 2023-02-15 14:39:35  \n26       1922657967519338881            3047.575989  repay 2023-02-15 14:39:35  \n27       1922657967519338881            3047.575989  repay 2023-02-15 14:39:35  \n28       1922657967519338881            3047.575989  repay 2023-02-15 14:39:35  \n29       1922657967519338881            3047.575989  repay 2023-02-15 14:39:35  \n30        211113566088300260             466.683913  repay 2022-11-25 21:03:47  \n31        211113566088300260             466.683913  repay 2022-11-25 21:03:47  \n32        211113566088300260             466.683913  repay 2022-11-25 21:03:47  \n33        211113566088300260             466.683913  repay 2022-11-25 21:03:47  \n34        211113566088300260             466.683913  repay 2022-11-25 21:03:47  \n35        211113566088300260             466.683913  repay 2022-11-25 21:03:47  \n36     262009180608605163324             262.209786  repay 2022-11-24 00:02:47  \n37     262009180608605163324             262.209786  repay 2022-11-24 00:02:47  \n38     262009180608605163324             262.209786  repay 2022-11-24 00:02:47  \n39     262009180608605163324             262.209786  repay 2022-11-24 00:02:47  \n40     262009180608605163324             262.209786  repay 2022-11-24 00:02:47  \n41     262009180608605163324             262.209786  repay 2022-11-24 00:02:47  ",
      "text/html": "<div>\n<style scoped>\n    .dataframe tbody tr th:only-of-type {\n        vertical-align: middle;\n    }\n\n    .dataframe tbody tr th {\n        vertical-align: top;\n    }\n\n    .dataframe thead th {\n        text-align: right;\n    }\n</style>\n<table border=\"1\" class=\"dataframe\">\n  <thead>\n    <tr style=\"text-align: right;\">\n      <th></th>\n      <th>transaction_id</th>\n      <th>transaction_hash</th>\n      <th>transaction_blockNumber</th>\n      <th>transaction_timestamp</th>\n      <th>transaction_account_id</th>\n      <th>transaction_market_id</th>\n      <th>transaction_market_protocol_id</th>\n      <th>transaction_market_rates_rate</th>\n      <th>transaction_market_rates_duration</th>\n      <th>transaction_market_rates_side</th>\n      <th>transaction_market_rates_type</th>\n      <th>transaction_market_rates_token_id</th>\n      <th>transaction_asset_name</th>\n      <th>transaction_asset_symbol</th>\n      <th>transaction_asset_decimals</th>\n      <th>transaction_asset_lastPriceUSD</th>\n      <th>transaction_amount</th>\n      <th>transaction_amountUSD</th>\n      <th>event</th>\n      <th>dateTime</th>\n    </tr>\n  </thead>\n  <tbody>\n    <tr>\n      <th>0</th>\n      <td>0xfb97f8e2544f2063f69249a0ba2138b8272c34596661...</td>\n      <td>0xfb97f8e2544f2063f69249a0ba2138b8272c34596661...</td>\n      <td>16628154</td>\n      <td>1676391755</td>\n      <td>0xb0399dac8f4d4100b49b2a7b3873481114229d18</td>\n      <td>0xc413dd03555f3eb29d834b482d386b2999dc2eb0</td>\n      <td>0xd998c35b7900b344bbbe6555cc11576942cf309d</td>\n      <td>0.000000</td>\n      <td>NaN</td>\n      <td>BORROWER</td>\n      <td>VARIABLE</td>\n      <td>0x0ab87046fbb341d058f17cbc4c1133f25a20a52f</td>\n      <td>XAI Stablecoin</td>\n      <td>XAI</td>\n      <td>18</td>\n      <td>1.005034</td>\n      <td>100000000000000000000000</td>\n      <td>100169.938162</td>\n      <td>repay</td>\n      <td>2023-02-14 16:22:35</td>\n    </tr>\n    <tr>\n      <th>1</th>\n      <td>0xfb97f8e2544f2063f69249a0ba2138b8272c34596661...</td>\n      <td>0xfb97f8e2544f2063f69249a0ba2138b8272c34596661...</td>\n      <td>16628154</td>\n      <td>1676391755</td>\n      <td>0xb0399dac8f4d4100b49b2a7b3873481114229d18</td>\n      <td>0xc413dd03555f3eb29d834b482d386b2999dc2eb0</td>\n      <td>0xd998c35b7900b344bbbe6555cc11576942cf309d</td>\n      <td>11.352275</td>\n      <td>NaN</td>\n      <td>BORROWER</td>\n      <td>VARIABLE</td>\n      <td>0xc02aaa39b223fe8d0a0e5c4f27ead9083c756cc2</td>\n      <td>XAI Stablecoin</td>\n      <td>XAI</td>\n      <td>18</td>\n      <td>1.005034</td>\n      <td>100000000000000000000000</td>\n      <td>100169.938162</td>\n      <td>repay</td>\n      <td>2023-02-14 16:22:35</td>\n    </tr>\n    <tr>\n      <th>2</th>\n      <td>0xfb97f8e2544f2063f69249a0ba2138b8272c34596661...</td>\n      <td>0xfb97f8e2544f2063f69249a0ba2138b8272c34596661...</td>\n      <td>16628154</td>\n      <td>1676391755</td>\n      <td>0xb0399dac8f4d4100b49b2a7b3873481114229d18</td>\n      <td>0xc413dd03555f3eb29d834b482d386b2999dc2eb0</td>\n      <td>0xd998c35b7900b344bbbe6555cc11576942cf309d</td>\n      <td>3.411870</td>\n      <td>NaN</td>\n      <td>BORROWER</td>\n      <td>VARIABLE</td>\n      <td>0xd7c9f0e536dc865ae858b0c0453fe76d13c3beac</td>\n      <td>XAI Stablecoin</td>\n      <td>XAI</td>\n      <td>18</td>\n      <td>1.005034</td>\n      <td>100000000000000000000000</td>\n      <td>100169.938162</td>\n      <td>repay</td>\n      <td>2023-02-14 16:22:35</td>\n    </tr>\n    <tr>\n      <th>3</th>\n      <td>0xfb97f8e2544f2063f69249a0ba2138b8272c34596661...</td>\n      <td>0xfb97f8e2544f2063f69249a0ba2138b8272c34596661...</td>\n      <td>16628154</td>\n      <td>1676391755</td>\n      <td>0xb0399dac8f4d4100b49b2a7b3873481114229d18</td>\n      <td>0xc413dd03555f3eb29d834b482d386b2999dc2eb0</td>\n      <td>0xd998c35b7900b344bbbe6555cc11576942cf309d</td>\n      <td>0.000000</td>\n      <td>NaN</td>\n      <td>LENDER</td>\n      <td>VARIABLE</td>\n      <td>0x0ab87046fbb341d058f17cbc4c1133f25a20a52f</td>\n      <td>XAI Stablecoin</td>\n      <td>XAI</td>\n      <td>18</td>\n      <td>1.005034</td>\n      <td>100000000000000000000000</td>\n      <td>100169.938162</td>\n      <td>repay</td>\n      <td>2023-02-14 16:22:35</td>\n    </tr>\n    <tr>\n      <th>4</th>\n      <td>0xfb97f8e2544f2063f69249a0ba2138b8272c34596661...</td>\n      <td>0xfb97f8e2544f2063f69249a0ba2138b8272c34596661...</td>\n      <td>16628154</td>\n      <td>1676391755</td>\n      <td>0xb0399dac8f4d4100b49b2a7b3873481114229d18</td>\n      <td>0xc413dd03555f3eb29d834b482d386b2999dc2eb0</td>\n      <td>0xd998c35b7900b344bbbe6555cc11576942cf309d</td>\n      <td>8.722231</td>\n      <td>NaN</td>\n      <td>LENDER</td>\n      <td>VARIABLE</td>\n      <td>0xc02aaa39b223fe8d0a0e5c4f27ead9083c756cc2</td>\n      <td>XAI Stablecoin</td>\n      <td>XAI</td>\n      <td>18</td>\n      <td>1.005034</td>\n      <td>100000000000000000000000</td>\n      <td>100169.938162</td>\n      <td>repay</td>\n      <td>2023-02-14 16:22:35</td>\n    </tr>\n    <tr>\n      <th>5</th>\n      <td>0xfb97f8e2544f2063f69249a0ba2138b8272c34596661...</td>\n      <td>0xfb97f8e2544f2063f69249a0ba2138b8272c34596661...</td>\n      <td>16628154</td>\n      <td>1676391755</td>\n      <td>0xb0399dac8f4d4100b49b2a7b3873481114229d18</td>\n      <td>0xc413dd03555f3eb29d834b482d386b2999dc2eb0</td>\n      <td>0xd998c35b7900b344bbbe6555cc11576942cf309d</td>\n      <td>2.328203</td>\n      <td>NaN</td>\n      <td>LENDER</td>\n      <td>VARIABLE</td>\n      <td>0xd7c9f0e536dc865ae858b0c0453fe76d13c3beac</td>\n      <td>XAI Stablecoin</td>\n      <td>XAI</td>\n      <td>18</td>\n      <td>1.005034</td>\n      <td>100000000000000000000000</td>\n      <td>100169.938162</td>\n      <td>repay</td>\n      <td>2023-02-14 16:22:35</td>\n    </tr>\n    <tr>\n      <th>6</th>\n      <td>0xcd3894d9378da63ad37be32ec959973c5b171dc8c285...</td>\n      <td>0xcd3894d9378da63ad37be32ec959973c5b171dc8c285...</td>\n      <td>16634833</td>\n      <td>1676472467</td>\n      <td>0xb0399dac8f4d4100b49b2a7b3873481114229d18</td>\n      <td>0xc413dd03555f3eb29d834b482d386b2999dc2eb0</td>\n      <td>0xd998c35b7900b344bbbe6555cc11576942cf309d</td>\n      <td>0.000000</td>\n      <td>NaN</td>\n      <td>BORROWER</td>\n      <td>VARIABLE</td>\n      <td>0x0ab87046fbb341d058f17cbc4c1133f25a20a52f</td>\n      <td>XAI Stablecoin</td>\n      <td>XAI</td>\n      <td>18</td>\n      <td>1.005034</td>\n      <td>86097742961225053188537</td>\n      <td>86762.218165</td>\n      <td>repay</td>\n      <td>2023-02-15 14:47:47</td>\n    </tr>\n    <tr>\n      <th>7</th>\n      <td>0xcd3894d9378da63ad37be32ec959973c5b171dc8c285...</td>\n      <td>0xcd3894d9378da63ad37be32ec959973c5b171dc8c285...</td>\n      <td>16634833</td>\n      <td>1676472467</td>\n      <td>0xb0399dac8f4d4100b49b2a7b3873481114229d18</td>\n      <td>0xc413dd03555f3eb29d834b482d386b2999dc2eb0</td>\n      <td>0xd998c35b7900b344bbbe6555cc11576942cf309d</td>\n      <td>11.352275</td>\n      <td>NaN</td>\n      <td>BORROWER</td>\n      <td>VARIABLE</td>\n      <td>0xc02aaa39b223fe8d0a0e5c4f27ead9083c756cc2</td>\n      <td>XAI Stablecoin</td>\n      <td>XAI</td>\n      <td>18</td>\n      <td>1.005034</td>\n      <td>86097742961225053188537</td>\n      <td>86762.218165</td>\n      <td>repay</td>\n      <td>2023-02-15 14:47:47</td>\n    </tr>\n    <tr>\n      <th>8</th>\n      <td>0xcd3894d9378da63ad37be32ec959973c5b171dc8c285...</td>\n      <td>0xcd3894d9378da63ad37be32ec959973c5b171dc8c285...</td>\n      <td>16634833</td>\n      <td>1676472467</td>\n      <td>0xb0399dac8f4d4100b49b2a7b3873481114229d18</td>\n      <td>0xc413dd03555f3eb29d834b482d386b2999dc2eb0</td>\n      <td>0xd998c35b7900b344bbbe6555cc11576942cf309d</td>\n      <td>3.411870</td>\n      <td>NaN</td>\n      <td>BORROWER</td>\n      <td>VARIABLE</td>\n      <td>0xd7c9f0e536dc865ae858b0c0453fe76d13c3beac</td>\n      <td>XAI Stablecoin</td>\n      <td>XAI</td>\n      <td>18</td>\n      <td>1.005034</td>\n      <td>86097742961225053188537</td>\n      <td>86762.218165</td>\n      <td>repay</td>\n      <td>2023-02-15 14:47:47</td>\n    </tr>\n    <tr>\n      <th>9</th>\n      <td>0xcd3894d9378da63ad37be32ec959973c5b171dc8c285...</td>\n      <td>0xcd3894d9378da63ad37be32ec959973c5b171dc8c285...</td>\n      <td>16634833</td>\n      <td>1676472467</td>\n      <td>0xb0399dac8f4d4100b49b2a7b3873481114229d18</td>\n      <td>0xc413dd03555f3eb29d834b482d386b2999dc2eb0</td>\n      <td>0xd998c35b7900b344bbbe6555cc11576942cf309d</td>\n      <td>0.000000</td>\n      <td>NaN</td>\n      <td>LENDER</td>\n      <td>VARIABLE</td>\n      <td>0x0ab87046fbb341d058f17cbc4c1133f25a20a52f</td>\n      <td>XAI Stablecoin</td>\n      <td>XAI</td>\n      <td>18</td>\n      <td>1.005034</td>\n      <td>86097742961225053188537</td>\n      <td>86762.218165</td>\n      <td>repay</td>\n      <td>2023-02-15 14:47:47</td>\n    </tr>\n    <tr>\n      <th>10</th>\n      <td>0xcd3894d9378da63ad37be32ec959973c5b171dc8c285...</td>\n      <td>0xcd3894d9378da63ad37be32ec959973c5b171dc8c285...</td>\n      <td>16634833</td>\n      <td>1676472467</td>\n      <td>0xb0399dac8f4d4100b49b2a7b3873481114229d18</td>\n      <td>0xc413dd03555f3eb29d834b482d386b2999dc2eb0</td>\n      <td>0xd998c35b7900b344bbbe6555cc11576942cf309d</td>\n      <td>8.722231</td>\n      <td>NaN</td>\n      <td>LENDER</td>\n      <td>VARIABLE</td>\n      <td>0xc02aaa39b223fe8d0a0e5c4f27ead9083c756cc2</td>\n      <td>XAI Stablecoin</td>\n      <td>XAI</td>\n      <td>18</td>\n      <td>1.005034</td>\n      <td>86097742961225053188537</td>\n      <td>86762.218165</td>\n      <td>repay</td>\n      <td>2023-02-15 14:47:47</td>\n    </tr>\n    <tr>\n      <th>11</th>\n      <td>0xcd3894d9378da63ad37be32ec959973c5b171dc8c285...</td>\n      <td>0xcd3894d9378da63ad37be32ec959973c5b171dc8c285...</td>\n      <td>16634833</td>\n      <td>1676472467</td>\n      <td>0xb0399dac8f4d4100b49b2a7b3873481114229d18</td>\n      <td>0xc413dd03555f3eb29d834b482d386b2999dc2eb0</td>\n      <td>0xd998c35b7900b344bbbe6555cc11576942cf309d</td>\n      <td>2.328203</td>\n      <td>NaN</td>\n      <td>LENDER</td>\n      <td>VARIABLE</td>\n      <td>0xd7c9f0e536dc865ae858b0c0453fe76d13c3beac</td>\n      <td>XAI Stablecoin</td>\n      <td>XAI</td>\n      <td>18</td>\n      <td>1.005034</td>\n      <td>86097742961225053188537</td>\n      <td>86762.218165</td>\n      <td>repay</td>\n      <td>2023-02-15 14:47:47</td>\n    </tr>\n    <tr>\n      <th>12</th>\n      <td>0xcbfc584edeb424b312011c7884bce8c77facd5b4bad8...</td>\n      <td>0xcbfc584edeb424b312011c7884bce8c77facd5b4bad8...</td>\n      <td>16626928</td>\n      <td>1676376983</td>\n      <td>0x46535cbc3fa574c32ea392d4f89c518290597072</td>\n      <td>0xc413dd03555f3eb29d834b482d386b2999dc2eb0</td>\n      <td>0xd998c35b7900b344bbbe6555cc11576942cf309d</td>\n      <td>0.000000</td>\n      <td>NaN</td>\n      <td>BORROWER</td>\n      <td>VARIABLE</td>\n      <td>0x0ab87046fbb341d058f17cbc4c1133f25a20a52f</td>\n      <td>Governance OHM</td>\n      <td>gOHM</td>\n      <td>18</td>\n      <td>2735.431044</td>\n      <td>26400333491938938022</td>\n      <td>71784.459721</td>\n      <td>repay</td>\n      <td>2023-02-14 12:16:23</td>\n    </tr>\n    <tr>\n      <th>13</th>\n      <td>0xcbfc584edeb424b312011c7884bce8c77facd5b4bad8...</td>\n      <td>0xcbfc584edeb424b312011c7884bce8c77facd5b4bad8...</td>\n      <td>16626928</td>\n      <td>1676376983</td>\n      <td>0x46535cbc3fa574c32ea392d4f89c518290597072</td>\n      <td>0xc413dd03555f3eb29d834b482d386b2999dc2eb0</td>\n      <td>0xd998c35b7900b344bbbe6555cc11576942cf309d</td>\n      <td>11.352275</td>\n      <td>NaN</td>\n      <td>BORROWER</td>\n      <td>VARIABLE</td>\n      <td>0xc02aaa39b223fe8d0a0e5c4f27ead9083c756cc2</td>\n      <td>Governance OHM</td>\n      <td>gOHM</td>\n      <td>18</td>\n      <td>2735.431044</td>\n      <td>26400333491938938022</td>\n      <td>71784.459721</td>\n      <td>repay</td>\n      <td>2023-02-14 12:16:23</td>\n    </tr>\n    <tr>\n      <th>14</th>\n      <td>0xcbfc584edeb424b312011c7884bce8c77facd5b4bad8...</td>\n      <td>0xcbfc584edeb424b312011c7884bce8c77facd5b4bad8...</td>\n      <td>16626928</td>\n      <td>1676376983</td>\n      <td>0x46535cbc3fa574c32ea392d4f89c518290597072</td>\n      <td>0xc413dd03555f3eb29d834b482d386b2999dc2eb0</td>\n      <td>0xd998c35b7900b344bbbe6555cc11576942cf309d</td>\n      <td>3.411870</td>\n      <td>NaN</td>\n      <td>BORROWER</td>\n      <td>VARIABLE</td>\n      <td>0xd7c9f0e536dc865ae858b0c0453fe76d13c3beac</td>\n      <td>Governance OHM</td>\n      <td>gOHM</td>\n      <td>18</td>\n      <td>2735.431044</td>\n      <td>26400333491938938022</td>\n      <td>71784.459721</td>\n      <td>repay</td>\n      <td>2023-02-14 12:16:23</td>\n    </tr>\n    <tr>\n      <th>15</th>\n      <td>0xcbfc584edeb424b312011c7884bce8c77facd5b4bad8...</td>\n      <td>0xcbfc584edeb424b312011c7884bce8c77facd5b4bad8...</td>\n      <td>16626928</td>\n      <td>1676376983</td>\n      <td>0x46535cbc3fa574c32ea392d4f89c518290597072</td>\n      <td>0xc413dd03555f3eb29d834b482d386b2999dc2eb0</td>\n      <td>0xd998c35b7900b344bbbe6555cc11576942cf309d</td>\n      <td>0.000000</td>\n      <td>NaN</td>\n      <td>LENDER</td>\n      <td>VARIABLE</td>\n      <td>0x0ab87046fbb341d058f17cbc4c1133f25a20a52f</td>\n      <td>Governance OHM</td>\n      <td>gOHM</td>\n      <td>18</td>\n      <td>2735.431044</td>\n      <td>26400333491938938022</td>\n      <td>71784.459721</td>\n      <td>repay</td>\n      <td>2023-02-14 12:16:23</td>\n    </tr>\n    <tr>\n      <th>16</th>\n      <td>0xcbfc584edeb424b312011c7884bce8c77facd5b4bad8...</td>\n      <td>0xcbfc584edeb424b312011c7884bce8c77facd5b4bad8...</td>\n      <td>16626928</td>\n      <td>1676376983</td>\n      <td>0x46535cbc3fa574c32ea392d4f89c518290597072</td>\n      <td>0xc413dd03555f3eb29d834b482d386b2999dc2eb0</td>\n      <td>0xd998c35b7900b344bbbe6555cc11576942cf309d</td>\n      <td>8.722231</td>\n      <td>NaN</td>\n      <td>LENDER</td>\n      <td>VARIABLE</td>\n      <td>0xc02aaa39b223fe8d0a0e5c4f27ead9083c756cc2</td>\n      <td>Governance OHM</td>\n      <td>gOHM</td>\n      <td>18</td>\n      <td>2735.431044</td>\n      <td>26400333491938938022</td>\n      <td>71784.459721</td>\n      <td>repay</td>\n      <td>2023-02-14 12:16:23</td>\n    </tr>\n    <tr>\n      <th>17</th>\n      <td>0xcbfc584edeb424b312011c7884bce8c77facd5b4bad8...</td>\n      <td>0xcbfc584edeb424b312011c7884bce8c77facd5b4bad8...</td>\n      <td>16626928</td>\n      <td>1676376983</td>\n      <td>0x46535cbc3fa574c32ea392d4f89c518290597072</td>\n      <td>0xc413dd03555f3eb29d834b482d386b2999dc2eb0</td>\n      <td>0xd998c35b7900b344bbbe6555cc11576942cf309d</td>\n      <td>2.328203</td>\n      <td>NaN</td>\n      <td>LENDER</td>\n      <td>VARIABLE</td>\n      <td>0xd7c9f0e536dc865ae858b0c0453fe76d13c3beac</td>\n      <td>Governance OHM</td>\n      <td>gOHM</td>\n      <td>18</td>\n      <td>2735.431044</td>\n      <td>26400333491938938022</td>\n      <td>71784.459721</td>\n      <td>repay</td>\n      <td>2023-02-14 12:16:23</td>\n    </tr>\n    <tr>\n      <th>18</th>\n      <td>0x038790f93d972fc6a3542036d9e615be7c3eb1252013...</td>\n      <td>0x038790f93d972fc6a3542036d9e615be7c3eb1252013...</td>\n      <td>16635029</td>\n      <td>1676474831</td>\n      <td>0x0493bcca897a2248ae3cd4c66aea90dbfc7e13c6</td>\n      <td>0xc413dd03555f3eb29d834b482d386b2999dc2eb0</td>\n      <td>0xd998c35b7900b344bbbe6555cc11576942cf309d</td>\n      <td>0.000000</td>\n      <td>NaN</td>\n      <td>BORROWER</td>\n      <td>VARIABLE</td>\n      <td>0x0ab87046fbb341d058f17cbc4c1133f25a20a52f</td>\n      <td>XAI Stablecoin</td>\n      <td>XAI</td>\n      <td>18</td>\n      <td>1.005034</td>\n      <td>30018522086274362309835</td>\n      <td>30145.515376</td>\n      <td>repay</td>\n      <td>2023-02-15 15:27:11</td>\n    </tr>\n    <tr>\n      <th>19</th>\n      <td>0x038790f93d972fc6a3542036d9e615be7c3eb1252013...</td>\n      <td>0x038790f93d972fc6a3542036d9e615be7c3eb1252013...</td>\n      <td>16635029</td>\n      <td>1676474831</td>\n      <td>0x0493bcca897a2248ae3cd4c66aea90dbfc7e13c6</td>\n      <td>0xc413dd03555f3eb29d834b482d386b2999dc2eb0</td>\n      <td>0xd998c35b7900b344bbbe6555cc11576942cf309d</td>\n      <td>11.352275</td>\n      <td>NaN</td>\n      <td>BORROWER</td>\n      <td>VARIABLE</td>\n      <td>0xc02aaa39b223fe8d0a0e5c4f27ead9083c756cc2</td>\n      <td>XAI Stablecoin</td>\n      <td>XAI</td>\n      <td>18</td>\n      <td>1.005034</td>\n      <td>30018522086274362309835</td>\n      <td>30145.515376</td>\n      <td>repay</td>\n      <td>2023-02-15 15:27:11</td>\n    </tr>\n    <tr>\n      <th>20</th>\n      <td>0x038790f93d972fc6a3542036d9e615be7c3eb1252013...</td>\n      <td>0x038790f93d972fc6a3542036d9e615be7c3eb1252013...</td>\n      <td>16635029</td>\n      <td>1676474831</td>\n      <td>0x0493bcca897a2248ae3cd4c66aea90dbfc7e13c6</td>\n      <td>0xc413dd03555f3eb29d834b482d386b2999dc2eb0</td>\n      <td>0xd998c35b7900b344bbbe6555cc11576942cf309d</td>\n      <td>3.411870</td>\n      <td>NaN</td>\n      <td>BORROWER</td>\n      <td>VARIABLE</td>\n      <td>0xd7c9f0e536dc865ae858b0c0453fe76d13c3beac</td>\n      <td>XAI Stablecoin</td>\n      <td>XAI</td>\n      <td>18</td>\n      <td>1.005034</td>\n      <td>30018522086274362309835</td>\n      <td>30145.515376</td>\n      <td>repay</td>\n      <td>2023-02-15 15:27:11</td>\n    </tr>\n    <tr>\n      <th>21</th>\n      <td>0x038790f93d972fc6a3542036d9e615be7c3eb1252013...</td>\n      <td>0x038790f93d972fc6a3542036d9e615be7c3eb1252013...</td>\n      <td>16635029</td>\n      <td>1676474831</td>\n      <td>0x0493bcca897a2248ae3cd4c66aea90dbfc7e13c6</td>\n      <td>0xc413dd03555f3eb29d834b482d386b2999dc2eb0</td>\n      <td>0xd998c35b7900b344bbbe6555cc11576942cf309d</td>\n      <td>0.000000</td>\n      <td>NaN</td>\n      <td>LENDER</td>\n      <td>VARIABLE</td>\n      <td>0x0ab87046fbb341d058f17cbc4c1133f25a20a52f</td>\n      <td>XAI Stablecoin</td>\n      <td>XAI</td>\n      <td>18</td>\n      <td>1.005034</td>\n      <td>30018522086274362309835</td>\n      <td>30145.515376</td>\n      <td>repay</td>\n      <td>2023-02-15 15:27:11</td>\n    </tr>\n    <tr>\n      <th>22</th>\n      <td>0x038790f93d972fc6a3542036d9e615be7c3eb1252013...</td>\n      <td>0x038790f93d972fc6a3542036d9e615be7c3eb1252013...</td>\n      <td>16635029</td>\n      <td>1676474831</td>\n      <td>0x0493bcca897a2248ae3cd4c66aea90dbfc7e13c6</td>\n      <td>0xc413dd03555f3eb29d834b482d386b2999dc2eb0</td>\n      <td>0xd998c35b7900b344bbbe6555cc11576942cf309d</td>\n      <td>8.722231</td>\n      <td>NaN</td>\n      <td>LENDER</td>\n      <td>VARIABLE</td>\n      <td>0xc02aaa39b223fe8d0a0e5c4f27ead9083c756cc2</td>\n      <td>XAI Stablecoin</td>\n      <td>XAI</td>\n      <td>18</td>\n      <td>1.005034</td>\n      <td>30018522086274362309835</td>\n      <td>30145.515376</td>\n      <td>repay</td>\n      <td>2023-02-15 15:27:11</td>\n    </tr>\n    <tr>\n      <th>23</th>\n      <td>0x038790f93d972fc6a3542036d9e615be7c3eb1252013...</td>\n      <td>0x038790f93d972fc6a3542036d9e615be7c3eb1252013...</td>\n      <td>16635029</td>\n      <td>1676474831</td>\n      <td>0x0493bcca897a2248ae3cd4c66aea90dbfc7e13c6</td>\n      <td>0xc413dd03555f3eb29d834b482d386b2999dc2eb0</td>\n      <td>0xd998c35b7900b344bbbe6555cc11576942cf309d</td>\n      <td>2.328203</td>\n      <td>NaN</td>\n      <td>LENDER</td>\n      <td>VARIABLE</td>\n      <td>0xd7c9f0e536dc865ae858b0c0453fe76d13c3beac</td>\n      <td>XAI Stablecoin</td>\n      <td>XAI</td>\n      <td>18</td>\n      <td>1.005034</td>\n      <td>30018522086274362309835</td>\n      <td>30145.515376</td>\n      <td>repay</td>\n      <td>2023-02-15 15:27:11</td>\n    </tr>\n    <tr>\n      <th>24</th>\n      <td>0x8fe7fa24f9cac5bf31917896c4a1241263cc837890b2...</td>\n      <td>0x8fe7fa24f9cac5bf31917896c4a1241263cc837890b2...</td>\n      <td>16634792</td>\n      <td>1676471975</td>\n      <td>0x16ff8ad104fa6195260a6d4a3f311c5f120df77d</td>\n      <td>0xc413dd03555f3eb29d834b482d386b2999dc2eb0</td>\n      <td>0xd998c35b7900b344bbbe6555cc11576942cf309d</td>\n      <td>0.000000</td>\n      <td>NaN</td>\n      <td>BORROWER</td>\n      <td>VARIABLE</td>\n      <td>0x0ab87046fbb341d058f17cbc4c1133f25a20a52f</td>\n      <td>Wrapped Ether</td>\n      <td>WETH</td>\n      <td>18</td>\n      <td>1655.794128</td>\n      <td>1922657967519338881</td>\n      <td>3047.575989</td>\n      <td>repay</td>\n      <td>2023-02-15 14:39:35</td>\n    </tr>\n    <tr>\n      <th>25</th>\n      <td>0x8fe7fa24f9cac5bf31917896c4a1241263cc837890b2...</td>\n      <td>0x8fe7fa24f9cac5bf31917896c4a1241263cc837890b2...</td>\n      <td>16634792</td>\n      <td>1676471975</td>\n      <td>0x16ff8ad104fa6195260a6d4a3f311c5f120df77d</td>\n      <td>0xc413dd03555f3eb29d834b482d386b2999dc2eb0</td>\n      <td>0xd998c35b7900b344bbbe6555cc11576942cf309d</td>\n      <td>11.352275</td>\n      <td>NaN</td>\n      <td>BORROWER</td>\n      <td>VARIABLE</td>\n      <td>0xc02aaa39b223fe8d0a0e5c4f27ead9083c756cc2</td>\n      <td>Wrapped Ether</td>\n      <td>WETH</td>\n      <td>18</td>\n      <td>1655.794128</td>\n      <td>1922657967519338881</td>\n      <td>3047.575989</td>\n      <td>repay</td>\n      <td>2023-02-15 14:39:35</td>\n    </tr>\n    <tr>\n      <th>26</th>\n      <td>0x8fe7fa24f9cac5bf31917896c4a1241263cc837890b2...</td>\n      <td>0x8fe7fa24f9cac5bf31917896c4a1241263cc837890b2...</td>\n      <td>16634792</td>\n      <td>1676471975</td>\n      <td>0x16ff8ad104fa6195260a6d4a3f311c5f120df77d</td>\n      <td>0xc413dd03555f3eb29d834b482d386b2999dc2eb0</td>\n      <td>0xd998c35b7900b344bbbe6555cc11576942cf309d</td>\n      <td>3.411870</td>\n      <td>NaN</td>\n      <td>BORROWER</td>\n      <td>VARIABLE</td>\n      <td>0xd7c9f0e536dc865ae858b0c0453fe76d13c3beac</td>\n      <td>Wrapped Ether</td>\n      <td>WETH</td>\n      <td>18</td>\n      <td>1655.794128</td>\n      <td>1922657967519338881</td>\n      <td>3047.575989</td>\n      <td>repay</td>\n      <td>2023-02-15 14:39:35</td>\n    </tr>\n    <tr>\n      <th>27</th>\n      <td>0x8fe7fa24f9cac5bf31917896c4a1241263cc837890b2...</td>\n      <td>0x8fe7fa24f9cac5bf31917896c4a1241263cc837890b2...</td>\n      <td>16634792</td>\n      <td>1676471975</td>\n      <td>0x16ff8ad104fa6195260a6d4a3f311c5f120df77d</td>\n      <td>0xc413dd03555f3eb29d834b482d386b2999dc2eb0</td>\n      <td>0xd998c35b7900b344bbbe6555cc11576942cf309d</td>\n      <td>0.000000</td>\n      <td>NaN</td>\n      <td>LENDER</td>\n      <td>VARIABLE</td>\n      <td>0x0ab87046fbb341d058f17cbc4c1133f25a20a52f</td>\n      <td>Wrapped Ether</td>\n      <td>WETH</td>\n      <td>18</td>\n      <td>1655.794128</td>\n      <td>1922657967519338881</td>\n      <td>3047.575989</td>\n      <td>repay</td>\n      <td>2023-02-15 14:39:35</td>\n    </tr>\n    <tr>\n      <th>28</th>\n      <td>0x8fe7fa24f9cac5bf31917896c4a1241263cc837890b2...</td>\n      <td>0x8fe7fa24f9cac5bf31917896c4a1241263cc837890b2...</td>\n      <td>16634792</td>\n      <td>1676471975</td>\n      <td>0x16ff8ad104fa6195260a6d4a3f311c5f120df77d</td>\n      <td>0xc413dd03555f3eb29d834b482d386b2999dc2eb0</td>\n      <td>0xd998c35b7900b344bbbe6555cc11576942cf309d</td>\n      <td>8.722231</td>\n      <td>NaN</td>\n      <td>LENDER</td>\n      <td>VARIABLE</td>\n      <td>0xc02aaa39b223fe8d0a0e5c4f27ead9083c756cc2</td>\n      <td>Wrapped Ether</td>\n      <td>WETH</td>\n      <td>18</td>\n      <td>1655.794128</td>\n      <td>1922657967519338881</td>\n      <td>3047.575989</td>\n      <td>repay</td>\n      <td>2023-02-15 14:39:35</td>\n    </tr>\n    <tr>\n      <th>29</th>\n      <td>0x8fe7fa24f9cac5bf31917896c4a1241263cc837890b2...</td>\n      <td>0x8fe7fa24f9cac5bf31917896c4a1241263cc837890b2...</td>\n      <td>16634792</td>\n      <td>1676471975</td>\n      <td>0x16ff8ad104fa6195260a6d4a3f311c5f120df77d</td>\n      <td>0xc413dd03555f3eb29d834b482d386b2999dc2eb0</td>\n      <td>0xd998c35b7900b344bbbe6555cc11576942cf309d</td>\n      <td>2.328203</td>\n      <td>NaN</td>\n      <td>LENDER</td>\n      <td>VARIABLE</td>\n      <td>0xd7c9f0e536dc865ae858b0c0453fe76d13c3beac</td>\n      <td>Wrapped Ether</td>\n      <td>WETH</td>\n      <td>18</td>\n      <td>1655.794128</td>\n      <td>1922657967519338881</td>\n      <td>3047.575989</td>\n      <td>repay</td>\n      <td>2023-02-15 14:39:35</td>\n    </tr>\n    <tr>\n      <th>30</th>\n      <td>0x0c0283dc0e75f17b5e9eb79b05bea3cae12d32204aad...</td>\n      <td>0x0c0283dc0e75f17b5e9eb79b05bea3cae12d32204aad...</td>\n      <td>16049560</td>\n      <td>1669410227</td>\n      <td>0x7776421dd146dfd6ea947cbf29b69c519807d259</td>\n      <td>0xc413dd03555f3eb29d834b482d386b2999dc2eb0</td>\n      <td>0xd998c35b7900b344bbbe6555cc11576942cf309d</td>\n      <td>0.000000</td>\n      <td>NaN</td>\n      <td>BORROWER</td>\n      <td>VARIABLE</td>\n      <td>0x0ab87046fbb341d058f17cbc4c1133f25a20a52f</td>\n      <td>Governance OHM</td>\n      <td>gOHM</td>\n      <td>18</td>\n      <td>2735.431044</td>\n      <td>211113566088300260</td>\n      <td>466.683913</td>\n      <td>repay</td>\n      <td>2022-11-25 21:03:47</td>\n    </tr>\n    <tr>\n      <th>31</th>\n      <td>0x0c0283dc0e75f17b5e9eb79b05bea3cae12d32204aad...</td>\n      <td>0x0c0283dc0e75f17b5e9eb79b05bea3cae12d32204aad...</td>\n      <td>16049560</td>\n      <td>1669410227</td>\n      <td>0x7776421dd146dfd6ea947cbf29b69c519807d259</td>\n      <td>0xc413dd03555f3eb29d834b482d386b2999dc2eb0</td>\n      <td>0xd998c35b7900b344bbbe6555cc11576942cf309d</td>\n      <td>11.352275</td>\n      <td>NaN</td>\n      <td>BORROWER</td>\n      <td>VARIABLE</td>\n      <td>0xc02aaa39b223fe8d0a0e5c4f27ead9083c756cc2</td>\n      <td>Governance OHM</td>\n      <td>gOHM</td>\n      <td>18</td>\n      <td>2735.431044</td>\n      <td>211113566088300260</td>\n      <td>466.683913</td>\n      <td>repay</td>\n      <td>2022-11-25 21:03:47</td>\n    </tr>\n    <tr>\n      <th>32</th>\n      <td>0x0c0283dc0e75f17b5e9eb79b05bea3cae12d32204aad...</td>\n      <td>0x0c0283dc0e75f17b5e9eb79b05bea3cae12d32204aad...</td>\n      <td>16049560</td>\n      <td>1669410227</td>\n      <td>0x7776421dd146dfd6ea947cbf29b69c519807d259</td>\n      <td>0xc413dd03555f3eb29d834b482d386b2999dc2eb0</td>\n      <td>0xd998c35b7900b344bbbe6555cc11576942cf309d</td>\n      <td>3.411870</td>\n      <td>NaN</td>\n      <td>BORROWER</td>\n      <td>VARIABLE</td>\n      <td>0xd7c9f0e536dc865ae858b0c0453fe76d13c3beac</td>\n      <td>Governance OHM</td>\n      <td>gOHM</td>\n      <td>18</td>\n      <td>2735.431044</td>\n      <td>211113566088300260</td>\n      <td>466.683913</td>\n      <td>repay</td>\n      <td>2022-11-25 21:03:47</td>\n    </tr>\n    <tr>\n      <th>33</th>\n      <td>0x0c0283dc0e75f17b5e9eb79b05bea3cae12d32204aad...</td>\n      <td>0x0c0283dc0e75f17b5e9eb79b05bea3cae12d32204aad...</td>\n      <td>16049560</td>\n      <td>1669410227</td>\n      <td>0x7776421dd146dfd6ea947cbf29b69c519807d259</td>\n      <td>0xc413dd03555f3eb29d834b482d386b2999dc2eb0</td>\n      <td>0xd998c35b7900b344bbbe6555cc11576942cf309d</td>\n      <td>0.000000</td>\n      <td>NaN</td>\n      <td>LENDER</td>\n      <td>VARIABLE</td>\n      <td>0x0ab87046fbb341d058f17cbc4c1133f25a20a52f</td>\n      <td>Governance OHM</td>\n      <td>gOHM</td>\n      <td>18</td>\n      <td>2735.431044</td>\n      <td>211113566088300260</td>\n      <td>466.683913</td>\n      <td>repay</td>\n      <td>2022-11-25 21:03:47</td>\n    </tr>\n    <tr>\n      <th>34</th>\n      <td>0x0c0283dc0e75f17b5e9eb79b05bea3cae12d32204aad...</td>\n      <td>0x0c0283dc0e75f17b5e9eb79b05bea3cae12d32204aad...</td>\n      <td>16049560</td>\n      <td>1669410227</td>\n      <td>0x7776421dd146dfd6ea947cbf29b69c519807d259</td>\n      <td>0xc413dd03555f3eb29d834b482d386b2999dc2eb0</td>\n      <td>0xd998c35b7900b344bbbe6555cc11576942cf309d</td>\n      <td>8.722231</td>\n      <td>NaN</td>\n      <td>LENDER</td>\n      <td>VARIABLE</td>\n      <td>0xc02aaa39b223fe8d0a0e5c4f27ead9083c756cc2</td>\n      <td>Governance OHM</td>\n      <td>gOHM</td>\n      <td>18</td>\n      <td>2735.431044</td>\n      <td>211113566088300260</td>\n      <td>466.683913</td>\n      <td>repay</td>\n      <td>2022-11-25 21:03:47</td>\n    </tr>\n    <tr>\n      <th>35</th>\n      <td>0x0c0283dc0e75f17b5e9eb79b05bea3cae12d32204aad...</td>\n      <td>0x0c0283dc0e75f17b5e9eb79b05bea3cae12d32204aad...</td>\n      <td>16049560</td>\n      <td>1669410227</td>\n      <td>0x7776421dd146dfd6ea947cbf29b69c519807d259</td>\n      <td>0xc413dd03555f3eb29d834b482d386b2999dc2eb0</td>\n      <td>0xd998c35b7900b344bbbe6555cc11576942cf309d</td>\n      <td>2.328203</td>\n      <td>NaN</td>\n      <td>LENDER</td>\n      <td>VARIABLE</td>\n      <td>0xd7c9f0e536dc865ae858b0c0453fe76d13c3beac</td>\n      <td>Governance OHM</td>\n      <td>gOHM</td>\n      <td>18</td>\n      <td>2735.431044</td>\n      <td>211113566088300260</td>\n      <td>466.683913</td>\n      <td>repay</td>\n      <td>2022-11-25 21:03:47</td>\n    </tr>\n    <tr>\n      <th>36</th>\n      <td>0x748852c58dd4b57d3f6ed80bc81f74b439efcb94968b...</td>\n      <td>0x748852c58dd4b57d3f6ed80bc81f74b439efcb94968b...</td>\n      <td>16036129</td>\n      <td>1669248167</td>\n      <td>0xd3064611b24eba7a6dbcbc26c1b35dfee1170880</td>\n      <td>0xc413dd03555f3eb29d834b482d386b2999dc2eb0</td>\n      <td>0xd998c35b7900b344bbbe6555cc11576942cf309d</td>\n      <td>0.000000</td>\n      <td>NaN</td>\n      <td>BORROWER</td>\n      <td>VARIABLE</td>\n      <td>0x0ab87046fbb341d058f17cbc4c1133f25a20a52f</td>\n      <td>XAI Stablecoin</td>\n      <td>XAI</td>\n      <td>18</td>\n      <td>1.005034</td>\n      <td>262009180608605163324</td>\n      <td>262.209786</td>\n      <td>repay</td>\n      <td>2022-11-24 00:02:47</td>\n    </tr>\n    <tr>\n      <th>37</th>\n      <td>0x748852c58dd4b57d3f6ed80bc81f74b439efcb94968b...</td>\n      <td>0x748852c58dd4b57d3f6ed80bc81f74b439efcb94968b...</td>\n      <td>16036129</td>\n      <td>1669248167</td>\n      <td>0xd3064611b24eba7a6dbcbc26c1b35dfee1170880</td>\n      <td>0xc413dd03555f3eb29d834b482d386b2999dc2eb0</td>\n      <td>0xd998c35b7900b344bbbe6555cc11576942cf309d</td>\n      <td>11.352275</td>\n      <td>NaN</td>\n      <td>BORROWER</td>\n      <td>VARIABLE</td>\n      <td>0xc02aaa39b223fe8d0a0e5c4f27ead9083c756cc2</td>\n      <td>XAI Stablecoin</td>\n      <td>XAI</td>\n      <td>18</td>\n      <td>1.005034</td>\n      <td>262009180608605163324</td>\n      <td>262.209786</td>\n      <td>repay</td>\n      <td>2022-11-24 00:02:47</td>\n    </tr>\n    <tr>\n      <th>38</th>\n      <td>0x748852c58dd4b57d3f6ed80bc81f74b439efcb94968b...</td>\n      <td>0x748852c58dd4b57d3f6ed80bc81f74b439efcb94968b...</td>\n      <td>16036129</td>\n      <td>1669248167</td>\n      <td>0xd3064611b24eba7a6dbcbc26c1b35dfee1170880</td>\n      <td>0xc413dd03555f3eb29d834b482d386b2999dc2eb0</td>\n      <td>0xd998c35b7900b344bbbe6555cc11576942cf309d</td>\n      <td>3.411870</td>\n      <td>NaN</td>\n      <td>BORROWER</td>\n      <td>VARIABLE</td>\n      <td>0xd7c9f0e536dc865ae858b0c0453fe76d13c3beac</td>\n      <td>XAI Stablecoin</td>\n      <td>XAI</td>\n      <td>18</td>\n      <td>1.005034</td>\n      <td>262009180608605163324</td>\n      <td>262.209786</td>\n      <td>repay</td>\n      <td>2022-11-24 00:02:47</td>\n    </tr>\n    <tr>\n      <th>39</th>\n      <td>0x748852c58dd4b57d3f6ed80bc81f74b439efcb94968b...</td>\n      <td>0x748852c58dd4b57d3f6ed80bc81f74b439efcb94968b...</td>\n      <td>16036129</td>\n      <td>1669248167</td>\n      <td>0xd3064611b24eba7a6dbcbc26c1b35dfee1170880</td>\n      <td>0xc413dd03555f3eb29d834b482d386b2999dc2eb0</td>\n      <td>0xd998c35b7900b344bbbe6555cc11576942cf309d</td>\n      <td>0.000000</td>\n      <td>NaN</td>\n      <td>LENDER</td>\n      <td>VARIABLE</td>\n      <td>0x0ab87046fbb341d058f17cbc4c1133f25a20a52f</td>\n      <td>XAI Stablecoin</td>\n      <td>XAI</td>\n      <td>18</td>\n      <td>1.005034</td>\n      <td>262009180608605163324</td>\n      <td>262.209786</td>\n      <td>repay</td>\n      <td>2022-11-24 00:02:47</td>\n    </tr>\n    <tr>\n      <th>40</th>\n      <td>0x748852c58dd4b57d3f6ed80bc81f74b439efcb94968b...</td>\n      <td>0x748852c58dd4b57d3f6ed80bc81f74b439efcb94968b...</td>\n      <td>16036129</td>\n      <td>1669248167</td>\n      <td>0xd3064611b24eba7a6dbcbc26c1b35dfee1170880</td>\n      <td>0xc413dd03555f3eb29d834b482d386b2999dc2eb0</td>\n      <td>0xd998c35b7900b344bbbe6555cc11576942cf309d</td>\n      <td>8.722231</td>\n      <td>NaN</td>\n      <td>LENDER</td>\n      <td>VARIABLE</td>\n      <td>0xc02aaa39b223fe8d0a0e5c4f27ead9083c756cc2</td>\n      <td>XAI Stablecoin</td>\n      <td>XAI</td>\n      <td>18</td>\n      <td>1.005034</td>\n      <td>262009180608605163324</td>\n      <td>262.209786</td>\n      <td>repay</td>\n      <td>2022-11-24 00:02:47</td>\n    </tr>\n    <tr>\n      <th>41</th>\n      <td>0x748852c58dd4b57d3f6ed80bc81f74b439efcb94968b...</td>\n      <td>0x748852c58dd4b57d3f6ed80bc81f74b439efcb94968b...</td>\n      <td>16036129</td>\n      <td>1669248167</td>\n      <td>0xd3064611b24eba7a6dbcbc26c1b35dfee1170880</td>\n      <td>0xc413dd03555f3eb29d834b482d386b2999dc2eb0</td>\n      <td>0xd998c35b7900b344bbbe6555cc11576942cf309d</td>\n      <td>2.328203</td>\n      <td>NaN</td>\n      <td>LENDER</td>\n      <td>VARIABLE</td>\n      <td>0xd7c9f0e536dc865ae858b0c0453fe76d13c3beac</td>\n      <td>XAI Stablecoin</td>\n      <td>XAI</td>\n      <td>18</td>\n      <td>1.005034</td>\n      <td>262009180608605163324</td>\n      <td>262.209786</td>\n      <td>repay</td>\n      <td>2022-11-24 00:02:47</td>\n    </tr>\n  </tbody>\n</table>\n</div>"
     },
     "execution_count": 19,
     "metadata": {},
     "output_type": "execute_result"
    }
   ],
   "source": [
    "repaysDbTimed = pd.concat([oldRepaysDb,repaysDbDbTimed]).drop_duplicates().reset_index(drop=True)\n",
    "repaysDbTimed.sort_values(['transaction_id','transaction_market_rates_rate'])\n",
    "repaysDbTimed.drop_duplicates(keep='first' )\n",
    "\n",
    "repaysDbTimed = db.query(\"select \"\n",
    "               \"    * \"\n",
    "               \"From repaysDbDbTimed \"\n",
    "                         \"group by 1,2,3,4,5,6,7,8,9,10,11,12,13,14,15,16,17,18,19,20 \"\n",
    "                      \"order by transaction_amountUSD desc \"\n",
    "               #\"where lower(liquidityPools_name) like lower('%olympus%') \"\n",
    "                #    \"or lower(pairs_token1_symbol) like lower('%OHM%')  \"\n",
    "               #\" limit 100 \"\n",
    "               ).df()\n",
    "\n",
    "\n",
    "repaysDbTimed.head(100)"
   ],
   "metadata": {
    "collapsed": false
   }
  },
  {
   "cell_type": "code",
   "execution_count": 20,
   "outputs": [
    {
     "name": "stdout",
     "output_type": "stream",
     "text": [
      "D:\\Dropbox\\Documents\\Edgecaser LLC\\Projects\\Olympus\\Econohmetrics\\gohmAsStablecoinCollateral/data/siloFinance_repays_piped.csv file saved, 42  records\n"
     ]
    }
   ],
   "source": [
    "path =file+'/siloFinance_repays.csv'\n",
    "repaysDbTimed.to_csv(path, index = False)\n",
    "\n",
    "path =file+'/siloFinance_repays_piped.csv'\n",
    "repaysDbTimed.to_csv(path, index = False, sep='|')\n",
    "print(path, 'file saved,', len(repaysDbTimed),' records')"
   ],
   "metadata": {
    "collapsed": false
   }
  },
  {
   "cell_type": "markdown",
   "source": [
    "********************************************************************************************\n",
    "********************************************************************************************\n",
    "SILO DEPOSITS"
   ],
   "metadata": {
    "collapsed": false
   }
  },
  {
   "cell_type": "code",
   "execution_count": 21,
   "outputs": [
    {
     "data": {
      "text/plain": "Empty DataFrame\nColumns: []\nIndex: []",
      "text/html": "<div>\n<style scoped>\n    .dataframe tbody tr th:only-of-type {\n        vertical-align: middle;\n    }\n\n    .dataframe tbody tr th {\n        vertical-align: top;\n    }\n\n    .dataframe thead th {\n        text-align: right;\n    }\n</style>\n<table border=\"1\" class=\"dataframe\">\n  <thead>\n    <tr style=\"text-align: right;\">\n      <th></th>\n    </tr>\n  </thead>\n  <tbody>\n  </tbody>\n</table>\n</div>"
     },
     "execution_count": 21,
     "metadata": {},
     "output_type": "execute_result"
    }
   ],
   "source": [
    "oldDepositsDb = pd.DataFrame()\n",
    "siloFileName = file+'/siloFinance_deposits.csv'\n",
    "try:\n",
    "    oldDepositsDb = pd.read_csv (siloFileName)\n",
    "except:\n",
    "    oldDepositsDb = pd.DataFrame()\n",
    "oldDepositsDb.head(10)"
   ],
   "metadata": {
    "collapsed": false
   }
  },
  {
   "cell_type": "code",
   "execution_count": 22,
   "outputs": [
    {
     "data": {
      "text/plain": "0"
     },
     "execution_count": 22,
     "metadata": {},
     "output_type": "execute_result"
    }
   ],
   "source": [
    "maxSiloDepositTimestamp = 0\n",
    "try:\n",
    "    maxSiloDepositTimestamp = (max(0,oldDepositsDb['transaction_timestamp'].max()))-5\n",
    "except:\n",
    "        maxSiloDepositTimestamp = 0\n",
    "maxSiloDepositTimestamp = int(maxSiloDepositTimestamp)\n",
    "maxSiloDepositTimestamp"
   ],
   "metadata": {
    "collapsed": false
   }
  },
  {
   "cell_type": "code",
   "execution_count": 23,
   "outputs": [
    {
     "name": "stdout",
     "output_type": "stream",
     "text": [
      "iterations:  0 Lines skipped:  0 records collected:  312  - latest recordID:  0x0558a1b5042de6895f694f913f5006a7080a1671de70677494c256b4db27f1f0   0x0558a1b5042de6895f694f913f5006a7080a1671de70677494c256b4db27f1f0-224  - deposits DB length:  312  - latest record from:  2023-02-22 04:26:35 1 days ago\n",
      "Done. Total Records collected:  312\n"
     ]
    }
   ],
   "source": [
    "#this tracks the ENTIRE list of events for depositing gOHM for lending\n",
    "depositTicker = 0\n",
    "depositslist = pd.DataFrame()\n",
    "depositsDb = pd.DataFrame()\n",
    "depositListLength = 1000\n",
    "datediff = 0\n",
    "now=0\n",
    "daysAgo=0\n",
    "daysLimit = 45\n",
    "exit = False\n",
    "while exit==False:\n",
    "    skipValue = (depositTicker)*(1000)\n",
    "    deposits = silo.Query.deposits(\n",
    "        orderBy='timestamp',\n",
    "        orderDirection='desc',\n",
    "        first=1000,\n",
    "        skip = skipValue,\n",
    "        where={ 'market': '0xc413dd03555f3eb29d834b482d386b2999dc2eb0' #gOHM market\n",
    "                ,'timestamp_gte': maxSiloDepositTimestamp\n",
    "                }\n",
    "\n",
    "\n",
    "    )\n",
    "\n",
    "    depositslist = sg.query_df([\n",
    "        deposits.id\n",
    "        ,deposits.hash\n",
    "        ,deposits.blockNumber\n",
    "        ,deposits.timestamp\n",
    "        ,deposits.account.id\n",
    "        ,deposits.market.id\n",
    "        ,deposits.market.protocol.id\n",
    "        ,deposits.market.rates.rate\n",
    "        ,deposits.market.rates.duration\n",
    "        ,deposits.market.rates.side\n",
    "        ,deposits.market.rates.type\n",
    "        ,deposits.market.rates.token.id\n",
    "        ,deposits.asset.name\n",
    "        ,deposits.asset.symbol\n",
    "        ,deposits.asset.decimals\n",
    "        ,deposits.asset.lastPriceUSD\n",
    "        ,deposits.amount\n",
    "        ,deposits.amountUSD\n",
    "    ])\n",
    "\n",
    "    #depositslist.sort_values(by=['deposits_timestamp'])\n",
    "\n",
    "    depositsDb=pd.concat([depositsDb, depositslist])\n",
    "    recordTimestamp1 = depositsDb.iat[depositTicker,3]\n",
    "    recordTimestamp = dt.datetime.fromtimestamp( recordTimestamp1 )\n",
    "    now = (int(dt.datetime.utcnow().timestamp()))\n",
    "    datediff=abs(int(now) - recordTimestamp1)\n",
    "    daysAgo = int(datediff/86400)\n",
    "    depositsDbLength = len(depositsDb)\n",
    "    depositListLength = len(depositslist)\n",
    "    recordID = depositsDb.iat[depositTicker,0]\n",
    "    deposit = depositsDb.iat[depositTicker,1]\n",
    "    print(\"iterations: \", depositTicker, \"Lines skipped: \",skipValue, \"records collected: \", depositListLength, \" - latest recordID: \",deposit, \" \", recordID , \" - deposits DB length: \", depositsDbLength, \" - latest record from: \", recordTimestamp, daysAgo,\"days ago\")\n",
    "    #print(\"iterations: \", depositTicker, \"records collected: \", depositListLength, \" - userdb length: \", depositsDbLength)\n",
    "    depositTicker = depositTicker+1\n",
    "    if daysAgo>daysLimit: exit =True\n",
    "    if depositListLength<1000: exit =True\n",
    "\n",
    "#depositsDb.sort_values(by=['deposits_timestamp'])\n",
    "\n",
    "depositsDb.columns = depositsDb.columns.str.replace(\"deposits\", \"transaction\")\n",
    "depositsDb['event']='deposit'\n",
    "depositsDb.drop_duplicates\n",
    "print(\"Done. Total Records collected: \", depositsDbLength)"
   ],
   "metadata": {
    "collapsed": false
   }
  },
  {
   "cell_type": "code",
   "execution_count": 24,
   "outputs": [
    {
     "data": {
      "text/plain": "                                       transaction_id  \\\n0   0x0558a1b5042de6895f694f913f5006a7080a1671de70...   \n1   0x0558a1b5042de6895f694f913f5006a7080a1671de70...   \n2   0x0558a1b5042de6895f694f913f5006a7080a1671de70...   \n3   0x0558a1b5042de6895f694f913f5006a7080a1671de70...   \n4   0x0558a1b5042de6895f694f913f5006a7080a1671de70...   \n..                                                ...   \n95  0x7c0686952bdf22de3c8ce87e732690a4365c23f25939...   \n96  0x669ce641c8adcf855d5ea4fedda6b52fc63795fd0dd6...   \n97  0x669ce641c8adcf855d5ea4fedda6b52fc63795fd0dd6...   \n98  0x669ce641c8adcf855d5ea4fedda6b52fc63795fd0dd6...   \n99  0x669ce641c8adcf855d5ea4fedda6b52fc63795fd0dd6...   \n\n                                     transaction_hash  \\\n0   0x0558a1b5042de6895f694f913f5006a7080a1671de70...   \n1   0x0558a1b5042de6895f694f913f5006a7080a1671de70...   \n2   0x0558a1b5042de6895f694f913f5006a7080a1671de70...   \n3   0x0558a1b5042de6895f694f913f5006a7080a1671de70...   \n4   0x0558a1b5042de6895f694f913f5006a7080a1671de70...   \n..                                                ...   \n95  0x7c0686952bdf22de3c8ce87e732690a4365c23f25939...   \n96  0x669ce641c8adcf855d5ea4fedda6b52fc63795fd0dd6...   \n97  0x669ce641c8adcf855d5ea4fedda6b52fc63795fd0dd6...   \n98  0x669ce641c8adcf855d5ea4fedda6b52fc63795fd0dd6...   \n99  0x669ce641c8adcf855d5ea4fedda6b52fc63795fd0dd6...   \n\n    transaction_blockNumber  transaction_timestamp  \\\n0                  16683975             1677068795   \n1                  16683975             1677068795   \n2                  16683975             1677068795   \n3                  16683975             1677068795   \n4                  16683975             1677068795   \n..                      ...                    ...   \n95                 16592784             1675964891   \n96                 16590634             1675938899   \n97                 16590634             1675938899   \n98                 16590634             1675938899   \n99                 16590634             1675938899   \n\n                        transaction_account_id  \\\n0   0x5656cb4721c21e1f5dcbe03db9026ac0203d6e4f   \n1   0x5656cb4721c21e1f5dcbe03db9026ac0203d6e4f   \n2   0x5656cb4721c21e1f5dcbe03db9026ac0203d6e4f   \n3   0x5656cb4721c21e1f5dcbe03db9026ac0203d6e4f   \n4   0x5656cb4721c21e1f5dcbe03db9026ac0203d6e4f   \n..                                         ...   \n95  0xc04f84a02cc65f14f4e8c982a7a467ee88c5311e   \n96  0x51bc3dd10a9ee4946f961038cf5d50057e49eb77   \n97  0x51bc3dd10a9ee4946f961038cf5d50057e49eb77   \n98  0x51bc3dd10a9ee4946f961038cf5d50057e49eb77   \n99  0x51bc3dd10a9ee4946f961038cf5d50057e49eb77   \n\n                         transaction_market_id  \\\n0   0xc413dd03555f3eb29d834b482d386b2999dc2eb0   \n1   0xc413dd03555f3eb29d834b482d386b2999dc2eb0   \n2   0xc413dd03555f3eb29d834b482d386b2999dc2eb0   \n3   0xc413dd03555f3eb29d834b482d386b2999dc2eb0   \n4   0xc413dd03555f3eb29d834b482d386b2999dc2eb0   \n..                                         ...   \n95  0xc413dd03555f3eb29d834b482d386b2999dc2eb0   \n96  0xc413dd03555f3eb29d834b482d386b2999dc2eb0   \n97  0xc413dd03555f3eb29d834b482d386b2999dc2eb0   \n98  0xc413dd03555f3eb29d834b482d386b2999dc2eb0   \n99  0xc413dd03555f3eb29d834b482d386b2999dc2eb0   \n\n                transaction_market_protocol_id  transaction_market_rates_rate  \\\n0   0xd998c35b7900b344bbbe6555cc11576942cf309d                       0.000000   \n1   0xd998c35b7900b344bbbe6555cc11576942cf309d                      11.352275   \n2   0xd998c35b7900b344bbbe6555cc11576942cf309d                       3.411870   \n3   0xd998c35b7900b344bbbe6555cc11576942cf309d                       0.000000   \n4   0xd998c35b7900b344bbbe6555cc11576942cf309d                       8.722231   \n..                                         ...                            ...   \n95  0xd998c35b7900b344bbbe6555cc11576942cf309d                       2.328203   \n96  0xd998c35b7900b344bbbe6555cc11576942cf309d                       0.000000   \n97  0xd998c35b7900b344bbbe6555cc11576942cf309d                      11.352275   \n98  0xd998c35b7900b344bbbe6555cc11576942cf309d                       3.411870   \n99  0xd998c35b7900b344bbbe6555cc11576942cf309d                       0.000000   \n\n   transaction_market_rates_duration transaction_market_rates_side  \\\n0                                NaN                      BORROWER   \n1                                NaN                      BORROWER   \n2                                NaN                      BORROWER   \n3                                NaN                        LENDER   \n4                                NaN                        LENDER   \n..                               ...                           ...   \n95                               NaN                        LENDER   \n96                               NaN                      BORROWER   \n97                               NaN                      BORROWER   \n98                               NaN                      BORROWER   \n99                               NaN                        LENDER   \n\n   transaction_market_rates_type           transaction_market_rates_token_id  \\\n0                       VARIABLE  0x0ab87046fbb341d058f17cbc4c1133f25a20a52f   \n1                       VARIABLE  0xc02aaa39b223fe8d0a0e5c4f27ead9083c756cc2   \n2                       VARIABLE  0xd7c9f0e536dc865ae858b0c0453fe76d13c3beac   \n3                       VARIABLE  0x0ab87046fbb341d058f17cbc4c1133f25a20a52f   \n4                       VARIABLE  0xc02aaa39b223fe8d0a0e5c4f27ead9083c756cc2   \n..                           ...                                         ...   \n95                      VARIABLE  0xd7c9f0e536dc865ae858b0c0453fe76d13c3beac   \n96                      VARIABLE  0x0ab87046fbb341d058f17cbc4c1133f25a20a52f   \n97                      VARIABLE  0xc02aaa39b223fe8d0a0e5c4f27ead9083c756cc2   \n98                      VARIABLE  0xd7c9f0e536dc865ae858b0c0453fe76d13c3beac   \n99                      VARIABLE  0x0ab87046fbb341d058f17cbc4c1133f25a20a52f   \n\n   transaction_asset_name transaction_asset_symbol  \\\n0          Governance OHM                     gOHM   \n1          Governance OHM                     gOHM   \n2          Governance OHM                     gOHM   \n3          Governance OHM                     gOHM   \n4          Governance OHM                     gOHM   \n..                    ...                      ...   \n95         XAI Stablecoin                      XAI   \n96         Governance OHM                     gOHM   \n97         Governance OHM                     gOHM   \n98         Governance OHM                     gOHM   \n99         Governance OHM                     gOHM   \n\n    transaction_asset_decimals  transaction_asset_lastPriceUSD  \\\n0                           18                     2735.431044   \n1                           18                     2735.431044   \n2                           18                     2735.431044   \n3                           18                     2735.431044   \n4                           18                     2735.431044   \n..                         ...                             ...   \n95                          18                        1.005034   \n96                          18                     2735.431044   \n97                          18                     2735.431044   \n98                          18                     2735.431044   \n99                          18                     2735.431044   \n\n         transaction_amount  transaction_amountUSD    event  \\\n0       3138940824379662236            8614.397300  deposit   \n1       3138940824379662236            8614.397300  deposit   \n2       3138940824379662236            8614.397300  deposit   \n3       3138940824379662236            8614.397300  deposit   \n4       3138940824379662236            8614.397300  deposit   \n..                      ...                    ...      ...   \n95  80385198564684193341455           80774.882334  deposit   \n96      9990000000000000000           26839.810526  deposit   \n97      9990000000000000000           26839.810526  deposit   \n98      9990000000000000000           26839.810526  deposit   \n99      9990000000000000000           26839.810526  deposit   \n\n              dateTime  \n0  2023-02-22 12:26:35  \n1  2023-02-22 12:26:35  \n2  2023-02-22 12:26:35  \n3  2023-02-22 12:26:35  \n4  2023-02-22 12:26:35  \n..                 ...  \n95 2023-02-09 17:48:11  \n96 2023-02-09 10:34:59  \n97 2023-02-09 10:34:59  \n98 2023-02-09 10:34:59  \n99 2023-02-09 10:34:59  \n\n[100 rows x 20 columns]",
      "text/html": "<div>\n<style scoped>\n    .dataframe tbody tr th:only-of-type {\n        vertical-align: middle;\n    }\n\n    .dataframe tbody tr th {\n        vertical-align: top;\n    }\n\n    .dataframe thead th {\n        text-align: right;\n    }\n</style>\n<table border=\"1\" class=\"dataframe\">\n  <thead>\n    <tr style=\"text-align: right;\">\n      <th></th>\n      <th>transaction_id</th>\n      <th>transaction_hash</th>\n      <th>transaction_blockNumber</th>\n      <th>transaction_timestamp</th>\n      <th>transaction_account_id</th>\n      <th>transaction_market_id</th>\n      <th>transaction_market_protocol_id</th>\n      <th>transaction_market_rates_rate</th>\n      <th>transaction_market_rates_duration</th>\n      <th>transaction_market_rates_side</th>\n      <th>transaction_market_rates_type</th>\n      <th>transaction_market_rates_token_id</th>\n      <th>transaction_asset_name</th>\n      <th>transaction_asset_symbol</th>\n      <th>transaction_asset_decimals</th>\n      <th>transaction_asset_lastPriceUSD</th>\n      <th>transaction_amount</th>\n      <th>transaction_amountUSD</th>\n      <th>event</th>\n      <th>dateTime</th>\n    </tr>\n  </thead>\n  <tbody>\n    <tr>\n      <th>0</th>\n      <td>0x0558a1b5042de6895f694f913f5006a7080a1671de70...</td>\n      <td>0x0558a1b5042de6895f694f913f5006a7080a1671de70...</td>\n      <td>16683975</td>\n      <td>1677068795</td>\n      <td>0x5656cb4721c21e1f5dcbe03db9026ac0203d6e4f</td>\n      <td>0xc413dd03555f3eb29d834b482d386b2999dc2eb0</td>\n      <td>0xd998c35b7900b344bbbe6555cc11576942cf309d</td>\n      <td>0.000000</td>\n      <td>NaN</td>\n      <td>BORROWER</td>\n      <td>VARIABLE</td>\n      <td>0x0ab87046fbb341d058f17cbc4c1133f25a20a52f</td>\n      <td>Governance OHM</td>\n      <td>gOHM</td>\n      <td>18</td>\n      <td>2735.431044</td>\n      <td>3138940824379662236</td>\n      <td>8614.397300</td>\n      <td>deposit</td>\n      <td>2023-02-22 12:26:35</td>\n    </tr>\n    <tr>\n      <th>1</th>\n      <td>0x0558a1b5042de6895f694f913f5006a7080a1671de70...</td>\n      <td>0x0558a1b5042de6895f694f913f5006a7080a1671de70...</td>\n      <td>16683975</td>\n      <td>1677068795</td>\n      <td>0x5656cb4721c21e1f5dcbe03db9026ac0203d6e4f</td>\n      <td>0xc413dd03555f3eb29d834b482d386b2999dc2eb0</td>\n      <td>0xd998c35b7900b344bbbe6555cc11576942cf309d</td>\n      <td>11.352275</td>\n      <td>NaN</td>\n      <td>BORROWER</td>\n      <td>VARIABLE</td>\n      <td>0xc02aaa39b223fe8d0a0e5c4f27ead9083c756cc2</td>\n      <td>Governance OHM</td>\n      <td>gOHM</td>\n      <td>18</td>\n      <td>2735.431044</td>\n      <td>3138940824379662236</td>\n      <td>8614.397300</td>\n      <td>deposit</td>\n      <td>2023-02-22 12:26:35</td>\n    </tr>\n    <tr>\n      <th>2</th>\n      <td>0x0558a1b5042de6895f694f913f5006a7080a1671de70...</td>\n      <td>0x0558a1b5042de6895f694f913f5006a7080a1671de70...</td>\n      <td>16683975</td>\n      <td>1677068795</td>\n      <td>0x5656cb4721c21e1f5dcbe03db9026ac0203d6e4f</td>\n      <td>0xc413dd03555f3eb29d834b482d386b2999dc2eb0</td>\n      <td>0xd998c35b7900b344bbbe6555cc11576942cf309d</td>\n      <td>3.411870</td>\n      <td>NaN</td>\n      <td>BORROWER</td>\n      <td>VARIABLE</td>\n      <td>0xd7c9f0e536dc865ae858b0c0453fe76d13c3beac</td>\n      <td>Governance OHM</td>\n      <td>gOHM</td>\n      <td>18</td>\n      <td>2735.431044</td>\n      <td>3138940824379662236</td>\n      <td>8614.397300</td>\n      <td>deposit</td>\n      <td>2023-02-22 12:26:35</td>\n    </tr>\n    <tr>\n      <th>3</th>\n      <td>0x0558a1b5042de6895f694f913f5006a7080a1671de70...</td>\n      <td>0x0558a1b5042de6895f694f913f5006a7080a1671de70...</td>\n      <td>16683975</td>\n      <td>1677068795</td>\n      <td>0x5656cb4721c21e1f5dcbe03db9026ac0203d6e4f</td>\n      <td>0xc413dd03555f3eb29d834b482d386b2999dc2eb0</td>\n      <td>0xd998c35b7900b344bbbe6555cc11576942cf309d</td>\n      <td>0.000000</td>\n      <td>NaN</td>\n      <td>LENDER</td>\n      <td>VARIABLE</td>\n      <td>0x0ab87046fbb341d058f17cbc4c1133f25a20a52f</td>\n      <td>Governance OHM</td>\n      <td>gOHM</td>\n      <td>18</td>\n      <td>2735.431044</td>\n      <td>3138940824379662236</td>\n      <td>8614.397300</td>\n      <td>deposit</td>\n      <td>2023-02-22 12:26:35</td>\n    </tr>\n    <tr>\n      <th>4</th>\n      <td>0x0558a1b5042de6895f694f913f5006a7080a1671de70...</td>\n      <td>0x0558a1b5042de6895f694f913f5006a7080a1671de70...</td>\n      <td>16683975</td>\n      <td>1677068795</td>\n      <td>0x5656cb4721c21e1f5dcbe03db9026ac0203d6e4f</td>\n      <td>0xc413dd03555f3eb29d834b482d386b2999dc2eb0</td>\n      <td>0xd998c35b7900b344bbbe6555cc11576942cf309d</td>\n      <td>8.722231</td>\n      <td>NaN</td>\n      <td>LENDER</td>\n      <td>VARIABLE</td>\n      <td>0xc02aaa39b223fe8d0a0e5c4f27ead9083c756cc2</td>\n      <td>Governance OHM</td>\n      <td>gOHM</td>\n      <td>18</td>\n      <td>2735.431044</td>\n      <td>3138940824379662236</td>\n      <td>8614.397300</td>\n      <td>deposit</td>\n      <td>2023-02-22 12:26:35</td>\n    </tr>\n    <tr>\n      <th>...</th>\n      <td>...</td>\n      <td>...</td>\n      <td>...</td>\n      <td>...</td>\n      <td>...</td>\n      <td>...</td>\n      <td>...</td>\n      <td>...</td>\n      <td>...</td>\n      <td>...</td>\n      <td>...</td>\n      <td>...</td>\n      <td>...</td>\n      <td>...</td>\n      <td>...</td>\n      <td>...</td>\n      <td>...</td>\n      <td>...</td>\n      <td>...</td>\n      <td>...</td>\n    </tr>\n    <tr>\n      <th>95</th>\n      <td>0x7c0686952bdf22de3c8ce87e732690a4365c23f25939...</td>\n      <td>0x7c0686952bdf22de3c8ce87e732690a4365c23f25939...</td>\n      <td>16592784</td>\n      <td>1675964891</td>\n      <td>0xc04f84a02cc65f14f4e8c982a7a467ee88c5311e</td>\n      <td>0xc413dd03555f3eb29d834b482d386b2999dc2eb0</td>\n      <td>0xd998c35b7900b344bbbe6555cc11576942cf309d</td>\n      <td>2.328203</td>\n      <td>NaN</td>\n      <td>LENDER</td>\n      <td>VARIABLE</td>\n      <td>0xd7c9f0e536dc865ae858b0c0453fe76d13c3beac</td>\n      <td>XAI Stablecoin</td>\n      <td>XAI</td>\n      <td>18</td>\n      <td>1.005034</td>\n      <td>80385198564684193341455</td>\n      <td>80774.882334</td>\n      <td>deposit</td>\n      <td>2023-02-09 17:48:11</td>\n    </tr>\n    <tr>\n      <th>96</th>\n      <td>0x669ce641c8adcf855d5ea4fedda6b52fc63795fd0dd6...</td>\n      <td>0x669ce641c8adcf855d5ea4fedda6b52fc63795fd0dd6...</td>\n      <td>16590634</td>\n      <td>1675938899</td>\n      <td>0x51bc3dd10a9ee4946f961038cf5d50057e49eb77</td>\n      <td>0xc413dd03555f3eb29d834b482d386b2999dc2eb0</td>\n      <td>0xd998c35b7900b344bbbe6555cc11576942cf309d</td>\n      <td>0.000000</td>\n      <td>NaN</td>\n      <td>BORROWER</td>\n      <td>VARIABLE</td>\n      <td>0x0ab87046fbb341d058f17cbc4c1133f25a20a52f</td>\n      <td>Governance OHM</td>\n      <td>gOHM</td>\n      <td>18</td>\n      <td>2735.431044</td>\n      <td>9990000000000000000</td>\n      <td>26839.810526</td>\n      <td>deposit</td>\n      <td>2023-02-09 10:34:59</td>\n    </tr>\n    <tr>\n      <th>97</th>\n      <td>0x669ce641c8adcf855d5ea4fedda6b52fc63795fd0dd6...</td>\n      <td>0x669ce641c8adcf855d5ea4fedda6b52fc63795fd0dd6...</td>\n      <td>16590634</td>\n      <td>1675938899</td>\n      <td>0x51bc3dd10a9ee4946f961038cf5d50057e49eb77</td>\n      <td>0xc413dd03555f3eb29d834b482d386b2999dc2eb0</td>\n      <td>0xd998c35b7900b344bbbe6555cc11576942cf309d</td>\n      <td>11.352275</td>\n      <td>NaN</td>\n      <td>BORROWER</td>\n      <td>VARIABLE</td>\n      <td>0xc02aaa39b223fe8d0a0e5c4f27ead9083c756cc2</td>\n      <td>Governance OHM</td>\n      <td>gOHM</td>\n      <td>18</td>\n      <td>2735.431044</td>\n      <td>9990000000000000000</td>\n      <td>26839.810526</td>\n      <td>deposit</td>\n      <td>2023-02-09 10:34:59</td>\n    </tr>\n    <tr>\n      <th>98</th>\n      <td>0x669ce641c8adcf855d5ea4fedda6b52fc63795fd0dd6...</td>\n      <td>0x669ce641c8adcf855d5ea4fedda6b52fc63795fd0dd6...</td>\n      <td>16590634</td>\n      <td>1675938899</td>\n      <td>0x51bc3dd10a9ee4946f961038cf5d50057e49eb77</td>\n      <td>0xc413dd03555f3eb29d834b482d386b2999dc2eb0</td>\n      <td>0xd998c35b7900b344bbbe6555cc11576942cf309d</td>\n      <td>3.411870</td>\n      <td>NaN</td>\n      <td>BORROWER</td>\n      <td>VARIABLE</td>\n      <td>0xd7c9f0e536dc865ae858b0c0453fe76d13c3beac</td>\n      <td>Governance OHM</td>\n      <td>gOHM</td>\n      <td>18</td>\n      <td>2735.431044</td>\n      <td>9990000000000000000</td>\n      <td>26839.810526</td>\n      <td>deposit</td>\n      <td>2023-02-09 10:34:59</td>\n    </tr>\n    <tr>\n      <th>99</th>\n      <td>0x669ce641c8adcf855d5ea4fedda6b52fc63795fd0dd6...</td>\n      <td>0x669ce641c8adcf855d5ea4fedda6b52fc63795fd0dd6...</td>\n      <td>16590634</td>\n      <td>1675938899</td>\n      <td>0x51bc3dd10a9ee4946f961038cf5d50057e49eb77</td>\n      <td>0xc413dd03555f3eb29d834b482d386b2999dc2eb0</td>\n      <td>0xd998c35b7900b344bbbe6555cc11576942cf309d</td>\n      <td>0.000000</td>\n      <td>NaN</td>\n      <td>LENDER</td>\n      <td>VARIABLE</td>\n      <td>0x0ab87046fbb341d058f17cbc4c1133f25a20a52f</td>\n      <td>Governance OHM</td>\n      <td>gOHM</td>\n      <td>18</td>\n      <td>2735.431044</td>\n      <td>9990000000000000000</td>\n      <td>26839.810526</td>\n      <td>deposit</td>\n      <td>2023-02-09 10:34:59</td>\n    </tr>\n  </tbody>\n</table>\n<p>100 rows × 20 columns</p>\n</div>"
     },
     "execution_count": 24,
     "metadata": {},
     "output_type": "execute_result"
    }
   ],
   "source": [
    "#I swear I will figure out synthetic fields, but until then...\n",
    "depositsDbTimed = db.query(\"select \"\n",
    "               \"    * \"\n",
    "                    \" ,to_timestamp(transaction_timestamp::int) dateTime \"\n",
    "               \"From depositsDb \"\n",
    "               #\"where lower(liquidityPools_name) like lower('%olympus%') \"\n",
    "                #    \"or lower(pairs_token1_symbol) like lower('%OHM%')  \"\n",
    "               #\" limit 100 \"\n",
    "               ).df()\n",
    "depositsDbTimed.head(100)"
   ],
   "metadata": {
    "collapsed": false
   }
  },
  {
   "cell_type": "markdown",
   "source": [
    "Note the multiple interest rates."
   ],
   "metadata": {
    "collapsed": false
   }
  },
  {
   "cell_type": "code",
   "execution_count": 25,
   "outputs": [
    {
     "data": {
      "text/plain": "                                       transaction_id  \\\n0   0x852e34f51e79d0b0695baaeffaccdd8c8406ba55e2c4...   \n1   0x852e34f51e79d0b0695baaeffaccdd8c8406ba55e2c4...   \n2   0x852e34f51e79d0b0695baaeffaccdd8c8406ba55e2c4...   \n3   0x852e34f51e79d0b0695baaeffaccdd8c8406ba55e2c4...   \n4   0x852e34f51e79d0b0695baaeffaccdd8c8406ba55e2c4...   \n..                                                ...   \n95  0x6336bd34049973ffbb71cafed76314b5175e35f2968b...   \n96  0x4d72e2a5ca35d7b76faecafddc8dce2368081f6c6a52...   \n97  0x4d72e2a5ca35d7b76faecafddc8dce2368081f6c6a52...   \n98  0x4d72e2a5ca35d7b76faecafddc8dce2368081f6c6a52...   \n99  0x4d72e2a5ca35d7b76faecafddc8dce2368081f6c6a52...   \n\n                                     transaction_hash  \\\n0   0x852e34f51e79d0b0695baaeffaccdd8c8406ba55e2c4...   \n1   0x852e34f51e79d0b0695baaeffaccdd8c8406ba55e2c4...   \n2   0x852e34f51e79d0b0695baaeffaccdd8c8406ba55e2c4...   \n3   0x852e34f51e79d0b0695baaeffaccdd8c8406ba55e2c4...   \n4   0x852e34f51e79d0b0695baaeffaccdd8c8406ba55e2c4...   \n..                                                ...   \n95  0x6336bd34049973ffbb71cafed76314b5175e35f2968b...   \n96  0x4d72e2a5ca35d7b76faecafddc8dce2368081f6c6a52...   \n97  0x4d72e2a5ca35d7b76faecafddc8dce2368081f6c6a52...   \n98  0x4d72e2a5ca35d7b76faecafddc8dce2368081f6c6a52...   \n99  0x4d72e2a5ca35d7b76faecafddc8dce2368081f6c6a52...   \n\n    transaction_blockNumber  transaction_timestamp  \\\n0                  16570091             1675690667   \n1                  16570091             1675690667   \n2                  16570091             1675690667   \n3                  16570091             1675690667   \n4                  16570091             1675690667   \n..                      ...                    ...   \n95                 16171813             1670886587   \n96                 16574706             1675746299   \n97                 16574706             1675746299   \n98                 16574706             1675746299   \n99                 16574706             1675746299   \n\n                        transaction_account_id  \\\n0   0xb98bc3e3b9ea8d86f6ee321737fa23710737f1af   \n1   0xb98bc3e3b9ea8d86f6ee321737fa23710737f1af   \n2   0xb98bc3e3b9ea8d86f6ee321737fa23710737f1af   \n3   0xb98bc3e3b9ea8d86f6ee321737fa23710737f1af   \n4   0xb98bc3e3b9ea8d86f6ee321737fa23710737f1af   \n..                                         ...   \n95  0x1ba67f30e25fc43863b50047d7fd4bd63b9c59ec   \n96  0x6487d336bdec94d4714a4d217b15aa5c7b9dfa99   \n97  0x6487d336bdec94d4714a4d217b15aa5c7b9dfa99   \n98  0x6487d336bdec94d4714a4d217b15aa5c7b9dfa99   \n99  0x6487d336bdec94d4714a4d217b15aa5c7b9dfa99   \n\n                         transaction_market_id  \\\n0   0xc413dd03555f3eb29d834b482d386b2999dc2eb0   \n1   0xc413dd03555f3eb29d834b482d386b2999dc2eb0   \n2   0xc413dd03555f3eb29d834b482d386b2999dc2eb0   \n3   0xc413dd03555f3eb29d834b482d386b2999dc2eb0   \n4   0xc413dd03555f3eb29d834b482d386b2999dc2eb0   \n..                                         ...   \n95  0xc413dd03555f3eb29d834b482d386b2999dc2eb0   \n96  0xc413dd03555f3eb29d834b482d386b2999dc2eb0   \n97  0xc413dd03555f3eb29d834b482d386b2999dc2eb0   \n98  0xc413dd03555f3eb29d834b482d386b2999dc2eb0   \n99  0xc413dd03555f3eb29d834b482d386b2999dc2eb0   \n\n                transaction_market_protocol_id  transaction_market_rates_rate  \\\n0   0xd998c35b7900b344bbbe6555cc11576942cf309d                       0.000000   \n1   0xd998c35b7900b344bbbe6555cc11576942cf309d                      11.352275   \n2   0xd998c35b7900b344bbbe6555cc11576942cf309d                       3.411870   \n3   0xd998c35b7900b344bbbe6555cc11576942cf309d                       0.000000   \n4   0xd998c35b7900b344bbbe6555cc11576942cf309d                       8.722231   \n..                                         ...                            ...   \n95  0xd998c35b7900b344bbbe6555cc11576942cf309d                       0.000000   \n96  0xd998c35b7900b344bbbe6555cc11576942cf309d                       0.000000   \n97  0xd998c35b7900b344bbbe6555cc11576942cf309d                      11.352275   \n98  0xd998c35b7900b344bbbe6555cc11576942cf309d                       3.411870   \n99  0xd998c35b7900b344bbbe6555cc11576942cf309d                       0.000000   \n\n   transaction_market_rates_duration transaction_market_rates_side  \\\n0                                NaN                      BORROWER   \n1                                NaN                      BORROWER   \n2                                NaN                      BORROWER   \n3                                NaN                        LENDER   \n4                                NaN                        LENDER   \n..                               ...                           ...   \n95                               NaN                        LENDER   \n96                               NaN                      BORROWER   \n97                               NaN                      BORROWER   \n98                               NaN                      BORROWER   \n99                               NaN                        LENDER   \n\n   transaction_market_rates_type           transaction_market_rates_token_id  \\\n0                       VARIABLE  0x0ab87046fbb341d058f17cbc4c1133f25a20a52f   \n1                       VARIABLE  0xc02aaa39b223fe8d0a0e5c4f27ead9083c756cc2   \n2                       VARIABLE  0xd7c9f0e536dc865ae858b0c0453fe76d13c3beac   \n3                       VARIABLE  0x0ab87046fbb341d058f17cbc4c1133f25a20a52f   \n4                       VARIABLE  0xc02aaa39b223fe8d0a0e5c4f27ead9083c756cc2   \n..                           ...                                         ...   \n95                      VARIABLE  0x0ab87046fbb341d058f17cbc4c1133f25a20a52f   \n96                      VARIABLE  0x0ab87046fbb341d058f17cbc4c1133f25a20a52f   \n97                      VARIABLE  0xc02aaa39b223fe8d0a0e5c4f27ead9083c756cc2   \n98                      VARIABLE  0xd7c9f0e536dc865ae858b0c0453fe76d13c3beac   \n99                      VARIABLE  0x0ab87046fbb341d058f17cbc4c1133f25a20a52f   \n\n   transaction_asset_name transaction_asset_symbol  \\\n0          XAI Stablecoin                      XAI   \n1          XAI Stablecoin                      XAI   \n2          XAI Stablecoin                      XAI   \n3          XAI Stablecoin                      XAI   \n4          XAI Stablecoin                      XAI   \n..                    ...                      ...   \n95         Governance OHM                     gOHM   \n96         Governance OHM                     gOHM   \n97         Governance OHM                     gOHM   \n98         Governance OHM                     gOHM   \n99         Governance OHM                     gOHM   \n\n    transaction_asset_decimals  transaction_asset_lastPriceUSD  \\\n0                           18                        1.005034   \n1                           18                        1.005034   \n2                           18                        1.005034   \n3                           18                        1.005034   \n4                           18                        1.005034   \n..                         ...                             ...   \n95                          18                     2735.431044   \n96                          18                     2735.431044   \n97                          18                     2735.431044   \n98                          18                     2735.431044   \n99                          18                     2735.431044   \n\n          transaction_amount  transaction_amountUSD    event  \\\n0   400000000000000000000000          398901.450853  deposit   \n1   400000000000000000000000          398901.450853  deposit   \n2   400000000000000000000000          398901.450853  deposit   \n3   400000000000000000000000          398901.450853  deposit   \n4   400000000000000000000000          398901.450853  deposit   \n..                       ...                    ...      ...   \n95       8000000000000000000           20080.083584  deposit   \n96       6076244450105671195           16073.922152  deposit   \n97       6076244450105671195           16073.922152  deposit   \n98       6076244450105671195           16073.922152  deposit   \n99       6076244450105671195           16073.922152  deposit   \n\n              dateTime  \n0  2023-02-06 13:37:47  \n1  2023-02-06 13:37:47  \n2  2023-02-06 13:37:47  \n3  2023-02-06 13:37:47  \n4  2023-02-06 13:37:47  \n..                 ...  \n95 2022-12-12 23:09:47  \n96 2023-02-07 05:04:59  \n97 2023-02-07 05:04:59  \n98 2023-02-07 05:04:59  \n99 2023-02-07 05:04:59  \n\n[100 rows x 20 columns]",
      "text/html": "<div>\n<style scoped>\n    .dataframe tbody tr th:only-of-type {\n        vertical-align: middle;\n    }\n\n    .dataframe tbody tr th {\n        vertical-align: top;\n    }\n\n    .dataframe thead th {\n        text-align: right;\n    }\n</style>\n<table border=\"1\" class=\"dataframe\">\n  <thead>\n    <tr style=\"text-align: right;\">\n      <th></th>\n      <th>transaction_id</th>\n      <th>transaction_hash</th>\n      <th>transaction_blockNumber</th>\n      <th>transaction_timestamp</th>\n      <th>transaction_account_id</th>\n      <th>transaction_market_id</th>\n      <th>transaction_market_protocol_id</th>\n      <th>transaction_market_rates_rate</th>\n      <th>transaction_market_rates_duration</th>\n      <th>transaction_market_rates_side</th>\n      <th>transaction_market_rates_type</th>\n      <th>transaction_market_rates_token_id</th>\n      <th>transaction_asset_name</th>\n      <th>transaction_asset_symbol</th>\n      <th>transaction_asset_decimals</th>\n      <th>transaction_asset_lastPriceUSD</th>\n      <th>transaction_amount</th>\n      <th>transaction_amountUSD</th>\n      <th>event</th>\n      <th>dateTime</th>\n    </tr>\n  </thead>\n  <tbody>\n    <tr>\n      <th>0</th>\n      <td>0x852e34f51e79d0b0695baaeffaccdd8c8406ba55e2c4...</td>\n      <td>0x852e34f51e79d0b0695baaeffaccdd8c8406ba55e2c4...</td>\n      <td>16570091</td>\n      <td>1675690667</td>\n      <td>0xb98bc3e3b9ea8d86f6ee321737fa23710737f1af</td>\n      <td>0xc413dd03555f3eb29d834b482d386b2999dc2eb0</td>\n      <td>0xd998c35b7900b344bbbe6555cc11576942cf309d</td>\n      <td>0.000000</td>\n      <td>NaN</td>\n      <td>BORROWER</td>\n      <td>VARIABLE</td>\n      <td>0x0ab87046fbb341d058f17cbc4c1133f25a20a52f</td>\n      <td>XAI Stablecoin</td>\n      <td>XAI</td>\n      <td>18</td>\n      <td>1.005034</td>\n      <td>400000000000000000000000</td>\n      <td>398901.450853</td>\n      <td>deposit</td>\n      <td>2023-02-06 13:37:47</td>\n    </tr>\n    <tr>\n      <th>1</th>\n      <td>0x852e34f51e79d0b0695baaeffaccdd8c8406ba55e2c4...</td>\n      <td>0x852e34f51e79d0b0695baaeffaccdd8c8406ba55e2c4...</td>\n      <td>16570091</td>\n      <td>1675690667</td>\n      <td>0xb98bc3e3b9ea8d86f6ee321737fa23710737f1af</td>\n      <td>0xc413dd03555f3eb29d834b482d386b2999dc2eb0</td>\n      <td>0xd998c35b7900b344bbbe6555cc11576942cf309d</td>\n      <td>11.352275</td>\n      <td>NaN</td>\n      <td>BORROWER</td>\n      <td>VARIABLE</td>\n      <td>0xc02aaa39b223fe8d0a0e5c4f27ead9083c756cc2</td>\n      <td>XAI Stablecoin</td>\n      <td>XAI</td>\n      <td>18</td>\n      <td>1.005034</td>\n      <td>400000000000000000000000</td>\n      <td>398901.450853</td>\n      <td>deposit</td>\n      <td>2023-02-06 13:37:47</td>\n    </tr>\n    <tr>\n      <th>2</th>\n      <td>0x852e34f51e79d0b0695baaeffaccdd8c8406ba55e2c4...</td>\n      <td>0x852e34f51e79d0b0695baaeffaccdd8c8406ba55e2c4...</td>\n      <td>16570091</td>\n      <td>1675690667</td>\n      <td>0xb98bc3e3b9ea8d86f6ee321737fa23710737f1af</td>\n      <td>0xc413dd03555f3eb29d834b482d386b2999dc2eb0</td>\n      <td>0xd998c35b7900b344bbbe6555cc11576942cf309d</td>\n      <td>3.411870</td>\n      <td>NaN</td>\n      <td>BORROWER</td>\n      <td>VARIABLE</td>\n      <td>0xd7c9f0e536dc865ae858b0c0453fe76d13c3beac</td>\n      <td>XAI Stablecoin</td>\n      <td>XAI</td>\n      <td>18</td>\n      <td>1.005034</td>\n      <td>400000000000000000000000</td>\n      <td>398901.450853</td>\n      <td>deposit</td>\n      <td>2023-02-06 13:37:47</td>\n    </tr>\n    <tr>\n      <th>3</th>\n      <td>0x852e34f51e79d0b0695baaeffaccdd8c8406ba55e2c4...</td>\n      <td>0x852e34f51e79d0b0695baaeffaccdd8c8406ba55e2c4...</td>\n      <td>16570091</td>\n      <td>1675690667</td>\n      <td>0xb98bc3e3b9ea8d86f6ee321737fa23710737f1af</td>\n      <td>0xc413dd03555f3eb29d834b482d386b2999dc2eb0</td>\n      <td>0xd998c35b7900b344bbbe6555cc11576942cf309d</td>\n      <td>0.000000</td>\n      <td>NaN</td>\n      <td>LENDER</td>\n      <td>VARIABLE</td>\n      <td>0x0ab87046fbb341d058f17cbc4c1133f25a20a52f</td>\n      <td>XAI Stablecoin</td>\n      <td>XAI</td>\n      <td>18</td>\n      <td>1.005034</td>\n      <td>400000000000000000000000</td>\n      <td>398901.450853</td>\n      <td>deposit</td>\n      <td>2023-02-06 13:37:47</td>\n    </tr>\n    <tr>\n      <th>4</th>\n      <td>0x852e34f51e79d0b0695baaeffaccdd8c8406ba55e2c4...</td>\n      <td>0x852e34f51e79d0b0695baaeffaccdd8c8406ba55e2c4...</td>\n      <td>16570091</td>\n      <td>1675690667</td>\n      <td>0xb98bc3e3b9ea8d86f6ee321737fa23710737f1af</td>\n      <td>0xc413dd03555f3eb29d834b482d386b2999dc2eb0</td>\n      <td>0xd998c35b7900b344bbbe6555cc11576942cf309d</td>\n      <td>8.722231</td>\n      <td>NaN</td>\n      <td>LENDER</td>\n      <td>VARIABLE</td>\n      <td>0xc02aaa39b223fe8d0a0e5c4f27ead9083c756cc2</td>\n      <td>XAI Stablecoin</td>\n      <td>XAI</td>\n      <td>18</td>\n      <td>1.005034</td>\n      <td>400000000000000000000000</td>\n      <td>398901.450853</td>\n      <td>deposit</td>\n      <td>2023-02-06 13:37:47</td>\n    </tr>\n    <tr>\n      <th>...</th>\n      <td>...</td>\n      <td>...</td>\n      <td>...</td>\n      <td>...</td>\n      <td>...</td>\n      <td>...</td>\n      <td>...</td>\n      <td>...</td>\n      <td>...</td>\n      <td>...</td>\n      <td>...</td>\n      <td>...</td>\n      <td>...</td>\n      <td>...</td>\n      <td>...</td>\n      <td>...</td>\n      <td>...</td>\n      <td>...</td>\n      <td>...</td>\n      <td>...</td>\n    </tr>\n    <tr>\n      <th>95</th>\n      <td>0x6336bd34049973ffbb71cafed76314b5175e35f2968b...</td>\n      <td>0x6336bd34049973ffbb71cafed76314b5175e35f2968b...</td>\n      <td>16171813</td>\n      <td>1670886587</td>\n      <td>0x1ba67f30e25fc43863b50047d7fd4bd63b9c59ec</td>\n      <td>0xc413dd03555f3eb29d834b482d386b2999dc2eb0</td>\n      <td>0xd998c35b7900b344bbbe6555cc11576942cf309d</td>\n      <td>0.000000</td>\n      <td>NaN</td>\n      <td>LENDER</td>\n      <td>VARIABLE</td>\n      <td>0x0ab87046fbb341d058f17cbc4c1133f25a20a52f</td>\n      <td>Governance OHM</td>\n      <td>gOHM</td>\n      <td>18</td>\n      <td>2735.431044</td>\n      <td>8000000000000000000</td>\n      <td>20080.083584</td>\n      <td>deposit</td>\n      <td>2022-12-12 23:09:47</td>\n    </tr>\n    <tr>\n      <th>96</th>\n      <td>0x4d72e2a5ca35d7b76faecafddc8dce2368081f6c6a52...</td>\n      <td>0x4d72e2a5ca35d7b76faecafddc8dce2368081f6c6a52...</td>\n      <td>16574706</td>\n      <td>1675746299</td>\n      <td>0x6487d336bdec94d4714a4d217b15aa5c7b9dfa99</td>\n      <td>0xc413dd03555f3eb29d834b482d386b2999dc2eb0</td>\n      <td>0xd998c35b7900b344bbbe6555cc11576942cf309d</td>\n      <td>0.000000</td>\n      <td>NaN</td>\n      <td>BORROWER</td>\n      <td>VARIABLE</td>\n      <td>0x0ab87046fbb341d058f17cbc4c1133f25a20a52f</td>\n      <td>Governance OHM</td>\n      <td>gOHM</td>\n      <td>18</td>\n      <td>2735.431044</td>\n      <td>6076244450105671195</td>\n      <td>16073.922152</td>\n      <td>deposit</td>\n      <td>2023-02-07 05:04:59</td>\n    </tr>\n    <tr>\n      <th>97</th>\n      <td>0x4d72e2a5ca35d7b76faecafddc8dce2368081f6c6a52...</td>\n      <td>0x4d72e2a5ca35d7b76faecafddc8dce2368081f6c6a52...</td>\n      <td>16574706</td>\n      <td>1675746299</td>\n      <td>0x6487d336bdec94d4714a4d217b15aa5c7b9dfa99</td>\n      <td>0xc413dd03555f3eb29d834b482d386b2999dc2eb0</td>\n      <td>0xd998c35b7900b344bbbe6555cc11576942cf309d</td>\n      <td>11.352275</td>\n      <td>NaN</td>\n      <td>BORROWER</td>\n      <td>VARIABLE</td>\n      <td>0xc02aaa39b223fe8d0a0e5c4f27ead9083c756cc2</td>\n      <td>Governance OHM</td>\n      <td>gOHM</td>\n      <td>18</td>\n      <td>2735.431044</td>\n      <td>6076244450105671195</td>\n      <td>16073.922152</td>\n      <td>deposit</td>\n      <td>2023-02-07 05:04:59</td>\n    </tr>\n    <tr>\n      <th>98</th>\n      <td>0x4d72e2a5ca35d7b76faecafddc8dce2368081f6c6a52...</td>\n      <td>0x4d72e2a5ca35d7b76faecafddc8dce2368081f6c6a52...</td>\n      <td>16574706</td>\n      <td>1675746299</td>\n      <td>0x6487d336bdec94d4714a4d217b15aa5c7b9dfa99</td>\n      <td>0xc413dd03555f3eb29d834b482d386b2999dc2eb0</td>\n      <td>0xd998c35b7900b344bbbe6555cc11576942cf309d</td>\n      <td>3.411870</td>\n      <td>NaN</td>\n      <td>BORROWER</td>\n      <td>VARIABLE</td>\n      <td>0xd7c9f0e536dc865ae858b0c0453fe76d13c3beac</td>\n      <td>Governance OHM</td>\n      <td>gOHM</td>\n      <td>18</td>\n      <td>2735.431044</td>\n      <td>6076244450105671195</td>\n      <td>16073.922152</td>\n      <td>deposit</td>\n      <td>2023-02-07 05:04:59</td>\n    </tr>\n    <tr>\n      <th>99</th>\n      <td>0x4d72e2a5ca35d7b76faecafddc8dce2368081f6c6a52...</td>\n      <td>0x4d72e2a5ca35d7b76faecafddc8dce2368081f6c6a52...</td>\n      <td>16574706</td>\n      <td>1675746299</td>\n      <td>0x6487d336bdec94d4714a4d217b15aa5c7b9dfa99</td>\n      <td>0xc413dd03555f3eb29d834b482d386b2999dc2eb0</td>\n      <td>0xd998c35b7900b344bbbe6555cc11576942cf309d</td>\n      <td>0.000000</td>\n      <td>NaN</td>\n      <td>LENDER</td>\n      <td>VARIABLE</td>\n      <td>0x0ab87046fbb341d058f17cbc4c1133f25a20a52f</td>\n      <td>Governance OHM</td>\n      <td>gOHM</td>\n      <td>18</td>\n      <td>2735.431044</td>\n      <td>6076244450105671195</td>\n      <td>16073.922152</td>\n      <td>deposit</td>\n      <td>2023-02-07 05:04:59</td>\n    </tr>\n  </tbody>\n</table>\n<p>100 rows × 20 columns</p>\n</div>"
     },
     "execution_count": 25,
     "metadata": {},
     "output_type": "execute_result"
    }
   ],
   "source": [
    "depositsDbTimed = pd.concat([oldDepositsDb,depositsDbTimed]).drop_duplicates().reset_index(drop=True)\n",
    "depositsDbTimed.sort_values(['transaction_id','transaction_market_rates_rate'])\n",
    "depositsDbTimed.drop_duplicates(keep='first' )\n",
    "\n",
    "depositsDbTimed = db.query(\"select \"\n",
    "               \"    * \"\n",
    "               \"From depositsDbTimed \"\n",
    "                         \"group by 1,2,3,4,5,6,7,8,9,10,11,12,13,14,15,16,17,18,19,20 \"\n",
    "                      \"order by transaction_amountUSD desc \"\n",
    "               #\"where lower(liquidityPools_name) like lower('%olympus%') \"\n",
    "                #    \"or lower(pairs_token1_symbol) like lower('%OHM%')  \"\n",
    "               #\" limit 100 \"\n",
    "               ).df()\n",
    "\n",
    "\n",
    "depositsDbTimed.head(100)"
   ],
   "metadata": {
    "collapsed": false
   }
  },
  {
   "cell_type": "code",
   "execution_count": 26,
   "outputs": [
    {
     "name": "stdout",
     "output_type": "stream",
     "text": [
      "D:\\Dropbox\\Documents\\Edgecaser LLC\\Projects\\Olympus\\Econohmetrics\\gohmAsStablecoinCollateral/data/siloFinance_deposits_piped.csv file saved, 180  records\n"
     ]
    }
   ],
   "source": [
    "path =file+'/siloFinance_deposits.csv'\n",
    "depositsDbTimed.to_csv(path, index = False)\n",
    "\n",
    "path =file+'/siloFinance_deposits_piped.csv'\n",
    "depositsDbTimed.to_csv(path, index = False, sep='|')\n",
    "\n",
    "print(path, 'file saved,', len(borrowsDbTimed),' records')"
   ],
   "metadata": {
    "collapsed": false
   }
  },
  {
   "cell_type": "code",
   "execution_count": 27,
   "outputs": [
    {
     "name": "stdout",
     "output_type": "stream",
     "text": [
      "depoosit rows  312 , borrow rows  180 , repay rows  42 . Expected rows:  534\n"
     ]
    }
   ],
   "source": [
    "print(\"depoosit rows \",len(depositsDbTimed) ,\", borrow rows \", len(borrowsDbTimed),\", repay rows \", len(repaysDbTimed), \". Expected rows: \",(len(depositsDbTimed)+len(borrowsDbTimed))+len(repaysDbDbTimed) )"
   ],
   "metadata": {
    "collapsed": false
   }
  },
  {
   "cell_type": "code",
   "execution_count": 28,
   "outputs": [
    {
     "data": {
      "text/plain": "                                      transaction_id  \\\n0  0x852e34f51e79d0b0695baaeffaccdd8c8406ba55e2c4...   \n1  0x852e34f51e79d0b0695baaeffaccdd8c8406ba55e2c4...   \n2  0x852e34f51e79d0b0695baaeffaccdd8c8406ba55e2c4...   \n3  0x852e34f51e79d0b0695baaeffaccdd8c8406ba55e2c4...   \n4  0x852e34f51e79d0b0695baaeffaccdd8c8406ba55e2c4...   \n5  0x852e34f51e79d0b0695baaeffaccdd8c8406ba55e2c4...   \n6  0x204aee0831212791916d6ed3a2c24b5ac2a474743713...   \n7  0x204aee0831212791916d6ed3a2c24b5ac2a474743713...   \n8  0x204aee0831212791916d6ed3a2c24b5ac2a474743713...   \n9  0x204aee0831212791916d6ed3a2c24b5ac2a474743713...   \n\n                                    transaction_hash  transaction_blockNumber  \\\n0  0x852e34f51e79d0b0695baaeffaccdd8c8406ba55e2c4...                 16570091   \n1  0x852e34f51e79d0b0695baaeffaccdd8c8406ba55e2c4...                 16570091   \n2  0x852e34f51e79d0b0695baaeffaccdd8c8406ba55e2c4...                 16570091   \n3  0x852e34f51e79d0b0695baaeffaccdd8c8406ba55e2c4...                 16570091   \n4  0x852e34f51e79d0b0695baaeffaccdd8c8406ba55e2c4...                 16570091   \n5  0x852e34f51e79d0b0695baaeffaccdd8c8406ba55e2c4...                 16570091   \n6  0x204aee0831212791916d6ed3a2c24b5ac2a474743713...                 16589368   \n7  0x204aee0831212791916d6ed3a2c24b5ac2a474743713...                 16589368   \n8  0x204aee0831212791916d6ed3a2c24b5ac2a474743713...                 16589368   \n9  0x204aee0831212791916d6ed3a2c24b5ac2a474743713...                 16589368   \n\n   transaction_timestamp                      transaction_account_id  \\\n0             1675690667  0xb98bc3e3b9ea8d86f6ee321737fa23710737f1af   \n1             1675690667  0xb98bc3e3b9ea8d86f6ee321737fa23710737f1af   \n2             1675690667  0xb98bc3e3b9ea8d86f6ee321737fa23710737f1af   \n3             1675690667  0xb98bc3e3b9ea8d86f6ee321737fa23710737f1af   \n4             1675690667  0xb98bc3e3b9ea8d86f6ee321737fa23710737f1af   \n5             1675690667  0xb98bc3e3b9ea8d86f6ee321737fa23710737f1af   \n6             1675923587  0xb0399dac8f4d4100b49b2a7b3873481114229d18   \n7             1675923587  0xb0399dac8f4d4100b49b2a7b3873481114229d18   \n8             1675923587  0xb0399dac8f4d4100b49b2a7b3873481114229d18   \n9             1675923587  0xb0399dac8f4d4100b49b2a7b3873481114229d18   \n\n                        transaction_market_id  \\\n0  0xc413dd03555f3eb29d834b482d386b2999dc2eb0   \n1  0xc413dd03555f3eb29d834b482d386b2999dc2eb0   \n2  0xc413dd03555f3eb29d834b482d386b2999dc2eb0   \n3  0xc413dd03555f3eb29d834b482d386b2999dc2eb0   \n4  0xc413dd03555f3eb29d834b482d386b2999dc2eb0   \n5  0xc413dd03555f3eb29d834b482d386b2999dc2eb0   \n6  0xc413dd03555f3eb29d834b482d386b2999dc2eb0   \n7  0xc413dd03555f3eb29d834b482d386b2999dc2eb0   \n8  0xc413dd03555f3eb29d834b482d386b2999dc2eb0   \n9  0xc413dd03555f3eb29d834b482d386b2999dc2eb0   \n\n               transaction_market_protocol_id  transaction_market_rates_rate  \\\n0  0xd998c35b7900b344bbbe6555cc11576942cf309d                       0.000000   \n1  0xd998c35b7900b344bbbe6555cc11576942cf309d                      11.352275   \n2  0xd998c35b7900b344bbbe6555cc11576942cf309d                       3.411870   \n3  0xd998c35b7900b344bbbe6555cc11576942cf309d                       0.000000   \n4  0xd998c35b7900b344bbbe6555cc11576942cf309d                       8.722231   \n5  0xd998c35b7900b344bbbe6555cc11576942cf309d                       2.328203   \n6  0xd998c35b7900b344bbbe6555cc11576942cf309d                       0.000000   \n7  0xd998c35b7900b344bbbe6555cc11576942cf309d                      11.352275   \n8  0xd998c35b7900b344bbbe6555cc11576942cf309d                       3.411870   \n9  0xd998c35b7900b344bbbe6555cc11576942cf309d                       0.000000   \n\n  transaction_market_rates_duration transaction_market_rates_side  \\\n0                               NaN                      BORROWER   \n1                               NaN                      BORROWER   \n2                               NaN                      BORROWER   \n3                               NaN                        LENDER   \n4                               NaN                        LENDER   \n5                               NaN                        LENDER   \n6                               NaN                      BORROWER   \n7                               NaN                      BORROWER   \n8                               NaN                      BORROWER   \n9                               NaN                        LENDER   \n\n  transaction_market_rates_type           transaction_market_rates_token_id  \\\n0                      VARIABLE  0x0ab87046fbb341d058f17cbc4c1133f25a20a52f   \n1                      VARIABLE  0xc02aaa39b223fe8d0a0e5c4f27ead9083c756cc2   \n2                      VARIABLE  0xd7c9f0e536dc865ae858b0c0453fe76d13c3beac   \n3                      VARIABLE  0x0ab87046fbb341d058f17cbc4c1133f25a20a52f   \n4                      VARIABLE  0xc02aaa39b223fe8d0a0e5c4f27ead9083c756cc2   \n5                      VARIABLE  0xd7c9f0e536dc865ae858b0c0453fe76d13c3beac   \n6                      VARIABLE  0x0ab87046fbb341d058f17cbc4c1133f25a20a52f   \n7                      VARIABLE  0xc02aaa39b223fe8d0a0e5c4f27ead9083c756cc2   \n8                      VARIABLE  0xd7c9f0e536dc865ae858b0c0453fe76d13c3beac   \n9                      VARIABLE  0x0ab87046fbb341d058f17cbc4c1133f25a20a52f   \n\n  transaction_asset_name transaction_asset_symbol  transaction_asset_decimals  \\\n0         XAI Stablecoin                      XAI                          18   \n1         XAI Stablecoin                      XAI                          18   \n2         XAI Stablecoin                      XAI                          18   \n3         XAI Stablecoin                      XAI                          18   \n4         XAI Stablecoin                      XAI                          18   \n5         XAI Stablecoin                      XAI                          18   \n6         Governance OHM                     gOHM                          18   \n7         Governance OHM                     gOHM                          18   \n8         Governance OHM                     gOHM                          18   \n9         Governance OHM                     gOHM                          18   \n\n   transaction_asset_lastPriceUSD        transaction_amount  \\\n0                        1.005034  400000000000000000000000   \n1                        1.005034  400000000000000000000000   \n2                        1.005034  400000000000000000000000   \n3                        1.005034  400000000000000000000000   \n4                        1.005034  400000000000000000000000   \n5                        1.005034  400000000000000000000000   \n6                     2735.431044     119000000000000000000   \n7                     2735.431044     119000000000000000000   \n8                     2735.431044     119000000000000000000   \n9                     2735.431044     119000000000000000000   \n\n   transaction_amountUSD    event            dateTime  \n0          398901.450853  deposit 2023-02-06 13:37:47  \n1          398901.450853  deposit 2023-02-06 13:37:47  \n2          398901.450853  deposit 2023-02-06 13:37:47  \n3          398901.450853  deposit 2023-02-06 13:37:47  \n4          398901.450853  deposit 2023-02-06 13:37:47  \n5          398901.450853  deposit 2023-02-06 13:37:47  \n6          315110.337935  deposit 2023-02-09 06:19:47  \n7          315110.337935  deposit 2023-02-09 06:19:47  \n8          315110.337935  deposit 2023-02-09 06:19:47  \n9          315110.337935  deposit 2023-02-09 06:19:47  ",
      "text/html": "<div>\n<style scoped>\n    .dataframe tbody tr th:only-of-type {\n        vertical-align: middle;\n    }\n\n    .dataframe tbody tr th {\n        vertical-align: top;\n    }\n\n    .dataframe thead th {\n        text-align: right;\n    }\n</style>\n<table border=\"1\" class=\"dataframe\">\n  <thead>\n    <tr style=\"text-align: right;\">\n      <th></th>\n      <th>transaction_id</th>\n      <th>transaction_hash</th>\n      <th>transaction_blockNumber</th>\n      <th>transaction_timestamp</th>\n      <th>transaction_account_id</th>\n      <th>transaction_market_id</th>\n      <th>transaction_market_protocol_id</th>\n      <th>transaction_market_rates_rate</th>\n      <th>transaction_market_rates_duration</th>\n      <th>transaction_market_rates_side</th>\n      <th>transaction_market_rates_type</th>\n      <th>transaction_market_rates_token_id</th>\n      <th>transaction_asset_name</th>\n      <th>transaction_asset_symbol</th>\n      <th>transaction_asset_decimals</th>\n      <th>transaction_asset_lastPriceUSD</th>\n      <th>transaction_amount</th>\n      <th>transaction_amountUSD</th>\n      <th>event</th>\n      <th>dateTime</th>\n    </tr>\n  </thead>\n  <tbody>\n    <tr>\n      <th>0</th>\n      <td>0x852e34f51e79d0b0695baaeffaccdd8c8406ba55e2c4...</td>\n      <td>0x852e34f51e79d0b0695baaeffaccdd8c8406ba55e2c4...</td>\n      <td>16570091</td>\n      <td>1675690667</td>\n      <td>0xb98bc3e3b9ea8d86f6ee321737fa23710737f1af</td>\n      <td>0xc413dd03555f3eb29d834b482d386b2999dc2eb0</td>\n      <td>0xd998c35b7900b344bbbe6555cc11576942cf309d</td>\n      <td>0.000000</td>\n      <td>NaN</td>\n      <td>BORROWER</td>\n      <td>VARIABLE</td>\n      <td>0x0ab87046fbb341d058f17cbc4c1133f25a20a52f</td>\n      <td>XAI Stablecoin</td>\n      <td>XAI</td>\n      <td>18</td>\n      <td>1.005034</td>\n      <td>400000000000000000000000</td>\n      <td>398901.450853</td>\n      <td>deposit</td>\n      <td>2023-02-06 13:37:47</td>\n    </tr>\n    <tr>\n      <th>1</th>\n      <td>0x852e34f51e79d0b0695baaeffaccdd8c8406ba55e2c4...</td>\n      <td>0x852e34f51e79d0b0695baaeffaccdd8c8406ba55e2c4...</td>\n      <td>16570091</td>\n      <td>1675690667</td>\n      <td>0xb98bc3e3b9ea8d86f6ee321737fa23710737f1af</td>\n      <td>0xc413dd03555f3eb29d834b482d386b2999dc2eb0</td>\n      <td>0xd998c35b7900b344bbbe6555cc11576942cf309d</td>\n      <td>11.352275</td>\n      <td>NaN</td>\n      <td>BORROWER</td>\n      <td>VARIABLE</td>\n      <td>0xc02aaa39b223fe8d0a0e5c4f27ead9083c756cc2</td>\n      <td>XAI Stablecoin</td>\n      <td>XAI</td>\n      <td>18</td>\n      <td>1.005034</td>\n      <td>400000000000000000000000</td>\n      <td>398901.450853</td>\n      <td>deposit</td>\n      <td>2023-02-06 13:37:47</td>\n    </tr>\n    <tr>\n      <th>2</th>\n      <td>0x852e34f51e79d0b0695baaeffaccdd8c8406ba55e2c4...</td>\n      <td>0x852e34f51e79d0b0695baaeffaccdd8c8406ba55e2c4...</td>\n      <td>16570091</td>\n      <td>1675690667</td>\n      <td>0xb98bc3e3b9ea8d86f6ee321737fa23710737f1af</td>\n      <td>0xc413dd03555f3eb29d834b482d386b2999dc2eb0</td>\n      <td>0xd998c35b7900b344bbbe6555cc11576942cf309d</td>\n      <td>3.411870</td>\n      <td>NaN</td>\n      <td>BORROWER</td>\n      <td>VARIABLE</td>\n      <td>0xd7c9f0e536dc865ae858b0c0453fe76d13c3beac</td>\n      <td>XAI Stablecoin</td>\n      <td>XAI</td>\n      <td>18</td>\n      <td>1.005034</td>\n      <td>400000000000000000000000</td>\n      <td>398901.450853</td>\n      <td>deposit</td>\n      <td>2023-02-06 13:37:47</td>\n    </tr>\n    <tr>\n      <th>3</th>\n      <td>0x852e34f51e79d0b0695baaeffaccdd8c8406ba55e2c4...</td>\n      <td>0x852e34f51e79d0b0695baaeffaccdd8c8406ba55e2c4...</td>\n      <td>16570091</td>\n      <td>1675690667</td>\n      <td>0xb98bc3e3b9ea8d86f6ee321737fa23710737f1af</td>\n      <td>0xc413dd03555f3eb29d834b482d386b2999dc2eb0</td>\n      <td>0xd998c35b7900b344bbbe6555cc11576942cf309d</td>\n      <td>0.000000</td>\n      <td>NaN</td>\n      <td>LENDER</td>\n      <td>VARIABLE</td>\n      <td>0x0ab87046fbb341d058f17cbc4c1133f25a20a52f</td>\n      <td>XAI Stablecoin</td>\n      <td>XAI</td>\n      <td>18</td>\n      <td>1.005034</td>\n      <td>400000000000000000000000</td>\n      <td>398901.450853</td>\n      <td>deposit</td>\n      <td>2023-02-06 13:37:47</td>\n    </tr>\n    <tr>\n      <th>4</th>\n      <td>0x852e34f51e79d0b0695baaeffaccdd8c8406ba55e2c4...</td>\n      <td>0x852e34f51e79d0b0695baaeffaccdd8c8406ba55e2c4...</td>\n      <td>16570091</td>\n      <td>1675690667</td>\n      <td>0xb98bc3e3b9ea8d86f6ee321737fa23710737f1af</td>\n      <td>0xc413dd03555f3eb29d834b482d386b2999dc2eb0</td>\n      <td>0xd998c35b7900b344bbbe6555cc11576942cf309d</td>\n      <td>8.722231</td>\n      <td>NaN</td>\n      <td>LENDER</td>\n      <td>VARIABLE</td>\n      <td>0xc02aaa39b223fe8d0a0e5c4f27ead9083c756cc2</td>\n      <td>XAI Stablecoin</td>\n      <td>XAI</td>\n      <td>18</td>\n      <td>1.005034</td>\n      <td>400000000000000000000000</td>\n      <td>398901.450853</td>\n      <td>deposit</td>\n      <td>2023-02-06 13:37:47</td>\n    </tr>\n    <tr>\n      <th>5</th>\n      <td>0x852e34f51e79d0b0695baaeffaccdd8c8406ba55e2c4...</td>\n      <td>0x852e34f51e79d0b0695baaeffaccdd8c8406ba55e2c4...</td>\n      <td>16570091</td>\n      <td>1675690667</td>\n      <td>0xb98bc3e3b9ea8d86f6ee321737fa23710737f1af</td>\n      <td>0xc413dd03555f3eb29d834b482d386b2999dc2eb0</td>\n      <td>0xd998c35b7900b344bbbe6555cc11576942cf309d</td>\n      <td>2.328203</td>\n      <td>NaN</td>\n      <td>LENDER</td>\n      <td>VARIABLE</td>\n      <td>0xd7c9f0e536dc865ae858b0c0453fe76d13c3beac</td>\n      <td>XAI Stablecoin</td>\n      <td>XAI</td>\n      <td>18</td>\n      <td>1.005034</td>\n      <td>400000000000000000000000</td>\n      <td>398901.450853</td>\n      <td>deposit</td>\n      <td>2023-02-06 13:37:47</td>\n    </tr>\n    <tr>\n      <th>6</th>\n      <td>0x204aee0831212791916d6ed3a2c24b5ac2a474743713...</td>\n      <td>0x204aee0831212791916d6ed3a2c24b5ac2a474743713...</td>\n      <td>16589368</td>\n      <td>1675923587</td>\n      <td>0xb0399dac8f4d4100b49b2a7b3873481114229d18</td>\n      <td>0xc413dd03555f3eb29d834b482d386b2999dc2eb0</td>\n      <td>0xd998c35b7900b344bbbe6555cc11576942cf309d</td>\n      <td>0.000000</td>\n      <td>NaN</td>\n      <td>BORROWER</td>\n      <td>VARIABLE</td>\n      <td>0x0ab87046fbb341d058f17cbc4c1133f25a20a52f</td>\n      <td>Governance OHM</td>\n      <td>gOHM</td>\n      <td>18</td>\n      <td>2735.431044</td>\n      <td>119000000000000000000</td>\n      <td>315110.337935</td>\n      <td>deposit</td>\n      <td>2023-02-09 06:19:47</td>\n    </tr>\n    <tr>\n      <th>7</th>\n      <td>0x204aee0831212791916d6ed3a2c24b5ac2a474743713...</td>\n      <td>0x204aee0831212791916d6ed3a2c24b5ac2a474743713...</td>\n      <td>16589368</td>\n      <td>1675923587</td>\n      <td>0xb0399dac8f4d4100b49b2a7b3873481114229d18</td>\n      <td>0xc413dd03555f3eb29d834b482d386b2999dc2eb0</td>\n      <td>0xd998c35b7900b344bbbe6555cc11576942cf309d</td>\n      <td>11.352275</td>\n      <td>NaN</td>\n      <td>BORROWER</td>\n      <td>VARIABLE</td>\n      <td>0xc02aaa39b223fe8d0a0e5c4f27ead9083c756cc2</td>\n      <td>Governance OHM</td>\n      <td>gOHM</td>\n      <td>18</td>\n      <td>2735.431044</td>\n      <td>119000000000000000000</td>\n      <td>315110.337935</td>\n      <td>deposit</td>\n      <td>2023-02-09 06:19:47</td>\n    </tr>\n    <tr>\n      <th>8</th>\n      <td>0x204aee0831212791916d6ed3a2c24b5ac2a474743713...</td>\n      <td>0x204aee0831212791916d6ed3a2c24b5ac2a474743713...</td>\n      <td>16589368</td>\n      <td>1675923587</td>\n      <td>0xb0399dac8f4d4100b49b2a7b3873481114229d18</td>\n      <td>0xc413dd03555f3eb29d834b482d386b2999dc2eb0</td>\n      <td>0xd998c35b7900b344bbbe6555cc11576942cf309d</td>\n      <td>3.411870</td>\n      <td>NaN</td>\n      <td>BORROWER</td>\n      <td>VARIABLE</td>\n      <td>0xd7c9f0e536dc865ae858b0c0453fe76d13c3beac</td>\n      <td>Governance OHM</td>\n      <td>gOHM</td>\n      <td>18</td>\n      <td>2735.431044</td>\n      <td>119000000000000000000</td>\n      <td>315110.337935</td>\n      <td>deposit</td>\n      <td>2023-02-09 06:19:47</td>\n    </tr>\n    <tr>\n      <th>9</th>\n      <td>0x204aee0831212791916d6ed3a2c24b5ac2a474743713...</td>\n      <td>0x204aee0831212791916d6ed3a2c24b5ac2a474743713...</td>\n      <td>16589368</td>\n      <td>1675923587</td>\n      <td>0xb0399dac8f4d4100b49b2a7b3873481114229d18</td>\n      <td>0xc413dd03555f3eb29d834b482d386b2999dc2eb0</td>\n      <td>0xd998c35b7900b344bbbe6555cc11576942cf309d</td>\n      <td>0.000000</td>\n      <td>NaN</td>\n      <td>LENDER</td>\n      <td>VARIABLE</td>\n      <td>0x0ab87046fbb341d058f17cbc4c1133f25a20a52f</td>\n      <td>Governance OHM</td>\n      <td>gOHM</td>\n      <td>18</td>\n      <td>2735.431044</td>\n      <td>119000000000000000000</td>\n      <td>315110.337935</td>\n      <td>deposit</td>\n      <td>2023-02-09 06:19:47</td>\n    </tr>\n  </tbody>\n</table>\n</div>"
     },
     "execution_count": 28,
     "metadata": {},
     "output_type": "execute_result"
    }
   ],
   "source": [
    "siloEventsDb = pd.DataFrame()\n",
    "siloEventsDbTimed=pd.concat([depositsDbTimed, borrowsDbTimed,repaysDbTimed])\n",
    "siloEventsDbTimed.drop_duplicates\n",
    "siloEventsDbTimed.head(10)"
   ],
   "metadata": {
    "collapsed": false
   }
  },
  {
   "cell_type": "code",
   "execution_count": 28,
   "outputs": [],
   "source": [],
   "metadata": {
    "collapsed": false
   }
  },
  {
   "cell_type": "code",
   "execution_count": 30,
   "outputs": [
    {
     "name": "stdout",
     "output_type": "stream",
     "text": [
      "file saved\n"
     ]
    }
   ],
   "source": [
    "path =file+'/siloFinance_events.csv'\n",
    "siloEventsDbTimed.to_csv(path, index = False)\n",
    "\n",
    "path =file+'/siloFinance_events.csv'\n",
    "siloEventsDbTimed.to_csv(path, index = False, sep='|')\n",
    "print('file saved')"
   ],
   "metadata": {
    "collapsed": false
   }
  },
  {
   "cell_type": "markdown",
   "source": [
    "********************************************************************************************\n",
    "********************************************************************************************\n",
    "SILO INTEREST RATES"
   ],
   "metadata": {
    "collapsed": false
   }
  },
  {
   "cell_type": "code",
   "execution_count": 32,
   "outputs": [
    {
     "name": "stdout",
     "output_type": "stream",
     "text": [
      "iterations:  0 Lines skipped:  0 records collected:  6\n",
      "Done. Total Records collected:  6\n"
     ]
    }
   ],
   "source": [
    "#let's pull interest rate data\n",
    "interestRateTicker = 0\n",
    "interestRateslist = pd.DataFrame()\n",
    "interestRatesDb = pd.DataFrame()\n",
    "interestRateListLength = 1000\n",
    "datediff = 0\n",
    "now=0\n",
    "daysAgo=0\n",
    "daysLimit = 45\n",
    "exit = False\n",
    "while exit==False:\n",
    "    skipValue = (interestRateTicker)*(1000)\n",
    "    interestRates = silo.Query.interestRates(\n",
    "        orderBy='id',\n",
    "        orderDirection='desc',\n",
    "        first=1000,\n",
    "        skip = skipValue,\n",
    "        where={ 'market': '0xc413dd03555f3eb29d834b482d386b2999dc2eb0' } #gOHM market\n",
    "\n",
    "    )\n",
    "\n",
    "    interestRateslist = sg.query_df([\n",
    "        interestRates.id\n",
    "        ,interestRates.rate #5.21% should be stored as 5.21\n",
    "        ,interestRates.duration #in days\n",
    "        ,interestRates.maturityBlock #Maturity of the loan in block height. Only applies to fixed term lending (e.g. Notional)\n",
    "        ,interestRates.side #The party the interest is paid to / received from\n",
    "        ,interestRates.type #The type of interest rate (e.g. stable, fixed, variable, etc)\n",
    "        ,interestRates.market\n",
    "        ,interestRates.marketAsset\n",
    "        ,interestRates.token\n",
    "    ])\n",
    "\n",
    "    #interestRateslist.sort_values(by=['interestRates_timestamp'])\n",
    "\n",
    "    interestRatesDb=pd.concat([interestRateslist, interestRatesDb])\n",
    "    interestRatesDbLength = len(interestRatesDb)\n",
    "    interestRateListLength = len(interestRateslist)\n",
    "    print(\"iterations: \", interestRateTicker, \"Lines skipped: \",skipValue, \"records collected: \", interestRateListLength)\n",
    "    #print(\"iterations: \", interestRateTicker, \"records collected: \", interestRateListLength, \" - userdb length: \", interestRatesDbLength)\n",
    "    interestRateTicker = interestRateTicker+1\n",
    "    if interestRateListLength<1000: exit =True\n",
    "\n",
    "print(\"Done. Total Records collected: \", interestRatesDbLength)\n",
    "\n",
    "\n"
   ],
   "metadata": {
    "collapsed": false
   }
  },
  {
   "cell_type": "code",
   "execution_count": 33,
   "outputs": [
    {
     "data": {
      "text/plain": "                                    interestRates_id  interestRates_rate  \\\n0  LENDER-VARIABLE-0xc413dd03555f3eb29d834b482d38...            2.328203   \n1  LENDER-VARIABLE-0xc413dd03555f3eb29d834b482d38...            8.727091   \n2  LENDER-VARIABLE-0xc413dd03555f3eb29d834b482d38...            0.000000   \n3  BORROWER-VARIABLE-0xc413dd03555f3eb29d834b482d...            3.411870   \n4  BORROWER-VARIABLE-0xc413dd03555f3eb29d834b482d...           11.358599   \n5  BORROWER-VARIABLE-0xc413dd03555f3eb29d834b482d...            0.000000   \n\n  interestRates_duration interestRates_maturityBlock interestRates_side  \\\n0                   None                        None             LENDER   \n1                   None                        None             LENDER   \n2                   None                        None             LENDER   \n3                   None                        None           BORROWER   \n4                   None                        None           BORROWER   \n5                   None                        None           BORROWER   \n\n  interestRates_type                     interestRates_market_id  \\\n0           VARIABLE  0xc413dd03555f3eb29d834b482d386b2999dc2eb0   \n1           VARIABLE  0xc413dd03555f3eb29d834b482d386b2999dc2eb0   \n2           VARIABLE  0xc413dd03555f3eb29d834b482d386b2999dc2eb0   \n3           VARIABLE  0xc413dd03555f3eb29d834b482d386b2999dc2eb0   \n4           VARIABLE  0xc413dd03555f3eb29d834b482d386b2999dc2eb0   \n5           VARIABLE  0xc413dd03555f3eb29d834b482d386b2999dc2eb0   \n\n             interestRates_market_protocol_id interestRates_market_name  \\\n0  0xd998c35b7900b344bbbe6555cc11576942cf309d                      gOHM   \n1  0xd998c35b7900b344bbbe6555cc11576942cf309d                      gOHM   \n2  0xd998c35b7900b344bbbe6555cc11576942cf309d                      gOHM   \n3  0xd998c35b7900b344bbbe6555cc11576942cf309d                      gOHM   \n4  0xd998c35b7900b344bbbe6555cc11576942cf309d                      gOHM   \n5  0xd998c35b7900b344bbbe6555cc11576942cf309d                      gOHM   \n\n   interestRates_market_isActive  ...  interestRates_token_symbol  \\\n0                           True  ...                         XAI   \n1                           True  ...                        WETH   \n2                           True  ...                        gOHM   \n3                           True  ...                         XAI   \n4                           True  ...                        WETH   \n5                           True  ...                        gOHM   \n\n   interestRates_token_decimals  interestRates_token_type  \\\n0                            18                     Asset   \n1                            18                     Asset   \n2                            18                     Asset   \n3                            18                     Asset   \n4                            18                     Asset   \n5                            18                     Asset   \n\n   interestRates_token_lastPriceUSD interestRates_token_lastPriceBlockNumber  \\\n0                          1.005034                                 16694220   \n1                       1655.794128                                 16694220   \n2                       2735.431044                                 16694220   \n3                          1.005034                                 16694220   \n4                       1655.794128                                 16694220   \n5                       2735.431044                                 16694220   \n\n   interestRates_token_market_id  interestRates_token_asset_id  \\\n0                           None                          None   \n1                           None                          None   \n2                           None                          None   \n3                           None                          None   \n4                           None                          None   \n5                           None                          None   \n\n   interestRates_token_derivativeConversion  interestRates_token_totalSupply  \\\n0                                       1.0                                0   \n1                                       1.0                                0   \n2                                       1.0                                0   \n3                                       1.0                                0   \n4                                       1.0                                0   \n5                                       1.0                                0   \n\n                 interestRates_token_activeOracle_id  \n0  0xe37b8c83138caf12e57632d19c06eb561d47e423-0xd...  \n1                                               None  \n2  0xba53d3a08fb8dd4309881b4e8a3bc386ea0ddb1f-0x0...  \n3  0xe37b8c83138caf12e57632d19c06eb561d47e423-0xd...  \n4                                               None  \n5  0xba53d3a08fb8dd4309881b4e8a3bc386ea0ddb1f-0x0...  \n\n[6 rows x 62 columns]",
      "text/html": "<div>\n<style scoped>\n    .dataframe tbody tr th:only-of-type {\n        vertical-align: middle;\n    }\n\n    .dataframe tbody tr th {\n        vertical-align: top;\n    }\n\n    .dataframe thead th {\n        text-align: right;\n    }\n</style>\n<table border=\"1\" class=\"dataframe\">\n  <thead>\n    <tr style=\"text-align: right;\">\n      <th></th>\n      <th>interestRates_id</th>\n      <th>interestRates_rate</th>\n      <th>interestRates_duration</th>\n      <th>interestRates_maturityBlock</th>\n      <th>interestRates_side</th>\n      <th>interestRates_type</th>\n      <th>interestRates_market_id</th>\n      <th>interestRates_market_protocol_id</th>\n      <th>interestRates_market_name</th>\n      <th>interestRates_market_isActive</th>\n      <th>...</th>\n      <th>interestRates_token_symbol</th>\n      <th>interestRates_token_decimals</th>\n      <th>interestRates_token_type</th>\n      <th>interestRates_token_lastPriceUSD</th>\n      <th>interestRates_token_lastPriceBlockNumber</th>\n      <th>interestRates_token_market_id</th>\n      <th>interestRates_token_asset_id</th>\n      <th>interestRates_token_derivativeConversion</th>\n      <th>interestRates_token_totalSupply</th>\n      <th>interestRates_token_activeOracle_id</th>\n    </tr>\n  </thead>\n  <tbody>\n    <tr>\n      <th>0</th>\n      <td>LENDER-VARIABLE-0xc413dd03555f3eb29d834b482d38...</td>\n      <td>2.328203</td>\n      <td>None</td>\n      <td>None</td>\n      <td>LENDER</td>\n      <td>VARIABLE</td>\n      <td>0xc413dd03555f3eb29d834b482d386b2999dc2eb0</td>\n      <td>0xd998c35b7900b344bbbe6555cc11576942cf309d</td>\n      <td>gOHM</td>\n      <td>True</td>\n      <td>...</td>\n      <td>XAI</td>\n      <td>18</td>\n      <td>Asset</td>\n      <td>1.005034</td>\n      <td>16694220</td>\n      <td>None</td>\n      <td>None</td>\n      <td>1.0</td>\n      <td>0</td>\n      <td>0xe37b8c83138caf12e57632d19c06eb561d47e423-0xd...</td>\n    </tr>\n    <tr>\n      <th>1</th>\n      <td>LENDER-VARIABLE-0xc413dd03555f3eb29d834b482d38...</td>\n      <td>8.727091</td>\n      <td>None</td>\n      <td>None</td>\n      <td>LENDER</td>\n      <td>VARIABLE</td>\n      <td>0xc413dd03555f3eb29d834b482d386b2999dc2eb0</td>\n      <td>0xd998c35b7900b344bbbe6555cc11576942cf309d</td>\n      <td>gOHM</td>\n      <td>True</td>\n      <td>...</td>\n      <td>WETH</td>\n      <td>18</td>\n      <td>Asset</td>\n      <td>1655.794128</td>\n      <td>16694220</td>\n      <td>None</td>\n      <td>None</td>\n      <td>1.0</td>\n      <td>0</td>\n      <td>None</td>\n    </tr>\n    <tr>\n      <th>2</th>\n      <td>LENDER-VARIABLE-0xc413dd03555f3eb29d834b482d38...</td>\n      <td>0.000000</td>\n      <td>None</td>\n      <td>None</td>\n      <td>LENDER</td>\n      <td>VARIABLE</td>\n      <td>0xc413dd03555f3eb29d834b482d386b2999dc2eb0</td>\n      <td>0xd998c35b7900b344bbbe6555cc11576942cf309d</td>\n      <td>gOHM</td>\n      <td>True</td>\n      <td>...</td>\n      <td>gOHM</td>\n      <td>18</td>\n      <td>Asset</td>\n      <td>2735.431044</td>\n      <td>16694220</td>\n      <td>None</td>\n      <td>None</td>\n      <td>1.0</td>\n      <td>0</td>\n      <td>0xba53d3a08fb8dd4309881b4e8a3bc386ea0ddb1f-0x0...</td>\n    </tr>\n    <tr>\n      <th>3</th>\n      <td>BORROWER-VARIABLE-0xc413dd03555f3eb29d834b482d...</td>\n      <td>3.411870</td>\n      <td>None</td>\n      <td>None</td>\n      <td>BORROWER</td>\n      <td>VARIABLE</td>\n      <td>0xc413dd03555f3eb29d834b482d386b2999dc2eb0</td>\n      <td>0xd998c35b7900b344bbbe6555cc11576942cf309d</td>\n      <td>gOHM</td>\n      <td>True</td>\n      <td>...</td>\n      <td>XAI</td>\n      <td>18</td>\n      <td>Asset</td>\n      <td>1.005034</td>\n      <td>16694220</td>\n      <td>None</td>\n      <td>None</td>\n      <td>1.0</td>\n      <td>0</td>\n      <td>0xe37b8c83138caf12e57632d19c06eb561d47e423-0xd...</td>\n    </tr>\n    <tr>\n      <th>4</th>\n      <td>BORROWER-VARIABLE-0xc413dd03555f3eb29d834b482d...</td>\n      <td>11.358599</td>\n      <td>None</td>\n      <td>None</td>\n      <td>BORROWER</td>\n      <td>VARIABLE</td>\n      <td>0xc413dd03555f3eb29d834b482d386b2999dc2eb0</td>\n      <td>0xd998c35b7900b344bbbe6555cc11576942cf309d</td>\n      <td>gOHM</td>\n      <td>True</td>\n      <td>...</td>\n      <td>WETH</td>\n      <td>18</td>\n      <td>Asset</td>\n      <td>1655.794128</td>\n      <td>16694220</td>\n      <td>None</td>\n      <td>None</td>\n      <td>1.0</td>\n      <td>0</td>\n      <td>None</td>\n    </tr>\n    <tr>\n      <th>5</th>\n      <td>BORROWER-VARIABLE-0xc413dd03555f3eb29d834b482d...</td>\n      <td>0.000000</td>\n      <td>None</td>\n      <td>None</td>\n      <td>BORROWER</td>\n      <td>VARIABLE</td>\n      <td>0xc413dd03555f3eb29d834b482d386b2999dc2eb0</td>\n      <td>0xd998c35b7900b344bbbe6555cc11576942cf309d</td>\n      <td>gOHM</td>\n      <td>True</td>\n      <td>...</td>\n      <td>gOHM</td>\n      <td>18</td>\n      <td>Asset</td>\n      <td>2735.431044</td>\n      <td>16694220</td>\n      <td>None</td>\n      <td>None</td>\n      <td>1.0</td>\n      <td>0</td>\n      <td>0xba53d3a08fb8dd4309881b4e8a3bc386ea0ddb1f-0x0...</td>\n    </tr>\n  </tbody>\n</table>\n<p>6 rows × 62 columns</p>\n</div>"
     },
     "execution_count": 33,
     "metadata": {},
     "output_type": "execute_result"
    }
   ],
   "source": [
    "interestRatesDb.head(10)"
   ],
   "metadata": {
    "collapsed": false
   }
  },
  {
   "cell_type": "code",
   "execution_count": 34,
   "outputs": [
    {
     "name": "stdout",
     "output_type": "stream",
     "text": [
      "file saved\n"
     ]
    }
   ],
   "source": [
    "interestRatesDbLength = len(interestRatesDb)\n",
    "path =file+'/siloFinance_interestRates.csv'\n",
    "interestRatesDb.to_csv(path, index = False)\n",
    "\n",
    "path =file+'/siloFinance_interestRates_piped.csv'\n",
    "interestRatesDb.to_csv(path, index = False, sep='|')\n",
    "print('file saved')"
   ],
   "metadata": {
    "collapsed": false
   }
  },
  {
   "cell_type": "code",
   "execution_count": 34,
   "outputs": [],
   "source": [],
   "metadata": {
    "collapsed": false
   }
  },
  {
   "cell_type": "markdown",
   "source": [
    "********************************************************************\n",
    "********************************************************************\n",
    "\n",
    "\n",
    "LET'S LOOK AT VESTA WHILE WE'RE ON A RUN\n",
    "\n",
    "Annoying: the schema for repay events is completely different from borrow and deposit. Can't union them into a single table without crunching it first. Argh.\n",
    "\n",
    "Interest Rate data is weird, too. But I may not need it?"
   ],
   "metadata": {
    "collapsed": false
   }
  },
  {
   "cell_type": "code",
   "execution_count": 35,
   "outputs": [],
   "source": [
    "#https://api.thegraph.com/subgraphs/name/corerouter/vesta-finance\n",
    "vesta = sg.load_api('https://api.thegraph.com/subgraphs/name/corerouter/vesta-finance')"
   ],
   "metadata": {
    "collapsed": false
   }
  },
  {
   "cell_type": "code",
   "execution_count": 36,
   "outputs": [
    {
     "name": "stdout",
     "output_type": "stream",
     "text": [
      "iterations:  0 Lines skipped:  0 records collected:  1000  - latest recordID:  0x72464202cde05e91af24d80f2270472f85ca406c18b3bbbf2c474c25dad8ed5d   borrow-0x72464202cde05e91af24d80f2270472f85ca406c18b3bbbf2c474c25dad8ed5d-37  - vestaBorrows DB length:  1000  - latest record from:  1969-12-31 16:49:57.016591 19412 days ago\n",
      "Done. Total Records collected:  1000\n"
     ]
    }
   ],
   "source": [
    "##this captures the list of people who vestaBorrowed XAI against gOHM\n",
    "vestaBorrowTicker = 0\n",
    "vestaBorrowslist = pd.DataFrame()\n",
    "vestaBorrowsDb = pd.DataFrame()\n",
    "vestaBorrowListLength = 1000\n",
    "datediff = 0\n",
    "now=0\n",
    "daysAgo=0\n",
    "daysLimit = 45\n",
    "exit = False\n",
    "while exit==False:\n",
    "    skipValue = (vestaBorrowTicker)*(1000)\n",
    "    vestaBorrows = vesta.Query.borrows(\n",
    "        orderBy='timestamp',\n",
    "        orderDirection='desc',\n",
    "        first=1000,\n",
    "        skip = skipValue,\n",
    "        where={ 'market': '0x8d9ba570d6cb60c7e3e0f31343efe75ab8e65fb1' } #gOHM market\n",
    "\n",
    "    )\n",
    "\n",
    "    vestaBorrowslist = sg.query_df([\n",
    "        vestaBorrows.id\n",
    "        ,vestaBorrows.hash\n",
    "        ,vestaBorrows.amount\n",
    "        ,vestaBorrows.amountUSD\n",
    "        ,vestaBorrows.timestamp\n",
    "        ,vestaBorrows.account.id\n",
    "        ,vestaBorrows.market.id\n",
    "        ,vestaBorrows.market.name\n",
    "        ,vestaBorrows.market.rates.rate\n",
    "        ,vestaBorrows.asset\n",
    "    ])\n",
    "\n",
    "    #vestaBorrowslist.sort_values(by=['vestaBorrows_timestamp'])\n",
    "\n",
    "    vestaBorrowsDb=pd.concat([vestaBorrowsDb, vestaBorrowslist])\n",
    "    recordTimestamp1 = vestaBorrowsDb.iat[vestaBorrowTicker,3]\n",
    "    recordTimestamp = dt.datetime.fromtimestamp( recordTimestamp1 )\n",
    "    now = (int(dt.datetime.utcnow().timestamp()))\n",
    "    datediff=abs(int(now) - recordTimestamp1)\n",
    "    daysAgo = int(datediff/86400)\n",
    "    vestaBorrowsDbLength = len(vestaBorrowsDb)\n",
    "    vestaBorrowListLength = len(vestaBorrowslist)\n",
    "    recordID = vestaBorrowsDb.iat[vestaBorrowTicker,0]\n",
    "    vestaBorrow = vestaBorrowsDb.iat[vestaBorrowTicker,1]\n",
    "    print(\"iterations: \", vestaBorrowTicker, \"Lines skipped: \",skipValue, \"records collected: \", vestaBorrowListLength, \" - latest recordID: \",vestaBorrow, \" \", recordID , \" - vestaBorrows DB length: \", vestaBorrowsDbLength, \" - latest record from: \", recordTimestamp, daysAgo,\"days ago\")\n",
    "    #print(\"iterations: \", vestaBorrowTicker, \"records collected: \", vestaBorrowListLength, \" - userdb length: \", vestaBorrowsDbLength)\n",
    "    vestaBorrowTicker = vestaBorrowTicker+1\n",
    "\n",
    "    if daysAgo>daysLimit: exit =True\n",
    "    if vestaBorrowListLength<1000: exit =True\n",
    "\n",
    "#vestaBorrowsDbTimed.columns = vestaBorrowsDbTimed.columns.str.replace(\"borrows\", \"transaction\")\n",
    "vestaBorrowsDb['event']='borrow'\n",
    "print(\"Done. Total Records collected: \", vestaBorrowsDbLength)"
   ],
   "metadata": {
    "collapsed": false
   }
  },
  {
   "cell_type": "code",
   "execution_count": 37,
   "outputs": [
    {
     "data": {
      "text/plain": "                                            borrows_id  \\\n0    borrow-0xe78e7cf33f3c3dcf9d167c79992bd499f5e26...   \n1    borrow-0x93e6a1fc4275b1e3229824808cfbd67b1a95b...   \n2    borrow-0x9651ee75040616476d15e135efd447ea2b61f...   \n3    borrow-0x6d78d97f945a157ac5bddb6e4fc1f082a9026...   \n4    borrow-0x7ebbec623197b45efee3ee5cea51c5570ced5...   \n..                                                 ...   \n995  borrow-0xa5ecc4b8c40dd5e7fceb1966c5f7c5fb0414d...   \n996  borrow-0x6e08e8ad6bb3d2ec343e41c1e6069d5e313dc...   \n997  borrow-0x7a095d993000fa8474bffca668b176401deba...   \n998  borrow-0xe8120c354c11f2fde377afd9c1261bc2c8b01...   \n999  borrow-0xc45acca1801af69bde73afbf49eca4e192620...   \n\n                                          borrows_hash  \\\n0    0xe78e7cf33f3c3dcf9d167c79992bd499f5e261aa781a...   \n1    0x93e6a1fc4275b1e3229824808cfbd67b1a95b70da5fc...   \n2    0x9651ee75040616476d15e135efd447ea2b61f1c4a1a4...   \n3    0x6d78d97f945a157ac5bddb6e4fc1f082a9026a1d4877...   \n4    0x7ebbec623197b45efee3ee5cea51c5570ced507e35b7...   \n..                                                 ...   \n995  0xa5ecc4b8c40dd5e7fceb1966c5f7c5fb0414d6d6efe7...   \n996  0x6e08e8ad6bb3d2ec343e41c1e6069d5e313dc0c01247...   \n997  0x7a095d993000fa8474bffca668b176401debae30d6e9...   \n998  0xe8120c354c11f2fde377afd9c1261bc2c8b0179faafd...   \n999  0xc45acca1801af69bde73afbf49eca4e1926202056548...   \n\n               borrows_amount  borrows_amountUSD  borrows_timestamp  \\\n0    576298224974605960408026      576298.224975         1659911497   \n1    516405000007276459170000      516405.000007         1661574660   \n2    508522687608107465832660      508522.687608         1661405272   \n3    407615492208601338652456      407615.492209         1669999334   \n4    398065447708496993829189      398065.447708         1670001231   \n..                        ...                ...                ...   \n995          6902250461145459           0.006902         1665437277   \n996          6179314471221283           0.006179         1667577001   \n997          1396084727959398           0.001396         1658583777   \n998           648264503547698           0.000648         1676431672   \n999           427675270888714           0.000428         1676544447   \n\n                             borrows_account_id  \\\n0    0xa80191fca50be00f8952c69232c93d57eeacaf6f   \n1    0x15bae977db3b62ceb5a67921fae589fd80624e8d   \n2    0xea17e11fa9d3d772eee6f34a03f0ef44db395720   \n3    0x0561a78021d8966ddd20c28c6c4318d8675ee1f0   \n4    0x0561a78021d8966ddd20c28c6c4318d8675ee1f0   \n..                                          ...   \n995  0x9dd897df19ffc27d6685e98accc394f88a73e475   \n996  0xe2a4de267cdd4ff5ed9ba13552f5c624b12db9b2   \n997  0x3b74d817a7a224948748d9444fabeca4aa4f24fb   \n998  0x70b3d1ff337bcceeb3e2cf5b05efbffc50af87d7   \n999  0xc9e166f2737e004e93800dcef0d608b014df07f6   \n\n                              borrows_market_id borrows_market_name  \\\n0    0x8d9ba570d6cb60c7e3e0f31343efe75ab8e65fb1      Governance OHM   \n1    0x8d9ba570d6cb60c7e3e0f31343efe75ab8e65fb1      Governance OHM   \n2    0x8d9ba570d6cb60c7e3e0f31343efe75ab8e65fb1      Governance OHM   \n3    0x8d9ba570d6cb60c7e3e0f31343efe75ab8e65fb1      Governance OHM   \n4    0x8d9ba570d6cb60c7e3e0f31343efe75ab8e65fb1      Governance OHM   \n..                                          ...                 ...   \n995  0x8d9ba570d6cb60c7e3e0f31343efe75ab8e65fb1      Governance OHM   \n996  0x8d9ba570d6cb60c7e3e0f31343efe75ab8e65fb1      Governance OHM   \n997  0x8d9ba570d6cb60c7e3e0f31343efe75ab8e65fb1      Governance OHM   \n998  0x8d9ba570d6cb60c7e3e0f31343efe75ab8e65fb1      Governance OHM   \n999  0x8d9ba570d6cb60c7e3e0f31343efe75ab8e65fb1      Governance OHM   \n\n     borrows_market_rates_rate                            borrows_asset_id  \\\n0                          0.0  0x64343594ab9b56e99087bfa6f2335db24c2d1f17   \n1                          0.0  0x64343594ab9b56e99087bfa6f2335db24c2d1f17   \n2                          0.0  0x64343594ab9b56e99087bfa6f2335db24c2d1f17   \n3                          0.0  0x64343594ab9b56e99087bfa6f2335db24c2d1f17   \n4                          0.0  0x64343594ab9b56e99087bfa6f2335db24c2d1f17   \n..                         ...                                         ...   \n995                        0.0  0x64343594ab9b56e99087bfa6f2335db24c2d1f17   \n996                        0.0  0x64343594ab9b56e99087bfa6f2335db24c2d1f17   \n997                        0.0  0x64343594ab9b56e99087bfa6f2335db24c2d1f17   \n998                        0.0  0x64343594ab9b56e99087bfa6f2335db24c2d1f17   \n999                        0.0  0x64343594ab9b56e99087bfa6f2335db24c2d1f17   \n\n    borrows_asset_name borrows_asset_symbol  borrows_asset_decimals  \\\n0         Vesta Stable                  VST                      18   \n1         Vesta Stable                  VST                      18   \n2         Vesta Stable                  VST                      18   \n3         Vesta Stable                  VST                      18   \n4         Vesta Stable                  VST                      18   \n..                 ...                  ...                     ...   \n995       Vesta Stable                  VST                      18   \n996       Vesta Stable                  VST                      18   \n997       Vesta Stable                  VST                      18   \n998       Vesta Stable                  VST                      18   \n999       Vesta Stable                  VST                      18   \n\n     borrows_asset_lastPriceUSD  borrows_asset_lastPriceBlockNumber   event  \\\n0                      0.979297                            63919783  borrow   \n1                      0.979297                            63919783  borrow   \n2                      0.979297                            63919783  borrow   \n3                      0.979297                            63919783  borrow   \n4                      0.979297                            63919783  borrow   \n..                          ...                                 ...     ...   \n995                    0.979297                            63919783  borrow   \n996                    0.979297                            63919783  borrow   \n997                    0.979297                            63919783  borrow   \n998                    0.979297                            63919783  borrow   \n999                    0.979297                            63919783  borrow   \n\n               dateTime  \n0   2022-08-07 22:31:37  \n1   2022-08-27 04:31:00  \n2   2022-08-25 05:27:52  \n3   2022-12-02 16:42:14  \n4   2022-12-02 17:13:51  \n..                  ...  \n995 2022-10-10 21:27:57  \n996 2022-11-04 15:50:01  \n997 2022-07-23 13:42:57  \n998 2023-02-15 03:27:52  \n999 2023-02-16 10:47:27  \n\n[1000 rows x 17 columns]",
      "text/html": "<div>\n<style scoped>\n    .dataframe tbody tr th:only-of-type {\n        vertical-align: middle;\n    }\n\n    .dataframe tbody tr th {\n        vertical-align: top;\n    }\n\n    .dataframe thead th {\n        text-align: right;\n    }\n</style>\n<table border=\"1\" class=\"dataframe\">\n  <thead>\n    <tr style=\"text-align: right;\">\n      <th></th>\n      <th>borrows_id</th>\n      <th>borrows_hash</th>\n      <th>borrows_amount</th>\n      <th>borrows_amountUSD</th>\n      <th>borrows_timestamp</th>\n      <th>borrows_account_id</th>\n      <th>borrows_market_id</th>\n      <th>borrows_market_name</th>\n      <th>borrows_market_rates_rate</th>\n      <th>borrows_asset_id</th>\n      <th>borrows_asset_name</th>\n      <th>borrows_asset_symbol</th>\n      <th>borrows_asset_decimals</th>\n      <th>borrows_asset_lastPriceUSD</th>\n      <th>borrows_asset_lastPriceBlockNumber</th>\n      <th>event</th>\n      <th>dateTime</th>\n    </tr>\n  </thead>\n  <tbody>\n    <tr>\n      <th>0</th>\n      <td>borrow-0xe78e7cf33f3c3dcf9d167c79992bd499f5e26...</td>\n      <td>0xe78e7cf33f3c3dcf9d167c79992bd499f5e261aa781a...</td>\n      <td>576298224974605960408026</td>\n      <td>576298.224975</td>\n      <td>1659911497</td>\n      <td>0xa80191fca50be00f8952c69232c93d57eeacaf6f</td>\n      <td>0x8d9ba570d6cb60c7e3e0f31343efe75ab8e65fb1</td>\n      <td>Governance OHM</td>\n      <td>0.0</td>\n      <td>0x64343594ab9b56e99087bfa6f2335db24c2d1f17</td>\n      <td>Vesta Stable</td>\n      <td>VST</td>\n      <td>18</td>\n      <td>0.979297</td>\n      <td>63919783</td>\n      <td>borrow</td>\n      <td>2022-08-07 22:31:37</td>\n    </tr>\n    <tr>\n      <th>1</th>\n      <td>borrow-0x93e6a1fc4275b1e3229824808cfbd67b1a95b...</td>\n      <td>0x93e6a1fc4275b1e3229824808cfbd67b1a95b70da5fc...</td>\n      <td>516405000007276459170000</td>\n      <td>516405.000007</td>\n      <td>1661574660</td>\n      <td>0x15bae977db3b62ceb5a67921fae589fd80624e8d</td>\n      <td>0x8d9ba570d6cb60c7e3e0f31343efe75ab8e65fb1</td>\n      <td>Governance OHM</td>\n      <td>0.0</td>\n      <td>0x64343594ab9b56e99087bfa6f2335db24c2d1f17</td>\n      <td>Vesta Stable</td>\n      <td>VST</td>\n      <td>18</td>\n      <td>0.979297</td>\n      <td>63919783</td>\n      <td>borrow</td>\n      <td>2022-08-27 04:31:00</td>\n    </tr>\n    <tr>\n      <th>2</th>\n      <td>borrow-0x9651ee75040616476d15e135efd447ea2b61f...</td>\n      <td>0x9651ee75040616476d15e135efd447ea2b61f1c4a1a4...</td>\n      <td>508522687608107465832660</td>\n      <td>508522.687608</td>\n      <td>1661405272</td>\n      <td>0xea17e11fa9d3d772eee6f34a03f0ef44db395720</td>\n      <td>0x8d9ba570d6cb60c7e3e0f31343efe75ab8e65fb1</td>\n      <td>Governance OHM</td>\n      <td>0.0</td>\n      <td>0x64343594ab9b56e99087bfa6f2335db24c2d1f17</td>\n      <td>Vesta Stable</td>\n      <td>VST</td>\n      <td>18</td>\n      <td>0.979297</td>\n      <td>63919783</td>\n      <td>borrow</td>\n      <td>2022-08-25 05:27:52</td>\n    </tr>\n    <tr>\n      <th>3</th>\n      <td>borrow-0x6d78d97f945a157ac5bddb6e4fc1f082a9026...</td>\n      <td>0x6d78d97f945a157ac5bddb6e4fc1f082a9026a1d4877...</td>\n      <td>407615492208601338652456</td>\n      <td>407615.492209</td>\n      <td>1669999334</td>\n      <td>0x0561a78021d8966ddd20c28c6c4318d8675ee1f0</td>\n      <td>0x8d9ba570d6cb60c7e3e0f31343efe75ab8e65fb1</td>\n      <td>Governance OHM</td>\n      <td>0.0</td>\n      <td>0x64343594ab9b56e99087bfa6f2335db24c2d1f17</td>\n      <td>Vesta Stable</td>\n      <td>VST</td>\n      <td>18</td>\n      <td>0.979297</td>\n      <td>63919783</td>\n      <td>borrow</td>\n      <td>2022-12-02 16:42:14</td>\n    </tr>\n    <tr>\n      <th>4</th>\n      <td>borrow-0x7ebbec623197b45efee3ee5cea51c5570ced5...</td>\n      <td>0x7ebbec623197b45efee3ee5cea51c5570ced507e35b7...</td>\n      <td>398065447708496993829189</td>\n      <td>398065.447708</td>\n      <td>1670001231</td>\n      <td>0x0561a78021d8966ddd20c28c6c4318d8675ee1f0</td>\n      <td>0x8d9ba570d6cb60c7e3e0f31343efe75ab8e65fb1</td>\n      <td>Governance OHM</td>\n      <td>0.0</td>\n      <td>0x64343594ab9b56e99087bfa6f2335db24c2d1f17</td>\n      <td>Vesta Stable</td>\n      <td>VST</td>\n      <td>18</td>\n      <td>0.979297</td>\n      <td>63919783</td>\n      <td>borrow</td>\n      <td>2022-12-02 17:13:51</td>\n    </tr>\n    <tr>\n      <th>...</th>\n      <td>...</td>\n      <td>...</td>\n      <td>...</td>\n      <td>...</td>\n      <td>...</td>\n      <td>...</td>\n      <td>...</td>\n      <td>...</td>\n      <td>...</td>\n      <td>...</td>\n      <td>...</td>\n      <td>...</td>\n      <td>...</td>\n      <td>...</td>\n      <td>...</td>\n      <td>...</td>\n      <td>...</td>\n    </tr>\n    <tr>\n      <th>995</th>\n      <td>borrow-0xa5ecc4b8c40dd5e7fceb1966c5f7c5fb0414d...</td>\n      <td>0xa5ecc4b8c40dd5e7fceb1966c5f7c5fb0414d6d6efe7...</td>\n      <td>6902250461145459</td>\n      <td>0.006902</td>\n      <td>1665437277</td>\n      <td>0x9dd897df19ffc27d6685e98accc394f88a73e475</td>\n      <td>0x8d9ba570d6cb60c7e3e0f31343efe75ab8e65fb1</td>\n      <td>Governance OHM</td>\n      <td>0.0</td>\n      <td>0x64343594ab9b56e99087bfa6f2335db24c2d1f17</td>\n      <td>Vesta Stable</td>\n      <td>VST</td>\n      <td>18</td>\n      <td>0.979297</td>\n      <td>63919783</td>\n      <td>borrow</td>\n      <td>2022-10-10 21:27:57</td>\n    </tr>\n    <tr>\n      <th>996</th>\n      <td>borrow-0x6e08e8ad6bb3d2ec343e41c1e6069d5e313dc...</td>\n      <td>0x6e08e8ad6bb3d2ec343e41c1e6069d5e313dc0c01247...</td>\n      <td>6179314471221283</td>\n      <td>0.006179</td>\n      <td>1667577001</td>\n      <td>0xe2a4de267cdd4ff5ed9ba13552f5c624b12db9b2</td>\n      <td>0x8d9ba570d6cb60c7e3e0f31343efe75ab8e65fb1</td>\n      <td>Governance OHM</td>\n      <td>0.0</td>\n      <td>0x64343594ab9b56e99087bfa6f2335db24c2d1f17</td>\n      <td>Vesta Stable</td>\n      <td>VST</td>\n      <td>18</td>\n      <td>0.979297</td>\n      <td>63919783</td>\n      <td>borrow</td>\n      <td>2022-11-04 15:50:01</td>\n    </tr>\n    <tr>\n      <th>997</th>\n      <td>borrow-0x7a095d993000fa8474bffca668b176401deba...</td>\n      <td>0x7a095d993000fa8474bffca668b176401debae30d6e9...</td>\n      <td>1396084727959398</td>\n      <td>0.001396</td>\n      <td>1658583777</td>\n      <td>0x3b74d817a7a224948748d9444fabeca4aa4f24fb</td>\n      <td>0x8d9ba570d6cb60c7e3e0f31343efe75ab8e65fb1</td>\n      <td>Governance OHM</td>\n      <td>0.0</td>\n      <td>0x64343594ab9b56e99087bfa6f2335db24c2d1f17</td>\n      <td>Vesta Stable</td>\n      <td>VST</td>\n      <td>18</td>\n      <td>0.979297</td>\n      <td>63919783</td>\n      <td>borrow</td>\n      <td>2022-07-23 13:42:57</td>\n    </tr>\n    <tr>\n      <th>998</th>\n      <td>borrow-0xe8120c354c11f2fde377afd9c1261bc2c8b01...</td>\n      <td>0xe8120c354c11f2fde377afd9c1261bc2c8b0179faafd...</td>\n      <td>648264503547698</td>\n      <td>0.000648</td>\n      <td>1676431672</td>\n      <td>0x70b3d1ff337bcceeb3e2cf5b05efbffc50af87d7</td>\n      <td>0x8d9ba570d6cb60c7e3e0f31343efe75ab8e65fb1</td>\n      <td>Governance OHM</td>\n      <td>0.0</td>\n      <td>0x64343594ab9b56e99087bfa6f2335db24c2d1f17</td>\n      <td>Vesta Stable</td>\n      <td>VST</td>\n      <td>18</td>\n      <td>0.979297</td>\n      <td>63919783</td>\n      <td>borrow</td>\n      <td>2023-02-15 03:27:52</td>\n    </tr>\n    <tr>\n      <th>999</th>\n      <td>borrow-0xc45acca1801af69bde73afbf49eca4e192620...</td>\n      <td>0xc45acca1801af69bde73afbf49eca4e1926202056548...</td>\n      <td>427675270888714</td>\n      <td>0.000428</td>\n      <td>1676544447</td>\n      <td>0xc9e166f2737e004e93800dcef0d608b014df07f6</td>\n      <td>0x8d9ba570d6cb60c7e3e0f31343efe75ab8e65fb1</td>\n      <td>Governance OHM</td>\n      <td>0.0</td>\n      <td>0x64343594ab9b56e99087bfa6f2335db24c2d1f17</td>\n      <td>Vesta Stable</td>\n      <td>VST</td>\n      <td>18</td>\n      <td>0.979297</td>\n      <td>63919783</td>\n      <td>borrow</td>\n      <td>2023-02-16 10:47:27</td>\n    </tr>\n  </tbody>\n</table>\n<p>1000 rows × 17 columns</p>\n</div>"
     },
     "execution_count": 37,
     "metadata": {},
     "output_type": "execute_result"
    }
   ],
   "source": [
    "vestaBorrowsDbTimed = db.query(\"select \"\n",
    "               \"    * \"\n",
    "                    \" ,to_timestamp(borrows_timestamp::int) dateTime \"\n",
    "               \"From vestaBorrowsDb \"\n",
    "                               \" order by borrows_amountUSD desc\"\n",
    "               #\"where lower(liquidityPools_name) like lower('%olympus%') \"\n",
    "                #    \"or lower(pairs_token1_symbol) like lower('%OHM%')  \"\n",
    "               #\" limit 100 \"\n",
    "               ).df()\n",
    "\n",
    "vestaBorrowsDbTimed.head(1000)"
   ],
   "metadata": {
    "collapsed": false
   }
  },
  {
   "cell_type": "code",
   "execution_count": 38,
   "outputs": [
    {
     "name": "stdout",
     "output_type": "stream",
     "text": [
      "file saved\n"
     ]
    }
   ],
   "source": [
    "path =file+'/vesta_borrow_events.csv'\n",
    "vestaBorrowsDbTimed.to_csv(path, index = False)\n",
    "\n",
    "path =file+'/vesta_borrow_events_piped.csv'\n",
    "vestaBorrowsDbTimed.to_csv(path, index = False, sep='|')\n",
    "print('file saved')"
   ],
   "metadata": {
    "collapsed": false
   }
  },
  {
   "cell_type": "code",
   "execution_count": 39,
   "outputs": [
    {
     "name": "stdout",
     "output_type": "stream",
     "text": [
      "iterations:  0 Lines skipped:  0 records collected:  1000  - latest recordID:  0x72464202cde05e91af24d80f2270472f85ca406c18b3bbbf2c474c25dad8ed5d   deposit-0x72464202cde05e91af24d80f2270472f85ca406c18b3bbbf2c474c25dad8ed5d-37  - vestaDeposits DB length:  1000  - latest record from:  2023-02-23 12:43:03 0 days ago\n",
      "iterations:  1 Lines skipped:  1000 records collected:  349  - latest recordID:  0xc769bda3341e2ecf901458b040af70005b7d0e3b059edca2c1c3adf671003606   deposit-0xc769bda3341e2ecf901458b040af70005b7d0e3b059edca2c1c3adf671003606-4  - vestaDeposits DB length:  1349  - latest record from:  2023-02-23 12:42:54 0 days ago\n",
      "Done. Total Records collected:  1349\n"
     ]
    }
   ],
   "source": [
    "#this tracks the events for vestaDepositing gOHM for lending \n",
    "vestaDepositTicker = 0\n",
    "vestaDepositslist = pd.DataFrame()\n",
    "vestaDepositsDb = pd.DataFrame()\n",
    "vestaDepositListLength = 1000\n",
    "datediff = 0\n",
    "now=0\n",
    "daysAgo=0\n",
    "daysLimit = 45\n",
    "exit = False\n",
    "while exit==False:\n",
    "    skipValue = (vestaDepositTicker)*(1000)\n",
    "    vestaDeposits = vesta.Query.deposits(\n",
    "        orderBy='timestamp',\n",
    "        orderDirection='desc',\n",
    "        first=1000,\n",
    "        skip = skipValue,\n",
    "        where={ 'market': '0x8d9ba570d6cb60c7e3e0f31343efe75ab8e65fb1' } #gOHM market\n",
    "\n",
    "    )\n",
    "\n",
    "    vestaDepositslist = sg.query_df([\n",
    "        vestaDeposits.id\n",
    "        ,vestaDeposits.hash\n",
    "        ,vestaDeposits.amount\n",
    "        ,vestaDeposits.amountUSD\n",
    "        ,vestaDeposits.logIndex\n",
    "        ,vestaDeposits.blockNumber\n",
    "        ,vestaDeposits.timestamp\n",
    "        ,vestaDeposits.account\n",
    "        ,vestaDeposits.market\n",
    "        ,vestaDeposits.market.rates\n",
    "        ,vestaDeposits.asset\n",
    "        ,vestaDeposits.position\n",
    "    ])\n",
    "\n",
    "    #vestaDepositslist.sort_values(by=['vestaDeposits_timestamp'])\n",
    "\n",
    "    vestaDepositsDb=pd.concat([vestaDepositsDb, vestaDepositslist])\n",
    "    recordTimestamp1 = vestaDepositsDb.iat[vestaDepositTicker,6]\n",
    "    recordTimestamp = dt.datetime.fromtimestamp( recordTimestamp1 )\n",
    "    now = (int(dt.datetime.utcnow().timestamp()))\n",
    "    datediff=abs(int(now) - recordTimestamp1)\n",
    "    daysAgo = int(datediff/86400)\n",
    "    vestaDepositsDbLength = len(vestaDepositsDb)\n",
    "    vestaDepositListLength = len(vestaDepositslist)\n",
    "    recordID = vestaDepositsDb.iat[vestaDepositTicker,0]\n",
    "    vestaDeposit = vestaDepositsDb.iat[vestaDepositTicker,1]\n",
    "    print(\"iterations: \", vestaDepositTicker, \"Lines skipped: \",skipValue, \"records collected: \", vestaDepositListLength, \" - latest recordID: \",vestaDeposit, \" \", recordID , \" - vestaDeposits DB length: \", vestaDepositsDbLength, \" - latest record from: \", recordTimestamp, daysAgo,\"days ago\")\n",
    "    #print(\"iterations: \", vestaDepositTicker, \"records collected: \", vestaDepositListLength, \" - userdb length: \", vestaDepositsDbLength)\n",
    "    vestaDepositTicker = vestaDepositTicker+1\n",
    "    if daysAgo>daysLimit: exit =True\n",
    "    if vestaDepositListLength<1000: exit =True\n",
    "\n",
    "#vestaDepositsDb.sort_values(by=['vestaDeposits_timestamp'])\n",
    "\n",
    "vestaDepositsDb.columns = vestaDepositsDb.columns.str.replace(\"deposits\", \"transaction\")\n",
    "vestaDepositsDb['event']='deposit'\n",
    "print(\"Done. Total Records collected: \", vestaDepositsDbLength)\n",
    "\n",
    "\n"
   ],
   "metadata": {
    "collapsed": false
   }
  },
  {
   "cell_type": "code",
   "execution_count": 40,
   "outputs": [
    {
     "data": {
      "text/plain": "                                      transaction_id  \\\n0  deposit-0x72464202cde05e91af24d80f2270472f85ca...   \n1  deposit-0xc769bda3341e2ecf901458b040af70005b7d...   \n2  deposit-0x7ff58296a29365afb72fd531d3ab3f893250...   \n3  deposit-0x7c52f11b87402232bb8080a1d07dfcad762f...   \n4  deposit-0x4cee3506562ea6ea8c615c4e2af2c8dc9230...   \n5  deposit-0x88a5cb82b121973e0183fed0f13a889ba5e1...   \n6  deposit-0x14d9ae0f18b19436ff5837edc3426605d596...   \n7  deposit-0x738b9f84d050920ac91f267597563b7f5c27...   \n8  deposit-0xd66a79898a59da2b2f2de5b4d11f5a57e29f...   \n9  deposit-0xe8120c354c11f2fde377afd9c1261bc2c8b0...   \n\n                                    transaction_hash    transaction_amount  \\\n0  0x72464202cde05e91af24d80f2270472f85ca406c18b3...   1959071999999999036   \n1  0xc769bda3341e2ecf901458b040af70005b7d0e3b059e...   5956995999999999967   \n2  0x7ff58296a29365afb72fd531d3ab3f893250da5af9c0...    378766000000000000   \n3  0x7c52f11b87402232bb8080a1d07dfcad762fb9f286fb...   1652507000000000000   \n4  0x4cee3506562ea6ea8c615c4e2af2c8dc9230ebccd24a...    100000000000000089   \n5  0x88a5cb82b121973e0183fed0f13a889ba5e13b5cc85b...  14940927999999999291   \n6  0x14d9ae0f18b19436ff5837edc3426605d596802483b3...   6166600000000000000   \n7  0x738b9f84d050920ac91f267597563b7f5c27e425c6e1...   5632597000000000000   \n8  0xd66a79898a59da2b2f2de5b4d11f5a57e29f20d411a7...   1119527000000000000   \n9  0xe8120c354c11f2fde377afd9c1261bc2c8b0179faafd...    509425999999999934   \n\n   transaction_amountUSD  transaction_logIndex  transaction_blockNumber  \\\n0            5353.727641                    37                 63891437   \n1           16279.204717                     4                 63891402   \n2            1057.818208                    53                 63127102   \n3            4666.708995                    46                 62701434   \n4             284.064377                     4                 62477472   \n5           42462.684614                    57                 62106087   \n6           17531.081150                    45                 61931290   \n7           15890.437190                    45                 61851016   \n8            3153.776578                    37                 61144228   \n9            1420.180663                     4                 61023104   \n\n   transaction_timestamp                      transaction_account_id  \\\n0             1677184983  0x6487d336bdec94d4714a4d217b15aa5c7b9dfa99   \n1             1677184974  0x128e040082f03bbd414d966f8e6e851cc430c643   \n2             1676990846  0xf8a2c6db32b73f762d0f6abc136a20b3f4ccd004   \n3             1676882228  0x08c6f0898bf40a9899595304039247b1deeaaf9c   \n4             1676822794  0x1431ba2d4e5c5ed4bf6e8da41880a7e3b43da32d   \n5             1676725682  0x6487d336bdec94d4714a4d217b15aa5c7b9dfa99   \n6             1676678947  0x4688b6f3c384c3cffe95c92f599213de4a9fa9ca   \n7             1676656035  0xa500c2e3f661cc567329b868cd4c9dfd5177ee3f   \n8             1676464979  0x9abcd812bffc1ef2e81a2dde75b5ed8809289d9d   \n9             1676431672  0x70b3d1ff337bcceeb3e2cf5b05efbffc50af87d7   \n\n   transaction_account_positionCount  transaction_account_openPositionCount  \\\n0                                  7                                      2   \n1                                  3                                      2   \n2                                  2                                      2   \n3                                  2                                      2   \n4                                 13                                      2   \n5                                  7                                      2   \n6                                  2                                      2   \n7                                  2                                      2   \n8                                 27                                      6   \n9                                  2                                      0   \n\n   ...  transaction_position_timestampClosed  transaction_position_side  \\\n0  ...                                   NaN                     LENDER   \n1  ...                                   NaN                     LENDER   \n2  ...                                   NaN                     LENDER   \n3  ...                                   NaN                     LENDER   \n4  ...                                   NaN                     LENDER   \n5  ...                                   NaN                     LENDER   \n6  ...                                   NaN                     LENDER   \n7  ...                                   NaN                     LENDER   \n8  ...                                   NaN                     LENDER   \n9  ...                          1.676663e+09                     LENDER   \n\n   transaction_position_isCollateral  transaction_position_balance  \\\n0                               True          16899999999999998327   \n1                               True           5956995999999999967   \n2                               True            378766000000000000   \n3                               True           1652507000000000000   \n4                               True           1070000000000000108   \n5                               True          16899999999999998327   \n6                               True           6166600000000000000   \n7                               True           5632597000000000000   \n8                               True           1119527000000000000   \n9                              False                             0   \n\n   transaction_position_depositCount  transaction_position_withdrawCount  \\\n0                                  2                                   0   \n1                                  1                                   0   \n2                                  1                                   0   \n3                                  1                                   0   \n4                                  4                                   4   \n5                                  2                                   0   \n6                                  1                                   0   \n7                                  1                                   0   \n8                                  1                                   0   \n9                                  2                                   1   \n\n   transaction_position_borrowCount transaction_position_repayCount  \\\n0                                 0                               0   \n1                                 0                               0   \n2                                 0                               0   \n3                                 0                               0   \n4                                 0                               0   \n5                                 0                               0   \n6                                 0                               0   \n7                                 0                               0   \n8                                 0                               0   \n9                                 0                               0   \n\n  transaction_position_liquidationCount    event  \n0                                     0  deposit  \n1                                     0  deposit  \n2                                     0  deposit  \n3                                     0  deposit  \n4                                     0  deposit  \n5                                     0  deposit  \n6                                     0  deposit  \n7                                     0  deposit  \n8                                     0  deposit  \n9                                     0  deposit  \n\n[10 rows x 79 columns]",
      "text/html": "<div>\n<style scoped>\n    .dataframe tbody tr th:only-of-type {\n        vertical-align: middle;\n    }\n\n    .dataframe tbody tr th {\n        vertical-align: top;\n    }\n\n    .dataframe thead th {\n        text-align: right;\n    }\n</style>\n<table border=\"1\" class=\"dataframe\">\n  <thead>\n    <tr style=\"text-align: right;\">\n      <th></th>\n      <th>transaction_id</th>\n      <th>transaction_hash</th>\n      <th>transaction_amount</th>\n      <th>transaction_amountUSD</th>\n      <th>transaction_logIndex</th>\n      <th>transaction_blockNumber</th>\n      <th>transaction_timestamp</th>\n      <th>transaction_account_id</th>\n      <th>transaction_account_positionCount</th>\n      <th>transaction_account_openPositionCount</th>\n      <th>...</th>\n      <th>transaction_position_timestampClosed</th>\n      <th>transaction_position_side</th>\n      <th>transaction_position_isCollateral</th>\n      <th>transaction_position_balance</th>\n      <th>transaction_position_depositCount</th>\n      <th>transaction_position_withdrawCount</th>\n      <th>transaction_position_borrowCount</th>\n      <th>transaction_position_repayCount</th>\n      <th>transaction_position_liquidationCount</th>\n      <th>event</th>\n    </tr>\n  </thead>\n  <tbody>\n    <tr>\n      <th>0</th>\n      <td>deposit-0x72464202cde05e91af24d80f2270472f85ca...</td>\n      <td>0x72464202cde05e91af24d80f2270472f85ca406c18b3...</td>\n      <td>1959071999999999036</td>\n      <td>5353.727641</td>\n      <td>37</td>\n      <td>63891437</td>\n      <td>1677184983</td>\n      <td>0x6487d336bdec94d4714a4d217b15aa5c7b9dfa99</td>\n      <td>7</td>\n      <td>2</td>\n      <td>...</td>\n      <td>NaN</td>\n      <td>LENDER</td>\n      <td>True</td>\n      <td>16899999999999998327</td>\n      <td>2</td>\n      <td>0</td>\n      <td>0</td>\n      <td>0</td>\n      <td>0</td>\n      <td>deposit</td>\n    </tr>\n    <tr>\n      <th>1</th>\n      <td>deposit-0xc769bda3341e2ecf901458b040af70005b7d...</td>\n      <td>0xc769bda3341e2ecf901458b040af70005b7d0e3b059e...</td>\n      <td>5956995999999999967</td>\n      <td>16279.204717</td>\n      <td>4</td>\n      <td>63891402</td>\n      <td>1677184974</td>\n      <td>0x128e040082f03bbd414d966f8e6e851cc430c643</td>\n      <td>3</td>\n      <td>2</td>\n      <td>...</td>\n      <td>NaN</td>\n      <td>LENDER</td>\n      <td>True</td>\n      <td>5956995999999999967</td>\n      <td>1</td>\n      <td>0</td>\n      <td>0</td>\n      <td>0</td>\n      <td>0</td>\n      <td>deposit</td>\n    </tr>\n    <tr>\n      <th>2</th>\n      <td>deposit-0x7ff58296a29365afb72fd531d3ab3f893250...</td>\n      <td>0x7ff58296a29365afb72fd531d3ab3f893250da5af9c0...</td>\n      <td>378766000000000000</td>\n      <td>1057.818208</td>\n      <td>53</td>\n      <td>63127102</td>\n      <td>1676990846</td>\n      <td>0xf8a2c6db32b73f762d0f6abc136a20b3f4ccd004</td>\n      <td>2</td>\n      <td>2</td>\n      <td>...</td>\n      <td>NaN</td>\n      <td>LENDER</td>\n      <td>True</td>\n      <td>378766000000000000</td>\n      <td>1</td>\n      <td>0</td>\n      <td>0</td>\n      <td>0</td>\n      <td>0</td>\n      <td>deposit</td>\n    </tr>\n    <tr>\n      <th>3</th>\n      <td>deposit-0x7c52f11b87402232bb8080a1d07dfcad762f...</td>\n      <td>0x7c52f11b87402232bb8080a1d07dfcad762fb9f286fb...</td>\n      <td>1652507000000000000</td>\n      <td>4666.708995</td>\n      <td>46</td>\n      <td>62701434</td>\n      <td>1676882228</td>\n      <td>0x08c6f0898bf40a9899595304039247b1deeaaf9c</td>\n      <td>2</td>\n      <td>2</td>\n      <td>...</td>\n      <td>NaN</td>\n      <td>LENDER</td>\n      <td>True</td>\n      <td>1652507000000000000</td>\n      <td>1</td>\n      <td>0</td>\n      <td>0</td>\n      <td>0</td>\n      <td>0</td>\n      <td>deposit</td>\n    </tr>\n    <tr>\n      <th>4</th>\n      <td>deposit-0x4cee3506562ea6ea8c615c4e2af2c8dc9230...</td>\n      <td>0x4cee3506562ea6ea8c615c4e2af2c8dc9230ebccd24a...</td>\n      <td>100000000000000089</td>\n      <td>284.064377</td>\n      <td>4</td>\n      <td>62477472</td>\n      <td>1676822794</td>\n      <td>0x1431ba2d4e5c5ed4bf6e8da41880a7e3b43da32d</td>\n      <td>13</td>\n      <td>2</td>\n      <td>...</td>\n      <td>NaN</td>\n      <td>LENDER</td>\n      <td>True</td>\n      <td>1070000000000000108</td>\n      <td>4</td>\n      <td>4</td>\n      <td>0</td>\n      <td>0</td>\n      <td>0</td>\n      <td>deposit</td>\n    </tr>\n    <tr>\n      <th>5</th>\n      <td>deposit-0x88a5cb82b121973e0183fed0f13a889ba5e1...</td>\n      <td>0x88a5cb82b121973e0183fed0f13a889ba5e13b5cc85b...</td>\n      <td>14940927999999999291</td>\n      <td>42462.684614</td>\n      <td>57</td>\n      <td>62106087</td>\n      <td>1676725682</td>\n      <td>0x6487d336bdec94d4714a4d217b15aa5c7b9dfa99</td>\n      <td>7</td>\n      <td>2</td>\n      <td>...</td>\n      <td>NaN</td>\n      <td>LENDER</td>\n      <td>True</td>\n      <td>16899999999999998327</td>\n      <td>2</td>\n      <td>0</td>\n      <td>0</td>\n      <td>0</td>\n      <td>0</td>\n      <td>deposit</td>\n    </tr>\n    <tr>\n      <th>6</th>\n      <td>deposit-0x14d9ae0f18b19436ff5837edc3426605d596...</td>\n      <td>0x14d9ae0f18b19436ff5837edc3426605d596802483b3...</td>\n      <td>6166600000000000000</td>\n      <td>17531.081150</td>\n      <td>45</td>\n      <td>61931290</td>\n      <td>1676678947</td>\n      <td>0x4688b6f3c384c3cffe95c92f599213de4a9fa9ca</td>\n      <td>2</td>\n      <td>2</td>\n      <td>...</td>\n      <td>NaN</td>\n      <td>LENDER</td>\n      <td>True</td>\n      <td>6166600000000000000</td>\n      <td>1</td>\n      <td>0</td>\n      <td>0</td>\n      <td>0</td>\n      <td>0</td>\n      <td>deposit</td>\n    </tr>\n    <tr>\n      <th>7</th>\n      <td>deposit-0x738b9f84d050920ac91f267597563b7f5c27...</td>\n      <td>0x738b9f84d050920ac91f267597563b7f5c27e425c6e1...</td>\n      <td>5632597000000000000</td>\n      <td>15890.437190</td>\n      <td>45</td>\n      <td>61851016</td>\n      <td>1676656035</td>\n      <td>0xa500c2e3f661cc567329b868cd4c9dfd5177ee3f</td>\n      <td>2</td>\n      <td>2</td>\n      <td>...</td>\n      <td>NaN</td>\n      <td>LENDER</td>\n      <td>True</td>\n      <td>5632597000000000000</td>\n      <td>1</td>\n      <td>0</td>\n      <td>0</td>\n      <td>0</td>\n      <td>0</td>\n      <td>deposit</td>\n    </tr>\n    <tr>\n      <th>8</th>\n      <td>deposit-0xd66a79898a59da2b2f2de5b4d11f5a57e29f...</td>\n      <td>0xd66a79898a59da2b2f2de5b4d11f5a57e29f20d411a7...</td>\n      <td>1119527000000000000</td>\n      <td>3153.776578</td>\n      <td>37</td>\n      <td>61144228</td>\n      <td>1676464979</td>\n      <td>0x9abcd812bffc1ef2e81a2dde75b5ed8809289d9d</td>\n      <td>27</td>\n      <td>6</td>\n      <td>...</td>\n      <td>NaN</td>\n      <td>LENDER</td>\n      <td>True</td>\n      <td>1119527000000000000</td>\n      <td>1</td>\n      <td>0</td>\n      <td>0</td>\n      <td>0</td>\n      <td>0</td>\n      <td>deposit</td>\n    </tr>\n    <tr>\n      <th>9</th>\n      <td>deposit-0xe8120c354c11f2fde377afd9c1261bc2c8b0...</td>\n      <td>0xe8120c354c11f2fde377afd9c1261bc2c8b0179faafd...</td>\n      <td>509425999999999934</td>\n      <td>1420.180663</td>\n      <td>4</td>\n      <td>61023104</td>\n      <td>1676431672</td>\n      <td>0x70b3d1ff337bcceeb3e2cf5b05efbffc50af87d7</td>\n      <td>2</td>\n      <td>0</td>\n      <td>...</td>\n      <td>1.676663e+09</td>\n      <td>LENDER</td>\n      <td>False</td>\n      <td>0</td>\n      <td>2</td>\n      <td>1</td>\n      <td>0</td>\n      <td>0</td>\n      <td>0</td>\n      <td>deposit</td>\n    </tr>\n  </tbody>\n</table>\n<p>10 rows × 79 columns</p>\n</div>"
     },
     "execution_count": 40,
     "metadata": {},
     "output_type": "execute_result"
    }
   ],
   "source": [
    "vestaDepositsDb.head(10)"
   ],
   "metadata": {
    "collapsed": false
   }
  },
  {
   "cell_type": "code",
   "execution_count": 41,
   "outputs": [
    {
     "data": {
      "text/plain": "                                       transaction_id  \\\n0   deposit-0x72464202cde05e91af24d80f2270472f85ca...   \n1   deposit-0xc769bda3341e2ecf901458b040af70005b7d...   \n2   deposit-0x7ff58296a29365afb72fd531d3ab3f893250...   \n3   deposit-0x7c52f11b87402232bb8080a1d07dfcad762f...   \n4   deposit-0x4cee3506562ea6ea8c615c4e2af2c8dc9230...   \n..                                                ...   \n95  deposit-0x89a28bf35e0811508239289f766bcffec8c0...   \n96  deposit-0xe9dbaa53ec8c7b6f923c1a7124c85142cc2e...   \n97  deposit-0x6ae89cc741858ca4e16c8a9774fc317f52a1...   \n98  deposit-0x55ba2a71b2fac91ba846e2740ae3fbb6c89b...   \n99  deposit-0x41eddfc354159f686a2ea1dd8955fb499d8c...   \n\n                                     transaction_hash    transaction_amount  \\\n0   0x72464202cde05e91af24d80f2270472f85ca406c18b3...   1959071999999999036   \n1   0xc769bda3341e2ecf901458b040af70005b7d0e3b059e...   5956995999999999967   \n2   0x7ff58296a29365afb72fd531d3ab3f893250da5af9c0...    378766000000000000   \n3   0x7c52f11b87402232bb8080a1d07dfcad762fb9f286fb...   1652507000000000000   \n4   0x4cee3506562ea6ea8c615c4e2af2c8dc9230ebccd24a...    100000000000000089   \n..                                                ...                   ...   \n95  0x89a28bf35e0811508239289f766bcffec8c0b2ec4d5a...  30242788000000000427   \n96  0xe9dbaa53ec8c7b6f923c1a7124c85142cc2edf578c21...     40965999999999947   \n97  0x6ae89cc741858ca4e16c8a9774fc317f52a1c358dec2...     34550000000000081   \n98  0x55ba2a71b2fac91ba846e2740ae3fbb6c89b2430abb8...    926881000000000000   \n99  0x41eddfc354159f686a2ea1dd8955fb499d8cf9e6b013...  11000000000000000000   \n\n    transaction_amountUSD  transaction_logIndex  transaction_blockNumber  \\\n0             5353.727641                    37                 63891437   \n1            16279.204717                     4                 63891402   \n2             1057.818208                    53                 63127102   \n3             4666.708995                    46                 62701434   \n4              284.064377                     4                 62477472   \n..                    ...                   ...                      ...   \n95           71540.743708                     4                 44876771   \n96              96.907008                     4                 44873759   \n97              81.729657                     4                 44872627   \n98            2192.580792                    49                 44872172   \n99           26026.505324                     4                 44709100   \n\n    transaction_timestamp                      transaction_account_id  \\\n0              1677184983  0x6487d336bdec94d4714a4d217b15aa5c7b9dfa99   \n1              1677184974  0x128e040082f03bbd414d966f8e6e851cc430c643   \n2              1676990846  0xf8a2c6db32b73f762d0f6abc136a20b3f4ccd004   \n3              1676882228  0x08c6f0898bf40a9899595304039247b1deeaaf9c   \n4              1676822794  0x1431ba2d4e5c5ed4bf6e8da41880a7e3b43da32d   \n..                    ...                                         ...   \n95             1670599259  0x515755b2c5a209976cf0de869c30f45ac7495a60   \n96             1670598316  0x1431ba2d4e5c5ed4bf6e8da41880a7e3b43da32d   \n97             1670597971  0x1431ba2d4e5c5ed4bf6e8da41880a7e3b43da32d   \n98             1670597823  0x1431ba2d4e5c5ed4bf6e8da41880a7e3b43da32d   \n99             1670538282  0x0561a78021d8966ddd20c28c6c4318d8675ee1f0   \n\n    transaction_account_positionCount  transaction_account_openPositionCount  \\\n0                                   7                                      2   \n1                                   3                                      2   \n2                                   2                                      2   \n3                                   2                                      2   \n4                                  13                                      2   \n..                                ...                                    ...   \n95                                  6                                      0   \n96                                 13                                      2   \n97                                 13                                      2   \n98                                 13                                      2   \n99                                152                                      0   \n\n    ...  transaction_position_side  transaction_position_isCollateral  \\\n0   ...                     LENDER                               True   \n1   ...                     LENDER                               True   \n2   ...                     LENDER                               True   \n3   ...                     LENDER                               True   \n4   ...                     LENDER                               True   \n..  ...                        ...                                ...   \n95  ...                     LENDER                              False   \n96  ...                     LENDER                              False   \n97  ...                     LENDER                              False   \n98  ...                     LENDER                              False   \n99  ...                     LENDER                              False   \n\n    transaction_position_balance  transaction_position_depositCount  \\\n0           16899999999999998327                                  2   \n1            5956995999999999967                                  1   \n2             378766000000000000                                  1   \n3            1652507000000000000                                  1   \n4            1070000000000000108                                  4   \n..                           ...                                ...   \n95                             0                                  1   \n96                             0                                  3   \n97                             0                                  3   \n98                             0                                  3   \n99                             0                                  3   \n\n    transaction_position_withdrawCount  transaction_position_borrowCount  \\\n0                                    0                                 0   \n1                                    0                                 0   \n2                                    0                                 0   \n3                                    0                                 0   \n4                                    4                                 0   \n..                                 ...                               ...   \n95                                   2                                 0   \n96                                   1                                 0   \n97                                   1                                 0   \n98                                   1                                 0   \n99                                   4                                 0   \n\n    transaction_position_repayCount transaction_position_liquidationCount  \\\n0                                 0                                     0   \n1                                 0                                     0   \n2                                 0                                     0   \n3                                 0                                     0   \n4                                 0                                     0   \n..                              ...                                   ...   \n95                                0                                     0   \n96                                0                                     0   \n97                                0                                     0   \n98                                0                                     0   \n99                                0                                     0   \n\n      event            dateTime  \n0   deposit 2023-02-23 20:43:03  \n1   deposit 2023-02-23 20:42:54  \n2   deposit 2023-02-21 14:47:26  \n3   deposit 2023-02-20 08:37:08  \n4   deposit 2023-02-19 16:06:34  \n..      ...                 ...  \n95  deposit 2022-12-09 15:20:59  \n96  deposit 2022-12-09 15:05:16  \n97  deposit 2022-12-09 14:59:31  \n98  deposit 2022-12-09 14:57:03  \n99  deposit 2022-12-08 22:24:42  \n\n[100 rows x 80 columns]",
      "text/html": "<div>\n<style scoped>\n    .dataframe tbody tr th:only-of-type {\n        vertical-align: middle;\n    }\n\n    .dataframe tbody tr th {\n        vertical-align: top;\n    }\n\n    .dataframe thead th {\n        text-align: right;\n    }\n</style>\n<table border=\"1\" class=\"dataframe\">\n  <thead>\n    <tr style=\"text-align: right;\">\n      <th></th>\n      <th>transaction_id</th>\n      <th>transaction_hash</th>\n      <th>transaction_amount</th>\n      <th>transaction_amountUSD</th>\n      <th>transaction_logIndex</th>\n      <th>transaction_blockNumber</th>\n      <th>transaction_timestamp</th>\n      <th>transaction_account_id</th>\n      <th>transaction_account_positionCount</th>\n      <th>transaction_account_openPositionCount</th>\n      <th>...</th>\n      <th>transaction_position_side</th>\n      <th>transaction_position_isCollateral</th>\n      <th>transaction_position_balance</th>\n      <th>transaction_position_depositCount</th>\n      <th>transaction_position_withdrawCount</th>\n      <th>transaction_position_borrowCount</th>\n      <th>transaction_position_repayCount</th>\n      <th>transaction_position_liquidationCount</th>\n      <th>event</th>\n      <th>dateTime</th>\n    </tr>\n  </thead>\n  <tbody>\n    <tr>\n      <th>0</th>\n      <td>deposit-0x72464202cde05e91af24d80f2270472f85ca...</td>\n      <td>0x72464202cde05e91af24d80f2270472f85ca406c18b3...</td>\n      <td>1959071999999999036</td>\n      <td>5353.727641</td>\n      <td>37</td>\n      <td>63891437</td>\n      <td>1677184983</td>\n      <td>0x6487d336bdec94d4714a4d217b15aa5c7b9dfa99</td>\n      <td>7</td>\n      <td>2</td>\n      <td>...</td>\n      <td>LENDER</td>\n      <td>True</td>\n      <td>16899999999999998327</td>\n      <td>2</td>\n      <td>0</td>\n      <td>0</td>\n      <td>0</td>\n      <td>0</td>\n      <td>deposit</td>\n      <td>2023-02-23 20:43:03</td>\n    </tr>\n    <tr>\n      <th>1</th>\n      <td>deposit-0xc769bda3341e2ecf901458b040af70005b7d...</td>\n      <td>0xc769bda3341e2ecf901458b040af70005b7d0e3b059e...</td>\n      <td>5956995999999999967</td>\n      <td>16279.204717</td>\n      <td>4</td>\n      <td>63891402</td>\n      <td>1677184974</td>\n      <td>0x128e040082f03bbd414d966f8e6e851cc430c643</td>\n      <td>3</td>\n      <td>2</td>\n      <td>...</td>\n      <td>LENDER</td>\n      <td>True</td>\n      <td>5956995999999999967</td>\n      <td>1</td>\n      <td>0</td>\n      <td>0</td>\n      <td>0</td>\n      <td>0</td>\n      <td>deposit</td>\n      <td>2023-02-23 20:42:54</td>\n    </tr>\n    <tr>\n      <th>2</th>\n      <td>deposit-0x7ff58296a29365afb72fd531d3ab3f893250...</td>\n      <td>0x7ff58296a29365afb72fd531d3ab3f893250da5af9c0...</td>\n      <td>378766000000000000</td>\n      <td>1057.818208</td>\n      <td>53</td>\n      <td>63127102</td>\n      <td>1676990846</td>\n      <td>0xf8a2c6db32b73f762d0f6abc136a20b3f4ccd004</td>\n      <td>2</td>\n      <td>2</td>\n      <td>...</td>\n      <td>LENDER</td>\n      <td>True</td>\n      <td>378766000000000000</td>\n      <td>1</td>\n      <td>0</td>\n      <td>0</td>\n      <td>0</td>\n      <td>0</td>\n      <td>deposit</td>\n      <td>2023-02-21 14:47:26</td>\n    </tr>\n    <tr>\n      <th>3</th>\n      <td>deposit-0x7c52f11b87402232bb8080a1d07dfcad762f...</td>\n      <td>0x7c52f11b87402232bb8080a1d07dfcad762fb9f286fb...</td>\n      <td>1652507000000000000</td>\n      <td>4666.708995</td>\n      <td>46</td>\n      <td>62701434</td>\n      <td>1676882228</td>\n      <td>0x08c6f0898bf40a9899595304039247b1deeaaf9c</td>\n      <td>2</td>\n      <td>2</td>\n      <td>...</td>\n      <td>LENDER</td>\n      <td>True</td>\n      <td>1652507000000000000</td>\n      <td>1</td>\n      <td>0</td>\n      <td>0</td>\n      <td>0</td>\n      <td>0</td>\n      <td>deposit</td>\n      <td>2023-02-20 08:37:08</td>\n    </tr>\n    <tr>\n      <th>4</th>\n      <td>deposit-0x4cee3506562ea6ea8c615c4e2af2c8dc9230...</td>\n      <td>0x4cee3506562ea6ea8c615c4e2af2c8dc9230ebccd24a...</td>\n      <td>100000000000000089</td>\n      <td>284.064377</td>\n      <td>4</td>\n      <td>62477472</td>\n      <td>1676822794</td>\n      <td>0x1431ba2d4e5c5ed4bf6e8da41880a7e3b43da32d</td>\n      <td>13</td>\n      <td>2</td>\n      <td>...</td>\n      <td>LENDER</td>\n      <td>True</td>\n      <td>1070000000000000108</td>\n      <td>4</td>\n      <td>4</td>\n      <td>0</td>\n      <td>0</td>\n      <td>0</td>\n      <td>deposit</td>\n      <td>2023-02-19 16:06:34</td>\n    </tr>\n    <tr>\n      <th>...</th>\n      <td>...</td>\n      <td>...</td>\n      <td>...</td>\n      <td>...</td>\n      <td>...</td>\n      <td>...</td>\n      <td>...</td>\n      <td>...</td>\n      <td>...</td>\n      <td>...</td>\n      <td>...</td>\n      <td>...</td>\n      <td>...</td>\n      <td>...</td>\n      <td>...</td>\n      <td>...</td>\n      <td>...</td>\n      <td>...</td>\n      <td>...</td>\n      <td>...</td>\n      <td>...</td>\n    </tr>\n    <tr>\n      <th>95</th>\n      <td>deposit-0x89a28bf35e0811508239289f766bcffec8c0...</td>\n      <td>0x89a28bf35e0811508239289f766bcffec8c0b2ec4d5a...</td>\n      <td>30242788000000000427</td>\n      <td>71540.743708</td>\n      <td>4</td>\n      <td>44876771</td>\n      <td>1670599259</td>\n      <td>0x515755b2c5a209976cf0de869c30f45ac7495a60</td>\n      <td>6</td>\n      <td>0</td>\n      <td>...</td>\n      <td>LENDER</td>\n      <td>False</td>\n      <td>0</td>\n      <td>1</td>\n      <td>2</td>\n      <td>0</td>\n      <td>0</td>\n      <td>0</td>\n      <td>deposit</td>\n      <td>2022-12-09 15:20:59</td>\n    </tr>\n    <tr>\n      <th>96</th>\n      <td>deposit-0xe9dbaa53ec8c7b6f923c1a7124c85142cc2e...</td>\n      <td>0xe9dbaa53ec8c7b6f923c1a7124c85142cc2edf578c21...</td>\n      <td>40965999999999947</td>\n      <td>96.907008</td>\n      <td>4</td>\n      <td>44873759</td>\n      <td>1670598316</td>\n      <td>0x1431ba2d4e5c5ed4bf6e8da41880a7e3b43da32d</td>\n      <td>13</td>\n      <td>2</td>\n      <td>...</td>\n      <td>LENDER</td>\n      <td>False</td>\n      <td>0</td>\n      <td>3</td>\n      <td>1</td>\n      <td>0</td>\n      <td>0</td>\n      <td>0</td>\n      <td>deposit</td>\n      <td>2022-12-09 15:05:16</td>\n    </tr>\n    <tr>\n      <th>97</th>\n      <td>deposit-0x6ae89cc741858ca4e16c8a9774fc317f52a1...</td>\n      <td>0x6ae89cc741858ca4e16c8a9774fc317f52a1c358dec2...</td>\n      <td>34550000000000081</td>\n      <td>81.729657</td>\n      <td>4</td>\n      <td>44872627</td>\n      <td>1670597971</td>\n      <td>0x1431ba2d4e5c5ed4bf6e8da41880a7e3b43da32d</td>\n      <td>13</td>\n      <td>2</td>\n      <td>...</td>\n      <td>LENDER</td>\n      <td>False</td>\n      <td>0</td>\n      <td>3</td>\n      <td>1</td>\n      <td>0</td>\n      <td>0</td>\n      <td>0</td>\n      <td>deposit</td>\n      <td>2022-12-09 14:59:31</td>\n    </tr>\n    <tr>\n      <th>98</th>\n      <td>deposit-0x55ba2a71b2fac91ba846e2740ae3fbb6c89b...</td>\n      <td>0x55ba2a71b2fac91ba846e2740ae3fbb6c89b2430abb8...</td>\n      <td>926881000000000000</td>\n      <td>2192.580792</td>\n      <td>49</td>\n      <td>44872172</td>\n      <td>1670597823</td>\n      <td>0x1431ba2d4e5c5ed4bf6e8da41880a7e3b43da32d</td>\n      <td>13</td>\n      <td>2</td>\n      <td>...</td>\n      <td>LENDER</td>\n      <td>False</td>\n      <td>0</td>\n      <td>3</td>\n      <td>1</td>\n      <td>0</td>\n      <td>0</td>\n      <td>0</td>\n      <td>deposit</td>\n      <td>2022-12-09 14:57:03</td>\n    </tr>\n    <tr>\n      <th>99</th>\n      <td>deposit-0x41eddfc354159f686a2ea1dd8955fb499d8c...</td>\n      <td>0x41eddfc354159f686a2ea1dd8955fb499d8cf9e6b013...</td>\n      <td>11000000000000000000</td>\n      <td>26026.505324</td>\n      <td>4</td>\n      <td>44709100</td>\n      <td>1670538282</td>\n      <td>0x0561a78021d8966ddd20c28c6c4318d8675ee1f0</td>\n      <td>152</td>\n      <td>0</td>\n      <td>...</td>\n      <td>LENDER</td>\n      <td>False</td>\n      <td>0</td>\n      <td>3</td>\n      <td>4</td>\n      <td>0</td>\n      <td>0</td>\n      <td>0</td>\n      <td>deposit</td>\n      <td>2022-12-08 22:24:42</td>\n    </tr>\n  </tbody>\n</table>\n<p>100 rows × 80 columns</p>\n</div>"
     },
     "execution_count": 41,
     "metadata": {},
     "output_type": "execute_result"
    }
   ],
   "source": [
    "vestaDepositsDbTimed = db.query(\"select \"\n",
    "               \"    * \"\n",
    "                    \" ,to_timestamp(transaction_timestamp::int) dateTime \"\n",
    "               \"From vestaDepositsDb \"\n",
    "               #\"where lower(liquidityPools_name) like lower('%olympus%') \"\n",
    "                #    \"or lower(pairs_token1_symbol) like lower('%OHM%')  \"\n",
    "               #\" limit 100 \"\n",
    "               ).df()\n",
    "\n",
    "vestaDepositsDbTimed.head(100)"
   ],
   "metadata": {
    "collapsed": false
   }
  },
  {
   "cell_type": "code",
   "execution_count": 42,
   "outputs": [
    {
     "name": "stdout",
     "output_type": "stream",
     "text": [
      "file saved\n"
     ]
    }
   ],
   "source": [
    "vestaDepositsDbTimedLength = len(vestaDepositsDbTimed)\n",
    "path =file+'/vesta_deposit_events.csv'\n",
    "vestaDepositsDbTimed.to_csv(path, index = False)\n",
    "\n",
    "path =file+'/vesta_deposit_events_piped.csv'\n",
    "vestaDepositsDbTimed.to_csv(path, index = False, sep='|')\n",
    "print('file saved')"
   ],
   "metadata": {
    "collapsed": false
   }
  },
  {
   "cell_type": "code",
   "execution_count": 43,
   "outputs": [
    {
     "name": "stdout",
     "output_type": "stream",
     "text": [
      "iterations:  0 Lines skipped:  0 records collected:  1000  - latest recordID:  0x16c63848f732719a873e27d5507482d1b69a7f50d801cd9d998bbbf796b7af36   repay-0x16c63848f732719a873e27d5507482d1b69a7f50d801cd9d998bbbf796b7af36-53  - vestaRepays DB length:  1000  - latest record from:  2023-02-22 03:28:47 1 days ago\n",
      "iterations:  1 Lines skipped:  1000 records collected:  1000  - latest recordID:  0xdef3aaef9b7b84208b2ccfa46b8ed201018634e3074f813bae06e16c8970196e   repay-0xdef3aaef9b7b84208b2ccfa46b8ed201018634e3074f813bae06e16c8970196e-66  - vestaRepays DB length:  2000  - latest record from:  2023-02-21 04:03:08 2 days ago\n",
      "iterations:  2 Lines skipped:  2000 records collected:  6  - latest recordID:  0xd41da721cb62b332016bd32e6fbc7370d071a10bf7d0729263f8ab20ca0707bf   repay-0xd41da721cb62b332016bd32e6fbc7370d071a10bf7d0729263f8ab20ca0707bf-82  - vestaRepays DB length:  2006  - latest record from:  2023-02-21 03:58:59 2 days ago\n",
      "Done. Total Records collected:  2006\n"
     ]
    }
   ],
   "source": [
    "##this tracks the ENTIRE list of events for vestaRepaying the VST vestaRepayed against gOHM\n",
    "vestaRepayTicker = 0\n",
    "vestaRepayslist = pd.DataFrame()\n",
    "vestaRepaysDb = pd.DataFrame()\n",
    "vestaRepayListLength = 1000\n",
    "datediff = 0\n",
    "now=0\n",
    "daysAgo=0\n",
    "daysLimit = 45\n",
    "exit = False\n",
    "while exit==False:\n",
    "    skipValue = (vestaRepayTicker)*(1000)\n",
    "    vestaRepays = vesta.Query.repays(\n",
    "        orderBy='timestamp',\n",
    "        orderDirection='desc',\n",
    "        first=1000,\n",
    "        skip = skipValue,\n",
    "        where={ 'market': '0x8d9ba570d6cb60c7e3e0f31343efe75ab8e65fb1' } #gOHM market\n",
    "\n",
    "    )\n",
    "\n",
    "    vestaRepayslist = sg.query_df([\n",
    "        vestaRepays.id\n",
    "        ,vestaRepays.hash\n",
    "        ,vestaRepays.logIndex\n",
    "        ,vestaRepays.blockNumber\n",
    "        ,vestaRepays.timestamp\n",
    "        ,vestaRepays.account\n",
    "        ,vestaRepays.market\n",
    "        ,vestaRepays.market.rates\n",
    "        ,vestaRepays.asset\n",
    "        ,vestaRepays.amount\n",
    "        ,vestaRepays.amountUSD\n",
    "        ,vestaRepays.position\n",
    "    ])\n",
    "\n",
    "    #vestaRepayslist.sort_values(by=['vestaRepays_timestamp'])\n",
    "\n",
    "    vestaRepaysDb=pd.concat([vestaRepaysDb, vestaRepayslist])\n",
    "    recordTimestamp1 = vestaRepaysDb.iat[vestaRepayTicker,4]\n",
    "    recordTimestamp = dt.datetime.fromtimestamp( recordTimestamp1 )\n",
    "    now = (int(dt.datetime.utcnow().timestamp()))\n",
    "    datediff=abs(int(now) - recordTimestamp1)\n",
    "    daysAgo = int(datediff/86400)\n",
    "    vestaRepaysDbLength = len(vestaRepaysDb)\n",
    "    vestaRepayListLength = len(vestaRepayslist)\n",
    "    recordID = vestaRepaysDb.iat[vestaRepayTicker,0]\n",
    "    vestaRepay = vestaRepaysDb.iat[vestaRepayTicker,1]\n",
    "    print(\"iterations: \", vestaRepayTicker, \"Lines skipped: \",skipValue, \"records collected: \", vestaRepayListLength, \" - latest recordID: \",vestaRepay, \" \", recordID , \" - vestaRepays DB length: \", vestaRepaysDbLength, \" - latest record from: \", recordTimestamp, daysAgo,\"days ago\")\n",
    "    #print(\"iterations: \", vestaRepayTicker, \"records collected: \", vestaRepayListLength, \" - userdb length: \", vestaRepaysDbLength)\n",
    "    vestaRepayTicker = vestaRepayTicker+1\n",
    "\n",
    "    if daysAgo>daysLimit: exit =True\n",
    "    if vestaRepayListLength<1000: exit =True\n",
    "\n",
    "vestaRepaysDb.columns = vestaRepaysDb.columns.str.replace(\"repays\", \"transaction\")\n",
    "vestaRepaysDb['event']='Repay'\n",
    "print(\"Done. Total Records collected: \", vestaRepaysDbLength)"
   ],
   "metadata": {
    "collapsed": false
   }
  },
  {
   "cell_type": "code",
   "execution_count": 44,
   "outputs": [
    {
     "data": {
      "text/plain": "                                      transaction_id  \\\n0  repay-0x16c63848f732719a873e27d5507482d1b69a7f...   \n1  repay-0xdef3aaef9b7b84208b2ccfa46b8ed201018634...   \n2  repay-0xd41da721cb62b332016bd32e6fbc7370d071a1...   \n3  repay-0x9dd7944b914d9e66cffd21d679008545d5c875...   \n4  repay-0x492c64162373fee4cd96d76346889687922298...   \n5  repay-0xe6b3bf252636e7dd3780210649ee2605aafc37...   \n6  repay-0xb00fdc322ebe4d624e5467484a88c82b3a7f1f...   \n7  repay-0x6c41a723a936aa288264728bdac95181a4ccab...   \n8  repay-0x4678e37241cb6ac2a0fc56e43c9dbb219ab75b...   \n9  repay-0x257c873d7a8b5d12de9650e5e417c67dcd5cb4...   \n\n                                    transaction_hash  transaction_logIndex  \\\n0  0x16c63848f732719a873e27d5507482d1b69a7f50d801...                    53   \n1  0xdef3aaef9b7b84208b2ccfa46b8ed201018634e3074f...                    66   \n2  0xd41da721cb62b332016bd32e6fbc7370d071a10bf7d0...                    82   \n3  0x9dd7944b914d9e66cffd21d679008545d5c875596a3d...                    79   \n4  0x492c64162373fee4cd96d76346889687922298bee49c...                    63   \n5  0xe6b3bf252636e7dd3780210649ee2605aafc37ba56f4...                    26   \n6  0xb00fdc322ebe4d624e5467484a88c82b3a7f1f083fb9...                    32   \n7  0x6c41a723a936aa288264728bdac95181a4ccab408e81...                    32   \n8  0x4678e37241cb6ac2a0fc56e43c9dbb219ab75b1cf9b8...                    32   \n9  0x257c873d7a8b5d12de9650e5e417c67dcd5cb47dc0d0...                    64   \n\n   transaction_blockNumber  transaction_timestamp  \\\n0                 63418376             1677065327   \n1                 63087559             1676980988   \n2                 63086538             1676980739   \n3                 62118416             1676728792   \n4                 61874975             1676662652   \n5                 61434476             1676544958   \n6                 61433860             1676544795   \n7                 61433270             1676544629   \n8                 61432205             1676544342   \n9                 61304908             1676508530   \n\n                       transaction_account_id  \\\n0  0x9abcd812bffc1ef2e81a2dde75b5ed8809289d9d   \n1  0x6688b44ff874e246c441397d60fc169d4972a1ab   \n2  0x6688b44ff874e246c441397d60fc169d4972a1ab   \n3  0x19206f03068ec1fa140380a3a9ec8cee2a15aeea   \n4  0x70b3d1ff337bcceeb3e2cf5b05efbffc50af87d7   \n5  0xc9e166f2737e004e93800dcef0d608b014df07f6   \n6  0xc9e166f2737e004e93800dcef0d608b014df07f6   \n7  0xc9e166f2737e004e93800dcef0d608b014df07f6   \n8  0xc9e166f2737e004e93800dcef0d608b014df07f6   \n9  0xd54d23200e2bf7cb7a7d6792a55da1377a697799   \n\n   transaction_account_positionCount  transaction_account_openPositionCount  \\\n0                                 27                                      6   \n1                                  4                                      0   \n2                                  4                                      0   \n3                                  2                                      0   \n4                                  2                                      0   \n5                                 25                                      0   \n6                                 25                                      0   \n7                                 25                                      0   \n8                                 25                                      0   \n9                                  2                                      0   \n\n   transaction_account_closedPositionCount  transaction_account_depositCount  \\\n0                                       21                                24   \n1                                        4                                 7   \n2                                        4                                 7   \n3                                        2                                 2   \n4                                        2                                 2   \n5                                       25                                16   \n6                                       25                                16   \n7                                       25                                16   \n8                                       25                                16   \n9                                        2                                10   \n\n   ...  transaction_position_timestampClosed  transaction_position_side  \\\n0  ...                                   NaN                   BORROWER   \n1  ...                          1.676981e+09                   BORROWER   \n2  ...                          1.676981e+09                   BORROWER   \n3  ...                          1.676729e+09                   BORROWER   \n4  ...                          1.676663e+09                   BORROWER   \n5  ...                          1.676545e+09                   BORROWER   \n6  ...                          1.676545e+09                   BORROWER   \n7  ...                          1.676545e+09                   BORROWER   \n8  ...                          1.676545e+09                   BORROWER   \n9  ...                          1.676509e+09                   BORROWER   \n\n   transaction_position_isCollateral  transaction_position_balance  \\\n0                               None        1500000191052842115667   \n1                               None                             0   \n2                               None                             0   \n3                               None                             0   \n4                               None                             0   \n5                               None                             0   \n6                               None                             0   \n7                               None                             0   \n8                               None                             0   \n9                               None                             0   \n\n   transaction_position_depositCount transaction_position_withdrawCount  \\\n0                                  0                                  0   \n1                                  0                                  0   \n2                                  0                                  0   \n3                                  0                                  0   \n4                                  0                                  0   \n5                                  0                                  0   \n6                                  0                                  0   \n7                                  0                                  0   \n8                                  0                                  0   \n9                                  0                                  0   \n\n  transaction_position_borrowCount transaction_position_repayCount  \\\n0                                8                               2   \n1                                5                               5   \n2                                5                               5   \n3                                2                               1   \n4                                2                               1   \n5                               35                              25   \n6                               35                              25   \n7                               35                              25   \n8                               35                              25   \n9                                6                              10   \n\n   transaction_position_liquidationCount  event  \n0                                      0  Repay  \n1                                      0  Repay  \n2                                      0  Repay  \n3                                      0  Repay  \n4                                      0  Repay  \n5                                      0  Repay  \n6                                      0  Repay  \n7                                      0  Repay  \n8                                      0  Repay  \n9                                      0  Repay  \n\n[10 rows x 79 columns]",
      "text/html": "<div>\n<style scoped>\n    .dataframe tbody tr th:only-of-type {\n        vertical-align: middle;\n    }\n\n    .dataframe tbody tr th {\n        vertical-align: top;\n    }\n\n    .dataframe thead th {\n        text-align: right;\n    }\n</style>\n<table border=\"1\" class=\"dataframe\">\n  <thead>\n    <tr style=\"text-align: right;\">\n      <th></th>\n      <th>transaction_id</th>\n      <th>transaction_hash</th>\n      <th>transaction_logIndex</th>\n      <th>transaction_blockNumber</th>\n      <th>transaction_timestamp</th>\n      <th>transaction_account_id</th>\n      <th>transaction_account_positionCount</th>\n      <th>transaction_account_openPositionCount</th>\n      <th>transaction_account_closedPositionCount</th>\n      <th>transaction_account_depositCount</th>\n      <th>...</th>\n      <th>transaction_position_timestampClosed</th>\n      <th>transaction_position_side</th>\n      <th>transaction_position_isCollateral</th>\n      <th>transaction_position_balance</th>\n      <th>transaction_position_depositCount</th>\n      <th>transaction_position_withdrawCount</th>\n      <th>transaction_position_borrowCount</th>\n      <th>transaction_position_repayCount</th>\n      <th>transaction_position_liquidationCount</th>\n      <th>event</th>\n    </tr>\n  </thead>\n  <tbody>\n    <tr>\n      <th>0</th>\n      <td>repay-0x16c63848f732719a873e27d5507482d1b69a7f...</td>\n      <td>0x16c63848f732719a873e27d5507482d1b69a7f50d801...</td>\n      <td>53</td>\n      <td>63418376</td>\n      <td>1677065327</td>\n      <td>0x9abcd812bffc1ef2e81a2dde75b5ed8809289d9d</td>\n      <td>27</td>\n      <td>6</td>\n      <td>21</td>\n      <td>24</td>\n      <td>...</td>\n      <td>NaN</td>\n      <td>BORROWER</td>\n      <td>None</td>\n      <td>1500000191052842115667</td>\n      <td>0</td>\n      <td>0</td>\n      <td>8</td>\n      <td>2</td>\n      <td>0</td>\n      <td>Repay</td>\n    </tr>\n    <tr>\n      <th>1</th>\n      <td>repay-0xdef3aaef9b7b84208b2ccfa46b8ed201018634...</td>\n      <td>0xdef3aaef9b7b84208b2ccfa46b8ed201018634e3074f...</td>\n      <td>66</td>\n      <td>63087559</td>\n      <td>1676980988</td>\n      <td>0x6688b44ff874e246c441397d60fc169d4972a1ab</td>\n      <td>4</td>\n      <td>0</td>\n      <td>4</td>\n      <td>7</td>\n      <td>...</td>\n      <td>1.676981e+09</td>\n      <td>BORROWER</td>\n      <td>None</td>\n      <td>0</td>\n      <td>0</td>\n      <td>0</td>\n      <td>5</td>\n      <td>5</td>\n      <td>0</td>\n      <td>Repay</td>\n    </tr>\n    <tr>\n      <th>2</th>\n      <td>repay-0xd41da721cb62b332016bd32e6fbc7370d071a1...</td>\n      <td>0xd41da721cb62b332016bd32e6fbc7370d071a10bf7d0...</td>\n      <td>82</td>\n      <td>63086538</td>\n      <td>1676980739</td>\n      <td>0x6688b44ff874e246c441397d60fc169d4972a1ab</td>\n      <td>4</td>\n      <td>0</td>\n      <td>4</td>\n      <td>7</td>\n      <td>...</td>\n      <td>1.676981e+09</td>\n      <td>BORROWER</td>\n      <td>None</td>\n      <td>0</td>\n      <td>0</td>\n      <td>0</td>\n      <td>5</td>\n      <td>5</td>\n      <td>0</td>\n      <td>Repay</td>\n    </tr>\n    <tr>\n      <th>3</th>\n      <td>repay-0x9dd7944b914d9e66cffd21d679008545d5c875...</td>\n      <td>0x9dd7944b914d9e66cffd21d679008545d5c875596a3d...</td>\n      <td>79</td>\n      <td>62118416</td>\n      <td>1676728792</td>\n      <td>0x19206f03068ec1fa140380a3a9ec8cee2a15aeea</td>\n      <td>2</td>\n      <td>0</td>\n      <td>2</td>\n      <td>2</td>\n      <td>...</td>\n      <td>1.676729e+09</td>\n      <td>BORROWER</td>\n      <td>None</td>\n      <td>0</td>\n      <td>0</td>\n      <td>0</td>\n      <td>2</td>\n      <td>1</td>\n      <td>0</td>\n      <td>Repay</td>\n    </tr>\n    <tr>\n      <th>4</th>\n      <td>repay-0x492c64162373fee4cd96d76346889687922298...</td>\n      <td>0x492c64162373fee4cd96d76346889687922298bee49c...</td>\n      <td>63</td>\n      <td>61874975</td>\n      <td>1676662652</td>\n      <td>0x70b3d1ff337bcceeb3e2cf5b05efbffc50af87d7</td>\n      <td>2</td>\n      <td>0</td>\n      <td>2</td>\n      <td>2</td>\n      <td>...</td>\n      <td>1.676663e+09</td>\n      <td>BORROWER</td>\n      <td>None</td>\n      <td>0</td>\n      <td>0</td>\n      <td>0</td>\n      <td>2</td>\n      <td>1</td>\n      <td>0</td>\n      <td>Repay</td>\n    </tr>\n    <tr>\n      <th>5</th>\n      <td>repay-0xe6b3bf252636e7dd3780210649ee2605aafc37...</td>\n      <td>0xe6b3bf252636e7dd3780210649ee2605aafc37ba56f4...</td>\n      <td>26</td>\n      <td>61434476</td>\n      <td>1676544958</td>\n      <td>0xc9e166f2737e004e93800dcef0d608b014df07f6</td>\n      <td>25</td>\n      <td>0</td>\n      <td>25</td>\n      <td>16</td>\n      <td>...</td>\n      <td>1.676545e+09</td>\n      <td>BORROWER</td>\n      <td>None</td>\n      <td>0</td>\n      <td>0</td>\n      <td>0</td>\n      <td>35</td>\n      <td>25</td>\n      <td>0</td>\n      <td>Repay</td>\n    </tr>\n    <tr>\n      <th>6</th>\n      <td>repay-0xb00fdc322ebe4d624e5467484a88c82b3a7f1f...</td>\n      <td>0xb00fdc322ebe4d624e5467484a88c82b3a7f1f083fb9...</td>\n      <td>32</td>\n      <td>61433860</td>\n      <td>1676544795</td>\n      <td>0xc9e166f2737e004e93800dcef0d608b014df07f6</td>\n      <td>25</td>\n      <td>0</td>\n      <td>25</td>\n      <td>16</td>\n      <td>...</td>\n      <td>1.676545e+09</td>\n      <td>BORROWER</td>\n      <td>None</td>\n      <td>0</td>\n      <td>0</td>\n      <td>0</td>\n      <td>35</td>\n      <td>25</td>\n      <td>0</td>\n      <td>Repay</td>\n    </tr>\n    <tr>\n      <th>7</th>\n      <td>repay-0x6c41a723a936aa288264728bdac95181a4ccab...</td>\n      <td>0x6c41a723a936aa288264728bdac95181a4ccab408e81...</td>\n      <td>32</td>\n      <td>61433270</td>\n      <td>1676544629</td>\n      <td>0xc9e166f2737e004e93800dcef0d608b014df07f6</td>\n      <td>25</td>\n      <td>0</td>\n      <td>25</td>\n      <td>16</td>\n      <td>...</td>\n      <td>1.676545e+09</td>\n      <td>BORROWER</td>\n      <td>None</td>\n      <td>0</td>\n      <td>0</td>\n      <td>0</td>\n      <td>35</td>\n      <td>25</td>\n      <td>0</td>\n      <td>Repay</td>\n    </tr>\n    <tr>\n      <th>8</th>\n      <td>repay-0x4678e37241cb6ac2a0fc56e43c9dbb219ab75b...</td>\n      <td>0x4678e37241cb6ac2a0fc56e43c9dbb219ab75b1cf9b8...</td>\n      <td>32</td>\n      <td>61432205</td>\n      <td>1676544342</td>\n      <td>0xc9e166f2737e004e93800dcef0d608b014df07f6</td>\n      <td>25</td>\n      <td>0</td>\n      <td>25</td>\n      <td>16</td>\n      <td>...</td>\n      <td>1.676545e+09</td>\n      <td>BORROWER</td>\n      <td>None</td>\n      <td>0</td>\n      <td>0</td>\n      <td>0</td>\n      <td>35</td>\n      <td>25</td>\n      <td>0</td>\n      <td>Repay</td>\n    </tr>\n    <tr>\n      <th>9</th>\n      <td>repay-0x257c873d7a8b5d12de9650e5e417c67dcd5cb4...</td>\n      <td>0x257c873d7a8b5d12de9650e5e417c67dcd5cb47dc0d0...</td>\n      <td>64</td>\n      <td>61304908</td>\n      <td>1676508530</td>\n      <td>0xd54d23200e2bf7cb7a7d6792a55da1377a697799</td>\n      <td>2</td>\n      <td>0</td>\n      <td>2</td>\n      <td>10</td>\n      <td>...</td>\n      <td>1.676509e+09</td>\n      <td>BORROWER</td>\n      <td>None</td>\n      <td>0</td>\n      <td>0</td>\n      <td>0</td>\n      <td>6</td>\n      <td>10</td>\n      <td>0</td>\n      <td>Repay</td>\n    </tr>\n  </tbody>\n</table>\n<p>10 rows × 79 columns</p>\n</div>"
     },
     "execution_count": 44,
     "metadata": {},
     "output_type": "execute_result"
    }
   ],
   "source": [
    "vestaRepaysDb.head(10)"
   ],
   "metadata": {
    "collapsed": false
   }
  },
  {
   "cell_type": "code",
   "execution_count": 45,
   "outputs": [
    {
     "data": {
      "text/plain": "                                       transaction_id  \\\n0   repay-0x16c63848f732719a873e27d5507482d1b69a7f...   \n1   repay-0xdef3aaef9b7b84208b2ccfa46b8ed201018634...   \n2   repay-0xd41da721cb62b332016bd32e6fbc7370d071a1...   \n3   repay-0x9dd7944b914d9e66cffd21d679008545d5c875...   \n4   repay-0x492c64162373fee4cd96d76346889687922298...   \n..                                                ...   \n95  repay-0xfca652986e7f153ee6bdcf2e919c00e915fb55...   \n96  repay-0x0c5861c987d50745b6b923a3de5d4deff8d3c5...   \n97  repay-0x1c0ad823e88db453a3ed16a756cf8934f9a730...   \n98  repay-0xdded85e3c6046f5c0f9856a523e787330345df...   \n99  repay-0x59f1ba576f060b88dbdbef87cd7038d09d6e37...   \n\n                                     transaction_hash  transaction_logIndex  \\\n0   0x16c63848f732719a873e27d5507482d1b69a7f50d801...                    53   \n1   0xdef3aaef9b7b84208b2ccfa46b8ed201018634e3074f...                    66   \n2   0xd41da721cb62b332016bd32e6fbc7370d071a10bf7d0...                    82   \n3   0x9dd7944b914d9e66cffd21d679008545d5c875596a3d...                    79   \n4   0x492c64162373fee4cd96d76346889687922298bee49c...                    63   \n..                                                ...                   ...   \n95  0xfca652986e7f153ee6bdcf2e919c00e915fb55f68483...                    29   \n96  0x0c5861c987d50745b6b923a3de5d4deff8d3c5100a51...                     4   \n97  0x1c0ad823e88db453a3ed16a756cf8934f9a730191f95...                    41   \n98  0xdded85e3c6046f5c0f9856a523e787330345dfce37f4...                     4   \n99  0x59f1ba576f060b88dbdbef87cd7038d09d6e379ac767...                    23   \n\n    transaction_blockNumber  transaction_timestamp  \\\n0                  63418376             1677065327   \n1                  63087559             1676980988   \n2                  63086538             1676980739   \n3                  62118416             1676728792   \n4                  61874975             1676662652   \n..                      ...                    ...   \n95                 47883005             1671650543   \n96                 47792040             1671621233   \n97                 47791660             1671621121   \n98                 47704343             1671594138   \n99                 47423668             1671494769   \n\n                        transaction_account_id  \\\n0   0x9abcd812bffc1ef2e81a2dde75b5ed8809289d9d   \n1   0x6688b44ff874e246c441397d60fc169d4972a1ab   \n2   0x6688b44ff874e246c441397d60fc169d4972a1ab   \n3   0x19206f03068ec1fa140380a3a9ec8cee2a15aeea   \n4   0x70b3d1ff337bcceeb3e2cf5b05efbffc50af87d7   \n..                                         ...   \n95  0x755611a5f073138dd9b60131122051526629982c   \n96  0xcb6222f4df04385ea08e8da2a5871131ff5f6cba   \n97  0xcb6222f4df04385ea08e8da2a5871131ff5f6cba   \n98  0x6487d336bdec94d4714a4d217b15aa5c7b9dfa99   \n99  0x343ee80f82440a498e48ae186e066809750a055b   \n\n    transaction_account_positionCount  transaction_account_openPositionCount  \\\n0                                  27                                      6   \n1                                   4                                      0   \n2                                   4                                      0   \n3                                   2                                      0   \n4                                   2                                      0   \n..                                ...                                    ...   \n95                                  3                                      0   \n96                                  6                                      0   \n97                                  6                                      0   \n98                                  7                                      2   \n99                                  8                                      0   \n\n    transaction_account_closedPositionCount  transaction_account_depositCount  \\\n0                                        21                                24   \n1                                         4                                 7   \n2                                         4                                 7   \n3                                         2                                 2   \n4                                         2                                 2   \n..                                      ...                               ...   \n95                                        3                                 3   \n96                                        6                                 8   \n97                                        6                                 8   \n98                                        5                                12   \n99                                        8                                 5   \n\n    ...  transaction_position_side  transaction_position_isCollateral  \\\n0   ...                   BORROWER                                NaN   \n1   ...                   BORROWER                                NaN   \n2   ...                   BORROWER                                NaN   \n3   ...                   BORROWER                                NaN   \n4   ...                   BORROWER                                NaN   \n..  ...                        ...                                ...   \n95  ...                   BORROWER                                NaN   \n96  ...                   BORROWER                                NaN   \n97  ...                   BORROWER                                NaN   \n98  ...                   BORROWER                                NaN   \n99  ...                   BORROWER                                NaN   \n\n    transaction_position_balance  transaction_position_depositCount  \\\n0         1500000191052842115667                                  0   \n1                              0                                  0   \n2                              0                                  0   \n3                              0                                  0   \n4                              0                                  0   \n..                           ...                                ...   \n95                             0                                  0   \n96                             0                                  0   \n97                             0                                  0   \n98                             0                                  0   \n99                             0                                  0   \n\n    transaction_position_withdrawCount transaction_position_borrowCount  \\\n0                                    0                                8   \n1                                    0                                5   \n2                                    0                                5   \n3                                    0                                2   \n4                                    0                                2   \n..                                 ...                              ...   \n95                                   0                                1   \n96                                   0                                6   \n97                                   0                                6   \n98                                   0                                9   \n99                                   0                                2   \n\n   transaction_position_repayCount transaction_position_liquidationCount  \\\n0                                2                                     0   \n1                                5                                     0   \n2                                5                                     0   \n3                                1                                     0   \n4                                1                                     0   \n..                             ...                                   ...   \n95                               3                                     0   \n96                               5                                     0   \n97                               5                                     0   \n98                              11                                     0   \n99                               2                                     0   \n\n    event            dateTime  \n0   Repay 2023-02-22 11:28:47  \n1   Repay 2023-02-21 12:03:08  \n2   Repay 2023-02-21 11:58:59  \n3   Repay 2023-02-18 13:59:52  \n4   Repay 2023-02-17 19:37:32  \n..    ...                 ...  \n95  Repay 2022-12-21 19:22:23  \n96  Repay 2022-12-21 11:13:53  \n97  Repay 2022-12-21 11:12:01  \n98  Repay 2022-12-21 03:42:18  \n99  Repay 2022-12-20 00:06:09  \n\n[100 rows x 80 columns]",
      "text/html": "<div>\n<style scoped>\n    .dataframe tbody tr th:only-of-type {\n        vertical-align: middle;\n    }\n\n    .dataframe tbody tr th {\n        vertical-align: top;\n    }\n\n    .dataframe thead th {\n        text-align: right;\n    }\n</style>\n<table border=\"1\" class=\"dataframe\">\n  <thead>\n    <tr style=\"text-align: right;\">\n      <th></th>\n      <th>transaction_id</th>\n      <th>transaction_hash</th>\n      <th>transaction_logIndex</th>\n      <th>transaction_blockNumber</th>\n      <th>transaction_timestamp</th>\n      <th>transaction_account_id</th>\n      <th>transaction_account_positionCount</th>\n      <th>transaction_account_openPositionCount</th>\n      <th>transaction_account_closedPositionCount</th>\n      <th>transaction_account_depositCount</th>\n      <th>...</th>\n      <th>transaction_position_side</th>\n      <th>transaction_position_isCollateral</th>\n      <th>transaction_position_balance</th>\n      <th>transaction_position_depositCount</th>\n      <th>transaction_position_withdrawCount</th>\n      <th>transaction_position_borrowCount</th>\n      <th>transaction_position_repayCount</th>\n      <th>transaction_position_liquidationCount</th>\n      <th>event</th>\n      <th>dateTime</th>\n    </tr>\n  </thead>\n  <tbody>\n    <tr>\n      <th>0</th>\n      <td>repay-0x16c63848f732719a873e27d5507482d1b69a7f...</td>\n      <td>0x16c63848f732719a873e27d5507482d1b69a7f50d801...</td>\n      <td>53</td>\n      <td>63418376</td>\n      <td>1677065327</td>\n      <td>0x9abcd812bffc1ef2e81a2dde75b5ed8809289d9d</td>\n      <td>27</td>\n      <td>6</td>\n      <td>21</td>\n      <td>24</td>\n      <td>...</td>\n      <td>BORROWER</td>\n      <td>NaN</td>\n      <td>1500000191052842115667</td>\n      <td>0</td>\n      <td>0</td>\n      <td>8</td>\n      <td>2</td>\n      <td>0</td>\n      <td>Repay</td>\n      <td>2023-02-22 11:28:47</td>\n    </tr>\n    <tr>\n      <th>1</th>\n      <td>repay-0xdef3aaef9b7b84208b2ccfa46b8ed201018634...</td>\n      <td>0xdef3aaef9b7b84208b2ccfa46b8ed201018634e3074f...</td>\n      <td>66</td>\n      <td>63087559</td>\n      <td>1676980988</td>\n      <td>0x6688b44ff874e246c441397d60fc169d4972a1ab</td>\n      <td>4</td>\n      <td>0</td>\n      <td>4</td>\n      <td>7</td>\n      <td>...</td>\n      <td>BORROWER</td>\n      <td>NaN</td>\n      <td>0</td>\n      <td>0</td>\n      <td>0</td>\n      <td>5</td>\n      <td>5</td>\n      <td>0</td>\n      <td>Repay</td>\n      <td>2023-02-21 12:03:08</td>\n    </tr>\n    <tr>\n      <th>2</th>\n      <td>repay-0xd41da721cb62b332016bd32e6fbc7370d071a1...</td>\n      <td>0xd41da721cb62b332016bd32e6fbc7370d071a10bf7d0...</td>\n      <td>82</td>\n      <td>63086538</td>\n      <td>1676980739</td>\n      <td>0x6688b44ff874e246c441397d60fc169d4972a1ab</td>\n      <td>4</td>\n      <td>0</td>\n      <td>4</td>\n      <td>7</td>\n      <td>...</td>\n      <td>BORROWER</td>\n      <td>NaN</td>\n      <td>0</td>\n      <td>0</td>\n      <td>0</td>\n      <td>5</td>\n      <td>5</td>\n      <td>0</td>\n      <td>Repay</td>\n      <td>2023-02-21 11:58:59</td>\n    </tr>\n    <tr>\n      <th>3</th>\n      <td>repay-0x9dd7944b914d9e66cffd21d679008545d5c875...</td>\n      <td>0x9dd7944b914d9e66cffd21d679008545d5c875596a3d...</td>\n      <td>79</td>\n      <td>62118416</td>\n      <td>1676728792</td>\n      <td>0x19206f03068ec1fa140380a3a9ec8cee2a15aeea</td>\n      <td>2</td>\n      <td>0</td>\n      <td>2</td>\n      <td>2</td>\n      <td>...</td>\n      <td>BORROWER</td>\n      <td>NaN</td>\n      <td>0</td>\n      <td>0</td>\n      <td>0</td>\n      <td>2</td>\n      <td>1</td>\n      <td>0</td>\n      <td>Repay</td>\n      <td>2023-02-18 13:59:52</td>\n    </tr>\n    <tr>\n      <th>4</th>\n      <td>repay-0x492c64162373fee4cd96d76346889687922298...</td>\n      <td>0x492c64162373fee4cd96d76346889687922298bee49c...</td>\n      <td>63</td>\n      <td>61874975</td>\n      <td>1676662652</td>\n      <td>0x70b3d1ff337bcceeb3e2cf5b05efbffc50af87d7</td>\n      <td>2</td>\n      <td>0</td>\n      <td>2</td>\n      <td>2</td>\n      <td>...</td>\n      <td>BORROWER</td>\n      <td>NaN</td>\n      <td>0</td>\n      <td>0</td>\n      <td>0</td>\n      <td>2</td>\n      <td>1</td>\n      <td>0</td>\n      <td>Repay</td>\n      <td>2023-02-17 19:37:32</td>\n    </tr>\n    <tr>\n      <th>...</th>\n      <td>...</td>\n      <td>...</td>\n      <td>...</td>\n      <td>...</td>\n      <td>...</td>\n      <td>...</td>\n      <td>...</td>\n      <td>...</td>\n      <td>...</td>\n      <td>...</td>\n      <td>...</td>\n      <td>...</td>\n      <td>...</td>\n      <td>...</td>\n      <td>...</td>\n      <td>...</td>\n      <td>...</td>\n      <td>...</td>\n      <td>...</td>\n      <td>...</td>\n      <td>...</td>\n    </tr>\n    <tr>\n      <th>95</th>\n      <td>repay-0xfca652986e7f153ee6bdcf2e919c00e915fb55...</td>\n      <td>0xfca652986e7f153ee6bdcf2e919c00e915fb55f68483...</td>\n      <td>29</td>\n      <td>47883005</td>\n      <td>1671650543</td>\n      <td>0x755611a5f073138dd9b60131122051526629982c</td>\n      <td>3</td>\n      <td>0</td>\n      <td>3</td>\n      <td>3</td>\n      <td>...</td>\n      <td>BORROWER</td>\n      <td>NaN</td>\n      <td>0</td>\n      <td>0</td>\n      <td>0</td>\n      <td>1</td>\n      <td>3</td>\n      <td>0</td>\n      <td>Repay</td>\n      <td>2022-12-21 19:22:23</td>\n    </tr>\n    <tr>\n      <th>96</th>\n      <td>repay-0x0c5861c987d50745b6b923a3de5d4deff8d3c5...</td>\n      <td>0x0c5861c987d50745b6b923a3de5d4deff8d3c5100a51...</td>\n      <td>4</td>\n      <td>47792040</td>\n      <td>1671621233</td>\n      <td>0xcb6222f4df04385ea08e8da2a5871131ff5f6cba</td>\n      <td>6</td>\n      <td>0</td>\n      <td>6</td>\n      <td>8</td>\n      <td>...</td>\n      <td>BORROWER</td>\n      <td>NaN</td>\n      <td>0</td>\n      <td>0</td>\n      <td>0</td>\n      <td>6</td>\n      <td>5</td>\n      <td>0</td>\n      <td>Repay</td>\n      <td>2022-12-21 11:13:53</td>\n    </tr>\n    <tr>\n      <th>97</th>\n      <td>repay-0x1c0ad823e88db453a3ed16a756cf8934f9a730...</td>\n      <td>0x1c0ad823e88db453a3ed16a756cf8934f9a730191f95...</td>\n      <td>41</td>\n      <td>47791660</td>\n      <td>1671621121</td>\n      <td>0xcb6222f4df04385ea08e8da2a5871131ff5f6cba</td>\n      <td>6</td>\n      <td>0</td>\n      <td>6</td>\n      <td>8</td>\n      <td>...</td>\n      <td>BORROWER</td>\n      <td>NaN</td>\n      <td>0</td>\n      <td>0</td>\n      <td>0</td>\n      <td>6</td>\n      <td>5</td>\n      <td>0</td>\n      <td>Repay</td>\n      <td>2022-12-21 11:12:01</td>\n    </tr>\n    <tr>\n      <th>98</th>\n      <td>repay-0xdded85e3c6046f5c0f9856a523e787330345df...</td>\n      <td>0xdded85e3c6046f5c0f9856a523e787330345dfce37f4...</td>\n      <td>4</td>\n      <td>47704343</td>\n      <td>1671594138</td>\n      <td>0x6487d336bdec94d4714a4d217b15aa5c7b9dfa99</td>\n      <td>7</td>\n      <td>2</td>\n      <td>5</td>\n      <td>12</td>\n      <td>...</td>\n      <td>BORROWER</td>\n      <td>NaN</td>\n      <td>0</td>\n      <td>0</td>\n      <td>0</td>\n      <td>9</td>\n      <td>11</td>\n      <td>0</td>\n      <td>Repay</td>\n      <td>2022-12-21 03:42:18</td>\n    </tr>\n    <tr>\n      <th>99</th>\n      <td>repay-0x59f1ba576f060b88dbdbef87cd7038d09d6e37...</td>\n      <td>0x59f1ba576f060b88dbdbef87cd7038d09d6e379ac767...</td>\n      <td>23</td>\n      <td>47423668</td>\n      <td>1671494769</td>\n      <td>0x343ee80f82440a498e48ae186e066809750a055b</td>\n      <td>8</td>\n      <td>0</td>\n      <td>8</td>\n      <td>5</td>\n      <td>...</td>\n      <td>BORROWER</td>\n      <td>NaN</td>\n      <td>0</td>\n      <td>0</td>\n      <td>0</td>\n      <td>2</td>\n      <td>2</td>\n      <td>0</td>\n      <td>Repay</td>\n      <td>2022-12-20 00:06:09</td>\n    </tr>\n  </tbody>\n</table>\n<p>100 rows × 80 columns</p>\n</div>"
     },
     "execution_count": 45,
     "metadata": {},
     "output_type": "execute_result"
    }
   ],
   "source": [
    "vestaRepaysDbTimed = db.query(\"select \"\n",
    "               \"    * \"\n",
    "                    \" ,to_timestamp(transaction_timestamp::int) dateTime \"\n",
    "               \"From vestaRepaysDb \"\n",
    "               #\"where lower(liquidityPools_name) like lower('%olympus%') \"\n",
    "                #    \"or lower(pairs_token1_symbol) like lower('%OHM%')  \"\n",
    "               #\" limit 100 \"\n",
    "               ).df()\n",
    "\n",
    "vestaRepaysDbTimed.head(100)"
   ],
   "metadata": {
    "collapsed": false
   }
  },
  {
   "cell_type": "code",
   "execution_count": 46,
   "outputs": [
    {
     "name": "stdout",
     "output_type": "stream",
     "text": [
      "file saved\n"
     ]
    }
   ],
   "source": [
    "vestaRepaysDbTimedLength=len(vestaRepaysDbTimed)\n",
    "path =file+'/vesta_repay_events.csv'\n",
    "vestaRepaysDbTimed.to_csv(path, index = False)\n",
    "\n",
    "path =file+'/vesta_repay_events_piped.csv'\n",
    "vestaRepaysDbTimed.to_csv(path, index = False, sep='|')\n",
    "print('file saved')"
   ],
   "metadata": {
    "collapsed": false
   }
  },
  {
   "cell_type": "code",
   "execution_count": 47,
   "outputs": [
    {
     "data": {
      "text/plain": "                                      transaction_id  \\\n0  deposit-0x72464202cde05e91af24d80f2270472f85ca...   \n1  deposit-0xc769bda3341e2ecf901458b040af70005b7d...   \n2  deposit-0x7ff58296a29365afb72fd531d3ab3f893250...   \n3  deposit-0x7c52f11b87402232bb8080a1d07dfcad762f...   \n4  deposit-0x4cee3506562ea6ea8c615c4e2af2c8dc9230...   \n5  deposit-0x88a5cb82b121973e0183fed0f13a889ba5e1...   \n6  deposit-0x14d9ae0f18b19436ff5837edc3426605d596...   \n7  deposit-0x738b9f84d050920ac91f267597563b7f5c27...   \n8  deposit-0xd66a79898a59da2b2f2de5b4d11f5a57e29f...   \n9  deposit-0xe8120c354c11f2fde377afd9c1261bc2c8b0...   \n\n                                    transaction_hash    transaction_amount  \\\n0  0x72464202cde05e91af24d80f2270472f85ca406c18b3...   1959071999999999036   \n1  0xc769bda3341e2ecf901458b040af70005b7d0e3b059e...   5956995999999999967   \n2  0x7ff58296a29365afb72fd531d3ab3f893250da5af9c0...    378766000000000000   \n3  0x7c52f11b87402232bb8080a1d07dfcad762fb9f286fb...   1652507000000000000   \n4  0x4cee3506562ea6ea8c615c4e2af2c8dc9230ebccd24a...    100000000000000089   \n5  0x88a5cb82b121973e0183fed0f13a889ba5e13b5cc85b...  14940927999999999291   \n6  0x14d9ae0f18b19436ff5837edc3426605d596802483b3...   6166600000000000000   \n7  0x738b9f84d050920ac91f267597563b7f5c27e425c6e1...   5632597000000000000   \n8  0xd66a79898a59da2b2f2de5b4d11f5a57e29f20d411a7...   1119527000000000000   \n9  0xe8120c354c11f2fde377afd9c1261bc2c8b0179faafd...    509425999999999934   \n\n   transaction_amountUSD  transaction_logIndex  transaction_blockNumber  \\\n0            5353.727641                  37.0               63891437.0   \n1           16279.204717                   4.0               63891402.0   \n2            1057.818208                  53.0               63127102.0   \n3            4666.708995                  46.0               62701434.0   \n4             284.064377                   4.0               62477472.0   \n5           42462.684614                  57.0               62106087.0   \n6           17531.081150                  45.0               61931290.0   \n7           15890.437190                  45.0               61851016.0   \n8            3153.776578                  37.0               61144228.0   \n9            1420.180663                   4.0               61023104.0   \n\n   transaction_timestamp                      transaction_account_id  \\\n0           1.677185e+09  0x6487d336bdec94d4714a4d217b15aa5c7b9dfa99   \n1           1.677185e+09  0x128e040082f03bbd414d966f8e6e851cc430c643   \n2           1.676991e+09  0xf8a2c6db32b73f762d0f6abc136a20b3f4ccd004   \n3           1.676882e+09  0x08c6f0898bf40a9899595304039247b1deeaaf9c   \n4           1.676823e+09  0x1431ba2d4e5c5ed4bf6e8da41880a7e3b43da32d   \n5           1.676726e+09  0x6487d336bdec94d4714a4d217b15aa5c7b9dfa99   \n6           1.676679e+09  0x4688b6f3c384c3cffe95c92f599213de4a9fa9ca   \n7           1.676656e+09  0xa500c2e3f661cc567329b868cd4c9dfd5177ee3f   \n8           1.676465e+09  0x9abcd812bffc1ef2e81a2dde75b5ed8809289d9d   \n9           1.676432e+09  0x70b3d1ff337bcceeb3e2cf5b05efbffc50af87d7   \n\n   transaction_account_positionCount  transaction_account_openPositionCount  \\\n0                                7.0                                    2.0   \n1                                3.0                                    2.0   \n2                                2.0                                    2.0   \n3                                2.0                                    2.0   \n4                               13.0                                    2.0   \n5                                7.0                                    2.0   \n6                                2.0                                    2.0   \n7                                2.0                                    2.0   \n8                               27.0                                    6.0   \n9                                2.0                                    0.0   \n\n   ...  borrows_account_id  borrows_market_id  borrows_market_name  \\\n0  ...                 NaN                NaN                  NaN   \n1  ...                 NaN                NaN                  NaN   \n2  ...                 NaN                NaN                  NaN   \n3  ...                 NaN                NaN                  NaN   \n4  ...                 NaN                NaN                  NaN   \n5  ...                 NaN                NaN                  NaN   \n6  ...                 NaN                NaN                  NaN   \n7  ...                 NaN                NaN                  NaN   \n8  ...                 NaN                NaN                  NaN   \n9  ...                 NaN                NaN                  NaN   \n\n   borrows_market_rates_rate  borrows_asset_id  borrows_asset_name  \\\n0                        NaN               NaN                 NaN   \n1                        NaN               NaN                 NaN   \n2                        NaN               NaN                 NaN   \n3                        NaN               NaN                 NaN   \n4                        NaN               NaN                 NaN   \n5                        NaN               NaN                 NaN   \n6                        NaN               NaN                 NaN   \n7                        NaN               NaN                 NaN   \n8                        NaN               NaN                 NaN   \n9                        NaN               NaN                 NaN   \n\n   borrows_asset_symbol borrows_asset_decimals borrows_asset_lastPriceUSD  \\\n0                   NaN                    NaN                        NaN   \n1                   NaN                    NaN                        NaN   \n2                   NaN                    NaN                        NaN   \n3                   NaN                    NaN                        NaN   \n4                   NaN                    NaN                        NaN   \n5                   NaN                    NaN                        NaN   \n6                   NaN                    NaN                        NaN   \n7                   NaN                    NaN                        NaN   \n8                   NaN                    NaN                        NaN   \n9                   NaN                    NaN                        NaN   \n\n  borrows_asset_lastPriceBlockNumber  \n0                                NaN  \n1                                NaN  \n2                                NaN  \n3                                NaN  \n4                                NaN  \n5                                NaN  \n6                                NaN  \n7                                NaN  \n8                                NaN  \n9                                NaN  \n\n[10 rows x 95 columns]",
      "text/html": "<div>\n<style scoped>\n    .dataframe tbody tr th:only-of-type {\n        vertical-align: middle;\n    }\n\n    .dataframe tbody tr th {\n        vertical-align: top;\n    }\n\n    .dataframe thead th {\n        text-align: right;\n    }\n</style>\n<table border=\"1\" class=\"dataframe\">\n  <thead>\n    <tr style=\"text-align: right;\">\n      <th></th>\n      <th>transaction_id</th>\n      <th>transaction_hash</th>\n      <th>transaction_amount</th>\n      <th>transaction_amountUSD</th>\n      <th>transaction_logIndex</th>\n      <th>transaction_blockNumber</th>\n      <th>transaction_timestamp</th>\n      <th>transaction_account_id</th>\n      <th>transaction_account_positionCount</th>\n      <th>transaction_account_openPositionCount</th>\n      <th>...</th>\n      <th>borrows_account_id</th>\n      <th>borrows_market_id</th>\n      <th>borrows_market_name</th>\n      <th>borrows_market_rates_rate</th>\n      <th>borrows_asset_id</th>\n      <th>borrows_asset_name</th>\n      <th>borrows_asset_symbol</th>\n      <th>borrows_asset_decimals</th>\n      <th>borrows_asset_lastPriceUSD</th>\n      <th>borrows_asset_lastPriceBlockNumber</th>\n    </tr>\n  </thead>\n  <tbody>\n    <tr>\n      <th>0</th>\n      <td>deposit-0x72464202cde05e91af24d80f2270472f85ca...</td>\n      <td>0x72464202cde05e91af24d80f2270472f85ca406c18b3...</td>\n      <td>1959071999999999036</td>\n      <td>5353.727641</td>\n      <td>37.0</td>\n      <td>63891437.0</td>\n      <td>1.677185e+09</td>\n      <td>0x6487d336bdec94d4714a4d217b15aa5c7b9dfa99</td>\n      <td>7.0</td>\n      <td>2.0</td>\n      <td>...</td>\n      <td>NaN</td>\n      <td>NaN</td>\n      <td>NaN</td>\n      <td>NaN</td>\n      <td>NaN</td>\n      <td>NaN</td>\n      <td>NaN</td>\n      <td>NaN</td>\n      <td>NaN</td>\n      <td>NaN</td>\n    </tr>\n    <tr>\n      <th>1</th>\n      <td>deposit-0xc769bda3341e2ecf901458b040af70005b7d...</td>\n      <td>0xc769bda3341e2ecf901458b040af70005b7d0e3b059e...</td>\n      <td>5956995999999999967</td>\n      <td>16279.204717</td>\n      <td>4.0</td>\n      <td>63891402.0</td>\n      <td>1.677185e+09</td>\n      <td>0x128e040082f03bbd414d966f8e6e851cc430c643</td>\n      <td>3.0</td>\n      <td>2.0</td>\n      <td>...</td>\n      <td>NaN</td>\n      <td>NaN</td>\n      <td>NaN</td>\n      <td>NaN</td>\n      <td>NaN</td>\n      <td>NaN</td>\n      <td>NaN</td>\n      <td>NaN</td>\n      <td>NaN</td>\n      <td>NaN</td>\n    </tr>\n    <tr>\n      <th>2</th>\n      <td>deposit-0x7ff58296a29365afb72fd531d3ab3f893250...</td>\n      <td>0x7ff58296a29365afb72fd531d3ab3f893250da5af9c0...</td>\n      <td>378766000000000000</td>\n      <td>1057.818208</td>\n      <td>53.0</td>\n      <td>63127102.0</td>\n      <td>1.676991e+09</td>\n      <td>0xf8a2c6db32b73f762d0f6abc136a20b3f4ccd004</td>\n      <td>2.0</td>\n      <td>2.0</td>\n      <td>...</td>\n      <td>NaN</td>\n      <td>NaN</td>\n      <td>NaN</td>\n      <td>NaN</td>\n      <td>NaN</td>\n      <td>NaN</td>\n      <td>NaN</td>\n      <td>NaN</td>\n      <td>NaN</td>\n      <td>NaN</td>\n    </tr>\n    <tr>\n      <th>3</th>\n      <td>deposit-0x7c52f11b87402232bb8080a1d07dfcad762f...</td>\n      <td>0x7c52f11b87402232bb8080a1d07dfcad762fb9f286fb...</td>\n      <td>1652507000000000000</td>\n      <td>4666.708995</td>\n      <td>46.0</td>\n      <td>62701434.0</td>\n      <td>1.676882e+09</td>\n      <td>0x08c6f0898bf40a9899595304039247b1deeaaf9c</td>\n      <td>2.0</td>\n      <td>2.0</td>\n      <td>...</td>\n      <td>NaN</td>\n      <td>NaN</td>\n      <td>NaN</td>\n      <td>NaN</td>\n      <td>NaN</td>\n      <td>NaN</td>\n      <td>NaN</td>\n      <td>NaN</td>\n      <td>NaN</td>\n      <td>NaN</td>\n    </tr>\n    <tr>\n      <th>4</th>\n      <td>deposit-0x4cee3506562ea6ea8c615c4e2af2c8dc9230...</td>\n      <td>0x4cee3506562ea6ea8c615c4e2af2c8dc9230ebccd24a...</td>\n      <td>100000000000000089</td>\n      <td>284.064377</td>\n      <td>4.0</td>\n      <td>62477472.0</td>\n      <td>1.676823e+09</td>\n      <td>0x1431ba2d4e5c5ed4bf6e8da41880a7e3b43da32d</td>\n      <td>13.0</td>\n      <td>2.0</td>\n      <td>...</td>\n      <td>NaN</td>\n      <td>NaN</td>\n      <td>NaN</td>\n      <td>NaN</td>\n      <td>NaN</td>\n      <td>NaN</td>\n      <td>NaN</td>\n      <td>NaN</td>\n      <td>NaN</td>\n      <td>NaN</td>\n    </tr>\n    <tr>\n      <th>5</th>\n      <td>deposit-0x88a5cb82b121973e0183fed0f13a889ba5e1...</td>\n      <td>0x88a5cb82b121973e0183fed0f13a889ba5e13b5cc85b...</td>\n      <td>14940927999999999291</td>\n      <td>42462.684614</td>\n      <td>57.0</td>\n      <td>62106087.0</td>\n      <td>1.676726e+09</td>\n      <td>0x6487d336bdec94d4714a4d217b15aa5c7b9dfa99</td>\n      <td>7.0</td>\n      <td>2.0</td>\n      <td>...</td>\n      <td>NaN</td>\n      <td>NaN</td>\n      <td>NaN</td>\n      <td>NaN</td>\n      <td>NaN</td>\n      <td>NaN</td>\n      <td>NaN</td>\n      <td>NaN</td>\n      <td>NaN</td>\n      <td>NaN</td>\n    </tr>\n    <tr>\n      <th>6</th>\n      <td>deposit-0x14d9ae0f18b19436ff5837edc3426605d596...</td>\n      <td>0x14d9ae0f18b19436ff5837edc3426605d596802483b3...</td>\n      <td>6166600000000000000</td>\n      <td>17531.081150</td>\n      <td>45.0</td>\n      <td>61931290.0</td>\n      <td>1.676679e+09</td>\n      <td>0x4688b6f3c384c3cffe95c92f599213de4a9fa9ca</td>\n      <td>2.0</td>\n      <td>2.0</td>\n      <td>...</td>\n      <td>NaN</td>\n      <td>NaN</td>\n      <td>NaN</td>\n      <td>NaN</td>\n      <td>NaN</td>\n      <td>NaN</td>\n      <td>NaN</td>\n      <td>NaN</td>\n      <td>NaN</td>\n      <td>NaN</td>\n    </tr>\n    <tr>\n      <th>7</th>\n      <td>deposit-0x738b9f84d050920ac91f267597563b7f5c27...</td>\n      <td>0x738b9f84d050920ac91f267597563b7f5c27e425c6e1...</td>\n      <td>5632597000000000000</td>\n      <td>15890.437190</td>\n      <td>45.0</td>\n      <td>61851016.0</td>\n      <td>1.676656e+09</td>\n      <td>0xa500c2e3f661cc567329b868cd4c9dfd5177ee3f</td>\n      <td>2.0</td>\n      <td>2.0</td>\n      <td>...</td>\n      <td>NaN</td>\n      <td>NaN</td>\n      <td>NaN</td>\n      <td>NaN</td>\n      <td>NaN</td>\n      <td>NaN</td>\n      <td>NaN</td>\n      <td>NaN</td>\n      <td>NaN</td>\n      <td>NaN</td>\n    </tr>\n    <tr>\n      <th>8</th>\n      <td>deposit-0xd66a79898a59da2b2f2de5b4d11f5a57e29f...</td>\n      <td>0xd66a79898a59da2b2f2de5b4d11f5a57e29f20d411a7...</td>\n      <td>1119527000000000000</td>\n      <td>3153.776578</td>\n      <td>37.0</td>\n      <td>61144228.0</td>\n      <td>1.676465e+09</td>\n      <td>0x9abcd812bffc1ef2e81a2dde75b5ed8809289d9d</td>\n      <td>27.0</td>\n      <td>6.0</td>\n      <td>...</td>\n      <td>NaN</td>\n      <td>NaN</td>\n      <td>NaN</td>\n      <td>NaN</td>\n      <td>NaN</td>\n      <td>NaN</td>\n      <td>NaN</td>\n      <td>NaN</td>\n      <td>NaN</td>\n      <td>NaN</td>\n    </tr>\n    <tr>\n      <th>9</th>\n      <td>deposit-0xe8120c354c11f2fde377afd9c1261bc2c8b0...</td>\n      <td>0xe8120c354c11f2fde377afd9c1261bc2c8b0179faafd...</td>\n      <td>509425999999999934</td>\n      <td>1420.180663</td>\n      <td>4.0</td>\n      <td>61023104.0</td>\n      <td>1.676432e+09</td>\n      <td>0x70b3d1ff337bcceeb3e2cf5b05efbffc50af87d7</td>\n      <td>2.0</td>\n      <td>0.0</td>\n      <td>...</td>\n      <td>NaN</td>\n      <td>NaN</td>\n      <td>NaN</td>\n      <td>NaN</td>\n      <td>NaN</td>\n      <td>NaN</td>\n      <td>NaN</td>\n      <td>NaN</td>\n      <td>NaN</td>\n      <td>NaN</td>\n    </tr>\n  </tbody>\n</table>\n<p>10 rows × 95 columns</p>\n</div>"
     },
     "execution_count": 47,
     "metadata": {},
     "output_type": "execute_result"
    }
   ],
   "source": [
    "vestaBorrowDepositEventsDb = pd.DataFrame()\n",
    "vestaBorrowDepositEventsDb=pd.concat([vestaDepositsDbTimed, vestaBorrowsDbTimed])#,vestaRepaysDbTimed])\n",
    "vestaBorrowDepositEventsDbLength=len(vestaBorrowDepositEventsDb)\n",
    "vestaBorrowDepositEventsDb.head(10)"
   ],
   "metadata": {
    "collapsed": false
   }
  },
  {
   "cell_type": "code",
   "execution_count": 48,
   "outputs": [
    {
     "name": "stdout",
     "output_type": "stream",
     "text": [
      "file saved\n"
     ]
    }
   ],
   "source": [
    "vestaBorrowDepositEventsDbLength = len(vestaBorrowDepositEventsDb)\n",
    "path =file+'/vesta_BorrowDeposit_Events.csv'\n",
    "vestaBorrowDepositEventsDb.to_csv(path, index = False)\n",
    "\n",
    "path =file+'/vesta_BorrowDeposit_Events_piped.csv'\n",
    "vestaBorrowDepositEventsDb.to_csv(path, index = False, sep='|')\n",
    "print('file saved')"
   ],
   "metadata": {
    "collapsed": false
   }
  },
  {
   "cell_type": "markdown",
   "source": [
    "************************************************************\n",
    "FINE.... FRAX TOO\n",
    "\n",
    "This subgraph is completely different, so we're going to  have to crunch in order to merge all these tables into coherent reports"
   ],
   "metadata": {
    "collapsed": false
   }
  },
  {
   "cell_type": "code",
   "execution_count": 49,
   "outputs": [],
   "source": [
    "frax = sg.load_api('https://gateway.thegraph.com/api/'+apiKey+'/subgraphs/id/GELTrjPJYEzxyp6Y2CtEaYpGHcJNrJA6i5Ci4KfJSEsf')"
   ],
   "metadata": {
    "collapsed": false
   }
  },
  {
   "cell_type": "code",
   "execution_count": 49,
   "outputs": [],
   "source": [],
   "metadata": {
    "collapsed": false
   }
  },
  {
   "cell_type": "code",
   "execution_count": 68,
   "outputs": [
    {
     "ename": "KeyError",
     "evalue": "'TypeMeta.ObjectMeta.field: no field named decimal for interface Token'",
     "output_type": "error",
     "traceback": [
      "\u001B[1;31m---------------------------------------------------------------------------\u001B[0m",
      "\u001B[1;31mAttributeError\u001B[0m                            Traceback (most recent call last)",
      "File \u001B[1;32m~\\PycharmProjects\\pythonProject\\venv\\lib\\site-packages\\subgrounds\\subgraph\\fieldpath.py:485\u001B[0m, in \u001B[0;36mFieldPath.__getattribute__\u001B[1;34m(self, _FieldPath__name)\u001B[0m\n\u001B[0;32m    484\u001B[0m \u001B[38;5;28;01mtry\u001B[39;00m:\n\u001B[1;32m--> 485\u001B[0m   \u001B[38;5;28;01mmatch\u001B[39;00m \u001B[38;5;28;43msuper\u001B[39;49m\u001B[43m(\u001B[49m\u001B[43m)\u001B[49m\u001B[38;5;241;43m.\u001B[39;49m\u001B[38;5;21;43m__getattribute__\u001B[39;49m\u001B[43m(\u001B[49m\u001B[43m__name\u001B[49m\u001B[43m)\u001B[49m:\n\u001B[0;32m    486\u001B[0m     \u001B[38;5;28;01mcase\u001B[39;00m FieldPath() \u001B[38;5;241m|\u001B[39m SyntheticField() \u001B[38;5;241m|\u001B[39m \u001B[38;5;28;01mNone\u001B[39;00m:\n\u001B[0;32m    487\u001B[0m       \u001B[38;5;28;01mreturn\u001B[39;00m \u001B[38;5;28mself\u001B[39m\u001B[38;5;241m.\u001B[39m_select(__name)\n\u001B[0;32m    488\u001B[0m     \u001B[38;5;28;01mcase\u001B[39;00m value:\n\u001B[0;32m    489\u001B[0m       \u001B[38;5;28;01mreturn\u001B[39;00m value\n\u001B[0;32m    490\u001B[0m \u001B[38;5;28;01mexcept\u001B[39;00m \u001B[38;5;167;01mAttributeError\u001B[39;00m:\n",
      "\u001B[1;31mAttributeError\u001B[0m: 'FieldPath' object has no attribute 'decimal'",
      "\nDuring handling of the above exception, another exception occurred:\n",
      "\u001B[1;31mStopIteration\u001B[0m                             Traceback (most recent call last)",
      "File \u001B[1;32m~\\PycharmProjects\\pythonProject\\venv\\lib\\site-packages\\subgrounds\\schema.py:214\u001B[0m, in \u001B[0;36mTypeMeta.ObjectMeta.field\u001B[1;34m(self, fname)\u001B[0m\n\u001B[0;32m    213\u001B[0m \u001B[38;5;28;01mtry\u001B[39;00m:\n\u001B[1;32m--> 214\u001B[0m   \u001B[38;5;28;01mreturn\u001B[39;00m \u001B[38;5;28;43mnext\u001B[39;49m\u001B[43m(\u001B[49m\n\u001B[0;32m    215\u001B[0m \u001B[43m    \u001B[49m\u001B[38;5;28;43mself\u001B[39;49m\u001B[38;5;241;43m.\u001B[39;49m\u001B[43mfields\u001B[49m\n\u001B[0;32m    216\u001B[0m \u001B[43m    \u001B[49m\u001B[38;5;241;43m|\u001B[39;49m\u001B[43m \u001B[49m\u001B[43mwhere\u001B[49m\u001B[43m(\u001B[49m\u001B[38;5;28;43;01mlambda\u001B[39;49;00m\u001B[43m \u001B[49m\u001B[43mfmeta\u001B[49m\u001B[43m:\u001B[49m\u001B[43m \u001B[49m\u001B[43mfmeta\u001B[49m\u001B[38;5;241;43m.\u001B[39;49m\u001B[43mname\u001B[49m\u001B[43m \u001B[49m\u001B[38;5;241;43m==\u001B[39;49m\u001B[43m \u001B[49m\u001B[43mfname\u001B[49m\u001B[43m)\u001B[49m\n\u001B[0;32m    217\u001B[0m \u001B[43m  \u001B[49m\u001B[43m)\u001B[49m\n\u001B[0;32m    218\u001B[0m \u001B[38;5;28;01mexcept\u001B[39;00m \u001B[38;5;167;01mStopIteration\u001B[39;00m:\n",
      "\u001B[1;31mStopIteration\u001B[0m: ",
      "\nDuring handling of the above exception, another exception occurred:\n",
      "\u001B[1;31mKeyError\u001B[0m                                  Traceback (most recent call last)",
      "Input \u001B[1;32mIn [68]\u001B[0m, in \u001B[0;36m<cell line: 11>\u001B[1;34m()\u001B[0m\n\u001B[0;32m     13\u001B[0m skipValue \u001B[38;5;241m=\u001B[39m (actionTicker)\u001B[38;5;241m*\u001B[39m(\u001B[38;5;241m1000\u001B[39m)\n\u001B[0;32m     14\u001B[0m actionsQuery \u001B[38;5;241m=\u001B[39m frax\u001B[38;5;241m.\u001B[39mQuery\u001B[38;5;241m.\u001B[39mactions(\n\u001B[0;32m     15\u001B[0m      orderBy\u001B[38;5;241m=\u001B[39m\u001B[38;5;124m'\u001B[39m\u001B[38;5;124mtimestamp\u001B[39m\u001B[38;5;124m'\u001B[39m\n\u001B[0;32m     16\u001B[0m     ,orderDirection\u001B[38;5;241m=\u001B[39m\u001B[38;5;124m'\u001B[39m\u001B[38;5;124mdesc\u001B[39m\u001B[38;5;124m'\u001B[39m\n\u001B[1;32m   (...)\u001B[0m\n\u001B[0;32m     23\u001B[0m \n\u001B[0;32m     24\u001B[0m )\n\u001B[0;32m     25\u001B[0m actions\u001B[38;5;241m=\u001B[39m sg\u001B[38;5;241m.\u001B[39mquery_df([\n\u001B[0;32m     26\u001B[0m     actionsQuery\u001B[38;5;241m.\u001B[39mid\n\u001B[0;32m     27\u001B[0m     ,actionsQuery\u001B[38;5;241m.\u001B[39mtype\n\u001B[0;32m     28\u001B[0m     ,actionsQuery\u001B[38;5;241m.\u001B[39mamount\n\u001B[0;32m     29\u001B[0m     ,actionsQuery\u001B[38;5;241m.\u001B[39mtimestamp\n\u001B[0;32m     30\u001B[0m     ,actionsQuery\u001B[38;5;241m.\u001B[39mblock\n\u001B[0;32m     31\u001B[0m     ,actionsQuery\u001B[38;5;241m.\u001B[39mtoken\u001B[38;5;241m.\u001B[39mname\n\u001B[0;32m     32\u001B[0m     ,actionsQuery\u001B[38;5;241m.\u001B[39mtoken\u001B[38;5;241m.\u001B[39msymbol\n\u001B[1;32m---> 33\u001B[0m     ,\u001B[43mactionsQuery\u001B[49m\u001B[38;5;241;43m.\u001B[39;49m\u001B[43mtoken\u001B[49m\u001B[38;5;241;43m.\u001B[39;49m\u001B[43mdecimal\u001B[49m\n\u001B[0;32m     34\u001B[0m     ,actionsQuery\u001B[38;5;241m.\u001B[39mroot\u001B[38;5;241m.\u001B[39maddress\n\u001B[0;32m     35\u001B[0m     ]\n\u001B[0;32m     36\u001B[0m )\n\u001B[0;32m     38\u001B[0m actions\u001B[38;5;241m.\u001B[39msort_values(by\u001B[38;5;241m=\u001B[39m[\u001B[38;5;124m'\u001B[39m\u001B[38;5;124mactions_timestamp\u001B[39m\u001B[38;5;124m'\u001B[39m])\n\u001B[0;32m     40\u001B[0m actionsDb\u001B[38;5;241m=\u001B[39mpd\u001B[38;5;241m.\u001B[39mconcat([actionsDb, actions])\n",
      "File \u001B[1;32m~\\PycharmProjects\\pythonProject\\venv\\lib\\site-packages\\subgrounds\\subgraph\\fieldpath.py:491\u001B[0m, in \u001B[0;36mFieldPath.__getattribute__\u001B[1;34m(self, _FieldPath__name)\u001B[0m\n\u001B[0;32m    485\u001B[0m   \u001B[38;5;28;01mmatch\u001B[39;00m \u001B[38;5;28msuper\u001B[39m()\u001B[38;5;241m.\u001B[39m\u001B[38;5;21m__getattribute__\u001B[39m(__name):\n\u001B[0;32m    486\u001B[0m     \u001B[38;5;28;01mcase\u001B[39;00m FieldPath() \u001B[38;5;241m|\u001B[39m SyntheticField() \u001B[38;5;241m|\u001B[39m \u001B[38;5;28;01mNone\u001B[39;00m:\n\u001B[0;32m    487\u001B[0m       \u001B[38;5;28;01mreturn\u001B[39;00m \u001B[38;5;28mself\u001B[39m\u001B[38;5;241m.\u001B[39m_select(__name)\n\u001B[0;32m    488\u001B[0m     \u001B[38;5;28;01mcase\u001B[39;00m value:\n\u001B[0;32m    489\u001B[0m       \u001B[38;5;28;01mreturn\u001B[39;00m value\n\u001B[0;32m    490\u001B[0m \u001B[38;5;28;01mexcept\u001B[39;00m \u001B[38;5;167;01mAttributeError\u001B[39;00m:\n\u001B[1;32m--> 491\u001B[0m   \u001B[38;5;28;01mreturn\u001B[39;00m \u001B[38;5;28;43mself\u001B[39;49m\u001B[38;5;241;43m.\u001B[39;49m\u001B[43m_select\u001B[49m\u001B[43m(\u001B[49m\u001B[43m__name\u001B[49m\u001B[43m)\u001B[49m\n",
      "File \u001B[1;32m~\\PycharmProjects\\pythonProject\\venv\\lib\\site-packages\\subgrounds\\subgraph\\fieldpath.py:399\u001B[0m, in \u001B[0;36mFieldPath._select\u001B[1;34m(self, name)\u001B[0m\n\u001B[0;32m    381\u001B[0m \u001B[38;5;28;01mdef\u001B[39;00m \u001B[38;5;21m_select\u001B[39m(\u001B[38;5;28mself\u001B[39m, name: \u001B[38;5;28mstr\u001B[39m) \u001B[38;5;241m-\u001B[39m\u001B[38;5;241m>\u001B[39m FieldPath:\n\u001B[0;32m    382\u001B[0m   \u001B[38;5;124;03m\"\"\" Returns a new FieldPath corresponding to the FieldPath `self` extended with an additional\u001B[39;00m\n\u001B[0;32m    383\u001B[0m \u001B[38;5;124;03m  selection on the field named `name`.\u001B[39;00m\n\u001B[0;32m    384\u001B[0m \u001B[38;5;124;03m  Args:\u001B[39;00m\n\u001B[1;32m   (...)\u001B[0m\n\u001B[0;32m    391\u001B[0m \u001B[38;5;124;03m    FieldPath: A new FieldPath containing `fpath` extended with the field named `name`\u001B[39;00m\n\u001B[0;32m    392\u001B[0m \u001B[38;5;124;03m  \"\"\"\u001B[39;00m\n\u001B[0;32m    393\u001B[0m   \u001B[38;5;28;01mmatch\u001B[39;00m \u001B[38;5;28mself\u001B[39m\u001B[38;5;241m.\u001B[39m_schema\u001B[38;5;241m.\u001B[39mtype_of_typeref(\u001B[38;5;28mself\u001B[39m\u001B[38;5;241m.\u001B[39m_type):\n\u001B[0;32m    394\u001B[0m     \u001B[38;5;66;03m# If the FieldPath fpath\u001B[39;00m\n\u001B[0;32m    395\u001B[0m     \u001B[38;5;28;01mcase\u001B[39;00m TypeMeta\u001B[38;5;241m.\u001B[39mEnumMeta() \u001B[38;5;241m|\u001B[39m TypeMeta\u001B[38;5;241m.\u001B[39mScalarMeta():\n\u001B[0;32m    396\u001B[0m       \u001B[38;5;28;01mraise\u001B[39;00m \u001B[38;5;167;01mTypeError\u001B[39;00m(\u001B[38;5;124mf\u001B[39m\u001B[38;5;124m\"\u001B[39m\u001B[38;5;124mFieldPath: path \u001B[39m\u001B[38;5;132;01m{\u001B[39;00m\u001B[38;5;28mself\u001B[39m\u001B[38;5;132;01m}\u001B[39;00m\u001B[38;5;124m ends with a scalar field! cannot select field \u001B[39m\u001B[38;5;132;01m{\u001B[39;00mname\u001B[38;5;132;01m}\u001B[39;00m\u001B[38;5;124m\"\u001B[39m)\n\u001B[0;32m    397\u001B[0m \n\u001B[0;32m    398\u001B[0m     \u001B[38;5;28;01mcase\u001B[39;00m TypeMeta\u001B[38;5;241m.\u001B[39mObjectMeta() \u001B[38;5;241m|\u001B[39m TypeMeta\u001B[38;5;241m.\u001B[39mInterfaceMeta() \u001B[38;5;28;01mas\u001B[39;00m obj:\n\u001B[1;32m--> 399\u001B[0m       field \u001B[38;5;241m=\u001B[39m \u001B[43mobj\u001B[49m\u001B[38;5;241;43m.\u001B[39;49m\u001B[43mfield\u001B[49m\u001B[43m(\u001B[49m\u001B[43mname\u001B[49m\u001B[43m)\u001B[49m\n\u001B[0;32m    400\u001B[0m \n\u001B[0;32m    401\u001B[0m       \u001B[38;5;28;01mmatch\u001B[39;00m \u001B[38;5;28mself\u001B[39m\u001B[38;5;241m.\u001B[39m_schema\u001B[38;5;241m.\u001B[39mtype_of_typeref(field\u001B[38;5;241m.\u001B[39mtype_):\n\u001B[0;32m    402\u001B[0m         \u001B[38;5;28;01mcase\u001B[39;00m TypeMeta\u001B[38;5;241m.\u001B[39mObjectMeta() \u001B[38;5;241m|\u001B[39m TypeMeta\u001B[38;5;241m.\u001B[39mInterfaceMeta() \u001B[38;5;241m|\u001B[39m TypeMeta\u001B[38;5;241m.\u001B[39mEnumMeta() \u001B[38;5;241m|\u001B[39m TypeMeta\u001B[38;5;241m.\u001B[39mScalarMeta():\n\u001B[0;32m    403\u001B[0m           \u001B[38;5;66;03m# Copy current path and append newly selected field\u001B[39;00m\n\u001B[0;32m    404\u001B[0m           path \u001B[38;5;241m=\u001B[39m \u001B[38;5;28mself\u001B[39m\u001B[38;5;241m.\u001B[39m_path\u001B[38;5;241m.\u001B[39mcopy()\n\u001B[0;32m    405\u001B[0m           path\u001B[38;5;241m.\u001B[39mappend((\u001B[38;5;28;01mNone\u001B[39;00m, field))\n\u001B[0;32m    406\u001B[0m \n\u001B[0;32m    407\u001B[0m           \u001B[38;5;66;03m# Return new FieldPath\u001B[39;00m\n\u001B[0;32m    408\u001B[0m           \u001B[38;5;28;01mreturn\u001B[39;00m FieldPath(\n\u001B[0;32m    409\u001B[0m             subgraph\u001B[38;5;241m=\u001B[39m\u001B[38;5;28mself\u001B[39m\u001B[38;5;241m.\u001B[39m_subgraph,\n\u001B[0;32m    410\u001B[0m             root_type\u001B[38;5;241m=\u001B[39m\u001B[38;5;28mself\u001B[39m\u001B[38;5;241m.\u001B[39m_root_type,\n\u001B[0;32m    411\u001B[0m             type_\u001B[38;5;241m=\u001B[39mfield\u001B[38;5;241m.\u001B[39mtype_,\n\u001B[0;32m    412\u001B[0m             path\u001B[38;5;241m=\u001B[39mpath\n\u001B[0;32m    413\u001B[0m           )\n\u001B[0;32m    414\u001B[0m         \u001B[38;5;28;01mcase\u001B[39;00m \u001B[38;5;28;01m_\u001B[39;00m:\n\u001B[0;32m    415\u001B[0m           \u001B[38;5;28;01mraise\u001B[39;00m \u001B[38;5;167;01mTypeError\u001B[39;00m(\u001B[38;5;124mf\u001B[39m\u001B[38;5;124m\"\u001B[39m\u001B[38;5;124mFieldPath: field \u001B[39m\u001B[38;5;132;01m{\u001B[39;00mname\u001B[38;5;132;01m}\u001B[39;00m\u001B[38;5;124m is not a valid field for object \u001B[39m\u001B[38;5;132;01m{\u001B[39;00m\u001B[38;5;28mself\u001B[39m\u001B[38;5;241m.\u001B[39m_type\u001B[38;5;241m.\u001B[39mname\u001B[38;5;132;01m}\u001B[39;00m\u001B[38;5;124m at path \u001B[39m\u001B[38;5;132;01m{\u001B[39;00m\u001B[38;5;28mself\u001B[39m\u001B[38;5;132;01m}\u001B[39;00m\u001B[38;5;124m\"\u001B[39m)\n\u001B[0;32m    416\u001B[0m \n\u001B[0;32m    417\u001B[0m     \u001B[38;5;28;01mcase\u001B[39;00m \u001B[38;5;28;01m_\u001B[39;00m:\n\u001B[0;32m    418\u001B[0m       \u001B[38;5;28;01mraise\u001B[39;00m \u001B[38;5;167;01mTypeError\u001B[39;00m(\u001B[38;5;124mf\u001B[39m\u001B[38;5;124m\"\u001B[39m\u001B[38;5;124mFieldPath: Unexpected type \u001B[39m\u001B[38;5;132;01m{\u001B[39;00m\u001B[38;5;28mself\u001B[39m\u001B[38;5;241m.\u001B[39m_type\u001B[38;5;241m.\u001B[39mname\u001B[38;5;132;01m}\u001B[39;00m\u001B[38;5;124m when selection \u001B[39m\u001B[38;5;132;01m{\u001B[39;00mname\u001B[38;5;132;01m}\u001B[39;00m\u001B[38;5;124m on \u001B[39m\u001B[38;5;132;01m{\u001B[39;00m\u001B[38;5;28mself\u001B[39m\u001B[38;5;132;01m}\u001B[39;00m\u001B[38;5;124m\"\u001B[39m)\n",
      "File \u001B[1;32m~\\PycharmProjects\\pythonProject\\venv\\lib\\site-packages\\subgrounds\\schema.py:219\u001B[0m, in \u001B[0;36mTypeMeta.ObjectMeta.field\u001B[1;34m(self, fname)\u001B[0m\n\u001B[0;32m    214\u001B[0m   \u001B[38;5;28;01mreturn\u001B[39;00m \u001B[38;5;28mnext\u001B[39m(\n\u001B[0;32m    215\u001B[0m     \u001B[38;5;28mself\u001B[39m\u001B[38;5;241m.\u001B[39mfields\n\u001B[0;32m    216\u001B[0m     \u001B[38;5;241m|\u001B[39m where(\u001B[38;5;28;01mlambda\u001B[39;00m fmeta: fmeta\u001B[38;5;241m.\u001B[39mname \u001B[38;5;241m==\u001B[39m fname)\n\u001B[0;32m    217\u001B[0m   )\n\u001B[0;32m    218\u001B[0m \u001B[38;5;28;01mexcept\u001B[39;00m \u001B[38;5;167;01mStopIteration\u001B[39;00m:\n\u001B[1;32m--> 219\u001B[0m   \u001B[38;5;28;01mraise\u001B[39;00m \u001B[38;5;167;01mKeyError\u001B[39;00m(\u001B[38;5;124mf\u001B[39m\u001B[38;5;124m'\u001B[39m\u001B[38;5;124mTypeMeta.ObjectMeta.field: no field named \u001B[39m\u001B[38;5;132;01m{\u001B[39;00mfname\u001B[38;5;132;01m}\u001B[39;00m\u001B[38;5;124m for interface \u001B[39m\u001B[38;5;132;01m{\u001B[39;00m\u001B[38;5;28mself\u001B[39m\u001B[38;5;241m.\u001B[39mname\u001B[38;5;132;01m}\u001B[39;00m\u001B[38;5;124m'\u001B[39m)\n",
      "\u001B[1;31mKeyError\u001B[0m: 'TypeMeta.ObjectMeta.field: no field named decimal for interface Token'"
     ]
    }
   ],
   "source": [
    "actionListLength=0\n",
    "actionTicker = 0\n",
    "fraxUsersDb = pd.DataFrame()\n",
    "actionsDb = pd.DataFrame()\n",
    "actionListLength = 1000\n",
    "datediff = 0\n",
    "now=0\n",
    "daysAgo=0\n",
    "daysLimit = 45\n",
    "exit = False\n",
    "while exit==False:\n",
    "    #listLength=0\n",
    "    skipValue = (actionTicker)*(1000)\n",
    "    actionsQuery = frax.Query.actions(\n",
    "         orderBy='timestamp'\n",
    "        ,orderDirection='desc'\n",
    "        ,first=1000\n",
    "        ,skipValue = skipValue\n",
    "        #,where = [frax.Query.actions.token.id == '0x66bf36dba79d4606039f04b32946a260bcd3ff52']\n",
    "        ,where={ 'pair': '0x66bf36dba79d4606039f04b32946a260bcd3ff52' }\n",
    "        #,where = {'positions.pairid':'0x66bf36dba79d4606039f04b32946a260bcd3ff52'}\n",
    "    #{'users_positions_pair_id':'0x66bf36dba79d4606039f04b32946a260bcd3ff52'}\n",
    "\n",
    "    )\n",
    "    actions= sg.query_df([\n",
    "        actionsQuery.id\n",
    "        ,actionsQuery.type\n",
    "        ,actionsQuery.amount\n",
    "        ,actionsQuery.timestamp\n",
    "        ,actionsQuery.block\n",
    "        ,actionsQuery.token.name\n",
    "        ,actionsQuery.token.symbol\n",
    "        ,actionsQuery.root.address\n",
    "        ]\n",
    "    )\n",
    "\n",
    "    actions.sort_values(by=['actions_timestamp'])\n",
    "\n",
    "    actionsDb=pd.concat([actionsDb, actions])\n",
    "    recordTimestamp1 = actionsDb.iat[actionTicker,3]\n",
    "    recordTimestamp = dt.datetime.fromtimestamp( recordTimestamp1 )\n",
    "    now = (int(dt.datetime.utcnow().timestamp()))\n",
    "    datediff=abs(int(now) - recordTimestamp1)\n",
    "    daysAgo = int(datediff/86400)\n",
    "    actionsDbLength = len(actionsDb)\n",
    "    actionListLength = len(actions)\n",
    "    recordID = actionsDb.iat[actionTicker,0]\n",
    "    action = actionsDb.iat[actionTicker,1]\n",
    "    print(\"iterations: \", actionTicker, \"Lines skipped: \",skipValue, \"records collected: \", actionListLength, \" - latest recordID: \",action, \" \", recordID , \" - actions DB length: \", actionsDbLength, \" - latest record from: \", recordTimestamp, daysAgo,\"days ago\")\n",
    "    #print(\"iterations: \", actionTicker, \"records collected: \", actionListLength, \" - userdb length: \", actionsDbLength)\n",
    "    if daysAgo>daysLimit: exit =True\n",
    "    if actionsDbLength<1000: exit =True\n",
    "    actionTicker = actionTicker+1\n",
    "print(\"Done. Total Records collected: \", actionsDbLength)"
   ],
   "metadata": {
    "collapsed": false
   }
  },
  {
   "cell_type": "code",
   "execution_count": 51,
   "outputs": [
    {
     "data": {
      "text/plain": "                                          actions_id   actions_type  \\\n0  0x5be90e520ac0d864d042204492657eba45a393d071d1...    borrowAsset   \n1  0x5be90e520ac0d864d042204492657eba45a393d071d1...  addCollateral   \n2  0xb5084f0093c98973c34e0f76f7a445e8948804f6558d...    borrowAsset   \n3  0x6e400c498c32578547961e3ff301455529abc7771d46...    borrowAsset   \n4  0x541195e19097fe4fd8342bd5fe60999a78dd9d47cbc9...    borrowAsset   \n5  0x541195e19097fe4fd8342bd5fe60999a78dd9d47cbc9...  addCollateral   \n6  0x21738e5eb8f405bffdc9f85af263c4fee0f68678e76e...    borrowAsset   \n7  0x00eba24f821beeaed8fa7bad766c7223d0e5fd9fffe0...    borrowAsset   \n8  0x54677ea7c57ce7ec0795df45c67493e00c8f28fa7856...    borrowAsset   \n9  0x9f9492ff20ad05a2a88665ca744ab554599bdefc3aa7...    borrowAsset   \n\n            actions_amount  actions_timestamp  actions_block  \\\n0                        0         1677125063       16688604   \n1     16281951604692612539         1677125063       16688604   \n2  10000000000000000000000         1677121559       16688314   \n3  10000000000000000000000         1677120671       16688241   \n4                        0         1677114335       16687721   \n5      3496938438629031733         1677114335       16687721   \n6  10000000000000000000000         1677113447       16687647   \n7  10000000000000000000000         1677107843       16687185   \n8  10000000000000000000000         1677088127       16685558   \n9                        0         1677084875       16685291   \n\n  actions_token_name                        actions_root_address  \\\n0               Frax  0xc0e0de939f26e71683452467942aff455ca153e3   \n1     Governance OHM  0xc0e0de939f26e71683452467942aff455ca153e3   \n2               Frax  0xc0e0de939f26e71683452467942aff455ca153e3   \n3               Frax  0xc0e0de939f26e71683452467942aff455ca153e3   \n4               Frax  0xc0e0de939f26e71683452467942aff455ca153e3   \n5     Governance OHM  0xc0e0de939f26e71683452467942aff455ca153e3   \n6               Frax  0xc0e0de939f26e71683452467942aff455ca153e3   \n7               Frax  0xc0e0de939f26e71683452467942aff455ca153e3   \n8               Frax  0xc0e0de939f26e71683452467942aff455ca153e3   \n9               Frax  0xc0e0de939f26e71683452467942aff455ca153e3   \n\n             dateTime     amountUsd  \n0 2023-02-23 04:04:23      0.000000  \n1 2023-02-23 04:04:23     16.281952  \n2 2023-02-23 03:05:59  10000.000000  \n3 2023-02-23 02:51:11  10000.000000  \n4 2023-02-23 01:05:35      0.000000  \n5 2023-02-23 01:05:35      3.496938  \n6 2023-02-23 00:50:47  10000.000000  \n7 2023-02-22 23:17:23  10000.000000  \n8 2023-02-22 17:48:47  10000.000000  \n9 2023-02-22 16:54:35      0.000000  ",
      "text/html": "<div>\n<style scoped>\n    .dataframe tbody tr th:only-of-type {\n        vertical-align: middle;\n    }\n\n    .dataframe tbody tr th {\n        vertical-align: top;\n    }\n\n    .dataframe thead th {\n        text-align: right;\n    }\n</style>\n<table border=\"1\" class=\"dataframe\">\n  <thead>\n    <tr style=\"text-align: right;\">\n      <th></th>\n      <th>actions_id</th>\n      <th>actions_type</th>\n      <th>actions_amount</th>\n      <th>actions_timestamp</th>\n      <th>actions_block</th>\n      <th>actions_token_name</th>\n      <th>actions_root_address</th>\n      <th>dateTime</th>\n      <th>amountUsd</th>\n    </tr>\n  </thead>\n  <tbody>\n    <tr>\n      <th>0</th>\n      <td>0x5be90e520ac0d864d042204492657eba45a393d071d1...</td>\n      <td>borrowAsset</td>\n      <td>0</td>\n      <td>1677125063</td>\n      <td>16688604</td>\n      <td>Frax</td>\n      <td>0xc0e0de939f26e71683452467942aff455ca153e3</td>\n      <td>2023-02-23 04:04:23</td>\n      <td>0.000000</td>\n    </tr>\n    <tr>\n      <th>1</th>\n      <td>0x5be90e520ac0d864d042204492657eba45a393d071d1...</td>\n      <td>addCollateral</td>\n      <td>16281951604692612539</td>\n      <td>1677125063</td>\n      <td>16688604</td>\n      <td>Governance OHM</td>\n      <td>0xc0e0de939f26e71683452467942aff455ca153e3</td>\n      <td>2023-02-23 04:04:23</td>\n      <td>16.281952</td>\n    </tr>\n    <tr>\n      <th>2</th>\n      <td>0xb5084f0093c98973c34e0f76f7a445e8948804f6558d...</td>\n      <td>borrowAsset</td>\n      <td>10000000000000000000000</td>\n      <td>1677121559</td>\n      <td>16688314</td>\n      <td>Frax</td>\n      <td>0xc0e0de939f26e71683452467942aff455ca153e3</td>\n      <td>2023-02-23 03:05:59</td>\n      <td>10000.000000</td>\n    </tr>\n    <tr>\n      <th>3</th>\n      <td>0x6e400c498c32578547961e3ff301455529abc7771d46...</td>\n      <td>borrowAsset</td>\n      <td>10000000000000000000000</td>\n      <td>1677120671</td>\n      <td>16688241</td>\n      <td>Frax</td>\n      <td>0xc0e0de939f26e71683452467942aff455ca153e3</td>\n      <td>2023-02-23 02:51:11</td>\n      <td>10000.000000</td>\n    </tr>\n    <tr>\n      <th>4</th>\n      <td>0x541195e19097fe4fd8342bd5fe60999a78dd9d47cbc9...</td>\n      <td>borrowAsset</td>\n      <td>0</td>\n      <td>1677114335</td>\n      <td>16687721</td>\n      <td>Frax</td>\n      <td>0xc0e0de939f26e71683452467942aff455ca153e3</td>\n      <td>2023-02-23 01:05:35</td>\n      <td>0.000000</td>\n    </tr>\n    <tr>\n      <th>5</th>\n      <td>0x541195e19097fe4fd8342bd5fe60999a78dd9d47cbc9...</td>\n      <td>addCollateral</td>\n      <td>3496938438629031733</td>\n      <td>1677114335</td>\n      <td>16687721</td>\n      <td>Governance OHM</td>\n      <td>0xc0e0de939f26e71683452467942aff455ca153e3</td>\n      <td>2023-02-23 01:05:35</td>\n      <td>3.496938</td>\n    </tr>\n    <tr>\n      <th>6</th>\n      <td>0x21738e5eb8f405bffdc9f85af263c4fee0f68678e76e...</td>\n      <td>borrowAsset</td>\n      <td>10000000000000000000000</td>\n      <td>1677113447</td>\n      <td>16687647</td>\n      <td>Frax</td>\n      <td>0xc0e0de939f26e71683452467942aff455ca153e3</td>\n      <td>2023-02-23 00:50:47</td>\n      <td>10000.000000</td>\n    </tr>\n    <tr>\n      <th>7</th>\n      <td>0x00eba24f821beeaed8fa7bad766c7223d0e5fd9fffe0...</td>\n      <td>borrowAsset</td>\n      <td>10000000000000000000000</td>\n      <td>1677107843</td>\n      <td>16687185</td>\n      <td>Frax</td>\n      <td>0xc0e0de939f26e71683452467942aff455ca153e3</td>\n      <td>2023-02-22 23:17:23</td>\n      <td>10000.000000</td>\n    </tr>\n    <tr>\n      <th>8</th>\n      <td>0x54677ea7c57ce7ec0795df45c67493e00c8f28fa7856...</td>\n      <td>borrowAsset</td>\n      <td>10000000000000000000000</td>\n      <td>1677088127</td>\n      <td>16685558</td>\n      <td>Frax</td>\n      <td>0xc0e0de939f26e71683452467942aff455ca153e3</td>\n      <td>2023-02-22 17:48:47</td>\n      <td>10000.000000</td>\n    </tr>\n    <tr>\n      <th>9</th>\n      <td>0x9f9492ff20ad05a2a88665ca744ab554599bdefc3aa7...</td>\n      <td>borrowAsset</td>\n      <td>0</td>\n      <td>1677084875</td>\n      <td>16685291</td>\n      <td>Frax</td>\n      <td>0xc0e0de939f26e71683452467942aff455ca153e3</td>\n      <td>2023-02-22 16:54:35</td>\n      <td>0.000000</td>\n    </tr>\n  </tbody>\n</table>\n</div>"
     },
     "execution_count": 51,
     "metadata": {},
     "output_type": "execute_result"
    }
   ],
   "source": [
    "    fraxActionsDbTimed = db.query(\"select \"\n",
    "                   \"    * \"\n",
    "                        \" ,to_timestamp(actions_timestamp) dateTime \"\n",
    "                    \",(actions_amount::hugeint*1e-18) amountUsd \"\n",
    "                   \"From actionsDb \"\n",
    "                   #\"where lower(liquidityPools_name) like lower('%olympus%') \"\n",
    "                    #    \"or lower(pairs_token1_symbol) like lower('%OHM%')  \"\n",
    "                   #\" limit 100 \"\n",
    "                   ).df()\n",
    "fraxActionsDbTimed.head(10)"
   ],
   "metadata": {
    "collapsed": false
   }
  },
  {
   "cell_type": "code",
   "execution_count": 52,
   "outputs": [
    {
     "name": "stdout",
     "output_type": "stream",
     "text": [
      "file saved\n"
     ]
    }
   ],
   "source": [
    "fraxActionsDbTimedLength = len(fraxActionsDbTimed)\n",
    "path =file+'/frax_actions.csv'\n",
    "fraxActionsDbTimed.to_csv(path, index = False)\n",
    "\n",
    "path =file+'/frax_actions__piped.csv'\n",
    "fraxActionsDbTimed.to_csv(path, index = False, sep='|')\n",
    "print('file saved')"
   ],
   "metadata": {
    "collapsed": false
   }
  },
  {
   "cell_type": "code",
   "execution_count": 53,
   "outputs": [
    {
     "data": {
      "text/plain": "                         actions_root_address            dateTime  \\\n0  0x03da5c3b75503a1dda58e2bd23d4726b5ee8dd26 2022-12-28 02:04:23   \n1  0xb4fb31e7b1471a8e52dd1e962a281a732ead59c1 2022-12-08 17:58:59   \n2  0xbf23c4820def2ed7cab808bec348f7072035a289 2022-12-16 19:03:47   \n3  0xee95e4cf086fc80df7ae0f39dfc9ea53a3eaadcb 2023-01-18 14:29:59   \n4  0x2a363fccde360dea7b0df06ed5416f925ed62ef7 2022-12-23 21:38:35   \n5  0xb0399dac8f4d4100b49b2a7b3873481114229d18 2023-01-30 18:09:59   \n6  0x1effd55a8646f7dc67c7578c20ce575cefeb1120 2023-01-23 15:28:59   \n7  0xb4fb31e7b1471a8e52dd1e962a281a732ead59c1 2022-12-09 18:31:11   \n8  0xe27ce7decbe14d1243efe2c927d3c090963aa1d3 2022-12-26 17:15:59   \n9  0xb4fb31e7b1471a8e52dd1e962a281a732ead59c1 2022-12-07 22:36:59   \n\n       amountUsd actions_token_name  \n0  560968.505801               Frax  \n1  400000.000000               Frax  \n2  376035.401417               Frax  \n3  350000.000000               Frax  \n4  350000.000000               Frax  \n5  305000.000000               Frax  \n6  300000.000000               Frax  \n7  200000.000000               Frax  \n8  200000.000000               Frax  \n9  200000.000000               Frax  ",
      "text/html": "<div>\n<style scoped>\n    .dataframe tbody tr th:only-of-type {\n        vertical-align: middle;\n    }\n\n    .dataframe tbody tr th {\n        vertical-align: top;\n    }\n\n    .dataframe thead th {\n        text-align: right;\n    }\n</style>\n<table border=\"1\" class=\"dataframe\">\n  <thead>\n    <tr style=\"text-align: right;\">\n      <th></th>\n      <th>actions_root_address</th>\n      <th>dateTime</th>\n      <th>amountUsd</th>\n      <th>actions_token_name</th>\n    </tr>\n  </thead>\n  <tbody>\n    <tr>\n      <th>0</th>\n      <td>0x03da5c3b75503a1dda58e2bd23d4726b5ee8dd26</td>\n      <td>2022-12-28 02:04:23</td>\n      <td>560968.505801</td>\n      <td>Frax</td>\n    </tr>\n    <tr>\n      <th>1</th>\n      <td>0xb4fb31e7b1471a8e52dd1e962a281a732ead59c1</td>\n      <td>2022-12-08 17:58:59</td>\n      <td>400000.000000</td>\n      <td>Frax</td>\n    </tr>\n    <tr>\n      <th>2</th>\n      <td>0xbf23c4820def2ed7cab808bec348f7072035a289</td>\n      <td>2022-12-16 19:03:47</td>\n      <td>376035.401417</td>\n      <td>Frax</td>\n    </tr>\n    <tr>\n      <th>3</th>\n      <td>0xee95e4cf086fc80df7ae0f39dfc9ea53a3eaadcb</td>\n      <td>2023-01-18 14:29:59</td>\n      <td>350000.000000</td>\n      <td>Frax</td>\n    </tr>\n    <tr>\n      <th>4</th>\n      <td>0x2a363fccde360dea7b0df06ed5416f925ed62ef7</td>\n      <td>2022-12-23 21:38:35</td>\n      <td>350000.000000</td>\n      <td>Frax</td>\n    </tr>\n    <tr>\n      <th>5</th>\n      <td>0xb0399dac8f4d4100b49b2a7b3873481114229d18</td>\n      <td>2023-01-30 18:09:59</td>\n      <td>305000.000000</td>\n      <td>Frax</td>\n    </tr>\n    <tr>\n      <th>6</th>\n      <td>0x1effd55a8646f7dc67c7578c20ce575cefeb1120</td>\n      <td>2023-01-23 15:28:59</td>\n      <td>300000.000000</td>\n      <td>Frax</td>\n    </tr>\n    <tr>\n      <th>7</th>\n      <td>0xb4fb31e7b1471a8e52dd1e962a281a732ead59c1</td>\n      <td>2022-12-09 18:31:11</td>\n      <td>200000.000000</td>\n      <td>Frax</td>\n    </tr>\n    <tr>\n      <th>8</th>\n      <td>0xe27ce7decbe14d1243efe2c927d3c090963aa1d3</td>\n      <td>2022-12-26 17:15:59</td>\n      <td>200000.000000</td>\n      <td>Frax</td>\n    </tr>\n    <tr>\n      <th>9</th>\n      <td>0xb4fb31e7b1471a8e52dd1e962a281a732ead59c1</td>\n      <td>2022-12-07 22:36:59</td>\n      <td>200000.000000</td>\n      <td>Frax</td>\n    </tr>\n  </tbody>\n</table>\n</div>"
     },
     "execution_count": 53,
     "metadata": {},
     "output_type": "execute_result"
    }
   ],
   "source": [
    "fraxBorrowsDb = db.query(\"select distinct\"\n",
    "                   \"    actions_root_address \"\n",
    "                         \", dateTime \"\n",
    "                         \", amountUSD \"\n",
    "                         \", actions_token_name \"\n",
    "                       \"From fraxActionsDbTimed \"\n",
    "                       \"where actions_type= 'borrowAsset'\"\n",
    "                         \"order by 3 desc \"\n",
    "                   ).df()\n",
    "fraxBorrowsDb.head(10)"
   ],
   "metadata": {
    "collapsed": false
   }
  },
  {
   "cell_type": "markdown",
   "source": [
    "**********************************************************\n",
    "LET'S PLAY AND CRUNCH DATA - BORROWS\n"
   ],
   "metadata": {
    "collapsed": false
   }
  },
  {
   "cell_type": "code",
   "execution_count": 54,
   "outputs": [
    {
     "name": "stdout",
     "output_type": "stream",
     "text": [
      "file saved\n"
     ]
    }
   ],
   "source": [
    "fraxBorrowsDb.drop_duplicates\n",
    "\n",
    "fraxBorrowsDbLength = len(fraxBorrowsDb)\n",
    "path =file+'/frax_borrows.csv'\n",
    "fraxBorrowsDb.to_csv(path, index = False)\n",
    "\n",
    "path =file+'/frax_borrows_piped.csv'\n",
    "fraxBorrowsDb.to_csv(path, index = False, sep='|')\n",
    "print('file saved')"
   ],
   "metadata": {
    "collapsed": false
   }
  },
  {
   "cell_type": "code",
   "execution_count": 55,
   "outputs": [
    {
     "data": {
      "text/plain": "       calDay  amountUsdBorrowed  borrowers protocol\n0  2022-12-07      204500.000000          2     Frax\n1  2022-12-08      531726.823715          7     Frax\n2  2022-12-09      288250.000000          4     Frax\n3  2022-12-10      160000.000000          2     Frax\n4  2022-12-11        8000.000000          1     Frax\n..        ...                ...        ...      ...\n71 2023-02-19       60525.000000          4     Frax\n72 2023-02-20       20000.000000          1     Frax\n73 2023-02-21       22000.000000          3     Frax\n74 2023-02-22       60800.000000          2     Frax\n75 2023-02-23       30000.000000          1     Frax\n\n[76 rows x 4 columns]",
      "text/html": "<div>\n<style scoped>\n    .dataframe tbody tr th:only-of-type {\n        vertical-align: middle;\n    }\n\n    .dataframe tbody tr th {\n        vertical-align: top;\n    }\n\n    .dataframe thead th {\n        text-align: right;\n    }\n</style>\n<table border=\"1\" class=\"dataframe\">\n  <thead>\n    <tr style=\"text-align: right;\">\n      <th></th>\n      <th>calDay</th>\n      <th>amountUsdBorrowed</th>\n      <th>borrowers</th>\n      <th>protocol</th>\n    </tr>\n  </thead>\n  <tbody>\n    <tr>\n      <th>0</th>\n      <td>2022-12-07</td>\n      <td>204500.000000</td>\n      <td>2</td>\n      <td>Frax</td>\n    </tr>\n    <tr>\n      <th>1</th>\n      <td>2022-12-08</td>\n      <td>531726.823715</td>\n      <td>7</td>\n      <td>Frax</td>\n    </tr>\n    <tr>\n      <th>2</th>\n      <td>2022-12-09</td>\n      <td>288250.000000</td>\n      <td>4</td>\n      <td>Frax</td>\n    </tr>\n    <tr>\n      <th>3</th>\n      <td>2022-12-10</td>\n      <td>160000.000000</td>\n      <td>2</td>\n      <td>Frax</td>\n    </tr>\n    <tr>\n      <th>4</th>\n      <td>2022-12-11</td>\n      <td>8000.000000</td>\n      <td>1</td>\n      <td>Frax</td>\n    </tr>\n    <tr>\n      <th>...</th>\n      <td>...</td>\n      <td>...</td>\n      <td>...</td>\n      <td>...</td>\n    </tr>\n    <tr>\n      <th>71</th>\n      <td>2023-02-19</td>\n      <td>60525.000000</td>\n      <td>4</td>\n      <td>Frax</td>\n    </tr>\n    <tr>\n      <th>72</th>\n      <td>2023-02-20</td>\n      <td>20000.000000</td>\n      <td>1</td>\n      <td>Frax</td>\n    </tr>\n    <tr>\n      <th>73</th>\n      <td>2023-02-21</td>\n      <td>22000.000000</td>\n      <td>3</td>\n      <td>Frax</td>\n    </tr>\n    <tr>\n      <th>74</th>\n      <td>2023-02-22</td>\n      <td>60800.000000</td>\n      <td>2</td>\n      <td>Frax</td>\n    </tr>\n    <tr>\n      <th>75</th>\n      <td>2023-02-23</td>\n      <td>30000.000000</td>\n      <td>1</td>\n      <td>Frax</td>\n    </tr>\n  </tbody>\n</table>\n<p>76 rows × 4 columns</p>\n</div>"
     },
     "execution_count": 55,
     "metadata": {},
     "output_type": "execute_result"
    }
   ],
   "source": [
    "fraxBorrowedUSDDaily = db.query(\n",
    "                        \"select \"\n",
    "                            \"date_trunc('day',dateTime) calDay \"\n",
    "                            \",sum(amountUsd) amountUsdBorrowed \"\n",
    "                        \"   ,count(distinct actions_root_address) borrowers \"\n",
    "                       \"From fraxBorrowsDb \"\n",
    "                        \"Group by 1 \"\n",
    "                        \"order by 1\"\n",
    "                   ).df()\n",
    "fraxBorrowedUSDDaily['protocol'] = 'Frax'\n",
    "fraxBorrowedUSDDaily.head(100)"
   ],
   "metadata": {
    "collapsed": false
   }
  },
  {
   "cell_type": "markdown",
   "source": [
    "fraxCollateralDb = db.query(\"select \"\n",
    "                   \"    * \"\n",
    "                       \"From fraxActionsDbTimed \"\n",
    "                       \"where actions_type= 'addCollateral' \"\n",
    "                   ).df()\n",
    "\n",
    "fraxCollateralDb.head(10)"
   ],
   "metadata": {
    "collapsed": false
   }
  },
  {
   "cell_type": "code",
   "execution_count": 56,
   "outputs": [],
   "source": [
    "siloBorrowedUSD = db.query(\n",
    "                        \"select distinct \"\n",
    "                            \"date_trunc('day',dateTime) calDay \"\n",
    "                            \",transaction_amountUSD::hugeint transaction_amountUSD \"\n",
    "                        \"   ,transaction_account_id \"\n",
    "                       \"From borrowsDbTimed \"\n",
    "                   ).df()"
   ],
   "metadata": {
    "collapsed": false
   }
  },
  {
   "cell_type": "code",
   "execution_count": 57,
   "outputs": [
    {
     "data": {
      "text/plain": "       calDay  amountUsdBorrowed  borrowers protocol\n0  2023-02-09           187001.0          2     Silo\n1  2023-02-16           101007.0          2     Silo\n2  2023-02-13            77443.0          2     Silo\n3  2023-02-17            59948.0          1     Silo\n4  2023-02-07            87736.0          5     Silo\n5  2023-02-22            26253.0          3     Silo\n6  2022-12-12            15941.0          2     Silo\n7  2023-01-28            10041.0          1     Silo\n8  2022-12-13             8041.0          1     Silo\n9  2023-02-21             6588.0          1     Silo\n10 2023-02-01             5001.0          1     Silo\n11 2023-02-14             7841.0          3     Silo\n12 2023-02-15             3023.0          1     Silo\n13 2022-12-17              498.0          1     Silo\n14 2022-11-23              661.0          2     Silo\n15 2023-02-08              397.0          1     Silo",
      "text/html": "<div>\n<style scoped>\n    .dataframe tbody tr th:only-of-type {\n        vertical-align: middle;\n    }\n\n    .dataframe tbody tr th {\n        vertical-align: top;\n    }\n\n    .dataframe thead th {\n        text-align: right;\n    }\n</style>\n<table border=\"1\" class=\"dataframe\">\n  <thead>\n    <tr style=\"text-align: right;\">\n      <th></th>\n      <th>calDay</th>\n      <th>amountUsdBorrowed</th>\n      <th>borrowers</th>\n      <th>protocol</th>\n    </tr>\n  </thead>\n  <tbody>\n    <tr>\n      <th>0</th>\n      <td>2023-02-09</td>\n      <td>187001.0</td>\n      <td>2</td>\n      <td>Silo</td>\n    </tr>\n    <tr>\n      <th>1</th>\n      <td>2023-02-16</td>\n      <td>101007.0</td>\n      <td>2</td>\n      <td>Silo</td>\n    </tr>\n    <tr>\n      <th>2</th>\n      <td>2023-02-13</td>\n      <td>77443.0</td>\n      <td>2</td>\n      <td>Silo</td>\n    </tr>\n    <tr>\n      <th>3</th>\n      <td>2023-02-17</td>\n      <td>59948.0</td>\n      <td>1</td>\n      <td>Silo</td>\n    </tr>\n    <tr>\n      <th>4</th>\n      <td>2023-02-07</td>\n      <td>87736.0</td>\n      <td>5</td>\n      <td>Silo</td>\n    </tr>\n    <tr>\n      <th>5</th>\n      <td>2023-02-22</td>\n      <td>26253.0</td>\n      <td>3</td>\n      <td>Silo</td>\n    </tr>\n    <tr>\n      <th>6</th>\n      <td>2022-12-12</td>\n      <td>15941.0</td>\n      <td>2</td>\n      <td>Silo</td>\n    </tr>\n    <tr>\n      <th>7</th>\n      <td>2023-01-28</td>\n      <td>10041.0</td>\n      <td>1</td>\n      <td>Silo</td>\n    </tr>\n    <tr>\n      <th>8</th>\n      <td>2022-12-13</td>\n      <td>8041.0</td>\n      <td>1</td>\n      <td>Silo</td>\n    </tr>\n    <tr>\n      <th>9</th>\n      <td>2023-02-21</td>\n      <td>6588.0</td>\n      <td>1</td>\n      <td>Silo</td>\n    </tr>\n    <tr>\n      <th>10</th>\n      <td>2023-02-01</td>\n      <td>5001.0</td>\n      <td>1</td>\n      <td>Silo</td>\n    </tr>\n    <tr>\n      <th>11</th>\n      <td>2023-02-14</td>\n      <td>7841.0</td>\n      <td>3</td>\n      <td>Silo</td>\n    </tr>\n    <tr>\n      <th>12</th>\n      <td>2023-02-15</td>\n      <td>3023.0</td>\n      <td>1</td>\n      <td>Silo</td>\n    </tr>\n    <tr>\n      <th>13</th>\n      <td>2022-12-17</td>\n      <td>498.0</td>\n      <td>1</td>\n      <td>Silo</td>\n    </tr>\n    <tr>\n      <th>14</th>\n      <td>2022-11-23</td>\n      <td>661.0</td>\n      <td>2</td>\n      <td>Silo</td>\n    </tr>\n    <tr>\n      <th>15</th>\n      <td>2023-02-08</td>\n      <td>397.0</td>\n      <td>1</td>\n      <td>Silo</td>\n    </tr>\n  </tbody>\n</table>\n</div>"
     },
     "execution_count": 57,
     "metadata": {},
     "output_type": "execute_result"
    }
   ],
   "source": [
    "siloBorrowedUSDDaily = db.query(\n",
    "                        \"select \"\n",
    "                            \"calDay \"\n",
    "                            \",sum(transaction_amountUSD::hugeint) amountUsdBorrowed \"\n",
    "                        \"   ,count(distinct transaction_account_id) borrowers \"\n",
    "                       \"From siloBorrowedUSD \"\n",
    "                        \"Group by 1 \"\n",
    "                   ).df()\n",
    "siloBorrowedUSDDaily['protocol'] = 'Silo'\n",
    "siloBorrowedUSDDaily.head(100)"
   ],
   "metadata": {
    "collapsed": false
   }
  },
  {
   "cell_type": "code",
   "execution_count": 58,
   "outputs": [],
   "source": [
    "vestaBorrowedUSD = db.query(\n",
    "                        \"select distinct \"\n",
    "                            \"date_trunc('day',dateTime) calDay \"\n",
    "                            \",borrows_amountUSD::hugeint transaction_amountUSD \"\n",
    "                        \"   ,borrows_account_id transaction_account_id \"\n",
    "                       \"From vestaBorrowsDbTimed \"\n",
    "                   ).df()"
   ],
   "metadata": {
    "collapsed": false
   }
  },
  {
   "cell_type": "code",
   "execution_count": 59,
   "outputs": [
    {
     "data": {
      "text/plain": "       calDay  transaction_amountUSD  \\\n0  2022-08-07               576298.0   \n1  2022-08-27               516405.0   \n2  2022-08-25               508523.0   \n3  2022-12-02               407615.0   \n4  2022-12-02               398065.0   \n..        ...                    ...   \n95 2022-08-01                60780.0   \n96 2022-05-02                60780.0   \n97 2022-08-29                60750.0   \n98 2022-08-25                59897.0   \n99 2022-12-02                58139.0   \n\n                        transaction_account_id  \n0   0xa80191fca50be00f8952c69232c93d57eeacaf6f  \n1   0x15bae977db3b62ceb5a67921fae589fd80624e8d  \n2   0xea17e11fa9d3d772eee6f34a03f0ef44db395720  \n3   0x0561a78021d8966ddd20c28c6c4318d8675ee1f0  \n4   0x0561a78021d8966ddd20c28c6c4318d8675ee1f0  \n..                                         ...  \n95  0xcf8e9a44c47461cd099f73fe6b4c2bc609a14e2a  \n96  0x6dd91bdab368282dc4ea4f4befc831b78a7c38c0  \n97  0x0561a78021d8966ddd20c28c6c4318d8675ee1f0  \n98  0xc2de5c0d250263da8989893760dd0971af7d87b0  \n99  0xe2a4de267cdd4ff5ed9ba13552f5c624b12db9b2  \n\n[100 rows x 3 columns]",
      "text/html": "<div>\n<style scoped>\n    .dataframe tbody tr th:only-of-type {\n        vertical-align: middle;\n    }\n\n    .dataframe tbody tr th {\n        vertical-align: top;\n    }\n\n    .dataframe thead th {\n        text-align: right;\n    }\n</style>\n<table border=\"1\" class=\"dataframe\">\n  <thead>\n    <tr style=\"text-align: right;\">\n      <th></th>\n      <th>calDay</th>\n      <th>transaction_amountUSD</th>\n      <th>transaction_account_id</th>\n    </tr>\n  </thead>\n  <tbody>\n    <tr>\n      <th>0</th>\n      <td>2022-08-07</td>\n      <td>576298.0</td>\n      <td>0xa80191fca50be00f8952c69232c93d57eeacaf6f</td>\n    </tr>\n    <tr>\n      <th>1</th>\n      <td>2022-08-27</td>\n      <td>516405.0</td>\n      <td>0x15bae977db3b62ceb5a67921fae589fd80624e8d</td>\n    </tr>\n    <tr>\n      <th>2</th>\n      <td>2022-08-25</td>\n      <td>508523.0</td>\n      <td>0xea17e11fa9d3d772eee6f34a03f0ef44db395720</td>\n    </tr>\n    <tr>\n      <th>3</th>\n      <td>2022-12-02</td>\n      <td>407615.0</td>\n      <td>0x0561a78021d8966ddd20c28c6c4318d8675ee1f0</td>\n    </tr>\n    <tr>\n      <th>4</th>\n      <td>2022-12-02</td>\n      <td>398065.0</td>\n      <td>0x0561a78021d8966ddd20c28c6c4318d8675ee1f0</td>\n    </tr>\n    <tr>\n      <th>...</th>\n      <td>...</td>\n      <td>...</td>\n      <td>...</td>\n    </tr>\n    <tr>\n      <th>95</th>\n      <td>2022-08-01</td>\n      <td>60780.0</td>\n      <td>0xcf8e9a44c47461cd099f73fe6b4c2bc609a14e2a</td>\n    </tr>\n    <tr>\n      <th>96</th>\n      <td>2022-05-02</td>\n      <td>60780.0</td>\n      <td>0x6dd91bdab368282dc4ea4f4befc831b78a7c38c0</td>\n    </tr>\n    <tr>\n      <th>97</th>\n      <td>2022-08-29</td>\n      <td>60750.0</td>\n      <td>0x0561a78021d8966ddd20c28c6c4318d8675ee1f0</td>\n    </tr>\n    <tr>\n      <th>98</th>\n      <td>2022-08-25</td>\n      <td>59897.0</td>\n      <td>0xc2de5c0d250263da8989893760dd0971af7d87b0</td>\n    </tr>\n    <tr>\n      <th>99</th>\n      <td>2022-12-02</td>\n      <td>58139.0</td>\n      <td>0xe2a4de267cdd4ff5ed9ba13552f5c624b12db9b2</td>\n    </tr>\n  </tbody>\n</table>\n<p>100 rows × 3 columns</p>\n</div>"
     },
     "execution_count": 59,
     "metadata": {},
     "output_type": "execute_result"
    }
   ],
   "source": [
    "vestaBorrowedUSD.sort_values (by=['transaction_amountUSD'])\n",
    "vestaBorrowedUSD.head(100)"
   ],
   "metadata": {
    "collapsed": false
   }
  },
  {
   "cell_type": "code",
   "execution_count": 60,
   "outputs": [
    {
     "data": {
      "text/plain": "       calDay  amountUsdBorrowed  borrowers protocol\n0  2022-08-07           585266.0          2    Vesta\n1  2022-08-27           519065.0          5    Vesta\n2  2022-08-25           577639.0          6    Vesta\n3  2022-12-02          3733062.0          8    Vesta\n4  2022-12-13           595613.0          4    Vesta\n..        ...                ...        ...      ...\n95 2022-11-11            23702.0          1    Vesta\n96 2022-09-19            45557.0          3    Vesta\n97 2023-01-11            21420.0          2    Vesta\n98 2022-07-19           131948.0         10    Vesta\n99 2022-11-23            55748.0          1    Vesta\n\n[100 rows x 4 columns]",
      "text/html": "<div>\n<style scoped>\n    .dataframe tbody tr th:only-of-type {\n        vertical-align: middle;\n    }\n\n    .dataframe tbody tr th {\n        vertical-align: top;\n    }\n\n    .dataframe thead th {\n        text-align: right;\n    }\n</style>\n<table border=\"1\" class=\"dataframe\">\n  <thead>\n    <tr style=\"text-align: right;\">\n      <th></th>\n      <th>calDay</th>\n      <th>amountUsdBorrowed</th>\n      <th>borrowers</th>\n      <th>protocol</th>\n    </tr>\n  </thead>\n  <tbody>\n    <tr>\n      <th>0</th>\n      <td>2022-08-07</td>\n      <td>585266.0</td>\n      <td>2</td>\n      <td>Vesta</td>\n    </tr>\n    <tr>\n      <th>1</th>\n      <td>2022-08-27</td>\n      <td>519065.0</td>\n      <td>5</td>\n      <td>Vesta</td>\n    </tr>\n    <tr>\n      <th>2</th>\n      <td>2022-08-25</td>\n      <td>577639.0</td>\n      <td>6</td>\n      <td>Vesta</td>\n    </tr>\n    <tr>\n      <th>3</th>\n      <td>2022-12-02</td>\n      <td>3733062.0</td>\n      <td>8</td>\n      <td>Vesta</td>\n    </tr>\n    <tr>\n      <th>4</th>\n      <td>2022-12-13</td>\n      <td>595613.0</td>\n      <td>4</td>\n      <td>Vesta</td>\n    </tr>\n    <tr>\n      <th>...</th>\n      <td>...</td>\n      <td>...</td>\n      <td>...</td>\n      <td>...</td>\n    </tr>\n    <tr>\n      <th>95</th>\n      <td>2022-11-11</td>\n      <td>23702.0</td>\n      <td>1</td>\n      <td>Vesta</td>\n    </tr>\n    <tr>\n      <th>96</th>\n      <td>2022-09-19</td>\n      <td>45557.0</td>\n      <td>3</td>\n      <td>Vesta</td>\n    </tr>\n    <tr>\n      <th>97</th>\n      <td>2023-01-11</td>\n      <td>21420.0</td>\n      <td>2</td>\n      <td>Vesta</td>\n    </tr>\n    <tr>\n      <th>98</th>\n      <td>2022-07-19</td>\n      <td>131948.0</td>\n      <td>10</td>\n      <td>Vesta</td>\n    </tr>\n    <tr>\n      <th>99</th>\n      <td>2022-11-23</td>\n      <td>55748.0</td>\n      <td>1</td>\n      <td>Vesta</td>\n    </tr>\n  </tbody>\n</table>\n<p>100 rows × 4 columns</p>\n</div>"
     },
     "execution_count": 60,
     "metadata": {},
     "output_type": "execute_result"
    }
   ],
   "source": [
    "vestaBorrowedUSDDaily = db.query(\n",
    "                        \"select \"\n",
    "                            \"calDay \"\n",
    "                            \",sum(transaction_amountUSD) amountUsdBorrowed \"\n",
    "                        \"   ,count(distinct transaction_account_id) borrowers \"\n",
    "                       \"From vestaBorrowedUSD \"\n",
    "                        \"Group by 1 \"\n",
    "                   ).df()\n",
    "vestaBorrowedUSDDaily['protocol'] = 'Vesta'\n",
    "vestaBorrowedUSDDaily.head(100)"
   ],
   "metadata": {
    "collapsed": false
   }
  },
  {
   "cell_type": "code",
   "execution_count": 61,
   "outputs": [
    {
     "data": {
      "text/plain": "       calDay  amountUsdBorrowed  borrowers protocol\n0  2022-08-07           585266.0          2    Vesta\n1  2022-08-27           519065.0          5    Vesta\n2  2022-08-25           577639.0          6    Vesta\n3  2022-12-02          3733062.0          8    Vesta\n4  2022-12-13           595613.0          4    Vesta\n..        ...                ...        ...      ...\n71 2023-02-19            60525.0          4     Frax\n72 2023-02-20            20000.0          1     Frax\n73 2023-02-21            22000.0          3     Frax\n74 2023-02-22            60800.0          2     Frax\n75 2023-02-23            30000.0          1     Frax\n\n[357 rows x 4 columns]",
      "text/html": "<div>\n<style scoped>\n    .dataframe tbody tr th:only-of-type {\n        vertical-align: middle;\n    }\n\n    .dataframe tbody tr th {\n        vertical-align: top;\n    }\n\n    .dataframe thead th {\n        text-align: right;\n    }\n</style>\n<table border=\"1\" class=\"dataframe\">\n  <thead>\n    <tr style=\"text-align: right;\">\n      <th></th>\n      <th>calDay</th>\n      <th>amountUsdBorrowed</th>\n      <th>borrowers</th>\n      <th>protocol</th>\n    </tr>\n  </thead>\n  <tbody>\n    <tr>\n      <th>0</th>\n      <td>2022-08-07</td>\n      <td>585266.0</td>\n      <td>2</td>\n      <td>Vesta</td>\n    </tr>\n    <tr>\n      <th>1</th>\n      <td>2022-08-27</td>\n      <td>519065.0</td>\n      <td>5</td>\n      <td>Vesta</td>\n    </tr>\n    <tr>\n      <th>2</th>\n      <td>2022-08-25</td>\n      <td>577639.0</td>\n      <td>6</td>\n      <td>Vesta</td>\n    </tr>\n    <tr>\n      <th>3</th>\n      <td>2022-12-02</td>\n      <td>3733062.0</td>\n      <td>8</td>\n      <td>Vesta</td>\n    </tr>\n    <tr>\n      <th>4</th>\n      <td>2022-12-13</td>\n      <td>595613.0</td>\n      <td>4</td>\n      <td>Vesta</td>\n    </tr>\n    <tr>\n      <th>...</th>\n      <td>...</td>\n      <td>...</td>\n      <td>...</td>\n      <td>...</td>\n    </tr>\n    <tr>\n      <th>71</th>\n      <td>2023-02-19</td>\n      <td>60525.0</td>\n      <td>4</td>\n      <td>Frax</td>\n    </tr>\n    <tr>\n      <th>72</th>\n      <td>2023-02-20</td>\n      <td>20000.0</td>\n      <td>1</td>\n      <td>Frax</td>\n    </tr>\n    <tr>\n      <th>73</th>\n      <td>2023-02-21</td>\n      <td>22000.0</td>\n      <td>3</td>\n      <td>Frax</td>\n    </tr>\n    <tr>\n      <th>74</th>\n      <td>2023-02-22</td>\n      <td>60800.0</td>\n      <td>2</td>\n      <td>Frax</td>\n    </tr>\n    <tr>\n      <th>75</th>\n      <td>2023-02-23</td>\n      <td>30000.0</td>\n      <td>1</td>\n      <td>Frax</td>\n    </tr>\n  </tbody>\n</table>\n<p>357 rows × 4 columns</p>\n</div>"
     },
     "execution_count": 61,
     "metadata": {},
     "output_type": "execute_result"
    }
   ],
   "source": [
    "#Don't judge if I use pandas for some things and SQL for others. I'm a noob :P\n",
    "dailyUsdBorrowdDb =  pd.concat([vestaBorrowedUSDDaily, siloBorrowedUSDDaily,fraxBorrowedUSDDaily])\n",
    "dailyUsdBorrowdDb.head(400)"
   ],
   "metadata": {
    "collapsed": false
   }
  },
  {
   "cell_type": "code",
   "execution_count": 62,
   "outputs": [
    {
     "name": "stdout",
     "output_type": "stream",
     "text": [
      "file saved\n"
     ]
    }
   ],
   "source": [
    "dailyUsdBorrowdDbLength = len(dailyUsdBorrowdDb)\n",
    "path =file+'/dailyUsdBorrowed.csv'\n",
    "dailyUsdBorrowdDb.to_csv(path, index = False)\n",
    "\n",
    "path =file+'/dailyUsdBorrowed_piped.csv'\n",
    "dailyUsdBorrowdDb.to_csv(path, index = False, sep='|')\n",
    "print('file saved')"
   ],
   "metadata": {
    "collapsed": false
   }
  },
  {
   "cell_type": "code",
   "execution_count": 63,
   "outputs": [
    {
     "data": {
      "text/plain": "357"
     },
     "execution_count": 63,
     "metadata": {},
     "output_type": "execute_result"
    }
   ],
   "source": [
    "dailyUsdBorrowdDbLength"
   ],
   "metadata": {
    "collapsed": false
   }
  },
  {
   "cell_type": "markdown",
   "source": [
    "*******************************8\n",
    "REPAYS!"
   ],
   "metadata": {
    "collapsed": false
   }
  },
  {
   "cell_type": "code",
   "execution_count": 64,
   "outputs": [
    {
     "data": {
      "text/plain": "                                          actions_id actions_type  \\\n0  0x283f259ab852f389faff919a79ed8b3547bece4e84a0...   repayAsset   \n1  0xc84158cfb0de12eb6da22f0e9f373de223e81cbb2901...   repayAsset   \n2  0xcfc1e4017009147238d042380cebf72824c49cf03523...   repayAsset   \n3  0x74bf51475fa3f20f517da02d7fc395208fbec2916910...   repayAsset   \n4  0x1ec21c9c8169b41b515a76dd8d68cb60c2a93f20daeb...   repayAsset   \n5  0x1ec1f1d781c20ba212b8c86e9141634dfa5ab919c9b4...   repayAsset   \n6  0x395e8e7df1cfc36cf1c5c5e745ac1fcb7d166a1b66b3...   repayAsset   \n7  0x61b85113554f41e41beb5a81ae45336168b6eedaf7c5...   repayAsset   \n8  0xc7c1739911ae71f7726d1d32214edb8161a341f7fcd7...   repayAsset   \n9  0x40e939c94b527bd4eb9f8f102cfe3c179b61f0da6bb7...   repayAsset   \n\n            actions_amount  actions_timestamp  actions_block  \\\n0    608000151589345240660         1676984951       16677079   \n1  22512007177231068898013         1676591351       16644678   \n2  25368003616178772099355         1676584019       16644070   \n3   7477141071182613032350         1676501015       16637194   \n4  30054788828170054409801         1676469863       16634618   \n5   3452642443104311600788         1676292491       16619937   \n6   2482001407422899262526         1676292095       16619904   \n7   1300000127635337104324         1676079827       16602316   \n8    812894298298405441439         1676068895       16601407   \n9  20000000657920034222343         1676049335       16599784   \n\n  actions_token_name                        actions_root_address  \\\n0               Frax  0x4731223a7b5ac0c425f1f35d0bdf6d340a93a181   \n1               Frax  0xc0e0de939f26e71683452467942aff455ca153e3   \n2               Frax  0xf10918fc1725a65960db2b906b4868a0fdbb6870   \n3               Frax  0x9adcdc109dc88adc2e1493829e1bdf59635a4692   \n4               Frax  0x0493bcca897a2248ae3cd4c66aea90dbfc7e13c6   \n5               Frax  0xc0b1f200aa9546ce074397bed7438bb2ec033877   \n6               Frax  0xc0b1f200aa9546ce074397bed7438bb2ec033877   \n7               Frax  0xf10918fc1725a65960db2b906b4868a0fdbb6870   \n8               Frax  0x46535cbc3fa574c32ea392d4f89c518290597072   \n9               Frax  0xc0e0de939f26e71683452467942aff455ca153e3   \n\n             dateTime     amountUsd  amountUsdRepayed  \n0 2023-02-21 13:09:11    608.000152        608.000152  \n1 2023-02-16 23:49:11  22512.007177      22512.007177  \n2 2023-02-16 21:46:59  25368.003616      25368.003616  \n3 2023-02-15 22:43:35   7477.141071       7477.141071  \n4 2023-02-15 14:04:23  30054.788828      30054.788828  \n5 2023-02-13 12:48:11   3452.642443       3452.642443  \n6 2023-02-13 12:41:35   2482.001407       2482.001407  \n7 2023-02-11 01:43:47   1300.000128       1300.000128  \n8 2023-02-10 22:41:35    812.894298        812.894298  \n9 2023-02-10 17:15:35  20000.000658      20000.000658  ",
      "text/html": "<div>\n<style scoped>\n    .dataframe tbody tr th:only-of-type {\n        vertical-align: middle;\n    }\n\n    .dataframe tbody tr th {\n        vertical-align: top;\n    }\n\n    .dataframe thead th {\n        text-align: right;\n    }\n</style>\n<table border=\"1\" class=\"dataframe\">\n  <thead>\n    <tr style=\"text-align: right;\">\n      <th></th>\n      <th>actions_id</th>\n      <th>actions_type</th>\n      <th>actions_amount</th>\n      <th>actions_timestamp</th>\n      <th>actions_block</th>\n      <th>actions_token_name</th>\n      <th>actions_root_address</th>\n      <th>dateTime</th>\n      <th>amountUsd</th>\n      <th>amountUsdRepayed</th>\n    </tr>\n  </thead>\n  <tbody>\n    <tr>\n      <th>0</th>\n      <td>0x283f259ab852f389faff919a79ed8b3547bece4e84a0...</td>\n      <td>repayAsset</td>\n      <td>608000151589345240660</td>\n      <td>1676984951</td>\n      <td>16677079</td>\n      <td>Frax</td>\n      <td>0x4731223a7b5ac0c425f1f35d0bdf6d340a93a181</td>\n      <td>2023-02-21 13:09:11</td>\n      <td>608.000152</td>\n      <td>608.000152</td>\n    </tr>\n    <tr>\n      <th>1</th>\n      <td>0xc84158cfb0de12eb6da22f0e9f373de223e81cbb2901...</td>\n      <td>repayAsset</td>\n      <td>22512007177231068898013</td>\n      <td>1676591351</td>\n      <td>16644678</td>\n      <td>Frax</td>\n      <td>0xc0e0de939f26e71683452467942aff455ca153e3</td>\n      <td>2023-02-16 23:49:11</td>\n      <td>22512.007177</td>\n      <td>22512.007177</td>\n    </tr>\n    <tr>\n      <th>2</th>\n      <td>0xcfc1e4017009147238d042380cebf72824c49cf03523...</td>\n      <td>repayAsset</td>\n      <td>25368003616178772099355</td>\n      <td>1676584019</td>\n      <td>16644070</td>\n      <td>Frax</td>\n      <td>0xf10918fc1725a65960db2b906b4868a0fdbb6870</td>\n      <td>2023-02-16 21:46:59</td>\n      <td>25368.003616</td>\n      <td>25368.003616</td>\n    </tr>\n    <tr>\n      <th>3</th>\n      <td>0x74bf51475fa3f20f517da02d7fc395208fbec2916910...</td>\n      <td>repayAsset</td>\n      <td>7477141071182613032350</td>\n      <td>1676501015</td>\n      <td>16637194</td>\n      <td>Frax</td>\n      <td>0x9adcdc109dc88adc2e1493829e1bdf59635a4692</td>\n      <td>2023-02-15 22:43:35</td>\n      <td>7477.141071</td>\n      <td>7477.141071</td>\n    </tr>\n    <tr>\n      <th>4</th>\n      <td>0x1ec21c9c8169b41b515a76dd8d68cb60c2a93f20daeb...</td>\n      <td>repayAsset</td>\n      <td>30054788828170054409801</td>\n      <td>1676469863</td>\n      <td>16634618</td>\n      <td>Frax</td>\n      <td>0x0493bcca897a2248ae3cd4c66aea90dbfc7e13c6</td>\n      <td>2023-02-15 14:04:23</td>\n      <td>30054.788828</td>\n      <td>30054.788828</td>\n    </tr>\n    <tr>\n      <th>5</th>\n      <td>0x1ec1f1d781c20ba212b8c86e9141634dfa5ab919c9b4...</td>\n      <td>repayAsset</td>\n      <td>3452642443104311600788</td>\n      <td>1676292491</td>\n      <td>16619937</td>\n      <td>Frax</td>\n      <td>0xc0b1f200aa9546ce074397bed7438bb2ec033877</td>\n      <td>2023-02-13 12:48:11</td>\n      <td>3452.642443</td>\n      <td>3452.642443</td>\n    </tr>\n    <tr>\n      <th>6</th>\n      <td>0x395e8e7df1cfc36cf1c5c5e745ac1fcb7d166a1b66b3...</td>\n      <td>repayAsset</td>\n      <td>2482001407422899262526</td>\n      <td>1676292095</td>\n      <td>16619904</td>\n      <td>Frax</td>\n      <td>0xc0b1f200aa9546ce074397bed7438bb2ec033877</td>\n      <td>2023-02-13 12:41:35</td>\n      <td>2482.001407</td>\n      <td>2482.001407</td>\n    </tr>\n    <tr>\n      <th>7</th>\n      <td>0x61b85113554f41e41beb5a81ae45336168b6eedaf7c5...</td>\n      <td>repayAsset</td>\n      <td>1300000127635337104324</td>\n      <td>1676079827</td>\n      <td>16602316</td>\n      <td>Frax</td>\n      <td>0xf10918fc1725a65960db2b906b4868a0fdbb6870</td>\n      <td>2023-02-11 01:43:47</td>\n      <td>1300.000128</td>\n      <td>1300.000128</td>\n    </tr>\n    <tr>\n      <th>8</th>\n      <td>0xc7c1739911ae71f7726d1d32214edb8161a341f7fcd7...</td>\n      <td>repayAsset</td>\n      <td>812894298298405441439</td>\n      <td>1676068895</td>\n      <td>16601407</td>\n      <td>Frax</td>\n      <td>0x46535cbc3fa574c32ea392d4f89c518290597072</td>\n      <td>2023-02-10 22:41:35</td>\n      <td>812.894298</td>\n      <td>812.894298</td>\n    </tr>\n    <tr>\n      <th>9</th>\n      <td>0x40e939c94b527bd4eb9f8f102cfe3c179b61f0da6bb7...</td>\n      <td>repayAsset</td>\n      <td>20000000657920034222343</td>\n      <td>1676049335</td>\n      <td>16599784</td>\n      <td>Frax</td>\n      <td>0xc0e0de939f26e71683452467942aff455ca153e3</td>\n      <td>2023-02-10 17:15:35</td>\n      <td>20000.000658</td>\n      <td>20000.000658</td>\n    </tr>\n  </tbody>\n</table>\n</div>"
     },
     "execution_count": 64,
     "metadata": {},
     "output_type": "execute_result"
    }
   ],
   "source": [
    "fraxRepaysDb = db.query(\"select \"\n",
    "                   \"    * \"\n",
    "                    \",(actions_amount::hugeint*1e-18) amountUsdRepayed \"\n",
    "                       \"From fraxActionsDbTimed \"\n",
    "                       \"where actions_type= 'repayAsset' \"\n",
    "                   ).df()\n",
    "fraxRepaysDb.head(10)"
   ],
   "metadata": {
    "collapsed": false
   }
  },
  {
   "cell_type": "code",
   "execution_count": 65,
   "outputs": [
    {
     "ename": "RuntimeError",
     "evalue": "Binder Error: Referenced column \"actions_root_id\" not found in FROM clause!\nCandidate bindings: \"fraxRepaysDb.actions_id\"",
     "output_type": "error",
     "traceback": [
      "\u001B[1;31m---------------------------------------------------------------------------\u001B[0m",
      "\u001B[1;31mRuntimeError\u001B[0m                              Traceback (most recent call last)",
      "Input \u001B[1;32mIn [65]\u001B[0m, in \u001B[0;36m<cell line: 1>\u001B[1;34m()\u001B[0m\n\u001B[1;32m----> 1\u001B[0m fraxRepaiddUsdDaily \u001B[38;5;241m=\u001B[39m \u001B[43mdb\u001B[49m\u001B[38;5;241;43m.\u001B[39;49m\u001B[43mquery\u001B[49m\u001B[43m(\u001B[49m\n\u001B[0;32m      2\u001B[0m \u001B[43m                        \u001B[49m\u001B[38;5;124;43m\"\u001B[39;49m\u001B[38;5;124;43mselect \u001B[39;49m\u001B[38;5;124;43m\"\u001B[39;49m\n\u001B[0;32m      3\u001B[0m \u001B[43m                            \u001B[49m\u001B[38;5;124;43m\"\u001B[39;49m\u001B[38;5;124;43mdate_trunc(\u001B[39;49m\u001B[38;5;124;43m'\u001B[39;49m\u001B[38;5;124;43mday\u001B[39;49m\u001B[38;5;124;43m'\u001B[39;49m\u001B[38;5;124;43m,dateTime) calDay \u001B[39;49m\u001B[38;5;124;43m\"\u001B[39;49m\n\u001B[0;32m      4\u001B[0m \u001B[43m                            \u001B[49m\u001B[38;5;124;43m\"\u001B[39;49m\u001B[38;5;124;43m,sum(amountUsdRepayed) amountUsdRepaid \u001B[39;49m\u001B[38;5;124;43m\"\u001B[39;49m\n\u001B[0;32m      5\u001B[0m \u001B[43m                        \u001B[49m\u001B[38;5;124;43m\"\u001B[39;49m\u001B[38;5;124;43m   ,count(distinct actions_root_id) repayers \u001B[39;49m\u001B[38;5;124;43m\"\u001B[39;49m\n\u001B[0;32m      6\u001B[0m \u001B[43m                       \u001B[49m\u001B[38;5;124;43m\"\u001B[39;49m\u001B[38;5;124;43mFrom fraxRepaysDb \u001B[39;49m\u001B[38;5;124;43m\"\u001B[39;49m\n\u001B[0;32m      7\u001B[0m \u001B[43m                        \u001B[49m\u001B[38;5;124;43m\"\u001B[39;49m\u001B[38;5;124;43mGroup by 1 \u001B[39;49m\u001B[38;5;124;43m\"\u001B[39;49m\n\u001B[0;32m      8\u001B[0m \u001B[43m                        \u001B[49m\u001B[38;5;124;43m\"\u001B[39;49m\u001B[38;5;124;43morder by 1\u001B[39;49m\u001B[38;5;124;43m\"\u001B[39;49m\n\u001B[0;32m      9\u001B[0m \u001B[43m                   \u001B[49m\u001B[43m)\u001B[49m\u001B[38;5;241m.\u001B[39mdf()\n\u001B[0;32m     10\u001B[0m fraxRepaiddUsdDaily[\u001B[38;5;124m'\u001B[39m\u001B[38;5;124mprotocol\u001B[39m\u001B[38;5;124m'\u001B[39m] \u001B[38;5;241m=\u001B[39m \u001B[38;5;124m'\u001B[39m\u001B[38;5;124mFrax\u001B[39m\u001B[38;5;124m'\u001B[39m\n\u001B[0;32m     11\u001B[0m fraxRepaiddUsdDaily\u001B[38;5;241m.\u001B[39mhead(\u001B[38;5;241m10\u001B[39m)\n",
      "\u001B[1;31mRuntimeError\u001B[0m: Binder Error: Referenced column \"actions_root_id\" not found in FROM clause!\nCandidate bindings: \"fraxRepaysDb.actions_id\""
     ]
    }
   ],
   "source": [
    "fraxRepaiddUsdDaily = db.query(\n",
    "                        \"select \"\n",
    "                            \"date_trunc('day',dateTime) calDay \"\n",
    "                            \",sum(amountUsdRepayed) amountUsdRepaid \"\n",
    "                        \"   ,count(distinct actions_root_id) repayers \"\n",
    "                       \"From fraxRepaysDb \"\n",
    "                        \"Group by 1 \"\n",
    "                        \"order by 1\"\n",
    "                   ).df()\n",
    "fraxRepaiddUsdDaily['protocol'] = 'Frax'\n",
    "fraxRepaiddUsdDaily.head(10)"
   ],
   "metadata": {
    "collapsed": false
   }
  },
  {
   "cell_type": "code",
   "execution_count": null,
   "outputs": [],
   "source": [
    "vestaUsdRepaidDaily = db.query(\n",
    "                        \"select \"\n",
    "                            \"date_trunc('day',dateTime) calDay \"\n",
    "                            \",sum(transaction_amountUSD::hugeint) amountUsdRepaid \"\n",
    "                        \"   ,count(distinct transaction_account_id) repayers \"\n",
    "                       \"From  vestaRepaysDbTimed \"\n",
    "                        \"Group by 1 \"\n",
    "                   ).df()\n",
    "vestaUsdRepaidDaily['protocol'] = 'Vesta'\n",
    "vestaUsdRepaidDaily.head(10)"
   ],
   "metadata": {
    "collapsed": false
   }
  },
  {
   "cell_type": "code",
   "execution_count": null,
   "outputs": [],
   "source": [
    "SiloUsdRepaidDaily = db.query(\n",
    "                        \"select \"\n",
    "                            \"date_trunc('day',to_timestamp(transaction_timestamp::int)) calDay \"\n",
    "                            \",sum(transaction_amountUSD::hugeint) amountUsdRepaid \"\n",
    "                        \"   ,count(distinct transaction_account_id) repayers \"\n",
    "                       \"From  repaysDb \"\n",
    "                        \"Group by 1 \"\n",
    "                   ).df()\n",
    "SiloUsdRepaidDaily['protocol'] = 'Silo'\n",
    "SiloUsdRepaidDaily.head(10)"
   ],
   "metadata": {
    "collapsed": false
   }
  },
  {
   "cell_type": "markdown",
   "source": [
    "*****************************\n",
    "DAILY SNAPSHOTS - FRAX FIRST"
   ],
   "metadata": {
    "collapsed": false
   }
  },
  {
   "cell_type": "code",
   "execution_count": null,
   "outputs": [],
   "source": [
    "pairSnapshotsListLength=0\n",
    "pairSnapshotsTicker = 0\n",
    "Snapshots = pd.DataFrame()\n",
    "pairSnapshotsDb = pd.DataFrame()\n",
    "pairSnapshotsListLength = 1000\n",
    "datediff = 0\n",
    "now=0\n",
    "daysAgo=0\n",
    "daysLimit = 45\n",
    "exit= False\n",
    "while exit==False:\n",
    "    #listLength=0\n",
    "    skipValue = (pairSnapshotsTicker)*(1000)\n",
    "    pairsQuery = frax.Query.pairPerDays(\n",
    "         orderBy='id'\n",
    "        ,orderDirection='desc'\n",
    "        ,first=1000\n",
    "        ,skipValue = skipValue\n",
    "        #,where = [frax.Query.pairs.token.id == '0x66bf36dba79d4606039f04b32946a260bcd3ff52']\n",
    "        ,where={ 'pair': '0x66bf36dba79d4606039f04b32946a260bcd3ff52' }\n",
    "        #,where = {'positions.pairid':'0x66bf36dba79d4606039f04b32946a260bcd3ff52'}\n",
    "    #{'users_positions_pair_id':'0x66bf36dba79d4606039f04b32946a260bcd3ff52'}\n",
    "\n",
    "    )\n",
    "    Snapshots= sg.query_df([\n",
    "    pairsQuery.id\n",
    "    ,pairsQuery.feeToProtocolRate\n",
    "    ,pairsQuery.exchangeRate\n",
    "    ,pairsQuery.totalAssetAmount\n",
    "    ,pairsQuery.totalAssetShare\n",
    "    ,pairsQuery.totalCollateral\n",
    "    ,pairsQuery.totalBorrowAmount\n",
    "    ,pairsQuery.totalBorrowShare\n",
    "    ,pairsQuery.interestPerSecond\n",
    "    ,pairsQuery.utilization\n",
    "    ,pairsQuery.totalFeesAmount\n",
    "    ,pairsQuery.totalFeesShare\n",
    "    ,pairsQuery.lastAccrued\n",
    "    ,pairsQuery.block\n",
    "    ,pairsQuery.timestamp\n",
    "    ,pairsQuery.totalAssetValue\n",
    "    ,pairsQuery.totalCollateralValue\n",
    "    ,pairsQuery.totalBorrowValue\n",
    "    ,pairsQuery.pair\n",
    "    ]\n",
    "    )\n",
    "\n",
    "    Snapshots.sort_values(by=['pairPerDays_timestamp'])\n",
    "\n",
    "    pairSnapshotsDb=pd.concat([pairSnapshotsDb, Snapshots])\n",
    "    recordTimestamp1 = pairSnapshotsDb.iat[pairSnapshotsTicker,14]\n",
    "    recordTimestamp = dt.datetime.fromtimestamp( recordTimestamp1 )\n",
    "    now = (int(dt.datetime.utcnow().timestamp()))\n",
    "    datediff=abs(int(now) - recordTimestamp1)\n",
    "    daysAgo = int(datediff/86400)\n",
    "    pairSnapshotsDbLength = len(pairSnapshotsDb)\n",
    "    pairSnapshotsListLength = len(Snapshots)\n",
    "    recordID = pairSnapshotsDb.iat[pairSnapshotsTicker,0]\n",
    "    Snapshot = pairSnapshotsDb.iat[pairSnapshotsTicker,1]\n",
    "    print(\"iterations: \", pairSnapshotsTicker, \"Lines skipped: \",skipValue, \"records collected: \", pairSnapshotsListLength, \" - latest recordID: \",Snapshot, \" \", recordID , \" - pairSnapshots DB length: \", pairSnapshotsDbLength, \" - latest record from: \", recordTimestamp, daysAgo,\"days ago\")\n",
    "    #print(\"iterations: \", pairSnapshotsTicker, \"records collected: \", pairSnapshotsListLength, \" - userdb length: \", pairSnapshotsDbLength)\n",
    "    if daysAgo>daysLimit: exit =True\n",
    "    if pairSnapshotsListLength<1000: exit =True\n",
    "    pairSnapshotsTicker = pairSnapshotsTicker+1\n",
    "\n",
    "print(\"Done. Total Records collected: \", pairSnapshotsDbLength)"
   ],
   "metadata": {
    "collapsed": false
   }
  },
  {
   "cell_type": "code",
   "execution_count": null,
   "outputs": [],
   "source": [
    "fraxPairSnapshotsDbTimed= db.query(\"select \"\n",
    "                   \"    * \"\n",
    "                        \" ,to_timestamp(pairPerDays_timestamp) dateTime \"\n",
    "                   \"From pairSnapshotsDb \"\n",
    "                   #\"where lower(liquidityPools_name) like lower('%olympus%') \"\n",
    "                    #    \"or lower(pairs_token1_symbol) like lower('%OHM%')  \"\n",
    "                   #\" limit 100 \"\n",
    "                   ).df()\n",
    "fraxPairSnapshotsDbTimed.head(1000)"
   ],
   "metadata": {
    "collapsed": false
   }
  },
  {
   "cell_type": "markdown",
   "source": [
    "*************************************************************************\n",
    "SILO - ah turns out we haven't launched yet as of 02/11"
   ],
   "metadata": {
    "collapsed": false
   }
  },
  {
   "cell_type": "code",
   "execution_count": null,
   "outputs": [],
   "source": [
    "siloInterestDailySnapshotTicker = 0\n",
    "siloInterestDailySnapshotslist = pd.DataFrame()\n",
    "siloInterestDailySnapshotsDb = pd.DataFrame()\n",
    "siloInterestDailySnapshotListLength = 1000\n",
    "datediff = 0\n",
    "now=0\n",
    "daysAgo=0\n",
    "daysLimit = 45\n",
    "exit = False\n",
    "while exit==False:\n",
    "    skipValue = (siloInterestDailySnapshotTicker)*(1000)\n",
    "    siloInterestDailySnapshots = silo.Query.interestRateDailies(\n",
    "        orderBy='timestamp',\n",
    "        orderDirection='desc',\n",
    "        first=1000,\n",
    "        skip= skipValue,\n",
    "        #where={ 'market': '0xc413dd03555f3eb29d834b482d386b2999dc2eb0' } #gOHM market\n",
    "        #where = {'day': 19400, 'timestamp':1676160000}\n",
    "        where = {'interestRate_in': ['LENDER-VARIABLE-0xf5ffabab8f9a6f4f6de1f0dd6e0820f68657d7db-0xd7c9f0e536dc865ae858b0c0453fe76d13c3beac','LENDER-VARIABLE-0xf5ffabab8f9a6f4f6de1f0dd6e0820f68657d7db-0xc02aaa39b223fe8d0a0e5c4f27ead9083c756cc2','LENDER-VARIABLE-0xf5ffabab8f9a6f4f6de1f0dd6e0820f68657d7db-0x64aa3364f17a4d01c6f1751fd97c2bd3d7e7f1d5','LENDER-VARIABLE-0xc413dd03555f3eb29d834b482d386b2999dc2eb0-0xd7c9f0e536dc865ae858b0c0453fe76d13c3beac','LENDER-VARIABLE-0xc413dd03555f3eb29d834b482d386b2999dc2eb0-0xc02aaa39b223fe8d0a0e5c4f27ead9083c756cc2','LENDER-VARIABLE-0xc413dd03555f3eb29d834b482d386b2999dc2eb0-0x0ab87046fbb341d058f17cbc4c1133f25a20a52f','BORROWER-VARIABLE-0xf5ffabab8f9a6f4f6de1f0dd6e0820f68657d7db-0xd7c9f0e536dc865ae858b0c0453fe76d13c3beac','BORROWER-VARIABLE-0xf5ffabab8f9a6f4f6de1f0dd6e0820f68657d7db-0xc02aaa39b223fe8d0a0e5c4f27ead9083c756cc2','BORROWER-VARIABLE-0xf5ffabab8f9a6f4f6de1f0dd6e0820f68657d7db-0x64aa3364f17a4d01c6f1751fd97c2bd3d7e7f1d5','BORROWER-VARIABLE-0xc413dd03555f3eb29d834b482d386b2999dc2eb0-0xd7c9f0e536dc865ae858b0c0453fe76d13c3beac','BORROWER-VARIABLE-0xc413dd03555f3eb29d834b482d386b2999dc2eb0-0xc02aaa39b223fe8d0a0e5c4f27ead9083c756cc2']}\n",
    "    )\n",
    "\n",
    "    siloInterestDailySnapshotslist = sg.query_df([\n",
    "        siloInterestDailySnapshots.interestRate.market.name\n",
    "        ,siloInterestDailySnapshots.id\n",
    "        ,siloInterestDailySnapshots.day\n",
    "        ,siloInterestDailySnapshots.timestamp\n",
    "        ,siloInterestDailySnapshots.rateLast #The most recent rate recorded or last for the day\n",
    "        ,siloInterestDailySnapshots.rateHigh #Highest the rate was for the day\n",
    "        ,siloInterestDailySnapshots.rateLow\n",
    "        ,siloInterestDailySnapshots.rateAvg  #Interest rate in percentage APY. E.g. 5.21% should be stored as 5.21\n",
    "        ,siloInterestDailySnapshots.interestRate.side\n",
    "        ,siloInterestDailySnapshots.interestRate.type\n",
    "    ])\n",
    "\n",
    "    #siloInterestDailySnapshotslist.sort_values(by=['siloInterestDailySnapshots_timestamp'])\n",
    "\n",
    "    siloInterestDailySnapshotsDb=pd.concat([siloInterestDailySnapshotsDb, siloInterestDailySnapshotslist])\n",
    "    recordTimestamp1 = siloInterestDailySnapshotsDb.iat[siloInterestDailySnapshotTicker,3]\n",
    "    recordTimestamp = dt.datetime.fromtimestamp( recordTimestamp1 )\n",
    "    now = (int(dt.datetime.utcnow().timestamp()))\n",
    "    datediff=abs(int(now) - recordTimestamp1)\n",
    "    daysAgo = int(datediff/86400)\n",
    "    siloInterestDailySnapshotsDbLength = len(siloInterestDailySnapshotsDb)\n",
    "    siloInterestDailySnapshotListLength = len(siloInterestDailySnapshotslist)\n",
    "    recordID = siloInterestDailySnapshotsDb.iat[siloInterestDailySnapshotTicker,0]\n",
    "    siloInterestDailySnapshot = siloInterestDailySnapshotsDb.iat[siloInterestDailySnapshotTicker,1]\n",
    "    print(\"iterations: \", siloInterestDailySnapshotTicker, \"Lines skipped: \",skipValue, \"records collected: \", siloInterestDailySnapshotListLength, \" - latest recordID: \",siloInterestDailySnapshot, \" \", recordID , \" - siloInterestDailySnapshots DB length: \", siloInterestDailySnapshotsDbLength, \" - latest record from: \", recordTimestamp, daysAgo,\"days ago\")\n",
    "    #print(\"iterations: \", siloInterestDailySnapshotTicker, \"records collected: \", siloInterestDailySnapshotListLength, \" - userdb length: \", siloInterestDailySnapshotsDbLength)\n",
    "    siloInterestDailySnapshotTicker = siloInterestDailySnapshotTicker+1\n",
    "\n",
    "    if daysAgo>daysLimit: exit =True\n",
    "    if siloInterestDailySnapshotListLength<1000: exit =True\n",
    "print(\"Done. Total Records collected: \", siloInterestDailySnapshotsDbLength)"
   ],
   "metadata": {
    "collapsed": false
   }
  },
  {
   "cell_type": "code",
   "execution_count": null,
   "outputs": [],
   "source": [
    "print(len(siloInterestDailySnapshotsDb))\n",
    "siloInterestDailySnapshotsDb.drop_duplicates\n",
    "print(len(siloInterestDailySnapshotsDb))"
   ],
   "metadata": {
    "collapsed": false
   }
  },
  {
   "cell_type": "code",
   "execution_count": null,
   "outputs": [],
   "source": [
    "siloInterestDailySnapshotsDbTimed= db.query(\"select \"\n",
    "                   \"    * \"\n",
    "                        \" ,to_timestamp(interestRateDailies_timestamp) dateTime \"\n",
    "                   \"From siloInterestDailySnapshotsDb \"\n",
    "                   #\"where lower(liquidityPools_name) like lower('%olympus%') \"\n",
    "                    #    \"or lower(pairs_token1_symbol) like lower('%OHM%')  \"\n",
    "                   #\" limit 100 \"\n",
    "                   ).df()\n",
    "siloInterestDailySnapshotsDbTimed.head(1000)"
   ],
   "metadata": {
    "collapsed": false
   }
  },
  {
   "cell_type": "code",
   "execution_count": null,
   "outputs": [],
   "source": [
    "siloInterestDailySnapshotsDbTimedLength = len(siloInterestDailySnapshotsDbTimed)\n",
    "path =file+'/siloInterestDailySnapshotsDbTimedLength_'+str(dt.datetime.today().strftime(\"%b-%d-%Y\"))+\"_\"+str(siloInterestDailySnapshotsDbTimedLength)+'_records.csv'\n",
    "siloInterestDailySnapshotsDbTimed.to_csv(path, index = False)\n",
    "\n",
    "path =file+'/siloInterestDailySnapshotsDbTimedLength_'+str(dt.datetime.today().strftime(\"%b-%d-%Y\"))+\"_\"+str(siloInterestDailySnapshotsDbTimedLength)+'_records_piped.csv'\n",
    "siloInterestDailySnapshotsDbTimed.to_csv(path, index = False, sep='|')\n",
    "print('file saved')"
   ],
   "metadata": {
    "collapsed": false
   }
  },
  {
   "cell_type": "code",
   "execution_count": null,
   "outputs": [],
   "source": [
    "siloDailySnapshot = silo.Query.marketDailySnapshots(\n",
    "    orderBy='timestamp',\n",
    "    orderDirection='desc',\n",
    "    first=10,\n",
    "    #skip = skipValue,\n",
    "    where={              'market':'0xc413dd03555f3eb29d834b482d386b2999dc2eb0'            } #gOHM market\n",
    "    #where={              'market':'0xfccc27aabd0ab7a0b2ad2b7760037b1eab61616b'            } #DAI for testing\n",
    "    #0x0ab87046fbb341d058f17cbc4c1133f25a20a52f\n",
    ")\n",
    "\n",
    "siloDailySnapshotslist = sg.query_df([\n",
    "    siloDailySnapshot.protocol.name\n",
    "    ,siloDailySnapshot.protocol.type\n",
    "    ,siloDailySnapshot.protocol.cumulativeUniqueUsers\n",
    "    ,siloDailySnapshot.protocol.cumulativeUniqueDepositors\n",
    "    ,siloDailySnapshot.protocol.cumulativeUniqueBorrowers\n",
    "    ,siloDailySnapshot.protocol.cumulativeUniqueLiquidators\n",
    "    ,siloDailySnapshot.protocol.cumulativeUniqueLiquidatees\n",
    "    ,siloDailySnapshot.protocol.totalValueLockedUSD\n",
    "    ,siloDailySnapshot.protocol.protocolControlledValueUSD\n",
    "    ,siloDailySnapshot.protocol.cumulativeSupplySideRevenueUSD\n",
    "    ,siloDailySnapshot.protocol.cumulativeProtocolSideRevenueUSD\n",
    "    ,siloDailySnapshot.protocol.cumulativeTotalRevenueUSD\n",
    "    ,siloDailySnapshot.protocol.totalDepositBalanceUSD\n",
    "    ,siloDailySnapshot.protocol.cumulativeDepositUSD\n",
    "    ,siloDailySnapshot.protocol.cumulativeWithdrawUSD\n",
    "    ,siloDailySnapshot.protocol.totalBorrowBalanceUSD\n",
    "    ,siloDailySnapshot.protocol.totalBorrowBalanceUSD\n",
    "    ,siloDailySnapshot.protocol.cumulativeLiquidateUSD\n",
    "    ,siloDailySnapshot.protocol.creditSupply\n",
    "    ,siloDailySnapshot.protocol.creditUtilized\n",
    "    ,siloDailySnapshot.market.id\n",
    "    ,siloDailySnapshot.market.name\n",
    "    ,siloDailySnapshot.market.totalValueLockedUSD\n",
    "    #,siloDailySnapshot.market.totalControlledValueUSD\n",
    "    ,siloDailySnapshot.market.cumulativeSupplySideRevenueUSD\n",
    "    ,siloDailySnapshot.market.cumulativeTotalRevenueUSD\n",
    "    ,siloDailySnapshot.market.cumulativeSupplySideRevenueUSD\n",
    "    ,siloDailySnapshot.market.cumulativeProtocolSideRevenueUSD\n",
    "    ,siloDailySnapshot.market.totalDepositBalanceUSD\n",
    "    ,siloDailySnapshot.market.cumulativeDepositUSD\n",
    "    ,siloDailySnapshot.market.totalBorrowBalanceUSD\n",
    "    ,siloDailySnapshot.market.cumulativeBorrowUSD\n",
    "    ,siloDailySnapshot.market.cumulativeLiquidateUSD\n",
    "    ,siloDailySnapshot.market.creditSupply\n",
    "    ,siloDailySnapshot.market.creditUtilized\n",
    "    ,siloDailySnapshot.timestamp\n",
    "])\n",
    "\n",
    "siloDailySnapshotslistTimed= db.query(\"select \"\n",
    "                   \"    * \"\n",
    "                        \" ,to_timestamp(marketDailySnapshots_timestamp) dateTime \"\n",
    "                   \"From siloDailySnapshotslist \"\n",
    "                   #\"where lower(liquidityPools_name) like lower('%olympus%') \"\n",
    "                    #    \"or lower(pairs_token1_symbol) like lower('%OHM%')  \"\n",
    "                   #\" limit 100 \"\n",
    "                   ).df()\n",
    "siloDailySnapshotslistTimed.drop_duplicates\n",
    "siloDailySnapshotslistTimed.head(1000)"
   ],
   "metadata": {
    "collapsed": false
   }
  },
  {
   "cell_type": "code",
   "execution_count": null,
   "outputs": [],
   "source": [
    "siloDailySnapshot = silo.Query.marketDailySnapshots(\n",
    "    orderBy='timestamp',\n",
    "    orderDirection='desc',\n",
    "    #first=1000,\n",
    "    #skip = skipValue,\n",
    "    where={ 'id': '0xc413dd03555f3eb29d834b482d386b2999dc2eb0-19398'\n",
    "            ,'protocol':'0xd998c35b7900b344bbbe6555cc11576942cf309d'\n",
    "            #,'market':'gOHM'\n",
    "            } #gOHM market\n",
    "    #0x0ab87046fbb341d058f17cbc4c1133f25a20a52f\n",
    ")\n",
    "\n",
    "siloDailySnapshotslist = sg.query_df([\n",
    "    siloDailySnapshot.id\n",
    "    ,siloDailySnapshot.protocol\n",
    "    ,siloDailySnapshot.market\n",
    "    ,siloDailySnapshot.timestamp\n",
    "])\n",
    "siloDailySnapshotslist.head(10)"
   ],
   "metadata": {
    "collapsed": false
   }
  },
  {
   "cell_type": "markdown",
   "source": [
    "*****************************************************\n",
    "THIS... IS.... VESTAAAAAAAAAAA!!\n",
    "(kick)"
   ],
   "metadata": {
    "collapsed": false
   }
  },
  {
   "cell_type": "code",
   "execution_count": null,
   "outputs": [],
   "source": [
    "##this captures the ENTIRE list of people who vestaDailySnapshoted XAI against gOHM\n",
    "vestaDailySnapshotTicker = 0\n",
    "vestaDailySnapshotslist = pd.DataFrame()\n",
    "vestaDailySnapshotsDb = pd.DataFrame()\n",
    "vestaDailySnapshotListLength = 1000\n",
    "datediff = 0\n",
    "now=0\n",
    "daysAgo=0\n",
    "daysLimit = 45\n",
    "exit = False\n",
    "while exit==False:\n",
    "    skipValue = (vestaDailySnapshotTicker)*(1000)\n",
    "    vestaDailySnapshots = vesta.Query.MarketDailySnapshot(\n",
    "        orderBy='timestamp',\n",
    "        orderDirection='desc',\n",
    "        first=1000,\n",
    "        skip = skipValue,\n",
    "        where={ 'market': '0x8d9ba570d6cb60c7e3e0f31343efe75ab8e65fb1' } #gOHM market\n",
    "\n",
    "    )\n",
    "\n",
    "    vestaDailySnapshotslist = sg.query_df([\n",
    "        vestaDailySnapshots.id\n",
    "        ,vestaDailySnapshots.market\n",
    "        ,vestaDailySnapshots.rates\n",
    "    ])\n",
    "\n",
    "    #vestaDailySnapshotslist.sort_values(by=['vestaDailySnapshots_timestamp'])\n",
    "\n",
    "    vestaDailySnapshotsDb=pd.concat([vestaDailySnapshotsDb, vestaDailySnapshotslist])\n",
    "    recordTimestamp1 = vestaDailySnapshotsDb.iat[vestaDailySnapshotTicker,2]\n",
    "    recordTimestamp = dt.datetime.fromtimestamp( recordTimestamp1 )\n",
    "    now = (int(dt.datetime.utcnow().timestamp()))\n",
    "    datediff=abs(int(now) - recordTimestamp1)\n",
    "    daysAgo = int(datediff/86400)\n",
    "    vestaDailySnapshotsDbLength = len(vestaDailySnapshotsDb)\n",
    "    vestaDailySnapshotListLength = len(vestaDailySnapshotslist)\n",
    "    recordID = vestaDailySnapshotsDb.iat[vestaDailySnapshotTicker,0]\n",
    "    vestaDailySnapshot = vestaDailySnapshotsDb.iat[vestaDailySnapshotTicker,1]\n",
    "    print(\"iterations: \", vestaDailySnapshotTicker, \"Lines skipped: \",skipValue, \"records collected: \", vestaDailySnapshotListLength, \" - latest recordID: \",vestaDailySnapshot, \" \", recordID , \" - vestaDailySnapshots DB length: \", vestaDailySnapshotsDbLength, \" - latest record from: \", recordTimestamp, daysAgo,\"days ago\")\n",
    "    #print(\"iterations: \", vestaDailySnapshotTicker, \"records collected: \", vestaDailySnapshotListLength, \" - userdb length: \", vestaDailySnapshotsDbLength)\n",
    "    vestaDailySnapshotTicker = vestaDailySnapshotTicker+1\n",
    "\n",
    "    if daysAgo>daysLimit: exit =True\n",
    "    if vestaDailySnapshotListLength<1000: exit =True\n",
    "\n",
    "\n",
    "vestaDailySnapshotsDb.columns = vestaDailySnapshotsDb.columns.str.replace(\"vestaDailySnapshots\", \"transaction\")\n",
    "vestaDailySnapshotsDb['event']='vestaDailySnapshot'\n",
    "print(\"Done. Total Records collected: \", vestaDailySnapshotsDbLength)"
   ],
   "metadata": {
    "collapsed": false
   }
  },
  {
   "cell_type": "code",
   "execution_count": null,
   "outputs": [],
   "source": [
    "vestaDailySnapshots = vesta.Query.marketDailySnapshots(\n",
    "    orderBy='timestamp',\n",
    "    orderDirection='desc',\n",
    "    first=1000,\n",
    "    #where={ 'market': '0x8d9ba570d6cb60c7e3e0f31343efe75ab8e65fb1' } #gOHM market\n",
    "    #WHERE = {'interestRateDailies.interestRate.market.name': 'XAI'}\n",
    "    #where = {'marketDailySnapshots.market.name': 'Olympus Governance Token'}\n",
    ")\n",
    "\n",
    "vestaDailySnapshotslist = sg.query_df([\n",
    "    vestaDailySnapshots.id\n",
    "    ,vestaDailySnapshots.timestamp\n",
    "    ,vestaDailySnapshots.market\n",
    "    ,vestaDailySnapshots.rates\n",
    "    ,vestaDailySnapshots.totalValueLockedUSD\n",
    "    ,vestaDailySnapshots.dailyBorrowUSD\n",
    "    ,vestaDailySnapshots.dailyDepositUSD\n",
    "    ,vestaDailySnapshots.dailyBorrowUSD\n",
    "    ,vestaDailySnapshots.dailyProtocolSideRevenueUSD\n",
    "    ,vestaDailySnapshots.cumulativeProtocolSideRevenueUSD\n",
    "\n",
    "\n",
    "\n",
    "\n",
    "],\n",
    "#pagination_strategy=ShallowStrategy\n",
    ")\n",
    "vestaDailySnapshotslist.head(1000)"
   ],
   "metadata": {
    "collapsed": false
   }
  },
  {
   "cell_type": "code",
   "execution_count": null,
   "outputs": [],
   "source": [],
   "metadata": {
    "collapsed": false
   }
  },
  {
   "cell_type": "code",
   "execution_count": null,
   "outputs": [],
   "source": [
    "##Loan LEngth\n",
    "fraxLoanLengthDB = db.query(\"select distinct \"\n",
    "                        \"    A.actions_root_id \"\n",
    "                            \",sum(A.actions_amountUSD) totalBorrowed \"\n",
    "                            \",sum(B.actions_amountUSD) totalRepaid \"\n",
    "                            \" ,sum(A.actions_amountUSD) - sum(B.actions_amountUSD) balance \"\n",
    "                        #\" ,date_diff('day',date_trunc('day',A.dateTime), date_trunc('day',B.dateTime)) datediff \"\n",
    "                   \"From fraxBorrowsDb A \"\n",
    "                            \"Join fraxRepaysDb B on A.actions_root_id = B.actions_root_id\"\n",
    "                   #\"where lower(liquidityPools_name) like lower('%olympus%') \"\n",
    "                    #    \"or lower(pairs_token1_symbol) like lower('%OHM%')  \"\n",
    "                   \" group by 1 \"\n",
    "                   \" limit 100 \"\n",
    "                   ).df()\n",
    "\n",
    "\n",
    "fraxLoanLengthDB.head(10)\n"
   ],
   "metadata": {
    "collapsed": false
   }
  },
  {
   "cell_type": "code",
   "execution_count": null,
   "outputs": [],
   "source": [
    "vestaDailySnapshot = vesta.Query.marketDailySnapshots(\n",
    "    orderBy='timestamp',\n",
    "    orderDirection='desc',\n",
    "    first=10,\n",
    "    #skip = skipValue,\n",
    "    where={              'market':'0xc413dd03555f3eb29d834b482d386b2999dc2eb0'            } #gOHM market\n",
    "    #where={              'market':'0xfccc27aabd0ab7a0b2ad2b7760037b1eab61616b'            } #DAI for testing\n",
    "    #0x0ab87046fbb341d058f17cbc4c1133f25a20a52f\n",
    ")\n",
    "\n",
    "vestaDailySnapshotslist = sg.query_df([\n",
    "    vestaDailySnapshot.protocol.name\n",
    "    ,vestaDailySnapshot.protocol.type\n",
    "    ,vestaDailySnapshot.protocol.cumulativeUniqueUsers\n",
    "    ,vestaDailySnapshot.protocol.cumulativeUniqueDepositors\n",
    "    ,vestaDailySnapshot.protocol.cumulativeUniqueBorrowers\n",
    "    ,vestaDailySnapshot.protocol.cumulativeUniqueLiquidators\n",
    "    ,vestaDailySnapshot.protocol.cumulativeUniqueLiquidatees\n",
    "    ,vestaDailySnapshot.protocol.totalValueLockedUSD\n",
    "    ,vestaDailySnapshot.protocol.protocolControlledValueUSD\n",
    "    ,vestaDailySnapshot.protocol.cumulativeSupplySideRevenueUSD\n",
    "    ,vestaDailySnapshot.protocol.cumulativeProtocolSideRevenueUSD\n",
    "    ,vestaDailySnapshot.protocol.cumulativeTotalRevenueUSD\n",
    "    ,vestaDailySnapshot.protocol.totalDepositBalanceUSD\n",
    "    ,vestaDailySnapshot.protocol.cumulativeDepositUSD\n",
    "    ,vestaDailySnapshot.protocol.cumulativeWithdrawUSD\n",
    "    ,vestaDailySnapshot.protocol.totalBorrowBalanceUSD\n",
    "    ,vestaDailySnapshot.protocol.totalBorrowBalanceUSD\n",
    "    ,vestaDailySnapshot.protocol.cumulativeLiquidateUSD\n",
    "    ,vestaDailySnapshot.protocol.creditSupply\n",
    "    ,vestaDailySnapshot.protocol.creditUtilized\n",
    "    ,vestaDailySnapshot.market.id\n",
    "    ,vestaDailySnapshot.market.name\n",
    "    ,vestaDailySnapshot.market.totalValueLockedUSD\n",
    "    #,vestaDailySnapshot.market.totalControlledValueUSD\n",
    "    ,vestaDailySnapshot.market.cumulativeSupplySideRevenueUSD\n",
    "    ,vestaDailySnapshot.market.cumulativeTotalRevenueUSD\n",
    "    ,vestaDailySnapshot.market.cumulativeSupplySideRevenueUSD\n",
    "    ,vestaDailySnapshot.market.cumulativeProtocolSideRevenueUSD\n",
    "    ,vestaDailySnapshot.market.totalDepositBalanceUSD\n",
    "    ,vestaDailySnapshot.market.cumulativeDepositUSD\n",
    "    ,vestaDailySnapshot.market.totalBorrowBalanceUSD\n",
    "    ,vestaDailySnapshot.market.cumulativeBorrowUSD\n",
    "    ,vestaDailySnapshot.market.cumulativeLiquidateUSD\n",
    "    ,vestaDailySnapshot.market.creditSupply\n",
    "    ,vestaDailySnapshot.market.creditUtilized\n",
    "    ,vestaDailySnapshot.timestamp\n",
    "])\n",
    "\n",
    "vestaDailySnapshotslistTimed= db.query(\"select \"\n",
    "                   \"    * \"\n",
    "                        \" ,to_timestamp(marketDailySnapshots_timestamp) dateTime \"\n",
    "                   \"From vestaDailySnapshotslist \"\n",
    "                   #\"where lower(liquidityPools_name) like lower('%olympus%') \"\n",
    "                    #    \"or lower(pairs_token1_symbol) like lower('%OHM%')  \"\n",
    "                   #\" limit 100 \"\n",
    "                   ).df()\n",
    "vestaDailySnapshotslistTimed.drop_duplicates\n",
    "vestaDailySnapshotslistTimed.head(1000)"
   ],
   "metadata": {
    "collapsed": false
   }
  },
  {
   "cell_type": "code",
   "execution_count": null,
   "outputs": [],
   "source": [
    "#list of borrowers\n",
    "\n",
    "borrowerList=db.query(\n",
    "    \"select distinct actions_root_id as wallet_address,'frax' as protocol from fraxBorrowsDb \"\n",
    "    \"UNION ALL \"\n",
    "    \"select distinct borrows_account_id as wallet_address , 'vesta' as protocol  from vestaBorrowsDbTimed \"\n",
    "    \"UNION ALL \"\n",
    "    \"select distinct transaction_account_id as wallet_address, 'silo' as protocol from borrowsDbTimed \"\n",
    ").df()\n",
    "\n",
    "borrowerList.head(1000)\n"
   ],
   "metadata": {
    "collapsed": false
   }
  },
  {
   "cell_type": "code",
   "execution_count": null,
   "outputs": [],
   "source": [
    "borrowerListLength = len(borrowerList)\n",
    "path =file+'/borrower_list_'+str(dt.datetime.today().strftime(\"%b-%d-%Y\"))+\"_\"+str(borrowerListLength)+'_records.csv'\n",
    "borrowerList.to_csv(path, index = False)"
   ],
   "metadata": {
    "collapsed": false
   }
  }
 ],
 "metadata": {
  "kernelspec": {
   "display_name": "Python 3",
   "language": "python",
   "name": "python3"
  },
  "language_info": {
   "codemirror_mode": {
    "name": "ipython",
    "version": 2
   },
   "file_extension": ".py",
   "mimetype": "text/x-python",
   "name": "python",
   "nbconvert_exporter": "python",
   "pygments_lexer": "ipython2",
   "version": "2.7.6"
  }
 },
 "nbformat": 4,
 "nbformat_minor": 0
}
