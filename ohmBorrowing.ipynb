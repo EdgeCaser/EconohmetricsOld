{
 "cells": [
  {
   "cell_type": "code",
   "execution_count": 1,
   "metadata": {
    "collapsed": true
   },
   "outputs": [],
   "source": [
    "from datetime import datetime\n",
    "import datetime as dt\n",
    "import time\n",
    "from subgrounds.subgraph import SyntheticField, FieldPath\n",
    "from subgrounds.subgrounds import Subgrounds\n",
    "import pandas as pd\n",
    "import duckdb as db\n",
    "import seaborn as sns\n",
    "import matplotlib.pyplot as plt\n",
    "import IPython as ip\n",
    "import  os as os\n"
   ]
  },
  {
   "cell_type": "markdown",
   "source": [
    "****************************************************************************************************************\n",
    "****************************************************************************************************************\n",
    "AS ALWAYS START WITH SILO\n",
    "https://app.silo.finance/silo/0xf5ffabab8f9a6f4f6de1f0dd6e0820f68657d7db?screen=deposit"
   ],
   "metadata": {
    "collapsed": false
   }
  },
  {
   "cell_type": "code",
   "execution_count": 2,
   "outputs": [],
   "source": [
    "daysLimit = int(input('How many days back of history to pulll?'))"
   ],
   "metadata": {
    "collapsed": false
   }
  },
  {
   "cell_type": "code",
   "execution_count": 3,
   "outputs": [],
   "source": [
    "sg = Subgrounds()\n",
    "apiKey = input('API Key, please')"
   ],
   "metadata": {
    "collapsed": false
   }
  },
  {
   "cell_type": "code",
   "execution_count": 6,
   "outputs": [],
   "source": [
    "#for when we save the files\n",
    "file = input('Selet a folder to save output') ##enter your file path here - the file is in the repo \"summary_stats.csv\".\n",
    "file = file+'/data'\n",
    "if not os.path.exists(file):\n",
    "    os.makedirs(file)"
   ],
   "metadata": {
    "collapsed": false
   }
  },
  {
   "cell_type": "code",
   "execution_count": 4,
   "outputs": [],
   "source": [],
   "metadata": {
    "collapsed": false
   }
  },
  {
   "cell_type": "code",
   "execution_count": 4,
   "outputs": [
    {
     "ename": "JSONDecodeError",
     "evalue": "[Errno Expecting value] : 0",
     "output_type": "error",
     "traceback": [
      "\u001B[1;31m---------------------------------------------------------------------------\u001B[0m",
      "\u001B[1;31mJSONDecodeError\u001B[0m                           Traceback (most recent call last)",
      "File \u001B[1;32m~\\PycharmProjects\\pythonProject\\venv\\lib\\site-packages\\requests\\models.py:910\u001B[0m, in \u001B[0;36mResponse.json\u001B[1;34m(self, **kwargs)\u001B[0m\n\u001B[0;32m    909\u001B[0m \u001B[38;5;28;01mtry\u001B[39;00m:\n\u001B[1;32m--> 910\u001B[0m     \u001B[38;5;28;01mreturn\u001B[39;00m complexjson\u001B[38;5;241m.\u001B[39mloads(\u001B[38;5;28mself\u001B[39m\u001B[38;5;241m.\u001B[39mtext, \u001B[38;5;241m*\u001B[39m\u001B[38;5;241m*\u001B[39mkwargs)\n\u001B[0;32m    911\u001B[0m \u001B[38;5;28;01mexcept\u001B[39;00m JSONDecodeError \u001B[38;5;28;01mas\u001B[39;00m e:\n\u001B[0;32m    912\u001B[0m     \u001B[38;5;66;03m# Catch JSON-related errors and raise as requests.JSONDecodeError\u001B[39;00m\n\u001B[0;32m    913\u001B[0m     \u001B[38;5;66;03m# This aliases json.JSONDecodeError and simplejson.JSONDecodeError\u001B[39;00m\n",
      "File \u001B[1;32m~\\AppData\\Local\\Programs\\Python\\Python310\\lib\\json\\__init__.py:346\u001B[0m, in \u001B[0;36mloads\u001B[1;34m(s, cls, object_hook, parse_float, parse_int, parse_constant, object_pairs_hook, **kw)\u001B[0m\n\u001B[0;32m    343\u001B[0m \u001B[38;5;28;01mif\u001B[39;00m (\u001B[38;5;28mcls\u001B[39m \u001B[38;5;129;01mis\u001B[39;00m \u001B[38;5;28;01mNone\u001B[39;00m \u001B[38;5;129;01mand\u001B[39;00m object_hook \u001B[38;5;129;01mis\u001B[39;00m \u001B[38;5;28;01mNone\u001B[39;00m \u001B[38;5;129;01mand\u001B[39;00m\n\u001B[0;32m    344\u001B[0m         parse_int \u001B[38;5;129;01mis\u001B[39;00m \u001B[38;5;28;01mNone\u001B[39;00m \u001B[38;5;129;01mand\u001B[39;00m parse_float \u001B[38;5;129;01mis\u001B[39;00m \u001B[38;5;28;01mNone\u001B[39;00m \u001B[38;5;129;01mand\u001B[39;00m\n\u001B[0;32m    345\u001B[0m         parse_constant \u001B[38;5;129;01mis\u001B[39;00m \u001B[38;5;28;01mNone\u001B[39;00m \u001B[38;5;129;01mand\u001B[39;00m object_pairs_hook \u001B[38;5;129;01mis\u001B[39;00m \u001B[38;5;28;01mNone\u001B[39;00m \u001B[38;5;129;01mand\u001B[39;00m \u001B[38;5;129;01mnot\u001B[39;00m kw):\n\u001B[1;32m--> 346\u001B[0m     \u001B[38;5;28;01mreturn\u001B[39;00m \u001B[43m_default_decoder\u001B[49m\u001B[38;5;241;43m.\u001B[39;49m\u001B[43mdecode\u001B[49m\u001B[43m(\u001B[49m\u001B[43ms\u001B[49m\u001B[43m)\u001B[49m\n\u001B[0;32m    347\u001B[0m \u001B[38;5;28;01mif\u001B[39;00m \u001B[38;5;28mcls\u001B[39m \u001B[38;5;129;01mis\u001B[39;00m \u001B[38;5;28;01mNone\u001B[39;00m:\n",
      "File \u001B[1;32m~\\AppData\\Local\\Programs\\Python\\Python310\\lib\\json\\decoder.py:337\u001B[0m, in \u001B[0;36mJSONDecoder.decode\u001B[1;34m(self, s, _w)\u001B[0m\n\u001B[0;32m    333\u001B[0m \u001B[38;5;124;03m\"\"\"Return the Python representation of ``s`` (a ``str`` instance\u001B[39;00m\n\u001B[0;32m    334\u001B[0m \u001B[38;5;124;03mcontaining a JSON document).\u001B[39;00m\n\u001B[0;32m    335\u001B[0m \n\u001B[0;32m    336\u001B[0m \u001B[38;5;124;03m\"\"\"\u001B[39;00m\n\u001B[1;32m--> 337\u001B[0m obj, end \u001B[38;5;241m=\u001B[39m \u001B[38;5;28;43mself\u001B[39;49m\u001B[38;5;241;43m.\u001B[39;49m\u001B[43mraw_decode\u001B[49m\u001B[43m(\u001B[49m\u001B[43ms\u001B[49m\u001B[43m,\u001B[49m\u001B[43m \u001B[49m\u001B[43midx\u001B[49m\u001B[38;5;241;43m=\u001B[39;49m\u001B[43m_w\u001B[49m\u001B[43m(\u001B[49m\u001B[43ms\u001B[49m\u001B[43m,\u001B[49m\u001B[43m \u001B[49m\u001B[38;5;241;43m0\u001B[39;49m\u001B[43m)\u001B[49m\u001B[38;5;241;43m.\u001B[39;49m\u001B[43mend\u001B[49m\u001B[43m(\u001B[49m\u001B[43m)\u001B[49m\u001B[43m)\u001B[49m\n\u001B[0;32m    338\u001B[0m end \u001B[38;5;241m=\u001B[39m _w(s, end)\u001B[38;5;241m.\u001B[39mend()\n",
      "File \u001B[1;32m~\\AppData\\Local\\Programs\\Python\\Python310\\lib\\json\\decoder.py:355\u001B[0m, in \u001B[0;36mJSONDecoder.raw_decode\u001B[1;34m(self, s, idx)\u001B[0m\n\u001B[0;32m    354\u001B[0m \u001B[38;5;28;01mexcept\u001B[39;00m \u001B[38;5;167;01mStopIteration\u001B[39;00m \u001B[38;5;28;01mas\u001B[39;00m err:\n\u001B[1;32m--> 355\u001B[0m     \u001B[38;5;28;01mraise\u001B[39;00m JSONDecodeError(\u001B[38;5;124m\"\u001B[39m\u001B[38;5;124mExpecting value\u001B[39m\u001B[38;5;124m\"\u001B[39m, s, err\u001B[38;5;241m.\u001B[39mvalue) \u001B[38;5;28;01mfrom\u001B[39;00m \u001B[38;5;28mNone\u001B[39m\n\u001B[0;32m    356\u001B[0m \u001B[38;5;28;01mreturn\u001B[39;00m obj, end\n",
      "\u001B[1;31mJSONDecodeError\u001B[0m: Expecting value: line 1 column 1 (char 0)",
      "\nDuring handling of the above exception, another exception occurred:\n",
      "\u001B[1;31mJSONDecodeError\u001B[0m                           Traceback (most recent call last)",
      "Input \u001B[1;32mIn [4]\u001B[0m, in \u001B[0;36m<cell line: 2>\u001B[1;34m()\u001B[0m\n\u001B[0;32m      1\u001B[0m \u001B[38;5;66;03m#SILO subgraph: https://gateway.thegraph.com/api/[api-key]/subgraphs/id/6rcT2GzBXGoi3ZMus92LHajM2b9qWGj7Z3dDhPxoUogB\u001B[39;00m\n\u001B[1;32m----> 2\u001B[0m silo \u001B[38;5;241m=\u001B[39m \u001B[43msg\u001B[49m\u001B[38;5;241;43m.\u001B[39;49m\u001B[43mload_api\u001B[49m\u001B[43m(\u001B[49m\u001B[38;5;124;43m'\u001B[39;49m\u001B[38;5;124;43mhttps://gateway.thegraph.com/api/\u001B[39;49m\u001B[38;5;124;43m'\u001B[39;49m\u001B[38;5;241;43m+\u001B[39;49m\u001B[43mapiKey\u001B[49m\u001B[38;5;241;43m+\u001B[39;49m\u001B[38;5;124;43m'\u001B[39;49m\u001B[38;5;124;43m/subgraphs/id/6rcT2GzBXGoi3ZMus92LHajM2b9qWGj7Z3dDhPxoUogB\u001B[39;49m\u001B[38;5;124;43m'\u001B[39;49m\u001B[43m)\u001B[49m\n",
      "File \u001B[1;32m~\\PycharmProjects\\pythonProject\\venv\\lib\\site-packages\\subgrounds\\subgrounds.py:85\u001B[0m, in \u001B[0;36mSubgrounds.load_api\u001B[1;34m(self, url, save_schema, cache_dir)\u001B[0m\n\u001B[0;32m     83\u001B[0m     schema \u001B[38;5;241m=\u001B[39m json\u001B[38;5;241m.\u001B[39mload(f)\n\u001B[0;32m     84\u001B[0m \u001B[38;5;28;01melse\u001B[39;00m:\n\u001B[1;32m---> 85\u001B[0m   schema \u001B[38;5;241m=\u001B[39m \u001B[43mclient\u001B[49m\u001B[38;5;241;43m.\u001B[39;49m\u001B[43mget_schema\u001B[49m\u001B[43m(\u001B[49m\u001B[43murl\u001B[49m\u001B[43m)\u001B[49m\n\u001B[0;32m     86\u001B[0m   \u001B[38;5;28;01mif\u001B[39;00m save_schema:\n\u001B[0;32m     87\u001B[0m     \u001B[38;5;28;01mif\u001B[39;00m cache_dir \u001B[38;5;241m!=\u001B[39m \u001B[38;5;124m'\u001B[39m\u001B[38;5;124m.\u001B[39m\u001B[38;5;124m'\u001B[39m \u001B[38;5;129;01mand\u001B[39;00m \u001B[38;5;129;01mnot\u001B[39;00m os\u001B[38;5;241m.\u001B[39mpath\u001B[38;5;241m.\u001B[39mexists(cache_dir):\n",
      "File \u001B[1;32m~\\PycharmProjects\\pythonProject\\venv\\lib\\site-packages\\subgrounds\\client.py:121\u001B[0m, in \u001B[0;36mget_schema\u001B[1;34m(url)\u001B[0m\n\u001B[0;32m    103\u001B[0m \u001B[38;5;28;01mdef\u001B[39;00m \u001B[38;5;21mget_schema\u001B[39m(url: \u001B[38;5;28mstr\u001B[39m) \u001B[38;5;241m-\u001B[39m\u001B[38;5;241m>\u001B[39m \u001B[38;5;28mdict\u001B[39m[\u001B[38;5;28mstr\u001B[39m, Any]:\n\u001B[0;32m    104\u001B[0m   \u001B[38;5;124;03m\"\"\" Runs the introspection query on the GraphQL API served localed at\u001B[39;00m\n\u001B[0;32m    105\u001B[0m \u001B[38;5;124;03m  :attr:`url` and returns the result. In case of errors, an exception containing\u001B[39;00m\n\u001B[0;32m    106\u001B[0m \u001B[38;5;124;03m  the error message is thrown.\u001B[39;00m\n\u001B[1;32m   (...)\u001B[0m\n\u001B[0;32m    115\u001B[0m \u001B[38;5;124;03m    dict[str, Any]: The GraphQL API's schema in JSON\u001B[39;00m\n\u001B[0;32m    116\u001B[0m \u001B[38;5;124;03m  \"\"\"\u001B[39;00m\n\u001B[0;32m    117\u001B[0m   resp \u001B[38;5;241m=\u001B[39m \u001B[43mrequests\u001B[49m\u001B[38;5;241;43m.\u001B[39;49m\u001B[43mpost\u001B[49m\u001B[43m(\u001B[49m\n\u001B[0;32m    118\u001B[0m \u001B[43m    \u001B[49m\u001B[43murl\u001B[49m\u001B[43m,\u001B[49m\n\u001B[0;32m    119\u001B[0m \u001B[43m    \u001B[49m\u001B[43mjson\u001B[49m\u001B[38;5;241;43m=\u001B[39;49m\u001B[43m{\u001B[49m\u001B[38;5;124;43m\"\u001B[39;49m\u001B[38;5;124;43mquery\u001B[39;49m\u001B[38;5;124;43m\"\u001B[39;49m\u001B[43m:\u001B[49m\u001B[43m \u001B[49m\u001B[43mINTROSPECTION_QUERY\u001B[49m\u001B[43m}\u001B[49m\u001B[43m,\u001B[49m\n\u001B[0;32m    120\u001B[0m \u001B[43m    \u001B[49m\u001B[43mheaders\u001B[49m\u001B[38;5;241;43m=\u001B[39;49m\u001B[43m{\u001B[49m\u001B[38;5;124;43m\"\u001B[39;49m\u001B[38;5;124;43mContent-Type\u001B[39;49m\u001B[38;5;124;43m\"\u001B[39;49m\u001B[43m:\u001B[49m\u001B[43m \u001B[49m\u001B[38;5;124;43m\"\u001B[39;49m\u001B[38;5;124;43mapplication/json\u001B[39;49m\u001B[38;5;124;43m\"\u001B[39;49m\u001B[43m}\u001B[49m\n\u001B[1;32m--> 121\u001B[0m \u001B[43m  \u001B[49m\u001B[43m)\u001B[49m\u001B[38;5;241;43m.\u001B[39;49m\u001B[43mjson\u001B[49m\u001B[43m(\u001B[49m\u001B[43m)\u001B[49m\n\u001B[0;32m    123\u001B[0m   \u001B[38;5;28;01mtry\u001B[39;00m:\n\u001B[0;32m    124\u001B[0m     \u001B[38;5;28;01mreturn\u001B[39;00m resp[\u001B[38;5;124m\"\u001B[39m\u001B[38;5;124mdata\u001B[39m\u001B[38;5;124m\"\u001B[39m]\n",
      "File \u001B[1;32m~\\PycharmProjects\\pythonProject\\venv\\lib\\site-packages\\requests\\models.py:917\u001B[0m, in \u001B[0;36mResponse.json\u001B[1;34m(self, **kwargs)\u001B[0m\n\u001B[0;32m    915\u001B[0m     \u001B[38;5;28;01mraise\u001B[39;00m RequestsJSONDecodeError(e\u001B[38;5;241m.\u001B[39mmessage)\n\u001B[0;32m    916\u001B[0m \u001B[38;5;28;01melse\u001B[39;00m:\n\u001B[1;32m--> 917\u001B[0m     \u001B[38;5;28;01mraise\u001B[39;00m RequestsJSONDecodeError(e\u001B[38;5;241m.\u001B[39mmsg, e\u001B[38;5;241m.\u001B[39mdoc, e\u001B[38;5;241m.\u001B[39mpos)\n",
      "\u001B[1;31mJSONDecodeError\u001B[0m: [Errno Expecting value] : 0"
     ]
    }
   ],
   "source": [
    "#SILO subgraph: https://gateway.thegraph.com/api/[api-key]/subgraphs/id/6rcT2GzBXGoi3ZMus92LHajM2b9qWGj7Z3dDhPxoUogB\n",
    "silo = sg.load_api('https://gateway.thegraph.com/api/'+apiKey+'/subgraphs/id/6rcT2GzBXGoi3ZMus92LHajM2b9qWGj7Z3dDhPxoUogB')"
   ],
   "metadata": {
    "collapsed": false
   }
  },
  {
   "cell_type": "code",
   "execution_count": 5,
   "outputs": [
    {
     "ename": "NameError",
     "evalue": "name 'file' is not defined",
     "output_type": "error",
     "traceback": [
      "\u001B[1;31m---------------------------------------------------------------------------\u001B[0m",
      "\u001B[1;31mNameError\u001B[0m                                 Traceback (most recent call last)",
      "Input \u001B[1;32mIn [5]\u001B[0m, in \u001B[0;36m<cell line: 2>\u001B[1;34m()\u001B[0m\n\u001B[0;32m      1\u001B[0m oldBorrowsDb \u001B[38;5;241m=\u001B[39m pd\u001B[38;5;241m.\u001B[39mDataFrame()\n\u001B[1;32m----> 2\u001B[0m siloFileName \u001B[38;5;241m=\u001B[39m \u001B[43mfile\u001B[49m\u001B[38;5;241m+\u001B[39m\u001B[38;5;124m'\u001B[39m\u001B[38;5;124m/siloFinanceOhmBorrows.csv\u001B[39m\u001B[38;5;124m'\u001B[39m\n\u001B[0;32m      3\u001B[0m \u001B[38;5;28;01mtry\u001B[39;00m:\n\u001B[0;32m      4\u001B[0m     oldBorrowsDb \u001B[38;5;241m=\u001B[39m pd\u001B[38;5;241m.\u001B[39mread_csv (siloFileName)\n",
      "\u001B[1;31mNameError\u001B[0m: name 'file' is not defined"
     ]
    }
   ],
   "source": [
    "oldBorrowsDb = pd.DataFrame()\n",
    "siloFileName = file+'/siloFinanceOhmBorrows.csv'\n",
    "try:\n",
    "    oldBorrowsDb = pd.read_csv (siloFileName)\n",
    "except:\n",
    "    oldBorrowsDb = pd.DataFrame()\n",
    "oldBorrowsDb.head(100)"
   ],
   "metadata": {
    "collapsed": false
   }
  },
  {
   "cell_type": "code",
   "execution_count": 7,
   "outputs": [
    {
     "data": {
      "text/plain": "0"
     },
     "execution_count": 7,
     "metadata": {},
     "output_type": "execute_result"
    }
   ],
   "source": [
    "maxSiloBorrowTimestamp = 0\n",
    "try:\n",
    "    maxSiloBorrowTimestamp = (max(0,oldBorrowsDb['transaction_timestamp'].max()))-5\n",
    "except:\n",
    "        maxSiloBorrowTimestamp = 0\n",
    "maxSiloBorrowTimestamp = int(maxSiloBorrowTimestamp)\n",
    "maxSiloBorrowTimestamp"
   ],
   "metadata": {
    "collapsed": false
   }
  },
  {
   "cell_type": "code",
   "execution_count": 8,
   "outputs": [],
   "source": [
    "#0xf5ffabab8f9a6f4f6de1f0dd6e0820f68657d7db"
   ],
   "metadata": {
    "collapsed": false
   }
  },
  {
   "cell_type": "code",
   "execution_count": 9,
   "outputs": [
    {
     "name": "stdout",
     "output_type": "stream",
     "text": [
      "iterations:  0 Lines skipped:  0 records collected:  30  - latest recordID:  0x3063cfbced7d9431862437e31adcc3581e9df1cd87d35e641422b5c6693b060f   0x3063cfbced7d9431862437e31adcc3581e9df1cd87d35e641422b5c6693b060f-111  - borrows DB length:  30  - latest record from:  2023-02-20 19:26:47 3 days ago\n",
      "Done. Total Records collected:  30\n"
     ]
    }
   ],
   "source": [
    "##this captures the ENTIRE list of people who borrowed OHM\n",
    "borrowTicker = 0\n",
    "borrowslist = pd.DataFrame()\n",
    "siloBorrowsDb = pd.DataFrame()\n",
    "borrowListLength = 1000\n",
    "datediff = 0\n",
    "now=0\n",
    "daysAgo=0\n",
    "#daysLimit = 45\n",
    "exit = False\n",
    "while exit==False:\n",
    "    skipValue = (borrowTicker)*(1000)\n",
    "    borrows = silo.Query.borrows(\n",
    "        orderBy='timestamp',\n",
    "        orderDirection='desc',\n",
    "        first=1000,\n",
    "        skip = skipValue,\n",
    "        where={ 'market': '0xf5ffabab8f9a6f4f6de1f0dd6e0820f68657d7db'\n",
    "                ,'timestamp_gte': maxSiloBorrowTimestamp\n",
    "                } #gOHM market\n",
    "    )\n",
    "\n",
    "    borrowslist = sg.query_df([\n",
    "        borrows.id\n",
    "        ,borrows.hash\n",
    "        ,borrows.blockNumber\n",
    "        ,borrows.timestamp\n",
    "        ,borrows.account.id\n",
    "        ,borrows.market.id\n",
    "        ,borrows.market.protocol.id\n",
    "        ,borrows.market.rates.rate\n",
    "        ,borrows.market.rates.duration\n",
    "        ,borrows.market.rates.side\n",
    "        ,borrows.market.rates.type\n",
    "        ,borrows.market.rates.token.id\n",
    "        ,borrows.asset.name\n",
    "        ,borrows.asset.symbol\n",
    "        ,borrows.asset.decimals\n",
    "        ,borrows.asset.lastPriceUSD\n",
    "        ,borrows.amount\n",
    "        ,borrows.amountUSD\n",
    "    ])\n",
    "\n",
    "    siloBorrowsDb=pd.concat([siloBorrowsDb, borrowslist])\n",
    "    recordTimestamp1 = siloBorrowsDb.iat[borrowTicker,3]\n",
    "    recordTimestamp = dt.datetime.fromtimestamp( recordTimestamp1 )\n",
    "    now = (int(dt.datetime.utcnow().timestamp()))\n",
    "    datediff=abs(int(now) - recordTimestamp1)\n",
    "    daysAgo = int(datediff/86400)\n",
    "    siloBorrowsDbLength = len(siloBorrowsDb)\n",
    "    borrowListLength = len(borrowslist)\n",
    "    recordID = siloBorrowsDb.iat[borrowTicker,0]\n",
    "    borrow = siloBorrowsDb.iat[borrowTicker,1]\n",
    "    print(\"iterations: \", borrowTicker, \"Lines skipped: \",skipValue, \"records collected: \", borrowListLength, \" - latest recordID: \",borrow, \" \", recordID , \" - borrows DB length: \", siloBorrowsDbLength, \" - latest record from: \", recordTimestamp, daysAgo,\"days ago\")\n",
    "    #print(\"iterations: \", borrowTicker, \"records collected: \", borrowListLength, \" - userdb length: \", borrowsDbLength)\n",
    "    borrowTicker = borrowTicker+1\n",
    "\n",
    "    if daysAgo>daysLimit: exit =True\n",
    "    if borrowListLength<1000: exit =True\n",
    "\n",
    "siloBorrowsDb.columns = siloBorrowsDb.columns.str.replace(\"borrows\", \"transaction\")\n",
    "siloBorrowsDb['event']='borrow'\n",
    "siloBorrowsDb.drop_duplicates\n",
    "print(\"Done. Total Records collected: \", siloBorrowsDbLength)"
   ],
   "metadata": {
    "collapsed": false
   }
  },
  {
   "cell_type": "code",
   "execution_count": 10,
   "outputs": [
    {
     "data": {
      "text/plain": "                                       transaction_id  \\\n0   0x3063cfbced7d9431862437e31adcc3581e9df1cd87d3...   \n1   0x3063cfbced7d9431862437e31adcc3581e9df1cd87d3...   \n2   0x3063cfbced7d9431862437e31adcc3581e9df1cd87d3...   \n3   0x3063cfbced7d9431862437e31adcc3581e9df1cd87d3...   \n4   0x3063cfbced7d9431862437e31adcc3581e9df1cd87d3...   \n5   0x3063cfbced7d9431862437e31adcc3581e9df1cd87d3...   \n6   0x264ecb6cc9089ebf8fcb6f8ae5ce26358b15b0551e61...   \n7   0x264ecb6cc9089ebf8fcb6f8ae5ce26358b15b0551e61...   \n8   0x264ecb6cc9089ebf8fcb6f8ae5ce26358b15b0551e61...   \n9   0x264ecb6cc9089ebf8fcb6f8ae5ce26358b15b0551e61...   \n10  0x264ecb6cc9089ebf8fcb6f8ae5ce26358b15b0551e61...   \n11  0x264ecb6cc9089ebf8fcb6f8ae5ce26358b15b0551e61...   \n12  0x6726ea9fa581ab0a5fa26b8a112c95e690500f446c39...   \n13  0x6726ea9fa581ab0a5fa26b8a112c95e690500f446c39...   \n14  0x6726ea9fa581ab0a5fa26b8a112c95e690500f446c39...   \n15  0x6726ea9fa581ab0a5fa26b8a112c95e690500f446c39...   \n16  0x6726ea9fa581ab0a5fa26b8a112c95e690500f446c39...   \n17  0x6726ea9fa581ab0a5fa26b8a112c95e690500f446c39...   \n18  0x5fca09aaf64619a5d644ed392a64f5bd08b9e6b4b46e...   \n19  0x5fca09aaf64619a5d644ed392a64f5bd08b9e6b4b46e...   \n20  0x5fca09aaf64619a5d644ed392a64f5bd08b9e6b4b46e...   \n21  0x5fca09aaf64619a5d644ed392a64f5bd08b9e6b4b46e...   \n22  0x5fca09aaf64619a5d644ed392a64f5bd08b9e6b4b46e...   \n23  0x5fca09aaf64619a5d644ed392a64f5bd08b9e6b4b46e...   \n24  0x84bd007387e25c8e55e116e740aa58c36c6925d04156...   \n25  0x84bd007387e25c8e55e116e740aa58c36c6925d04156...   \n26  0x84bd007387e25c8e55e116e740aa58c36c6925d04156...   \n27  0x84bd007387e25c8e55e116e740aa58c36c6925d04156...   \n28  0x84bd007387e25c8e55e116e740aa58c36c6925d04156...   \n29  0x84bd007387e25c8e55e116e740aa58c36c6925d04156...   \n\n                                     transaction_hash  \\\n0   0x3063cfbced7d9431862437e31adcc3581e9df1cd87d3...   \n1   0x3063cfbced7d9431862437e31adcc3581e9df1cd87d3...   \n2   0x3063cfbced7d9431862437e31adcc3581e9df1cd87d3...   \n3   0x3063cfbced7d9431862437e31adcc3581e9df1cd87d3...   \n4   0x3063cfbced7d9431862437e31adcc3581e9df1cd87d3...   \n5   0x3063cfbced7d9431862437e31adcc3581e9df1cd87d3...   \n6   0x264ecb6cc9089ebf8fcb6f8ae5ce26358b15b0551e61...   \n7   0x264ecb6cc9089ebf8fcb6f8ae5ce26358b15b0551e61...   \n8   0x264ecb6cc9089ebf8fcb6f8ae5ce26358b15b0551e61...   \n9   0x264ecb6cc9089ebf8fcb6f8ae5ce26358b15b0551e61...   \n10  0x264ecb6cc9089ebf8fcb6f8ae5ce26358b15b0551e61...   \n11  0x264ecb6cc9089ebf8fcb6f8ae5ce26358b15b0551e61...   \n12  0x6726ea9fa581ab0a5fa26b8a112c95e690500f446c39...   \n13  0x6726ea9fa581ab0a5fa26b8a112c95e690500f446c39...   \n14  0x6726ea9fa581ab0a5fa26b8a112c95e690500f446c39...   \n15  0x6726ea9fa581ab0a5fa26b8a112c95e690500f446c39...   \n16  0x6726ea9fa581ab0a5fa26b8a112c95e690500f446c39...   \n17  0x6726ea9fa581ab0a5fa26b8a112c95e690500f446c39...   \n18  0x5fca09aaf64619a5d644ed392a64f5bd08b9e6b4b46e...   \n19  0x5fca09aaf64619a5d644ed392a64f5bd08b9e6b4b46e...   \n20  0x5fca09aaf64619a5d644ed392a64f5bd08b9e6b4b46e...   \n21  0x5fca09aaf64619a5d644ed392a64f5bd08b9e6b4b46e...   \n22  0x5fca09aaf64619a5d644ed392a64f5bd08b9e6b4b46e...   \n23  0x5fca09aaf64619a5d644ed392a64f5bd08b9e6b4b46e...   \n24  0x84bd007387e25c8e55e116e740aa58c36c6925d04156...   \n25  0x84bd007387e25c8e55e116e740aa58c36c6925d04156...   \n26  0x84bd007387e25c8e55e116e740aa58c36c6925d04156...   \n27  0x84bd007387e25c8e55e116e740aa58c36c6925d04156...   \n28  0x84bd007387e25c8e55e116e740aa58c36c6925d04156...   \n29  0x84bd007387e25c8e55e116e740aa58c36c6925d04156...   \n\n    transaction_blockNumber  transaction_timestamp  \\\n0                  16674201             1676950007   \n1                  16674201             1676950007   \n2                  16674201             1676950007   \n3                  16674201             1676950007   \n4                  16674201             1676950007   \n5                  16674201             1676950007   \n6                  16648400             1676636519   \n7                  16648400             1676636519   \n8                  16648400             1676636519   \n9                  16648400             1676636519   \n10                 16648400             1676636519   \n11                 16648400             1676636519   \n12                 16628130             1676391467   \n13                 16628130             1676391467   \n14                 16628130             1676391467   \n15                 16628130             1676391467   \n16                 16628130             1676391467   \n17                 16628130             1676391467   \n18                 16627404             1676382743   \n19                 16627404             1676382743   \n20                 16627404             1676382743   \n21                 16627404             1676382743   \n22                 16627404             1676382743   \n23                 16627404             1676382743   \n24                 16625573             1676360579   \n25                 16625573             1676360579   \n26                 16625573             1676360579   \n27                 16625573             1676360579   \n28                 16625573             1676360579   \n29                 16625573             1676360579   \n\n                        transaction_account_id  \\\n0   0xf659faac0401cc19110321dcc7989c101cced8e4   \n1   0xf659faac0401cc19110321dcc7989c101cced8e4   \n2   0xf659faac0401cc19110321dcc7989c101cced8e4   \n3   0xf659faac0401cc19110321dcc7989c101cced8e4   \n4   0xf659faac0401cc19110321dcc7989c101cced8e4   \n5   0xf659faac0401cc19110321dcc7989c101cced8e4   \n6   0xcb6e1613029d790c00f89296808f278d6dc25b2f   \n7   0xcb6e1613029d790c00f89296808f278d6dc25b2f   \n8   0xcb6e1613029d790c00f89296808f278d6dc25b2f   \n9   0xcb6e1613029d790c00f89296808f278d6dc25b2f   \n10  0xcb6e1613029d790c00f89296808f278d6dc25b2f   \n11  0xcb6e1613029d790c00f89296808f278d6dc25b2f   \n12  0x9b8b04b6f82cd5e1dae58ca3614d445f93defc5c   \n13  0x9b8b04b6f82cd5e1dae58ca3614d445f93defc5c   \n14  0x9b8b04b6f82cd5e1dae58ca3614d445f93defc5c   \n15  0x9b8b04b6f82cd5e1dae58ca3614d445f93defc5c   \n16  0x9b8b04b6f82cd5e1dae58ca3614d445f93defc5c   \n17  0x9b8b04b6f82cd5e1dae58ca3614d445f93defc5c   \n18  0xc0b1f200aa9546ce074397bed7438bb2ec033877   \n19  0xc0b1f200aa9546ce074397bed7438bb2ec033877   \n20  0xc0b1f200aa9546ce074397bed7438bb2ec033877   \n21  0xc0b1f200aa9546ce074397bed7438bb2ec033877   \n22  0xc0b1f200aa9546ce074397bed7438bb2ec033877   \n23  0xc0b1f200aa9546ce074397bed7438bb2ec033877   \n24  0xc0b1f200aa9546ce074397bed7438bb2ec033877   \n25  0xc0b1f200aa9546ce074397bed7438bb2ec033877   \n26  0xc0b1f200aa9546ce074397bed7438bb2ec033877   \n27  0xc0b1f200aa9546ce074397bed7438bb2ec033877   \n28  0xc0b1f200aa9546ce074397bed7438bb2ec033877   \n29  0xc0b1f200aa9546ce074397bed7438bb2ec033877   \n\n                         transaction_market_id  \\\n0   0xf5ffabab8f9a6f4f6de1f0dd6e0820f68657d7db   \n1   0xf5ffabab8f9a6f4f6de1f0dd6e0820f68657d7db   \n2   0xf5ffabab8f9a6f4f6de1f0dd6e0820f68657d7db   \n3   0xf5ffabab8f9a6f4f6de1f0dd6e0820f68657d7db   \n4   0xf5ffabab8f9a6f4f6de1f0dd6e0820f68657d7db   \n5   0xf5ffabab8f9a6f4f6de1f0dd6e0820f68657d7db   \n6   0xf5ffabab8f9a6f4f6de1f0dd6e0820f68657d7db   \n7   0xf5ffabab8f9a6f4f6de1f0dd6e0820f68657d7db   \n8   0xf5ffabab8f9a6f4f6de1f0dd6e0820f68657d7db   \n9   0xf5ffabab8f9a6f4f6de1f0dd6e0820f68657d7db   \n10  0xf5ffabab8f9a6f4f6de1f0dd6e0820f68657d7db   \n11  0xf5ffabab8f9a6f4f6de1f0dd6e0820f68657d7db   \n12  0xf5ffabab8f9a6f4f6de1f0dd6e0820f68657d7db   \n13  0xf5ffabab8f9a6f4f6de1f0dd6e0820f68657d7db   \n14  0xf5ffabab8f9a6f4f6de1f0dd6e0820f68657d7db   \n15  0xf5ffabab8f9a6f4f6de1f0dd6e0820f68657d7db   \n16  0xf5ffabab8f9a6f4f6de1f0dd6e0820f68657d7db   \n17  0xf5ffabab8f9a6f4f6de1f0dd6e0820f68657d7db   \n18  0xf5ffabab8f9a6f4f6de1f0dd6e0820f68657d7db   \n19  0xf5ffabab8f9a6f4f6de1f0dd6e0820f68657d7db   \n20  0xf5ffabab8f9a6f4f6de1f0dd6e0820f68657d7db   \n21  0xf5ffabab8f9a6f4f6de1f0dd6e0820f68657d7db   \n22  0xf5ffabab8f9a6f4f6de1f0dd6e0820f68657d7db   \n23  0xf5ffabab8f9a6f4f6de1f0dd6e0820f68657d7db   \n24  0xf5ffabab8f9a6f4f6de1f0dd6e0820f68657d7db   \n25  0xf5ffabab8f9a6f4f6de1f0dd6e0820f68657d7db   \n26  0xf5ffabab8f9a6f4f6de1f0dd6e0820f68657d7db   \n27  0xf5ffabab8f9a6f4f6de1f0dd6e0820f68657d7db   \n28  0xf5ffabab8f9a6f4f6de1f0dd6e0820f68657d7db   \n29  0xf5ffabab8f9a6f4f6de1f0dd6e0820f68657d7db   \n\n                transaction_market_protocol_id  transaction_market_rates_rate  \\\n0   0xd998c35b7900b344bbbe6555cc11576942cf309d                       5.656345   \n1   0xd998c35b7900b344bbbe6555cc11576942cf309d                       0.000000   \n2   0xd998c35b7900b344bbbe6555cc11576942cf309d                       0.000000   \n3   0xd998c35b7900b344bbbe6555cc11576942cf309d                       2.285402   \n4   0xd998c35b7900b344bbbe6555cc11576942cf309d                       0.000000   \n5   0xd998c35b7900b344bbbe6555cc11576942cf309d                       0.000000   \n6   0xd998c35b7900b344bbbe6555cc11576942cf309d                       5.656345   \n7   0xd998c35b7900b344bbbe6555cc11576942cf309d                       0.000000   \n8   0xd998c35b7900b344bbbe6555cc11576942cf309d                       0.000000   \n9   0xd998c35b7900b344bbbe6555cc11576942cf309d                       2.285402   \n10  0xd998c35b7900b344bbbe6555cc11576942cf309d                       0.000000   \n11  0xd998c35b7900b344bbbe6555cc11576942cf309d                       0.000000   \n12  0xd998c35b7900b344bbbe6555cc11576942cf309d                       5.656345   \n13  0xd998c35b7900b344bbbe6555cc11576942cf309d                       0.000000   \n14  0xd998c35b7900b344bbbe6555cc11576942cf309d                       0.000000   \n15  0xd998c35b7900b344bbbe6555cc11576942cf309d                       2.285402   \n16  0xd998c35b7900b344bbbe6555cc11576942cf309d                       0.000000   \n17  0xd998c35b7900b344bbbe6555cc11576942cf309d                       0.000000   \n18  0xd998c35b7900b344bbbe6555cc11576942cf309d                       5.656345   \n19  0xd998c35b7900b344bbbe6555cc11576942cf309d                       0.000000   \n20  0xd998c35b7900b344bbbe6555cc11576942cf309d                       0.000000   \n21  0xd998c35b7900b344bbbe6555cc11576942cf309d                       2.285402   \n22  0xd998c35b7900b344bbbe6555cc11576942cf309d                       0.000000   \n23  0xd998c35b7900b344bbbe6555cc11576942cf309d                       0.000000   \n24  0xd998c35b7900b344bbbe6555cc11576942cf309d                       5.656345   \n25  0xd998c35b7900b344bbbe6555cc11576942cf309d                       0.000000   \n26  0xd998c35b7900b344bbbe6555cc11576942cf309d                       0.000000   \n27  0xd998c35b7900b344bbbe6555cc11576942cf309d                       2.285402   \n28  0xd998c35b7900b344bbbe6555cc11576942cf309d                       0.000000   \n29  0xd998c35b7900b344bbbe6555cc11576942cf309d                       0.000000   \n\n   transaction_market_rates_duration transaction_market_rates_side  \\\n0                               None                      BORROWER   \n1                               None                      BORROWER   \n2                               None                      BORROWER   \n3                               None                        LENDER   \n4                               None                        LENDER   \n5                               None                        LENDER   \n6                               None                      BORROWER   \n7                               None                      BORROWER   \n8                               None                      BORROWER   \n9                               None                        LENDER   \n10                              None                        LENDER   \n11                              None                        LENDER   \n12                              None                      BORROWER   \n13                              None                      BORROWER   \n14                              None                      BORROWER   \n15                              None                        LENDER   \n16                              None                        LENDER   \n17                              None                        LENDER   \n18                              None                      BORROWER   \n19                              None                      BORROWER   \n20                              None                      BORROWER   \n21                              None                        LENDER   \n22                              None                        LENDER   \n23                              None                        LENDER   \n24                              None                      BORROWER   \n25                              None                      BORROWER   \n26                              None                      BORROWER   \n27                              None                        LENDER   \n28                              None                        LENDER   \n29                              None                        LENDER   \n\n   transaction_market_rates_type           transaction_market_rates_token_id  \\\n0                       VARIABLE  0x64aa3364f17a4d01c6f1751fd97c2bd3d7e7f1d5   \n1                       VARIABLE  0xc02aaa39b223fe8d0a0e5c4f27ead9083c756cc2   \n2                       VARIABLE  0xd7c9f0e536dc865ae858b0c0453fe76d13c3beac   \n3                       VARIABLE  0x64aa3364f17a4d01c6f1751fd97c2bd3d7e7f1d5   \n4                       VARIABLE  0xc02aaa39b223fe8d0a0e5c4f27ead9083c756cc2   \n5                       VARIABLE  0xd7c9f0e536dc865ae858b0c0453fe76d13c3beac   \n6                       VARIABLE  0x64aa3364f17a4d01c6f1751fd97c2bd3d7e7f1d5   \n7                       VARIABLE  0xc02aaa39b223fe8d0a0e5c4f27ead9083c756cc2   \n8                       VARIABLE  0xd7c9f0e536dc865ae858b0c0453fe76d13c3beac   \n9                       VARIABLE  0x64aa3364f17a4d01c6f1751fd97c2bd3d7e7f1d5   \n10                      VARIABLE  0xc02aaa39b223fe8d0a0e5c4f27ead9083c756cc2   \n11                      VARIABLE  0xd7c9f0e536dc865ae858b0c0453fe76d13c3beac   \n12                      VARIABLE  0x64aa3364f17a4d01c6f1751fd97c2bd3d7e7f1d5   \n13                      VARIABLE  0xc02aaa39b223fe8d0a0e5c4f27ead9083c756cc2   \n14                      VARIABLE  0xd7c9f0e536dc865ae858b0c0453fe76d13c3beac   \n15                      VARIABLE  0x64aa3364f17a4d01c6f1751fd97c2bd3d7e7f1d5   \n16                      VARIABLE  0xc02aaa39b223fe8d0a0e5c4f27ead9083c756cc2   \n17                      VARIABLE  0xd7c9f0e536dc865ae858b0c0453fe76d13c3beac   \n18                      VARIABLE  0x64aa3364f17a4d01c6f1751fd97c2bd3d7e7f1d5   \n19                      VARIABLE  0xc02aaa39b223fe8d0a0e5c4f27ead9083c756cc2   \n20                      VARIABLE  0xd7c9f0e536dc865ae858b0c0453fe76d13c3beac   \n21                      VARIABLE  0x64aa3364f17a4d01c6f1751fd97c2bd3d7e7f1d5   \n22                      VARIABLE  0xc02aaa39b223fe8d0a0e5c4f27ead9083c756cc2   \n23                      VARIABLE  0xd7c9f0e536dc865ae858b0c0453fe76d13c3beac   \n24                      VARIABLE  0x64aa3364f17a4d01c6f1751fd97c2bd3d7e7f1d5   \n25                      VARIABLE  0xc02aaa39b223fe8d0a0e5c4f27ead9083c756cc2   \n26                      VARIABLE  0xd7c9f0e536dc865ae858b0c0453fe76d13c3beac   \n27                      VARIABLE  0x64aa3364f17a4d01c6f1751fd97c2bd3d7e7f1d5   \n28                      VARIABLE  0xc02aaa39b223fe8d0a0e5c4f27ead9083c756cc2   \n29                      VARIABLE  0xd7c9f0e536dc865ae858b0c0453fe76d13c3beac   \n\n   transaction_asset_name transaction_asset_symbol  \\\n0                 Olympus                      OHM   \n1                 Olympus                      OHM   \n2                 Olympus                      OHM   \n3                 Olympus                      OHM   \n4                 Olympus                      OHM   \n5                 Olympus                      OHM   \n6                 Olympus                      OHM   \n7                 Olympus                      OHM   \n8                 Olympus                      OHM   \n9                 Olympus                      OHM   \n10                Olympus                      OHM   \n11                Olympus                      OHM   \n12                Olympus                      OHM   \n13                Olympus                      OHM   \n14                Olympus                      OHM   \n15                Olympus                      OHM   \n16                Olympus                      OHM   \n17                Olympus                      OHM   \n18                Olympus                      OHM   \n19                Olympus                      OHM   \n20                Olympus                      OHM   \n21                Olympus                      OHM   \n22                Olympus                      OHM   \n23                Olympus                      OHM   \n24         XAI Stablecoin                      XAI   \n25         XAI Stablecoin                      XAI   \n26         XAI Stablecoin                      XAI   \n27         XAI Stablecoin                      XAI   \n28         XAI Stablecoin                      XAI   \n29         XAI Stablecoin                      XAI   \n\n    transaction_asset_decimals  transaction_asset_lastPriceUSD  \\\n0                            9                       10.379649   \n1                            9                       10.379649   \n2                            9                       10.379649   \n3                            9                       10.379649   \n4                            9                       10.379649   \n5                            9                       10.379649   \n6                            9                       10.379649   \n7                            9                       10.379649   \n8                            9                       10.379649   \n9                            9                       10.379649   \n10                           9                       10.379649   \n11                           9                       10.379649   \n12                           9                       10.379649   \n13                           9                       10.379649   \n14                           9                       10.379649   \n15                           9                       10.379649   \n16                           9                       10.379649   \n17                           9                       10.379649   \n18                           9                       10.379649   \n19                           9                       10.379649   \n20                           9                       10.379649   \n21                           9                       10.379649   \n22                           9                       10.379649   \n23                           9                       10.379649   \n24                          18                        1.005117   \n25                          18                        1.005117   \n26                          18                        1.005117   \n27                          18                        1.005117   \n28                          18                        1.005117   \n29                          18                        1.005117   \n\n      transaction_amount  transaction_amountUSD   event  \n0          6420000000000           69617.631237  borrow  \n1          6420000000000           69617.631237  borrow  \n2          6420000000000           69617.631237  borrow  \n3          6420000000000           69617.631237  borrow  \n4          6420000000000           69617.631237  borrow  \n5          6420000000000           69617.631237  borrow  \n6            58000000000             615.628222  borrow  \n7            58000000000             615.628222  borrow  \n8            58000000000             615.628222  borrow  \n9            58000000000             615.628222  borrow  \n10           58000000000             615.628222  borrow  \n11           58000000000             615.628222  borrow  \n12         1480000000000           15782.938441  borrow  \n13         1480000000000           15782.938441  borrow  \n14         1480000000000           15782.938441  borrow  \n15         1480000000000           15782.938441  borrow  \n16         1480000000000           15782.938441  borrow  \n17         1480000000000           15782.938441  borrow  \n18          175320427647            1812.167469  borrow  \n19          175320427647            1812.167469  borrow  \n20          175320427647            1812.167469  borrow  \n21          175320427647            1812.167469  borrow  \n22          175320427647            1812.167469  borrow  \n23          175320427647            1812.167469  borrow  \n24  10100000000000000000              10.088297  borrow  \n25  10100000000000000000              10.088297  borrow  \n26  10100000000000000000              10.088297  borrow  \n27  10100000000000000000              10.088297  borrow  \n28  10100000000000000000              10.088297  borrow  \n29  10100000000000000000              10.088297  borrow  ",
      "text/html": "<div>\n<style scoped>\n    .dataframe tbody tr th:only-of-type {\n        vertical-align: middle;\n    }\n\n    .dataframe tbody tr th {\n        vertical-align: top;\n    }\n\n    .dataframe thead th {\n        text-align: right;\n    }\n</style>\n<table border=\"1\" class=\"dataframe\">\n  <thead>\n    <tr style=\"text-align: right;\">\n      <th></th>\n      <th>transaction_id</th>\n      <th>transaction_hash</th>\n      <th>transaction_blockNumber</th>\n      <th>transaction_timestamp</th>\n      <th>transaction_account_id</th>\n      <th>transaction_market_id</th>\n      <th>transaction_market_protocol_id</th>\n      <th>transaction_market_rates_rate</th>\n      <th>transaction_market_rates_duration</th>\n      <th>transaction_market_rates_side</th>\n      <th>transaction_market_rates_type</th>\n      <th>transaction_market_rates_token_id</th>\n      <th>transaction_asset_name</th>\n      <th>transaction_asset_symbol</th>\n      <th>transaction_asset_decimals</th>\n      <th>transaction_asset_lastPriceUSD</th>\n      <th>transaction_amount</th>\n      <th>transaction_amountUSD</th>\n      <th>event</th>\n    </tr>\n  </thead>\n  <tbody>\n    <tr>\n      <th>0</th>\n      <td>0x3063cfbced7d9431862437e31adcc3581e9df1cd87d3...</td>\n      <td>0x3063cfbced7d9431862437e31adcc3581e9df1cd87d3...</td>\n      <td>16674201</td>\n      <td>1676950007</td>\n      <td>0xf659faac0401cc19110321dcc7989c101cced8e4</td>\n      <td>0xf5ffabab8f9a6f4f6de1f0dd6e0820f68657d7db</td>\n      <td>0xd998c35b7900b344bbbe6555cc11576942cf309d</td>\n      <td>5.656345</td>\n      <td>None</td>\n      <td>BORROWER</td>\n      <td>VARIABLE</td>\n      <td>0x64aa3364f17a4d01c6f1751fd97c2bd3d7e7f1d5</td>\n      <td>Olympus</td>\n      <td>OHM</td>\n      <td>9</td>\n      <td>10.379649</td>\n      <td>6420000000000</td>\n      <td>69617.631237</td>\n      <td>borrow</td>\n    </tr>\n    <tr>\n      <th>1</th>\n      <td>0x3063cfbced7d9431862437e31adcc3581e9df1cd87d3...</td>\n      <td>0x3063cfbced7d9431862437e31adcc3581e9df1cd87d3...</td>\n      <td>16674201</td>\n      <td>1676950007</td>\n      <td>0xf659faac0401cc19110321dcc7989c101cced8e4</td>\n      <td>0xf5ffabab8f9a6f4f6de1f0dd6e0820f68657d7db</td>\n      <td>0xd998c35b7900b344bbbe6555cc11576942cf309d</td>\n      <td>0.000000</td>\n      <td>None</td>\n      <td>BORROWER</td>\n      <td>VARIABLE</td>\n      <td>0xc02aaa39b223fe8d0a0e5c4f27ead9083c756cc2</td>\n      <td>Olympus</td>\n      <td>OHM</td>\n      <td>9</td>\n      <td>10.379649</td>\n      <td>6420000000000</td>\n      <td>69617.631237</td>\n      <td>borrow</td>\n    </tr>\n    <tr>\n      <th>2</th>\n      <td>0x3063cfbced7d9431862437e31adcc3581e9df1cd87d3...</td>\n      <td>0x3063cfbced7d9431862437e31adcc3581e9df1cd87d3...</td>\n      <td>16674201</td>\n      <td>1676950007</td>\n      <td>0xf659faac0401cc19110321dcc7989c101cced8e4</td>\n      <td>0xf5ffabab8f9a6f4f6de1f0dd6e0820f68657d7db</td>\n      <td>0xd998c35b7900b344bbbe6555cc11576942cf309d</td>\n      <td>0.000000</td>\n      <td>None</td>\n      <td>BORROWER</td>\n      <td>VARIABLE</td>\n      <td>0xd7c9f0e536dc865ae858b0c0453fe76d13c3beac</td>\n      <td>Olympus</td>\n      <td>OHM</td>\n      <td>9</td>\n      <td>10.379649</td>\n      <td>6420000000000</td>\n      <td>69617.631237</td>\n      <td>borrow</td>\n    </tr>\n    <tr>\n      <th>3</th>\n      <td>0x3063cfbced7d9431862437e31adcc3581e9df1cd87d3...</td>\n      <td>0x3063cfbced7d9431862437e31adcc3581e9df1cd87d3...</td>\n      <td>16674201</td>\n      <td>1676950007</td>\n      <td>0xf659faac0401cc19110321dcc7989c101cced8e4</td>\n      <td>0xf5ffabab8f9a6f4f6de1f0dd6e0820f68657d7db</td>\n      <td>0xd998c35b7900b344bbbe6555cc11576942cf309d</td>\n      <td>2.285402</td>\n      <td>None</td>\n      <td>LENDER</td>\n      <td>VARIABLE</td>\n      <td>0x64aa3364f17a4d01c6f1751fd97c2bd3d7e7f1d5</td>\n      <td>Olympus</td>\n      <td>OHM</td>\n      <td>9</td>\n      <td>10.379649</td>\n      <td>6420000000000</td>\n      <td>69617.631237</td>\n      <td>borrow</td>\n    </tr>\n    <tr>\n      <th>4</th>\n      <td>0x3063cfbced7d9431862437e31adcc3581e9df1cd87d3...</td>\n      <td>0x3063cfbced7d9431862437e31adcc3581e9df1cd87d3...</td>\n      <td>16674201</td>\n      <td>1676950007</td>\n      <td>0xf659faac0401cc19110321dcc7989c101cced8e4</td>\n      <td>0xf5ffabab8f9a6f4f6de1f0dd6e0820f68657d7db</td>\n      <td>0xd998c35b7900b344bbbe6555cc11576942cf309d</td>\n      <td>0.000000</td>\n      <td>None</td>\n      <td>LENDER</td>\n      <td>VARIABLE</td>\n      <td>0xc02aaa39b223fe8d0a0e5c4f27ead9083c756cc2</td>\n      <td>Olympus</td>\n      <td>OHM</td>\n      <td>9</td>\n      <td>10.379649</td>\n      <td>6420000000000</td>\n      <td>69617.631237</td>\n      <td>borrow</td>\n    </tr>\n    <tr>\n      <th>5</th>\n      <td>0x3063cfbced7d9431862437e31adcc3581e9df1cd87d3...</td>\n      <td>0x3063cfbced7d9431862437e31adcc3581e9df1cd87d3...</td>\n      <td>16674201</td>\n      <td>1676950007</td>\n      <td>0xf659faac0401cc19110321dcc7989c101cced8e4</td>\n      <td>0xf5ffabab8f9a6f4f6de1f0dd6e0820f68657d7db</td>\n      <td>0xd998c35b7900b344bbbe6555cc11576942cf309d</td>\n      <td>0.000000</td>\n      <td>None</td>\n      <td>LENDER</td>\n      <td>VARIABLE</td>\n      <td>0xd7c9f0e536dc865ae858b0c0453fe76d13c3beac</td>\n      <td>Olympus</td>\n      <td>OHM</td>\n      <td>9</td>\n      <td>10.379649</td>\n      <td>6420000000000</td>\n      <td>69617.631237</td>\n      <td>borrow</td>\n    </tr>\n    <tr>\n      <th>6</th>\n      <td>0x264ecb6cc9089ebf8fcb6f8ae5ce26358b15b0551e61...</td>\n      <td>0x264ecb6cc9089ebf8fcb6f8ae5ce26358b15b0551e61...</td>\n      <td>16648400</td>\n      <td>1676636519</td>\n      <td>0xcb6e1613029d790c00f89296808f278d6dc25b2f</td>\n      <td>0xf5ffabab8f9a6f4f6de1f0dd6e0820f68657d7db</td>\n      <td>0xd998c35b7900b344bbbe6555cc11576942cf309d</td>\n      <td>5.656345</td>\n      <td>None</td>\n      <td>BORROWER</td>\n      <td>VARIABLE</td>\n      <td>0x64aa3364f17a4d01c6f1751fd97c2bd3d7e7f1d5</td>\n      <td>Olympus</td>\n      <td>OHM</td>\n      <td>9</td>\n      <td>10.379649</td>\n      <td>58000000000</td>\n      <td>615.628222</td>\n      <td>borrow</td>\n    </tr>\n    <tr>\n      <th>7</th>\n      <td>0x264ecb6cc9089ebf8fcb6f8ae5ce26358b15b0551e61...</td>\n      <td>0x264ecb6cc9089ebf8fcb6f8ae5ce26358b15b0551e61...</td>\n      <td>16648400</td>\n      <td>1676636519</td>\n      <td>0xcb6e1613029d790c00f89296808f278d6dc25b2f</td>\n      <td>0xf5ffabab8f9a6f4f6de1f0dd6e0820f68657d7db</td>\n      <td>0xd998c35b7900b344bbbe6555cc11576942cf309d</td>\n      <td>0.000000</td>\n      <td>None</td>\n      <td>BORROWER</td>\n      <td>VARIABLE</td>\n      <td>0xc02aaa39b223fe8d0a0e5c4f27ead9083c756cc2</td>\n      <td>Olympus</td>\n      <td>OHM</td>\n      <td>9</td>\n      <td>10.379649</td>\n      <td>58000000000</td>\n      <td>615.628222</td>\n      <td>borrow</td>\n    </tr>\n    <tr>\n      <th>8</th>\n      <td>0x264ecb6cc9089ebf8fcb6f8ae5ce26358b15b0551e61...</td>\n      <td>0x264ecb6cc9089ebf8fcb6f8ae5ce26358b15b0551e61...</td>\n      <td>16648400</td>\n      <td>1676636519</td>\n      <td>0xcb6e1613029d790c00f89296808f278d6dc25b2f</td>\n      <td>0xf5ffabab8f9a6f4f6de1f0dd6e0820f68657d7db</td>\n      <td>0xd998c35b7900b344bbbe6555cc11576942cf309d</td>\n      <td>0.000000</td>\n      <td>None</td>\n      <td>BORROWER</td>\n      <td>VARIABLE</td>\n      <td>0xd7c9f0e536dc865ae858b0c0453fe76d13c3beac</td>\n      <td>Olympus</td>\n      <td>OHM</td>\n      <td>9</td>\n      <td>10.379649</td>\n      <td>58000000000</td>\n      <td>615.628222</td>\n      <td>borrow</td>\n    </tr>\n    <tr>\n      <th>9</th>\n      <td>0x264ecb6cc9089ebf8fcb6f8ae5ce26358b15b0551e61...</td>\n      <td>0x264ecb6cc9089ebf8fcb6f8ae5ce26358b15b0551e61...</td>\n      <td>16648400</td>\n      <td>1676636519</td>\n      <td>0xcb6e1613029d790c00f89296808f278d6dc25b2f</td>\n      <td>0xf5ffabab8f9a6f4f6de1f0dd6e0820f68657d7db</td>\n      <td>0xd998c35b7900b344bbbe6555cc11576942cf309d</td>\n      <td>2.285402</td>\n      <td>None</td>\n      <td>LENDER</td>\n      <td>VARIABLE</td>\n      <td>0x64aa3364f17a4d01c6f1751fd97c2bd3d7e7f1d5</td>\n      <td>Olympus</td>\n      <td>OHM</td>\n      <td>9</td>\n      <td>10.379649</td>\n      <td>58000000000</td>\n      <td>615.628222</td>\n      <td>borrow</td>\n    </tr>\n    <tr>\n      <th>10</th>\n      <td>0x264ecb6cc9089ebf8fcb6f8ae5ce26358b15b0551e61...</td>\n      <td>0x264ecb6cc9089ebf8fcb6f8ae5ce26358b15b0551e61...</td>\n      <td>16648400</td>\n      <td>1676636519</td>\n      <td>0xcb6e1613029d790c00f89296808f278d6dc25b2f</td>\n      <td>0xf5ffabab8f9a6f4f6de1f0dd6e0820f68657d7db</td>\n      <td>0xd998c35b7900b344bbbe6555cc11576942cf309d</td>\n      <td>0.000000</td>\n      <td>None</td>\n      <td>LENDER</td>\n      <td>VARIABLE</td>\n      <td>0xc02aaa39b223fe8d0a0e5c4f27ead9083c756cc2</td>\n      <td>Olympus</td>\n      <td>OHM</td>\n      <td>9</td>\n      <td>10.379649</td>\n      <td>58000000000</td>\n      <td>615.628222</td>\n      <td>borrow</td>\n    </tr>\n    <tr>\n      <th>11</th>\n      <td>0x264ecb6cc9089ebf8fcb6f8ae5ce26358b15b0551e61...</td>\n      <td>0x264ecb6cc9089ebf8fcb6f8ae5ce26358b15b0551e61...</td>\n      <td>16648400</td>\n      <td>1676636519</td>\n      <td>0xcb6e1613029d790c00f89296808f278d6dc25b2f</td>\n      <td>0xf5ffabab8f9a6f4f6de1f0dd6e0820f68657d7db</td>\n      <td>0xd998c35b7900b344bbbe6555cc11576942cf309d</td>\n      <td>0.000000</td>\n      <td>None</td>\n      <td>LENDER</td>\n      <td>VARIABLE</td>\n      <td>0xd7c9f0e536dc865ae858b0c0453fe76d13c3beac</td>\n      <td>Olympus</td>\n      <td>OHM</td>\n      <td>9</td>\n      <td>10.379649</td>\n      <td>58000000000</td>\n      <td>615.628222</td>\n      <td>borrow</td>\n    </tr>\n    <tr>\n      <th>12</th>\n      <td>0x6726ea9fa581ab0a5fa26b8a112c95e690500f446c39...</td>\n      <td>0x6726ea9fa581ab0a5fa26b8a112c95e690500f446c39...</td>\n      <td>16628130</td>\n      <td>1676391467</td>\n      <td>0x9b8b04b6f82cd5e1dae58ca3614d445f93defc5c</td>\n      <td>0xf5ffabab8f9a6f4f6de1f0dd6e0820f68657d7db</td>\n      <td>0xd998c35b7900b344bbbe6555cc11576942cf309d</td>\n      <td>5.656345</td>\n      <td>None</td>\n      <td>BORROWER</td>\n      <td>VARIABLE</td>\n      <td>0x64aa3364f17a4d01c6f1751fd97c2bd3d7e7f1d5</td>\n      <td>Olympus</td>\n      <td>OHM</td>\n      <td>9</td>\n      <td>10.379649</td>\n      <td>1480000000000</td>\n      <td>15782.938441</td>\n      <td>borrow</td>\n    </tr>\n    <tr>\n      <th>13</th>\n      <td>0x6726ea9fa581ab0a5fa26b8a112c95e690500f446c39...</td>\n      <td>0x6726ea9fa581ab0a5fa26b8a112c95e690500f446c39...</td>\n      <td>16628130</td>\n      <td>1676391467</td>\n      <td>0x9b8b04b6f82cd5e1dae58ca3614d445f93defc5c</td>\n      <td>0xf5ffabab8f9a6f4f6de1f0dd6e0820f68657d7db</td>\n      <td>0xd998c35b7900b344bbbe6555cc11576942cf309d</td>\n      <td>0.000000</td>\n      <td>None</td>\n      <td>BORROWER</td>\n      <td>VARIABLE</td>\n      <td>0xc02aaa39b223fe8d0a0e5c4f27ead9083c756cc2</td>\n      <td>Olympus</td>\n      <td>OHM</td>\n      <td>9</td>\n      <td>10.379649</td>\n      <td>1480000000000</td>\n      <td>15782.938441</td>\n      <td>borrow</td>\n    </tr>\n    <tr>\n      <th>14</th>\n      <td>0x6726ea9fa581ab0a5fa26b8a112c95e690500f446c39...</td>\n      <td>0x6726ea9fa581ab0a5fa26b8a112c95e690500f446c39...</td>\n      <td>16628130</td>\n      <td>1676391467</td>\n      <td>0x9b8b04b6f82cd5e1dae58ca3614d445f93defc5c</td>\n      <td>0xf5ffabab8f9a6f4f6de1f0dd6e0820f68657d7db</td>\n      <td>0xd998c35b7900b344bbbe6555cc11576942cf309d</td>\n      <td>0.000000</td>\n      <td>None</td>\n      <td>BORROWER</td>\n      <td>VARIABLE</td>\n      <td>0xd7c9f0e536dc865ae858b0c0453fe76d13c3beac</td>\n      <td>Olympus</td>\n      <td>OHM</td>\n      <td>9</td>\n      <td>10.379649</td>\n      <td>1480000000000</td>\n      <td>15782.938441</td>\n      <td>borrow</td>\n    </tr>\n    <tr>\n      <th>15</th>\n      <td>0x6726ea9fa581ab0a5fa26b8a112c95e690500f446c39...</td>\n      <td>0x6726ea9fa581ab0a5fa26b8a112c95e690500f446c39...</td>\n      <td>16628130</td>\n      <td>1676391467</td>\n      <td>0x9b8b04b6f82cd5e1dae58ca3614d445f93defc5c</td>\n      <td>0xf5ffabab8f9a6f4f6de1f0dd6e0820f68657d7db</td>\n      <td>0xd998c35b7900b344bbbe6555cc11576942cf309d</td>\n      <td>2.285402</td>\n      <td>None</td>\n      <td>LENDER</td>\n      <td>VARIABLE</td>\n      <td>0x64aa3364f17a4d01c6f1751fd97c2bd3d7e7f1d5</td>\n      <td>Olympus</td>\n      <td>OHM</td>\n      <td>9</td>\n      <td>10.379649</td>\n      <td>1480000000000</td>\n      <td>15782.938441</td>\n      <td>borrow</td>\n    </tr>\n    <tr>\n      <th>16</th>\n      <td>0x6726ea9fa581ab0a5fa26b8a112c95e690500f446c39...</td>\n      <td>0x6726ea9fa581ab0a5fa26b8a112c95e690500f446c39...</td>\n      <td>16628130</td>\n      <td>1676391467</td>\n      <td>0x9b8b04b6f82cd5e1dae58ca3614d445f93defc5c</td>\n      <td>0xf5ffabab8f9a6f4f6de1f0dd6e0820f68657d7db</td>\n      <td>0xd998c35b7900b344bbbe6555cc11576942cf309d</td>\n      <td>0.000000</td>\n      <td>None</td>\n      <td>LENDER</td>\n      <td>VARIABLE</td>\n      <td>0xc02aaa39b223fe8d0a0e5c4f27ead9083c756cc2</td>\n      <td>Olympus</td>\n      <td>OHM</td>\n      <td>9</td>\n      <td>10.379649</td>\n      <td>1480000000000</td>\n      <td>15782.938441</td>\n      <td>borrow</td>\n    </tr>\n    <tr>\n      <th>17</th>\n      <td>0x6726ea9fa581ab0a5fa26b8a112c95e690500f446c39...</td>\n      <td>0x6726ea9fa581ab0a5fa26b8a112c95e690500f446c39...</td>\n      <td>16628130</td>\n      <td>1676391467</td>\n      <td>0x9b8b04b6f82cd5e1dae58ca3614d445f93defc5c</td>\n      <td>0xf5ffabab8f9a6f4f6de1f0dd6e0820f68657d7db</td>\n      <td>0xd998c35b7900b344bbbe6555cc11576942cf309d</td>\n      <td>0.000000</td>\n      <td>None</td>\n      <td>LENDER</td>\n      <td>VARIABLE</td>\n      <td>0xd7c9f0e536dc865ae858b0c0453fe76d13c3beac</td>\n      <td>Olympus</td>\n      <td>OHM</td>\n      <td>9</td>\n      <td>10.379649</td>\n      <td>1480000000000</td>\n      <td>15782.938441</td>\n      <td>borrow</td>\n    </tr>\n    <tr>\n      <th>18</th>\n      <td>0x5fca09aaf64619a5d644ed392a64f5bd08b9e6b4b46e...</td>\n      <td>0x5fca09aaf64619a5d644ed392a64f5bd08b9e6b4b46e...</td>\n      <td>16627404</td>\n      <td>1676382743</td>\n      <td>0xc0b1f200aa9546ce074397bed7438bb2ec033877</td>\n      <td>0xf5ffabab8f9a6f4f6de1f0dd6e0820f68657d7db</td>\n      <td>0xd998c35b7900b344bbbe6555cc11576942cf309d</td>\n      <td>5.656345</td>\n      <td>None</td>\n      <td>BORROWER</td>\n      <td>VARIABLE</td>\n      <td>0x64aa3364f17a4d01c6f1751fd97c2bd3d7e7f1d5</td>\n      <td>Olympus</td>\n      <td>OHM</td>\n      <td>9</td>\n      <td>10.379649</td>\n      <td>175320427647</td>\n      <td>1812.167469</td>\n      <td>borrow</td>\n    </tr>\n    <tr>\n      <th>19</th>\n      <td>0x5fca09aaf64619a5d644ed392a64f5bd08b9e6b4b46e...</td>\n      <td>0x5fca09aaf64619a5d644ed392a64f5bd08b9e6b4b46e...</td>\n      <td>16627404</td>\n      <td>1676382743</td>\n      <td>0xc0b1f200aa9546ce074397bed7438bb2ec033877</td>\n      <td>0xf5ffabab8f9a6f4f6de1f0dd6e0820f68657d7db</td>\n      <td>0xd998c35b7900b344bbbe6555cc11576942cf309d</td>\n      <td>0.000000</td>\n      <td>None</td>\n      <td>BORROWER</td>\n      <td>VARIABLE</td>\n      <td>0xc02aaa39b223fe8d0a0e5c4f27ead9083c756cc2</td>\n      <td>Olympus</td>\n      <td>OHM</td>\n      <td>9</td>\n      <td>10.379649</td>\n      <td>175320427647</td>\n      <td>1812.167469</td>\n      <td>borrow</td>\n    </tr>\n    <tr>\n      <th>20</th>\n      <td>0x5fca09aaf64619a5d644ed392a64f5bd08b9e6b4b46e...</td>\n      <td>0x5fca09aaf64619a5d644ed392a64f5bd08b9e6b4b46e...</td>\n      <td>16627404</td>\n      <td>1676382743</td>\n      <td>0xc0b1f200aa9546ce074397bed7438bb2ec033877</td>\n      <td>0xf5ffabab8f9a6f4f6de1f0dd6e0820f68657d7db</td>\n      <td>0xd998c35b7900b344bbbe6555cc11576942cf309d</td>\n      <td>0.000000</td>\n      <td>None</td>\n      <td>BORROWER</td>\n      <td>VARIABLE</td>\n      <td>0xd7c9f0e536dc865ae858b0c0453fe76d13c3beac</td>\n      <td>Olympus</td>\n      <td>OHM</td>\n      <td>9</td>\n      <td>10.379649</td>\n      <td>175320427647</td>\n      <td>1812.167469</td>\n      <td>borrow</td>\n    </tr>\n    <tr>\n      <th>21</th>\n      <td>0x5fca09aaf64619a5d644ed392a64f5bd08b9e6b4b46e...</td>\n      <td>0x5fca09aaf64619a5d644ed392a64f5bd08b9e6b4b46e...</td>\n      <td>16627404</td>\n      <td>1676382743</td>\n      <td>0xc0b1f200aa9546ce074397bed7438bb2ec033877</td>\n      <td>0xf5ffabab8f9a6f4f6de1f0dd6e0820f68657d7db</td>\n      <td>0xd998c35b7900b344bbbe6555cc11576942cf309d</td>\n      <td>2.285402</td>\n      <td>None</td>\n      <td>LENDER</td>\n      <td>VARIABLE</td>\n      <td>0x64aa3364f17a4d01c6f1751fd97c2bd3d7e7f1d5</td>\n      <td>Olympus</td>\n      <td>OHM</td>\n      <td>9</td>\n      <td>10.379649</td>\n      <td>175320427647</td>\n      <td>1812.167469</td>\n      <td>borrow</td>\n    </tr>\n    <tr>\n      <th>22</th>\n      <td>0x5fca09aaf64619a5d644ed392a64f5bd08b9e6b4b46e...</td>\n      <td>0x5fca09aaf64619a5d644ed392a64f5bd08b9e6b4b46e...</td>\n      <td>16627404</td>\n      <td>1676382743</td>\n      <td>0xc0b1f200aa9546ce074397bed7438bb2ec033877</td>\n      <td>0xf5ffabab8f9a6f4f6de1f0dd6e0820f68657d7db</td>\n      <td>0xd998c35b7900b344bbbe6555cc11576942cf309d</td>\n      <td>0.000000</td>\n      <td>None</td>\n      <td>LENDER</td>\n      <td>VARIABLE</td>\n      <td>0xc02aaa39b223fe8d0a0e5c4f27ead9083c756cc2</td>\n      <td>Olympus</td>\n      <td>OHM</td>\n      <td>9</td>\n      <td>10.379649</td>\n      <td>175320427647</td>\n      <td>1812.167469</td>\n      <td>borrow</td>\n    </tr>\n    <tr>\n      <th>23</th>\n      <td>0x5fca09aaf64619a5d644ed392a64f5bd08b9e6b4b46e...</td>\n      <td>0x5fca09aaf64619a5d644ed392a64f5bd08b9e6b4b46e...</td>\n      <td>16627404</td>\n      <td>1676382743</td>\n      <td>0xc0b1f200aa9546ce074397bed7438bb2ec033877</td>\n      <td>0xf5ffabab8f9a6f4f6de1f0dd6e0820f68657d7db</td>\n      <td>0xd998c35b7900b344bbbe6555cc11576942cf309d</td>\n      <td>0.000000</td>\n      <td>None</td>\n      <td>LENDER</td>\n      <td>VARIABLE</td>\n      <td>0xd7c9f0e536dc865ae858b0c0453fe76d13c3beac</td>\n      <td>Olympus</td>\n      <td>OHM</td>\n      <td>9</td>\n      <td>10.379649</td>\n      <td>175320427647</td>\n      <td>1812.167469</td>\n      <td>borrow</td>\n    </tr>\n    <tr>\n      <th>24</th>\n      <td>0x84bd007387e25c8e55e116e740aa58c36c6925d04156...</td>\n      <td>0x84bd007387e25c8e55e116e740aa58c36c6925d04156...</td>\n      <td>16625573</td>\n      <td>1676360579</td>\n      <td>0xc0b1f200aa9546ce074397bed7438bb2ec033877</td>\n      <td>0xf5ffabab8f9a6f4f6de1f0dd6e0820f68657d7db</td>\n      <td>0xd998c35b7900b344bbbe6555cc11576942cf309d</td>\n      <td>5.656345</td>\n      <td>None</td>\n      <td>BORROWER</td>\n      <td>VARIABLE</td>\n      <td>0x64aa3364f17a4d01c6f1751fd97c2bd3d7e7f1d5</td>\n      <td>XAI Stablecoin</td>\n      <td>XAI</td>\n      <td>18</td>\n      <td>1.005117</td>\n      <td>10100000000000000000</td>\n      <td>10.088297</td>\n      <td>borrow</td>\n    </tr>\n    <tr>\n      <th>25</th>\n      <td>0x84bd007387e25c8e55e116e740aa58c36c6925d04156...</td>\n      <td>0x84bd007387e25c8e55e116e740aa58c36c6925d04156...</td>\n      <td>16625573</td>\n      <td>1676360579</td>\n      <td>0xc0b1f200aa9546ce074397bed7438bb2ec033877</td>\n      <td>0xf5ffabab8f9a6f4f6de1f0dd6e0820f68657d7db</td>\n      <td>0xd998c35b7900b344bbbe6555cc11576942cf309d</td>\n      <td>0.000000</td>\n      <td>None</td>\n      <td>BORROWER</td>\n      <td>VARIABLE</td>\n      <td>0xc02aaa39b223fe8d0a0e5c4f27ead9083c756cc2</td>\n      <td>XAI Stablecoin</td>\n      <td>XAI</td>\n      <td>18</td>\n      <td>1.005117</td>\n      <td>10100000000000000000</td>\n      <td>10.088297</td>\n      <td>borrow</td>\n    </tr>\n    <tr>\n      <th>26</th>\n      <td>0x84bd007387e25c8e55e116e740aa58c36c6925d04156...</td>\n      <td>0x84bd007387e25c8e55e116e740aa58c36c6925d04156...</td>\n      <td>16625573</td>\n      <td>1676360579</td>\n      <td>0xc0b1f200aa9546ce074397bed7438bb2ec033877</td>\n      <td>0xf5ffabab8f9a6f4f6de1f0dd6e0820f68657d7db</td>\n      <td>0xd998c35b7900b344bbbe6555cc11576942cf309d</td>\n      <td>0.000000</td>\n      <td>None</td>\n      <td>BORROWER</td>\n      <td>VARIABLE</td>\n      <td>0xd7c9f0e536dc865ae858b0c0453fe76d13c3beac</td>\n      <td>XAI Stablecoin</td>\n      <td>XAI</td>\n      <td>18</td>\n      <td>1.005117</td>\n      <td>10100000000000000000</td>\n      <td>10.088297</td>\n      <td>borrow</td>\n    </tr>\n    <tr>\n      <th>27</th>\n      <td>0x84bd007387e25c8e55e116e740aa58c36c6925d04156...</td>\n      <td>0x84bd007387e25c8e55e116e740aa58c36c6925d04156...</td>\n      <td>16625573</td>\n      <td>1676360579</td>\n      <td>0xc0b1f200aa9546ce074397bed7438bb2ec033877</td>\n      <td>0xf5ffabab8f9a6f4f6de1f0dd6e0820f68657d7db</td>\n      <td>0xd998c35b7900b344bbbe6555cc11576942cf309d</td>\n      <td>2.285402</td>\n      <td>None</td>\n      <td>LENDER</td>\n      <td>VARIABLE</td>\n      <td>0x64aa3364f17a4d01c6f1751fd97c2bd3d7e7f1d5</td>\n      <td>XAI Stablecoin</td>\n      <td>XAI</td>\n      <td>18</td>\n      <td>1.005117</td>\n      <td>10100000000000000000</td>\n      <td>10.088297</td>\n      <td>borrow</td>\n    </tr>\n    <tr>\n      <th>28</th>\n      <td>0x84bd007387e25c8e55e116e740aa58c36c6925d04156...</td>\n      <td>0x84bd007387e25c8e55e116e740aa58c36c6925d04156...</td>\n      <td>16625573</td>\n      <td>1676360579</td>\n      <td>0xc0b1f200aa9546ce074397bed7438bb2ec033877</td>\n      <td>0xf5ffabab8f9a6f4f6de1f0dd6e0820f68657d7db</td>\n      <td>0xd998c35b7900b344bbbe6555cc11576942cf309d</td>\n      <td>0.000000</td>\n      <td>None</td>\n      <td>LENDER</td>\n      <td>VARIABLE</td>\n      <td>0xc02aaa39b223fe8d0a0e5c4f27ead9083c756cc2</td>\n      <td>XAI Stablecoin</td>\n      <td>XAI</td>\n      <td>18</td>\n      <td>1.005117</td>\n      <td>10100000000000000000</td>\n      <td>10.088297</td>\n      <td>borrow</td>\n    </tr>\n    <tr>\n      <th>29</th>\n      <td>0x84bd007387e25c8e55e116e740aa58c36c6925d04156...</td>\n      <td>0x84bd007387e25c8e55e116e740aa58c36c6925d04156...</td>\n      <td>16625573</td>\n      <td>1676360579</td>\n      <td>0xc0b1f200aa9546ce074397bed7438bb2ec033877</td>\n      <td>0xf5ffabab8f9a6f4f6de1f0dd6e0820f68657d7db</td>\n      <td>0xd998c35b7900b344bbbe6555cc11576942cf309d</td>\n      <td>0.000000</td>\n      <td>None</td>\n      <td>LENDER</td>\n      <td>VARIABLE</td>\n      <td>0xd7c9f0e536dc865ae858b0c0453fe76d13c3beac</td>\n      <td>XAI Stablecoin</td>\n      <td>XAI</td>\n      <td>18</td>\n      <td>1.005117</td>\n      <td>10100000000000000000</td>\n      <td>10.088297</td>\n      <td>borrow</td>\n    </tr>\n  </tbody>\n</table>\n</div>"
     },
     "execution_count": 10,
     "metadata": {},
     "output_type": "execute_result"
    }
   ],
   "source": [
    "siloBorrowsDb.head(100)"
   ],
   "metadata": {
    "collapsed": false
   }
  },
  {
   "cell_type": "code",
   "execution_count": 11,
   "outputs": [
    {
     "data": {
      "text/plain": "     event                                   transaction_hash  \\\n0   borrow  0x3063cfbced7d9431862437e31adcc3581e9df1cd87d3...   \n6   borrow  0x264ecb6cc9089ebf8fcb6f8ae5ce26358b15b0551e61...   \n12  borrow  0x6726ea9fa581ab0a5fa26b8a112c95e690500f446c39...   \n18  borrow  0x5fca09aaf64619a5d644ed392a64f5bd08b9e6b4b46e...   \n\n    transaction_blockNumber  transaction_timestamp  \\\n0                  16674201             1676950007   \n6                  16648400             1676636519   \n12                 16628130             1676391467   \n18                 16627404             1676382743   \n\n                        transaction_account_id  \\\n0   0xf659faac0401cc19110321dcc7989c101cced8e4   \n6   0xcb6e1613029d790c00f89296808f278d6dc25b2f   \n12  0x9b8b04b6f82cd5e1dae58ca3614d445f93defc5c   \n18  0xc0b1f200aa9546ce074397bed7438bb2ec033877   \n\n                         transaction_market_id transaction_asset_name  \\\n0   0xf5ffabab8f9a6f4f6de1f0dd6e0820f68657d7db                Olympus   \n6   0xf5ffabab8f9a6f4f6de1f0dd6e0820f68657d7db                Olympus   \n12  0xf5ffabab8f9a6f4f6de1f0dd6e0820f68657d7db                Olympus   \n18  0xf5ffabab8f9a6f4f6de1f0dd6e0820f68657d7db                Olympus   \n\n   transaction_asset_symbol  transactionReadableAmount  \\\n0                       OHM                6420.000000   \n6                       OHM                  58.000000   \n12                      OHM                1480.000000   \n18                      OHM                 175.320428   \n\n    transaction_asset_lastPriceUSD  transaction_amountUSD            dateTime  \\\n0                        10.379649           69617.631237 2023-02-21 03:26:47   \n6                        10.379649             615.628222 2023-02-17 12:21:59   \n12                       10.379649           15782.938441 2023-02-14 16:17:47   \n18                       10.379649            1812.167469 2023-02-14 13:52:23   \n\n      calDate  \n0  2023-02-21  \n6  2023-02-17  \n12 2023-02-14  \n18 2023-02-14  ",
      "text/html": "<div>\n<style scoped>\n    .dataframe tbody tr th:only-of-type {\n        vertical-align: middle;\n    }\n\n    .dataframe tbody tr th {\n        vertical-align: top;\n    }\n\n    .dataframe thead th {\n        text-align: right;\n    }\n</style>\n<table border=\"1\" class=\"dataframe\">\n  <thead>\n    <tr style=\"text-align: right;\">\n      <th></th>\n      <th>event</th>\n      <th>transaction_hash</th>\n      <th>transaction_blockNumber</th>\n      <th>transaction_timestamp</th>\n      <th>transaction_account_id</th>\n      <th>transaction_market_id</th>\n      <th>transaction_asset_name</th>\n      <th>transaction_asset_symbol</th>\n      <th>transactionReadableAmount</th>\n      <th>transaction_asset_lastPriceUSD</th>\n      <th>transaction_amountUSD</th>\n      <th>dateTime</th>\n      <th>calDate</th>\n    </tr>\n  </thead>\n  <tbody>\n    <tr>\n      <th>0</th>\n      <td>borrow</td>\n      <td>0x3063cfbced7d9431862437e31adcc3581e9df1cd87d3...</td>\n      <td>16674201</td>\n      <td>1676950007</td>\n      <td>0xf659faac0401cc19110321dcc7989c101cced8e4</td>\n      <td>0xf5ffabab8f9a6f4f6de1f0dd6e0820f68657d7db</td>\n      <td>Olympus</td>\n      <td>OHM</td>\n      <td>6420.000000</td>\n      <td>10.379649</td>\n      <td>69617.631237</td>\n      <td>2023-02-21 03:26:47</td>\n      <td>2023-02-21</td>\n    </tr>\n    <tr>\n      <th>6</th>\n      <td>borrow</td>\n      <td>0x264ecb6cc9089ebf8fcb6f8ae5ce26358b15b0551e61...</td>\n      <td>16648400</td>\n      <td>1676636519</td>\n      <td>0xcb6e1613029d790c00f89296808f278d6dc25b2f</td>\n      <td>0xf5ffabab8f9a6f4f6de1f0dd6e0820f68657d7db</td>\n      <td>Olympus</td>\n      <td>OHM</td>\n      <td>58.000000</td>\n      <td>10.379649</td>\n      <td>615.628222</td>\n      <td>2023-02-17 12:21:59</td>\n      <td>2023-02-17</td>\n    </tr>\n    <tr>\n      <th>12</th>\n      <td>borrow</td>\n      <td>0x6726ea9fa581ab0a5fa26b8a112c95e690500f446c39...</td>\n      <td>16628130</td>\n      <td>1676391467</td>\n      <td>0x9b8b04b6f82cd5e1dae58ca3614d445f93defc5c</td>\n      <td>0xf5ffabab8f9a6f4f6de1f0dd6e0820f68657d7db</td>\n      <td>Olympus</td>\n      <td>OHM</td>\n      <td>1480.000000</td>\n      <td>10.379649</td>\n      <td>15782.938441</td>\n      <td>2023-02-14 16:17:47</td>\n      <td>2023-02-14</td>\n    </tr>\n    <tr>\n      <th>18</th>\n      <td>borrow</td>\n      <td>0x5fca09aaf64619a5d644ed392a64f5bd08b9e6b4b46e...</td>\n      <td>16627404</td>\n      <td>1676382743</td>\n      <td>0xc0b1f200aa9546ce074397bed7438bb2ec033877</td>\n      <td>0xf5ffabab8f9a6f4f6de1f0dd6e0820f68657d7db</td>\n      <td>Olympus</td>\n      <td>OHM</td>\n      <td>175.320428</td>\n      <td>10.379649</td>\n      <td>1812.167469</td>\n      <td>2023-02-14 13:52:23</td>\n      <td>2023-02-14</td>\n    </tr>\n  </tbody>\n</table>\n</div>"
     },
     "execution_count": 11,
     "metadata": {},
     "output_type": "execute_result"
    }
   ],
   "source": [
    "siloBorrowsDb['transactionReadableAmount'] = siloBorrowsDb['transaction_amount']/(10**(siloBorrowsDb['transaction_asset_decimals']))\n",
    "siloBorrowsDb['transactionReadableAmount']=siloBorrowsDb['transactionReadableAmount'].astype('float')\n",
    "siloBorrowsDb['dateTime'] =(pd.to_datetime(siloBorrowsDb['transaction_timestamp'],unit='s'))\n",
    "\n",
    "\n",
    "\n",
    "#we only want borrowing in GOHM from those that borrowed, so drop anyone that is not on that side\n",
    "#we only want withdrawals in GOHM from those that borrowed, so drop anyone that is not on that side\n",
    "siloBorrowsDb.drop(siloBorrowsDb.loc[(siloBorrowsDb['transaction_market_rates_side']!='BORROWER') &(siloBorrowsDb['transaction_asset_symbol']!='OHM') ].index, inplace=True)\n",
    "#siloBorrowsDb.drop(siloWithdrawsDb.loc[(siloBorrowsDb['transaction_asset_name']=='Olympus')].index, inplace=True)\n",
    "siloBorrowsDb = db.query(\"select distinct * from siloBorrowsDb where lower(transaction_asset_symbol) = 'ohm'\").df()\n",
    "\n",
    "siloBorrowEventsDbTimedClean = siloBorrowsDb[['event','transaction_hash','transaction_blockNumber','transaction_timestamp','transaction_account_id','transaction_market_id','transaction_asset_name','transaction_asset_symbol', 'transactionReadableAmount','transaction_asset_lastPriceUSD','transaction_amountUSD','dateTime']].copy()\n",
    "siloBorrowEventsDbTimedClean.sort_values(by=['event','transaction_hash','transaction_blockNumber','transaction_timestamp','transaction_account_id','transaction_market_id','transaction_asset_name','transaction_asset_symbol', 'transactionReadableAmount','transaction_asset_lastPriceUSD','transaction_amountUSD','dateTime'])\n",
    "siloBorrowEventsDbTimedClean.drop_duplicates(subset=['transaction_hash'],keep='first', inplace=True)\n",
    "siloBorrowEventsDbTimedClean['calDate'] = siloBorrowEventsDbTimedClean['dateTime'].dt.normalize()\n",
    "siloBorrowEventsDbTimedClean.head(100)"
   ],
   "metadata": {
    "collapsed": false
   }
  },
  {
   "cell_type": "code",
   "execution_count": 12,
   "outputs": [
    {
     "name": "stdout",
     "output_type": "stream",
     "text": [
      "D:\\Dropbox\\Documents\\Edgecaser LLC\\Projects\\Olympus\\Econohmetrics\\ohmBorrowing/data/siloFinanceGohmBorrows_piped.csv file saved, 4  records\n"
     ]
    }
   ],
   "source": [
    "path =file+'/siloFinanceGohmBorrows.csv'\n",
    "siloBorrowEventsDbTimedClean.to_csv(path, index = False)\n",
    "\n",
    "path =file+'/siloFinanceGohmBorrows_piped.csv'\n",
    "siloBorrowEventsDbTimedClean.to_csv(path, index = False, sep='|')\n",
    "print(path, 'file saved,', len(siloBorrowEventsDbTimedClean),' records')"
   ],
   "metadata": {
    "collapsed": false
   }
  },
  {
   "cell_type": "code",
   "execution_count": 13,
   "outputs": [
    {
     "name": "stdout",
     "output_type": "stream",
     "text": [
      "A total of  8133.320427647 OHM has been borrowed, or USD$ 87828.37 over time\n"
     ]
    }
   ],
   "source": [
    "totalBorrowedOHM = sum(siloBorrowEventsDbTimedClean['transactionReadableAmount'])\n",
    "totalBorrowedUSD = sum(siloBorrowEventsDbTimedClean['transaction_amountUSD'])\n",
    "print('A total of ',totalBorrowedOHM, 'OHM has been borrowed, or USD$',round(totalBorrowedUSD,2),  'over time')"
   ],
   "metadata": {
    "collapsed": false
   }
  },
  {
   "cell_type": "markdown",
   "source": [
    "************************************************************************************\n",
    "*************************************************************************************\n",
    "SILO DEPOSITS"
   ],
   "metadata": {
    "collapsed": false
   }
  },
  {
   "cell_type": "code",
   "execution_count": 14,
   "outputs": [
    {
     "data": {
      "text/plain": "     event                                   transaction_hash  \\\n0  deposit  0x1c37394aaabc2445a66b61a360cf08ae096b7582e2ed...   \n1  deposit  0xf9bbcc923182fb6406e97fce0f92c22c87a284d55812...   \n2  deposit  0x0aa351eb8ff1ca2bd6c4e65229f83c7e5b596d72c889...   \n\n   transaction_blockNumber  transaction_timestamp  \\\n0                 16646360             1676611691   \n1                 16627144             1676379599   \n2                 16625541             1676360171   \n\n                       transaction_account_id  \\\n0  0x9b53bed0d62028c0fc5d2006c076cb33e6e6cecd   \n1  0x245cc372c84b3645bf0ffe6538620b04a217988b   \n2  0xc0b1f200aa9546ce074397bed7438bb2ec033877   \n\n                        transaction_market_id transaction_asset_name  \\\n0  0xf5ffabab8f9a6f4f6de1f0dd6e0820f68657d7db                Olympus   \n1  0xf5ffabab8f9a6f4f6de1f0dd6e0820f68657d7db                Olympus   \n2  0xf5ffabab8f9a6f4f6de1f0dd6e0820f68657d7db                Olympus   \n\n  transaction_asset_symbol  transactionReadableAmount  \\\n0                      OHM                  10.000000   \n1                      OHM               20000.000000   \n2                      OHM                   2.514698   \n\n   transaction_asset_lastPriceUSD  transaction_amountUSD             dateTime  \\\n0                       10.463267             105.925340  2023-02-17 05:28:11   \n1                       10.463267          206726.334541  2023-02-14 12:59:59   \n2                       10.463267              26.317329  2023-02-14 07:36:11   \n\n      calDate  \n0  2023-02-17  \n1  2023-02-14  \n2  2023-02-14  ",
      "text/html": "<div>\n<style scoped>\n    .dataframe tbody tr th:only-of-type {\n        vertical-align: middle;\n    }\n\n    .dataframe tbody tr th {\n        vertical-align: top;\n    }\n\n    .dataframe thead th {\n        text-align: right;\n    }\n</style>\n<table border=\"1\" class=\"dataframe\">\n  <thead>\n    <tr style=\"text-align: right;\">\n      <th></th>\n      <th>event</th>\n      <th>transaction_hash</th>\n      <th>transaction_blockNumber</th>\n      <th>transaction_timestamp</th>\n      <th>transaction_account_id</th>\n      <th>transaction_market_id</th>\n      <th>transaction_asset_name</th>\n      <th>transaction_asset_symbol</th>\n      <th>transactionReadableAmount</th>\n      <th>transaction_asset_lastPriceUSD</th>\n      <th>transaction_amountUSD</th>\n      <th>dateTime</th>\n      <th>calDate</th>\n    </tr>\n  </thead>\n  <tbody>\n    <tr>\n      <th>0</th>\n      <td>deposit</td>\n      <td>0x1c37394aaabc2445a66b61a360cf08ae096b7582e2ed...</td>\n      <td>16646360</td>\n      <td>1676611691</td>\n      <td>0x9b53bed0d62028c0fc5d2006c076cb33e6e6cecd</td>\n      <td>0xf5ffabab8f9a6f4f6de1f0dd6e0820f68657d7db</td>\n      <td>Olympus</td>\n      <td>OHM</td>\n      <td>10.000000</td>\n      <td>10.463267</td>\n      <td>105.925340</td>\n      <td>2023-02-17 05:28:11</td>\n      <td>2023-02-17</td>\n    </tr>\n    <tr>\n      <th>1</th>\n      <td>deposit</td>\n      <td>0xf9bbcc923182fb6406e97fce0f92c22c87a284d55812...</td>\n      <td>16627144</td>\n      <td>1676379599</td>\n      <td>0x245cc372c84b3645bf0ffe6538620b04a217988b</td>\n      <td>0xf5ffabab8f9a6f4f6de1f0dd6e0820f68657d7db</td>\n      <td>Olympus</td>\n      <td>OHM</td>\n      <td>20000.000000</td>\n      <td>10.463267</td>\n      <td>206726.334541</td>\n      <td>2023-02-14 12:59:59</td>\n      <td>2023-02-14</td>\n    </tr>\n    <tr>\n      <th>2</th>\n      <td>deposit</td>\n      <td>0x0aa351eb8ff1ca2bd6c4e65229f83c7e5b596d72c889...</td>\n      <td>16625541</td>\n      <td>1676360171</td>\n      <td>0xc0b1f200aa9546ce074397bed7438bb2ec033877</td>\n      <td>0xf5ffabab8f9a6f4f6de1f0dd6e0820f68657d7db</td>\n      <td>Olympus</td>\n      <td>OHM</td>\n      <td>2.514698</td>\n      <td>10.463267</td>\n      <td>26.317329</td>\n      <td>2023-02-14 07:36:11</td>\n      <td>2023-02-14</td>\n    </tr>\n  </tbody>\n</table>\n</div>"
     },
     "execution_count": 14,
     "metadata": {},
     "output_type": "execute_result"
    }
   ],
   "source": [
    "oldSiloDepositsDb = pd.DataFrame()\n",
    "siloFileName = file+'/siloFinanceGohmDeposits.csv'\n",
    "try:\n",
    "    oldSiloDepositsDb = pd.read_csv (siloFileName)\n",
    "except:\n",
    "    oldSiloDepositsDb = pd.DataFrame()\n",
    "oldSiloDepositsDb.head(100)"
   ],
   "metadata": {
    "collapsed": false
   }
  },
  {
   "cell_type": "code",
   "execution_count": 15,
   "outputs": [
    {
     "data": {
      "text/plain": "0"
     },
     "execution_count": 15,
     "metadata": {},
     "output_type": "execute_result"
    }
   ],
   "source": [
    "maxSiloDepositsTimestamp = 0\n",
    "try:\n",
    "    maxSiloDepositsTimestamp = (max(0,oldSiloDepositssDb['transaction_timestamp'].max()))-5\n",
    "except:\n",
    "        maxSiloDepositsTimestamp = 0\n",
    "maxSiloDepositsTimestamp = int(maxSiloDepositsTimestamp)\n",
    "maxSiloDepositsTimestamp"
   ],
   "metadata": {
    "collapsed": false
   }
  },
  {
   "cell_type": "code",
   "execution_count": 16,
   "outputs": [
    {
     "name": "stdout",
     "output_type": "stream",
     "text": [
      "iterations:  0 Lines skipped:  0 records collected:  72  - latest recordID:  0x0ceec06c6de27fa4e52ce6dd1cc7af9421d0a70a75833671a38d263469aa157a   0x0ceec06c6de27fa4e52ce6dd1cc7af9421d0a70a75833671a38d263469aa157a-218  - deposits DB length:  72  - latest record from:  2023-02-20 19:25:23 3 days ago\n",
      "Done. Total Records collected:  72\n"
     ]
    }
   ],
   "source": [
    "##this captures the ENTIRE list of people who deposited OHM\n",
    "depositTicker = 0\n",
    "depositslist = pd.DataFrame()\n",
    "siloDepositsDb = pd.DataFrame()\n",
    "depositListLength = 1000\n",
    "datediff = 0\n",
    "now=0\n",
    "daysAgo=0\n",
    "#daysLimit = 45\n",
    "exit = False\n",
    "while exit==False:\n",
    "    skipValue = (depositTicker)*(1000)\n",
    "    deposits = silo.Query.deposits(\n",
    "        orderBy='timestamp',\n",
    "        orderDirection='desc',\n",
    "        first=1000,\n",
    "        skip = skipValue,\n",
    "        where={ 'market': '0xf5ffabab8f9a6f4f6de1f0dd6e0820f68657d7db'\n",
    "                ,'timestamp_gte': maxSiloDepositsTimestamp\n",
    "                } #gOHM market\n",
    "    )\n",
    "\n",
    "    depositslist = sg.query_df([\n",
    "        deposits.id\n",
    "        ,deposits.hash\n",
    "        ,deposits.blockNumber\n",
    "        ,deposits.timestamp\n",
    "        ,deposits.account.id\n",
    "        ,deposits.market.id\n",
    "        ,deposits.market.protocol.id\n",
    "        ,deposits.market.rates.rate\n",
    "        ,deposits.market.rates.duration\n",
    "        ,deposits.market.rates.side\n",
    "        ,deposits.market.rates.type\n",
    "        ,deposits.market.rates.token.id\n",
    "        ,deposits.asset.name\n",
    "        ,deposits.asset.symbol\n",
    "        ,deposits.asset.decimals\n",
    "        ,deposits.asset.lastPriceUSD\n",
    "        ,deposits.amount\n",
    "        ,deposits.amountUSD\n",
    "    ])\n",
    "\n",
    "    siloDepositsDb=pd.concat([siloDepositsDb, depositslist])\n",
    "    recordTimestamp1 = siloDepositsDb.iat[depositTicker,3]\n",
    "    recordTimestamp = dt.datetime.fromtimestamp( recordTimestamp1 )\n",
    "    now = (int(dt.datetime.utcnow().timestamp()))\n",
    "    datediff=abs(int(now) - recordTimestamp1)\n",
    "    daysAgo = int(datediff/86400)\n",
    "    siloDepositsDbLength = len(siloDepositsDb)\n",
    "    siloDepositListLength = len(depositslist)\n",
    "    recordID = siloDepositsDb.iat[depositTicker,0]\n",
    "    deposit = siloDepositsDb.iat[depositTicker,1]\n",
    "    print(\"iterations: \", depositTicker, \"Lines skipped: \",skipValue, \"records collected: \", siloDepositListLength, \" - latest recordID: \",deposit, \" \", recordID , \" - deposits DB length: \", siloDepositsDbLength, \" - latest record from: \", recordTimestamp, daysAgo,\"days ago\")\n",
    "    #print(\"iterations: \", depositTicker, \"records collected: \", depositListLength, \" - userdb length: \", depositsDbLength)\n",
    "    depositTicker = depositTicker+1\n",
    "\n",
    "    if daysAgo>daysLimit: exit =True\n",
    "    if siloDepositListLength<1000: exit =True\n",
    "\n",
    "siloDepositsDb.columns = siloDepositsDb.columns.str.replace(\"deposits\", \"transaction\")\n",
    "siloDepositsDb['event']='deposit'\n",
    "siloDepositsDb.drop_duplicates\n",
    "print(\"Done. Total Records collected: \", siloDepositsDbLength)"
   ],
   "metadata": {
    "collapsed": false
   }
  },
  {
   "cell_type": "code",
   "execution_count": 17,
   "outputs": [
    {
     "data": {
      "text/plain": "                                      transaction_id  \\\n0  0x0ceec06c6de27fa4e52ce6dd1cc7af9421d0a70a7583...   \n1  0x0ceec06c6de27fa4e52ce6dd1cc7af9421d0a70a7583...   \n2  0x0ceec06c6de27fa4e52ce6dd1cc7af9421d0a70a7583...   \n3  0x0ceec06c6de27fa4e52ce6dd1cc7af9421d0a70a7583...   \n4  0x0ceec06c6de27fa4e52ce6dd1cc7af9421d0a70a7583...   \n5  0x0ceec06c6de27fa4e52ce6dd1cc7af9421d0a70a7583...   \n6  0xa3c1b116f0bdff039f4969bd23a7fb83b8ddb2f5efac...   \n7  0xa3c1b116f0bdff039f4969bd23a7fb83b8ddb2f5efac...   \n8  0xa3c1b116f0bdff039f4969bd23a7fb83b8ddb2f5efac...   \n9  0xa3c1b116f0bdff039f4969bd23a7fb83b8ddb2f5efac...   \n\n                                    transaction_hash  transaction_blockNumber  \\\n0  0x0ceec06c6de27fa4e52ce6dd1cc7af9421d0a70a7583...                 16674194   \n1  0x0ceec06c6de27fa4e52ce6dd1cc7af9421d0a70a7583...                 16674194   \n2  0x0ceec06c6de27fa4e52ce6dd1cc7af9421d0a70a7583...                 16674194   \n3  0x0ceec06c6de27fa4e52ce6dd1cc7af9421d0a70a7583...                 16674194   \n4  0x0ceec06c6de27fa4e52ce6dd1cc7af9421d0a70a7583...                 16674194   \n5  0x0ceec06c6de27fa4e52ce6dd1cc7af9421d0a70a7583...                 16674194   \n6  0xa3c1b116f0bdff039f4969bd23a7fb83b8ddb2f5efac...                 16648394   \n7  0xa3c1b116f0bdff039f4969bd23a7fb83b8ddb2f5efac...                 16648394   \n8  0xa3c1b116f0bdff039f4969bd23a7fb83b8ddb2f5efac...                 16648394   \n9  0xa3c1b116f0bdff039f4969bd23a7fb83b8ddb2f5efac...                 16648394   \n\n   transaction_timestamp                      transaction_account_id  \\\n0             1676949923  0xf659faac0401cc19110321dcc7989c101cced8e4   \n1             1676949923  0xf659faac0401cc19110321dcc7989c101cced8e4   \n2             1676949923  0xf659faac0401cc19110321dcc7989c101cced8e4   \n3             1676949923  0xf659faac0401cc19110321dcc7989c101cced8e4   \n4             1676949923  0xf659faac0401cc19110321dcc7989c101cced8e4   \n5             1676949923  0xf659faac0401cc19110321dcc7989c101cced8e4   \n6             1676636447  0xcb6e1613029d790c00f89296808f278d6dc25b2f   \n7             1676636447  0xcb6e1613029d790c00f89296808f278d6dc25b2f   \n8             1676636447  0xcb6e1613029d790c00f89296808f278d6dc25b2f   \n9             1676636447  0xcb6e1613029d790c00f89296808f278d6dc25b2f   \n\n                        transaction_market_id  \\\n0  0xf5ffabab8f9a6f4f6de1f0dd6e0820f68657d7db   \n1  0xf5ffabab8f9a6f4f6de1f0dd6e0820f68657d7db   \n2  0xf5ffabab8f9a6f4f6de1f0dd6e0820f68657d7db   \n3  0xf5ffabab8f9a6f4f6de1f0dd6e0820f68657d7db   \n4  0xf5ffabab8f9a6f4f6de1f0dd6e0820f68657d7db   \n5  0xf5ffabab8f9a6f4f6de1f0dd6e0820f68657d7db   \n6  0xf5ffabab8f9a6f4f6de1f0dd6e0820f68657d7db   \n7  0xf5ffabab8f9a6f4f6de1f0dd6e0820f68657d7db   \n8  0xf5ffabab8f9a6f4f6de1f0dd6e0820f68657d7db   \n9  0xf5ffabab8f9a6f4f6de1f0dd6e0820f68657d7db   \n\n               transaction_market_protocol_id  transaction_market_rates_rate  \\\n0  0xd998c35b7900b344bbbe6555cc11576942cf309d                       5.656345   \n1  0xd998c35b7900b344bbbe6555cc11576942cf309d                       0.000000   \n2  0xd998c35b7900b344bbbe6555cc11576942cf309d                       0.000000   \n3  0xd998c35b7900b344bbbe6555cc11576942cf309d                       2.285402   \n4  0xd998c35b7900b344bbbe6555cc11576942cf309d                       0.000000   \n5  0xd998c35b7900b344bbbe6555cc11576942cf309d                       0.000000   \n6  0xd998c35b7900b344bbbe6555cc11576942cf309d                       5.656345   \n7  0xd998c35b7900b344bbbe6555cc11576942cf309d                       0.000000   \n8  0xd998c35b7900b344bbbe6555cc11576942cf309d                       0.000000   \n9  0xd998c35b7900b344bbbe6555cc11576942cf309d                       2.285402   \n\n  transaction_market_rates_duration transaction_market_rates_side  \\\n0                              None                      BORROWER   \n1                              None                      BORROWER   \n2                              None                      BORROWER   \n3                              None                        LENDER   \n4                              None                        LENDER   \n5                              None                        LENDER   \n6                              None                      BORROWER   \n7                              None                      BORROWER   \n8                              None                      BORROWER   \n9                              None                        LENDER   \n\n  transaction_market_rates_type           transaction_market_rates_token_id  \\\n0                      VARIABLE  0x64aa3364f17a4d01c6f1751fd97c2bd3d7e7f1d5   \n1                      VARIABLE  0xc02aaa39b223fe8d0a0e5c4f27ead9083c756cc2   \n2                      VARIABLE  0xd7c9f0e536dc865ae858b0c0453fe76d13c3beac   \n3                      VARIABLE  0x64aa3364f17a4d01c6f1751fd97c2bd3d7e7f1d5   \n4                      VARIABLE  0xc02aaa39b223fe8d0a0e5c4f27ead9083c756cc2   \n5                      VARIABLE  0xd7c9f0e536dc865ae858b0c0453fe76d13c3beac   \n6                      VARIABLE  0x64aa3364f17a4d01c6f1751fd97c2bd3d7e7f1d5   \n7                      VARIABLE  0xc02aaa39b223fe8d0a0e5c4f27ead9083c756cc2   \n8                      VARIABLE  0xd7c9f0e536dc865ae858b0c0453fe76d13c3beac   \n9                      VARIABLE  0x64aa3364f17a4d01c6f1751fd97c2bd3d7e7f1d5   \n\n  transaction_asset_name transaction_asset_symbol  transaction_asset_decimals  \\\n0         XAI Stablecoin                      XAI                          18   \n1         XAI Stablecoin                      XAI                          18   \n2         XAI Stablecoin                      XAI                          18   \n3         XAI Stablecoin                      XAI                          18   \n4         XAI Stablecoin                      XAI                          18   \n5         XAI Stablecoin                      XAI                          18   \n6          Wrapped Ether                     WETH                          18   \n7          Wrapped Ether                     WETH                          18   \n8          Wrapped Ether                     WETH                          18   \n9          Wrapped Ether                     WETH                          18   \n\n   transaction_asset_lastPriceUSD       transaction_amount  \\\n0                        1.005117  99941732127782654852940   \n1                        1.005117  99941732127782654852940   \n2                        1.005117  99941732127782654852940   \n3                        1.005117  99941732127782654852940   \n4                        1.005117  99941732127782654852940   \n5                        1.005117  99941732127782654852940   \n6                     1655.794128       500000000000000000   \n7                     1655.794128       500000000000000000   \n8                     1655.794128       500000000000000000   \n9                     1655.794128       500000000000000000   \n\n   transaction_amountUSD    event  \n0          100524.640608  deposit  \n1          100524.640608  deposit  \n2          100524.640608  deposit  \n3          100524.640608  deposit  \n4          100524.640608  deposit  \n5          100524.640608  deposit  \n6             829.050000  deposit  \n7             829.050000  deposit  \n8             829.050000  deposit  \n9             829.050000  deposit  ",
      "text/html": "<div>\n<style scoped>\n    .dataframe tbody tr th:only-of-type {\n        vertical-align: middle;\n    }\n\n    .dataframe tbody tr th {\n        vertical-align: top;\n    }\n\n    .dataframe thead th {\n        text-align: right;\n    }\n</style>\n<table border=\"1\" class=\"dataframe\">\n  <thead>\n    <tr style=\"text-align: right;\">\n      <th></th>\n      <th>transaction_id</th>\n      <th>transaction_hash</th>\n      <th>transaction_blockNumber</th>\n      <th>transaction_timestamp</th>\n      <th>transaction_account_id</th>\n      <th>transaction_market_id</th>\n      <th>transaction_market_protocol_id</th>\n      <th>transaction_market_rates_rate</th>\n      <th>transaction_market_rates_duration</th>\n      <th>transaction_market_rates_side</th>\n      <th>transaction_market_rates_type</th>\n      <th>transaction_market_rates_token_id</th>\n      <th>transaction_asset_name</th>\n      <th>transaction_asset_symbol</th>\n      <th>transaction_asset_decimals</th>\n      <th>transaction_asset_lastPriceUSD</th>\n      <th>transaction_amount</th>\n      <th>transaction_amountUSD</th>\n      <th>event</th>\n    </tr>\n  </thead>\n  <tbody>\n    <tr>\n      <th>0</th>\n      <td>0x0ceec06c6de27fa4e52ce6dd1cc7af9421d0a70a7583...</td>\n      <td>0x0ceec06c6de27fa4e52ce6dd1cc7af9421d0a70a7583...</td>\n      <td>16674194</td>\n      <td>1676949923</td>\n      <td>0xf659faac0401cc19110321dcc7989c101cced8e4</td>\n      <td>0xf5ffabab8f9a6f4f6de1f0dd6e0820f68657d7db</td>\n      <td>0xd998c35b7900b344bbbe6555cc11576942cf309d</td>\n      <td>5.656345</td>\n      <td>None</td>\n      <td>BORROWER</td>\n      <td>VARIABLE</td>\n      <td>0x64aa3364f17a4d01c6f1751fd97c2bd3d7e7f1d5</td>\n      <td>XAI Stablecoin</td>\n      <td>XAI</td>\n      <td>18</td>\n      <td>1.005117</td>\n      <td>99941732127782654852940</td>\n      <td>100524.640608</td>\n      <td>deposit</td>\n    </tr>\n    <tr>\n      <th>1</th>\n      <td>0x0ceec06c6de27fa4e52ce6dd1cc7af9421d0a70a7583...</td>\n      <td>0x0ceec06c6de27fa4e52ce6dd1cc7af9421d0a70a7583...</td>\n      <td>16674194</td>\n      <td>1676949923</td>\n      <td>0xf659faac0401cc19110321dcc7989c101cced8e4</td>\n      <td>0xf5ffabab8f9a6f4f6de1f0dd6e0820f68657d7db</td>\n      <td>0xd998c35b7900b344bbbe6555cc11576942cf309d</td>\n      <td>0.000000</td>\n      <td>None</td>\n      <td>BORROWER</td>\n      <td>VARIABLE</td>\n      <td>0xc02aaa39b223fe8d0a0e5c4f27ead9083c756cc2</td>\n      <td>XAI Stablecoin</td>\n      <td>XAI</td>\n      <td>18</td>\n      <td>1.005117</td>\n      <td>99941732127782654852940</td>\n      <td>100524.640608</td>\n      <td>deposit</td>\n    </tr>\n    <tr>\n      <th>2</th>\n      <td>0x0ceec06c6de27fa4e52ce6dd1cc7af9421d0a70a7583...</td>\n      <td>0x0ceec06c6de27fa4e52ce6dd1cc7af9421d0a70a7583...</td>\n      <td>16674194</td>\n      <td>1676949923</td>\n      <td>0xf659faac0401cc19110321dcc7989c101cced8e4</td>\n      <td>0xf5ffabab8f9a6f4f6de1f0dd6e0820f68657d7db</td>\n      <td>0xd998c35b7900b344bbbe6555cc11576942cf309d</td>\n      <td>0.000000</td>\n      <td>None</td>\n      <td>BORROWER</td>\n      <td>VARIABLE</td>\n      <td>0xd7c9f0e536dc865ae858b0c0453fe76d13c3beac</td>\n      <td>XAI Stablecoin</td>\n      <td>XAI</td>\n      <td>18</td>\n      <td>1.005117</td>\n      <td>99941732127782654852940</td>\n      <td>100524.640608</td>\n      <td>deposit</td>\n    </tr>\n    <tr>\n      <th>3</th>\n      <td>0x0ceec06c6de27fa4e52ce6dd1cc7af9421d0a70a7583...</td>\n      <td>0x0ceec06c6de27fa4e52ce6dd1cc7af9421d0a70a7583...</td>\n      <td>16674194</td>\n      <td>1676949923</td>\n      <td>0xf659faac0401cc19110321dcc7989c101cced8e4</td>\n      <td>0xf5ffabab8f9a6f4f6de1f0dd6e0820f68657d7db</td>\n      <td>0xd998c35b7900b344bbbe6555cc11576942cf309d</td>\n      <td>2.285402</td>\n      <td>None</td>\n      <td>LENDER</td>\n      <td>VARIABLE</td>\n      <td>0x64aa3364f17a4d01c6f1751fd97c2bd3d7e7f1d5</td>\n      <td>XAI Stablecoin</td>\n      <td>XAI</td>\n      <td>18</td>\n      <td>1.005117</td>\n      <td>99941732127782654852940</td>\n      <td>100524.640608</td>\n      <td>deposit</td>\n    </tr>\n    <tr>\n      <th>4</th>\n      <td>0x0ceec06c6de27fa4e52ce6dd1cc7af9421d0a70a7583...</td>\n      <td>0x0ceec06c6de27fa4e52ce6dd1cc7af9421d0a70a7583...</td>\n      <td>16674194</td>\n      <td>1676949923</td>\n      <td>0xf659faac0401cc19110321dcc7989c101cced8e4</td>\n      <td>0xf5ffabab8f9a6f4f6de1f0dd6e0820f68657d7db</td>\n      <td>0xd998c35b7900b344bbbe6555cc11576942cf309d</td>\n      <td>0.000000</td>\n      <td>None</td>\n      <td>LENDER</td>\n      <td>VARIABLE</td>\n      <td>0xc02aaa39b223fe8d0a0e5c4f27ead9083c756cc2</td>\n      <td>XAI Stablecoin</td>\n      <td>XAI</td>\n      <td>18</td>\n      <td>1.005117</td>\n      <td>99941732127782654852940</td>\n      <td>100524.640608</td>\n      <td>deposit</td>\n    </tr>\n    <tr>\n      <th>5</th>\n      <td>0x0ceec06c6de27fa4e52ce6dd1cc7af9421d0a70a7583...</td>\n      <td>0x0ceec06c6de27fa4e52ce6dd1cc7af9421d0a70a7583...</td>\n      <td>16674194</td>\n      <td>1676949923</td>\n      <td>0xf659faac0401cc19110321dcc7989c101cced8e4</td>\n      <td>0xf5ffabab8f9a6f4f6de1f0dd6e0820f68657d7db</td>\n      <td>0xd998c35b7900b344bbbe6555cc11576942cf309d</td>\n      <td>0.000000</td>\n      <td>None</td>\n      <td>LENDER</td>\n      <td>VARIABLE</td>\n      <td>0xd7c9f0e536dc865ae858b0c0453fe76d13c3beac</td>\n      <td>XAI Stablecoin</td>\n      <td>XAI</td>\n      <td>18</td>\n      <td>1.005117</td>\n      <td>99941732127782654852940</td>\n      <td>100524.640608</td>\n      <td>deposit</td>\n    </tr>\n    <tr>\n      <th>6</th>\n      <td>0xa3c1b116f0bdff039f4969bd23a7fb83b8ddb2f5efac...</td>\n      <td>0xa3c1b116f0bdff039f4969bd23a7fb83b8ddb2f5efac...</td>\n      <td>16648394</td>\n      <td>1676636447</td>\n      <td>0xcb6e1613029d790c00f89296808f278d6dc25b2f</td>\n      <td>0xf5ffabab8f9a6f4f6de1f0dd6e0820f68657d7db</td>\n      <td>0xd998c35b7900b344bbbe6555cc11576942cf309d</td>\n      <td>5.656345</td>\n      <td>None</td>\n      <td>BORROWER</td>\n      <td>VARIABLE</td>\n      <td>0x64aa3364f17a4d01c6f1751fd97c2bd3d7e7f1d5</td>\n      <td>Wrapped Ether</td>\n      <td>WETH</td>\n      <td>18</td>\n      <td>1655.794128</td>\n      <td>500000000000000000</td>\n      <td>829.050000</td>\n      <td>deposit</td>\n    </tr>\n    <tr>\n      <th>7</th>\n      <td>0xa3c1b116f0bdff039f4969bd23a7fb83b8ddb2f5efac...</td>\n      <td>0xa3c1b116f0bdff039f4969bd23a7fb83b8ddb2f5efac...</td>\n      <td>16648394</td>\n      <td>1676636447</td>\n      <td>0xcb6e1613029d790c00f89296808f278d6dc25b2f</td>\n      <td>0xf5ffabab8f9a6f4f6de1f0dd6e0820f68657d7db</td>\n      <td>0xd998c35b7900b344bbbe6555cc11576942cf309d</td>\n      <td>0.000000</td>\n      <td>None</td>\n      <td>BORROWER</td>\n      <td>VARIABLE</td>\n      <td>0xc02aaa39b223fe8d0a0e5c4f27ead9083c756cc2</td>\n      <td>Wrapped Ether</td>\n      <td>WETH</td>\n      <td>18</td>\n      <td>1655.794128</td>\n      <td>500000000000000000</td>\n      <td>829.050000</td>\n      <td>deposit</td>\n    </tr>\n    <tr>\n      <th>8</th>\n      <td>0xa3c1b116f0bdff039f4969bd23a7fb83b8ddb2f5efac...</td>\n      <td>0xa3c1b116f0bdff039f4969bd23a7fb83b8ddb2f5efac...</td>\n      <td>16648394</td>\n      <td>1676636447</td>\n      <td>0xcb6e1613029d790c00f89296808f278d6dc25b2f</td>\n      <td>0xf5ffabab8f9a6f4f6de1f0dd6e0820f68657d7db</td>\n      <td>0xd998c35b7900b344bbbe6555cc11576942cf309d</td>\n      <td>0.000000</td>\n      <td>None</td>\n      <td>BORROWER</td>\n      <td>VARIABLE</td>\n      <td>0xd7c9f0e536dc865ae858b0c0453fe76d13c3beac</td>\n      <td>Wrapped Ether</td>\n      <td>WETH</td>\n      <td>18</td>\n      <td>1655.794128</td>\n      <td>500000000000000000</td>\n      <td>829.050000</td>\n      <td>deposit</td>\n    </tr>\n    <tr>\n      <th>9</th>\n      <td>0xa3c1b116f0bdff039f4969bd23a7fb83b8ddb2f5efac...</td>\n      <td>0xa3c1b116f0bdff039f4969bd23a7fb83b8ddb2f5efac...</td>\n      <td>16648394</td>\n      <td>1676636447</td>\n      <td>0xcb6e1613029d790c00f89296808f278d6dc25b2f</td>\n      <td>0xf5ffabab8f9a6f4f6de1f0dd6e0820f68657d7db</td>\n      <td>0xd998c35b7900b344bbbe6555cc11576942cf309d</td>\n      <td>2.285402</td>\n      <td>None</td>\n      <td>LENDER</td>\n      <td>VARIABLE</td>\n      <td>0x64aa3364f17a4d01c6f1751fd97c2bd3d7e7f1d5</td>\n      <td>Wrapped Ether</td>\n      <td>WETH</td>\n      <td>18</td>\n      <td>1655.794128</td>\n      <td>500000000000000000</td>\n      <td>829.050000</td>\n      <td>deposit</td>\n    </tr>\n  </tbody>\n</table>\n</div>"
     },
     "execution_count": 17,
     "metadata": {},
     "output_type": "execute_result"
    }
   ],
   "source": [
    "siloDepositsDb.head(10)"
   ],
   "metadata": {
    "collapsed": false
   }
  },
  {
   "cell_type": "code",
   "execution_count": 18,
   "outputs": [
    {
     "data": {
      "text/plain": "      event                                   transaction_hash  \\\n12  deposit  0x1c37394aaabc2445a66b61a360cf08ae096b7582e2ed...   \n42  deposit  0xf9bbcc923182fb6406e97fce0f92c22c87a284d55812...   \n48  deposit  0x0aa351eb8ff1ca2bd6c4e65229f83c7e5b596d72c889...   \n\n    transaction_blockNumber  transaction_timestamp  \\\n12                 16646360             1676611691   \n42                 16627144             1676379599   \n48                 16625541             1676360171   \n\n                        transaction_account_id  \\\n12  0x9b53bed0d62028c0fc5d2006c076cb33e6e6cecd   \n42  0x245cc372c84b3645bf0ffe6538620b04a217988b   \n48  0xc0b1f200aa9546ce074397bed7438bb2ec033877   \n\n                         transaction_market_id transaction_asset_name  \\\n12  0xf5ffabab8f9a6f4f6de1f0dd6e0820f68657d7db                Olympus   \n42  0xf5ffabab8f9a6f4f6de1f0dd6e0820f68657d7db                Olympus   \n48  0xf5ffabab8f9a6f4f6de1f0dd6e0820f68657d7db                Olympus   \n\n   transaction_asset_symbol  transactionReadableAmount  \\\n12                      OHM                  10.000000   \n42                      OHM               20000.000000   \n48                      OHM                   2.514698   \n\n    transaction_asset_lastPriceUSD  transaction_amountUSD            dateTime  \\\n12                       10.379649             105.925340 2023-02-17 05:28:11   \n42                       10.379649          206726.334541 2023-02-14 12:59:59   \n48                       10.379649              26.317329 2023-02-14 07:36:11   \n\n      calDate  \n12 2023-02-17  \n42 2023-02-14  \n48 2023-02-14  ",
      "text/html": "<div>\n<style scoped>\n    .dataframe tbody tr th:only-of-type {\n        vertical-align: middle;\n    }\n\n    .dataframe tbody tr th {\n        vertical-align: top;\n    }\n\n    .dataframe thead th {\n        text-align: right;\n    }\n</style>\n<table border=\"1\" class=\"dataframe\">\n  <thead>\n    <tr style=\"text-align: right;\">\n      <th></th>\n      <th>event</th>\n      <th>transaction_hash</th>\n      <th>transaction_blockNumber</th>\n      <th>transaction_timestamp</th>\n      <th>transaction_account_id</th>\n      <th>transaction_market_id</th>\n      <th>transaction_asset_name</th>\n      <th>transaction_asset_symbol</th>\n      <th>transactionReadableAmount</th>\n      <th>transaction_asset_lastPriceUSD</th>\n      <th>transaction_amountUSD</th>\n      <th>dateTime</th>\n      <th>calDate</th>\n    </tr>\n  </thead>\n  <tbody>\n    <tr>\n      <th>12</th>\n      <td>deposit</td>\n      <td>0x1c37394aaabc2445a66b61a360cf08ae096b7582e2ed...</td>\n      <td>16646360</td>\n      <td>1676611691</td>\n      <td>0x9b53bed0d62028c0fc5d2006c076cb33e6e6cecd</td>\n      <td>0xf5ffabab8f9a6f4f6de1f0dd6e0820f68657d7db</td>\n      <td>Olympus</td>\n      <td>OHM</td>\n      <td>10.000000</td>\n      <td>10.379649</td>\n      <td>105.925340</td>\n      <td>2023-02-17 05:28:11</td>\n      <td>2023-02-17</td>\n    </tr>\n    <tr>\n      <th>42</th>\n      <td>deposit</td>\n      <td>0xf9bbcc923182fb6406e97fce0f92c22c87a284d55812...</td>\n      <td>16627144</td>\n      <td>1676379599</td>\n      <td>0x245cc372c84b3645bf0ffe6538620b04a217988b</td>\n      <td>0xf5ffabab8f9a6f4f6de1f0dd6e0820f68657d7db</td>\n      <td>Olympus</td>\n      <td>OHM</td>\n      <td>20000.000000</td>\n      <td>10.379649</td>\n      <td>206726.334541</td>\n      <td>2023-02-14 12:59:59</td>\n      <td>2023-02-14</td>\n    </tr>\n    <tr>\n      <th>48</th>\n      <td>deposit</td>\n      <td>0x0aa351eb8ff1ca2bd6c4e65229f83c7e5b596d72c889...</td>\n      <td>16625541</td>\n      <td>1676360171</td>\n      <td>0xc0b1f200aa9546ce074397bed7438bb2ec033877</td>\n      <td>0xf5ffabab8f9a6f4f6de1f0dd6e0820f68657d7db</td>\n      <td>Olympus</td>\n      <td>OHM</td>\n      <td>2.514698</td>\n      <td>10.379649</td>\n      <td>26.317329</td>\n      <td>2023-02-14 07:36:11</td>\n      <td>2023-02-14</td>\n    </tr>\n  </tbody>\n</table>\n</div>"
     },
     "execution_count": 18,
     "metadata": {},
     "output_type": "execute_result"
    }
   ],
   "source": [
    "siloDepositsDb['transactionReadableAmount'] = siloDepositsDb['transaction_amount']/(10**(siloDepositsDb['transaction_asset_decimals']))\n",
    "siloDepositsDb['transactionReadableAmount']=siloDepositsDb['transactionReadableAmount'].astype('float')\n",
    "siloDepositsDb['dateTime'] =(pd.to_datetime(siloDepositsDb['transaction_timestamp'],unit='s'))\n",
    "siloDepositsDb.head(100)\n",
    "\n",
    "#we only want deposits in GOHM from those that borrowed, so drop anyone that is not on that side\n",
    "siloDepositsDb.drop(siloDepositsDb.loc[siloDepositsDb['transaction_market_rates_side']!='BORROWER'].index, inplace=True)\n",
    "siloDepositsDb.drop(siloDepositsDb.loc[siloDepositsDb['transaction_asset_symbol']!='OHM'].index, inplace=True)\n",
    "\n",
    "\n",
    "siloDepositEventsDbTimedClean = siloDepositsDb[['event','transaction_hash','transaction_blockNumber','transaction_timestamp','transaction_account_id','transaction_market_id','transaction_asset_name','transaction_asset_symbol', 'transactionReadableAmount','transaction_asset_lastPriceUSD','transaction_amountUSD','dateTime']].copy()\n",
    "siloDepositEventsDbTimedClean.sort_values(by=['event','transaction_hash','transaction_blockNumber','transaction_timestamp','transaction_account_id','transaction_market_id','transaction_asset_name','transaction_asset_symbol', 'transactionReadableAmount','transaction_asset_lastPriceUSD','transaction_amountUSD','dateTime'])\n",
    "siloDepositEventsDbTimedClean.drop_duplicates(subset=['transaction_hash'],keep='first', inplace=True)\n",
    "siloDepositEventsDbTimedClean['calDate'] = siloDepositEventsDbTimedClean['dateTime'].dt.normalize()\n",
    "siloDepositEventsDbTimedClean.head(100)"
   ],
   "metadata": {
    "collapsed": false
   }
  },
  {
   "cell_type": "code",
   "execution_count": 19,
   "outputs": [
    {
     "name": "stdout",
     "output_type": "stream",
     "text": [
      "D:\\Dropbox\\Documents\\Edgecaser LLC\\Projects\\Olympus\\Econohmetrics\\ohmBorrowing/data/siloFinanceGohmDeposits_piped.csv file saved, 3  records\n"
     ]
    }
   ],
   "source": [
    "path =file+'/siloFinanceGohmDeposits.csv'\n",
    "siloDepositEventsDbTimedClean.to_csv(path, index = False)\n",
    "\n",
    "path =file+'/siloFinanceGohmDeposits_piped.csv'\n",
    "siloDepositEventsDbTimedClean.to_csv(path, index = False, sep='|')\n",
    "print(path, 'file saved,', len(siloDepositEventsDbTimedClean),' records')"
   ],
   "metadata": {
    "collapsed": false
   }
  },
  {
   "cell_type": "code",
   "execution_count": 20,
   "outputs": [
    {
     "name": "stdout",
     "output_type": "stream",
     "text": [
      "There has been a total of 20012.51 OHM deposited cumulatively as collateral  to date\n"
     ]
    }
   ],
   "source": [
    "totalDeposited = sum(siloDepositEventsDbTimedClean['transactionReadableAmount'])\n",
    "print('There has been a total of',round(totalDeposited,2),  'OHM deposited cumulatively as collateral  to date')"
   ],
   "metadata": {
    "collapsed": false
   }
  },
  {
   "cell_type": "code",
   "execution_count": 21,
   "outputs": [
    {
     "name": "stdout",
     "output_type": "stream",
     "text": [
      "That is a value of USD$ 206858.58\n"
     ]
    }
   ],
   "source": [
    "totalDepositedUSD = sum(siloDepositEventsDbTimedClean['transaction_amountUSD'])\n",
    "print('That is a value of USD$',round(totalDepositedUSD,2))"
   ],
   "metadata": {
    "collapsed": false
   }
  },
  {
   "cell_type": "markdown",
   "source": [
    "********************************************************************\n",
    "********************************************************************\n",
    "Now we need withdrawals to counter the deposits and see current state"
   ],
   "metadata": {
    "collapsed": false
   }
  },
  {
   "cell_type": "code",
   "execution_count": 22,
   "outputs": [
    {
     "data": {
      "text/plain": "      event                                   transaction_hash  \\\n0  withdraw  0xa1821732de0a64b8c5f1b4371e115d1a116bf143c8c7...   \n\n   transaction_blockNumber  transaction_timestamp  \\\n0                 16627397             1676382659   \n\n                       transaction_account_id  \\\n0  0xc0b1f200aa9546ce074397bed7438bb2ec033877   \n\n                        transaction_market_id transaction_asset_name  \\\n0  0xf5ffabab8f9a6f4f6de1f0dd6e0820f68657d7db                Olympus   \n\n  transaction_asset_symbol  transactionReadableAmount  \\\n0                      OHM                   2.514698   \n\n   transaction_asset_lastPriceUSD  transaction_amountUSD             dateTime  \\\n0                       10.463267              25.992718  2023-02-14 13:50:59   \n\n      calDate  \n0  2023-02-14  ",
      "text/html": "<div>\n<style scoped>\n    .dataframe tbody tr th:only-of-type {\n        vertical-align: middle;\n    }\n\n    .dataframe tbody tr th {\n        vertical-align: top;\n    }\n\n    .dataframe thead th {\n        text-align: right;\n    }\n</style>\n<table border=\"1\" class=\"dataframe\">\n  <thead>\n    <tr style=\"text-align: right;\">\n      <th></th>\n      <th>event</th>\n      <th>transaction_hash</th>\n      <th>transaction_blockNumber</th>\n      <th>transaction_timestamp</th>\n      <th>transaction_account_id</th>\n      <th>transaction_market_id</th>\n      <th>transaction_asset_name</th>\n      <th>transaction_asset_symbol</th>\n      <th>transactionReadableAmount</th>\n      <th>transaction_asset_lastPriceUSD</th>\n      <th>transaction_amountUSD</th>\n      <th>dateTime</th>\n      <th>calDate</th>\n    </tr>\n  </thead>\n  <tbody>\n    <tr>\n      <th>0</th>\n      <td>withdraw</td>\n      <td>0xa1821732de0a64b8c5f1b4371e115d1a116bf143c8c7...</td>\n      <td>16627397</td>\n      <td>1676382659</td>\n      <td>0xc0b1f200aa9546ce074397bed7438bb2ec033877</td>\n      <td>0xf5ffabab8f9a6f4f6de1f0dd6e0820f68657d7db</td>\n      <td>Olympus</td>\n      <td>OHM</td>\n      <td>2.514698</td>\n      <td>10.463267</td>\n      <td>25.992718</td>\n      <td>2023-02-14 13:50:59</td>\n      <td>2023-02-14</td>\n    </tr>\n  </tbody>\n</table>\n</div>"
     },
     "execution_count": 22,
     "metadata": {},
     "output_type": "execute_result"
    }
   ],
   "source": [
    "oldSiloWithdrawsDb = pd.DataFrame()\n",
    "siloFileName = file+'/siloFinanceGohmWithdraws.csv'\n",
    "try:\n",
    "    oldSiloWithdrawsDb = pd.read_csv (siloFileName)\n",
    "except:\n",
    "    oldSiloWithdrawsDb = pd.DataFrame()\n",
    "oldSiloWithdrawsDb.head(100)"
   ],
   "metadata": {
    "collapsed": false
   }
  },
  {
   "cell_type": "code",
   "execution_count": 23,
   "outputs": [
    {
     "data": {
      "text/plain": "0"
     },
     "execution_count": 23,
     "metadata": {},
     "output_type": "execute_result"
    }
   ],
   "source": [
    "maxSiloWithdrawsTimestamp = 0\n",
    "try:\n",
    "    maxSiloWithdrawsTimestamp = (max(0,oldSiloWithdrawssDb['transaction_timestamp'].max()))-5\n",
    "except:\n",
    "        maxSiloWithdrawsTimestamp = 0\n",
    "maxSiloWithdrawsTimestamp = int(maxSiloWithdrawsTimestamp)\n",
    "maxSiloWithdrawsTimestamp"
   ],
   "metadata": {
    "collapsed": false
   }
  },
  {
   "cell_type": "code",
   "execution_count": 24,
   "outputs": [
    {
     "name": "stdout",
     "output_type": "stream",
     "text": [
      "iterations:  0 Lines skipped:  0 records collected:  6  - latest recordID:  0xa1821732de0a64b8c5f1b4371e115d1a116bf143c8c7f23b9e1bb32b1fac6ec0   0xa1821732de0a64b8c5f1b4371e115d1a116bf143c8c7f23b9e1bb32b1fac6ec0-259  - withdraws DB length:  6  - latest record from:  2023-02-14 05:50:59 9 days ago\n",
      "Done. Total Records collected:  6\n"
     ]
    }
   ],
   "source": [
    "##this captures the ENTIRE list of people who withdrawed OHM\n",
    "withdrawTicker = 0\n",
    "withdrawslist = pd.DataFrame()\n",
    "siloWithdrawsDb = pd.DataFrame()\n",
    "withdrawListLength = 1000\n",
    "datediff = 0\n",
    "now=0\n",
    "daysAgo=0\n",
    "#daysLimit = 45\n",
    "exit = False\n",
    "while exit==False:\n",
    "    skipValue = (withdrawTicker)*(1000)\n",
    "    withdraws = silo.Query.withdraws(\n",
    "        orderBy='timestamp',\n",
    "        orderDirection='desc',\n",
    "        first=1000,\n",
    "        skip = skipValue,\n",
    "        where={ 'market': '0xf5ffabab8f9a6f4f6de1f0dd6e0820f68657d7db'\n",
    "                ,'timestamp_gte': maxSiloWithdrawsTimestamp\n",
    "                ,'asset':'0x64aa3364f17a4d01c6f1751fd97c2bd3d7e7f1d5'\n",
    "                ,'amount_gte': 0\n",
    "                } #gOHM market\n",
    "    )\n",
    "\n",
    "    withdrawslist = sg.query_df([\n",
    "        withdraws.id\n",
    "        ,withdraws.hash\n",
    "        ,withdraws.blockNumber\n",
    "        ,withdraws.timestamp\n",
    "        ,withdraws.account.id\n",
    "        ,withdraws.market.id\n",
    "        ,withdraws.market.protocol.id\n",
    "        ,withdraws.market.rates.rate\n",
    "        ,withdraws.market.rates.duration\n",
    "        ,withdraws.market.rates.side\n",
    "        ,withdraws.market.rates.type\n",
    "        ,withdraws.market.rates.token.id\n",
    "        ,withdraws.asset.name\n",
    "        ,withdraws.asset.symbol\n",
    "        ,withdraws.asset.decimals\n",
    "        ,withdraws.asset.lastPriceUSD\n",
    "        ,withdraws.amount\n",
    "        ,withdraws.amountUSD\n",
    "    ])\n",
    "\n",
    "    siloWithdrawsDb=pd.concat([siloWithdrawsDb, withdrawslist])\n",
    "    recordTimestamp1 = siloWithdrawsDb.iat[withdrawTicker,3]\n",
    "    recordTimestamp = dt.datetime.fromtimestamp( recordTimestamp1)\n",
    "    now = (int(dt.datetime.utcnow().timestamp()))\n",
    "    datediff=abs(int(now) - recordTimestamp1)\n",
    "    daysAgo = int(datediff/86400)\n",
    "    silowithdrawsDbLength = len(siloWithdrawsDb)\n",
    "    silowithdrawListLength = len(withdrawslist)\n",
    "    recordID = siloWithdrawsDb.iat[withdrawTicker,0]\n",
    "    withdraw = siloWithdrawsDb.iat[withdrawTicker,1]\n",
    "    print(\"iterations: \", withdrawTicker, \"Lines skipped: \",skipValue, \"records collected: \", silowithdrawListLength, \" - latest recordID: \",withdraw, \" \", recordID , \" - withdraws DB length: \", silowithdrawsDbLength, \" - latest record from: \", recordTimestamp, daysAgo,\"days ago\")\n",
    "    #print(\"iterations: \", withdrawTicker, \"records collected: \", withdrawListLength, \" - userdb length: \", withdrawsDbLength)\n",
    "    withdrawTicker = withdrawTicker+1\n",
    "\n",
    "    if daysAgo>daysLimit: exit =True\n",
    "    if silowithdrawListLength<1000: exit =True\n",
    "\n",
    "siloWithdrawsDb.columns = siloWithdrawsDb.columns.str.replace(\"withdraws\", \"transaction\")\n",
    "siloWithdrawsDb['event']='withdraw'\n",
    "siloWithdrawsDb.drop_duplicates\n",
    "print(\"Done. Total Records collected: \", silowithdrawsDbLength)"
   ],
   "metadata": {
    "collapsed": false
   }
  },
  {
   "cell_type": "code",
   "execution_count": 25,
   "outputs": [
    {
     "data": {
      "text/plain": "                                      transaction_id  \\\n0  0xa1821732de0a64b8c5f1b4371e115d1a116bf143c8c7...   \n1  0xa1821732de0a64b8c5f1b4371e115d1a116bf143c8c7...   \n2  0xa1821732de0a64b8c5f1b4371e115d1a116bf143c8c7...   \n\n                                    transaction_hash  transaction_blockNumber  \\\n0  0xa1821732de0a64b8c5f1b4371e115d1a116bf143c8c7...                 16627397   \n1  0xa1821732de0a64b8c5f1b4371e115d1a116bf143c8c7...                 16627397   \n2  0xa1821732de0a64b8c5f1b4371e115d1a116bf143c8c7...                 16627397   \n\n   transaction_timestamp                      transaction_account_id  \\\n0             1676382659  0xc0b1f200aa9546ce074397bed7438bb2ec033877   \n1             1676382659  0xc0b1f200aa9546ce074397bed7438bb2ec033877   \n2             1676382659  0xc0b1f200aa9546ce074397bed7438bb2ec033877   \n\n                        transaction_market_id  \\\n0  0xf5ffabab8f9a6f4f6de1f0dd6e0820f68657d7db   \n1  0xf5ffabab8f9a6f4f6de1f0dd6e0820f68657d7db   \n2  0xf5ffabab8f9a6f4f6de1f0dd6e0820f68657d7db   \n\n               transaction_market_protocol_id  transaction_market_rates_rate  \\\n0  0xd998c35b7900b344bbbe6555cc11576942cf309d                       5.656345   \n1  0xd998c35b7900b344bbbe6555cc11576942cf309d                       0.000000   \n2  0xd998c35b7900b344bbbe6555cc11576942cf309d                       0.000000   \n\n  transaction_market_rates_duration transaction_market_rates_side  ...  \\\n0                              None                      BORROWER  ...   \n1                              None                      BORROWER  ...   \n2                              None                      BORROWER  ...   \n\n            transaction_market_rates_token_id transaction_asset_name  \\\n0  0x64aa3364f17a4d01c6f1751fd97c2bd3d7e7f1d5                Olympus   \n1  0xc02aaa39b223fe8d0a0e5c4f27ead9083c756cc2                Olympus   \n2  0xd7c9f0e536dc865ae858b0c0453fe76d13c3beac                Olympus   \n\n  transaction_asset_symbol transaction_asset_decimals  \\\n0                      OHM                          9   \n1                      OHM                          9   \n2                      OHM                          9   \n\n   transaction_asset_lastPriceUSD  transaction_amount  transaction_amountUSD  \\\n0                       10.379649          2514698283              25.992718   \n1                       10.379649          2514698283              25.992718   \n2                       10.379649          2514698283              25.992718   \n\n      event transactionReadableAmount            dateTime  \n0  withdraw                  2.514698 2023-02-14 13:50:59  \n1  withdraw                  2.514698 2023-02-14 13:50:59  \n2  withdraw                  2.514698 2023-02-14 13:50:59  \n\n[3 rows x 21 columns]",
      "text/html": "<div>\n<style scoped>\n    .dataframe tbody tr th:only-of-type {\n        vertical-align: middle;\n    }\n\n    .dataframe tbody tr th {\n        vertical-align: top;\n    }\n\n    .dataframe thead th {\n        text-align: right;\n    }\n</style>\n<table border=\"1\" class=\"dataframe\">\n  <thead>\n    <tr style=\"text-align: right;\">\n      <th></th>\n      <th>transaction_id</th>\n      <th>transaction_hash</th>\n      <th>transaction_blockNumber</th>\n      <th>transaction_timestamp</th>\n      <th>transaction_account_id</th>\n      <th>transaction_market_id</th>\n      <th>transaction_market_protocol_id</th>\n      <th>transaction_market_rates_rate</th>\n      <th>transaction_market_rates_duration</th>\n      <th>transaction_market_rates_side</th>\n      <th>...</th>\n      <th>transaction_market_rates_token_id</th>\n      <th>transaction_asset_name</th>\n      <th>transaction_asset_symbol</th>\n      <th>transaction_asset_decimals</th>\n      <th>transaction_asset_lastPriceUSD</th>\n      <th>transaction_amount</th>\n      <th>transaction_amountUSD</th>\n      <th>event</th>\n      <th>transactionReadableAmount</th>\n      <th>dateTime</th>\n    </tr>\n  </thead>\n  <tbody>\n    <tr>\n      <th>0</th>\n      <td>0xa1821732de0a64b8c5f1b4371e115d1a116bf143c8c7...</td>\n      <td>0xa1821732de0a64b8c5f1b4371e115d1a116bf143c8c7...</td>\n      <td>16627397</td>\n      <td>1676382659</td>\n      <td>0xc0b1f200aa9546ce074397bed7438bb2ec033877</td>\n      <td>0xf5ffabab8f9a6f4f6de1f0dd6e0820f68657d7db</td>\n      <td>0xd998c35b7900b344bbbe6555cc11576942cf309d</td>\n      <td>5.656345</td>\n      <td>None</td>\n      <td>BORROWER</td>\n      <td>...</td>\n      <td>0x64aa3364f17a4d01c6f1751fd97c2bd3d7e7f1d5</td>\n      <td>Olympus</td>\n      <td>OHM</td>\n      <td>9</td>\n      <td>10.379649</td>\n      <td>2514698283</td>\n      <td>25.992718</td>\n      <td>withdraw</td>\n      <td>2.514698</td>\n      <td>2023-02-14 13:50:59</td>\n    </tr>\n    <tr>\n      <th>1</th>\n      <td>0xa1821732de0a64b8c5f1b4371e115d1a116bf143c8c7...</td>\n      <td>0xa1821732de0a64b8c5f1b4371e115d1a116bf143c8c7...</td>\n      <td>16627397</td>\n      <td>1676382659</td>\n      <td>0xc0b1f200aa9546ce074397bed7438bb2ec033877</td>\n      <td>0xf5ffabab8f9a6f4f6de1f0dd6e0820f68657d7db</td>\n      <td>0xd998c35b7900b344bbbe6555cc11576942cf309d</td>\n      <td>0.000000</td>\n      <td>None</td>\n      <td>BORROWER</td>\n      <td>...</td>\n      <td>0xc02aaa39b223fe8d0a0e5c4f27ead9083c756cc2</td>\n      <td>Olympus</td>\n      <td>OHM</td>\n      <td>9</td>\n      <td>10.379649</td>\n      <td>2514698283</td>\n      <td>25.992718</td>\n      <td>withdraw</td>\n      <td>2.514698</td>\n      <td>2023-02-14 13:50:59</td>\n    </tr>\n    <tr>\n      <th>2</th>\n      <td>0xa1821732de0a64b8c5f1b4371e115d1a116bf143c8c7...</td>\n      <td>0xa1821732de0a64b8c5f1b4371e115d1a116bf143c8c7...</td>\n      <td>16627397</td>\n      <td>1676382659</td>\n      <td>0xc0b1f200aa9546ce074397bed7438bb2ec033877</td>\n      <td>0xf5ffabab8f9a6f4f6de1f0dd6e0820f68657d7db</td>\n      <td>0xd998c35b7900b344bbbe6555cc11576942cf309d</td>\n      <td>0.000000</td>\n      <td>None</td>\n      <td>BORROWER</td>\n      <td>...</td>\n      <td>0xd7c9f0e536dc865ae858b0c0453fe76d13c3beac</td>\n      <td>Olympus</td>\n      <td>OHM</td>\n      <td>9</td>\n      <td>10.379649</td>\n      <td>2514698283</td>\n      <td>25.992718</td>\n      <td>withdraw</td>\n      <td>2.514698</td>\n      <td>2023-02-14 13:50:59</td>\n    </tr>\n  </tbody>\n</table>\n<p>3 rows × 21 columns</p>\n</div>"
     },
     "execution_count": 25,
     "metadata": {},
     "output_type": "execute_result"
    }
   ],
   "source": [
    "siloWithdrawEventsDbTimedClean = pd.DataFrame()\n",
    "siloWithdrawsDb['transactionReadableAmount'] = siloWithdrawsDb['transaction_amount']/(10**(siloWithdrawsDb['transaction_asset_decimals']))\n",
    "siloWithdrawsDb['transactionReadableAmount']=siloWithdrawsDb['transactionReadableAmount'].astype('float')\n",
    "siloWithdrawsDb['dateTime'] =(pd.to_datetime(siloWithdrawsDb['transaction_timestamp'],unit='s'))\n",
    "\n",
    "#we only want withdrawals in GOHM from those that borrowed, so drop anyone that is not on that side\n",
    "siloWithdrawsDb.drop(siloWithdrawsDb.loc[siloWithdrawsDb['transaction_market_rates_side']!='BORROWER'].index, inplace=True)\n",
    "siloWithdrawsDb.drop(siloWithdrawsDb.loc[siloWithdrawsDb['transaction_asset_symbol']!='OHM'].index, inplace=True)\n",
    "\n",
    "siloWithdrawEventsDbTimedClean = siloWithdrawsDb[['event','transaction_hash','transaction_blockNumber','transaction_timestamp','transaction_account_id','transaction_market_id','transaction_asset_name','transaction_asset_symbol', 'transactionReadableAmount','transaction_asset_lastPriceUSD','transaction_amountUSD','dateTime']].copy()\n",
    "siloWithdrawEventsDbTimedClean.sort_values(by=['event','transaction_hash','transaction_blockNumber','transaction_timestamp','transaction_account_id','transaction_market_id','transaction_asset_name','transaction_asset_symbol', 'transactionReadableAmount','transaction_asset_lastPriceUSD','transaction_amountUSD','dateTime'])\n",
    "siloWithdrawEventsDbTimedClean.drop_duplicates(subset=['transaction_hash'],keep='first', inplace=True)\n",
    "siloWithdrawEventsDbTimedClean['calDate'] = siloWithdrawEventsDbTimedClean['dateTime'].dt.normalize()\n",
    "siloWithdrawsDb.head(100)"
   ],
   "metadata": {
    "collapsed": false
   }
  },
  {
   "cell_type": "code",
   "execution_count": 26,
   "outputs": [
    {
     "name": "stdout",
     "output_type": "stream",
     "text": [
      "D:\\Dropbox\\Documents\\Edgecaser LLC\\Projects\\Olympus\\Econohmetrics\\ohmBorrowing/data/siloFinanceGohmWithdraws_piped.csv file saved, 1  records\n"
     ]
    }
   ],
   "source": [
    "path =file+'/siloFinanceGohmWithdraws.csv'\n",
    "siloWithdrawEventsDbTimedClean.to_csv(path, index = False)\n",
    "\n",
    "path =file+'/siloFinanceGohmWithdraws_piped.csv'\n",
    "siloWithdrawEventsDbTimedClean.to_csv(path, index = False, sep='|')\n",
    "print(path, 'file saved,', len(siloWithdrawEventsDbTimedClean),' records')"
   ],
   "metadata": {
    "collapsed": false
   }
  },
  {
   "cell_type": "code",
   "execution_count": 27,
   "outputs": [
    {
     "name": "stdout",
     "output_type": "stream",
     "text": [
      "There has been a total of 2.51 OHM withdrawn cumulatively as collateral  to date\n",
      "That is a value of USD$ 25.99\n"
     ]
    }
   ],
   "source": [
    "totalWithdrawed = sum(siloWithdrawEventsDbTimedClean['transactionReadableAmount'])\n",
    "print('There has been a total of',round(totalWithdrawed,2),  'OHM withdrawn cumulatively as collateral  to date')\n",
    "totalWithdrawedUSD =sum(siloWithdrawEventsDbTimedClean['transaction_amountUSD'])\n",
    "print('That is a value of USD$',round(totalWithdrawedUSD,2))"
   ],
   "metadata": {
    "collapsed": false
   }
  },
  {
   "cell_type": "code",
   "execution_count": 28,
   "outputs": [
    {
     "name": "stdout",
     "output_type": "stream",
     "text": [
      "20012.514698283  -  2.514698283 = 20010.0 currently deposited as collateral in Silo\n"
     ]
    }
   ],
   "source": [
    "collateralBalance = totalDeposited-totalWithdrawed\n",
    "print(totalDeposited, ' - ',totalWithdrawed,'=', collateralBalance, 'currently deposited as collateral in Silo' )"
   ],
   "metadata": {
    "collapsed": false
   }
  },
  {
   "cell_type": "markdown",
   "source": [
    "*************************************************************\n",
    "*************************************************************\n",
    "LET'S LOOK AT THE EULER MARKET\n",
    "https://app.euler.finance/market/0x64aa3364f17a4d01c6f1751fd97c2bd3d7e7f1d5\n",
    "https://gateway.thegraph.com/api/[api-key]/subgraphs/id/8cLf29KxAedWLVaEqjV8qKomdwwXQxjptBZFrqWNH5u2\n",
    "\n",
    "STARTING WITH BORROWS (hasn't launched yet as of 2/16/23)"
   ],
   "metadata": {
    "collapsed": false
   }
  },
  {
   "cell_type": "code",
   "execution_count": 29,
   "outputs": [],
   "source": [
    "euler = sg.load_api('https://gateway.thegraph.com/api/'+apiKey+'/subgraphs/id/8cLf29KxAedWLVaEqjV8qKomdwwXQxjptBZFrqWNH5u2')"
   ],
   "metadata": {
    "collapsed": false
   }
  },
  {
   "cell_type": "code",
   "execution_count": 30,
   "outputs": [
    {
     "data": {
      "text/plain": "Empty DataFrame\nColumns: []\nIndex: []",
      "text/html": "<div>\n<style scoped>\n    .dataframe tbody tr th:only-of-type {\n        vertical-align: middle;\n    }\n\n    .dataframe tbody tr th {\n        vertical-align: top;\n    }\n\n    .dataframe thead th {\n        text-align: right;\n    }\n</style>\n<table border=\"1\" class=\"dataframe\">\n  <thead>\n    <tr style=\"text-align: right;\">\n      <th></th>\n    </tr>\n  </thead>\n  <tbody>\n  </tbody>\n</table>\n</div>"
     },
     "execution_count": 30,
     "metadata": {},
     "output_type": "execute_result"
    }
   ],
   "source": [
    "oldEulerBorrowsDb = pd.DataFrame()\n",
    "EulerBorrowsFileName = file+'/eulerFinanceOhmBorrows.csv'\n",
    "try:\n",
    "    oldEulerBorrowsDb = pd.read_csv (EulerBorrowsFileName)\n",
    "except:\n",
    "    oldEulerBorrowsDb = pd.DataFrame()\n",
    "oldEulerBorrowsDb.head(100)"
   ],
   "metadata": {
    "collapsed": false
   }
  },
  {
   "cell_type": "code",
   "execution_count": 31,
   "outputs": [
    {
     "data": {
      "text/plain": "0"
     },
     "execution_count": 31,
     "metadata": {},
     "output_type": "execute_result"
    }
   ],
   "source": [
    "maxEulerBorrowTimestamp = 0\n",
    "try:\n",
    "    maxEulerBorrowTimestamp = (max(0,oldBorrowsDb['transaction_timestamp'].max()))-5\n",
    "except:\n",
    "        maxEulerBorrowTimestamp = 0\n",
    "maxEulerBorrowTimestamp = int(maxEulerBorrowTimestamp)\n",
    "maxEulerBorrowTimestamp"
   ],
   "metadata": {
    "collapsed": false
   }
  },
  {
   "cell_type": "markdown",
   "source": [
    "##SAMPLE QUERY\n",
    "eulerBorrowsDb = pd.DataFrame()\n",
    "deposits = euler.Query.deposits(\n",
    "        orderBy='timestamp',\n",
    "        orderDirection='desc',\n",
    "        first=1000,\n",
    "        skip = skipValue,\n",
    "        where={ #'timestamp_gte': maxEulerdepositTimestamp\n",
    "                #,'hash': '0x301069fd24dd70d15cdcbebd4f076efe486a82f347240703adcb1713a6582e98'\n",
    "                'market':'0x8a6622d293d5187a39f8dba7f6f1ae7fa527483b'\n",
    "                ,'asset':'0x64aa3364f17a4d01c6f1751fd97c2bd3d7e7f1d5'\n",
    "                }\n",
    "    )\n",
    "\n",
    "depositslist = sg.query_df([\n",
    "    deposits.id\n",
    "    ,deposits.hash\n",
    "    ,deposits.logIndex\n",
    "    ,deposits.timestamp\n",
    "    ,deposits.to\n",
    "    ,deposits.asset.id\n",
    "    ,deposits.asset.symbol\n",
    "    ,deposits.asset.decimals\n",
    "    ,deposits.asset.lastPriceUSD\n",
    "    ,deposits.asset.lastPriceBlockNumber\n",
    "    ,deposits.amount\n",
    "    ,deposits.amountUSD\n",
    "    ,deposits._select(\"from\")\n",
    "])\n",
    "\n",
    "depositslist.head(10)"
   ],
   "metadata": {
    "collapsed": false
   }
  },
  {
   "cell_type": "code",
   "execution_count": 72,
   "outputs": [
    {
     "name": "stdout",
     "output_type": "stream",
     "text": [
      "Error.No evemts in DB, perhaps?\n"
     ]
    }
   ],
   "source": [
    "##this captures the ENTIRE list of people who borrowed OHM\n",
    "borrowTicker = 0\n",
    "borrowslist = pd.DataFrame()\n",
    "eulerBorrowsDb = pd.DataFrame()\n",
    "eulerBorrowsDbLength = 1000\n",
    "datediff = 0\n",
    "now=0\n",
    "daysAgo=0\n",
    "#daysLimit = 45\n",
    "exit = False\n",
    "\n",
    "try:\n",
    "    while exit==False:\n",
    "        skipValue = (borrowTicker)*(1000)\n",
    "        borrows = euler.Query.borrows(\n",
    "                orderBy='timestamp',\n",
    "                orderDirection='desc',\n",
    "                first=1000,\n",
    "                skip = skipValue,\n",
    "                where={ #'timestamp_gte': maxEulerBorrowTimestamp\n",
    "                        #,'hash': '0x301069fd24dd70d15cdcbebd4f076efe486a82f347240703adcb1713a6582e98'\n",
    "                        'market':'0x8a6622d293d5187a39f8dba7f6f1ae7fa527483b'\n",
    "                       # ,'asset':'0x64aa3364f17a4d01c6f1751fd97c2bd3d7e7f1d5'\n",
    "                        }\n",
    "            )\n",
    "\n",
    "        borrowslist = sg.query_df([\n",
    "            borrows.id\n",
    "            ,borrows.hash\n",
    "            ,borrows.logIndex\n",
    "            ,borrows.timestamp\n",
    "            ,borrows.to\n",
    "            ,borrows.asset.id\n",
    "            ,borrows.asset.symbol\n",
    "            ,borrows.asset.decimals\n",
    "            ,borrows.asset.lastPriceUSD\n",
    "            ,borrows.asset.lastPriceBlockNumber\n",
    "            ,borrows.amount\n",
    "            ,borrows.amountUSD\n",
    "            ,borrows._select(\"from\")\n",
    "        ])\n",
    "\n",
    "        eulerBorrowsDb=pd.concat([eulerBorrowsDb, borrowslist])\n",
    "\n",
    "        recordTimestamp1 = eulerBorrowsDb.iat[borrowTicker,3]\n",
    "        recordTimestamp = dt.datetime.fromtimestamp( recordTimestamp1 )\n",
    "        now = (int(dt.datetime.utcnow().timestamp()))\n",
    "        datediff=abs(int(now) - recordTimestamp1)\n",
    "        daysAgo = int(datediff/86400)\n",
    "        eulerBorrowsDbLength = len(eulerBorrowsDb)\n",
    "        eulerBorrowListLength = len(borrowslist)\n",
    "        recordID = eulerBorrowsDb.iat[borrowTicker,0]\n",
    "        borrow = eulerBorrowsDb.iat[borrowTicker,1]\n",
    "        print(\"iterations: \", borrowTicker, \"Lines skipped: \",skipValue, \"records collected: \", eulerBorrowListLength, \" - latest recordID: \",borrow, \" \", recordID , \" - borrows DB length: \", eulerBorrowsDbLength, \" - latest record from: \", recordTimestamp, daysAgo,\"days ago\")\n",
    "        #print(\"iterations: \", borrowTicker, \"records collected: \", borrowListLength, \" - userdb length: \", borrowsDbLength)\n",
    "        borrowTicker = borrowTicker+1\n",
    "\n",
    "        if daysAgo>daysLimit: exit =True\n",
    "        if eulerBorrowListLength<1000: exit =True\n",
    "\n",
    "    eulerBorrowsDb.columns = eulerBorrowsDb.columns.str.replace(\"borrows\", \"transaction\")\n",
    "    eulerBorrowsDb['event']='borrow'\n",
    "    eulerBorrowsDb.drop_duplicates\n",
    "    print(\"Done. Total Records collected: \", eulerBorrowsDbLength)\n",
    "except:\n",
    "    print('Error.No evemts in DB, perhaps?')"
   ],
   "metadata": {
    "collapsed": false
   }
  },
  {
   "cell_type": "code",
   "execution_count": 33,
   "outputs": [
    {
     "data": {
      "text/plain": "Empty DataFrame\nColumns: []\nIndex: []",
      "text/html": "<div>\n<style scoped>\n    .dataframe tbody tr th:only-of-type {\n        vertical-align: middle;\n    }\n\n    .dataframe tbody tr th {\n        vertical-align: top;\n    }\n\n    .dataframe thead th {\n        text-align: right;\n    }\n</style>\n<table border=\"1\" class=\"dataframe\">\n  <thead>\n    <tr style=\"text-align: right;\">\n      <th></th>\n    </tr>\n  </thead>\n  <tbody>\n  </tbody>\n</table>\n</div>"
     },
     "execution_count": 33,
     "metadata": {},
     "output_type": "execute_result"
    }
   ],
   "source": [
    "eulerBorrowsDb.head(10)"
   ],
   "metadata": {
    "collapsed": false
   }
  },
  {
   "cell_type": "markdown",
   "source": [
    "****************************************************************************************************************\n",
    "****************************************************************************************************************\n",
    "LET'S LOOK AT THE EULER DEPOSIT EVENTS"
   ],
   "metadata": {
    "collapsed": false
   }
  },
  {
   "cell_type": "code",
   "execution_count": 34,
   "outputs": [
    {
     "data": {
      "text/plain": "                                      transaction_id  \\\n0  0x301069fd24dd70d15cdcbebd4f076efe486a82f34724...   \n1  0xa7495eba745bd67279969c1b8687f816e0d83a60bf0c...   \n\n                                    transaction_hash  transaction_logIndex  \\\n0  0x301069fd24dd70d15cdcbebd4f076efe486a82f34724...                   199   \n1  0xa7495eba745bd67279969c1b8687f816e0d83a60bf0c...                   123   \n\n   transaction_timestamp                              transaction_to  \\\n0             1676615723  0x8a6622d293d5187a39f8dba7f6f1ae7fa527483b   \n1             1676379695  0x8a6622d293d5187a39f8dba7f6f1ae7fa527483b   \n\n                         transaction_asset_id transaction_asset_symbol  \\\n0  0x64aa3364f17a4d01c6f1751fd97c2bd3d7e7f1d5                      OHM   \n1  0x64aa3364f17a4d01c6f1751fd97c2bd3d7e7f1d5                      OHM   \n\n   transaction_asset_decimals  transaction_asset_lastPriceUSD  \\\n0                           9                       10.463267   \n1                           9                       10.463267   \n\n   transaction_asset_lastPriceBlockNumber  transaction_amount  \\\n0                                16678974          4973203839   \n1                                16678974      30000000000000   \n\n   transaction_amountUSD                            transaction_from    event  \\\n0              52.678831  0x9b53bed0d62028c0fc5d2006c076cb33e6e6cecd  deposit   \n1          310089.501811  0x245cc372c84b3645bf0ffe6538620b04a217988b  deposit   \n\n   transactionReadableAmount             dateTime  \n0                   4.973204  2023-02-17 06:35:23  \n1               30000.000000  2023-02-14 13:01:35  ",
      "text/html": "<div>\n<style scoped>\n    .dataframe tbody tr th:only-of-type {\n        vertical-align: middle;\n    }\n\n    .dataframe tbody tr th {\n        vertical-align: top;\n    }\n\n    .dataframe thead th {\n        text-align: right;\n    }\n</style>\n<table border=\"1\" class=\"dataframe\">\n  <thead>\n    <tr style=\"text-align: right;\">\n      <th></th>\n      <th>transaction_id</th>\n      <th>transaction_hash</th>\n      <th>transaction_logIndex</th>\n      <th>transaction_timestamp</th>\n      <th>transaction_to</th>\n      <th>transaction_asset_id</th>\n      <th>transaction_asset_symbol</th>\n      <th>transaction_asset_decimals</th>\n      <th>transaction_asset_lastPriceUSD</th>\n      <th>transaction_asset_lastPriceBlockNumber</th>\n      <th>transaction_amount</th>\n      <th>transaction_amountUSD</th>\n      <th>transaction_from</th>\n      <th>event</th>\n      <th>transactionReadableAmount</th>\n      <th>dateTime</th>\n    </tr>\n  </thead>\n  <tbody>\n    <tr>\n      <th>0</th>\n      <td>0x301069fd24dd70d15cdcbebd4f076efe486a82f34724...</td>\n      <td>0x301069fd24dd70d15cdcbebd4f076efe486a82f34724...</td>\n      <td>199</td>\n      <td>1676615723</td>\n      <td>0x8a6622d293d5187a39f8dba7f6f1ae7fa527483b</td>\n      <td>0x64aa3364f17a4d01c6f1751fd97c2bd3d7e7f1d5</td>\n      <td>OHM</td>\n      <td>9</td>\n      <td>10.463267</td>\n      <td>16678974</td>\n      <td>4973203839</td>\n      <td>52.678831</td>\n      <td>0x9b53bed0d62028c0fc5d2006c076cb33e6e6cecd</td>\n      <td>deposit</td>\n      <td>4.973204</td>\n      <td>2023-02-17 06:35:23</td>\n    </tr>\n    <tr>\n      <th>1</th>\n      <td>0xa7495eba745bd67279969c1b8687f816e0d83a60bf0c...</td>\n      <td>0xa7495eba745bd67279969c1b8687f816e0d83a60bf0c...</td>\n      <td>123</td>\n      <td>1676379695</td>\n      <td>0x8a6622d293d5187a39f8dba7f6f1ae7fa527483b</td>\n      <td>0x64aa3364f17a4d01c6f1751fd97c2bd3d7e7f1d5</td>\n      <td>OHM</td>\n      <td>9</td>\n      <td>10.463267</td>\n      <td>16678974</td>\n      <td>30000000000000</td>\n      <td>310089.501811</td>\n      <td>0x245cc372c84b3645bf0ffe6538620b04a217988b</td>\n      <td>deposit</td>\n      <td>30000.000000</td>\n      <td>2023-02-14 13:01:35</td>\n    </tr>\n  </tbody>\n</table>\n</div>"
     },
     "execution_count": 34,
     "metadata": {},
     "output_type": "execute_result"
    }
   ],
   "source": [
    "oldEulerDepositsDb = pd.DataFrame()\n",
    "EulerDepositsFileName = file+'/eulerFinanceOhmDeposits.csv'\n",
    "try:\n",
    "    oldEulerDepositsDb = pd.read_csv (EulerDepositsFileName)\n",
    "except:\n",
    "    oldEulerDepositsDb = pd.DataFrame()\n",
    "oldEulerDepositsDb.head(100)"
   ],
   "metadata": {
    "collapsed": false
   }
  },
  {
   "cell_type": "code",
   "execution_count": null,
   "outputs": [],
   "source": [],
   "metadata": {
    "collapsed": false
   }
  },
  {
   "cell_type": "code",
   "execution_count": 35,
   "outputs": [
    {
     "data": {
      "text/plain": "0"
     },
     "execution_count": 35,
     "metadata": {},
     "output_type": "execute_result"
    }
   ],
   "source": [
    "maxEulerDepositTimestamp = 0\n",
    "try:\n",
    "    maxEulerDepositTimestamp = (max(0,oldEulerDepositsDb['deposit_timestamp'].max()))-5\n",
    "except:\n",
    "        maxEulerDepositTimestamp = 0\n",
    "maxEulerDepositTimestamp = int(maxEulerDepositTimestamp)\n",
    "maxEulerDepositTimestamp"
   ],
   "metadata": {
    "collapsed": false
   }
  },
  {
   "cell_type": "code",
   "execution_count": 36,
   "outputs": [
    {
     "name": "stdout",
     "output_type": "stream",
     "text": [
      "iterations:  0 Lines skipped:  0 records collected:  3  - latest recordID:  0xffd4f953670dec6f8ae7d0d79391572912b056b99f6c1bb6bc98a4ecfd90130e   0xffd4f953670dec6f8ae7d0d79391572912b056b99f6c1bb6bc98a4ecfd90130e-265  - deposits DB length:  3  - latest record from:  2023-02-23 00:00:23 0 days ago\n",
      "Done. Total Records collected:  3\n"
     ]
    }
   ],
   "source": [
    "##this captures the ENTIRE list of people who Deposited OHM\n",
    "depositTicker = 0\n",
    "depositlist = pd.DataFrame()\n",
    "eulerDepositsDb = pd.DataFrame()\n",
    "eulerDepositsDbLength = 1000\n",
    "datediff = 0\n",
    "now=0\n",
    "daysAgo=0\n",
    "#daysLimit = 45\n",
    "exit = False\n",
    "while exit==False:\n",
    "    skipValue = (depositTicker)*(1000)\n",
    "    deposits = euler.Query.deposits(\n",
    "            orderBy='timestamp',\n",
    "            orderDirection='desc',\n",
    "            first=1000,\n",
    "            skip = skipValue,\n",
    "            where={ #'timestamp_gte': maxEulerDepositTimestamp\n",
    "                    #,'hash': '0x301069fd24dd70d15cdcbebd4f076efe486a82f347240703adcb1713a6582e98'\n",
    "                    'market':'0x8a6622d293d5187a39f8dba7f6f1ae7fa527483b'\n",
    "                    ,'asset':'0x64aa3364f17a4d01c6f1751fd97c2bd3d7e7f1d5'\n",
    "                    }\n",
    "        )\n",
    "\n",
    "    depositslist = sg.query_df([\n",
    "        deposits.id\n",
    "        ,deposits.hash\n",
    "        ,deposits.logIndex\n",
    "        ,deposits.timestamp\n",
    "        ,deposits.to\n",
    "        ,deposits.asset.id\n",
    "        ,deposits.asset.symbol\n",
    "        ,deposits.asset.decimals\n",
    "        ,deposits.asset.lastPriceUSD\n",
    "        ,deposits.asset.lastPriceBlockNumber\n",
    "        ,deposits.amount\n",
    "        ,deposits.amountUSD\n",
    "        ,deposits._select(\"from\")\n",
    "    ])\n",
    "\n",
    "    eulerDepositsDb=pd.concat([eulerDepositsDb, depositslist])\n",
    "\n",
    "    recordTimestamp1 = eulerDepositsDb.iat[depositTicker,3]\n",
    "    recordTimestamp = dt.datetime.fromtimestamp( recordTimestamp1 )\n",
    "    now = (int(dt.datetime.utcnow().timestamp()))\n",
    "    datediff=abs(int(now) - recordTimestamp1)\n",
    "    daysAgo = int(datediff/86400)\n",
    "    eulerDepositsDbLength = len(eulerDepositsDb)\n",
    "    eulerDepositListLength = len(depositslist)\n",
    "    recordID = eulerDepositsDb.iat[depositTicker,0]\n",
    "    deposit = eulerDepositsDb.iat[depositTicker,1]\n",
    "    print(\"iterations: \", depositTicker, \"Lines skipped: \",skipValue, \"records collected: \", eulerDepositListLength, \" - latest recordID: \",deposit, \" \", recordID , \" - deposits DB length: \", eulerDepositsDbLength, \" - latest record from: \", recordTimestamp, daysAgo,\"days ago\")\n",
    "    #print(\"iterations: \", depositTicker, \"records collected: \", depositListLength, \" - userdb length: \", depositsDbLength)\n",
    "    depositTicker = depositTicker+1\n",
    "\n",
    "    if daysAgo>daysLimit: exit =True\n",
    "    if eulerDepositListLength<1000: exit =True\n",
    "\n",
    "eulerDepositsDb.columns = eulerDepositsDb.columns.str.replace(\"deposits\", \"transaction\")\n",
    "eulerDepositsDb['event']='deposit'\n",
    "eulerDepositsDb.drop_duplicates\n",
    "print(\"Done. Total Records collected: \", eulerDepositsDbLength)"
   ],
   "metadata": {
    "collapsed": false
   }
  },
  {
   "cell_type": "code",
   "execution_count": 37,
   "outputs": [
    {
     "data": {
      "text/plain": "                                      transaction_id  \\\n0  0xffd4f953670dec6f8ae7d0d79391572912b056b99f6c...   \n1  0x301069fd24dd70d15cdcbebd4f076efe486a82f34724...   \n2  0xa7495eba745bd67279969c1b8687f816e0d83a60bf0c...   \n\n                                    transaction_hash  transaction_logIndex  \\\n0  0xffd4f953670dec6f8ae7d0d79391572912b056b99f6c...                   265   \n1  0x301069fd24dd70d15cdcbebd4f076efe486a82f34724...                   199   \n2  0xa7495eba745bd67279969c1b8687f816e0d83a60bf0c...                   123   \n\n   transaction_timestamp                              transaction_to  \\\n0             1677139223  0x8a6622d293d5187a39f8dba7f6f1ae7fa527483b   \n1             1676615723  0x8a6622d293d5187a39f8dba7f6f1ae7fa527483b   \n2             1676379695  0x8a6622d293d5187a39f8dba7f6f1ae7fa527483b   \n\n                         transaction_asset_id transaction_asset_symbol  \\\n0  0x64aa3364f17a4d01c6f1751fd97c2bd3d7e7f1d5                      OHM   \n1  0x64aa3364f17a4d01c6f1751fd97c2bd3d7e7f1d5                      OHM   \n2  0x64aa3364f17a4d01c6f1751fd97c2bd3d7e7f1d5                      OHM   \n\n   transaction_asset_decimals  transaction_asset_lastPriceUSD  \\\n0                           9                       10.379649   \n1                           9                       10.379649   \n2                           9                       10.379649   \n\n   transaction_asset_lastPriceBlockNumber  transaction_amount  \\\n0                                16694105        450000000000   \n1                                16694105          4973203839   \n2                                16694105      30000000000000   \n\n   transaction_amountUSD                            transaction_from    event  \n0            4781.601428  0x642c8ed496a3d05a0ed08911c01f652a0c4b84d4  deposit  \n1              52.678831  0x9b53bed0d62028c0fc5d2006c076cb33e6e6cecd  deposit  \n2          310089.501811  0x245cc372c84b3645bf0ffe6538620b04a217988b  deposit  ",
      "text/html": "<div>\n<style scoped>\n    .dataframe tbody tr th:only-of-type {\n        vertical-align: middle;\n    }\n\n    .dataframe tbody tr th {\n        vertical-align: top;\n    }\n\n    .dataframe thead th {\n        text-align: right;\n    }\n</style>\n<table border=\"1\" class=\"dataframe\">\n  <thead>\n    <tr style=\"text-align: right;\">\n      <th></th>\n      <th>transaction_id</th>\n      <th>transaction_hash</th>\n      <th>transaction_logIndex</th>\n      <th>transaction_timestamp</th>\n      <th>transaction_to</th>\n      <th>transaction_asset_id</th>\n      <th>transaction_asset_symbol</th>\n      <th>transaction_asset_decimals</th>\n      <th>transaction_asset_lastPriceUSD</th>\n      <th>transaction_asset_lastPriceBlockNumber</th>\n      <th>transaction_amount</th>\n      <th>transaction_amountUSD</th>\n      <th>transaction_from</th>\n      <th>event</th>\n    </tr>\n  </thead>\n  <tbody>\n    <tr>\n      <th>0</th>\n      <td>0xffd4f953670dec6f8ae7d0d79391572912b056b99f6c...</td>\n      <td>0xffd4f953670dec6f8ae7d0d79391572912b056b99f6c...</td>\n      <td>265</td>\n      <td>1677139223</td>\n      <td>0x8a6622d293d5187a39f8dba7f6f1ae7fa527483b</td>\n      <td>0x64aa3364f17a4d01c6f1751fd97c2bd3d7e7f1d5</td>\n      <td>OHM</td>\n      <td>9</td>\n      <td>10.379649</td>\n      <td>16694105</td>\n      <td>450000000000</td>\n      <td>4781.601428</td>\n      <td>0x642c8ed496a3d05a0ed08911c01f652a0c4b84d4</td>\n      <td>deposit</td>\n    </tr>\n    <tr>\n      <th>1</th>\n      <td>0x301069fd24dd70d15cdcbebd4f076efe486a82f34724...</td>\n      <td>0x301069fd24dd70d15cdcbebd4f076efe486a82f34724...</td>\n      <td>199</td>\n      <td>1676615723</td>\n      <td>0x8a6622d293d5187a39f8dba7f6f1ae7fa527483b</td>\n      <td>0x64aa3364f17a4d01c6f1751fd97c2bd3d7e7f1d5</td>\n      <td>OHM</td>\n      <td>9</td>\n      <td>10.379649</td>\n      <td>16694105</td>\n      <td>4973203839</td>\n      <td>52.678831</td>\n      <td>0x9b53bed0d62028c0fc5d2006c076cb33e6e6cecd</td>\n      <td>deposit</td>\n    </tr>\n    <tr>\n      <th>2</th>\n      <td>0xa7495eba745bd67279969c1b8687f816e0d83a60bf0c...</td>\n      <td>0xa7495eba745bd67279969c1b8687f816e0d83a60bf0c...</td>\n      <td>123</td>\n      <td>1676379695</td>\n      <td>0x8a6622d293d5187a39f8dba7f6f1ae7fa527483b</td>\n      <td>0x64aa3364f17a4d01c6f1751fd97c2bd3d7e7f1d5</td>\n      <td>OHM</td>\n      <td>9</td>\n      <td>10.379649</td>\n      <td>16694105</td>\n      <td>30000000000000</td>\n      <td>310089.501811</td>\n      <td>0x245cc372c84b3645bf0ffe6538620b04a217988b</td>\n      <td>deposit</td>\n    </tr>\n  </tbody>\n</table>\n</div>"
     },
     "execution_count": 37,
     "metadata": {},
     "output_type": "execute_result"
    }
   ],
   "source": [
    "eulerDepositsDb.head(10)"
   ],
   "metadata": {
    "collapsed": false
   }
  },
  {
   "cell_type": "code",
   "execution_count": 38,
   "outputs": [
    {
     "data": {
      "text/plain": "                                      transaction_id  \\\n0  0xffd4f953670dec6f8ae7d0d79391572912b056b99f6c...   \n1  0x301069fd24dd70d15cdcbebd4f076efe486a82f34724...   \n2  0xa7495eba745bd67279969c1b8687f816e0d83a60bf0c...   \n\n                                    transaction_hash  transaction_logIndex  \\\n0  0xffd4f953670dec6f8ae7d0d79391572912b056b99f6c...                   265   \n1  0x301069fd24dd70d15cdcbebd4f076efe486a82f34724...                   199   \n2  0xa7495eba745bd67279969c1b8687f816e0d83a60bf0c...                   123   \n\n   transaction_timestamp                              transaction_to  \\\n0             1677139223  0x8a6622d293d5187a39f8dba7f6f1ae7fa527483b   \n1             1676615723  0x8a6622d293d5187a39f8dba7f6f1ae7fa527483b   \n2             1676379695  0x8a6622d293d5187a39f8dba7f6f1ae7fa527483b   \n\n                         transaction_asset_id transaction_asset_symbol  \\\n0  0x64aa3364f17a4d01c6f1751fd97c2bd3d7e7f1d5                      OHM   \n1  0x64aa3364f17a4d01c6f1751fd97c2bd3d7e7f1d5                      OHM   \n2  0x64aa3364f17a4d01c6f1751fd97c2bd3d7e7f1d5                      OHM   \n\n   transaction_asset_decimals  transaction_asset_lastPriceUSD  \\\n0                           9                       10.379649   \n1                           9                       10.379649   \n2                           9                       10.379649   \n\n   transaction_asset_lastPriceBlockNumber  transaction_amount  \\\n0                                16694105        450000000000   \n1                                16694105          4973203839   \n2                                16694105      30000000000000   \n\n   transaction_amountUSD                            transaction_from    event  \\\n0            4781.601428  0x642c8ed496a3d05a0ed08911c01f652a0c4b84d4  deposit   \n1              52.678831  0x9b53bed0d62028c0fc5d2006c076cb33e6e6cecd  deposit   \n2          310089.501811  0x245cc372c84b3645bf0ffe6538620b04a217988b  deposit   \n\n   transactionReadableAmount            dateTime  \n0                 450.000000 2023-02-23 08:00:23  \n1                   4.973204 2023-02-17 06:35:23  \n2               30000.000000 2023-02-14 13:01:35  ",
      "text/html": "<div>\n<style scoped>\n    .dataframe tbody tr th:only-of-type {\n        vertical-align: middle;\n    }\n\n    .dataframe tbody tr th {\n        vertical-align: top;\n    }\n\n    .dataframe thead th {\n        text-align: right;\n    }\n</style>\n<table border=\"1\" class=\"dataframe\">\n  <thead>\n    <tr style=\"text-align: right;\">\n      <th></th>\n      <th>transaction_id</th>\n      <th>transaction_hash</th>\n      <th>transaction_logIndex</th>\n      <th>transaction_timestamp</th>\n      <th>transaction_to</th>\n      <th>transaction_asset_id</th>\n      <th>transaction_asset_symbol</th>\n      <th>transaction_asset_decimals</th>\n      <th>transaction_asset_lastPriceUSD</th>\n      <th>transaction_asset_lastPriceBlockNumber</th>\n      <th>transaction_amount</th>\n      <th>transaction_amountUSD</th>\n      <th>transaction_from</th>\n      <th>event</th>\n      <th>transactionReadableAmount</th>\n      <th>dateTime</th>\n    </tr>\n  </thead>\n  <tbody>\n    <tr>\n      <th>0</th>\n      <td>0xffd4f953670dec6f8ae7d0d79391572912b056b99f6c...</td>\n      <td>0xffd4f953670dec6f8ae7d0d79391572912b056b99f6c...</td>\n      <td>265</td>\n      <td>1677139223</td>\n      <td>0x8a6622d293d5187a39f8dba7f6f1ae7fa527483b</td>\n      <td>0x64aa3364f17a4d01c6f1751fd97c2bd3d7e7f1d5</td>\n      <td>OHM</td>\n      <td>9</td>\n      <td>10.379649</td>\n      <td>16694105</td>\n      <td>450000000000</td>\n      <td>4781.601428</td>\n      <td>0x642c8ed496a3d05a0ed08911c01f652a0c4b84d4</td>\n      <td>deposit</td>\n      <td>450.000000</td>\n      <td>2023-02-23 08:00:23</td>\n    </tr>\n    <tr>\n      <th>1</th>\n      <td>0x301069fd24dd70d15cdcbebd4f076efe486a82f34724...</td>\n      <td>0x301069fd24dd70d15cdcbebd4f076efe486a82f34724...</td>\n      <td>199</td>\n      <td>1676615723</td>\n      <td>0x8a6622d293d5187a39f8dba7f6f1ae7fa527483b</td>\n      <td>0x64aa3364f17a4d01c6f1751fd97c2bd3d7e7f1d5</td>\n      <td>OHM</td>\n      <td>9</td>\n      <td>10.379649</td>\n      <td>16694105</td>\n      <td>4973203839</td>\n      <td>52.678831</td>\n      <td>0x9b53bed0d62028c0fc5d2006c076cb33e6e6cecd</td>\n      <td>deposit</td>\n      <td>4.973204</td>\n      <td>2023-02-17 06:35:23</td>\n    </tr>\n    <tr>\n      <th>2</th>\n      <td>0xa7495eba745bd67279969c1b8687f816e0d83a60bf0c...</td>\n      <td>0xa7495eba745bd67279969c1b8687f816e0d83a60bf0c...</td>\n      <td>123</td>\n      <td>1676379695</td>\n      <td>0x8a6622d293d5187a39f8dba7f6f1ae7fa527483b</td>\n      <td>0x64aa3364f17a4d01c6f1751fd97c2bd3d7e7f1d5</td>\n      <td>OHM</td>\n      <td>9</td>\n      <td>10.379649</td>\n      <td>16694105</td>\n      <td>30000000000000</td>\n      <td>310089.501811</td>\n      <td>0x245cc372c84b3645bf0ffe6538620b04a217988b</td>\n      <td>deposit</td>\n      <td>30000.000000</td>\n      <td>2023-02-14 13:01:35</td>\n    </tr>\n  </tbody>\n</table>\n</div>"
     },
     "execution_count": 38,
     "metadata": {},
     "output_type": "execute_result"
    }
   ],
   "source": [
    "eulerdepositsDbTimedClean = pd.DataFrame()\n",
    "eulerDepositsDb['transactionReadableAmount'] = eulerDepositsDb['transaction_amount']/(10**(eulerDepositsDb['transaction_asset_decimals']))\n",
    "\n",
    "eulerDepositsDb['transactionReadableAmount']=eulerDepositsDb['transactionReadableAmount'].astype('float')\n",
    "eulerDepositsDb['dateTime'] =(pd.to_datetime(eulerDepositsDb['transaction_timestamp'],unit='s'))\n",
    "eulerDepositsDb.head(10)"
   ],
   "metadata": {
    "collapsed": false
   }
  },
  {
   "cell_type": "code",
   "execution_count": 39,
   "outputs": [
    {
     "data": {
      "text/plain": "                                      transaction_id  \\\n0  0xffd4f953670dec6f8ae7d0d79391572912b056b99f6c...   \n1  0x301069fd24dd70d15cdcbebd4f076efe486a82f34724...   \n2  0xa7495eba745bd67279969c1b8687f816e0d83a60bf0c...   \n\n                                    transaction_hash  transaction_logIndex  \\\n0  0xffd4f953670dec6f8ae7d0d79391572912b056b99f6c...                   265   \n1  0x301069fd24dd70d15cdcbebd4f076efe486a82f34724...                   199   \n2  0xa7495eba745bd67279969c1b8687f816e0d83a60bf0c...                   123   \n\n   transaction_timestamp                              transaction_to  \\\n0             1677139223  0x8a6622d293d5187a39f8dba7f6f1ae7fa527483b   \n1             1676615723  0x8a6622d293d5187a39f8dba7f6f1ae7fa527483b   \n2             1676379695  0x8a6622d293d5187a39f8dba7f6f1ae7fa527483b   \n\n                         transaction_asset_id transaction_asset_symbol  \\\n0  0x64aa3364f17a4d01c6f1751fd97c2bd3d7e7f1d5                      OHM   \n1  0x64aa3364f17a4d01c6f1751fd97c2bd3d7e7f1d5                      OHM   \n2  0x64aa3364f17a4d01c6f1751fd97c2bd3d7e7f1d5                      OHM   \n\n   transaction_asset_decimals  transaction_asset_lastPriceUSD  \\\n0                           9                       10.379649   \n1                           9                       10.379649   \n2                           9                       10.379649   \n\n   transaction_asset_lastPriceBlockNumber  transaction_amount  \\\n0                                16694105        450000000000   \n1                                16694105          4973203839   \n2                                16694105      30000000000000   \n\n   transaction_amountUSD                            transaction_from    event  \\\n0            4781.601428  0x642c8ed496a3d05a0ed08911c01f652a0c4b84d4  deposit   \n1              52.678831  0x9b53bed0d62028c0fc5d2006c076cb33e6e6cecd  deposit   \n2          310089.501811  0x245cc372c84b3645bf0ffe6538620b04a217988b  deposit   \n\n   transactionReadableAmount            dateTime  \n0                 450.000000 2023-02-23 08:00:23  \n1                   4.973204 2023-02-17 06:35:23  \n2               30000.000000 2023-02-14 13:01:35  ",
      "text/html": "<div>\n<style scoped>\n    .dataframe tbody tr th:only-of-type {\n        vertical-align: middle;\n    }\n\n    .dataframe tbody tr th {\n        vertical-align: top;\n    }\n\n    .dataframe thead th {\n        text-align: right;\n    }\n</style>\n<table border=\"1\" class=\"dataframe\">\n  <thead>\n    <tr style=\"text-align: right;\">\n      <th></th>\n      <th>transaction_id</th>\n      <th>transaction_hash</th>\n      <th>transaction_logIndex</th>\n      <th>transaction_timestamp</th>\n      <th>transaction_to</th>\n      <th>transaction_asset_id</th>\n      <th>transaction_asset_symbol</th>\n      <th>transaction_asset_decimals</th>\n      <th>transaction_asset_lastPriceUSD</th>\n      <th>transaction_asset_lastPriceBlockNumber</th>\n      <th>transaction_amount</th>\n      <th>transaction_amountUSD</th>\n      <th>transaction_from</th>\n      <th>event</th>\n      <th>transactionReadableAmount</th>\n      <th>dateTime</th>\n    </tr>\n  </thead>\n  <tbody>\n    <tr>\n      <th>0</th>\n      <td>0xffd4f953670dec6f8ae7d0d79391572912b056b99f6c...</td>\n      <td>0xffd4f953670dec6f8ae7d0d79391572912b056b99f6c...</td>\n      <td>265</td>\n      <td>1677139223</td>\n      <td>0x8a6622d293d5187a39f8dba7f6f1ae7fa527483b</td>\n      <td>0x64aa3364f17a4d01c6f1751fd97c2bd3d7e7f1d5</td>\n      <td>OHM</td>\n      <td>9</td>\n      <td>10.379649</td>\n      <td>16694105</td>\n      <td>450000000000</td>\n      <td>4781.601428</td>\n      <td>0x642c8ed496a3d05a0ed08911c01f652a0c4b84d4</td>\n      <td>deposit</td>\n      <td>450.000000</td>\n      <td>2023-02-23 08:00:23</td>\n    </tr>\n    <tr>\n      <th>1</th>\n      <td>0x301069fd24dd70d15cdcbebd4f076efe486a82f34724...</td>\n      <td>0x301069fd24dd70d15cdcbebd4f076efe486a82f34724...</td>\n      <td>199</td>\n      <td>1676615723</td>\n      <td>0x8a6622d293d5187a39f8dba7f6f1ae7fa527483b</td>\n      <td>0x64aa3364f17a4d01c6f1751fd97c2bd3d7e7f1d5</td>\n      <td>OHM</td>\n      <td>9</td>\n      <td>10.379649</td>\n      <td>16694105</td>\n      <td>4973203839</td>\n      <td>52.678831</td>\n      <td>0x9b53bed0d62028c0fc5d2006c076cb33e6e6cecd</td>\n      <td>deposit</td>\n      <td>4.973204</td>\n      <td>2023-02-17 06:35:23</td>\n    </tr>\n    <tr>\n      <th>2</th>\n      <td>0xa7495eba745bd67279969c1b8687f816e0d83a60bf0c...</td>\n      <td>0xa7495eba745bd67279969c1b8687f816e0d83a60bf0c...</td>\n      <td>123</td>\n      <td>1676379695</td>\n      <td>0x8a6622d293d5187a39f8dba7f6f1ae7fa527483b</td>\n      <td>0x64aa3364f17a4d01c6f1751fd97c2bd3d7e7f1d5</td>\n      <td>OHM</td>\n      <td>9</td>\n      <td>10.379649</td>\n      <td>16694105</td>\n      <td>30000000000000</td>\n      <td>310089.501811</td>\n      <td>0x245cc372c84b3645bf0ffe6538620b04a217988b</td>\n      <td>deposit</td>\n      <td>30000.000000</td>\n      <td>2023-02-14 13:01:35</td>\n    </tr>\n  </tbody>\n</table>\n</div>"
     },
     "execution_count": 39,
     "metadata": {},
     "output_type": "execute_result"
    }
   ],
   "source": [
    "eulerDepositsDb['transactionReadableAmount'] = eulerDepositsDb['transaction_amount']*1e-9\n",
    "eulerDepositsDb['dateTime'] =(pd.to_datetime(eulerDepositsDb['transaction_timestamp'],unit='s'))\n",
    "eulerDepositsDb.head(10)"
   ],
   "metadata": {
    "collapsed": false
   }
  },
  {
   "cell_type": "code",
   "execution_count": 40,
   "outputs": [
    {
     "name": "stdout",
     "output_type": "stream",
     "text": [
      "<class 'pandas.core.frame.DataFrame'>\n",
      "RangeIndex: 3 entries, 0 to 2\n",
      "Data columns (total 16 columns):\n",
      " #   Column                                  Non-Null Count  Dtype         \n",
      "---  ------                                  --------------  -----         \n",
      " 0   transaction_id                          3 non-null      object        \n",
      " 1   transaction_hash                        3 non-null      object        \n",
      " 2   transaction_logIndex                    3 non-null      int64         \n",
      " 3   transaction_timestamp                   3 non-null      int64         \n",
      " 4   transaction_to                          3 non-null      object        \n",
      " 5   transaction_asset_id                    3 non-null      object        \n",
      " 6   transaction_asset_symbol                3 non-null      object        \n",
      " 7   transaction_asset_decimals              3 non-null      int64         \n",
      " 8   transaction_asset_lastPriceUSD          3 non-null      float64       \n",
      " 9   transaction_asset_lastPriceBlockNumber  3 non-null      int64         \n",
      " 10  transaction_amount                      3 non-null      int64         \n",
      " 11  transaction_amountUSD                   3 non-null      float64       \n",
      " 12  transaction_from                        3 non-null      object        \n",
      " 13  event                                   3 non-null      object        \n",
      " 14  transactionReadableAmount               3 non-null      float64       \n",
      " 15  dateTime                                3 non-null      datetime64[ns]\n",
      "dtypes: datetime64[ns](1), float64(3), int64(5), object(7)\n",
      "memory usage: 512.0+ bytes\n"
     ]
    }
   ],
   "source": [
    "eulerDepositsDb.info()"
   ],
   "metadata": {
    "collapsed": false
   }
  },
  {
   "cell_type": "code",
   "execution_count": 41,
   "outputs": [
    {
     "name": "stdout",
     "output_type": "stream",
     "text": [
      "There has been a total of 30454.97 OHM deposited cumulatively to date\n"
     ]
    }
   ],
   "source": [
    "totalDepositedEuler = sum(eulerDepositsDb['transactionReadableAmount'])\n",
    "print('There has been a total of', round(totalDepositedEuler, 2), 'OHM deposited cumulatively to date')"
   ],
   "metadata": {
    "collapsed": false
   }
  },
  {
   "cell_type": "code",
   "execution_count": 42,
   "outputs": [
    {
     "name": "stdout",
     "output_type": "stream",
     "text": [
      "That's $ 314923.78 USD deposited at last price\n"
     ]
    }
   ],
   "source": [
    "totalDepositedUSDEuler = sum(eulerDepositsDb['transaction_amountUSD'])\n",
    "print('That\\'s $', round(totalDepositedUSDEuler, 2), 'USD deposited at last price')"
   ],
   "metadata": {
    "collapsed": false
   }
  },
  {
   "cell_type": "code",
   "execution_count": 43,
   "outputs": [
    {
     "name": "stdout",
     "output_type": "stream",
     "text": [
      "D:\\Dropbox\\Documents\\Edgecaser LLC\\Projects\\Olympus\\Econohmetrics\\ohmBorrowing/data/eulerFinanceOhmDeposits_piped.csv file saved, 1  records\n"
     ]
    }
   ],
   "source": [
    "path =file+'/eulerFinanceOhmDeposits.csv'\n",
    "eulerDepositsDb.to_csv(path, index = False)\n",
    "\n",
    "path =file+'/eulerFinanceOhmDeposits_piped.csv'\n",
    "eulerDepositsDb.to_csv(path, index = False, sep='|')\n",
    "print(path, 'file saved,', len(siloWithdrawEventsDbTimedClean),' records')"
   ],
   "metadata": {
    "collapsed": false
   }
  },
  {
   "cell_type": "markdown",
   "source": [],
   "metadata": {
    "collapsed": false
   }
  },
  {
   "cell_type": "markdown",
   "source": [
    "****************************************************************************************************************\n",
    "****************************************************************************************************************\n",
    "EULER WITHDRAWAL EVENTS (none as of 02/19)"
   ],
   "metadata": {
    "collapsed": false
   }
  },
  {
   "cell_type": "code",
   "execution_count": 44,
   "outputs": [
    {
     "data": {
      "text/plain": "Empty DataFrame\nColumns: []\nIndex: []",
      "text/html": "<div>\n<style scoped>\n    .dataframe tbody tr th:only-of-type {\n        vertical-align: middle;\n    }\n\n    .dataframe tbody tr th {\n        vertical-align: top;\n    }\n\n    .dataframe thead th {\n        text-align: right;\n    }\n</style>\n<table border=\"1\" class=\"dataframe\">\n  <thead>\n    <tr style=\"text-align: right;\">\n      <th></th>\n    </tr>\n  </thead>\n  <tbody>\n  </tbody>\n</table>\n</div>"
     },
     "execution_count": 44,
     "metadata": {},
     "output_type": "execute_result"
    }
   ],
   "source": [
    "oldEulerWithdrawsDb = pd.DataFrame()\n",
    "EulerFileName = file+'/EulerFinanceGohmWithdraws.csv'\n",
    "try:\n",
    "    oldEulerWithdrawsDb = pd.read_csv (EulerFileName)\n",
    "except:\n",
    "    oldEulerWithdrawsDb = pd.DataFrame()\n",
    "oldEulerWithdrawsDb.head(100)"
   ],
   "metadata": {
    "collapsed": false
   }
  },
  {
   "cell_type": "code",
   "execution_count": 45,
   "outputs": [
    {
     "data": {
      "text/plain": "0"
     },
     "execution_count": 45,
     "metadata": {},
     "output_type": "execute_result"
    }
   ],
   "source": [
    "maxEulerWithdrawsTimestamp = 0\n",
    "try:\n",
    "    maxEulerWithdrawsTimestamp = (max(0,oldEulerWithdrawssDb['transaction_timestamp'].max()))-5\n",
    "except:\n",
    "        maxEulerWithdrawsTimestamp = 0\n",
    "maxEulerWithdrawsTimestamp = int(maxEulerWithdrawsTimestamp)\n",
    "maxEulerWithdrawsTimestamp"
   ],
   "metadata": {
    "collapsed": false
   }
  },
  {
   "cell_type": "code",
   "execution_count": 46,
   "outputs": [
    {
     "data": {
      "text/plain": "Empty DataFrame\nColumns: [withdraws_id, withdraws_hash, withdraws_logIndex, withdraws_timestamp, withdraws_to, withdraws_asset_id, withdraws_asset_symbol, withdraws_asset_decimals, withdraws_asset_lastPriceUSD, withdraws_asset_lastPriceBlockNumber, withdraws_amount, withdraws_amountUSD, withdraws_from]\nIndex: []",
      "text/html": "<div>\n<style scoped>\n    .dataframe tbody tr th:only-of-type {\n        vertical-align: middle;\n    }\n\n    .dataframe tbody tr th {\n        vertical-align: top;\n    }\n\n    .dataframe thead th {\n        text-align: right;\n    }\n</style>\n<table border=\"1\" class=\"dataframe\">\n  <thead>\n    <tr style=\"text-align: right;\">\n      <th></th>\n      <th>withdraws_id</th>\n      <th>withdraws_hash</th>\n      <th>withdraws_logIndex</th>\n      <th>withdraws_timestamp</th>\n      <th>withdraws_to</th>\n      <th>withdraws_asset_id</th>\n      <th>withdraws_asset_symbol</th>\n      <th>withdraws_asset_decimals</th>\n      <th>withdraws_asset_lastPriceUSD</th>\n      <th>withdraws_asset_lastPriceBlockNumber</th>\n      <th>withdraws_amount</th>\n      <th>withdraws_amountUSD</th>\n      <th>withdraws_from</th>\n    </tr>\n  </thead>\n  <tbody>\n  </tbody>\n</table>\n</div>"
     },
     "execution_count": 46,
     "metadata": {},
     "output_type": "execute_result"
    }
   ],
   "source": [
    "##this captures the ENTIRE list of people who withdrawed OHM\n",
    "try:\n",
    "    withdrawTicker = 0\n",
    "    withdrawslist = pd.DataFrame()\n",
    "    eulerWithdrawsDb = pd.DataFrame()\n",
    "    withdrawListLength = 1000\n",
    "    datediff = 0\n",
    "    now=0\n",
    "    daysAgo=0\n",
    "    #daysLimit = 45\n",
    "    exit = False\n",
    "    while exit==False:\n",
    "        skipValue = (withdrawTicker)*(1000)\n",
    "        withdraws = euler.Query.withdraws(\n",
    "            orderBy='timestamp',\n",
    "            orderDirection='desc',\n",
    "            first=1000,\n",
    "            skip = skipValue,\n",
    "            where={ #'timestamp_gte': maxEulerBorrowTimestamp\n",
    "                    #,'hash': '0x301069fd24dd70d15cdcbebd4f076efe486a82f347240703adcb1713a6582e98'\n",
    "                    'market':'0x8a6622d293d5187a39f8dba7f6f1ae7fa527483b'\n",
    "                    ,'asset':'0x64aa3364f17a4d01c6f1751fd97c2bd3d7e7f1d5'\n",
    "                    }\n",
    "            )\n",
    "\n",
    "        withdrawslist = sg.query_df([\n",
    "            withdraws.id\n",
    "            ,withdraws.hash\n",
    "            ,withdraws.logIndex\n",
    "            ,withdraws.timestamp\n",
    "            ,withdraws.to\n",
    "            ,withdraws.asset.id\n",
    "            ,withdraws.asset.symbol\n",
    "            ,withdraws.asset.decimals\n",
    "            ,withdraws.asset.lastPriceUSD\n",
    "            ,withdraws.asset.lastPriceBlockNumber\n",
    "            ,withdraws.amount\n",
    "            ,withdraws.amountUSD\n",
    "            ,withdraws._select(\"from\")\n",
    "        ])\n",
    "\n",
    "        eulerWithdrawsDb=pd.concat([eulerWithdrawsDb, withdrawslist])\n",
    "        recordTimestamp1 = eulerWithdrawsDb.iat[withdrawTicker,3]\n",
    "        recordTimestamp = dt.datetime.fromtimestamp( recordTimestamp1 )\n",
    "        now = (int(dt.datetime.utcnow().timestamp()))\n",
    "        datediff=abs(int(now) - recordTimestamp1)\n",
    "        daysAgo = int(datediff/86400)\n",
    "        eulerwithdrawsDbLength = len(eulerWithdrawsDb)\n",
    "        eulerwithdrawListLength = len(withdrawslist)\n",
    "        recordID = eulerWithdrawsDb.iat[withdrawTicker,0]\n",
    "        withdraw = eulerWithdrawsDb.iat[withdrawTicker,1]\n",
    "        print(\"iterations: \", withdrawTicker, \"Lines skipped: \",skipValue, \"records collected: \", eulerwithdrawListLength, \" - latest recordID: \",withdraw, \" \", recordID , \" - withdraws DB length: \", eulerwithdrawsDbLength, \" - latest record from: \", recordTimestamp, daysAgo,\"days ago\")\n",
    "        #print(\"iterations: \", withdrawTicker, \"records collected: \", withdrawListLength, \" - userdb length: \", withdrawsDbLength)\n",
    "        withdrawTicker = withdrawTicker+1\n",
    "\n",
    "        if daysAgo>daysLimit: exit =True\n",
    "        if withdrawListLength<1000: exit =True\n",
    "\n",
    "    eulerWithdrawsDb.columns = eulerWithdrawsDb.columns.str.replace(\"withdraws\", \"transaction\")\n",
    "    eulerWithdrawsDb['event']='withdraw'\n",
    "    eulerWithdrawsDb.drop_duplicates\n",
    "    print(\"Done. Total Records collected: \", eulerwithdrawsDbLength)\n",
    "except:\n",
    "    eulerWithdrawsDb =pd.DataFrame()\n",
    "    eulerWithdrawsDb['withdraws_id']=[]\n",
    "    eulerWithdrawsDb['withdraws_hash']=[]\n",
    "    eulerWithdrawsDb['withdraws_logIndex']=[]\n",
    "    eulerWithdrawsDb['withdraws_timestamp']=[]\n",
    "    eulerWithdrawsDb['withdraws_to']=[]\n",
    "    eulerWithdrawsDb['withdraws_asset_id']=[]\n",
    "    eulerWithdrawsDb['withdraws_asset_symbol']=[]\n",
    "    eulerWithdrawsDb['withdraws_asset_decimals']=[]\n",
    "    eulerWithdrawsDb['withdraws_asset_lastPriceUSD']=[]\n",
    "    eulerWithdrawsDb['withdraws_asset_lastPriceBlockNumber']=[]\n",
    "    eulerWithdrawsDb['withdraws_amount']=[]\n",
    "    eulerWithdrawsDb['withdraws_amountUSD']=[]\n",
    "    eulerWithdrawsDb['withdraws_from']=[]\n",
    "eulerWithdrawsDb.head(10)"
   ],
   "metadata": {
    "collapsed": false
   }
  },
  {
   "cell_type": "code",
   "execution_count": 47,
   "outputs": [
    {
     "data": {
      "text/plain": "Empty DataFrame\nColumns: [withdraws_id, withdraws_hash, withdraws_logIndex, withdraws_timestamp, withdraws_to, withdraws_asset_id, withdraws_asset_symbol, withdraws_asset_decimals, withdraws_asset_lastPriceUSD, withdraws_asset_lastPriceBlockNumber, withdraws_amount, withdraws_amountUSD, withdraws_from, transactionReadableAmount, dateTime]\nIndex: []",
      "text/html": "<div>\n<style scoped>\n    .dataframe tbody tr th:only-of-type {\n        vertical-align: middle;\n    }\n\n    .dataframe tbody tr th {\n        vertical-align: top;\n    }\n\n    .dataframe thead th {\n        text-align: right;\n    }\n</style>\n<table border=\"1\" class=\"dataframe\">\n  <thead>\n    <tr style=\"text-align: right;\">\n      <th></th>\n      <th>withdraws_id</th>\n      <th>withdraws_hash</th>\n      <th>withdraws_logIndex</th>\n      <th>withdraws_timestamp</th>\n      <th>withdraws_to</th>\n      <th>withdraws_asset_id</th>\n      <th>withdraws_asset_symbol</th>\n      <th>withdraws_asset_decimals</th>\n      <th>withdraws_asset_lastPriceUSD</th>\n      <th>withdraws_asset_lastPriceBlockNumber</th>\n      <th>withdraws_amount</th>\n      <th>withdraws_amountUSD</th>\n      <th>withdraws_from</th>\n      <th>transactionReadableAmount</th>\n      <th>dateTime</th>\n    </tr>\n  </thead>\n  <tbody>\n  </tbody>\n</table>\n</div>"
     },
     "execution_count": 47,
     "metadata": {},
     "output_type": "execute_result"
    }
   ],
   "source": [
    "eulerWithdrawEventsDbTimedClean = pd.DataFrame()\n",
    "eulerWithdrawsDb['transactionReadableAmount'] = eulerWithdrawsDb['withdraws_amount']/(10**(eulerWithdrawsDb['withdraws_asset_decimals']))\n",
    "\n",
    "eulerWithdrawsDb['transactionReadableAmount']=eulerWithdrawsDb['transactionReadableAmount'].astype('float')\n",
    "eulerWithdrawsDb['dateTime'] =(pd.to_datetime(eulerWithdrawsDb['withdraws_timestamp'],unit='s'))\n",
    "eulerWithdrawsDb.head(10)"
   ],
   "metadata": {
    "collapsed": false
   }
  },
  {
   "cell_type": "code",
   "execution_count": 48,
   "outputs": [
    {
     "name": "stdout",
     "output_type": "stream",
     "text": [
      "Error.No events, perhaps?\n"
     ]
    }
   ],
   "source": [
    "try:\n",
    "    eulerWithdrawEventsDbTimedClean = eulerWithdrawsDb['withdraws_id','withdraws_hash','withdraws_logIndex','withdraws_to','withdraws_asset_id','withdraws_asset_symbol','withdraws_asset_decimals', 'withdraws_asset_lastPriceUSD','withdraws_asset_lastPriceBlockNumber','withdraws_amount','withdraws_from','dateTime'].copy()\n",
    "    eulerWithdrawEventsDbTimedClean.sort_values(by=['withdraws_id','withdraws_hash','withdraws_logIndex','withdraws_to','withdraws_asset_id','withdraws_asset_symbol','withdraws_asset_decimals', 'withdraws_asset_lastPriceUSD','withdraws_asset_lastPriceBlockNumber','withdraws_amount','withdraws_from','dateTime'])\n",
    "    eulerWithdrawEventsDbTimedClean.drop_duplicates(subset=['withdraws_hash'],keep='first', inplace=True)\n",
    "    eulerWithdrawEventsDbTimedClean['calDate'] = eulerWithdrawEventsDbTimedClean['dateTime'].dt.normalize()\n",
    "    eulerWithdrawsDb.head(100)\n",
    "except:\n",
    "    print('Error.No events, perhaps?')"
   ],
   "metadata": {
    "collapsed": false
   }
  },
  {
   "cell_type": "code",
   "execution_count": null,
   "outputs": [],
   "source": [
    "****************************************************************************************************************\n",
    "****************************************************************************************************************\n",
    "COMBINE DEPOSIT EVENTS"
   ],
   "metadata": {
    "collapsed": false
   }
  },
  {
   "cell_type": "markdown",
   "source": [
    "****************************************************************************************************************\n",
    "****************************************************************************************************************\n",
    "COMBINE DEPOSIT EVENTS"
   ],
   "metadata": {
    "collapsed": false
   }
  },
  {
   "cell_type": "code",
   "execution_count": 49,
   "outputs": [
    {
     "data": {
      "text/plain": "                                      transaction_id  transaction_timestamp  \\\n0  0xffd4f953670dec6f8ae7d0d79391572912b056b99f6c...             1677139223   \n1  0x301069fd24dd70d15cdcbebd4f076efe486a82f34724...             1676615723   \n2  0xa7495eba745bd67279969c1b8687f816e0d83a60bf0c...             1676379695   \n\n             dateTime                            transaction_from  \\\n0 2023-02-23 08:00:23  0x642c8ed496a3d05a0ed08911c01f652a0c4b84d4   \n1 2023-02-17 06:35:23  0x9b53bed0d62028c0fc5d2006c076cb33e6e6cecd   \n2 2023-02-14 13:01:35  0x245cc372c84b3645bf0ffe6538620b04a217988b   \n\n  asset_symbol  readableAmount  transaction_amountUSD protocol  \\\n0          OHM      450.000000            4781.601428    Euler   \n1          OHM        4.973204              52.678831    Euler   \n2          OHM    30000.000000          310089.501811    Euler   \n\n              action  \n0  depositCollateral  \n1  depositCollateral  \n2  depositCollateral  ",
      "text/html": "<div>\n<style scoped>\n    .dataframe tbody tr th:only-of-type {\n        vertical-align: middle;\n    }\n\n    .dataframe tbody tr th {\n        vertical-align: top;\n    }\n\n    .dataframe thead th {\n        text-align: right;\n    }\n</style>\n<table border=\"1\" class=\"dataframe\">\n  <thead>\n    <tr style=\"text-align: right;\">\n      <th></th>\n      <th>transaction_id</th>\n      <th>transaction_timestamp</th>\n      <th>dateTime</th>\n      <th>transaction_from</th>\n      <th>asset_symbol</th>\n      <th>readableAmount</th>\n      <th>transaction_amountUSD</th>\n      <th>protocol</th>\n      <th>action</th>\n    </tr>\n  </thead>\n  <tbody>\n    <tr>\n      <th>0</th>\n      <td>0xffd4f953670dec6f8ae7d0d79391572912b056b99f6c...</td>\n      <td>1677139223</td>\n      <td>2023-02-23 08:00:23</td>\n      <td>0x642c8ed496a3d05a0ed08911c01f652a0c4b84d4</td>\n      <td>OHM</td>\n      <td>450.000000</td>\n      <td>4781.601428</td>\n      <td>Euler</td>\n      <td>depositCollateral</td>\n    </tr>\n    <tr>\n      <th>1</th>\n      <td>0x301069fd24dd70d15cdcbebd4f076efe486a82f34724...</td>\n      <td>1676615723</td>\n      <td>2023-02-17 06:35:23</td>\n      <td>0x9b53bed0d62028c0fc5d2006c076cb33e6e6cecd</td>\n      <td>OHM</td>\n      <td>4.973204</td>\n      <td>52.678831</td>\n      <td>Euler</td>\n      <td>depositCollateral</td>\n    </tr>\n    <tr>\n      <th>2</th>\n      <td>0xa7495eba745bd67279969c1b8687f816e0d83a60bf0c...</td>\n      <td>1676379695</td>\n      <td>2023-02-14 13:01:35</td>\n      <td>0x245cc372c84b3645bf0ffe6538620b04a217988b</td>\n      <td>OHM</td>\n      <td>30000.000000</td>\n      <td>310089.501811</td>\n      <td>Euler</td>\n      <td>depositCollateral</td>\n    </tr>\n  </tbody>\n</table>\n</div>"
     },
     "execution_count": 49,
     "metadata": {},
     "output_type": "execute_result"
    }
   ],
   "source": [
    "#COLLATERALDEPOSITS\n",
    "eulerDepositsDbPreMerge = db.query(\n",
    "    \"select distinct\"\n",
    "    \" transaction_hash transaction_id \"\n",
    "    \", transaction_timestamp  \"\n",
    "    \", dateTime \"\n",
    "    \", transaction_from  \"\n",
    "    \", transaction_asset_symbol asset_symbol\"\n",
    "    \", transactionReadableAmount readableAmount \"\n",
    "    \", transaction_amountUSD transaction_amountUSD \"\n",
    "    \"from eulerDepositsDb \"\n",
    ").df()\n",
    "eulerDepositsDbPreMerge['protocol'] = 'Euler'\n",
    "eulerDepositsDbPreMerge['action'] = 'depositCollateral'\n",
    "eulerDepositsDbPreMerge.head(10)\n",
    "\n"
   ],
   "metadata": {
    "collapsed": false
   }
  },
  {
   "cell_type": "code",
   "execution_count": 50,
   "outputs": [
    {
     "data": {
      "text/plain": "      event                                   transaction_hash  \\\n12  deposit  0x1c37394aaabc2445a66b61a360cf08ae096b7582e2ed...   \n\n    transaction_blockNumber  transaction_timestamp  \\\n12                 16646360             1676611691   \n\n                        transaction_account_id  \\\n12  0x9b53bed0d62028c0fc5d2006c076cb33e6e6cecd   \n\n                         transaction_market_id transaction_asset_name  \\\n12  0xf5ffabab8f9a6f4f6de1f0dd6e0820f68657d7db                Olympus   \n\n   transaction_asset_symbol  transactionReadableAmount  \\\n12                      OHM                       10.0   \n\n    transaction_asset_lastPriceUSD  transaction_amountUSD            dateTime  \\\n12                       10.379649              105.92534 2023-02-17 05:28:11   \n\n      calDate  \n12 2023-02-17  ",
      "text/html": "<div>\n<style scoped>\n    .dataframe tbody tr th:only-of-type {\n        vertical-align: middle;\n    }\n\n    .dataframe tbody tr th {\n        vertical-align: top;\n    }\n\n    .dataframe thead th {\n        text-align: right;\n    }\n</style>\n<table border=\"1\" class=\"dataframe\">\n  <thead>\n    <tr style=\"text-align: right;\">\n      <th></th>\n      <th>event</th>\n      <th>transaction_hash</th>\n      <th>transaction_blockNumber</th>\n      <th>transaction_timestamp</th>\n      <th>transaction_account_id</th>\n      <th>transaction_market_id</th>\n      <th>transaction_asset_name</th>\n      <th>transaction_asset_symbol</th>\n      <th>transactionReadableAmount</th>\n      <th>transaction_asset_lastPriceUSD</th>\n      <th>transaction_amountUSD</th>\n      <th>dateTime</th>\n      <th>calDate</th>\n    </tr>\n  </thead>\n  <tbody>\n    <tr>\n      <th>12</th>\n      <td>deposit</td>\n      <td>0x1c37394aaabc2445a66b61a360cf08ae096b7582e2ed...</td>\n      <td>16646360</td>\n      <td>1676611691</td>\n      <td>0x9b53bed0d62028c0fc5d2006c076cb33e6e6cecd</td>\n      <td>0xf5ffabab8f9a6f4f6de1f0dd6e0820f68657d7db</td>\n      <td>Olympus</td>\n      <td>OHM</td>\n      <td>10.0</td>\n      <td>10.379649</td>\n      <td>105.92534</td>\n      <td>2023-02-17 05:28:11</td>\n      <td>2023-02-17</td>\n    </tr>\n  </tbody>\n</table>\n</div>"
     },
     "execution_count": 50,
     "metadata": {},
     "output_type": "execute_result"
    }
   ],
   "source": [
    "siloDepositEventsDbTimedClean.head(1)"
   ],
   "metadata": {
    "collapsed": false
   }
  },
  {
   "cell_type": "code",
   "execution_count": 51,
   "outputs": [
    {
     "data": {
      "text/plain": "                                      transaction_id  transaction_timestamp  \\\n0  0x1c37394aaabc2445a66b61a360cf08ae096b7582e2ed...             1676611691   \n1  0xf9bbcc923182fb6406e97fce0f92c22c87a284d55812...             1676379599   \n2  0x0aa351eb8ff1ca2bd6c4e65229f83c7e5b596d72c889...             1676360171   \n\n             dateTime                            transaction_from  \\\n0 2023-02-17 05:28:11  0x9b53bed0d62028c0fc5d2006c076cb33e6e6cecd   \n1 2023-02-14 12:59:59  0x245cc372c84b3645bf0ffe6538620b04a217988b   \n2 2023-02-14 07:36:11  0xc0b1f200aa9546ce074397bed7438bb2ec033877   \n\n  asset_symbol  readableAmount  transaction_amountUSD protocol  \\\n0          OHM       10.000000             105.925340     Silo   \n1          OHM    20000.000000          206726.334541     Silo   \n2          OHM        2.514698              26.317329     Silo   \n\n              action  \n0  depositCollateral  \n1  depositCollateral  \n2  depositCollateral  ",
      "text/html": "<div>\n<style scoped>\n    .dataframe tbody tr th:only-of-type {\n        vertical-align: middle;\n    }\n\n    .dataframe tbody tr th {\n        vertical-align: top;\n    }\n\n    .dataframe thead th {\n        text-align: right;\n    }\n</style>\n<table border=\"1\" class=\"dataframe\">\n  <thead>\n    <tr style=\"text-align: right;\">\n      <th></th>\n      <th>transaction_id</th>\n      <th>transaction_timestamp</th>\n      <th>dateTime</th>\n      <th>transaction_from</th>\n      <th>asset_symbol</th>\n      <th>readableAmount</th>\n      <th>transaction_amountUSD</th>\n      <th>protocol</th>\n      <th>action</th>\n    </tr>\n  </thead>\n  <tbody>\n    <tr>\n      <th>0</th>\n      <td>0x1c37394aaabc2445a66b61a360cf08ae096b7582e2ed...</td>\n      <td>1676611691</td>\n      <td>2023-02-17 05:28:11</td>\n      <td>0x9b53bed0d62028c0fc5d2006c076cb33e6e6cecd</td>\n      <td>OHM</td>\n      <td>10.000000</td>\n      <td>105.925340</td>\n      <td>Silo</td>\n      <td>depositCollateral</td>\n    </tr>\n    <tr>\n      <th>1</th>\n      <td>0xf9bbcc923182fb6406e97fce0f92c22c87a284d55812...</td>\n      <td>1676379599</td>\n      <td>2023-02-14 12:59:59</td>\n      <td>0x245cc372c84b3645bf0ffe6538620b04a217988b</td>\n      <td>OHM</td>\n      <td>20000.000000</td>\n      <td>206726.334541</td>\n      <td>Silo</td>\n      <td>depositCollateral</td>\n    </tr>\n    <tr>\n      <th>2</th>\n      <td>0x0aa351eb8ff1ca2bd6c4e65229f83c7e5b596d72c889...</td>\n      <td>1676360171</td>\n      <td>2023-02-14 07:36:11</td>\n      <td>0xc0b1f200aa9546ce074397bed7438bb2ec033877</td>\n      <td>OHM</td>\n      <td>2.514698</td>\n      <td>26.317329</td>\n      <td>Silo</td>\n      <td>depositCollateral</td>\n    </tr>\n  </tbody>\n</table>\n</div>"
     },
     "execution_count": 51,
     "metadata": {},
     "output_type": "execute_result"
    }
   ],
   "source": [
    "siloDepositsDbPreMerge = db.query(\n",
    "    \"select distinct\"\n",
    "    \" transaction_hash  transaction_id\"\n",
    "    \", transaction_timestamp  \"\n",
    "    \", dateTime \"\n",
    "    \", transaction_account_id  transaction_from\"\n",
    "    \", transaction_asset_symbol asset_symbol \"\n",
    "    \", transactionReadableAmount readableAmount \"\n",
    "    \", transaction_amountUSD  \"\n",
    "    \"from siloDepositEventsDbTimedClean \"\n",
    ").df()\n",
    "siloDepositsDbPreMerge['protocol'] = 'Silo'\n",
    "siloDepositsDbPreMerge['action'] = 'depositCollateral'\n",
    "siloDepositsDbPreMerge.head(10)\n"
   ],
   "metadata": {
    "collapsed": false
   }
  },
  {
   "cell_type": "code",
   "execution_count": 52,
   "outputs": [
    {
     "data": {
      "text/plain": "                                      transaction_id  transaction_timestamp  \\\n0  0xffd4f953670dec6f8ae7d0d79391572912b056b99f6c...             1677139223   \n1  0x301069fd24dd70d15cdcbebd4f076efe486a82f34724...             1676615723   \n2  0xa7495eba745bd67279969c1b8687f816e0d83a60bf0c...             1676379695   \n0  0x1c37394aaabc2445a66b61a360cf08ae096b7582e2ed...             1676611691   \n1  0xf9bbcc923182fb6406e97fce0f92c22c87a284d55812...             1676379599   \n2  0x0aa351eb8ff1ca2bd6c4e65229f83c7e5b596d72c889...             1676360171   \n\n             dateTime                            transaction_from  \\\n0 2023-02-23 08:00:23  0x642c8ed496a3d05a0ed08911c01f652a0c4b84d4   \n1 2023-02-17 06:35:23  0x9b53bed0d62028c0fc5d2006c076cb33e6e6cecd   \n2 2023-02-14 13:01:35  0x245cc372c84b3645bf0ffe6538620b04a217988b   \n0 2023-02-17 05:28:11  0x9b53bed0d62028c0fc5d2006c076cb33e6e6cecd   \n1 2023-02-14 12:59:59  0x245cc372c84b3645bf0ffe6538620b04a217988b   \n2 2023-02-14 07:36:11  0xc0b1f200aa9546ce074397bed7438bb2ec033877   \n\n  asset_symbol  readableAmount  transaction_amountUSD protocol  \\\n0          OHM      450.000000            4781.601428    Euler   \n1          OHM        4.973204              52.678831    Euler   \n2          OHM    30000.000000          310089.501811    Euler   \n0          OHM       10.000000             105.925340     Silo   \n1          OHM    20000.000000          206726.334541     Silo   \n2          OHM        2.514698              26.317329     Silo   \n\n              action  \n0  depositCollateral  \n1  depositCollateral  \n2  depositCollateral  \n0  depositCollateral  \n1  depositCollateral  \n2  depositCollateral  ",
      "text/html": "<div>\n<style scoped>\n    .dataframe tbody tr th:only-of-type {\n        vertical-align: middle;\n    }\n\n    .dataframe tbody tr th {\n        vertical-align: top;\n    }\n\n    .dataframe thead th {\n        text-align: right;\n    }\n</style>\n<table border=\"1\" class=\"dataframe\">\n  <thead>\n    <tr style=\"text-align: right;\">\n      <th></th>\n      <th>transaction_id</th>\n      <th>transaction_timestamp</th>\n      <th>dateTime</th>\n      <th>transaction_from</th>\n      <th>asset_symbol</th>\n      <th>readableAmount</th>\n      <th>transaction_amountUSD</th>\n      <th>protocol</th>\n      <th>action</th>\n    </tr>\n  </thead>\n  <tbody>\n    <tr>\n      <th>0</th>\n      <td>0xffd4f953670dec6f8ae7d0d79391572912b056b99f6c...</td>\n      <td>1677139223</td>\n      <td>2023-02-23 08:00:23</td>\n      <td>0x642c8ed496a3d05a0ed08911c01f652a0c4b84d4</td>\n      <td>OHM</td>\n      <td>450.000000</td>\n      <td>4781.601428</td>\n      <td>Euler</td>\n      <td>depositCollateral</td>\n    </tr>\n    <tr>\n      <th>1</th>\n      <td>0x301069fd24dd70d15cdcbebd4f076efe486a82f34724...</td>\n      <td>1676615723</td>\n      <td>2023-02-17 06:35:23</td>\n      <td>0x9b53bed0d62028c0fc5d2006c076cb33e6e6cecd</td>\n      <td>OHM</td>\n      <td>4.973204</td>\n      <td>52.678831</td>\n      <td>Euler</td>\n      <td>depositCollateral</td>\n    </tr>\n    <tr>\n      <th>2</th>\n      <td>0xa7495eba745bd67279969c1b8687f816e0d83a60bf0c...</td>\n      <td>1676379695</td>\n      <td>2023-02-14 13:01:35</td>\n      <td>0x245cc372c84b3645bf0ffe6538620b04a217988b</td>\n      <td>OHM</td>\n      <td>30000.000000</td>\n      <td>310089.501811</td>\n      <td>Euler</td>\n      <td>depositCollateral</td>\n    </tr>\n    <tr>\n      <th>0</th>\n      <td>0x1c37394aaabc2445a66b61a360cf08ae096b7582e2ed...</td>\n      <td>1676611691</td>\n      <td>2023-02-17 05:28:11</td>\n      <td>0x9b53bed0d62028c0fc5d2006c076cb33e6e6cecd</td>\n      <td>OHM</td>\n      <td>10.000000</td>\n      <td>105.925340</td>\n      <td>Silo</td>\n      <td>depositCollateral</td>\n    </tr>\n    <tr>\n      <th>1</th>\n      <td>0xf9bbcc923182fb6406e97fce0f92c22c87a284d55812...</td>\n      <td>1676379599</td>\n      <td>2023-02-14 12:59:59</td>\n      <td>0x245cc372c84b3645bf0ffe6538620b04a217988b</td>\n      <td>OHM</td>\n      <td>20000.000000</td>\n      <td>206726.334541</td>\n      <td>Silo</td>\n      <td>depositCollateral</td>\n    </tr>\n    <tr>\n      <th>2</th>\n      <td>0x0aa351eb8ff1ca2bd6c4e65229f83c7e5b596d72c889...</td>\n      <td>1676360171</td>\n      <td>2023-02-14 07:36:11</td>\n      <td>0xc0b1f200aa9546ce074397bed7438bb2ec033877</td>\n      <td>OHM</td>\n      <td>2.514698</td>\n      <td>26.317329</td>\n      <td>Silo</td>\n      <td>depositCollateral</td>\n    </tr>\n  </tbody>\n</table>\n</div>"
     },
     "execution_count": 52,
     "metadata": {},
     "output_type": "execute_result"
    }
   ],
   "source": [
    "ohmDeposits = pd.concat([eulerDepositsDbPreMerge,siloDepositsDbPreMerge])\n",
    "ohmDeposits.head(100)"
   ],
   "metadata": {
    "collapsed": false
   }
  },
  {
   "cell_type": "code",
   "execution_count": 53,
   "outputs": [],
   "source": [
    "ohmDeposits.columns = ohmDeposits.columns.str.replace(\"actions\", \"transaction\")"
   ],
   "metadata": {
    "collapsed": false
   }
  },
  {
   "cell_type": "code",
   "execution_count": 54,
   "outputs": [
    {
     "data": {
      "text/plain": "                                      transaction_id  transaction_timestamp  \\\n0  0xffd4f953670dec6f8ae7d0d79391572912b056b99f6c...             1677139223   \n1  0x301069fd24dd70d15cdcbebd4f076efe486a82f34724...             1676615723   \n2  0xa7495eba745bd67279969c1b8687f816e0d83a60bf0c...             1676379695   \n0  0x1c37394aaabc2445a66b61a360cf08ae096b7582e2ed...             1676611691   \n1  0xf9bbcc923182fb6406e97fce0f92c22c87a284d55812...             1676379599   \n2  0x0aa351eb8ff1ca2bd6c4e65229f83c7e5b596d72c889...             1676360171   \n\n             dateTime                            transaction_from  \\\n0 2023-02-23 08:00:23  0x642c8ed496a3d05a0ed08911c01f652a0c4b84d4   \n1 2023-02-17 06:35:23  0x9b53bed0d62028c0fc5d2006c076cb33e6e6cecd   \n2 2023-02-14 13:01:35  0x245cc372c84b3645bf0ffe6538620b04a217988b   \n0 2023-02-17 05:28:11  0x9b53bed0d62028c0fc5d2006c076cb33e6e6cecd   \n1 2023-02-14 12:59:59  0x245cc372c84b3645bf0ffe6538620b04a217988b   \n2 2023-02-14 07:36:11  0xc0b1f200aa9546ce074397bed7438bb2ec033877   \n\n  asset_symbol  readableAmount  transaction_amountUSD protocol  \\\n0          OHM      450.000000            4781.601428    Euler   \n1          OHM        4.973204              52.678831    Euler   \n2          OHM    30000.000000          310089.501811    Euler   \n0          OHM       10.000000             105.925340     Silo   \n1          OHM    20000.000000          206726.334541     Silo   \n2          OHM        2.514698              26.317329     Silo   \n\n              action  \n0  depositCollateral  \n1  depositCollateral  \n2  depositCollateral  \n0  depositCollateral  \n1  depositCollateral  \n2  depositCollateral  ",
      "text/html": "<div>\n<style scoped>\n    .dataframe tbody tr th:only-of-type {\n        vertical-align: middle;\n    }\n\n    .dataframe tbody tr th {\n        vertical-align: top;\n    }\n\n    .dataframe thead th {\n        text-align: right;\n    }\n</style>\n<table border=\"1\" class=\"dataframe\">\n  <thead>\n    <tr style=\"text-align: right;\">\n      <th></th>\n      <th>transaction_id</th>\n      <th>transaction_timestamp</th>\n      <th>dateTime</th>\n      <th>transaction_from</th>\n      <th>asset_symbol</th>\n      <th>readableAmount</th>\n      <th>transaction_amountUSD</th>\n      <th>protocol</th>\n      <th>action</th>\n    </tr>\n  </thead>\n  <tbody>\n    <tr>\n      <th>0</th>\n      <td>0xffd4f953670dec6f8ae7d0d79391572912b056b99f6c...</td>\n      <td>1677139223</td>\n      <td>2023-02-23 08:00:23</td>\n      <td>0x642c8ed496a3d05a0ed08911c01f652a0c4b84d4</td>\n      <td>OHM</td>\n      <td>450.000000</td>\n      <td>4781.601428</td>\n      <td>Euler</td>\n      <td>depositCollateral</td>\n    </tr>\n    <tr>\n      <th>1</th>\n      <td>0x301069fd24dd70d15cdcbebd4f076efe486a82f34724...</td>\n      <td>1676615723</td>\n      <td>2023-02-17 06:35:23</td>\n      <td>0x9b53bed0d62028c0fc5d2006c076cb33e6e6cecd</td>\n      <td>OHM</td>\n      <td>4.973204</td>\n      <td>52.678831</td>\n      <td>Euler</td>\n      <td>depositCollateral</td>\n    </tr>\n    <tr>\n      <th>2</th>\n      <td>0xa7495eba745bd67279969c1b8687f816e0d83a60bf0c...</td>\n      <td>1676379695</td>\n      <td>2023-02-14 13:01:35</td>\n      <td>0x245cc372c84b3645bf0ffe6538620b04a217988b</td>\n      <td>OHM</td>\n      <td>30000.000000</td>\n      <td>310089.501811</td>\n      <td>Euler</td>\n      <td>depositCollateral</td>\n    </tr>\n    <tr>\n      <th>0</th>\n      <td>0x1c37394aaabc2445a66b61a360cf08ae096b7582e2ed...</td>\n      <td>1676611691</td>\n      <td>2023-02-17 05:28:11</td>\n      <td>0x9b53bed0d62028c0fc5d2006c076cb33e6e6cecd</td>\n      <td>OHM</td>\n      <td>10.000000</td>\n      <td>105.925340</td>\n      <td>Silo</td>\n      <td>depositCollateral</td>\n    </tr>\n    <tr>\n      <th>1</th>\n      <td>0xf9bbcc923182fb6406e97fce0f92c22c87a284d55812...</td>\n      <td>1676379599</td>\n      <td>2023-02-14 12:59:59</td>\n      <td>0x245cc372c84b3645bf0ffe6538620b04a217988b</td>\n      <td>OHM</td>\n      <td>20000.000000</td>\n      <td>206726.334541</td>\n      <td>Silo</td>\n      <td>depositCollateral</td>\n    </tr>\n    <tr>\n      <th>2</th>\n      <td>0x0aa351eb8ff1ca2bd6c4e65229f83c7e5b596d72c889...</td>\n      <td>1676360171</td>\n      <td>2023-02-14 07:36:11</td>\n      <td>0xc0b1f200aa9546ce074397bed7438bb2ec033877</td>\n      <td>OHM</td>\n      <td>2.514698</td>\n      <td>26.317329</td>\n      <td>Silo</td>\n      <td>depositCollateral</td>\n    </tr>\n  </tbody>\n</table>\n</div>"
     },
     "execution_count": 54,
     "metadata": {},
     "output_type": "execute_result"
    }
   ],
   "source": [
    "ohmDeposits.head(100)"
   ],
   "metadata": {
    "collapsed": false
   }
  },
  {
   "cell_type": "code",
   "execution_count": 55,
   "outputs": [
    {
     "name": "stdout",
     "output_type": "stream",
     "text": [
      "D:\\Dropbox\\Documents\\Edgecaser LLC\\Projects\\Olympus\\Econohmetrics\\ohmBorrowing/data/allOhmDeposits_piped.csv file saved, 6  records\n"
     ]
    }
   ],
   "source": [
    "path =file+'/allOhmDeposits.csv'\n",
    "ohmDeposits.to_csv(path, index = False)\n",
    "\n",
    "path =file+'/allOhmDeposits_piped.csv'\n",
    "ohmDeposits.to_csv(path, index = False, sep='|')\n",
    "print(path, 'file saved,', len(ohmDeposits),' records')"
   ],
   "metadata": {
    "collapsed": false
   }
  },
  {
   "cell_type": "markdown",
   "source": [
    "****************************************************************************************************************\n",
    "****************************************************************************************************************\n",
    "COMBINE WITHDRAWAL EVENTS"
   ],
   "metadata": {
    "collapsed": false
   }
  },
  {
   "cell_type": "markdown",
   "source": [],
   "metadata": {
    "collapsed": false
   }
  },
  {
   "cell_type": "code",
   "execution_count": 56,
   "outputs": [
    {
     "data": {
      "text/plain": "                                      transaction_id  \\\n0  0xa1821732de0a64b8c5f1b4371e115d1a116bf143c8c7...   \n\n                                    transaction_hash  transaction_blockNumber  \\\n0  0xa1821732de0a64b8c5f1b4371e115d1a116bf143c8c7...                 16627397   \n\n   transaction_timestamp                      transaction_account_id  \\\n0             1676382659  0xc0b1f200aa9546ce074397bed7438bb2ec033877   \n\n                        transaction_market_id  \\\n0  0xf5ffabab8f9a6f4f6de1f0dd6e0820f68657d7db   \n\n               transaction_market_protocol_id  transaction_market_rates_rate  \\\n0  0xd998c35b7900b344bbbe6555cc11576942cf309d                       5.656345   \n\n  transaction_market_rates_duration transaction_market_rates_side  ...  \\\n0                              None                      BORROWER  ...   \n\n  transaction_asset_name transaction_asset_symbol transaction_asset_decimals  \\\n0                Olympus                      OHM                          9   \n\n  transaction_asset_lastPriceUSD  transaction_amount  transaction_amountUSD  \\\n0                      10.379649          2514698283              25.992718   \n\n      event  transactionReadableAmount            dateTime  protocol  \n0  withdraw                   2.514698 2023-02-14 13:50:59      Silo  \n\n[1 rows x 22 columns]",
      "text/html": "<div>\n<style scoped>\n    .dataframe tbody tr th:only-of-type {\n        vertical-align: middle;\n    }\n\n    .dataframe tbody tr th {\n        vertical-align: top;\n    }\n\n    .dataframe thead th {\n        text-align: right;\n    }\n</style>\n<table border=\"1\" class=\"dataframe\">\n  <thead>\n    <tr style=\"text-align: right;\">\n      <th></th>\n      <th>transaction_id</th>\n      <th>transaction_hash</th>\n      <th>transaction_blockNumber</th>\n      <th>transaction_timestamp</th>\n      <th>transaction_account_id</th>\n      <th>transaction_market_id</th>\n      <th>transaction_market_protocol_id</th>\n      <th>transaction_market_rates_rate</th>\n      <th>transaction_market_rates_duration</th>\n      <th>transaction_market_rates_side</th>\n      <th>...</th>\n      <th>transaction_asset_name</th>\n      <th>transaction_asset_symbol</th>\n      <th>transaction_asset_decimals</th>\n      <th>transaction_asset_lastPriceUSD</th>\n      <th>transaction_amount</th>\n      <th>transaction_amountUSD</th>\n      <th>event</th>\n      <th>transactionReadableAmount</th>\n      <th>dateTime</th>\n      <th>protocol</th>\n    </tr>\n  </thead>\n  <tbody>\n    <tr>\n      <th>0</th>\n      <td>0xa1821732de0a64b8c5f1b4371e115d1a116bf143c8c7...</td>\n      <td>0xa1821732de0a64b8c5f1b4371e115d1a116bf143c8c7...</td>\n      <td>16627397</td>\n      <td>1676382659</td>\n      <td>0xc0b1f200aa9546ce074397bed7438bb2ec033877</td>\n      <td>0xf5ffabab8f9a6f4f6de1f0dd6e0820f68657d7db</td>\n      <td>0xd998c35b7900b344bbbe6555cc11576942cf309d</td>\n      <td>5.656345</td>\n      <td>None</td>\n      <td>BORROWER</td>\n      <td>...</td>\n      <td>Olympus</td>\n      <td>OHM</td>\n      <td>9</td>\n      <td>10.379649</td>\n      <td>2514698283</td>\n      <td>25.992718</td>\n      <td>withdraw</td>\n      <td>2.514698</td>\n      <td>2023-02-14 13:50:59</td>\n      <td>Silo</td>\n    </tr>\n  </tbody>\n</table>\n<p>1 rows × 22 columns</p>\n</div>"
     },
     "execution_count": 56,
     "metadata": {},
     "output_type": "execute_result"
    }
   ],
   "source": [
    "siloWithdrawsDb['protocol'] = 'Silo'\n",
    "siloWithdrawsDb.head(1)"
   ],
   "metadata": {
    "collapsed": false
   }
  },
  {
   "cell_type": "code",
   "execution_count": 57,
   "outputs": [
    {
     "data": {
      "text/plain": "                                      transaction_id  \\\n0  0xa1821732de0a64b8c5f1b4371e115d1a116bf143c8c7...   \n1  0xa1821732de0a64b8c5f1b4371e115d1a116bf143c8c7...   \n2  0xa1821732de0a64b8c5f1b4371e115d1a116bf143c8c7...   \n\n                                    transaction_hash  transaction_blockNumber  \\\n0  0xa1821732de0a64b8c5f1b4371e115d1a116bf143c8c7...                 16627397   \n1  0xa1821732de0a64b8c5f1b4371e115d1a116bf143c8c7...                 16627397   \n2  0xa1821732de0a64b8c5f1b4371e115d1a116bf143c8c7...                 16627397   \n\n   transaction_timestamp                      transaction_account_id  \\\n0             1676382659  0xc0b1f200aa9546ce074397bed7438bb2ec033877   \n1             1676382659  0xc0b1f200aa9546ce074397bed7438bb2ec033877   \n2             1676382659  0xc0b1f200aa9546ce074397bed7438bb2ec033877   \n\n                        transaction_market_id  \\\n0  0xf5ffabab8f9a6f4f6de1f0dd6e0820f68657d7db   \n1  0xf5ffabab8f9a6f4f6de1f0dd6e0820f68657d7db   \n2  0xf5ffabab8f9a6f4f6de1f0dd6e0820f68657d7db   \n\n               transaction_market_protocol_id  transaction_market_rates_rate  \\\n0  0xd998c35b7900b344bbbe6555cc11576942cf309d                       5.656345   \n1  0xd998c35b7900b344bbbe6555cc11576942cf309d                       0.000000   \n2  0xd998c35b7900b344bbbe6555cc11576942cf309d                       0.000000   \n\n  transaction_market_rates_duration transaction_market_rates_side  ...  \\\n0                              None                      BORROWER  ...   \n1                              None                      BORROWER  ...   \n2                              None                      BORROWER  ...   \n\n  transaction_asset_name transaction_asset_symbol transaction_asset_decimals  \\\n0                Olympus                      OHM                          9   \n1                Olympus                      OHM                          9   \n2                Olympus                      OHM                          9   \n\n  transaction_asset_lastPriceUSD  transaction_amount  transaction_amountUSD  \\\n0                      10.379649          2514698283              25.992718   \n1                      10.379649          2514698283              25.992718   \n2                      10.379649          2514698283              25.992718   \n\n      event  transactionReadableAmount            dateTime  protocol  \n0  withdraw                   2.514698 2023-02-14 13:50:59      Silo  \n1  withdraw                   2.514698 2023-02-14 13:50:59      Silo  \n2  withdraw                   2.514698 2023-02-14 13:50:59      Silo  \n\n[3 rows x 22 columns]",
      "text/html": "<div>\n<style scoped>\n    .dataframe tbody tr th:only-of-type {\n        vertical-align: middle;\n    }\n\n    .dataframe tbody tr th {\n        vertical-align: top;\n    }\n\n    .dataframe thead th {\n        text-align: right;\n    }\n</style>\n<table border=\"1\" class=\"dataframe\">\n  <thead>\n    <tr style=\"text-align: right;\">\n      <th></th>\n      <th>transaction_id</th>\n      <th>transaction_hash</th>\n      <th>transaction_blockNumber</th>\n      <th>transaction_timestamp</th>\n      <th>transaction_account_id</th>\n      <th>transaction_market_id</th>\n      <th>transaction_market_protocol_id</th>\n      <th>transaction_market_rates_rate</th>\n      <th>transaction_market_rates_duration</th>\n      <th>transaction_market_rates_side</th>\n      <th>...</th>\n      <th>transaction_asset_name</th>\n      <th>transaction_asset_symbol</th>\n      <th>transaction_asset_decimals</th>\n      <th>transaction_asset_lastPriceUSD</th>\n      <th>transaction_amount</th>\n      <th>transaction_amountUSD</th>\n      <th>event</th>\n      <th>transactionReadableAmount</th>\n      <th>dateTime</th>\n      <th>protocol</th>\n    </tr>\n  </thead>\n  <tbody>\n    <tr>\n      <th>0</th>\n      <td>0xa1821732de0a64b8c5f1b4371e115d1a116bf143c8c7...</td>\n      <td>0xa1821732de0a64b8c5f1b4371e115d1a116bf143c8c7...</td>\n      <td>16627397</td>\n      <td>1676382659</td>\n      <td>0xc0b1f200aa9546ce074397bed7438bb2ec033877</td>\n      <td>0xf5ffabab8f9a6f4f6de1f0dd6e0820f68657d7db</td>\n      <td>0xd998c35b7900b344bbbe6555cc11576942cf309d</td>\n      <td>5.656345</td>\n      <td>None</td>\n      <td>BORROWER</td>\n      <td>...</td>\n      <td>Olympus</td>\n      <td>OHM</td>\n      <td>9</td>\n      <td>10.379649</td>\n      <td>2514698283</td>\n      <td>25.992718</td>\n      <td>withdraw</td>\n      <td>2.514698</td>\n      <td>2023-02-14 13:50:59</td>\n      <td>Silo</td>\n    </tr>\n    <tr>\n      <th>1</th>\n      <td>0xa1821732de0a64b8c5f1b4371e115d1a116bf143c8c7...</td>\n      <td>0xa1821732de0a64b8c5f1b4371e115d1a116bf143c8c7...</td>\n      <td>16627397</td>\n      <td>1676382659</td>\n      <td>0xc0b1f200aa9546ce074397bed7438bb2ec033877</td>\n      <td>0xf5ffabab8f9a6f4f6de1f0dd6e0820f68657d7db</td>\n      <td>0xd998c35b7900b344bbbe6555cc11576942cf309d</td>\n      <td>0.000000</td>\n      <td>None</td>\n      <td>BORROWER</td>\n      <td>...</td>\n      <td>Olympus</td>\n      <td>OHM</td>\n      <td>9</td>\n      <td>10.379649</td>\n      <td>2514698283</td>\n      <td>25.992718</td>\n      <td>withdraw</td>\n      <td>2.514698</td>\n      <td>2023-02-14 13:50:59</td>\n      <td>Silo</td>\n    </tr>\n    <tr>\n      <th>2</th>\n      <td>0xa1821732de0a64b8c5f1b4371e115d1a116bf143c8c7...</td>\n      <td>0xa1821732de0a64b8c5f1b4371e115d1a116bf143c8c7...</td>\n      <td>16627397</td>\n      <td>1676382659</td>\n      <td>0xc0b1f200aa9546ce074397bed7438bb2ec033877</td>\n      <td>0xf5ffabab8f9a6f4f6de1f0dd6e0820f68657d7db</td>\n      <td>0xd998c35b7900b344bbbe6555cc11576942cf309d</td>\n      <td>0.000000</td>\n      <td>None</td>\n      <td>BORROWER</td>\n      <td>...</td>\n      <td>Olympus</td>\n      <td>OHM</td>\n      <td>9</td>\n      <td>10.379649</td>\n      <td>2514698283</td>\n      <td>25.992718</td>\n      <td>withdraw</td>\n      <td>2.514698</td>\n      <td>2023-02-14 13:50:59</td>\n      <td>Silo</td>\n    </tr>\n  </tbody>\n</table>\n<p>3 rows × 22 columns</p>\n</div>"
     },
     "execution_count": 57,
     "metadata": {},
     "output_type": "execute_result"
    }
   ],
   "source": [
    "allCollateralWithdrawals = pd.concat([siloWithdrawsDb])\n",
    "allCollateralWithdrawals.head(10)"
   ],
   "metadata": {
    "collapsed": false
   }
  },
  {
   "cell_type": "markdown",
   "source": [
    "****************************************************************************************************************\n",
    "****************************************************************************************************************\n",
    "COMBINE WITHDRAWAL AND DEPOSIT EVENTS"
   ],
   "metadata": {
    "collapsed": false
   }
  },
  {
   "cell_type": "code",
   "execution_count": 58,
   "outputs": [
    {
     "data": {
      "text/plain": "                                      transaction_id  transaction_timestamp  \\\n0  0xffd4f953670dec6f8ae7d0d79391572912b056b99f6c...             1677139223   \n1  0x301069fd24dd70d15cdcbebd4f076efe486a82f34724...             1676615723   \n2  0xa7495eba745bd67279969c1b8687f816e0d83a60bf0c...             1676379695   \n0  0x1c37394aaabc2445a66b61a360cf08ae096b7582e2ed...             1676611691   \n1  0xf9bbcc923182fb6406e97fce0f92c22c87a284d55812...             1676379599   \n2  0x0aa351eb8ff1ca2bd6c4e65229f83c7e5b596d72c889...             1676360171   \n\n             dateTime                            transaction_from  \\\n0 2023-02-23 08:00:23  0x642c8ed496a3d05a0ed08911c01f652a0c4b84d4   \n1 2023-02-17 06:35:23  0x9b53bed0d62028c0fc5d2006c076cb33e6e6cecd   \n2 2023-02-14 13:01:35  0x245cc372c84b3645bf0ffe6538620b04a217988b   \n0 2023-02-17 05:28:11  0x9b53bed0d62028c0fc5d2006c076cb33e6e6cecd   \n1 2023-02-14 12:59:59  0x245cc372c84b3645bf0ffe6538620b04a217988b   \n2 2023-02-14 07:36:11  0xc0b1f200aa9546ce074397bed7438bb2ec033877   \n\n  asset_symbol  readableAmount  transaction_amountUSD protocol  \\\n0          OHM      450.000000            4781.601428    Euler   \n1          OHM        4.973204              52.678831    Euler   \n2          OHM    30000.000000          310089.501811    Euler   \n0          OHM       10.000000             105.925340     Silo   \n1          OHM    20000.000000          206726.334541     Silo   \n2          OHM        2.514698              26.317329     Silo   \n\n              action  \n0  depositCollateral  \n1  depositCollateral  \n2  depositCollateral  \n0  depositCollateral  \n1  depositCollateral  \n2  depositCollateral  ",
      "text/html": "<div>\n<style scoped>\n    .dataframe tbody tr th:only-of-type {\n        vertical-align: middle;\n    }\n\n    .dataframe tbody tr th {\n        vertical-align: top;\n    }\n\n    .dataframe thead th {\n        text-align: right;\n    }\n</style>\n<table border=\"1\" class=\"dataframe\">\n  <thead>\n    <tr style=\"text-align: right;\">\n      <th></th>\n      <th>transaction_id</th>\n      <th>transaction_timestamp</th>\n      <th>dateTime</th>\n      <th>transaction_from</th>\n      <th>asset_symbol</th>\n      <th>readableAmount</th>\n      <th>transaction_amountUSD</th>\n      <th>protocol</th>\n      <th>action</th>\n    </tr>\n  </thead>\n  <tbody>\n    <tr>\n      <th>0</th>\n      <td>0xffd4f953670dec6f8ae7d0d79391572912b056b99f6c...</td>\n      <td>1677139223</td>\n      <td>2023-02-23 08:00:23</td>\n      <td>0x642c8ed496a3d05a0ed08911c01f652a0c4b84d4</td>\n      <td>OHM</td>\n      <td>450.000000</td>\n      <td>4781.601428</td>\n      <td>Euler</td>\n      <td>depositCollateral</td>\n    </tr>\n    <tr>\n      <th>1</th>\n      <td>0x301069fd24dd70d15cdcbebd4f076efe486a82f34724...</td>\n      <td>1676615723</td>\n      <td>2023-02-17 06:35:23</td>\n      <td>0x9b53bed0d62028c0fc5d2006c076cb33e6e6cecd</td>\n      <td>OHM</td>\n      <td>4.973204</td>\n      <td>52.678831</td>\n      <td>Euler</td>\n      <td>depositCollateral</td>\n    </tr>\n    <tr>\n      <th>2</th>\n      <td>0xa7495eba745bd67279969c1b8687f816e0d83a60bf0c...</td>\n      <td>1676379695</td>\n      <td>2023-02-14 13:01:35</td>\n      <td>0x245cc372c84b3645bf0ffe6538620b04a217988b</td>\n      <td>OHM</td>\n      <td>30000.000000</td>\n      <td>310089.501811</td>\n      <td>Euler</td>\n      <td>depositCollateral</td>\n    </tr>\n    <tr>\n      <th>0</th>\n      <td>0x1c37394aaabc2445a66b61a360cf08ae096b7582e2ed...</td>\n      <td>1676611691</td>\n      <td>2023-02-17 05:28:11</td>\n      <td>0x9b53bed0d62028c0fc5d2006c076cb33e6e6cecd</td>\n      <td>OHM</td>\n      <td>10.000000</td>\n      <td>105.925340</td>\n      <td>Silo</td>\n      <td>depositCollateral</td>\n    </tr>\n    <tr>\n      <th>1</th>\n      <td>0xf9bbcc923182fb6406e97fce0f92c22c87a284d55812...</td>\n      <td>1676379599</td>\n      <td>2023-02-14 12:59:59</td>\n      <td>0x245cc372c84b3645bf0ffe6538620b04a217988b</td>\n      <td>OHM</td>\n      <td>20000.000000</td>\n      <td>206726.334541</td>\n      <td>Silo</td>\n      <td>depositCollateral</td>\n    </tr>\n    <tr>\n      <th>2</th>\n      <td>0x0aa351eb8ff1ca2bd6c4e65229f83c7e5b596d72c889...</td>\n      <td>1676360171</td>\n      <td>2023-02-14 07:36:11</td>\n      <td>0xc0b1f200aa9546ce074397bed7438bb2ec033877</td>\n      <td>OHM</td>\n      <td>2.514698</td>\n      <td>26.317329</td>\n      <td>Silo</td>\n      <td>depositCollateral</td>\n    </tr>\n  </tbody>\n</table>\n</div>"
     },
     "execution_count": 58,
     "metadata": {},
     "output_type": "execute_result"
    }
   ],
   "source": [
    "ohmDeposits.columns = ohmDeposits.columns.str.replace(\"deposit\", \"transaction\")\n",
    "ohmDeposits.head(10)"
   ],
   "metadata": {
    "collapsed": false
   }
  },
  {
   "cell_type": "code",
   "execution_count": 59,
   "outputs": [
    {
     "data": {
      "text/plain": "                                      transaction_id  \\\n0  0xa1821732de0a64b8c5f1b4371e115d1a116bf143c8c7...   \n1  0xa1821732de0a64b8c5f1b4371e115d1a116bf143c8c7...   \n2  0xa1821732de0a64b8c5f1b4371e115d1a116bf143c8c7...   \n\n                                    transaction_hash  transaction_blockNumber  \\\n0  0xa1821732de0a64b8c5f1b4371e115d1a116bf143c8c7...                 16627397   \n1  0xa1821732de0a64b8c5f1b4371e115d1a116bf143c8c7...                 16627397   \n2  0xa1821732de0a64b8c5f1b4371e115d1a116bf143c8c7...                 16627397   \n\n   transaction_timestamp                      transaction_account_id  \\\n0             1676382659  0xc0b1f200aa9546ce074397bed7438bb2ec033877   \n1             1676382659  0xc0b1f200aa9546ce074397bed7438bb2ec033877   \n2             1676382659  0xc0b1f200aa9546ce074397bed7438bb2ec033877   \n\n                        transaction_market_id  \\\n0  0xf5ffabab8f9a6f4f6de1f0dd6e0820f68657d7db   \n1  0xf5ffabab8f9a6f4f6de1f0dd6e0820f68657d7db   \n2  0xf5ffabab8f9a6f4f6de1f0dd6e0820f68657d7db   \n\n               transaction_market_protocol_id  transaction_market_rates_rate  \\\n0  0xd998c35b7900b344bbbe6555cc11576942cf309d                       5.656345   \n1  0xd998c35b7900b344bbbe6555cc11576942cf309d                       0.000000   \n2  0xd998c35b7900b344bbbe6555cc11576942cf309d                       0.000000   \n\n  transaction_market_rates_duration transaction_market_rates_side  ...  \\\n0                              None                      BORROWER  ...   \n1                              None                      BORROWER  ...   \n2                              None                      BORROWER  ...   \n\n  transaction_asset_name transaction_asset_symbol transaction_asset_decimals  \\\n0                Olympus                      OHM                          9   \n1                Olympus                      OHM                          9   \n2                Olympus                      OHM                          9   \n\n  transaction_asset_lastPriceUSD  transaction_amount  transaction_amountUSD  \\\n0                      10.379649          2514698283              25.992718   \n1                      10.379649          2514698283              25.992718   \n2                      10.379649          2514698283              25.992718   \n\n      event  transactionReadableAmount            dateTime  protocol  \n0  withdraw                   2.514698 2023-02-14 13:50:59      Silo  \n1  withdraw                   2.514698 2023-02-14 13:50:59      Silo  \n2  withdraw                   2.514698 2023-02-14 13:50:59      Silo  \n\n[3 rows x 22 columns]",
      "text/html": "<div>\n<style scoped>\n    .dataframe tbody tr th:only-of-type {\n        vertical-align: middle;\n    }\n\n    .dataframe tbody tr th {\n        vertical-align: top;\n    }\n\n    .dataframe thead th {\n        text-align: right;\n    }\n</style>\n<table border=\"1\" class=\"dataframe\">\n  <thead>\n    <tr style=\"text-align: right;\">\n      <th></th>\n      <th>transaction_id</th>\n      <th>transaction_hash</th>\n      <th>transaction_blockNumber</th>\n      <th>transaction_timestamp</th>\n      <th>transaction_account_id</th>\n      <th>transaction_market_id</th>\n      <th>transaction_market_protocol_id</th>\n      <th>transaction_market_rates_rate</th>\n      <th>transaction_market_rates_duration</th>\n      <th>transaction_market_rates_side</th>\n      <th>...</th>\n      <th>transaction_asset_name</th>\n      <th>transaction_asset_symbol</th>\n      <th>transaction_asset_decimals</th>\n      <th>transaction_asset_lastPriceUSD</th>\n      <th>transaction_amount</th>\n      <th>transaction_amountUSD</th>\n      <th>event</th>\n      <th>transactionReadableAmount</th>\n      <th>dateTime</th>\n      <th>protocol</th>\n    </tr>\n  </thead>\n  <tbody>\n    <tr>\n      <th>0</th>\n      <td>0xa1821732de0a64b8c5f1b4371e115d1a116bf143c8c7...</td>\n      <td>0xa1821732de0a64b8c5f1b4371e115d1a116bf143c8c7...</td>\n      <td>16627397</td>\n      <td>1676382659</td>\n      <td>0xc0b1f200aa9546ce074397bed7438bb2ec033877</td>\n      <td>0xf5ffabab8f9a6f4f6de1f0dd6e0820f68657d7db</td>\n      <td>0xd998c35b7900b344bbbe6555cc11576942cf309d</td>\n      <td>5.656345</td>\n      <td>None</td>\n      <td>BORROWER</td>\n      <td>...</td>\n      <td>Olympus</td>\n      <td>OHM</td>\n      <td>9</td>\n      <td>10.379649</td>\n      <td>2514698283</td>\n      <td>25.992718</td>\n      <td>withdraw</td>\n      <td>2.514698</td>\n      <td>2023-02-14 13:50:59</td>\n      <td>Silo</td>\n    </tr>\n    <tr>\n      <th>1</th>\n      <td>0xa1821732de0a64b8c5f1b4371e115d1a116bf143c8c7...</td>\n      <td>0xa1821732de0a64b8c5f1b4371e115d1a116bf143c8c7...</td>\n      <td>16627397</td>\n      <td>1676382659</td>\n      <td>0xc0b1f200aa9546ce074397bed7438bb2ec033877</td>\n      <td>0xf5ffabab8f9a6f4f6de1f0dd6e0820f68657d7db</td>\n      <td>0xd998c35b7900b344bbbe6555cc11576942cf309d</td>\n      <td>0.000000</td>\n      <td>None</td>\n      <td>BORROWER</td>\n      <td>...</td>\n      <td>Olympus</td>\n      <td>OHM</td>\n      <td>9</td>\n      <td>10.379649</td>\n      <td>2514698283</td>\n      <td>25.992718</td>\n      <td>withdraw</td>\n      <td>2.514698</td>\n      <td>2023-02-14 13:50:59</td>\n      <td>Silo</td>\n    </tr>\n    <tr>\n      <th>2</th>\n      <td>0xa1821732de0a64b8c5f1b4371e115d1a116bf143c8c7...</td>\n      <td>0xa1821732de0a64b8c5f1b4371e115d1a116bf143c8c7...</td>\n      <td>16627397</td>\n      <td>1676382659</td>\n      <td>0xc0b1f200aa9546ce074397bed7438bb2ec033877</td>\n      <td>0xf5ffabab8f9a6f4f6de1f0dd6e0820f68657d7db</td>\n      <td>0xd998c35b7900b344bbbe6555cc11576942cf309d</td>\n      <td>0.000000</td>\n      <td>None</td>\n      <td>BORROWER</td>\n      <td>...</td>\n      <td>Olympus</td>\n      <td>OHM</td>\n      <td>9</td>\n      <td>10.379649</td>\n      <td>2514698283</td>\n      <td>25.992718</td>\n      <td>withdraw</td>\n      <td>2.514698</td>\n      <td>2023-02-14 13:50:59</td>\n      <td>Silo</td>\n    </tr>\n  </tbody>\n</table>\n<p>3 rows × 22 columns</p>\n</div>"
     },
     "execution_count": 59,
     "metadata": {},
     "output_type": "execute_result"
    }
   ],
   "source": [
    "allCollateralWithdrawals['dateTime'] =(pd.to_datetime(allCollateralWithdrawals['transaction_timestamp'],unit='s'))\n",
    "allCollateralWithdrawals.head(10)"
   ],
   "metadata": {
    "collapsed": false
   }
  },
  {
   "cell_type": "code",
   "execution_count": 60,
   "outputs": [
    {
     "data": {
      "text/plain": "                                      transaction_id  transaction_timestamp  \\\n0  0xa1821732de0a64b8c5f1b4371e115d1a116bf143c8c7...             1676382659   \n1  0xa1821732de0a64b8c5f1b4371e115d1a116bf143c8c7...             1676382659   \n2  0xa1821732de0a64b8c5f1b4371e115d1a116bf143c8c7...             1676382659   \n\n             dateTime                            transaction_from  \\\n0 2023-02-14 13:50:59  0xc0b1f200aa9546ce074397bed7438bb2ec033877   \n1 2023-02-14 13:50:59  0xc0b1f200aa9546ce074397bed7438bb2ec033877   \n2 2023-02-14 13:50:59  0xc0b1f200aa9546ce074397bed7438bb2ec033877   \n\n  asset_symbol  readableAmount  transaction_amountUSD protocol  \\\n0          OHM        2.514698              25.992718     Silo   \n1          OHM        2.514698              25.992718     Silo   \n2          OHM        2.514698              25.992718     Silo   \n\n               action  \n0  withdrawCollateral  \n1  withdrawCollateral  \n2  withdrawCollateral  ",
      "text/html": "<div>\n<style scoped>\n    .dataframe tbody tr th:only-of-type {\n        vertical-align: middle;\n    }\n\n    .dataframe tbody tr th {\n        vertical-align: top;\n    }\n\n    .dataframe thead th {\n        text-align: right;\n    }\n</style>\n<table border=\"1\" class=\"dataframe\">\n  <thead>\n    <tr style=\"text-align: right;\">\n      <th></th>\n      <th>transaction_id</th>\n      <th>transaction_timestamp</th>\n      <th>dateTime</th>\n      <th>transaction_from</th>\n      <th>asset_symbol</th>\n      <th>readableAmount</th>\n      <th>transaction_amountUSD</th>\n      <th>protocol</th>\n      <th>action</th>\n    </tr>\n  </thead>\n  <tbody>\n    <tr>\n      <th>0</th>\n      <td>0xa1821732de0a64b8c5f1b4371e115d1a116bf143c8c7...</td>\n      <td>1676382659</td>\n      <td>2023-02-14 13:50:59</td>\n      <td>0xc0b1f200aa9546ce074397bed7438bb2ec033877</td>\n      <td>OHM</td>\n      <td>2.514698</td>\n      <td>25.992718</td>\n      <td>Silo</td>\n      <td>withdrawCollateral</td>\n    </tr>\n    <tr>\n      <th>1</th>\n      <td>0xa1821732de0a64b8c5f1b4371e115d1a116bf143c8c7...</td>\n      <td>1676382659</td>\n      <td>2023-02-14 13:50:59</td>\n      <td>0xc0b1f200aa9546ce074397bed7438bb2ec033877</td>\n      <td>OHM</td>\n      <td>2.514698</td>\n      <td>25.992718</td>\n      <td>Silo</td>\n      <td>withdrawCollateral</td>\n    </tr>\n    <tr>\n      <th>2</th>\n      <td>0xa1821732de0a64b8c5f1b4371e115d1a116bf143c8c7...</td>\n      <td>1676382659</td>\n      <td>2023-02-14 13:50:59</td>\n      <td>0xc0b1f200aa9546ce074397bed7438bb2ec033877</td>\n      <td>OHM</td>\n      <td>2.514698</td>\n      <td>25.992718</td>\n      <td>Silo</td>\n      <td>withdrawCollateral</td>\n    </tr>\n  </tbody>\n</table>\n</div>"
     },
     "execution_count": 60,
     "metadata": {},
     "output_type": "execute_result"
    }
   ],
   "source": [
    "allCollateralWithdrawals = db.query(\"select \"\n",
    "                                    \" transaction_hash transaction_id\"\n",
    "                                    \",transaction_timestamp \"\n",
    "                                    \", dateTime \"\n",
    "                                    \", transaction_account_id  transaction_from \"\n",
    "                                    \", transaction_asset_symbol asset_symbol\"\n",
    "                                    \", transactionReadableAmount readableAmount \"\n",
    "                                    \", transaction_amountUSD \"\n",
    "                                    \", protocol \"\n",
    "                                    \", 'withdrawCollateral' as action \"\n",
    "                                    \"from allCollateralWithdrawals \"\n",
    "                                    \"\").df()\n",
    "allCollateralWithdrawals.head(10)"
   ],
   "metadata": {
    "collapsed": false
   }
  },
  {
   "cell_type": "code",
   "execution_count": 61,
   "outputs": [
    {
     "data": {
      "text/plain": "                                      transaction_id  transaction_timestamp  \\\n0  0xffd4f953670dec6f8ae7d0d79391572912b056b99f6c...             1677139223   \n1  0x301069fd24dd70d15cdcbebd4f076efe486a82f34724...             1676615723   \n2  0xa7495eba745bd67279969c1b8687f816e0d83a60bf0c...             1676379695   \n0  0x1c37394aaabc2445a66b61a360cf08ae096b7582e2ed...             1676611691   \n1  0xf9bbcc923182fb6406e97fce0f92c22c87a284d55812...             1676379599   \n2  0x0aa351eb8ff1ca2bd6c4e65229f83c7e5b596d72c889...             1676360171   \n0  0xa1821732de0a64b8c5f1b4371e115d1a116bf143c8c7...             1676382659   \n1  0xa1821732de0a64b8c5f1b4371e115d1a116bf143c8c7...             1676382659   \n2  0xa1821732de0a64b8c5f1b4371e115d1a116bf143c8c7...             1676382659   \n\n             dateTime                            transaction_from  \\\n0 2023-02-23 08:00:23  0x642c8ed496a3d05a0ed08911c01f652a0c4b84d4   \n1 2023-02-17 06:35:23  0x9b53bed0d62028c0fc5d2006c076cb33e6e6cecd   \n2 2023-02-14 13:01:35  0x245cc372c84b3645bf0ffe6538620b04a217988b   \n0 2023-02-17 05:28:11  0x9b53bed0d62028c0fc5d2006c076cb33e6e6cecd   \n1 2023-02-14 12:59:59  0x245cc372c84b3645bf0ffe6538620b04a217988b   \n2 2023-02-14 07:36:11  0xc0b1f200aa9546ce074397bed7438bb2ec033877   \n0 2023-02-14 13:50:59  0xc0b1f200aa9546ce074397bed7438bb2ec033877   \n1 2023-02-14 13:50:59  0xc0b1f200aa9546ce074397bed7438bb2ec033877   \n2 2023-02-14 13:50:59  0xc0b1f200aa9546ce074397bed7438bb2ec033877   \n\n  asset_symbol  readableAmount  transaction_amountUSD protocol  \\\n0          OHM      450.000000            4781.601428    Euler   \n1          OHM        4.973204              52.678831    Euler   \n2          OHM    30000.000000          310089.501811    Euler   \n0          OHM       10.000000             105.925340     Silo   \n1          OHM    20000.000000          206726.334541     Silo   \n2          OHM        2.514698              26.317329     Silo   \n0          OHM        2.514698              25.992718     Silo   \n1          OHM        2.514698              25.992718     Silo   \n2          OHM        2.514698              25.992718     Silo   \n\n               action  \n0   depositCollateral  \n1   depositCollateral  \n2   depositCollateral  \n0   depositCollateral  \n1   depositCollateral  \n2   depositCollateral  \n0  withdrawCollateral  \n1  withdrawCollateral  \n2  withdrawCollateral  ",
      "text/html": "<div>\n<style scoped>\n    .dataframe tbody tr th:only-of-type {\n        vertical-align: middle;\n    }\n\n    .dataframe tbody tr th {\n        vertical-align: top;\n    }\n\n    .dataframe thead th {\n        text-align: right;\n    }\n</style>\n<table border=\"1\" class=\"dataframe\">\n  <thead>\n    <tr style=\"text-align: right;\">\n      <th></th>\n      <th>transaction_id</th>\n      <th>transaction_timestamp</th>\n      <th>dateTime</th>\n      <th>transaction_from</th>\n      <th>asset_symbol</th>\n      <th>readableAmount</th>\n      <th>transaction_amountUSD</th>\n      <th>protocol</th>\n      <th>action</th>\n    </tr>\n  </thead>\n  <tbody>\n    <tr>\n      <th>0</th>\n      <td>0xffd4f953670dec6f8ae7d0d79391572912b056b99f6c...</td>\n      <td>1677139223</td>\n      <td>2023-02-23 08:00:23</td>\n      <td>0x642c8ed496a3d05a0ed08911c01f652a0c4b84d4</td>\n      <td>OHM</td>\n      <td>450.000000</td>\n      <td>4781.601428</td>\n      <td>Euler</td>\n      <td>depositCollateral</td>\n    </tr>\n    <tr>\n      <th>1</th>\n      <td>0x301069fd24dd70d15cdcbebd4f076efe486a82f34724...</td>\n      <td>1676615723</td>\n      <td>2023-02-17 06:35:23</td>\n      <td>0x9b53bed0d62028c0fc5d2006c076cb33e6e6cecd</td>\n      <td>OHM</td>\n      <td>4.973204</td>\n      <td>52.678831</td>\n      <td>Euler</td>\n      <td>depositCollateral</td>\n    </tr>\n    <tr>\n      <th>2</th>\n      <td>0xa7495eba745bd67279969c1b8687f816e0d83a60bf0c...</td>\n      <td>1676379695</td>\n      <td>2023-02-14 13:01:35</td>\n      <td>0x245cc372c84b3645bf0ffe6538620b04a217988b</td>\n      <td>OHM</td>\n      <td>30000.000000</td>\n      <td>310089.501811</td>\n      <td>Euler</td>\n      <td>depositCollateral</td>\n    </tr>\n    <tr>\n      <th>0</th>\n      <td>0x1c37394aaabc2445a66b61a360cf08ae096b7582e2ed...</td>\n      <td>1676611691</td>\n      <td>2023-02-17 05:28:11</td>\n      <td>0x9b53bed0d62028c0fc5d2006c076cb33e6e6cecd</td>\n      <td>OHM</td>\n      <td>10.000000</td>\n      <td>105.925340</td>\n      <td>Silo</td>\n      <td>depositCollateral</td>\n    </tr>\n    <tr>\n      <th>1</th>\n      <td>0xf9bbcc923182fb6406e97fce0f92c22c87a284d55812...</td>\n      <td>1676379599</td>\n      <td>2023-02-14 12:59:59</td>\n      <td>0x245cc372c84b3645bf0ffe6538620b04a217988b</td>\n      <td>OHM</td>\n      <td>20000.000000</td>\n      <td>206726.334541</td>\n      <td>Silo</td>\n      <td>depositCollateral</td>\n    </tr>\n    <tr>\n      <th>2</th>\n      <td>0x0aa351eb8ff1ca2bd6c4e65229f83c7e5b596d72c889...</td>\n      <td>1676360171</td>\n      <td>2023-02-14 07:36:11</td>\n      <td>0xc0b1f200aa9546ce074397bed7438bb2ec033877</td>\n      <td>OHM</td>\n      <td>2.514698</td>\n      <td>26.317329</td>\n      <td>Silo</td>\n      <td>depositCollateral</td>\n    </tr>\n    <tr>\n      <th>0</th>\n      <td>0xa1821732de0a64b8c5f1b4371e115d1a116bf143c8c7...</td>\n      <td>1676382659</td>\n      <td>2023-02-14 13:50:59</td>\n      <td>0xc0b1f200aa9546ce074397bed7438bb2ec033877</td>\n      <td>OHM</td>\n      <td>2.514698</td>\n      <td>25.992718</td>\n      <td>Silo</td>\n      <td>withdrawCollateral</td>\n    </tr>\n    <tr>\n      <th>1</th>\n      <td>0xa1821732de0a64b8c5f1b4371e115d1a116bf143c8c7...</td>\n      <td>1676382659</td>\n      <td>2023-02-14 13:50:59</td>\n      <td>0xc0b1f200aa9546ce074397bed7438bb2ec033877</td>\n      <td>OHM</td>\n      <td>2.514698</td>\n      <td>25.992718</td>\n      <td>Silo</td>\n      <td>withdrawCollateral</td>\n    </tr>\n    <tr>\n      <th>2</th>\n      <td>0xa1821732de0a64b8c5f1b4371e115d1a116bf143c8c7...</td>\n      <td>1676382659</td>\n      <td>2023-02-14 13:50:59</td>\n      <td>0xc0b1f200aa9546ce074397bed7438bb2ec033877</td>\n      <td>OHM</td>\n      <td>2.514698</td>\n      <td>25.992718</td>\n      <td>Silo</td>\n      <td>withdrawCollateral</td>\n    </tr>\n  </tbody>\n</table>\n</div>"
     },
     "execution_count": 61,
     "metadata": {},
     "output_type": "execute_result"
    }
   ],
   "source": [
    "allOhmBorrowMarketEvents = pd.concat([ohmDeposits,allCollateralWithdrawals])\n",
    "allOhmBorrowMarketEvents['dateTime'] =(pd.to_datetime(allOhmBorrowMarketEvents['transaction_timestamp'],unit='s'))\n",
    "allOhmBorrowMarketEvents.head(100)"
   ],
   "metadata": {
    "collapsed": false
   }
  },
  {
   "cell_type": "markdown",
   "source": [
    "****************************************************************************************************************\n",
    "****************************************************************************************************************\n",
    "COMBINE BORROW EVENTS"
   ],
   "metadata": {
    "collapsed": false
   }
  },
  {
   "cell_type": "code",
   "execution_count": 62,
   "outputs": [
    {
     "data": {
      "text/plain": "     event                                   transaction_hash  \\\n0   borrow  0x3063cfbced7d9431862437e31adcc3581e9df1cd87d3...   \n6   borrow  0x264ecb6cc9089ebf8fcb6f8ae5ce26358b15b0551e61...   \n12  borrow  0x6726ea9fa581ab0a5fa26b8a112c95e690500f446c39...   \n18  borrow  0x5fca09aaf64619a5d644ed392a64f5bd08b9e6b4b46e...   \n\n    transaction_blockNumber  transaction_timestamp  \\\n0                  16674201             1676950007   \n6                  16648400             1676636519   \n12                 16628130             1676391467   \n18                 16627404             1676382743   \n\n                        transaction_account_id  \\\n0   0xf659faac0401cc19110321dcc7989c101cced8e4   \n6   0xcb6e1613029d790c00f89296808f278d6dc25b2f   \n12  0x9b8b04b6f82cd5e1dae58ca3614d445f93defc5c   \n18  0xc0b1f200aa9546ce074397bed7438bb2ec033877   \n\n                         transaction_market_id transaction_asset_name  \\\n0   0xf5ffabab8f9a6f4f6de1f0dd6e0820f68657d7db                Olympus   \n6   0xf5ffabab8f9a6f4f6de1f0dd6e0820f68657d7db                Olympus   \n12  0xf5ffabab8f9a6f4f6de1f0dd6e0820f68657d7db                Olympus   \n18  0xf5ffabab8f9a6f4f6de1f0dd6e0820f68657d7db                Olympus   \n\n   transaction_asset_symbol  transactionReadableAmount  \\\n0                       OHM                6420.000000   \n6                       OHM                  58.000000   \n12                      OHM                1480.000000   \n18                      OHM                 175.320428   \n\n    transaction_asset_lastPriceUSD  transaction_amountUSD            dateTime  \\\n0                        10.379649           69617.631237 2023-02-21 03:26:47   \n6                        10.379649             615.628222 2023-02-17 12:21:59   \n12                       10.379649           15782.938441 2023-02-14 16:17:47   \n18                       10.379649            1812.167469 2023-02-14 13:52:23   \n\n      calDate  \n0  2023-02-21  \n6  2023-02-17  \n12 2023-02-14  \n18 2023-02-14  ",
      "text/html": "<div>\n<style scoped>\n    .dataframe tbody tr th:only-of-type {\n        vertical-align: middle;\n    }\n\n    .dataframe tbody tr th {\n        vertical-align: top;\n    }\n\n    .dataframe thead th {\n        text-align: right;\n    }\n</style>\n<table border=\"1\" class=\"dataframe\">\n  <thead>\n    <tr style=\"text-align: right;\">\n      <th></th>\n      <th>event</th>\n      <th>transaction_hash</th>\n      <th>transaction_blockNumber</th>\n      <th>transaction_timestamp</th>\n      <th>transaction_account_id</th>\n      <th>transaction_market_id</th>\n      <th>transaction_asset_name</th>\n      <th>transaction_asset_symbol</th>\n      <th>transactionReadableAmount</th>\n      <th>transaction_asset_lastPriceUSD</th>\n      <th>transaction_amountUSD</th>\n      <th>dateTime</th>\n      <th>calDate</th>\n    </tr>\n  </thead>\n  <tbody>\n    <tr>\n      <th>0</th>\n      <td>borrow</td>\n      <td>0x3063cfbced7d9431862437e31adcc3581e9df1cd87d3...</td>\n      <td>16674201</td>\n      <td>1676950007</td>\n      <td>0xf659faac0401cc19110321dcc7989c101cced8e4</td>\n      <td>0xf5ffabab8f9a6f4f6de1f0dd6e0820f68657d7db</td>\n      <td>Olympus</td>\n      <td>OHM</td>\n      <td>6420.000000</td>\n      <td>10.379649</td>\n      <td>69617.631237</td>\n      <td>2023-02-21 03:26:47</td>\n      <td>2023-02-21</td>\n    </tr>\n    <tr>\n      <th>6</th>\n      <td>borrow</td>\n      <td>0x264ecb6cc9089ebf8fcb6f8ae5ce26358b15b0551e61...</td>\n      <td>16648400</td>\n      <td>1676636519</td>\n      <td>0xcb6e1613029d790c00f89296808f278d6dc25b2f</td>\n      <td>0xf5ffabab8f9a6f4f6de1f0dd6e0820f68657d7db</td>\n      <td>Olympus</td>\n      <td>OHM</td>\n      <td>58.000000</td>\n      <td>10.379649</td>\n      <td>615.628222</td>\n      <td>2023-02-17 12:21:59</td>\n      <td>2023-02-17</td>\n    </tr>\n    <tr>\n      <th>12</th>\n      <td>borrow</td>\n      <td>0x6726ea9fa581ab0a5fa26b8a112c95e690500f446c39...</td>\n      <td>16628130</td>\n      <td>1676391467</td>\n      <td>0x9b8b04b6f82cd5e1dae58ca3614d445f93defc5c</td>\n      <td>0xf5ffabab8f9a6f4f6de1f0dd6e0820f68657d7db</td>\n      <td>Olympus</td>\n      <td>OHM</td>\n      <td>1480.000000</td>\n      <td>10.379649</td>\n      <td>15782.938441</td>\n      <td>2023-02-14 16:17:47</td>\n      <td>2023-02-14</td>\n    </tr>\n    <tr>\n      <th>18</th>\n      <td>borrow</td>\n      <td>0x5fca09aaf64619a5d644ed392a64f5bd08b9e6b4b46e...</td>\n      <td>16627404</td>\n      <td>1676382743</td>\n      <td>0xc0b1f200aa9546ce074397bed7438bb2ec033877</td>\n      <td>0xf5ffabab8f9a6f4f6de1f0dd6e0820f68657d7db</td>\n      <td>Olympus</td>\n      <td>OHM</td>\n      <td>175.320428</td>\n      <td>10.379649</td>\n      <td>1812.167469</td>\n      <td>2023-02-14 13:52:23</td>\n      <td>2023-02-14</td>\n    </tr>\n  </tbody>\n</table>\n</div>"
     },
     "execution_count": 62,
     "metadata": {},
     "output_type": "execute_result"
    }
   ],
   "source": [
    "siloBorrowEventsDbTimedClean.head(200)"
   ],
   "metadata": {
    "collapsed": false
   }
  },
  {
   "cell_type": "code",
   "execution_count": 63,
   "outputs": [
    {
     "data": {
      "text/plain": "                                      transaction_id  transaction_timestamp  \\\n0  0x3063cfbced7d9431862437e31adcc3581e9df1cd87d3...             1676950007   \n1  0x264ecb6cc9089ebf8fcb6f8ae5ce26358b15b0551e61...             1676636519   \n2  0x6726ea9fa581ab0a5fa26b8a112c95e690500f446c39...             1676391467   \n3  0x5fca09aaf64619a5d644ed392a64f5bd08b9e6b4b46e...             1676382743   \n\n             dateTime                            transaction_from  \\\n0 2023-02-21 03:26:47  0xf659faac0401cc19110321dcc7989c101cced8e4   \n1 2023-02-17 12:21:59  0xcb6e1613029d790c00f89296808f278d6dc25b2f   \n2 2023-02-14 16:17:47  0x9b8b04b6f82cd5e1dae58ca3614d445f93defc5c   \n3 2023-02-14 13:52:23  0xc0b1f200aa9546ce074397bed7438bb2ec033877   \n\n  asset_symbol  readableAmount  transaction_amountUSD       action protocol  \n0          OHM     6420.000000           69617.631237  borrowAsset     Silo  \n1          OHM       58.000000             615.628222  borrowAsset     Silo  \n2          OHM     1480.000000           15782.938441  borrowAsset     Silo  \n3          OHM      175.320428            1812.167469  borrowAsset     Silo  ",
      "text/html": "<div>\n<style scoped>\n    .dataframe tbody tr th:only-of-type {\n        vertical-align: middle;\n    }\n\n    .dataframe tbody tr th {\n        vertical-align: top;\n    }\n\n    .dataframe thead th {\n        text-align: right;\n    }\n</style>\n<table border=\"1\" class=\"dataframe\">\n  <thead>\n    <tr style=\"text-align: right;\">\n      <th></th>\n      <th>transaction_id</th>\n      <th>transaction_timestamp</th>\n      <th>dateTime</th>\n      <th>transaction_from</th>\n      <th>asset_symbol</th>\n      <th>readableAmount</th>\n      <th>transaction_amountUSD</th>\n      <th>action</th>\n      <th>protocol</th>\n    </tr>\n  </thead>\n  <tbody>\n    <tr>\n      <th>0</th>\n      <td>0x3063cfbced7d9431862437e31adcc3581e9df1cd87d3...</td>\n      <td>1676950007</td>\n      <td>2023-02-21 03:26:47</td>\n      <td>0xf659faac0401cc19110321dcc7989c101cced8e4</td>\n      <td>OHM</td>\n      <td>6420.000000</td>\n      <td>69617.631237</td>\n      <td>borrowAsset</td>\n      <td>Silo</td>\n    </tr>\n    <tr>\n      <th>1</th>\n      <td>0x264ecb6cc9089ebf8fcb6f8ae5ce26358b15b0551e61...</td>\n      <td>1676636519</td>\n      <td>2023-02-17 12:21:59</td>\n      <td>0xcb6e1613029d790c00f89296808f278d6dc25b2f</td>\n      <td>OHM</td>\n      <td>58.000000</td>\n      <td>615.628222</td>\n      <td>borrowAsset</td>\n      <td>Silo</td>\n    </tr>\n    <tr>\n      <th>2</th>\n      <td>0x6726ea9fa581ab0a5fa26b8a112c95e690500f446c39...</td>\n      <td>1676391467</td>\n      <td>2023-02-14 16:17:47</td>\n      <td>0x9b8b04b6f82cd5e1dae58ca3614d445f93defc5c</td>\n      <td>OHM</td>\n      <td>1480.000000</td>\n      <td>15782.938441</td>\n      <td>borrowAsset</td>\n      <td>Silo</td>\n    </tr>\n    <tr>\n      <th>3</th>\n      <td>0x5fca09aaf64619a5d644ed392a64f5bd08b9e6b4b46e...</td>\n      <td>1676382743</td>\n      <td>2023-02-14 13:52:23</td>\n      <td>0xc0b1f200aa9546ce074397bed7438bb2ec033877</td>\n      <td>OHM</td>\n      <td>175.320428</td>\n      <td>1812.167469</td>\n      <td>borrowAsset</td>\n      <td>Silo</td>\n    </tr>\n  </tbody>\n</table>\n</div>"
     },
     "execution_count": 63,
     "metadata": {},
     "output_type": "execute_result"
    }
   ],
   "source": [
    "siloBorrowsDbPreMerge = db.query(\n",
    "    \"select distinct\"\n",
    "    \" transaction_hash transaction_id \"\n",
    "    \", transaction_timestamp transaction_timestamp \"\n",
    "    \", dateTime \"\n",
    "    \", transaction_account_id transaction_from \"\n",
    "    \", transaction_asset_symbol  asset_symbol\"\n",
    "    \", transactionReadableAmount readableAmount \"\n",
    "    \", transaction_amountUSD transaction_amountUSD \"\n",
    "    \"from siloBorrowEventsDbTimedClean \"\n",
    ").df()\n",
    "siloBorrowsDbPreMerge['action'] = 'borrowAsset'\n",
    "siloBorrowsDbPreMerge['protocol'] = 'Silo'\n",
    "siloBorrowsDbPreMerge.head(10)\n"
   ],
   "metadata": {
    "collapsed": false
   }
  },
  {
   "cell_type": "markdown",
   "source": [
    "EVENTUALLY THERE WILL BE EULER BORROWS"
   ],
   "metadata": {
    "collapsed": false
   }
  },
  {
   "cell_type": "code",
   "execution_count": 64,
   "outputs": [
    {
     "data": {
      "text/plain": "                                      transaction_id  transaction_timestamp  \\\n0  0x3063cfbced7d9431862437e31adcc3581e9df1cd87d3...             1676950007   \n1  0x264ecb6cc9089ebf8fcb6f8ae5ce26358b15b0551e61...             1676636519   \n2  0x6726ea9fa581ab0a5fa26b8a112c95e690500f446c39...             1676391467   \n3  0x5fca09aaf64619a5d644ed392a64f5bd08b9e6b4b46e...             1676382743   \n\n             dateTime                            transaction_from  \\\n0 2023-02-21 03:26:47  0xf659faac0401cc19110321dcc7989c101cced8e4   \n1 2023-02-17 12:21:59  0xcb6e1613029d790c00f89296808f278d6dc25b2f   \n2 2023-02-14 16:17:47  0x9b8b04b6f82cd5e1dae58ca3614d445f93defc5c   \n3 2023-02-14 13:52:23  0xc0b1f200aa9546ce074397bed7438bb2ec033877   \n\n  asset_symbol  readableAmount  transaction_amountUSD       action protocol  \n0          OHM     6420.000000           69617.631237  borrowAsset     Silo  \n1          OHM       58.000000             615.628222  borrowAsset     Silo  \n2          OHM     1480.000000           15782.938441  borrowAsset     Silo  \n3          OHM      175.320428            1812.167469  borrowAsset     Silo  ",
      "text/html": "<div>\n<style scoped>\n    .dataframe tbody tr th:only-of-type {\n        vertical-align: middle;\n    }\n\n    .dataframe tbody tr th {\n        vertical-align: top;\n    }\n\n    .dataframe thead th {\n        text-align: right;\n    }\n</style>\n<table border=\"1\" class=\"dataframe\">\n  <thead>\n    <tr style=\"text-align: right;\">\n      <th></th>\n      <th>transaction_id</th>\n      <th>transaction_timestamp</th>\n      <th>dateTime</th>\n      <th>transaction_from</th>\n      <th>asset_symbol</th>\n      <th>readableAmount</th>\n      <th>transaction_amountUSD</th>\n      <th>action</th>\n      <th>protocol</th>\n    </tr>\n  </thead>\n  <tbody>\n    <tr>\n      <th>0</th>\n      <td>0x3063cfbced7d9431862437e31adcc3581e9df1cd87d3...</td>\n      <td>1676950007</td>\n      <td>2023-02-21 03:26:47</td>\n      <td>0xf659faac0401cc19110321dcc7989c101cced8e4</td>\n      <td>OHM</td>\n      <td>6420.000000</td>\n      <td>69617.631237</td>\n      <td>borrowAsset</td>\n      <td>Silo</td>\n    </tr>\n    <tr>\n      <th>1</th>\n      <td>0x264ecb6cc9089ebf8fcb6f8ae5ce26358b15b0551e61...</td>\n      <td>1676636519</td>\n      <td>2023-02-17 12:21:59</td>\n      <td>0xcb6e1613029d790c00f89296808f278d6dc25b2f</td>\n      <td>OHM</td>\n      <td>58.000000</td>\n      <td>615.628222</td>\n      <td>borrowAsset</td>\n      <td>Silo</td>\n    </tr>\n    <tr>\n      <th>2</th>\n      <td>0x6726ea9fa581ab0a5fa26b8a112c95e690500f446c39...</td>\n      <td>1676391467</td>\n      <td>2023-02-14 16:17:47</td>\n      <td>0x9b8b04b6f82cd5e1dae58ca3614d445f93defc5c</td>\n      <td>OHM</td>\n      <td>1480.000000</td>\n      <td>15782.938441</td>\n      <td>borrowAsset</td>\n      <td>Silo</td>\n    </tr>\n    <tr>\n      <th>3</th>\n      <td>0x5fca09aaf64619a5d644ed392a64f5bd08b9e6b4b46e...</td>\n      <td>1676382743</td>\n      <td>2023-02-14 13:52:23</td>\n      <td>0xc0b1f200aa9546ce074397bed7438bb2ec033877</td>\n      <td>OHM</td>\n      <td>175.320428</td>\n      <td>1812.167469</td>\n      <td>borrowAsset</td>\n      <td>Silo</td>\n    </tr>\n  </tbody>\n</table>\n</div>"
     },
     "execution_count": 64,
     "metadata": {},
     "output_type": "execute_result"
    }
   ],
   "source": [
    "allOhmBorrowEvents = pd.concat([siloBorrowsDbPreMerge])\n",
    "allOhmBorrowEvents.head(10)"
   ],
   "metadata": {
    "collapsed": false
   }
  },
  {
   "cell_type": "code",
   "execution_count": 65,
   "outputs": [
    {
     "data": {
      "text/plain": "                                      transaction_id  transaction_timestamp  \\\n0  0xa1821732de0a64b8c5f1b4371e115d1a116bf143c8c7...             1676382659   \n1  0xa1821732de0a64b8c5f1b4371e115d1a116bf143c8c7...             1676382659   \n2  0xa1821732de0a64b8c5f1b4371e115d1a116bf143c8c7...             1676382659   \n\n             dateTime                            transaction_from  \\\n0 2023-02-14 13:50:59  0xc0b1f200aa9546ce074397bed7438bb2ec033877   \n1 2023-02-14 13:50:59  0xc0b1f200aa9546ce074397bed7438bb2ec033877   \n2 2023-02-14 13:50:59  0xc0b1f200aa9546ce074397bed7438bb2ec033877   \n\n  asset_symbol  readableAmount  transaction_amountUSD protocol  \\\n0          OHM        2.514698              25.992718     Silo   \n1          OHM        2.514698              25.992718     Silo   \n2          OHM        2.514698              25.992718     Silo   \n\n               action  \n0  withdrawCollateral  \n1  withdrawCollateral  \n2  withdrawCollateral  ",
      "text/html": "<div>\n<style scoped>\n    .dataframe tbody tr th:only-of-type {\n        vertical-align: middle;\n    }\n\n    .dataframe tbody tr th {\n        vertical-align: top;\n    }\n\n    .dataframe thead th {\n        text-align: right;\n    }\n</style>\n<table border=\"1\" class=\"dataframe\">\n  <thead>\n    <tr style=\"text-align: right;\">\n      <th></th>\n      <th>transaction_id</th>\n      <th>transaction_timestamp</th>\n      <th>dateTime</th>\n      <th>transaction_from</th>\n      <th>asset_symbol</th>\n      <th>readableAmount</th>\n      <th>transaction_amountUSD</th>\n      <th>protocol</th>\n      <th>action</th>\n    </tr>\n  </thead>\n  <tbody>\n    <tr>\n      <th>0</th>\n      <td>0xa1821732de0a64b8c5f1b4371e115d1a116bf143c8c7...</td>\n      <td>1676382659</td>\n      <td>2023-02-14 13:50:59</td>\n      <td>0xc0b1f200aa9546ce074397bed7438bb2ec033877</td>\n      <td>OHM</td>\n      <td>2.514698</td>\n      <td>25.992718</td>\n      <td>Silo</td>\n      <td>withdrawCollateral</td>\n    </tr>\n    <tr>\n      <th>1</th>\n      <td>0xa1821732de0a64b8c5f1b4371e115d1a116bf143c8c7...</td>\n      <td>1676382659</td>\n      <td>2023-02-14 13:50:59</td>\n      <td>0xc0b1f200aa9546ce074397bed7438bb2ec033877</td>\n      <td>OHM</td>\n      <td>2.514698</td>\n      <td>25.992718</td>\n      <td>Silo</td>\n      <td>withdrawCollateral</td>\n    </tr>\n    <tr>\n      <th>2</th>\n      <td>0xa1821732de0a64b8c5f1b4371e115d1a116bf143c8c7...</td>\n      <td>1676382659</td>\n      <td>2023-02-14 13:50:59</td>\n      <td>0xc0b1f200aa9546ce074397bed7438bb2ec033877</td>\n      <td>OHM</td>\n      <td>2.514698</td>\n      <td>25.992718</td>\n      <td>Silo</td>\n      <td>withdrawCollateral</td>\n    </tr>\n  </tbody>\n</table>\n</div>"
     },
     "execution_count": 65,
     "metadata": {},
     "output_type": "execute_result"
    }
   ],
   "source": [
    "allCollateralWithdrawals.head(10)"
   ],
   "metadata": {
    "collapsed": false
   }
  },
  {
   "cell_type": "code",
   "execution_count": 66,
   "outputs": [
    {
     "data": {
      "text/plain": "                                      transaction_id  transaction_timestamp  \\\n0  0xffd4f953670dec6f8ae7d0d79391572912b056b99f6c...             1677139223   \n1  0x301069fd24dd70d15cdcbebd4f076efe486a82f34724...             1676615723   \n2  0xa7495eba745bd67279969c1b8687f816e0d83a60bf0c...             1676379695   \n0  0x1c37394aaabc2445a66b61a360cf08ae096b7582e2ed...             1676611691   \n1  0xf9bbcc923182fb6406e97fce0f92c22c87a284d55812...             1676379599   \n2  0x0aa351eb8ff1ca2bd6c4e65229f83c7e5b596d72c889...             1676360171   \n\n             dateTime                            transaction_from  \\\n0 2023-02-23 08:00:23  0x642c8ed496a3d05a0ed08911c01f652a0c4b84d4   \n1 2023-02-17 06:35:23  0x9b53bed0d62028c0fc5d2006c076cb33e6e6cecd   \n2 2023-02-14 13:01:35  0x245cc372c84b3645bf0ffe6538620b04a217988b   \n0 2023-02-17 05:28:11  0x9b53bed0d62028c0fc5d2006c076cb33e6e6cecd   \n1 2023-02-14 12:59:59  0x245cc372c84b3645bf0ffe6538620b04a217988b   \n2 2023-02-14 07:36:11  0xc0b1f200aa9546ce074397bed7438bb2ec033877   \n\n  asset_symbol  readableAmount  transaction_amountUSD protocol  \\\n0          OHM      450.000000            4781.601428    Euler   \n1          OHM        4.973204              52.678831    Euler   \n2          OHM    30000.000000          310089.501811    Euler   \n0          OHM       10.000000             105.925340     Silo   \n1          OHM    20000.000000          206726.334541     Silo   \n2          OHM        2.514698              26.317329     Silo   \n\n              action  \n0  depositCollateral  \n1  depositCollateral  \n2  depositCollateral  \n0  depositCollateral  \n1  depositCollateral  \n2  depositCollateral  ",
      "text/html": "<div>\n<style scoped>\n    .dataframe tbody tr th:only-of-type {\n        vertical-align: middle;\n    }\n\n    .dataframe tbody tr th {\n        vertical-align: top;\n    }\n\n    .dataframe thead th {\n        text-align: right;\n    }\n</style>\n<table border=\"1\" class=\"dataframe\">\n  <thead>\n    <tr style=\"text-align: right;\">\n      <th></th>\n      <th>transaction_id</th>\n      <th>transaction_timestamp</th>\n      <th>dateTime</th>\n      <th>transaction_from</th>\n      <th>asset_symbol</th>\n      <th>readableAmount</th>\n      <th>transaction_amountUSD</th>\n      <th>protocol</th>\n      <th>action</th>\n    </tr>\n  </thead>\n  <tbody>\n    <tr>\n      <th>0</th>\n      <td>0xffd4f953670dec6f8ae7d0d79391572912b056b99f6c...</td>\n      <td>1677139223</td>\n      <td>2023-02-23 08:00:23</td>\n      <td>0x642c8ed496a3d05a0ed08911c01f652a0c4b84d4</td>\n      <td>OHM</td>\n      <td>450.000000</td>\n      <td>4781.601428</td>\n      <td>Euler</td>\n      <td>depositCollateral</td>\n    </tr>\n    <tr>\n      <th>1</th>\n      <td>0x301069fd24dd70d15cdcbebd4f076efe486a82f34724...</td>\n      <td>1676615723</td>\n      <td>2023-02-17 06:35:23</td>\n      <td>0x9b53bed0d62028c0fc5d2006c076cb33e6e6cecd</td>\n      <td>OHM</td>\n      <td>4.973204</td>\n      <td>52.678831</td>\n      <td>Euler</td>\n      <td>depositCollateral</td>\n    </tr>\n    <tr>\n      <th>2</th>\n      <td>0xa7495eba745bd67279969c1b8687f816e0d83a60bf0c...</td>\n      <td>1676379695</td>\n      <td>2023-02-14 13:01:35</td>\n      <td>0x245cc372c84b3645bf0ffe6538620b04a217988b</td>\n      <td>OHM</td>\n      <td>30000.000000</td>\n      <td>310089.501811</td>\n      <td>Euler</td>\n      <td>depositCollateral</td>\n    </tr>\n    <tr>\n      <th>0</th>\n      <td>0x1c37394aaabc2445a66b61a360cf08ae096b7582e2ed...</td>\n      <td>1676611691</td>\n      <td>2023-02-17 05:28:11</td>\n      <td>0x9b53bed0d62028c0fc5d2006c076cb33e6e6cecd</td>\n      <td>OHM</td>\n      <td>10.000000</td>\n      <td>105.925340</td>\n      <td>Silo</td>\n      <td>depositCollateral</td>\n    </tr>\n    <tr>\n      <th>1</th>\n      <td>0xf9bbcc923182fb6406e97fce0f92c22c87a284d55812...</td>\n      <td>1676379599</td>\n      <td>2023-02-14 12:59:59</td>\n      <td>0x245cc372c84b3645bf0ffe6538620b04a217988b</td>\n      <td>OHM</td>\n      <td>20000.000000</td>\n      <td>206726.334541</td>\n      <td>Silo</td>\n      <td>depositCollateral</td>\n    </tr>\n    <tr>\n      <th>2</th>\n      <td>0x0aa351eb8ff1ca2bd6c4e65229f83c7e5b596d72c889...</td>\n      <td>1676360171</td>\n      <td>2023-02-14 07:36:11</td>\n      <td>0xc0b1f200aa9546ce074397bed7438bb2ec033877</td>\n      <td>OHM</td>\n      <td>2.514698</td>\n      <td>26.317329</td>\n      <td>Silo</td>\n      <td>depositCollateral</td>\n    </tr>\n  </tbody>\n</table>\n</div>"
     },
     "execution_count": 66,
     "metadata": {},
     "output_type": "execute_result"
    }
   ],
   "source": [
    "ohmDeposits.head(10)"
   ],
   "metadata": {
    "collapsed": false
   }
  },
  {
   "cell_type": "code",
   "execution_count": 67,
   "outputs": [
    {
     "data": {
      "text/plain": "                                      transaction_id  transaction_timestamp  \\\n0  0xffd4f953670dec6f8ae7d0d79391572912b056b99f6c...             1677139223   \n1  0x301069fd24dd70d15cdcbebd4f076efe486a82f34724...             1676615723   \n2  0xa7495eba745bd67279969c1b8687f816e0d83a60bf0c...             1676379695   \n0  0x1c37394aaabc2445a66b61a360cf08ae096b7582e2ed...             1676611691   \n1  0xf9bbcc923182fb6406e97fce0f92c22c87a284d55812...             1676379599   \n2  0x0aa351eb8ff1ca2bd6c4e65229f83c7e5b596d72c889...             1676360171   \n0  0xa1821732de0a64b8c5f1b4371e115d1a116bf143c8c7...             1676382659   \n1  0xa1821732de0a64b8c5f1b4371e115d1a116bf143c8c7...             1676382659   \n2  0xa1821732de0a64b8c5f1b4371e115d1a116bf143c8c7...             1676382659   \n0  0x3063cfbced7d9431862437e31adcc3581e9df1cd87d3...             1676950007   \n1  0x264ecb6cc9089ebf8fcb6f8ae5ce26358b15b0551e61...             1676636519   \n2  0x6726ea9fa581ab0a5fa26b8a112c95e690500f446c39...             1676391467   \n3  0x5fca09aaf64619a5d644ed392a64f5bd08b9e6b4b46e...             1676382743   \n\n             dateTime                            transaction_from  \\\n0 2023-02-23 08:00:23  0x642c8ed496a3d05a0ed08911c01f652a0c4b84d4   \n1 2023-02-17 06:35:23  0x9b53bed0d62028c0fc5d2006c076cb33e6e6cecd   \n2 2023-02-14 13:01:35  0x245cc372c84b3645bf0ffe6538620b04a217988b   \n0 2023-02-17 05:28:11  0x9b53bed0d62028c0fc5d2006c076cb33e6e6cecd   \n1 2023-02-14 12:59:59  0x245cc372c84b3645bf0ffe6538620b04a217988b   \n2 2023-02-14 07:36:11  0xc0b1f200aa9546ce074397bed7438bb2ec033877   \n0 2023-02-14 13:50:59  0xc0b1f200aa9546ce074397bed7438bb2ec033877   \n1 2023-02-14 13:50:59  0xc0b1f200aa9546ce074397bed7438bb2ec033877   \n2 2023-02-14 13:50:59  0xc0b1f200aa9546ce074397bed7438bb2ec033877   \n0 2023-02-21 03:26:47  0xf659faac0401cc19110321dcc7989c101cced8e4   \n1 2023-02-17 12:21:59  0xcb6e1613029d790c00f89296808f278d6dc25b2f   \n2 2023-02-14 16:17:47  0x9b8b04b6f82cd5e1dae58ca3614d445f93defc5c   \n3 2023-02-14 13:52:23  0xc0b1f200aa9546ce074397bed7438bb2ec033877   \n\n  asset_symbol  readableAmount  transaction_amountUSD protocol  \\\n0          OHM      450.000000            4781.601428    Euler   \n1          OHM        4.973204              52.678831    Euler   \n2          OHM    30000.000000          310089.501811    Euler   \n0          OHM       10.000000             105.925340     Silo   \n1          OHM    20000.000000          206726.334541     Silo   \n2          OHM        2.514698              26.317329     Silo   \n0          OHM        2.514698              25.992718     Silo   \n1          OHM        2.514698              25.992718     Silo   \n2          OHM        2.514698              25.992718     Silo   \n0          OHM     6420.000000           69617.631237     Silo   \n1          OHM       58.000000             615.628222     Silo   \n2          OHM     1480.000000           15782.938441     Silo   \n3          OHM      175.320428            1812.167469     Silo   \n\n               action  \n0   depositCollateral  \n1   depositCollateral  \n2   depositCollateral  \n0   depositCollateral  \n1   depositCollateral  \n2   depositCollateral  \n0  withdrawCollateral  \n1  withdrawCollateral  \n2  withdrawCollateral  \n0         borrowAsset  \n1         borrowAsset  \n2         borrowAsset  \n3         borrowAsset  ",
      "text/html": "<div>\n<style scoped>\n    .dataframe tbody tr th:only-of-type {\n        vertical-align: middle;\n    }\n\n    .dataframe tbody tr th {\n        vertical-align: top;\n    }\n\n    .dataframe thead th {\n        text-align: right;\n    }\n</style>\n<table border=\"1\" class=\"dataframe\">\n  <thead>\n    <tr style=\"text-align: right;\">\n      <th></th>\n      <th>transaction_id</th>\n      <th>transaction_timestamp</th>\n      <th>dateTime</th>\n      <th>transaction_from</th>\n      <th>asset_symbol</th>\n      <th>readableAmount</th>\n      <th>transaction_amountUSD</th>\n      <th>protocol</th>\n      <th>action</th>\n    </tr>\n  </thead>\n  <tbody>\n    <tr>\n      <th>0</th>\n      <td>0xffd4f953670dec6f8ae7d0d79391572912b056b99f6c...</td>\n      <td>1677139223</td>\n      <td>2023-02-23 08:00:23</td>\n      <td>0x642c8ed496a3d05a0ed08911c01f652a0c4b84d4</td>\n      <td>OHM</td>\n      <td>450.000000</td>\n      <td>4781.601428</td>\n      <td>Euler</td>\n      <td>depositCollateral</td>\n    </tr>\n    <tr>\n      <th>1</th>\n      <td>0x301069fd24dd70d15cdcbebd4f076efe486a82f34724...</td>\n      <td>1676615723</td>\n      <td>2023-02-17 06:35:23</td>\n      <td>0x9b53bed0d62028c0fc5d2006c076cb33e6e6cecd</td>\n      <td>OHM</td>\n      <td>4.973204</td>\n      <td>52.678831</td>\n      <td>Euler</td>\n      <td>depositCollateral</td>\n    </tr>\n    <tr>\n      <th>2</th>\n      <td>0xa7495eba745bd67279969c1b8687f816e0d83a60bf0c...</td>\n      <td>1676379695</td>\n      <td>2023-02-14 13:01:35</td>\n      <td>0x245cc372c84b3645bf0ffe6538620b04a217988b</td>\n      <td>OHM</td>\n      <td>30000.000000</td>\n      <td>310089.501811</td>\n      <td>Euler</td>\n      <td>depositCollateral</td>\n    </tr>\n    <tr>\n      <th>0</th>\n      <td>0x1c37394aaabc2445a66b61a360cf08ae096b7582e2ed...</td>\n      <td>1676611691</td>\n      <td>2023-02-17 05:28:11</td>\n      <td>0x9b53bed0d62028c0fc5d2006c076cb33e6e6cecd</td>\n      <td>OHM</td>\n      <td>10.000000</td>\n      <td>105.925340</td>\n      <td>Silo</td>\n      <td>depositCollateral</td>\n    </tr>\n    <tr>\n      <th>1</th>\n      <td>0xf9bbcc923182fb6406e97fce0f92c22c87a284d55812...</td>\n      <td>1676379599</td>\n      <td>2023-02-14 12:59:59</td>\n      <td>0x245cc372c84b3645bf0ffe6538620b04a217988b</td>\n      <td>OHM</td>\n      <td>20000.000000</td>\n      <td>206726.334541</td>\n      <td>Silo</td>\n      <td>depositCollateral</td>\n    </tr>\n    <tr>\n      <th>2</th>\n      <td>0x0aa351eb8ff1ca2bd6c4e65229f83c7e5b596d72c889...</td>\n      <td>1676360171</td>\n      <td>2023-02-14 07:36:11</td>\n      <td>0xc0b1f200aa9546ce074397bed7438bb2ec033877</td>\n      <td>OHM</td>\n      <td>2.514698</td>\n      <td>26.317329</td>\n      <td>Silo</td>\n      <td>depositCollateral</td>\n    </tr>\n    <tr>\n      <th>0</th>\n      <td>0xa1821732de0a64b8c5f1b4371e115d1a116bf143c8c7...</td>\n      <td>1676382659</td>\n      <td>2023-02-14 13:50:59</td>\n      <td>0xc0b1f200aa9546ce074397bed7438bb2ec033877</td>\n      <td>OHM</td>\n      <td>2.514698</td>\n      <td>25.992718</td>\n      <td>Silo</td>\n      <td>withdrawCollateral</td>\n    </tr>\n    <tr>\n      <th>1</th>\n      <td>0xa1821732de0a64b8c5f1b4371e115d1a116bf143c8c7...</td>\n      <td>1676382659</td>\n      <td>2023-02-14 13:50:59</td>\n      <td>0xc0b1f200aa9546ce074397bed7438bb2ec033877</td>\n      <td>OHM</td>\n      <td>2.514698</td>\n      <td>25.992718</td>\n      <td>Silo</td>\n      <td>withdrawCollateral</td>\n    </tr>\n    <tr>\n      <th>2</th>\n      <td>0xa1821732de0a64b8c5f1b4371e115d1a116bf143c8c7...</td>\n      <td>1676382659</td>\n      <td>2023-02-14 13:50:59</td>\n      <td>0xc0b1f200aa9546ce074397bed7438bb2ec033877</td>\n      <td>OHM</td>\n      <td>2.514698</td>\n      <td>25.992718</td>\n      <td>Silo</td>\n      <td>withdrawCollateral</td>\n    </tr>\n    <tr>\n      <th>0</th>\n      <td>0x3063cfbced7d9431862437e31adcc3581e9df1cd87d3...</td>\n      <td>1676950007</td>\n      <td>2023-02-21 03:26:47</td>\n      <td>0xf659faac0401cc19110321dcc7989c101cced8e4</td>\n      <td>OHM</td>\n      <td>6420.000000</td>\n      <td>69617.631237</td>\n      <td>Silo</td>\n      <td>borrowAsset</td>\n    </tr>\n    <tr>\n      <th>1</th>\n      <td>0x264ecb6cc9089ebf8fcb6f8ae5ce26358b15b0551e61...</td>\n      <td>1676636519</td>\n      <td>2023-02-17 12:21:59</td>\n      <td>0xcb6e1613029d790c00f89296808f278d6dc25b2f</td>\n      <td>OHM</td>\n      <td>58.000000</td>\n      <td>615.628222</td>\n      <td>Silo</td>\n      <td>borrowAsset</td>\n    </tr>\n    <tr>\n      <th>2</th>\n      <td>0x6726ea9fa581ab0a5fa26b8a112c95e690500f446c39...</td>\n      <td>1676391467</td>\n      <td>2023-02-14 16:17:47</td>\n      <td>0x9b8b04b6f82cd5e1dae58ca3614d445f93defc5c</td>\n      <td>OHM</td>\n      <td>1480.000000</td>\n      <td>15782.938441</td>\n      <td>Silo</td>\n      <td>borrowAsset</td>\n    </tr>\n    <tr>\n      <th>3</th>\n      <td>0x5fca09aaf64619a5d644ed392a64f5bd08b9e6b4b46e...</td>\n      <td>1676382743</td>\n      <td>2023-02-14 13:52:23</td>\n      <td>0xc0b1f200aa9546ce074397bed7438bb2ec033877</td>\n      <td>OHM</td>\n      <td>175.320428</td>\n      <td>1812.167469</td>\n      <td>Silo</td>\n      <td>borrowAsset</td>\n    </tr>\n  </tbody>\n</table>\n</div>"
     },
     "execution_count": 67,
     "metadata": {},
     "output_type": "execute_result"
    }
   ],
   "source": [
    "allOhmBorrowMarketEvents = pd.DataFrame()\n",
    "allOhmBorrowMarketEvents = pd.concat([ohmDeposits,allCollateralWithdrawals,allOhmBorrowEvents])\n",
    "allOhmBorrowMarketEvents['dateTime'] =(pd.to_datetime(allOhmBorrowMarketEvents['transaction_timestamp'],unit='s'))\n",
    "allOhmBorrowMarketEvents.head(1000)"
   ],
   "metadata": {
    "collapsed": false
   }
  },
  {
   "cell_type": "code",
   "execution_count": 68,
   "outputs": [
    {
     "name": "stdout",
     "output_type": "stream",
     "text": [
      "D:\\Dropbox\\Documents\\Edgecaser LLC\\Projects\\Olympus\\Econohmetrics\\ohmBorrowing/data/allOhmBorrowMarketEvents_piped.csv file saved, 6  records\n"
     ]
    }
   ],
   "source": [
    "path =file+'/allOhmBorrowMarketEvents.csv'\n",
    "allOhmBorrowMarketEvents.to_csv(path, index = False)\n",
    "\n",
    "path =file+'/allOhmBorrowMarketEvents_piped.csv'\n",
    "allOhmBorrowMarketEvents.to_csv(path, index = False, sep='|')\n",
    "print(path, 'file saved,', len(ohmDeposits),' records')"
   ],
   "metadata": {
    "collapsed": false
   }
  },
  {
   "cell_type": "code",
   "execution_count": 69,
   "outputs": [
    {
     "data": {
      "text/plain": "  protocol  collateralBalance  totalBorrowedOhm\n0     Silo       20010.000000       8133.320428\n1    Euler       30454.973204          0.000000",
      "text/html": "<div>\n<style scoped>\n    .dataframe tbody tr th:only-of-type {\n        vertical-align: middle;\n    }\n\n    .dataframe tbody tr th {\n        vertical-align: top;\n    }\n\n    .dataframe thead th {\n        text-align: right;\n    }\n</style>\n<table border=\"1\" class=\"dataframe\">\n  <thead>\n    <tr style=\"text-align: right;\">\n      <th></th>\n      <th>protocol</th>\n      <th>collateralBalance</th>\n      <th>totalBorrowedOhm</th>\n    </tr>\n  </thead>\n  <tbody>\n    <tr>\n      <th>0</th>\n      <td>Silo</td>\n      <td>20010.000000</td>\n      <td>8133.320428</td>\n    </tr>\n    <tr>\n      <th>1</th>\n      <td>Euler</td>\n      <td>30454.973204</td>\n      <td>0.000000</td>\n    </tr>\n  </tbody>\n</table>\n</div>"
     },
     "execution_count": 69,
     "metadata": {},
     "output_type": "execute_result"
    }
   ],
   "source": [
    "ohmBorrowMarketLevels = pd.DataFrame({\n",
    "    'protocol':['Silo','Euler'],\n",
    "    'collateralBalance':[collateralBalance,totalDepositedEuler],\n",
    "    'totalBorrowedOhm':[totalBorrowedOHM,0]\n",
    "})\n",
    "ohmBorrowMarketLevels.head(10)"
   ],
   "metadata": {
    "collapsed": false
   }
  },
  {
   "cell_type": "code",
   "execution_count": 70,
   "outputs": [
    {
     "name": "stdout",
     "output_type": "stream",
     "text": [
      "D:\\Dropbox\\Documents\\Edgecaser LLC\\Projects\\Olympus\\Econohmetrics\\ohmBorrowing/data/ohmBorrowMarketLevels_piped.csv file saved, 2  records\n"
     ]
    }
   ],
   "source": [
    "path =file+'/ohmBorrowMarketLevels.csv'\n",
    "ohmBorrowMarketLevels.to_csv(path, index = False)\n",
    "\n",
    "path =file+'/ohmBorrowMarketLevels_piped.csv'\n",
    "ohmBorrowMarketLevels.to_csv(path, index = False, sep='|')\n",
    "print(path, 'file saved,', len(ohmBorrowMarketLevels),' records')"
   ],
   "metadata": {
    "collapsed": false
   }
  },
  {
   "cell_type": "code",
   "execution_count": 70,
   "outputs": [],
   "source": [],
   "metadata": {
    "collapsed": false
   }
  }
 ],
 "metadata": {
  "kernelspec": {
   "display_name": "Python 3",
   "language": "python",
   "name": "python3"
  },
  "language_info": {
   "codemirror_mode": {
    "name": "ipython",
    "version": 2
   },
   "file_extension": ".py",
   "mimetype": "text/x-python",
   "name": "python",
   "nbconvert_exporter": "python",
   "pygments_lexer": "ipython2",
   "version": "2.7.6"
  }
 },
 "nbformat": 4,
 "nbformat_minor": 0
}
