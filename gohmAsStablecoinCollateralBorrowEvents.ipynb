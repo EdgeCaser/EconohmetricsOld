{
 "cells": [
  {
   "cell_type": "code",
   "execution_count": 1,
   "metadata": {
    "collapsed": true
   },
   "outputs": [],
   "source": [
    "from datetime import datetime\n",
    "import datetime as dt\n",
    "import time\n",
    "from subgrounds.subgraph import SyntheticField, FieldPath\n",
    "from subgrounds.subgrounds import Subgrounds\n",
    "import pandas as pd\n",
    "import duckdb as db\n",
    "import seaborn as sns\n",
    "import matplotlib.pyplot as plt\n",
    "import IPython as ip\n",
    "import  os as os"
   ]
  },
  {
   "cell_type": "code",
   "execution_count": 2,
   "outputs": [],
   "source": [
    "daysLimit = int(input('How many days back in history?'))"
   ],
   "metadata": {
    "collapsed": false
   }
  },
  {
   "cell_type": "code",
   "execution_count": 50,
   "outputs": [],
   "source": [
    "sg = Subgrounds()\n",
    "apiKey = input('API Key, please')"
   ],
   "metadata": {
    "collapsed": false
   }
  },
  {
   "cell_type": "code",
   "execution_count": 3,
   "outputs": [],
   "source": [
    "#for when we save the files\n",
    "file = input('Selet a folder to save output') ##enter your file path here - the file is in the repo \"summary_stats.csv\".\n",
    "file = file+'/data'\n",
    "if not os.path.exists(file):\n",
    "    os.makedirs(file)"
   ],
   "metadata": {
    "collapsed": false
   }
  },
  {
   "cell_type": "markdown",
   "source": [
    "*******************************************************************\n",
    "*******************************************************************\n",
    "LET'S LOOK AT SILO BORROWS FIRST"
   ],
   "metadata": {
    "collapsed": false
   }
  },
  {
   "cell_type": "code",
   "execution_count": 39,
   "outputs": [],
   "source": [
    "#SILO subgraph: https://gateway.thegraph.com/api/[api-key]/subgraphs/id/6rcT2GzBXGoi3ZMus92LHajM2b9qWGj7Z3dDhPxoUogB\n",
    "silo = sg.load_api('https://gateway.thegraph.com/api/'+apiKey+'/subgraphs/id/6rcT2GzBXGoi3ZMus92LHajM2b9qWGj7Z3dDhPxoUogB')"
   ],
   "metadata": {
    "collapsed": false
   }
  },
  {
   "cell_type": "markdown",
   "source": [
    "##this captures the list of people who borrowed XAI against gOHM\n",
    "borrows = silo.Query.borrows(\n",
    "    orderBy='timestamp',\n",
    "    orderDirection='desc',\n",
    "    first=1000,\n",
    "    #skip = skipValue,\n",
    "    where={ 'market': '0xc413dd03555f3eb29d834b482d386b2999dc2eb0' }\n",
    "\n",
    ")\n",
    "\n",
    "borrowsDb = sg.query_df([\n",
    "    borrows.id\n",
    "    ,borrows.hash\n",
    "    ,borrows.logIndex\n",
    "    ,borrows.blockNumber\n",
    "    ,borrows.timestamp\n",
    "    ,borrows.account\n",
    "    ,borrows.market\n",
    "    ,borrows.market.rates\n",
    "    ,borrows.asset\n",
    "    ,borrows.amount\n",
    "    ,borrows.amountUSD \n",
    "])\n",
    "borrowsDb.head(100)"
   ],
   "metadata": {
    "collapsed": false
   }
  },
  {
   "cell_type": "markdown",
   "source": [
    "#this, in turn, pulls repayment events\n",
    "repays = silo.Query.repays(\n",
    "    orderBy='timestamp',\n",
    "    orderDirection='desc',\n",
    "    first=1000,\n",
    "    #skip = skipValue,\n",
    "    where={ 'market': '0xc413dd03555f3eb29d834b482d386b2999dc2eb0' }\n",
    "\n",
    ")\n",
    "\n",
    "repaysDb = sg.query_df([\n",
    "    repays.id\n",
    "    ,repays.hash\n",
    "    ,repays.logIndex\n",
    "    ,repays.blockNumber\n",
    "    ,repays.timestamp\n",
    "    ,repays.account\n",
    "    ,repays.market\n",
    "    ,repays.market.rates\n",
    "    ,repays.asset\n",
    "    ,repays.amount\n",
    "    ,repays.amountUSD\n",
    "    ,repays.position\n",
    "])\n",
    "repaysDb.head(100)"
   ],
   "metadata": {
    "collapsed": false
   }
  },
  {
   "cell_type": "code",
   "execution_count": 40,
   "outputs": [
    {
     "data": {
      "text/plain": "    event                                   transaction_hash  \\\n0  borrow  0xf8e0d6896a0422e8f3cb994a0d40ba911a48426331e0...   \n1  borrow  0x164ddb76e787d0d47799d9f4d2fa4c5dbbe3cec645bc...   \n2  borrow  0x220922454f571a334ef370d9122aaec2f16eb4f2b137...   \n3  borrow  0xb3ff0296b2a31e48cf7aa26a5dbe4ffd8cf504579227...   \n4  borrow  0x52f5ba92b7e35bde0ac2d595b6f55c6fcf312c7b6292...   \n5  borrow  0xd1e0d42b27bc7304ce2aa914d63058fbf5be6709aa77...   \n6  borrow  0x5946a769e10307668b4b60aa3b36d5189916cc02fc23...   \n7  borrow  0x7a9527e13f7627c09cc9bdcc43d1aa6a7babf0c087b8...   \n8  borrow  0x84778306b3f662f7d98e431591f302d924d143c3c0b2...   \n9  borrow  0x66fe10ed6dcb8b83bdb5b0c46cd321060734b9063bd5...   \n\n   transaction_blockNumber  transaction_timestamp  \\\n0                 16717823             1677480203   \n1                 16716960             1677469739   \n2                 16701840             1677286115   \n3                 16699182             1677253703   \n4                 16695694             1677211127   \n5                 16686330             1677097475   \n6                 16684007             1677069179   \n7                 16681973             1677044447   \n8                 16678471             1677001823   \n9                 16651434             1676673563   \n\n                       transaction_account_id  \\\n0  0x5c9d09716404556646b0b4567cb4621c18581f94   \n1  0xbe45fb24bd0f1f348cd21fd8cf3d1e94afc9ee58   \n2  0xa0fea50194bd39d5b3da8a795b36db75313b1936   \n3  0xb0399dac8f4d4100b49b2a7b3873481114229d18   \n4  0x804157889ac56a4e50278610c67960c1605a3264   \n5  0xd33e76d21d32c21811593ae54e38f68df0cfe8ed   \n6  0x5656cb4721c21e1f5dcbe03db9026ac0203d6e4f   \n7  0x7aaee144a14ec3ba0e468c9dcf4a89fdb62c5aa6   \n8  0x9b8b04b6f82cd5e1dae58ca3614d445f93defc5c   \n9  0xd33e76d21d32c21811593ae54e38f68df0cfe8ed   \n\n                        transaction_market_id transaction_asset_name  \\\n0  0xc413dd03555f3eb29d834b482d386b2999dc2eb0         XAI Stablecoin   \n1  0xc413dd03555f3eb29d834b482d386b2999dc2eb0         XAI Stablecoin   \n2  0xc413dd03555f3eb29d834b482d386b2999dc2eb0         XAI Stablecoin   \n3  0xc413dd03555f3eb29d834b482d386b2999dc2eb0         XAI Stablecoin   \n4  0xc413dd03555f3eb29d834b482d386b2999dc2eb0         XAI Stablecoin   \n5  0xc413dd03555f3eb29d834b482d386b2999dc2eb0          Wrapped Ether   \n6  0xc413dd03555f3eb29d834b482d386b2999dc2eb0         XAI Stablecoin   \n7  0xc413dd03555f3eb29d834b482d386b2999dc2eb0         XAI Stablecoin   \n8  0xc413dd03555f3eb29d834b482d386b2999dc2eb0         XAI Stablecoin   \n9  0xc413dd03555f3eb29d834b482d386b2999dc2eb0         XAI Stablecoin   \n\n  transaction_asset_symbol  transactionReadableAmount  \\\n0                      XAI                   30000.00   \n1                      XAI                    4500.00   \n2                      XAI                    2050.00   \n3                      XAI                   50000.00   \n4                      XAI                     700.00   \n5                     WETH                       3.25   \n6                      XAI                    4520.00   \n7                      XAI                   16500.00   \n8                      XAI                    6540.00   \n9                      XAI                   60500.00   \n\n   transaction_asset_lastPriceUSD  transaction_amountUSD             dateTime  \\\n0                        0.997992           30025.436160  2023-02-27 06:43:23   \n1                        0.997992            4485.559896  2023-02-27 03:48:59   \n2                        0.997992            2048.472075  2023-02-25 00:48:35   \n3                        0.997992           49977.205520  2023-02-24 15:48:23   \n4                        0.997992             702.225601  2023-02-24 03:58:47   \n5                     1618.907560            5270.606820  2023-02-22 20:24:35   \n6                        0.997992            4510.003371  2023-02-22 12:32:59   \n7                        0.997992           16472.437498  2023-02-22 05:40:47   \n8                        0.997992            6588.024198  2023-02-21 17:50:23   \n9                        0.997992           59947.550425  2023-02-17 22:39:23   \n\n      calDate  \n0  2023-02-27  \n1  2023-02-27  \n2  2023-02-25  \n3  2023-02-24  \n4  2023-02-24  \n5  2023-02-22  \n6  2023-02-22  \n7  2023-02-22  \n8  2023-02-21  \n9  2023-02-17  ",
      "text/html": "<div>\n<style scoped>\n    .dataframe tbody tr th:only-of-type {\n        vertical-align: middle;\n    }\n\n    .dataframe tbody tr th {\n        vertical-align: top;\n    }\n\n    .dataframe thead th {\n        text-align: right;\n    }\n</style>\n<table border=\"1\" class=\"dataframe\">\n  <thead>\n    <tr style=\"text-align: right;\">\n      <th></th>\n      <th>event</th>\n      <th>transaction_hash</th>\n      <th>transaction_blockNumber</th>\n      <th>transaction_timestamp</th>\n      <th>transaction_account_id</th>\n      <th>transaction_market_id</th>\n      <th>transaction_asset_name</th>\n      <th>transaction_asset_symbol</th>\n      <th>transactionReadableAmount</th>\n      <th>transaction_asset_lastPriceUSD</th>\n      <th>transaction_amountUSD</th>\n      <th>dateTime</th>\n      <th>calDate</th>\n    </tr>\n  </thead>\n  <tbody>\n    <tr>\n      <th>0</th>\n      <td>borrow</td>\n      <td>0xf8e0d6896a0422e8f3cb994a0d40ba911a48426331e0...</td>\n      <td>16717823</td>\n      <td>1677480203</td>\n      <td>0x5c9d09716404556646b0b4567cb4621c18581f94</td>\n      <td>0xc413dd03555f3eb29d834b482d386b2999dc2eb0</td>\n      <td>XAI Stablecoin</td>\n      <td>XAI</td>\n      <td>30000.00</td>\n      <td>0.997992</td>\n      <td>30025.436160</td>\n      <td>2023-02-27 06:43:23</td>\n      <td>2023-02-27</td>\n    </tr>\n    <tr>\n      <th>1</th>\n      <td>borrow</td>\n      <td>0x164ddb76e787d0d47799d9f4d2fa4c5dbbe3cec645bc...</td>\n      <td>16716960</td>\n      <td>1677469739</td>\n      <td>0xbe45fb24bd0f1f348cd21fd8cf3d1e94afc9ee58</td>\n      <td>0xc413dd03555f3eb29d834b482d386b2999dc2eb0</td>\n      <td>XAI Stablecoin</td>\n      <td>XAI</td>\n      <td>4500.00</td>\n      <td>0.997992</td>\n      <td>4485.559896</td>\n      <td>2023-02-27 03:48:59</td>\n      <td>2023-02-27</td>\n    </tr>\n    <tr>\n      <th>2</th>\n      <td>borrow</td>\n      <td>0x220922454f571a334ef370d9122aaec2f16eb4f2b137...</td>\n      <td>16701840</td>\n      <td>1677286115</td>\n      <td>0xa0fea50194bd39d5b3da8a795b36db75313b1936</td>\n      <td>0xc413dd03555f3eb29d834b482d386b2999dc2eb0</td>\n      <td>XAI Stablecoin</td>\n      <td>XAI</td>\n      <td>2050.00</td>\n      <td>0.997992</td>\n      <td>2048.472075</td>\n      <td>2023-02-25 00:48:35</td>\n      <td>2023-02-25</td>\n    </tr>\n    <tr>\n      <th>3</th>\n      <td>borrow</td>\n      <td>0xb3ff0296b2a31e48cf7aa26a5dbe4ffd8cf504579227...</td>\n      <td>16699182</td>\n      <td>1677253703</td>\n      <td>0xb0399dac8f4d4100b49b2a7b3873481114229d18</td>\n      <td>0xc413dd03555f3eb29d834b482d386b2999dc2eb0</td>\n      <td>XAI Stablecoin</td>\n      <td>XAI</td>\n      <td>50000.00</td>\n      <td>0.997992</td>\n      <td>49977.205520</td>\n      <td>2023-02-24 15:48:23</td>\n      <td>2023-02-24</td>\n    </tr>\n    <tr>\n      <th>4</th>\n      <td>borrow</td>\n      <td>0x52f5ba92b7e35bde0ac2d595b6f55c6fcf312c7b6292...</td>\n      <td>16695694</td>\n      <td>1677211127</td>\n      <td>0x804157889ac56a4e50278610c67960c1605a3264</td>\n      <td>0xc413dd03555f3eb29d834b482d386b2999dc2eb0</td>\n      <td>XAI Stablecoin</td>\n      <td>XAI</td>\n      <td>700.00</td>\n      <td>0.997992</td>\n      <td>702.225601</td>\n      <td>2023-02-24 03:58:47</td>\n      <td>2023-02-24</td>\n    </tr>\n    <tr>\n      <th>5</th>\n      <td>borrow</td>\n      <td>0xd1e0d42b27bc7304ce2aa914d63058fbf5be6709aa77...</td>\n      <td>16686330</td>\n      <td>1677097475</td>\n      <td>0xd33e76d21d32c21811593ae54e38f68df0cfe8ed</td>\n      <td>0xc413dd03555f3eb29d834b482d386b2999dc2eb0</td>\n      <td>Wrapped Ether</td>\n      <td>WETH</td>\n      <td>3.25</td>\n      <td>1618.907560</td>\n      <td>5270.606820</td>\n      <td>2023-02-22 20:24:35</td>\n      <td>2023-02-22</td>\n    </tr>\n    <tr>\n      <th>6</th>\n      <td>borrow</td>\n      <td>0x5946a769e10307668b4b60aa3b36d5189916cc02fc23...</td>\n      <td>16684007</td>\n      <td>1677069179</td>\n      <td>0x5656cb4721c21e1f5dcbe03db9026ac0203d6e4f</td>\n      <td>0xc413dd03555f3eb29d834b482d386b2999dc2eb0</td>\n      <td>XAI Stablecoin</td>\n      <td>XAI</td>\n      <td>4520.00</td>\n      <td>0.997992</td>\n      <td>4510.003371</td>\n      <td>2023-02-22 12:32:59</td>\n      <td>2023-02-22</td>\n    </tr>\n    <tr>\n      <th>7</th>\n      <td>borrow</td>\n      <td>0x7a9527e13f7627c09cc9bdcc43d1aa6a7babf0c087b8...</td>\n      <td>16681973</td>\n      <td>1677044447</td>\n      <td>0x7aaee144a14ec3ba0e468c9dcf4a89fdb62c5aa6</td>\n      <td>0xc413dd03555f3eb29d834b482d386b2999dc2eb0</td>\n      <td>XAI Stablecoin</td>\n      <td>XAI</td>\n      <td>16500.00</td>\n      <td>0.997992</td>\n      <td>16472.437498</td>\n      <td>2023-02-22 05:40:47</td>\n      <td>2023-02-22</td>\n    </tr>\n    <tr>\n      <th>8</th>\n      <td>borrow</td>\n      <td>0x84778306b3f662f7d98e431591f302d924d143c3c0b2...</td>\n      <td>16678471</td>\n      <td>1677001823</td>\n      <td>0x9b8b04b6f82cd5e1dae58ca3614d445f93defc5c</td>\n      <td>0xc413dd03555f3eb29d834b482d386b2999dc2eb0</td>\n      <td>XAI Stablecoin</td>\n      <td>XAI</td>\n      <td>6540.00</td>\n      <td>0.997992</td>\n      <td>6588.024198</td>\n      <td>2023-02-21 17:50:23</td>\n      <td>2023-02-21</td>\n    </tr>\n    <tr>\n      <th>9</th>\n      <td>borrow</td>\n      <td>0x66fe10ed6dcb8b83bdb5b0c46cd321060734b9063bd5...</td>\n      <td>16651434</td>\n      <td>1676673563</td>\n      <td>0xd33e76d21d32c21811593ae54e38f68df0cfe8ed</td>\n      <td>0xc413dd03555f3eb29d834b482d386b2999dc2eb0</td>\n      <td>XAI Stablecoin</td>\n      <td>XAI</td>\n      <td>60500.00</td>\n      <td>0.997992</td>\n      <td>59947.550425</td>\n      <td>2023-02-17 22:39:23</td>\n      <td>2023-02-17</td>\n    </tr>\n  </tbody>\n</table>\n</div>"
     },
     "execution_count": 40,
     "metadata": {},
     "output_type": "execute_result"
    }
   ],
   "source": [
    "oldSiloBorrowsDb = pd.DataFrame()\n",
    "siloFileName = file+'/siloFinanceGohmBorrows.csv'\n",
    "try:\n",
    "    oldSiloBorrowsDb = pd.read_csv (siloFileName)\n",
    "except:\n",
    "    oldSiloBorrowsDb = pd.DataFrame()\n",
    "oldSiloBorrowsDb.head(100)"
   ],
   "metadata": {
    "collapsed": false
   }
  },
  {
   "cell_type": "code",
   "execution_count": 41,
   "outputs": [
    {
     "data": {
      "text/plain": "1677480198"
     },
     "execution_count": 41,
     "metadata": {},
     "output_type": "execute_result"
    }
   ],
   "source": [
    "maxSiloBorrowTimestamp = 0\n",
    "try:\n",
    "    maxSiloBorrowTimestamp = (max(0,oldSiloBorrowsDb['transaction_timestamp'].max()))-5\n",
    "except:\n",
    "        maxSiloBorrowTimestamp = 0\n",
    "maxSiloBorrowTimestamp = int(maxSiloBorrowTimestamp)\n",
    "maxSiloBorrowTimestamp"
   ],
   "metadata": {
    "collapsed": false
   }
  },
  {
   "cell_type": "code",
   "execution_count": 42,
   "outputs": [],
   "source": [
    "# 0xc413dd03555f3eb29d834b482d386b2999dc2eb0"
   ],
   "metadata": {
    "collapsed": false
   }
  },
  {
   "cell_type": "code",
   "execution_count": 43,
   "outputs": [
    {
     "name": "stdout",
     "output_type": "stream",
     "text": [
      "iterations:  0 Lines skipped:  0 records collected:  6  - latest recordID:  0xf8e0d6896a0422e8f3cb994a0d40ba911a48426331e0182f5e1220778e1472cd   0xf8e0d6896a0422e8f3cb994a0d40ba911a48426331e0182f5e1220778e1472cd-137  - borrows DB length:  6  - latest record from:  2023-02-26 22:43:23 0 days ago\n",
      "Done. Total Records collected:  6\n"
     ]
    }
   ],
   "source": [
    "##this captures the ENTIRE list of people who borrowed stablecoins against gOHM\n",
    "borrowTicker = 0\n",
    "borrowslist = pd.DataFrame()\n",
    "siloBorrowsDb = pd.DataFrame()\n",
    "borrowListLength = 1000\n",
    "datediff = 0\n",
    "now=0\n",
    "daysAgo=0\n",
    "exit = False\n",
    "while exit==False:\n",
    "    skipValue = (borrowTicker)*(1000)\n",
    "    borrows = silo.Query.borrows(\n",
    "        orderBy='timestamp',\n",
    "        orderDirection='desc',\n",
    "        first=1000,\n",
    "        skip = skipValue,\n",
    "        where={ 'market': '0xc413dd03555f3eb29d834b482d386b2999dc2eb0'\n",
    "                ,'timestamp_gte': maxSiloBorrowTimestamp\n",
    "                } #gOHM market\n",
    "    )\n",
    "\n",
    "    borrowslist = sg.query_df([\n",
    "        borrows.id\n",
    "        ,borrows.hash\n",
    "        ,borrows.blockNumber\n",
    "        ,borrows.timestamp\n",
    "        ,borrows.account.id\n",
    "        ,borrows.market.id\n",
    "        ,borrows.market.protocol.id\n",
    "        ,borrows.market.rates.rate\n",
    "        ,borrows.market.rates.duration\n",
    "        ,borrows.market.rates.side\n",
    "        ,borrows.market.rates.type\n",
    "        ,borrows.market.rates.token.id\n",
    "        ,borrows.asset.name\n",
    "        ,borrows.asset.symbol\n",
    "        ,borrows.asset.decimals\n",
    "        ,borrows.asset.lastPriceUSD\n",
    "        ,borrows.amount\n",
    "        ,borrows.amountUSD\n",
    "    ])\n",
    "\n",
    "    siloBorrowsDb=pd.concat([siloBorrowsDb, borrowslist])\n",
    "    recordTimestamp1 = siloBorrowsDb.iat[borrowTicker,3]\n",
    "    recordTimestamp = dt.datetime.fromtimestamp( recordTimestamp1 )\n",
    "    now = (int(dt.datetime.utcnow().timestamp()))\n",
    "    datediff=abs(int(now) - recordTimestamp1)\n",
    "    daysAgo = int(datediff/86400)\n",
    "    siloBorrowsDbLength = len(siloBorrowsDb)\n",
    "    borrowListLength = len(borrowslist)\n",
    "    recordID = siloBorrowsDb.iat[borrowTicker,0]\n",
    "    borrow = siloBorrowsDb.iat[borrowTicker,1]\n",
    "    print(\"iterations: \", borrowTicker, \"Lines skipped: \",skipValue, \"records collected: \", borrowListLength, \" - latest recordID: \",borrow, \" \", recordID , \" - borrows DB length: \", siloBorrowsDbLength, \" - latest record from: \", recordTimestamp, daysAgo,\"days ago\")\n",
    "    #print(\"iterations: \", borrowTicker, \"records collected: \", borrowListLength, \" - userdb length: \", borrowsDbLength)\n",
    "    borrowTicker = borrowTicker+1\n",
    "\n",
    "    if daysAgo>daysLimit: exit =True\n",
    "    if borrowListLength<1000: exit =True\n",
    "\n",
    "siloBorrowsDb.columns = siloBorrowsDb.columns.str.replace(\"borrows\", \"transaction\")\n",
    "siloBorrowsDb['event']='borrow'\n",
    "siloBorrowsDb.drop_duplicates\n",
    "print(\"Done. Total Records collected: \", siloBorrowsDbLength)"
   ],
   "metadata": {
    "collapsed": false
   }
  },
  {
   "cell_type": "code",
   "execution_count": 44,
   "outputs": [
    {
     "data": {
      "text/plain": "    event                                   transaction_hash  \\\n0  borrow  0xf8e0d6896a0422e8f3cb994a0d40ba911a48426331e0...   \n\n   transaction_blockNumber  transaction_timestamp  \\\n0                 16717823             1677480203   \n\n                       transaction_account_id  \\\n0  0x5c9d09716404556646b0b4567cb4621c18581f94   \n\n                        transaction_market_id transaction_asset_name  \\\n0  0xc413dd03555f3eb29d834b482d386b2999dc2eb0         XAI Stablecoin   \n\n  transaction_asset_symbol  transactionReadableAmount  \\\n0                      XAI                    30000.0   \n\n   transaction_asset_lastPriceUSD  transaction_amountUSD            dateTime  \\\n0                        0.997992            30025.43616 2023-02-27 06:43:23   \n\n     calDate  \n0 2023-02-27  ",
      "text/html": "<div>\n<style scoped>\n    .dataframe tbody tr th:only-of-type {\n        vertical-align: middle;\n    }\n\n    .dataframe tbody tr th {\n        vertical-align: top;\n    }\n\n    .dataframe thead th {\n        text-align: right;\n    }\n</style>\n<table border=\"1\" class=\"dataframe\">\n  <thead>\n    <tr style=\"text-align: right;\">\n      <th></th>\n      <th>event</th>\n      <th>transaction_hash</th>\n      <th>transaction_blockNumber</th>\n      <th>transaction_timestamp</th>\n      <th>transaction_account_id</th>\n      <th>transaction_market_id</th>\n      <th>transaction_asset_name</th>\n      <th>transaction_asset_symbol</th>\n      <th>transactionReadableAmount</th>\n      <th>transaction_asset_lastPriceUSD</th>\n      <th>transaction_amountUSD</th>\n      <th>dateTime</th>\n      <th>calDate</th>\n    </tr>\n  </thead>\n  <tbody>\n    <tr>\n      <th>0</th>\n      <td>borrow</td>\n      <td>0xf8e0d6896a0422e8f3cb994a0d40ba911a48426331e0...</td>\n      <td>16717823</td>\n      <td>1677480203</td>\n      <td>0x5c9d09716404556646b0b4567cb4621c18581f94</td>\n      <td>0xc413dd03555f3eb29d834b482d386b2999dc2eb0</td>\n      <td>XAI Stablecoin</td>\n      <td>XAI</td>\n      <td>30000.0</td>\n      <td>0.997992</td>\n      <td>30025.43616</td>\n      <td>2023-02-27 06:43:23</td>\n      <td>2023-02-27</td>\n    </tr>\n  </tbody>\n</table>\n</div>"
     },
     "execution_count": 44,
     "metadata": {},
     "output_type": "execute_result"
    }
   ],
   "source": [
    "siloBorrowsDb['transactionReadableAmount'] = siloBorrowsDb['transaction_amount']/(10**(siloBorrowsDb['transaction_asset_decimals']))\n",
    "siloBorrowsDb['transactionReadableAmount']=siloBorrowsDb['transactionReadableAmount'].astype('float')\n",
    "siloBorrowsDb['dateTime'] =(pd.to_datetime(siloBorrowsDb['transaction_timestamp'],unit='s'))\n",
    "\n",
    "siloBorrowEventsDbTimedClean = siloBorrowsDb[['event','transaction_hash','transaction_blockNumber','transaction_timestamp','transaction_account_id','transaction_market_id','transaction_asset_name','transaction_asset_symbol', 'transactionReadableAmount','transaction_asset_lastPriceUSD','transaction_amountUSD','dateTime']].copy()\n",
    "siloBorrowEventsDbTimedClean.sort_values(by=['event','transaction_hash','transaction_blockNumber','transaction_timestamp','transaction_account_id','transaction_market_id','transaction_asset_name','transaction_asset_symbol', 'transactionReadableAmount','transaction_asset_lastPriceUSD','transaction_amountUSD','dateTime'])\n",
    "\n",
    "siloBorrowEventsDbTimedClean.drop_duplicates(subset=['transaction_hash'],keep='first', inplace=True)\n",
    "siloBorrowEventsDbTimedClean['calDate'] = siloBorrowEventsDbTimedClean['dateTime'].dt.normalize()\n",
    "siloBorrowEventsDbTimedClean.head(100)"
   ],
   "metadata": {
    "collapsed": false
   }
  },
  {
   "cell_type": "code",
   "execution_count": 45,
   "outputs": [
    {
     "name": "stdout",
     "output_type": "stream",
     "text": [
      "D:\\Dropbox\\Documents\\Edgecaser LLC\\Projects\\Olympus\\Econohmetrics\\gohmAsStablecoinCollateral/data/siloFinanceGohmBorrows_piped.csv file saved, 1  records\n"
     ]
    }
   ],
   "source": [
    "path =file+'/siloFinanceGohmBorrows.csv'\n",
    "siloBorrowEventsDbTimedClean.to_csv(path, index = False)\n",
    "\n",
    "path =file+'/siloFinanceGohmBorrows_piped.csv'\n",
    "siloBorrowEventsDbTimedClean.to_csv(path, index = False, sep='|')\n",
    "print(path, 'file saved,', len(siloBorrowEventsDbTimedClean),' records')"
   ],
   "metadata": {
    "collapsed": false
   }
  },
  {
   "cell_type": "code",
   "execution_count": 46,
   "outputs": [
    {
     "name": "stdout",
     "output_type": "stream",
     "text": [
      "A total of $ 30025.44 has been borrowed in different stablecoins over time over at Silo\n"
     ]
    }
   ],
   "source": [
    "totalBorrowedUSDSilo = sum(siloBorrowEventsDbTimedClean['transaction_amountUSD'])\n",
    "print('A total of $',round(totalBorrowedUSDSilo,2),  'has been borrowed in different stablecoins over time over at Silo')"
   ],
   "metadata": {
    "collapsed": false
   }
  },
  {
   "cell_type": "code",
   "execution_count": 47,
   "outputs": [
    {
     "data": {
      "text/plain": "Empty DataFrame\nColumns: [transaction_hash, transaction_timestamp, dateTime, transaction_account_id, transaction_asset_symbol, transactionReadableAmount, transaction_amountUSD]\nIndex: []",
      "text/html": "<div>\n<style scoped>\n    .dataframe tbody tr th:only-of-type {\n        vertical-align: middle;\n    }\n\n    .dataframe tbody tr th {\n        vertical-align: top;\n    }\n\n    .dataframe thead th {\n        text-align: right;\n    }\n</style>\n<table border=\"1\" class=\"dataframe\">\n  <thead>\n    <tr style=\"text-align: right;\">\n      <th></th>\n      <th>transaction_hash</th>\n      <th>transaction_timestamp</th>\n      <th>dateTime</th>\n      <th>transaction_account_id</th>\n      <th>transaction_asset_symbol</th>\n      <th>transactionReadableAmount</th>\n      <th>transaction_amountUSD</th>\n    </tr>\n  </thead>\n  <tbody>\n  </tbody>\n</table>\n</div>"
     },
     "execution_count": 47,
     "metadata": {},
     "output_type": "execute_result"
    }
   ],
   "source": [
    "gOHMBorrowedSilo = db.query(\"Select distinct \"\n",
    "                           \"transaction_hash \"\n",
    "                           \",transaction_timestamp \"\n",
    "                           \", dateTime \"\n",
    "                           \",transaction_account_id \"\n",
    "                           \", transaction_asset_symbol \"\n",
    "                           \", transactionReadableAmount \"\n",
    "                           \", transaction_amountUSD \"\n",
    "                           \"from siloBorrowsDb where lower(transaction_asset_symbol) = 'gohm'\").df()\n",
    "\n",
    "gOHMBorrowedSilo.head(10)"
   ],
   "metadata": {
    "collapsed": false
   }
  },
  {
   "cell_type": "code",
   "execution_count": 48,
   "outputs": [
    {
     "name": "stdout",
     "output_type": "stream",
     "text": [
      "A total of  0 OHM has been borrowed in different stablecoins over time in Silo, roughly USD$ 0\n"
     ]
    }
   ],
   "source": [
    "totalSiloBorrowedgOHM = sum(gOHMBorrowedSilo['transactionReadableAmount'])\n",
    "totalSiloBorrowedgOHMinUSD = sum(gOHMBorrowedSilo['transaction_amountUSD'])\n",
    "print('A total of ',round(totalSiloBorrowedgOHM,2),  'OHM has been borrowed in different stablecoins over time in Silo, roughly USD$',totalSiloBorrowedgOHMinUSD)"
   ],
   "metadata": {
    "collapsed": false
   }
  },
  {
   "cell_type": "code",
   "execution_count": 15,
   "outputs": [
    {
     "name": "stdout",
     "output_type": "stream",
     "text": [
      "D:\\Dropbox\\Documents\\Edgecaser LLC\\Projects\\Olympus\\Econohmetrics\\gohmAsStablecoinCollateral/data/ohmBorrowedSilo_piped.csv file saved, 0  records\n"
     ]
    }
   ],
   "source": [
    "path =file+'/ohmBorrowedSilo.csv'\n",
    "gOHMBorrowedSilo.to_csv(path, index = False)\n",
    "\n",
    "path =file+'/ohmBorrowedSilo_piped.csv'\n",
    "gOHMBorrowedSilo.to_csv(path, index = False, sep='|')\n",
    "print(path, 'file saved,', len(gOHMBorrowedSilo),' records')"
   ],
   "metadata": {
    "collapsed": false
   }
  },
  {
   "cell_type": "markdown",
   "source": [
    "********************************************************************\n",
    "********************************************************************\n",
    "SILO COLLATERAL DEPOSITS"
   ],
   "metadata": {
    "collapsed": false
   }
  },
  {
   "cell_type": "code",
   "execution_count": 16,
   "outputs": [
    {
     "data": {
      "text/plain": "      event                                   transaction_hash  \\\n0   deposit  0xecd6140bbb896413a25d34ca87f5503b56c444f1e582...   \n1   deposit  0x54cd3f5374780bceaffae0661e2688eeca47df22b8aa...   \n2   deposit  0xe5163797f0922e4bded89126a213296a8c3d270a39e2...   \n3   deposit  0xcc5e09e1e5c403b6925fa25f0410388de72ef1b45f30...   \n4   deposit  0xf5439a3f94551476ec68db02d6f577a2856d01f45691...   \n5   deposit  0x3069fa3e9834fd75b4eaae5d1ef1a7910b112ed68e5f...   \n6   deposit  0x17d879ec97730987652b5bcb00aaf6115b7dd232aaef...   \n7   deposit  0xff978d5e58c65cbc9d73fbf58f44166724c2db0f0706...   \n8   deposit  0x669ce641c8adcf855d5ea4fedda6b52fc63795fd0dd6...   \n9   deposit  0x204aee0831212791916d6ed3a2c24b5ac2a474743713...   \n10  deposit  0x6921d4de2e5fd797205f66357da959b3e4922760d131...   \n11  deposit  0x0efd7820596c58c44eb2a8cd9f825fa98fd0d7a3d1d3...   \n12  deposit  0x80f329fe4643c04ee8f7bc201533d5bd5387ac564fe8...   \n13  deposit  0x890da67cbb9ec7e781f0a8feb115ff7a590de57e00ce...   \n14  deposit  0xb1a1646acf062ec3c3d9884adf46bef38f00728ca2fa...   \n15  deposit  0x35d5e6734b990e7e7e6493344db464f86e9fe2318e7b...   \n16  deposit  0x1d2652b56d4d7ae72e952e68a3e0018bdbebdca8dd59...   \n17  deposit  0x4d72e2a5ca35d7b76faecafddc8dce2368081f6c6a52...   \n18  deposit  0x2051da675e864d363e7159d1e0084e45535e785b5ae6...   \n19  deposit  0x52365addba1ce6381c7ab6220b9a6eed6e26efa1b813...   \n20  deposit  0x976fb2b1e49590c04707140f0a1bce4465fda42dfe9c...   \n21  deposit  0x7811e7757339551966af37751af4b56c16a3e141d682...   \n22  deposit  0xc094064b1815d07ca696c614f45dffbb054d2e5d5954...   \n23  deposit  0xe32fe96626d39b1369922f9b678bdeff75eb6aeac561...   \n24  deposit  0x2f2117e1cc385bc67b93a53beb27c7b34865628bd35b...   \n25  deposit  0x7c831909c84d8b801b25a2a939ec2a6d08e7155fac91...   \n26  deposit  0x8966de52cc08fd866ff4e826c3ed12e04cb608e9dd94...   \n27  deposit  0x6336bd34049973ffbb71cafed76314b5175e35f2968b...   \n28  deposit  0x671eeedcc2230a697d59627ca9b009802111fd5c2c0b...   \n29  deposit  0x6c4f8bc5f49d55b317c6a9ed6d523a662df0c9b330a7...   \n30  deposit  0x53d9eed3930a371dbd133a9260a3ad8d5e7d3c4e446a...   \n31  deposit  0x816d41605087393280db2cf4083d1126a9b62542f79c...   \n32  deposit  0xd764e02abd36815b90d310332ff2a1e99842b8c4f6b5...   \n\n    transaction_blockNumber  transaction_timestamp  \\\n0                  16651409             1676673263   \n1                  16641740             1676555939   \n2                  16627499             1676383883   \n3                  16627469             1676383523   \n4                  16623070             1676330339   \n5                  16623049             1676330087   \n6                  16619969             1676292887   \n7                  16601490             1676069891   \n8                  16590634             1675938899   \n9                  16589368             1675923587   \n10                 16589333             1675923167   \n11                 16588623             1675914623   \n12                 16586156             1675884863   \n13                 16585903             1675881767   \n14                 16580081             1675811315   \n15                 16579812             1675808087   \n16                 16579684             1675806539   \n17                 16574706             1675746299   \n18                 16573196             1675728083   \n19                 16533352             1675247075   \n20                 16505276             1674908423   \n21                 16366137             1673229911   \n22                 16235576             1671655835   \n23                 16204963             1671286691   \n24                 16190043             1671106691   \n25                 16176119             1670938607   \n26                 16173486             1670906771   \n27                 16171813             1670886587   \n28                 16171336             1670880839   \n29                 16170980             1670876567   \n30                 16036013             1669246751   \n31                 16036005             1669246655   \n32                 16034616             1669229711   \n\n                        transaction_account_id  \\\n0   0xd33e76d21d32c21811593ae54e38f68df0cfe8ed   \n1   0xee95e4cf086fc80df7ae0f39dfc9ea53a3eaadcb   \n2   0xc0b1f200aa9546ce074397bed7438bb2ec033877   \n3   0xc0b1f200aa9546ce074397bed7438bb2ec033877   \n4   0xc0b1f200aa9546ce074397bed7438bb2ec033877   \n5   0xc0b1f200aa9546ce074397bed7438bb2ec033877   \n6   0xc0b1f200aa9546ce074397bed7438bb2ec033877   \n7   0xa7daeb7fc210f934508c8c7ce833a2cdd6630fb3   \n8   0x51bc3dd10a9ee4946f961038cf5d50057e49eb77   \n9   0xb0399dac8f4d4100b49b2a7b3873481114229d18   \n10  0xb0399dac8f4d4100b49b2a7b3873481114229d18   \n11  0x804157889ac56a4e50278610c67960c1605a3264   \n12  0x16ff8ad104fa6195260a6d4a3f311c5f120df77d   \n13  0xfe9d1bd54e344dc8c4bd93e7935e39af452e5d41   \n14  0xb86cd2efc1f461beee8deec2c3f053ccb2781ef9   \n15  0x0493bcca897a2248ae3cd4c66aea90dbfc7e13c6   \n16  0x96035b45bc0d22f0ed11283a91145fb001c48370   \n17  0x6487d336bdec94d4714a4d217b15aa5c7b9dfa99   \n18  0x36125234dd6c7d0a01dcadc67e79e061d405098e   \n19  0x339fd7c17ce670e7821f2f2ee94ddd49771483da   \n20  0x42daeb9ca091e3933c8ee93c029701b926b1f336   \n21  0x25fdda95197f804316f5ba8dbb66ac173ee19981   \n22  0xdedcf5806c4968c6397eee97e68047bda339d0c1   \n23  0x44504ba8d43b30e882503948654e247b928bcc7f   \n24  0x96035b45bc0d22f0ed11283a91145fb001c48370   \n25  0x791d1ec51d931186c1d4b80e753b7155dd98f741   \n26  0x339fd7c17ce670e7821f2f2ee94ddd49771483da   \n27  0x1ba67f30e25fc43863b50047d7fd4bd63b9c59ec   \n28  0x3985caf03eef8f885edb1f8358143bdf08d8d48b   \n29  0xee1520f94f304e8d551cbf310fe214212e3ca34a   \n30  0xd3064611b24eba7a6dbcbc26c1b35dfee1170880   \n31  0xd3064611b24eba7a6dbcbc26c1b35dfee1170880   \n32  0x62a4a8f9f5f3aae9ee9cee780285a0d501c12d09   \n\n                         transaction_market_id transaction_asset_name  \\\n0   0xc413dd03555f3eb29d834b482d386b2999dc2eb0         Governance OHM   \n1   0xc413dd03555f3eb29d834b482d386b2999dc2eb0         Governance OHM   \n2   0xc413dd03555f3eb29d834b482d386b2999dc2eb0         Governance OHM   \n3   0xc413dd03555f3eb29d834b482d386b2999dc2eb0         Governance OHM   \n4   0xc413dd03555f3eb29d834b482d386b2999dc2eb0         Governance OHM   \n5   0xc413dd03555f3eb29d834b482d386b2999dc2eb0         Governance OHM   \n6   0xc413dd03555f3eb29d834b482d386b2999dc2eb0         Governance OHM   \n7   0xc413dd03555f3eb29d834b482d386b2999dc2eb0         Governance OHM   \n8   0xc413dd03555f3eb29d834b482d386b2999dc2eb0         Governance OHM   \n9   0xc413dd03555f3eb29d834b482d386b2999dc2eb0         Governance OHM   \n10  0xc413dd03555f3eb29d834b482d386b2999dc2eb0         Governance OHM   \n11  0xc413dd03555f3eb29d834b482d386b2999dc2eb0         Governance OHM   \n12  0xc413dd03555f3eb29d834b482d386b2999dc2eb0         Governance OHM   \n13  0xc413dd03555f3eb29d834b482d386b2999dc2eb0         Governance OHM   \n14  0xc413dd03555f3eb29d834b482d386b2999dc2eb0         Governance OHM   \n15  0xc413dd03555f3eb29d834b482d386b2999dc2eb0         Governance OHM   \n16  0xc413dd03555f3eb29d834b482d386b2999dc2eb0         Governance OHM   \n17  0xc413dd03555f3eb29d834b482d386b2999dc2eb0         Governance OHM   \n18  0xc413dd03555f3eb29d834b482d386b2999dc2eb0         Governance OHM   \n19  0xc413dd03555f3eb29d834b482d386b2999dc2eb0         Governance OHM   \n20  0xc413dd03555f3eb29d834b482d386b2999dc2eb0         Governance OHM   \n21  0xc413dd03555f3eb29d834b482d386b2999dc2eb0         Governance OHM   \n22  0xc413dd03555f3eb29d834b482d386b2999dc2eb0         Governance OHM   \n23  0xc413dd03555f3eb29d834b482d386b2999dc2eb0         Governance OHM   \n24  0xc413dd03555f3eb29d834b482d386b2999dc2eb0         Governance OHM   \n25  0xc413dd03555f3eb29d834b482d386b2999dc2eb0         Governance OHM   \n26  0xc413dd03555f3eb29d834b482d386b2999dc2eb0         Governance OHM   \n27  0xc413dd03555f3eb29d834b482d386b2999dc2eb0         Governance OHM   \n28  0xc413dd03555f3eb29d834b482d386b2999dc2eb0         Governance OHM   \n29  0xc413dd03555f3eb29d834b482d386b2999dc2eb0         Governance OHM   \n30  0xc413dd03555f3eb29d834b482d386b2999dc2eb0         Governance OHM   \n31  0xc413dd03555f3eb29d834b482d386b2999dc2eb0         Governance OHM   \n32  0xc413dd03555f3eb29d834b482d386b2999dc2eb0         Governance OHM   \n\n   transaction_asset_symbol  transactionReadableAmount  \\\n0                      gOHM                  48.922199   \n1                      gOHM                  50.749992   \n2                      gOHM                   0.180346   \n3                      gOHM                   0.663108   \n4                      gOHM                   0.892669   \n5                      gOHM                   1.087799   \n6                      gOHM                   1.812154   \n7                      gOHM                   0.137814   \n8                      gOHM                   9.990000   \n9                      gOHM                 119.000000   \n10                     gOHM                   1.000000   \n11                     gOHM                   0.642960   \n12                     gOHM                   2.500000   \n13                     gOHM                   0.212373   \n14                     gOHM                   4.332179   \n15                     gOHM                  25.000000   \n16                     gOHM                  12.000668   \n17                     gOHM                   6.076244   \n18                     gOHM                  14.004861   \n19                     gOHM                   4.000000   \n20                     gOHM                   5.886017   \n21                     gOHM                   2.252766   \n22                     gOHM                   0.020000   \n23                     gOHM                   0.500000   \n24                     gOHM                  13.520668   \n25                     gOHM                   0.020000   \n26                     gOHM                   8.000000   \n27                     gOHM                   8.000000   \n28                     gOHM                   2.726128   \n29                     gOHM                  20.000000   \n30                     gOHM                   0.025140   \n31                     gOHM                   0.143100   \n32                     gOHM                   0.182000   \n\n    transaction_asset_lastPriceUSD  transaction_amountUSD  \\\n0                      2838.193286          138354.126796   \n1                      2838.193286          145833.530065   \n2                      2838.193286             490.375269   \n3                      2838.193286            1803.040025   \n4                      2838.193286            2431.527276   \n5                      2838.193286            2963.036715   \n6                      2838.193286            4846.273689   \n7                      2838.193286             363.447391   \n8                      2838.193286           26839.810526   \n9                      2838.193286          315110.337935   \n10                     2838.193286            2647.986033   \n11                     2838.193286            1702.439777   \n12                     2838.193286            6698.944104   \n13                     2838.193286             569.069520   \n14                     2838.193286           11511.647778   \n15                     2838.193286           66431.050909   \n16                     2838.193286           31888.680212   \n17                     2838.193286           16073.922152   \n18                     2838.193286           36670.028837   \n19                     2838.193286           10545.308750   \n20                     2838.193286           15207.964344   \n21                     2838.193286            5812.081890   \n22                     2838.193286              49.949341   \n23                     2838.193286            1242.431255   \n24                     2838.193286           33635.737994   \n25                     2838.193286              51.410624   \n26                     2838.193286           20081.385730   \n27                     2838.193286           20080.083584   \n28                     2838.193286            6842.610869   \n29                     2838.193286           49117.375038   \n30                     2838.193286              56.029673   \n31                     2838.193286             318.832191   \n32                     2838.193286             398.921247   \n\n               dateTime     calDate  \n0   2023-02-17 22:34:23  2023-02-17  \n1   2023-02-16 13:58:59  2023-02-16  \n2   2023-02-14 14:11:23  2023-02-14  \n3   2023-02-14 14:05:23  2023-02-14  \n4   2023-02-13 23:18:59  2023-02-13  \n5   2023-02-13 23:14:47  2023-02-13  \n6   2023-02-13 12:54:47  2023-02-13  \n7   2023-02-10 22:58:11  2023-02-10  \n8   2023-02-09 10:34:59  2023-02-09  \n9   2023-02-09 06:19:47  2023-02-09  \n10  2023-02-09 06:12:47  2023-02-09  \n11  2023-02-09 03:50:23  2023-02-09  \n12  2023-02-08 19:34:23  2023-02-08  \n13  2023-02-08 18:42:47  2023-02-08  \n14  2023-02-07 23:08:35  2023-02-07  \n15  2023-02-07 22:14:47  2023-02-07  \n16  2023-02-07 21:48:59  2023-02-07  \n17  2023-02-07 05:04:59  2023-02-07  \n18  2023-02-07 00:01:23  2023-02-07  \n19  2023-02-01 10:24:35  2023-02-01  \n20  2023-01-28 12:20:23  2023-01-28  \n21  2023-01-09 02:05:11  2023-01-09  \n22  2022-12-21 20:50:35  2022-12-21  \n23  2022-12-17 14:18:11  2022-12-17  \n24  2022-12-15 12:18:11  2022-12-15  \n25  2022-12-13 13:36:47  2022-12-13  \n26  2022-12-13 04:46:11  2022-12-13  \n27  2022-12-12 23:09:47  2022-12-12  \n28  2022-12-12 21:33:59  2022-12-12  \n29  2022-12-12 20:22:47  2022-12-12  \n30  2022-11-23 23:39:11  2022-11-23  \n31  2022-11-23 23:37:35  2022-11-23  \n32  2022-11-23 18:55:11  2022-11-23  ",
      "text/html": "<div>\n<style scoped>\n    .dataframe tbody tr th:only-of-type {\n        vertical-align: middle;\n    }\n\n    .dataframe tbody tr th {\n        vertical-align: top;\n    }\n\n    .dataframe thead th {\n        text-align: right;\n    }\n</style>\n<table border=\"1\" class=\"dataframe\">\n  <thead>\n    <tr style=\"text-align: right;\">\n      <th></th>\n      <th>event</th>\n      <th>transaction_hash</th>\n      <th>transaction_blockNumber</th>\n      <th>transaction_timestamp</th>\n      <th>transaction_account_id</th>\n      <th>transaction_market_id</th>\n      <th>transaction_asset_name</th>\n      <th>transaction_asset_symbol</th>\n      <th>transactionReadableAmount</th>\n      <th>transaction_asset_lastPriceUSD</th>\n      <th>transaction_amountUSD</th>\n      <th>dateTime</th>\n      <th>calDate</th>\n    </tr>\n  </thead>\n  <tbody>\n    <tr>\n      <th>0</th>\n      <td>deposit</td>\n      <td>0xecd6140bbb896413a25d34ca87f5503b56c444f1e582...</td>\n      <td>16651409</td>\n      <td>1676673263</td>\n      <td>0xd33e76d21d32c21811593ae54e38f68df0cfe8ed</td>\n      <td>0xc413dd03555f3eb29d834b482d386b2999dc2eb0</td>\n      <td>Governance OHM</td>\n      <td>gOHM</td>\n      <td>48.922199</td>\n      <td>2838.193286</td>\n      <td>138354.126796</td>\n      <td>2023-02-17 22:34:23</td>\n      <td>2023-02-17</td>\n    </tr>\n    <tr>\n      <th>1</th>\n      <td>deposit</td>\n      <td>0x54cd3f5374780bceaffae0661e2688eeca47df22b8aa...</td>\n      <td>16641740</td>\n      <td>1676555939</td>\n      <td>0xee95e4cf086fc80df7ae0f39dfc9ea53a3eaadcb</td>\n      <td>0xc413dd03555f3eb29d834b482d386b2999dc2eb0</td>\n      <td>Governance OHM</td>\n      <td>gOHM</td>\n      <td>50.749992</td>\n      <td>2838.193286</td>\n      <td>145833.530065</td>\n      <td>2023-02-16 13:58:59</td>\n      <td>2023-02-16</td>\n    </tr>\n    <tr>\n      <th>2</th>\n      <td>deposit</td>\n      <td>0xe5163797f0922e4bded89126a213296a8c3d270a39e2...</td>\n      <td>16627499</td>\n      <td>1676383883</td>\n      <td>0xc0b1f200aa9546ce074397bed7438bb2ec033877</td>\n      <td>0xc413dd03555f3eb29d834b482d386b2999dc2eb0</td>\n      <td>Governance OHM</td>\n      <td>gOHM</td>\n      <td>0.180346</td>\n      <td>2838.193286</td>\n      <td>490.375269</td>\n      <td>2023-02-14 14:11:23</td>\n      <td>2023-02-14</td>\n    </tr>\n    <tr>\n      <th>3</th>\n      <td>deposit</td>\n      <td>0xcc5e09e1e5c403b6925fa25f0410388de72ef1b45f30...</td>\n      <td>16627469</td>\n      <td>1676383523</td>\n      <td>0xc0b1f200aa9546ce074397bed7438bb2ec033877</td>\n      <td>0xc413dd03555f3eb29d834b482d386b2999dc2eb0</td>\n      <td>Governance OHM</td>\n      <td>gOHM</td>\n      <td>0.663108</td>\n      <td>2838.193286</td>\n      <td>1803.040025</td>\n      <td>2023-02-14 14:05:23</td>\n      <td>2023-02-14</td>\n    </tr>\n    <tr>\n      <th>4</th>\n      <td>deposit</td>\n      <td>0xf5439a3f94551476ec68db02d6f577a2856d01f45691...</td>\n      <td>16623070</td>\n      <td>1676330339</td>\n      <td>0xc0b1f200aa9546ce074397bed7438bb2ec033877</td>\n      <td>0xc413dd03555f3eb29d834b482d386b2999dc2eb0</td>\n      <td>Governance OHM</td>\n      <td>gOHM</td>\n      <td>0.892669</td>\n      <td>2838.193286</td>\n      <td>2431.527276</td>\n      <td>2023-02-13 23:18:59</td>\n      <td>2023-02-13</td>\n    </tr>\n    <tr>\n      <th>5</th>\n      <td>deposit</td>\n      <td>0x3069fa3e9834fd75b4eaae5d1ef1a7910b112ed68e5f...</td>\n      <td>16623049</td>\n      <td>1676330087</td>\n      <td>0xc0b1f200aa9546ce074397bed7438bb2ec033877</td>\n      <td>0xc413dd03555f3eb29d834b482d386b2999dc2eb0</td>\n      <td>Governance OHM</td>\n      <td>gOHM</td>\n      <td>1.087799</td>\n      <td>2838.193286</td>\n      <td>2963.036715</td>\n      <td>2023-02-13 23:14:47</td>\n      <td>2023-02-13</td>\n    </tr>\n    <tr>\n      <th>6</th>\n      <td>deposit</td>\n      <td>0x17d879ec97730987652b5bcb00aaf6115b7dd232aaef...</td>\n      <td>16619969</td>\n      <td>1676292887</td>\n      <td>0xc0b1f200aa9546ce074397bed7438bb2ec033877</td>\n      <td>0xc413dd03555f3eb29d834b482d386b2999dc2eb0</td>\n      <td>Governance OHM</td>\n      <td>gOHM</td>\n      <td>1.812154</td>\n      <td>2838.193286</td>\n      <td>4846.273689</td>\n      <td>2023-02-13 12:54:47</td>\n      <td>2023-02-13</td>\n    </tr>\n    <tr>\n      <th>7</th>\n      <td>deposit</td>\n      <td>0xff978d5e58c65cbc9d73fbf58f44166724c2db0f0706...</td>\n      <td>16601490</td>\n      <td>1676069891</td>\n      <td>0xa7daeb7fc210f934508c8c7ce833a2cdd6630fb3</td>\n      <td>0xc413dd03555f3eb29d834b482d386b2999dc2eb0</td>\n      <td>Governance OHM</td>\n      <td>gOHM</td>\n      <td>0.137814</td>\n      <td>2838.193286</td>\n      <td>363.447391</td>\n      <td>2023-02-10 22:58:11</td>\n      <td>2023-02-10</td>\n    </tr>\n    <tr>\n      <th>8</th>\n      <td>deposit</td>\n      <td>0x669ce641c8adcf855d5ea4fedda6b52fc63795fd0dd6...</td>\n      <td>16590634</td>\n      <td>1675938899</td>\n      <td>0x51bc3dd10a9ee4946f961038cf5d50057e49eb77</td>\n      <td>0xc413dd03555f3eb29d834b482d386b2999dc2eb0</td>\n      <td>Governance OHM</td>\n      <td>gOHM</td>\n      <td>9.990000</td>\n      <td>2838.193286</td>\n      <td>26839.810526</td>\n      <td>2023-02-09 10:34:59</td>\n      <td>2023-02-09</td>\n    </tr>\n    <tr>\n      <th>9</th>\n      <td>deposit</td>\n      <td>0x204aee0831212791916d6ed3a2c24b5ac2a474743713...</td>\n      <td>16589368</td>\n      <td>1675923587</td>\n      <td>0xb0399dac8f4d4100b49b2a7b3873481114229d18</td>\n      <td>0xc413dd03555f3eb29d834b482d386b2999dc2eb0</td>\n      <td>Governance OHM</td>\n      <td>gOHM</td>\n      <td>119.000000</td>\n      <td>2838.193286</td>\n      <td>315110.337935</td>\n      <td>2023-02-09 06:19:47</td>\n      <td>2023-02-09</td>\n    </tr>\n    <tr>\n      <th>10</th>\n      <td>deposit</td>\n      <td>0x6921d4de2e5fd797205f66357da959b3e4922760d131...</td>\n      <td>16589333</td>\n      <td>1675923167</td>\n      <td>0xb0399dac8f4d4100b49b2a7b3873481114229d18</td>\n      <td>0xc413dd03555f3eb29d834b482d386b2999dc2eb0</td>\n      <td>Governance OHM</td>\n      <td>gOHM</td>\n      <td>1.000000</td>\n      <td>2838.193286</td>\n      <td>2647.986033</td>\n      <td>2023-02-09 06:12:47</td>\n      <td>2023-02-09</td>\n    </tr>\n    <tr>\n      <th>11</th>\n      <td>deposit</td>\n      <td>0x0efd7820596c58c44eb2a8cd9f825fa98fd0d7a3d1d3...</td>\n      <td>16588623</td>\n      <td>1675914623</td>\n      <td>0x804157889ac56a4e50278610c67960c1605a3264</td>\n      <td>0xc413dd03555f3eb29d834b482d386b2999dc2eb0</td>\n      <td>Governance OHM</td>\n      <td>gOHM</td>\n      <td>0.642960</td>\n      <td>2838.193286</td>\n      <td>1702.439777</td>\n      <td>2023-02-09 03:50:23</td>\n      <td>2023-02-09</td>\n    </tr>\n    <tr>\n      <th>12</th>\n      <td>deposit</td>\n      <td>0x80f329fe4643c04ee8f7bc201533d5bd5387ac564fe8...</td>\n      <td>16586156</td>\n      <td>1675884863</td>\n      <td>0x16ff8ad104fa6195260a6d4a3f311c5f120df77d</td>\n      <td>0xc413dd03555f3eb29d834b482d386b2999dc2eb0</td>\n      <td>Governance OHM</td>\n      <td>gOHM</td>\n      <td>2.500000</td>\n      <td>2838.193286</td>\n      <td>6698.944104</td>\n      <td>2023-02-08 19:34:23</td>\n      <td>2023-02-08</td>\n    </tr>\n    <tr>\n      <th>13</th>\n      <td>deposit</td>\n      <td>0x890da67cbb9ec7e781f0a8feb115ff7a590de57e00ce...</td>\n      <td>16585903</td>\n      <td>1675881767</td>\n      <td>0xfe9d1bd54e344dc8c4bd93e7935e39af452e5d41</td>\n      <td>0xc413dd03555f3eb29d834b482d386b2999dc2eb0</td>\n      <td>Governance OHM</td>\n      <td>gOHM</td>\n      <td>0.212373</td>\n      <td>2838.193286</td>\n      <td>569.069520</td>\n      <td>2023-02-08 18:42:47</td>\n      <td>2023-02-08</td>\n    </tr>\n    <tr>\n      <th>14</th>\n      <td>deposit</td>\n      <td>0xb1a1646acf062ec3c3d9884adf46bef38f00728ca2fa...</td>\n      <td>16580081</td>\n      <td>1675811315</td>\n      <td>0xb86cd2efc1f461beee8deec2c3f053ccb2781ef9</td>\n      <td>0xc413dd03555f3eb29d834b482d386b2999dc2eb0</td>\n      <td>Governance OHM</td>\n      <td>gOHM</td>\n      <td>4.332179</td>\n      <td>2838.193286</td>\n      <td>11511.647778</td>\n      <td>2023-02-07 23:08:35</td>\n      <td>2023-02-07</td>\n    </tr>\n    <tr>\n      <th>15</th>\n      <td>deposit</td>\n      <td>0x35d5e6734b990e7e7e6493344db464f86e9fe2318e7b...</td>\n      <td>16579812</td>\n      <td>1675808087</td>\n      <td>0x0493bcca897a2248ae3cd4c66aea90dbfc7e13c6</td>\n      <td>0xc413dd03555f3eb29d834b482d386b2999dc2eb0</td>\n      <td>Governance OHM</td>\n      <td>gOHM</td>\n      <td>25.000000</td>\n      <td>2838.193286</td>\n      <td>66431.050909</td>\n      <td>2023-02-07 22:14:47</td>\n      <td>2023-02-07</td>\n    </tr>\n    <tr>\n      <th>16</th>\n      <td>deposit</td>\n      <td>0x1d2652b56d4d7ae72e952e68a3e0018bdbebdca8dd59...</td>\n      <td>16579684</td>\n      <td>1675806539</td>\n      <td>0x96035b45bc0d22f0ed11283a91145fb001c48370</td>\n      <td>0xc413dd03555f3eb29d834b482d386b2999dc2eb0</td>\n      <td>Governance OHM</td>\n      <td>gOHM</td>\n      <td>12.000668</td>\n      <td>2838.193286</td>\n      <td>31888.680212</td>\n      <td>2023-02-07 21:48:59</td>\n      <td>2023-02-07</td>\n    </tr>\n    <tr>\n      <th>17</th>\n      <td>deposit</td>\n      <td>0x4d72e2a5ca35d7b76faecafddc8dce2368081f6c6a52...</td>\n      <td>16574706</td>\n      <td>1675746299</td>\n      <td>0x6487d336bdec94d4714a4d217b15aa5c7b9dfa99</td>\n      <td>0xc413dd03555f3eb29d834b482d386b2999dc2eb0</td>\n      <td>Governance OHM</td>\n      <td>gOHM</td>\n      <td>6.076244</td>\n      <td>2838.193286</td>\n      <td>16073.922152</td>\n      <td>2023-02-07 05:04:59</td>\n      <td>2023-02-07</td>\n    </tr>\n    <tr>\n      <th>18</th>\n      <td>deposit</td>\n      <td>0x2051da675e864d363e7159d1e0084e45535e785b5ae6...</td>\n      <td>16573196</td>\n      <td>1675728083</td>\n      <td>0x36125234dd6c7d0a01dcadc67e79e061d405098e</td>\n      <td>0xc413dd03555f3eb29d834b482d386b2999dc2eb0</td>\n      <td>Governance OHM</td>\n      <td>gOHM</td>\n      <td>14.004861</td>\n      <td>2838.193286</td>\n      <td>36670.028837</td>\n      <td>2023-02-07 00:01:23</td>\n      <td>2023-02-07</td>\n    </tr>\n    <tr>\n      <th>19</th>\n      <td>deposit</td>\n      <td>0x52365addba1ce6381c7ab6220b9a6eed6e26efa1b813...</td>\n      <td>16533352</td>\n      <td>1675247075</td>\n      <td>0x339fd7c17ce670e7821f2f2ee94ddd49771483da</td>\n      <td>0xc413dd03555f3eb29d834b482d386b2999dc2eb0</td>\n      <td>Governance OHM</td>\n      <td>gOHM</td>\n      <td>4.000000</td>\n      <td>2838.193286</td>\n      <td>10545.308750</td>\n      <td>2023-02-01 10:24:35</td>\n      <td>2023-02-01</td>\n    </tr>\n    <tr>\n      <th>20</th>\n      <td>deposit</td>\n      <td>0x976fb2b1e49590c04707140f0a1bce4465fda42dfe9c...</td>\n      <td>16505276</td>\n      <td>1674908423</td>\n      <td>0x42daeb9ca091e3933c8ee93c029701b926b1f336</td>\n      <td>0xc413dd03555f3eb29d834b482d386b2999dc2eb0</td>\n      <td>Governance OHM</td>\n      <td>gOHM</td>\n      <td>5.886017</td>\n      <td>2838.193286</td>\n      <td>15207.964344</td>\n      <td>2023-01-28 12:20:23</td>\n      <td>2023-01-28</td>\n    </tr>\n    <tr>\n      <th>21</th>\n      <td>deposit</td>\n      <td>0x7811e7757339551966af37751af4b56c16a3e141d682...</td>\n      <td>16366137</td>\n      <td>1673229911</td>\n      <td>0x25fdda95197f804316f5ba8dbb66ac173ee19981</td>\n      <td>0xc413dd03555f3eb29d834b482d386b2999dc2eb0</td>\n      <td>Governance OHM</td>\n      <td>gOHM</td>\n      <td>2.252766</td>\n      <td>2838.193286</td>\n      <td>5812.081890</td>\n      <td>2023-01-09 02:05:11</td>\n      <td>2023-01-09</td>\n    </tr>\n    <tr>\n      <th>22</th>\n      <td>deposit</td>\n      <td>0xc094064b1815d07ca696c614f45dffbb054d2e5d5954...</td>\n      <td>16235576</td>\n      <td>1671655835</td>\n      <td>0xdedcf5806c4968c6397eee97e68047bda339d0c1</td>\n      <td>0xc413dd03555f3eb29d834b482d386b2999dc2eb0</td>\n      <td>Governance OHM</td>\n      <td>gOHM</td>\n      <td>0.020000</td>\n      <td>2838.193286</td>\n      <td>49.949341</td>\n      <td>2022-12-21 20:50:35</td>\n      <td>2022-12-21</td>\n    </tr>\n    <tr>\n      <th>23</th>\n      <td>deposit</td>\n      <td>0xe32fe96626d39b1369922f9b678bdeff75eb6aeac561...</td>\n      <td>16204963</td>\n      <td>1671286691</td>\n      <td>0x44504ba8d43b30e882503948654e247b928bcc7f</td>\n      <td>0xc413dd03555f3eb29d834b482d386b2999dc2eb0</td>\n      <td>Governance OHM</td>\n      <td>gOHM</td>\n      <td>0.500000</td>\n      <td>2838.193286</td>\n      <td>1242.431255</td>\n      <td>2022-12-17 14:18:11</td>\n      <td>2022-12-17</td>\n    </tr>\n    <tr>\n      <th>24</th>\n      <td>deposit</td>\n      <td>0x2f2117e1cc385bc67b93a53beb27c7b34865628bd35b...</td>\n      <td>16190043</td>\n      <td>1671106691</td>\n      <td>0x96035b45bc0d22f0ed11283a91145fb001c48370</td>\n      <td>0xc413dd03555f3eb29d834b482d386b2999dc2eb0</td>\n      <td>Governance OHM</td>\n      <td>gOHM</td>\n      <td>13.520668</td>\n      <td>2838.193286</td>\n      <td>33635.737994</td>\n      <td>2022-12-15 12:18:11</td>\n      <td>2022-12-15</td>\n    </tr>\n    <tr>\n      <th>25</th>\n      <td>deposit</td>\n      <td>0x7c831909c84d8b801b25a2a939ec2a6d08e7155fac91...</td>\n      <td>16176119</td>\n      <td>1670938607</td>\n      <td>0x791d1ec51d931186c1d4b80e753b7155dd98f741</td>\n      <td>0xc413dd03555f3eb29d834b482d386b2999dc2eb0</td>\n      <td>Governance OHM</td>\n      <td>gOHM</td>\n      <td>0.020000</td>\n      <td>2838.193286</td>\n      <td>51.410624</td>\n      <td>2022-12-13 13:36:47</td>\n      <td>2022-12-13</td>\n    </tr>\n    <tr>\n      <th>26</th>\n      <td>deposit</td>\n      <td>0x8966de52cc08fd866ff4e826c3ed12e04cb608e9dd94...</td>\n      <td>16173486</td>\n      <td>1670906771</td>\n      <td>0x339fd7c17ce670e7821f2f2ee94ddd49771483da</td>\n      <td>0xc413dd03555f3eb29d834b482d386b2999dc2eb0</td>\n      <td>Governance OHM</td>\n      <td>gOHM</td>\n      <td>8.000000</td>\n      <td>2838.193286</td>\n      <td>20081.385730</td>\n      <td>2022-12-13 04:46:11</td>\n      <td>2022-12-13</td>\n    </tr>\n    <tr>\n      <th>27</th>\n      <td>deposit</td>\n      <td>0x6336bd34049973ffbb71cafed76314b5175e35f2968b...</td>\n      <td>16171813</td>\n      <td>1670886587</td>\n      <td>0x1ba67f30e25fc43863b50047d7fd4bd63b9c59ec</td>\n      <td>0xc413dd03555f3eb29d834b482d386b2999dc2eb0</td>\n      <td>Governance OHM</td>\n      <td>gOHM</td>\n      <td>8.000000</td>\n      <td>2838.193286</td>\n      <td>20080.083584</td>\n      <td>2022-12-12 23:09:47</td>\n      <td>2022-12-12</td>\n    </tr>\n    <tr>\n      <th>28</th>\n      <td>deposit</td>\n      <td>0x671eeedcc2230a697d59627ca9b009802111fd5c2c0b...</td>\n      <td>16171336</td>\n      <td>1670880839</td>\n      <td>0x3985caf03eef8f885edb1f8358143bdf08d8d48b</td>\n      <td>0xc413dd03555f3eb29d834b482d386b2999dc2eb0</td>\n      <td>Governance OHM</td>\n      <td>gOHM</td>\n      <td>2.726128</td>\n      <td>2838.193286</td>\n      <td>6842.610869</td>\n      <td>2022-12-12 21:33:59</td>\n      <td>2022-12-12</td>\n    </tr>\n    <tr>\n      <th>29</th>\n      <td>deposit</td>\n      <td>0x6c4f8bc5f49d55b317c6a9ed6d523a662df0c9b330a7...</td>\n      <td>16170980</td>\n      <td>1670876567</td>\n      <td>0xee1520f94f304e8d551cbf310fe214212e3ca34a</td>\n      <td>0xc413dd03555f3eb29d834b482d386b2999dc2eb0</td>\n      <td>Governance OHM</td>\n      <td>gOHM</td>\n      <td>20.000000</td>\n      <td>2838.193286</td>\n      <td>49117.375038</td>\n      <td>2022-12-12 20:22:47</td>\n      <td>2022-12-12</td>\n    </tr>\n    <tr>\n      <th>30</th>\n      <td>deposit</td>\n      <td>0x53d9eed3930a371dbd133a9260a3ad8d5e7d3c4e446a...</td>\n      <td>16036013</td>\n      <td>1669246751</td>\n      <td>0xd3064611b24eba7a6dbcbc26c1b35dfee1170880</td>\n      <td>0xc413dd03555f3eb29d834b482d386b2999dc2eb0</td>\n      <td>Governance OHM</td>\n      <td>gOHM</td>\n      <td>0.025140</td>\n      <td>2838.193286</td>\n      <td>56.029673</td>\n      <td>2022-11-23 23:39:11</td>\n      <td>2022-11-23</td>\n    </tr>\n    <tr>\n      <th>31</th>\n      <td>deposit</td>\n      <td>0x816d41605087393280db2cf4083d1126a9b62542f79c...</td>\n      <td>16036005</td>\n      <td>1669246655</td>\n      <td>0xd3064611b24eba7a6dbcbc26c1b35dfee1170880</td>\n      <td>0xc413dd03555f3eb29d834b482d386b2999dc2eb0</td>\n      <td>Governance OHM</td>\n      <td>gOHM</td>\n      <td>0.143100</td>\n      <td>2838.193286</td>\n      <td>318.832191</td>\n      <td>2022-11-23 23:37:35</td>\n      <td>2022-11-23</td>\n    </tr>\n    <tr>\n      <th>32</th>\n      <td>deposit</td>\n      <td>0xd764e02abd36815b90d310332ff2a1e99842b8c4f6b5...</td>\n      <td>16034616</td>\n      <td>1669229711</td>\n      <td>0x62a4a8f9f5f3aae9ee9cee780285a0d501c12d09</td>\n      <td>0xc413dd03555f3eb29d834b482d386b2999dc2eb0</td>\n      <td>Governance OHM</td>\n      <td>gOHM</td>\n      <td>0.182000</td>\n      <td>2838.193286</td>\n      <td>398.921247</td>\n      <td>2022-11-23 18:55:11</td>\n      <td>2022-11-23</td>\n    </tr>\n  </tbody>\n</table>\n</div>"
     },
     "execution_count": 16,
     "metadata": {},
     "output_type": "execute_result"
    }
   ],
   "source": [
    "oldSiloDepositsDb = pd.DataFrame()\n",
    "siloFileName = file+'/siloFinanceGohmDeposits.csv'\n",
    "try:\n",
    "    oldSiloDepositsDb = pd.read_csv (siloFileName)\n",
    "except:\n",
    "    oldSiloDepositsDb = pd.DataFrame()\n",
    "oldSiloDepositsDb.head(100)"
   ],
   "metadata": {
    "collapsed": false
   }
  },
  {
   "cell_type": "code",
   "execution_count": 17,
   "outputs": [
    {
     "data": {
      "text/plain": "1676673262"
     },
     "execution_count": 17,
     "metadata": {},
     "output_type": "execute_result"
    }
   ],
   "source": [
    "maxSiloDepositsTimestamp = 0\n",
    "try:\n",
    "    maxSiloDepositsTimestamp = (max(0,oldSiloDepositsDb['transaction_timestamp'].max()))-1\n",
    "except:\n",
    "        maxSiloDepositsTimestamp = 0\n",
    "maxSiloDepositsTimestamp = int(maxSiloDepositsTimestamp)\n",
    "maxSiloDepositsTimestamp"
   ],
   "metadata": {
    "collapsed": false
   }
  },
  {
   "cell_type": "code",
   "execution_count": 18,
   "outputs": [
    {
     "name": "stdout",
     "output_type": "stream",
     "text": [
      "iterations:  0 Lines skipped:  0 records collected:  54  - latest recordID:  0x29643d66a812414ade1fe477e9cbb4f138a883192f7db053d91023dce7221ac3   0x29643d66a812414ade1fe477e9cbb4f138a883192f7db053d91023dce7221ac3-195  - deposits DB length:  54  - latest record from:  2023-02-26 22:38:11 0 days ago\n",
      "Done. Total Records collected:  54\n"
     ]
    }
   ],
   "source": [
    "##this captures the ENTIRE list of people who deposited OHM\n",
    "depositTicker = 0\n",
    "depositslist = pd.DataFrame()\n",
    "siloDepositsDb = pd.DataFrame()\n",
    "depositListLength = 1000\n",
    "datediff = 0\n",
    "now=0\n",
    "daysAgo=0\n",
    "#daysLimit = 45\n",
    "exit = False\n",
    "while exit==False:\n",
    "    skipValue = (depositTicker)*(1000)\n",
    "    deposits = silo.Query.deposits(\n",
    "        orderBy='timestamp',\n",
    "        orderDirection='desc',\n",
    "        first=1000,\n",
    "        skip = skipValue,\n",
    "        where={ 'market': '0xc413dd03555f3eb29d834b482d386b2999dc2eb0'\n",
    "                ,'timestamp_gte': maxSiloDepositsTimestamp\n",
    "                } #gOHM market\n",
    "    )\n",
    "\n",
    "    depositslist = sg.query_df([\n",
    "        deposits.id\n",
    "        ,deposits.hash\n",
    "        ,deposits.blockNumber\n",
    "        ,deposits.timestamp\n",
    "        ,deposits.account.id\n",
    "        ,deposits.market.id\n",
    "        ,deposits.market.protocol.id\n",
    "        ,deposits.market.rates.rate\n",
    "        ,deposits.market.rates.duration\n",
    "        ,deposits.market.rates.side\n",
    "        ,deposits.market.rates.type\n",
    "        ,deposits.market.rates.token.id\n",
    "        ,deposits.asset.name\n",
    "        ,deposits.asset.symbol\n",
    "        ,deposits.asset.decimals\n",
    "        ,deposits.asset.lastPriceUSD\n",
    "        ,deposits.amount\n",
    "        ,deposits.amountUSD\n",
    "    ])\n",
    "\n",
    "    siloDepositsDb=pd.concat([siloDepositsDb, depositslist])\n",
    "    recordTimestamp1 = siloDepositsDb.iat[depositTicker,3]\n",
    "    recordTimestamp = dt.datetime.fromtimestamp( recordTimestamp1 )\n",
    "    now = (int(dt.datetime.utcnow().timestamp()))\n",
    "    datediff=abs(int(now) - recordTimestamp1)\n",
    "    daysAgo = int(datediff/86400)\n",
    "    siloDepositsDbLength = len(siloDepositsDb)\n",
    "    siloDepositListLength = len(depositslist)\n",
    "    recordID = siloDepositsDb.iat[depositTicker,0]\n",
    "    deposit = siloDepositsDb.iat[depositTicker,1]\n",
    "    print(\"iterations: \", depositTicker, \"Lines skipped: \",skipValue, \"records collected: \", siloDepositListLength, \" - latest recordID: \",deposit, \" \", recordID , \" - deposits DB length: \", siloDepositsDbLength, \" - latest record from: \", recordTimestamp, daysAgo,\"days ago\")\n",
    "    #print(\"iterations: \", depositTicker, \"records collected: \", depositListLength, \" - userdb length: \", depositsDbLength)\n",
    "    depositTicker = depositTicker+1\n",
    "\n",
    "    if daysAgo>daysLimit: exit =True\n",
    "    if siloDepositsDbLength<1000: exit =True\n",
    "\n",
    "siloDepositsDb.columns = siloDepositsDb.columns.str.replace(\"deposits\", \"transaction\")\n",
    "siloDepositsDb['event']='deposit'\n",
    "siloDepositsDb.drop_duplicates\n",
    "print(\"Done. Total Records collected: \", siloDepositsDbLength)"
   ],
   "metadata": {
    "collapsed": false
   }
  },
  {
   "cell_type": "code",
   "execution_count": 19,
   "outputs": [
    {
     "data": {
      "text/plain": "                                      transaction_id  \\\n0  0x29643d66a812414ade1fe477e9cbb4f138a883192f7d...   \n1  0x29643d66a812414ade1fe477e9cbb4f138a883192f7d...   \n2  0x29643d66a812414ade1fe477e9cbb4f138a883192f7d...   \n3  0x29643d66a812414ade1fe477e9cbb4f138a883192f7d...   \n4  0x29643d66a812414ade1fe477e9cbb4f138a883192f7d...   \n5  0x29643d66a812414ade1fe477e9cbb4f138a883192f7d...   \n6  0xbf0ed7c716a01e4be252250119bd41cdf89f65597040...   \n7  0xbf0ed7c716a01e4be252250119bd41cdf89f65597040...   \n8  0xbf0ed7c716a01e4be252250119bd41cdf89f65597040...   \n9  0xbf0ed7c716a01e4be252250119bd41cdf89f65597040...   \n\n                                    transaction_hash  transaction_blockNumber  \\\n0  0x29643d66a812414ade1fe477e9cbb4f138a883192f7d...                 16717797   \n1  0x29643d66a812414ade1fe477e9cbb4f138a883192f7d...                 16717797   \n2  0x29643d66a812414ade1fe477e9cbb4f138a883192f7d...                 16717797   \n3  0x29643d66a812414ade1fe477e9cbb4f138a883192f7d...                 16717797   \n4  0x29643d66a812414ade1fe477e9cbb4f138a883192f7d...                 16717797   \n5  0x29643d66a812414ade1fe477e9cbb4f138a883192f7d...                 16717797   \n6  0xbf0ed7c716a01e4be252250119bd41cdf89f65597040...                 16716950   \n7  0xbf0ed7c716a01e4be252250119bd41cdf89f65597040...                 16716950   \n8  0xbf0ed7c716a01e4be252250119bd41cdf89f65597040...                 16716950   \n9  0xbf0ed7c716a01e4be252250119bd41cdf89f65597040...                 16716950   \n\n   transaction_timestamp                      transaction_account_id  \\\n0             1677479891  0x5c9d09716404556646b0b4567cb4621c18581f94   \n1             1677479891  0x5c9d09716404556646b0b4567cb4621c18581f94   \n2             1677479891  0x5c9d09716404556646b0b4567cb4621c18581f94   \n3             1677479891  0x5c9d09716404556646b0b4567cb4621c18581f94   \n4             1677479891  0x5c9d09716404556646b0b4567cb4621c18581f94   \n5             1677479891  0x5c9d09716404556646b0b4567cb4621c18581f94   \n6             1677469619  0xbe45fb24bd0f1f348cd21fd8cf3d1e94afc9ee58   \n7             1677469619  0xbe45fb24bd0f1f348cd21fd8cf3d1e94afc9ee58   \n8             1677469619  0xbe45fb24bd0f1f348cd21fd8cf3d1e94afc9ee58   \n9             1677469619  0xbe45fb24bd0f1f348cd21fd8cf3d1e94afc9ee58   \n\n                        transaction_market_id  \\\n0  0xc413dd03555f3eb29d834b482d386b2999dc2eb0   \n1  0xc413dd03555f3eb29d834b482d386b2999dc2eb0   \n2  0xc413dd03555f3eb29d834b482d386b2999dc2eb0   \n3  0xc413dd03555f3eb29d834b482d386b2999dc2eb0   \n4  0xc413dd03555f3eb29d834b482d386b2999dc2eb0   \n5  0xc413dd03555f3eb29d834b482d386b2999dc2eb0   \n6  0xc413dd03555f3eb29d834b482d386b2999dc2eb0   \n7  0xc413dd03555f3eb29d834b482d386b2999dc2eb0   \n8  0xc413dd03555f3eb29d834b482d386b2999dc2eb0   \n9  0xc413dd03555f3eb29d834b482d386b2999dc2eb0   \n\n               transaction_market_protocol_id  transaction_market_rates_rate  \\\n0  0xd998c35b7900b344bbbe6555cc11576942cf309d                       0.000000   \n1  0xd998c35b7900b344bbbe6555cc11576942cf309d                      29.269396   \n2  0xd998c35b7900b344bbbe6555cc11576942cf309d                       5.858009   \n3  0xd998c35b7900b344bbbe6555cc11576942cf309d                       0.000000   \n4  0xd998c35b7900b344bbbe6555cc11576942cf309d                      22.493314   \n5  0xd998c35b7900b344bbbe6555cc11576942cf309d                       4.992150   \n6  0xd998c35b7900b344bbbe6555cc11576942cf309d                       0.000000   \n7  0xd998c35b7900b344bbbe6555cc11576942cf309d                      29.269396   \n8  0xd998c35b7900b344bbbe6555cc11576942cf309d                       5.858009   \n9  0xd998c35b7900b344bbbe6555cc11576942cf309d                       0.000000   \n\n  transaction_market_rates_duration transaction_market_rates_side  \\\n0                              None                      BORROWER   \n1                              None                      BORROWER   \n2                              None                      BORROWER   \n3                              None                        LENDER   \n4                              None                        LENDER   \n5                              None                        LENDER   \n6                              None                      BORROWER   \n7                              None                      BORROWER   \n8                              None                      BORROWER   \n9                              None                        LENDER   \n\n  transaction_market_rates_type           transaction_market_rates_token_id  \\\n0                      VARIABLE  0x0ab87046fbb341d058f17cbc4c1133f25a20a52f   \n1                      VARIABLE  0xc02aaa39b223fe8d0a0e5c4f27ead9083c756cc2   \n2                      VARIABLE  0xd7c9f0e536dc865ae858b0c0453fe76d13c3beac   \n3                      VARIABLE  0x0ab87046fbb341d058f17cbc4c1133f25a20a52f   \n4                      VARIABLE  0xc02aaa39b223fe8d0a0e5c4f27ead9083c756cc2   \n5                      VARIABLE  0xd7c9f0e536dc865ae858b0c0453fe76d13c3beac   \n6                      VARIABLE  0x0ab87046fbb341d058f17cbc4c1133f25a20a52f   \n7                      VARIABLE  0xc02aaa39b223fe8d0a0e5c4f27ead9083c756cc2   \n8                      VARIABLE  0xd7c9f0e536dc865ae858b0c0453fe76d13c3beac   \n9                      VARIABLE  0x0ab87046fbb341d058f17cbc4c1133f25a20a52f   \n\n  transaction_asset_name transaction_asset_symbol  transaction_asset_decimals  \\\n0         Governance OHM                     gOHM                          18   \n1         Governance OHM                     gOHM                          18   \n2         Governance OHM                     gOHM                          18   \n3         Governance OHM                     gOHM                          18   \n4         Governance OHM                     gOHM                          18   \n5         Governance OHM                     gOHM                          18   \n6         Governance OHM                     gOHM                          18   \n7         Governance OHM                     gOHM                          18   \n8         Governance OHM                     gOHM                          18   \n9         Governance OHM                     gOHM                          18   \n\n   transaction_asset_lastPriceUSD    transaction_amount  \\\n0                     2706.113816  20449883374896217620   \n1                     2706.113816  20449883374896217620   \n2                     2706.113816  20449883374896217620   \n3                     2706.113816  20449883374896217620   \n4                     2706.113816  20449883374896217620   \n5                     2706.113816  20449883374896217620   \n6                     2706.113816   3624736748660984613   \n7                     2706.113816   3624736748660984613   \n8                     2706.113816   3624736748660984613   \n9                     2706.113816   3624736748660984613   \n\n   transaction_amountUSD    event  \n0           55829.594023  deposit  \n1           55829.594023  deposit  \n2           55829.594023  deposit  \n3           55829.594023  deposit  \n4           55829.594023  deposit  \n5           55829.594023  deposit  \n6            9895.140234  deposit  \n7            9895.140234  deposit  \n8            9895.140234  deposit  \n9            9895.140234  deposit  ",
      "text/html": "<div>\n<style scoped>\n    .dataframe tbody tr th:only-of-type {\n        vertical-align: middle;\n    }\n\n    .dataframe tbody tr th {\n        vertical-align: top;\n    }\n\n    .dataframe thead th {\n        text-align: right;\n    }\n</style>\n<table border=\"1\" class=\"dataframe\">\n  <thead>\n    <tr style=\"text-align: right;\">\n      <th></th>\n      <th>transaction_id</th>\n      <th>transaction_hash</th>\n      <th>transaction_blockNumber</th>\n      <th>transaction_timestamp</th>\n      <th>transaction_account_id</th>\n      <th>transaction_market_id</th>\n      <th>transaction_market_protocol_id</th>\n      <th>transaction_market_rates_rate</th>\n      <th>transaction_market_rates_duration</th>\n      <th>transaction_market_rates_side</th>\n      <th>transaction_market_rates_type</th>\n      <th>transaction_market_rates_token_id</th>\n      <th>transaction_asset_name</th>\n      <th>transaction_asset_symbol</th>\n      <th>transaction_asset_decimals</th>\n      <th>transaction_asset_lastPriceUSD</th>\n      <th>transaction_amount</th>\n      <th>transaction_amountUSD</th>\n      <th>event</th>\n    </tr>\n  </thead>\n  <tbody>\n    <tr>\n      <th>0</th>\n      <td>0x29643d66a812414ade1fe477e9cbb4f138a883192f7d...</td>\n      <td>0x29643d66a812414ade1fe477e9cbb4f138a883192f7d...</td>\n      <td>16717797</td>\n      <td>1677479891</td>\n      <td>0x5c9d09716404556646b0b4567cb4621c18581f94</td>\n      <td>0xc413dd03555f3eb29d834b482d386b2999dc2eb0</td>\n      <td>0xd998c35b7900b344bbbe6555cc11576942cf309d</td>\n      <td>0.000000</td>\n      <td>None</td>\n      <td>BORROWER</td>\n      <td>VARIABLE</td>\n      <td>0x0ab87046fbb341d058f17cbc4c1133f25a20a52f</td>\n      <td>Governance OHM</td>\n      <td>gOHM</td>\n      <td>18</td>\n      <td>2706.113816</td>\n      <td>20449883374896217620</td>\n      <td>55829.594023</td>\n      <td>deposit</td>\n    </tr>\n    <tr>\n      <th>1</th>\n      <td>0x29643d66a812414ade1fe477e9cbb4f138a883192f7d...</td>\n      <td>0x29643d66a812414ade1fe477e9cbb4f138a883192f7d...</td>\n      <td>16717797</td>\n      <td>1677479891</td>\n      <td>0x5c9d09716404556646b0b4567cb4621c18581f94</td>\n      <td>0xc413dd03555f3eb29d834b482d386b2999dc2eb0</td>\n      <td>0xd998c35b7900b344bbbe6555cc11576942cf309d</td>\n      <td>29.269396</td>\n      <td>None</td>\n      <td>BORROWER</td>\n      <td>VARIABLE</td>\n      <td>0xc02aaa39b223fe8d0a0e5c4f27ead9083c756cc2</td>\n      <td>Governance OHM</td>\n      <td>gOHM</td>\n      <td>18</td>\n      <td>2706.113816</td>\n      <td>20449883374896217620</td>\n      <td>55829.594023</td>\n      <td>deposit</td>\n    </tr>\n    <tr>\n      <th>2</th>\n      <td>0x29643d66a812414ade1fe477e9cbb4f138a883192f7d...</td>\n      <td>0x29643d66a812414ade1fe477e9cbb4f138a883192f7d...</td>\n      <td>16717797</td>\n      <td>1677479891</td>\n      <td>0x5c9d09716404556646b0b4567cb4621c18581f94</td>\n      <td>0xc413dd03555f3eb29d834b482d386b2999dc2eb0</td>\n      <td>0xd998c35b7900b344bbbe6555cc11576942cf309d</td>\n      <td>5.858009</td>\n      <td>None</td>\n      <td>BORROWER</td>\n      <td>VARIABLE</td>\n      <td>0xd7c9f0e536dc865ae858b0c0453fe76d13c3beac</td>\n      <td>Governance OHM</td>\n      <td>gOHM</td>\n      <td>18</td>\n      <td>2706.113816</td>\n      <td>20449883374896217620</td>\n      <td>55829.594023</td>\n      <td>deposit</td>\n    </tr>\n    <tr>\n      <th>3</th>\n      <td>0x29643d66a812414ade1fe477e9cbb4f138a883192f7d...</td>\n      <td>0x29643d66a812414ade1fe477e9cbb4f138a883192f7d...</td>\n      <td>16717797</td>\n      <td>1677479891</td>\n      <td>0x5c9d09716404556646b0b4567cb4621c18581f94</td>\n      <td>0xc413dd03555f3eb29d834b482d386b2999dc2eb0</td>\n      <td>0xd998c35b7900b344bbbe6555cc11576942cf309d</td>\n      <td>0.000000</td>\n      <td>None</td>\n      <td>LENDER</td>\n      <td>VARIABLE</td>\n      <td>0x0ab87046fbb341d058f17cbc4c1133f25a20a52f</td>\n      <td>Governance OHM</td>\n      <td>gOHM</td>\n      <td>18</td>\n      <td>2706.113816</td>\n      <td>20449883374896217620</td>\n      <td>55829.594023</td>\n      <td>deposit</td>\n    </tr>\n    <tr>\n      <th>4</th>\n      <td>0x29643d66a812414ade1fe477e9cbb4f138a883192f7d...</td>\n      <td>0x29643d66a812414ade1fe477e9cbb4f138a883192f7d...</td>\n      <td>16717797</td>\n      <td>1677479891</td>\n      <td>0x5c9d09716404556646b0b4567cb4621c18581f94</td>\n      <td>0xc413dd03555f3eb29d834b482d386b2999dc2eb0</td>\n      <td>0xd998c35b7900b344bbbe6555cc11576942cf309d</td>\n      <td>22.493314</td>\n      <td>None</td>\n      <td>LENDER</td>\n      <td>VARIABLE</td>\n      <td>0xc02aaa39b223fe8d0a0e5c4f27ead9083c756cc2</td>\n      <td>Governance OHM</td>\n      <td>gOHM</td>\n      <td>18</td>\n      <td>2706.113816</td>\n      <td>20449883374896217620</td>\n      <td>55829.594023</td>\n      <td>deposit</td>\n    </tr>\n    <tr>\n      <th>5</th>\n      <td>0x29643d66a812414ade1fe477e9cbb4f138a883192f7d...</td>\n      <td>0x29643d66a812414ade1fe477e9cbb4f138a883192f7d...</td>\n      <td>16717797</td>\n      <td>1677479891</td>\n      <td>0x5c9d09716404556646b0b4567cb4621c18581f94</td>\n      <td>0xc413dd03555f3eb29d834b482d386b2999dc2eb0</td>\n      <td>0xd998c35b7900b344bbbe6555cc11576942cf309d</td>\n      <td>4.992150</td>\n      <td>None</td>\n      <td>LENDER</td>\n      <td>VARIABLE</td>\n      <td>0xd7c9f0e536dc865ae858b0c0453fe76d13c3beac</td>\n      <td>Governance OHM</td>\n      <td>gOHM</td>\n      <td>18</td>\n      <td>2706.113816</td>\n      <td>20449883374896217620</td>\n      <td>55829.594023</td>\n      <td>deposit</td>\n    </tr>\n    <tr>\n      <th>6</th>\n      <td>0xbf0ed7c716a01e4be252250119bd41cdf89f65597040...</td>\n      <td>0xbf0ed7c716a01e4be252250119bd41cdf89f65597040...</td>\n      <td>16716950</td>\n      <td>1677469619</td>\n      <td>0xbe45fb24bd0f1f348cd21fd8cf3d1e94afc9ee58</td>\n      <td>0xc413dd03555f3eb29d834b482d386b2999dc2eb0</td>\n      <td>0xd998c35b7900b344bbbe6555cc11576942cf309d</td>\n      <td>0.000000</td>\n      <td>None</td>\n      <td>BORROWER</td>\n      <td>VARIABLE</td>\n      <td>0x0ab87046fbb341d058f17cbc4c1133f25a20a52f</td>\n      <td>Governance OHM</td>\n      <td>gOHM</td>\n      <td>18</td>\n      <td>2706.113816</td>\n      <td>3624736748660984613</td>\n      <td>9895.140234</td>\n      <td>deposit</td>\n    </tr>\n    <tr>\n      <th>7</th>\n      <td>0xbf0ed7c716a01e4be252250119bd41cdf89f65597040...</td>\n      <td>0xbf0ed7c716a01e4be252250119bd41cdf89f65597040...</td>\n      <td>16716950</td>\n      <td>1677469619</td>\n      <td>0xbe45fb24bd0f1f348cd21fd8cf3d1e94afc9ee58</td>\n      <td>0xc413dd03555f3eb29d834b482d386b2999dc2eb0</td>\n      <td>0xd998c35b7900b344bbbe6555cc11576942cf309d</td>\n      <td>29.269396</td>\n      <td>None</td>\n      <td>BORROWER</td>\n      <td>VARIABLE</td>\n      <td>0xc02aaa39b223fe8d0a0e5c4f27ead9083c756cc2</td>\n      <td>Governance OHM</td>\n      <td>gOHM</td>\n      <td>18</td>\n      <td>2706.113816</td>\n      <td>3624736748660984613</td>\n      <td>9895.140234</td>\n      <td>deposit</td>\n    </tr>\n    <tr>\n      <th>8</th>\n      <td>0xbf0ed7c716a01e4be252250119bd41cdf89f65597040...</td>\n      <td>0xbf0ed7c716a01e4be252250119bd41cdf89f65597040...</td>\n      <td>16716950</td>\n      <td>1677469619</td>\n      <td>0xbe45fb24bd0f1f348cd21fd8cf3d1e94afc9ee58</td>\n      <td>0xc413dd03555f3eb29d834b482d386b2999dc2eb0</td>\n      <td>0xd998c35b7900b344bbbe6555cc11576942cf309d</td>\n      <td>5.858009</td>\n      <td>None</td>\n      <td>BORROWER</td>\n      <td>VARIABLE</td>\n      <td>0xd7c9f0e536dc865ae858b0c0453fe76d13c3beac</td>\n      <td>Governance OHM</td>\n      <td>gOHM</td>\n      <td>18</td>\n      <td>2706.113816</td>\n      <td>3624736748660984613</td>\n      <td>9895.140234</td>\n      <td>deposit</td>\n    </tr>\n    <tr>\n      <th>9</th>\n      <td>0xbf0ed7c716a01e4be252250119bd41cdf89f65597040...</td>\n      <td>0xbf0ed7c716a01e4be252250119bd41cdf89f65597040...</td>\n      <td>16716950</td>\n      <td>1677469619</td>\n      <td>0xbe45fb24bd0f1f348cd21fd8cf3d1e94afc9ee58</td>\n      <td>0xc413dd03555f3eb29d834b482d386b2999dc2eb0</td>\n      <td>0xd998c35b7900b344bbbe6555cc11576942cf309d</td>\n      <td>0.000000</td>\n      <td>None</td>\n      <td>LENDER</td>\n      <td>VARIABLE</td>\n      <td>0x0ab87046fbb341d058f17cbc4c1133f25a20a52f</td>\n      <td>Governance OHM</td>\n      <td>gOHM</td>\n      <td>18</td>\n      <td>2706.113816</td>\n      <td>3624736748660984613</td>\n      <td>9895.140234</td>\n      <td>deposit</td>\n    </tr>\n  </tbody>\n</table>\n</div>"
     },
     "execution_count": 19,
     "metadata": {},
     "output_type": "execute_result"
    }
   ],
   "source": [
    "siloDepositsDb.head(10)"
   ],
   "metadata": {
    "collapsed": false
   }
  },
  {
   "cell_type": "code",
   "execution_count": 20,
   "outputs": [
    {
     "data": {
      "text/plain": "      event                                   transaction_hash  \\\n0   deposit  0x29643d66a812414ade1fe477e9cbb4f138a883192f7d...   \n6   deposit  0xbf0ed7c716a01e4be252250119bd41cdf89f65597040...   \n12  deposit  0x99a647b2e80fef593cdd66b3c6abb8e362c49aee85bf...   \n18  deposit  0xe7bbf9cfb082dbb38c82a00958c376852afcabf6a5e7...   \n24  deposit  0x023c3294dcbafb52f4a907af98ea8954c6c2d8d88c48...   \n30  deposit  0x0558a1b5042de6895f694f913f5006a7080a1671de70...   \n36  deposit  0x47a01a4e9b92bd82f154203b765cd526234e741c5cda...   \n42  deposit  0xcc1705094b3dd746ed1769d610d22bf12b7aec36e8a4...   \n48  deposit  0xecd6140bbb896413a25d34ca87f5503b56c444f1e582...   \n\n    transaction_blockNumber  transaction_timestamp  \\\n0                  16717797             1677479891   \n6                  16716950             1677469619   \n12                 16701789             1677285503   \n18                 16699172             1677253583   \n24                 16695675             1677210899   \n30                 16683975             1677068795   \n36                 16681931             1677043943   \n42                 16678469             1677001775   \n48                 16651409             1676673263   \n\n                        transaction_account_id  \\\n0   0x5c9d09716404556646b0b4567cb4621c18581f94   \n6   0xbe45fb24bd0f1f348cd21fd8cf3d1e94afc9ee58   \n12  0xa0fea50194bd39d5b3da8a795b36db75313b1936   \n18  0xb0399dac8f4d4100b49b2a7b3873481114229d18   \n24  0x804157889ac56a4e50278610c67960c1605a3264   \n30  0x5656cb4721c21e1f5dcbe03db9026ac0203d6e4f   \n36  0x7aaee144a14ec3ba0e468c9dcf4a89fdb62c5aa6   \n42  0x9b8b04b6f82cd5e1dae58ca3614d445f93defc5c   \n48  0xd33e76d21d32c21811593ae54e38f68df0cfe8ed   \n\n                         transaction_market_id transaction_asset_name  \\\n0   0xc413dd03555f3eb29d834b482d386b2999dc2eb0         Governance OHM   \n6   0xc413dd03555f3eb29d834b482d386b2999dc2eb0         Governance OHM   \n12  0xc413dd03555f3eb29d834b482d386b2999dc2eb0         Governance OHM   \n18  0xc413dd03555f3eb29d834b482d386b2999dc2eb0         Governance OHM   \n24  0xc413dd03555f3eb29d834b482d386b2999dc2eb0         Governance OHM   \n30  0xc413dd03555f3eb29d834b482d386b2999dc2eb0         Governance OHM   \n36  0xc413dd03555f3eb29d834b482d386b2999dc2eb0         Governance OHM   \n42  0xc413dd03555f3eb29d834b482d386b2999dc2eb0         Governance OHM   \n48  0xc413dd03555f3eb29d834b482d386b2999dc2eb0         Governance OHM   \n\n   transaction_asset_symbol  transactionReadableAmount  \\\n0                      gOHM                  20.449883   \n6                      gOHM                   3.624737   \n12                     gOHM                   2.013776   \n18                     gOHM                  54.048930   \n24                     gOHM                   0.374146   \n30                     gOHM                   3.138941   \n36                     gOHM                   9.937799   \n42                     gOHM                   5.621351   \n48                     gOHM                  48.922199   \n\n    transaction_asset_lastPriceUSD  transaction_amountUSD            dateTime  \\\n0                      2706.113816           55829.594023 2023-02-27 06:38:11   \n6                      2706.113816            9895.140234 2023-02-27 03:46:59   \n12                     2706.113816            5483.214093 2023-02-25 00:38:23   \n18                     2706.113816          144122.371468 2023-02-24 15:46:23   \n24                     2706.113816            1023.449957 2023-02-24 03:54:59   \n30                     2706.113816            8614.397300 2023-02-22 12:26:35   \n36                     2706.113816           27352.209304 2023-02-22 05:32:23   \n42                     2706.113816           15493.665575 2023-02-21 17:49:35   \n48                     2706.113816          138354.126796 2023-02-17 22:34:23   \n\n      calDate  \n0  2023-02-27  \n6  2023-02-27  \n12 2023-02-25  \n18 2023-02-24  \n24 2023-02-24  \n30 2023-02-22  \n36 2023-02-22  \n42 2023-02-21  \n48 2023-02-17  ",
      "text/html": "<div>\n<style scoped>\n    .dataframe tbody tr th:only-of-type {\n        vertical-align: middle;\n    }\n\n    .dataframe tbody tr th {\n        vertical-align: top;\n    }\n\n    .dataframe thead th {\n        text-align: right;\n    }\n</style>\n<table border=\"1\" class=\"dataframe\">\n  <thead>\n    <tr style=\"text-align: right;\">\n      <th></th>\n      <th>event</th>\n      <th>transaction_hash</th>\n      <th>transaction_blockNumber</th>\n      <th>transaction_timestamp</th>\n      <th>transaction_account_id</th>\n      <th>transaction_market_id</th>\n      <th>transaction_asset_name</th>\n      <th>transaction_asset_symbol</th>\n      <th>transactionReadableAmount</th>\n      <th>transaction_asset_lastPriceUSD</th>\n      <th>transaction_amountUSD</th>\n      <th>dateTime</th>\n      <th>calDate</th>\n    </tr>\n  </thead>\n  <tbody>\n    <tr>\n      <th>0</th>\n      <td>deposit</td>\n      <td>0x29643d66a812414ade1fe477e9cbb4f138a883192f7d...</td>\n      <td>16717797</td>\n      <td>1677479891</td>\n      <td>0x5c9d09716404556646b0b4567cb4621c18581f94</td>\n      <td>0xc413dd03555f3eb29d834b482d386b2999dc2eb0</td>\n      <td>Governance OHM</td>\n      <td>gOHM</td>\n      <td>20.449883</td>\n      <td>2706.113816</td>\n      <td>55829.594023</td>\n      <td>2023-02-27 06:38:11</td>\n      <td>2023-02-27</td>\n    </tr>\n    <tr>\n      <th>6</th>\n      <td>deposit</td>\n      <td>0xbf0ed7c716a01e4be252250119bd41cdf89f65597040...</td>\n      <td>16716950</td>\n      <td>1677469619</td>\n      <td>0xbe45fb24bd0f1f348cd21fd8cf3d1e94afc9ee58</td>\n      <td>0xc413dd03555f3eb29d834b482d386b2999dc2eb0</td>\n      <td>Governance OHM</td>\n      <td>gOHM</td>\n      <td>3.624737</td>\n      <td>2706.113816</td>\n      <td>9895.140234</td>\n      <td>2023-02-27 03:46:59</td>\n      <td>2023-02-27</td>\n    </tr>\n    <tr>\n      <th>12</th>\n      <td>deposit</td>\n      <td>0x99a647b2e80fef593cdd66b3c6abb8e362c49aee85bf...</td>\n      <td>16701789</td>\n      <td>1677285503</td>\n      <td>0xa0fea50194bd39d5b3da8a795b36db75313b1936</td>\n      <td>0xc413dd03555f3eb29d834b482d386b2999dc2eb0</td>\n      <td>Governance OHM</td>\n      <td>gOHM</td>\n      <td>2.013776</td>\n      <td>2706.113816</td>\n      <td>5483.214093</td>\n      <td>2023-02-25 00:38:23</td>\n      <td>2023-02-25</td>\n    </tr>\n    <tr>\n      <th>18</th>\n      <td>deposit</td>\n      <td>0xe7bbf9cfb082dbb38c82a00958c376852afcabf6a5e7...</td>\n      <td>16699172</td>\n      <td>1677253583</td>\n      <td>0xb0399dac8f4d4100b49b2a7b3873481114229d18</td>\n      <td>0xc413dd03555f3eb29d834b482d386b2999dc2eb0</td>\n      <td>Governance OHM</td>\n      <td>gOHM</td>\n      <td>54.048930</td>\n      <td>2706.113816</td>\n      <td>144122.371468</td>\n      <td>2023-02-24 15:46:23</td>\n      <td>2023-02-24</td>\n    </tr>\n    <tr>\n      <th>24</th>\n      <td>deposit</td>\n      <td>0x023c3294dcbafb52f4a907af98ea8954c6c2d8d88c48...</td>\n      <td>16695675</td>\n      <td>1677210899</td>\n      <td>0x804157889ac56a4e50278610c67960c1605a3264</td>\n      <td>0xc413dd03555f3eb29d834b482d386b2999dc2eb0</td>\n      <td>Governance OHM</td>\n      <td>gOHM</td>\n      <td>0.374146</td>\n      <td>2706.113816</td>\n      <td>1023.449957</td>\n      <td>2023-02-24 03:54:59</td>\n      <td>2023-02-24</td>\n    </tr>\n    <tr>\n      <th>30</th>\n      <td>deposit</td>\n      <td>0x0558a1b5042de6895f694f913f5006a7080a1671de70...</td>\n      <td>16683975</td>\n      <td>1677068795</td>\n      <td>0x5656cb4721c21e1f5dcbe03db9026ac0203d6e4f</td>\n      <td>0xc413dd03555f3eb29d834b482d386b2999dc2eb0</td>\n      <td>Governance OHM</td>\n      <td>gOHM</td>\n      <td>3.138941</td>\n      <td>2706.113816</td>\n      <td>8614.397300</td>\n      <td>2023-02-22 12:26:35</td>\n      <td>2023-02-22</td>\n    </tr>\n    <tr>\n      <th>36</th>\n      <td>deposit</td>\n      <td>0x47a01a4e9b92bd82f154203b765cd526234e741c5cda...</td>\n      <td>16681931</td>\n      <td>1677043943</td>\n      <td>0x7aaee144a14ec3ba0e468c9dcf4a89fdb62c5aa6</td>\n      <td>0xc413dd03555f3eb29d834b482d386b2999dc2eb0</td>\n      <td>Governance OHM</td>\n      <td>gOHM</td>\n      <td>9.937799</td>\n      <td>2706.113816</td>\n      <td>27352.209304</td>\n      <td>2023-02-22 05:32:23</td>\n      <td>2023-02-22</td>\n    </tr>\n    <tr>\n      <th>42</th>\n      <td>deposit</td>\n      <td>0xcc1705094b3dd746ed1769d610d22bf12b7aec36e8a4...</td>\n      <td>16678469</td>\n      <td>1677001775</td>\n      <td>0x9b8b04b6f82cd5e1dae58ca3614d445f93defc5c</td>\n      <td>0xc413dd03555f3eb29d834b482d386b2999dc2eb0</td>\n      <td>Governance OHM</td>\n      <td>gOHM</td>\n      <td>5.621351</td>\n      <td>2706.113816</td>\n      <td>15493.665575</td>\n      <td>2023-02-21 17:49:35</td>\n      <td>2023-02-21</td>\n    </tr>\n    <tr>\n      <th>48</th>\n      <td>deposit</td>\n      <td>0xecd6140bbb896413a25d34ca87f5503b56c444f1e582...</td>\n      <td>16651409</td>\n      <td>1676673263</td>\n      <td>0xd33e76d21d32c21811593ae54e38f68df0cfe8ed</td>\n      <td>0xc413dd03555f3eb29d834b482d386b2999dc2eb0</td>\n      <td>Governance OHM</td>\n      <td>gOHM</td>\n      <td>48.922199</td>\n      <td>2706.113816</td>\n      <td>138354.126796</td>\n      <td>2023-02-17 22:34:23</td>\n      <td>2023-02-17</td>\n    </tr>\n  </tbody>\n</table>\n</div>"
     },
     "execution_count": 20,
     "metadata": {},
     "output_type": "execute_result"
    }
   ],
   "source": [
    "siloDepositsDb['event'] ='deposit'\n",
    "siloDepositsDb['transactionReadableAmount'] = siloDepositsDb['transaction_amount']/(10**(siloDepositsDb['transaction_asset_decimals']))\n",
    "siloDepositsDb['transactionReadableAmount']=siloDepositsDb['transactionReadableAmount'].astype('float')\n",
    "siloDepositsDb['dateTime'] =(pd.to_datetime(siloDepositsDb['transaction_timestamp'],unit='s'))\n",
    "\n",
    "\n",
    "#we only want deposits in GOHM from those that borrowed, so drop anyone that is not on that side\n",
    "siloDepositsDb.drop(siloDepositsDb.loc[siloDepositsDb['transaction_market_rates_side']!='BORROWER'].index, inplace=True)\n",
    "siloDepositsDb.drop(siloDepositsDb.loc[siloDepositsDb['transaction_asset_symbol']!='gOHM'].index, inplace=True)\n",
    "\n",
    "\n",
    "siloDepositEventsDbTimedClean = siloDepositsDb[['event','transaction_hash','transaction_blockNumber','transaction_timestamp','transaction_account_id','transaction_market_id','transaction_asset_name','transaction_asset_symbol', 'transactionReadableAmount','transaction_asset_lastPriceUSD','transaction_amountUSD','dateTime']].copy()\n",
    "siloDepositEventsDbTimedClean.sort_values(by=['event','transaction_hash','transaction_blockNumber','transaction_timestamp','transaction_account_id','transaction_market_id','transaction_asset_name','transaction_asset_symbol', 'transactionReadableAmount','transaction_asset_lastPriceUSD','transaction_amountUSD','dateTime'])\n",
    "siloDepositEventsDbTimedClean.drop_duplicates(subset=['transaction_hash'],keep='first', inplace=True)\n",
    "siloDepositEventsDbTimedClean['calDate'] = siloDepositEventsDbTimedClean['dateTime'].dt.normalize()\n",
    "siloDepositEventsDbTimedClean.head(1000)"
   ],
   "metadata": {
    "collapsed": false
   }
  },
  {
   "cell_type": "code",
   "execution_count": 21,
   "outputs": [
    {
     "name": "stdout",
     "output_type": "stream",
     "text": [
      "D:\\Dropbox\\Documents\\Edgecaser LLC\\Projects\\Olympus\\Econohmetrics\\gohmAsStablecoinCollateral/data/siloFinanceGohmDeposits_piped.csv file saved, 9  records\n"
     ]
    }
   ],
   "source": [
    "path =file+'/siloFinanceGohmDeposits.csv'\n",
    "siloDepositEventsDbTimedClean.to_csv(path, index = False)\n",
    "\n",
    "path =file+'/siloFinanceGohmDeposits_piped.csv'\n",
    "siloDepositEventsDbTimedClean.to_csv(path, index = False, sep='|')\n",
    "print(path, 'file saved,', len(siloDepositEventsDbTimedClean),' records')"
   ],
   "metadata": {
    "collapsed": false
   }
  },
  {
   "cell_type": "code",
   "execution_count": 22,
   "outputs": [
    {
     "name": "stdout",
     "output_type": "stream",
     "text": [
      "There has been a total of 148.13 gOHM deposited cumulatively as collateral  to date, about USD$ 406168.1687487883\n"
     ]
    }
   ],
   "source": [
    "totalDeposited = sum(siloDepositEventsDbTimedClean['transactionReadableAmount'])\n",
    "totalUSDDeposited = sum(siloDepositEventsDbTimedClean['transaction_amountUSD'])\n",
    "print('There has been a total of',round(totalDeposited,2),  'gOHM deposited cumulatively as collateral  to date, about USD$',totalUSDDeposited)"
   ],
   "metadata": {
    "collapsed": false
   }
  },
  {
   "cell_type": "markdown",
   "source": [
    "********************************************************************\n",
    "********************************************************************\n",
    "Now we need withdrawals to counter the deposits and see current state"
   ],
   "metadata": {
    "collapsed": false
   }
  },
  {
   "cell_type": "code",
   "execution_count": 23,
   "outputs": [
    {
     "data": {
      "text/plain": "       event                                   transaction_hash  \\\n0   withdraw  0xf4707edc29622f90030af624d1918ff5ae613cef90d8...   \n1   withdraw  0x85b689883076aa92af0a2356f8e4084610578bb48590...   \n2   withdraw  0xd931b79cfc34df088f325e8adde9122af7ad64a0ba30...   \n3   withdraw  0xd4f7aeb47e1e07903a3e9298762bc164764fffb2f973...   \n4   withdraw  0xc7193a2aa216c65fe82652e85b4adc20a60b274bd070...   \n5   withdraw  0xed87a5e09b9abe135be66d51493eca516d78aaf1d4d5...   \n6   withdraw  0xcfa1e8a102e407470f7cc479576cceab5f872c1a1377...   \n7   withdraw  0xb8682e4d0d5fe1297f21ff66347debdfc75c3956612d...   \n8   withdraw  0xcc9db9a7563b473c4b8e4ca0f4f7fb90ca709b022469...   \n9   withdraw  0x7c24d04318da39f08c7ba4f8d413a487133ce1b1f117...   \n10  withdraw  0x3cf3a5658c3ef1a247ec241370a3abfeb673251eafec...   \n11  withdraw  0xbb87996c54ed5859d905c96b7b43212cdbc74b1c99aa...   \n\n    transaction_blockNumber  transaction_timestamp  \\\n0                  16635032             1676474867   \n1                  16634844             1676472599   \n2                  16628161             1676391839   \n3                  16627341             1676381987   \n4                  16601676             1676072123   \n5                  16589407             1675924055   \n6                  16574012             1675737947   \n7                  16483146             1674641375   \n8                  16366146             1673230019   \n9                  16242703             1671741731   \n10                 16176122             1670938643   \n11                 16036062             1669247351   \n\n                        transaction_account_id  \\\n0   0x0493bcca897a2248ae3cd4c66aea90dbfc7e13c6   \n1   0xb0399dac8f4d4100b49b2a7b3873481114229d18   \n2   0xb0399dac8f4d4100b49b2a7b3873481114229d18   \n3   0xc0b1f200aa9546ce074397bed7438bb2ec033877   \n4   0xa7daeb7fc210f934508c8c7ce833a2cdd6630fb3   \n5   0xb0399dac8f4d4100b49b2a7b3873481114229d18   \n6   0xd3064611b24eba7a6dbcbc26c1b35dfee1170880   \n7   0xee1520f94f304e8d551cbf310fe214212e3ca34a   \n8   0x25fdda95197f804316f5ba8dbb66ac173ee19981   \n9   0x96035b45bc0d22f0ed11283a91145fb001c48370   \n10  0x791d1ec51d931186c1d4b80e753b7155dd98f741   \n11  0x62a4a8f9f5f3aae9ee9cee780285a0d501c12d09   \n\n                         transaction_market_id transaction_asset_name  \\\n0   0xc413dd03555f3eb29d834b482d386b2999dc2eb0         Governance OHM   \n1   0xc413dd03555f3eb29d834b482d386b2999dc2eb0         Governance OHM   \n2   0xc413dd03555f3eb29d834b482d386b2999dc2eb0         Governance OHM   \n3   0xc413dd03555f3eb29d834b482d386b2999dc2eb0         Governance OHM   \n4   0xc413dd03555f3eb29d834b482d386b2999dc2eb0         Governance OHM   \n5   0xc413dd03555f3eb29d834b482d386b2999dc2eb0         Governance OHM   \n6   0xc413dd03555f3eb29d834b482d386b2999dc2eb0         Governance OHM   \n7   0xc413dd03555f3eb29d834b482d386b2999dc2eb0         Governance OHM   \n8   0xc413dd03555f3eb29d834b482d386b2999dc2eb0         Governance OHM   \n9   0xc413dd03555f3eb29d834b482d386b2999dc2eb0         Governance OHM   \n10  0xc413dd03555f3eb29d834b482d386b2999dc2eb0         Governance OHM   \n11  0xc413dd03555f3eb29d834b482d386b2999dc2eb0         Governance OHM   \n\n   transaction_asset_symbol  transactionReadableAmount  \\\n0                      gOHM                  25.000039   \n1                      gOHM                  64.393035   \n2                      gOHM                  36.000000   \n3                      gOHM                   0.883213   \n4                      gOHM                   0.137814   \n5                      gOHM                  19.607121   \n6                      gOHM                   0.194798   \n7                      gOHM                  20.000000   \n8                      gOHM                   2.252766   \n9                      gOHM                  13.520668   \n10                     gOHM                   0.020000   \n11                     gOHM                   0.168240   \n\n    transaction_asset_lastPriceUSD  transaction_amountUSD  \\\n0                      2838.193286           71148.084004   \n1                      2838.193286          183257.358356   \n2                      2838.193286          100991.276713   \n3                      2838.193286            2401.521741   \n4                      2838.193286             363.447391   \n5                      2838.193286           51919.381911   \n6                      2838.193286             510.055435   \n7                      2838.193286           51345.559733   \n8                      2838.193286            5812.081890   \n9                      2838.193286           34629.263098   \n10                     2838.193286              51.410624   \n11                     2838.193286             375.708151   \n\n               dateTime     calDate  \n0   2023-02-15 15:27:47  2023-02-15  \n1   2023-02-15 14:49:59  2023-02-15  \n2   2023-02-14 16:23:59  2023-02-14  \n3   2023-02-14 13:39:47  2023-02-14  \n4   2023-02-10 23:35:23  2023-02-10  \n5   2023-02-09 06:27:35  2023-02-09  \n6   2023-02-07 02:45:47  2023-02-07  \n7   2023-01-25 10:09:35  2023-01-25  \n8   2023-01-09 02:06:59  2023-01-09  \n9   2022-12-22 20:42:11  2022-12-22  \n10  2022-12-13 13:37:23  2022-12-13  \n11  2022-11-23 23:49:11  2022-11-23  ",
      "text/html": "<div>\n<style scoped>\n    .dataframe tbody tr th:only-of-type {\n        vertical-align: middle;\n    }\n\n    .dataframe tbody tr th {\n        vertical-align: top;\n    }\n\n    .dataframe thead th {\n        text-align: right;\n    }\n</style>\n<table border=\"1\" class=\"dataframe\">\n  <thead>\n    <tr style=\"text-align: right;\">\n      <th></th>\n      <th>event</th>\n      <th>transaction_hash</th>\n      <th>transaction_blockNumber</th>\n      <th>transaction_timestamp</th>\n      <th>transaction_account_id</th>\n      <th>transaction_market_id</th>\n      <th>transaction_asset_name</th>\n      <th>transaction_asset_symbol</th>\n      <th>transactionReadableAmount</th>\n      <th>transaction_asset_lastPriceUSD</th>\n      <th>transaction_amountUSD</th>\n      <th>dateTime</th>\n      <th>calDate</th>\n    </tr>\n  </thead>\n  <tbody>\n    <tr>\n      <th>0</th>\n      <td>withdraw</td>\n      <td>0xf4707edc29622f90030af624d1918ff5ae613cef90d8...</td>\n      <td>16635032</td>\n      <td>1676474867</td>\n      <td>0x0493bcca897a2248ae3cd4c66aea90dbfc7e13c6</td>\n      <td>0xc413dd03555f3eb29d834b482d386b2999dc2eb0</td>\n      <td>Governance OHM</td>\n      <td>gOHM</td>\n      <td>25.000039</td>\n      <td>2838.193286</td>\n      <td>71148.084004</td>\n      <td>2023-02-15 15:27:47</td>\n      <td>2023-02-15</td>\n    </tr>\n    <tr>\n      <th>1</th>\n      <td>withdraw</td>\n      <td>0x85b689883076aa92af0a2356f8e4084610578bb48590...</td>\n      <td>16634844</td>\n      <td>1676472599</td>\n      <td>0xb0399dac8f4d4100b49b2a7b3873481114229d18</td>\n      <td>0xc413dd03555f3eb29d834b482d386b2999dc2eb0</td>\n      <td>Governance OHM</td>\n      <td>gOHM</td>\n      <td>64.393035</td>\n      <td>2838.193286</td>\n      <td>183257.358356</td>\n      <td>2023-02-15 14:49:59</td>\n      <td>2023-02-15</td>\n    </tr>\n    <tr>\n      <th>2</th>\n      <td>withdraw</td>\n      <td>0xd931b79cfc34df088f325e8adde9122af7ad64a0ba30...</td>\n      <td>16628161</td>\n      <td>1676391839</td>\n      <td>0xb0399dac8f4d4100b49b2a7b3873481114229d18</td>\n      <td>0xc413dd03555f3eb29d834b482d386b2999dc2eb0</td>\n      <td>Governance OHM</td>\n      <td>gOHM</td>\n      <td>36.000000</td>\n      <td>2838.193286</td>\n      <td>100991.276713</td>\n      <td>2023-02-14 16:23:59</td>\n      <td>2023-02-14</td>\n    </tr>\n    <tr>\n      <th>3</th>\n      <td>withdraw</td>\n      <td>0xd4f7aeb47e1e07903a3e9298762bc164764fffb2f973...</td>\n      <td>16627341</td>\n      <td>1676381987</td>\n      <td>0xc0b1f200aa9546ce074397bed7438bb2ec033877</td>\n      <td>0xc413dd03555f3eb29d834b482d386b2999dc2eb0</td>\n      <td>Governance OHM</td>\n      <td>gOHM</td>\n      <td>0.883213</td>\n      <td>2838.193286</td>\n      <td>2401.521741</td>\n      <td>2023-02-14 13:39:47</td>\n      <td>2023-02-14</td>\n    </tr>\n    <tr>\n      <th>4</th>\n      <td>withdraw</td>\n      <td>0xc7193a2aa216c65fe82652e85b4adc20a60b274bd070...</td>\n      <td>16601676</td>\n      <td>1676072123</td>\n      <td>0xa7daeb7fc210f934508c8c7ce833a2cdd6630fb3</td>\n      <td>0xc413dd03555f3eb29d834b482d386b2999dc2eb0</td>\n      <td>Governance OHM</td>\n      <td>gOHM</td>\n      <td>0.137814</td>\n      <td>2838.193286</td>\n      <td>363.447391</td>\n      <td>2023-02-10 23:35:23</td>\n      <td>2023-02-10</td>\n    </tr>\n    <tr>\n      <th>5</th>\n      <td>withdraw</td>\n      <td>0xed87a5e09b9abe135be66d51493eca516d78aaf1d4d5...</td>\n      <td>16589407</td>\n      <td>1675924055</td>\n      <td>0xb0399dac8f4d4100b49b2a7b3873481114229d18</td>\n      <td>0xc413dd03555f3eb29d834b482d386b2999dc2eb0</td>\n      <td>Governance OHM</td>\n      <td>gOHM</td>\n      <td>19.607121</td>\n      <td>2838.193286</td>\n      <td>51919.381911</td>\n      <td>2023-02-09 06:27:35</td>\n      <td>2023-02-09</td>\n    </tr>\n    <tr>\n      <th>6</th>\n      <td>withdraw</td>\n      <td>0xcfa1e8a102e407470f7cc479576cceab5f872c1a1377...</td>\n      <td>16574012</td>\n      <td>1675737947</td>\n      <td>0xd3064611b24eba7a6dbcbc26c1b35dfee1170880</td>\n      <td>0xc413dd03555f3eb29d834b482d386b2999dc2eb0</td>\n      <td>Governance OHM</td>\n      <td>gOHM</td>\n      <td>0.194798</td>\n      <td>2838.193286</td>\n      <td>510.055435</td>\n      <td>2023-02-07 02:45:47</td>\n      <td>2023-02-07</td>\n    </tr>\n    <tr>\n      <th>7</th>\n      <td>withdraw</td>\n      <td>0xb8682e4d0d5fe1297f21ff66347debdfc75c3956612d...</td>\n      <td>16483146</td>\n      <td>1674641375</td>\n      <td>0xee1520f94f304e8d551cbf310fe214212e3ca34a</td>\n      <td>0xc413dd03555f3eb29d834b482d386b2999dc2eb0</td>\n      <td>Governance OHM</td>\n      <td>gOHM</td>\n      <td>20.000000</td>\n      <td>2838.193286</td>\n      <td>51345.559733</td>\n      <td>2023-01-25 10:09:35</td>\n      <td>2023-01-25</td>\n    </tr>\n    <tr>\n      <th>8</th>\n      <td>withdraw</td>\n      <td>0xcc9db9a7563b473c4b8e4ca0f4f7fb90ca709b022469...</td>\n      <td>16366146</td>\n      <td>1673230019</td>\n      <td>0x25fdda95197f804316f5ba8dbb66ac173ee19981</td>\n      <td>0xc413dd03555f3eb29d834b482d386b2999dc2eb0</td>\n      <td>Governance OHM</td>\n      <td>gOHM</td>\n      <td>2.252766</td>\n      <td>2838.193286</td>\n      <td>5812.081890</td>\n      <td>2023-01-09 02:06:59</td>\n      <td>2023-01-09</td>\n    </tr>\n    <tr>\n      <th>9</th>\n      <td>withdraw</td>\n      <td>0x7c24d04318da39f08c7ba4f8d413a487133ce1b1f117...</td>\n      <td>16242703</td>\n      <td>1671741731</td>\n      <td>0x96035b45bc0d22f0ed11283a91145fb001c48370</td>\n      <td>0xc413dd03555f3eb29d834b482d386b2999dc2eb0</td>\n      <td>Governance OHM</td>\n      <td>gOHM</td>\n      <td>13.520668</td>\n      <td>2838.193286</td>\n      <td>34629.263098</td>\n      <td>2022-12-22 20:42:11</td>\n      <td>2022-12-22</td>\n    </tr>\n    <tr>\n      <th>10</th>\n      <td>withdraw</td>\n      <td>0x3cf3a5658c3ef1a247ec241370a3abfeb673251eafec...</td>\n      <td>16176122</td>\n      <td>1670938643</td>\n      <td>0x791d1ec51d931186c1d4b80e753b7155dd98f741</td>\n      <td>0xc413dd03555f3eb29d834b482d386b2999dc2eb0</td>\n      <td>Governance OHM</td>\n      <td>gOHM</td>\n      <td>0.020000</td>\n      <td>2838.193286</td>\n      <td>51.410624</td>\n      <td>2022-12-13 13:37:23</td>\n      <td>2022-12-13</td>\n    </tr>\n    <tr>\n      <th>11</th>\n      <td>withdraw</td>\n      <td>0xbb87996c54ed5859d905c96b7b43212cdbc74b1c99aa...</td>\n      <td>16036062</td>\n      <td>1669247351</td>\n      <td>0x62a4a8f9f5f3aae9ee9cee780285a0d501c12d09</td>\n      <td>0xc413dd03555f3eb29d834b482d386b2999dc2eb0</td>\n      <td>Governance OHM</td>\n      <td>gOHM</td>\n      <td>0.168240</td>\n      <td>2838.193286</td>\n      <td>375.708151</td>\n      <td>2022-11-23 23:49:11</td>\n      <td>2022-11-23</td>\n    </tr>\n  </tbody>\n</table>\n</div>"
     },
     "execution_count": 23,
     "metadata": {},
     "output_type": "execute_result"
    }
   ],
   "source": [
    "oldSiloWithdrawsDb = pd.DataFrame()\n",
    "siloFileName = file+'/siloFinanceGohmWithdraws.csv'\n",
    "try:\n",
    "    oldSiloWithdrawsDb = pd.read_csv (siloFileName)\n",
    "except:\n",
    "    oldSiloWithdrawsDb = pd.DataFrame()\n",
    "oldSiloWithdrawsDb.head(100)"
   ],
   "metadata": {
    "collapsed": false
   }
  },
  {
   "cell_type": "code",
   "execution_count": 24,
   "outputs": [
    {
     "data": {
      "text/plain": "1676474866"
     },
     "execution_count": 24,
     "metadata": {},
     "output_type": "execute_result"
    }
   ],
   "source": [
    "maxSiloWithdrawsTimestamp = 0\n",
    "try:\n",
    "    maxSiloWithdrawsTimestamp = (max(0,oldSiloWithdrawsDb['transaction_timestamp'].max()))-1\n",
    "except:\n",
    "        maxSiloWithdrawsTimestamp = 0\n",
    "maxSiloWithdrawsTimestamp = int(maxSiloWithdrawsTimestamp)\n",
    "maxSiloWithdrawsTimestamp"
   ],
   "metadata": {
    "collapsed": false
   }
  },
  {
   "cell_type": "code",
   "execution_count": 25,
   "outputs": [
    {
     "name": "stdout",
     "output_type": "stream",
     "text": [
      "iterations:  0 Lines skipped:  0 records collected:  42  - latest recordID:  0xab801d85bf2eda4b0e198678991805292ea062413e39e1acaece27c107755deb   0xab801d85bf2eda4b0e198678991805292ea062413e39e1acaece27c107755deb-222  - withdraws DB length:  42  - latest record from:  2023-02-26 02:44:47 1 days ago\n",
      "Done. Total Records collected:  42\n"
     ]
    }
   ],
   "source": [
    "##this captures the ENTIRE list of people who withdrawed OHM\n",
    "withdrawTicker = 0\n",
    "withdrawslist = pd.DataFrame()\n",
    "siloWithdrawsDb = pd.DataFrame()\n",
    "withdrawListLength = 1000\n",
    "datediff = 0\n",
    "now=0\n",
    "daysAgo=0\n",
    "#daysLimit = 45\n",
    "exit = False\n",
    "while exit==False:\n",
    "    skipValue = (withdrawTicker)*(1000)\n",
    "    withdraws = silo.Query.withdraws(\n",
    "        orderBy='timestamp',\n",
    "        orderDirection='desc',\n",
    "        first=1000,\n",
    "        skip = skipValue,\n",
    "        where={ 'market': '0xc413dd03555f3eb29d834b482d386b2999dc2eb0'\n",
    "                ,'timestamp_gte': maxSiloWithdrawsTimestamp\n",
    "                } #gOHM market\n",
    "    )\n",
    "\n",
    "    withdrawslist = sg.query_df([\n",
    "        withdraws.id\n",
    "        ,withdraws.hash\n",
    "        ,withdraws.blockNumber\n",
    "        ,withdraws.timestamp\n",
    "        ,withdraws.account.id\n",
    "        ,withdraws.market.id\n",
    "        ,withdraws.market.protocol.id\n",
    "        ,withdraws.market.rates.rate\n",
    "        ,withdraws.market.rates.duration\n",
    "        ,withdraws.market.rates.side\n",
    "        ,withdraws.market.rates.type\n",
    "        ,withdraws.market.rates.token.id\n",
    "        ,withdraws.asset.name\n",
    "        ,withdraws.asset.symbol\n",
    "        ,withdraws.asset.decimals\n",
    "        ,withdraws.asset.lastPriceUSD\n",
    "        ,withdraws.amount\n",
    "        ,withdraws.amountUSD\n",
    "    ])\n",
    "\n",
    "    siloWithdrawsDb=pd.concat([siloWithdrawsDb, withdrawslist])\n",
    "    recordTimestamp1 = siloWithdrawsDb.iat[withdrawTicker,3]\n",
    "    recordTimestamp = dt.datetime.fromtimestamp( recordTimestamp1 )\n",
    "    now = (int(dt.datetime.utcnow().timestamp()))\n",
    "    datediff=abs(int(now) - recordTimestamp1)\n",
    "    daysAgo = int(datediff/86400)\n",
    "    silowithdrawsDbLength = len(siloWithdrawsDb)\n",
    "    silowithdrawListLength = len(withdrawslist)\n",
    "    recordID = siloWithdrawsDb.iat[withdrawTicker,0]\n",
    "    withdraw = siloWithdrawsDb.iat[withdrawTicker,1]\n",
    "    print(\"iterations: \", withdrawTicker, \"Lines skipped: \",skipValue, \"records collected: \", silowithdrawListLength, \" - latest recordID: \",withdraw, \" \", recordID , \" - withdraws DB length: \", silowithdrawsDbLength, \" - latest record from: \", recordTimestamp, daysAgo,\"days ago\")\n",
    "    #print(\"iterations: \", withdrawTicker, \"records collected: \", withdrawListLength, \" - userdb length: \", withdrawsDbLength)\n",
    "    withdrawTicker = withdrawTicker+1\n",
    "\n",
    "    if daysAgo>daysLimit: exit =True\n",
    "    if silowithdrawListLength<1000: exit =True\n",
    "\n",
    "siloWithdrawsDb.columns = siloWithdrawsDb.columns.str.replace(\"withdraws\", \"transaction\")\n",
    "siloWithdrawsDb['event']='withdraw'\n",
    "siloWithdrawsDb.drop_duplicates\n",
    "print(\"Done. Total Records collected: \", silowithdrawsDbLength)"
   ],
   "metadata": {
    "collapsed": false
   }
  },
  {
   "cell_type": "code",
   "execution_count": 26,
   "outputs": [
    {
     "data": {
      "text/plain": "                                       transaction_id  \\\n0   0xab801d85bf2eda4b0e198678991805292ea062413e39...   \n1   0xab801d85bf2eda4b0e198678991805292ea062413e39...   \n2   0xab801d85bf2eda4b0e198678991805292ea062413e39...   \n6   0xb4d1f10a88462b4f8e0c10ce406c209b909d6661cc14...   \n7   0xb4d1f10a88462b4f8e0c10ce406c209b909d6661cc14...   \n8   0xb4d1f10a88462b4f8e0c10ce406c209b909d6661cc14...   \n12  0x8d78cb38f2bd316df301e67a0a64272156228c708266...   \n13  0x8d78cb38f2bd316df301e67a0a64272156228c708266...   \n14  0x8d78cb38f2bd316df301e67a0a64272156228c708266...   \n18  0x0c1c1115c9b4c20a85fcff86abd0652ce80300c57c06...   \n19  0x0c1c1115c9b4c20a85fcff86abd0652ce80300c57c06...   \n20  0x0c1c1115c9b4c20a85fcff86abd0652ce80300c57c06...   \n36  0xf4707edc29622f90030af624d1918ff5ae613cef90d8...   \n37  0xf4707edc29622f90030af624d1918ff5ae613cef90d8...   \n38  0xf4707edc29622f90030af624d1918ff5ae613cef90d8...   \n\n                                     transaction_hash  \\\n0   0xab801d85bf2eda4b0e198678991805292ea062413e39...   \n1   0xab801d85bf2eda4b0e198678991805292ea062413e39...   \n2   0xab801d85bf2eda4b0e198678991805292ea062413e39...   \n6   0xb4d1f10a88462b4f8e0c10ce406c209b909d6661cc14...   \n7   0xb4d1f10a88462b4f8e0c10ce406c209b909d6661cc14...   \n8   0xb4d1f10a88462b4f8e0c10ce406c209b909d6661cc14...   \n12  0x8d78cb38f2bd316df301e67a0a64272156228c708266...   \n13  0x8d78cb38f2bd316df301e67a0a64272156228c708266...   \n14  0x8d78cb38f2bd316df301e67a0a64272156228c708266...   \n18  0x0c1c1115c9b4c20a85fcff86abd0652ce80300c57c06...   \n19  0x0c1c1115c9b4c20a85fcff86abd0652ce80300c57c06...   \n20  0x0c1c1115c9b4c20a85fcff86abd0652ce80300c57c06...   \n36  0xf4707edc29622f90030af624d1918ff5ae613cef90d8...   \n37  0xf4707edc29622f90030af624d1918ff5ae613cef90d8...   \n38  0xf4707edc29622f90030af624d1918ff5ae613cef90d8...   \n\n    transaction_blockNumber  transaction_timestamp  \\\n0                  16711899             1677408287   \n1                  16711899             1677408287   \n2                  16711899             1677408287   \n6                  16711629             1677405035   \n7                  16711629             1677405035   \n8                  16711629             1677405035   \n12                 16706550             1677343367   \n13                 16706550             1677343367   \n14                 16706550             1677343367   \n18                 16699188             1677253775   \n19                 16699188             1677253775   \n20                 16699188             1677253775   \n36                 16635032             1676474867   \n37                 16635032             1676474867   \n38                 16635032             1676474867   \n\n                        transaction_account_id  \\\n0   0x1ba67f30e25fc43863b50047d7fd4bd63b9c59ec   \n1   0x1ba67f30e25fc43863b50047d7fd4bd63b9c59ec   \n2   0x1ba67f30e25fc43863b50047d7fd4bd63b9c59ec   \n6   0x44504ba8d43b30e882503948654e247b928bcc7f   \n7   0x44504ba8d43b30e882503948654e247b928bcc7f   \n8   0x44504ba8d43b30e882503948654e247b928bcc7f   \n12  0x51bc3dd10a9ee4946f961038cf5d50057e49eb77   \n13  0x51bc3dd10a9ee4946f961038cf5d50057e49eb77   \n14  0x51bc3dd10a9ee4946f961038cf5d50057e49eb77   \n18  0xb0399dac8f4d4100b49b2a7b3873481114229d18   \n19  0xb0399dac8f4d4100b49b2a7b3873481114229d18   \n20  0xb0399dac8f4d4100b49b2a7b3873481114229d18   \n36  0x0493bcca897a2248ae3cd4c66aea90dbfc7e13c6   \n37  0x0493bcca897a2248ae3cd4c66aea90dbfc7e13c6   \n38  0x0493bcca897a2248ae3cd4c66aea90dbfc7e13c6   \n\n                         transaction_market_id  \\\n0   0xc413dd03555f3eb29d834b482d386b2999dc2eb0   \n1   0xc413dd03555f3eb29d834b482d386b2999dc2eb0   \n2   0xc413dd03555f3eb29d834b482d386b2999dc2eb0   \n6   0xc413dd03555f3eb29d834b482d386b2999dc2eb0   \n7   0xc413dd03555f3eb29d834b482d386b2999dc2eb0   \n8   0xc413dd03555f3eb29d834b482d386b2999dc2eb0   \n12  0xc413dd03555f3eb29d834b482d386b2999dc2eb0   \n13  0xc413dd03555f3eb29d834b482d386b2999dc2eb0   \n14  0xc413dd03555f3eb29d834b482d386b2999dc2eb0   \n18  0xc413dd03555f3eb29d834b482d386b2999dc2eb0   \n19  0xc413dd03555f3eb29d834b482d386b2999dc2eb0   \n20  0xc413dd03555f3eb29d834b482d386b2999dc2eb0   \n36  0xc413dd03555f3eb29d834b482d386b2999dc2eb0   \n37  0xc413dd03555f3eb29d834b482d386b2999dc2eb0   \n38  0xc413dd03555f3eb29d834b482d386b2999dc2eb0   \n\n                transaction_market_protocol_id  transaction_market_rates_rate  \\\n0   0xd998c35b7900b344bbbe6555cc11576942cf309d                       0.000000   \n1   0xd998c35b7900b344bbbe6555cc11576942cf309d                      29.269396   \n2   0xd998c35b7900b344bbbe6555cc11576942cf309d                       5.858009   \n6   0xd998c35b7900b344bbbe6555cc11576942cf309d                       0.000000   \n7   0xd998c35b7900b344bbbe6555cc11576942cf309d                      29.269396   \n8   0xd998c35b7900b344bbbe6555cc11576942cf309d                       5.858009   \n12  0xd998c35b7900b344bbbe6555cc11576942cf309d                       0.000000   \n13  0xd998c35b7900b344bbbe6555cc11576942cf309d                      29.269396   \n14  0xd998c35b7900b344bbbe6555cc11576942cf309d                       5.858009   \n18  0xd998c35b7900b344bbbe6555cc11576942cf309d                       0.000000   \n19  0xd998c35b7900b344bbbe6555cc11576942cf309d                      29.269396   \n20  0xd998c35b7900b344bbbe6555cc11576942cf309d                       5.858009   \n36  0xd998c35b7900b344bbbe6555cc11576942cf309d                       0.000000   \n37  0xd998c35b7900b344bbbe6555cc11576942cf309d                      29.269396   \n38  0xd998c35b7900b344bbbe6555cc11576942cf309d                       5.858009   \n\n   transaction_market_rates_duration transaction_market_rates_side  ...  \\\n0                               None                      BORROWER  ...   \n1                               None                      BORROWER  ...   \n2                               None                      BORROWER  ...   \n6                               None                      BORROWER  ...   \n7                               None                      BORROWER  ...   \n8                               None                      BORROWER  ...   \n12                              None                      BORROWER  ...   \n13                              None                      BORROWER  ...   \n14                              None                      BORROWER  ...   \n18                              None                      BORROWER  ...   \n19                              None                      BORROWER  ...   \n20                              None                      BORROWER  ...   \n36                              None                      BORROWER  ...   \n37                              None                      BORROWER  ...   \n38                              None                      BORROWER  ...   \n\n             transaction_market_rates_token_id transaction_asset_name  \\\n0   0x0ab87046fbb341d058f17cbc4c1133f25a20a52f         Governance OHM   \n1   0xc02aaa39b223fe8d0a0e5c4f27ead9083c756cc2         Governance OHM   \n2   0xd7c9f0e536dc865ae858b0c0453fe76d13c3beac         Governance OHM   \n6   0x0ab87046fbb341d058f17cbc4c1133f25a20a52f         Governance OHM   \n7   0xc02aaa39b223fe8d0a0e5c4f27ead9083c756cc2         Governance OHM   \n8   0xd7c9f0e536dc865ae858b0c0453fe76d13c3beac         Governance OHM   \n12  0x0ab87046fbb341d058f17cbc4c1133f25a20a52f         Governance OHM   \n13  0xc02aaa39b223fe8d0a0e5c4f27ead9083c756cc2         Governance OHM   \n14  0xd7c9f0e536dc865ae858b0c0453fe76d13c3beac         Governance OHM   \n18  0x0ab87046fbb341d058f17cbc4c1133f25a20a52f         Governance OHM   \n19  0xc02aaa39b223fe8d0a0e5c4f27ead9083c756cc2         Governance OHM   \n20  0xd7c9f0e536dc865ae858b0c0453fe76d13c3beac         Governance OHM   \n36  0x0ab87046fbb341d058f17cbc4c1133f25a20a52f         Governance OHM   \n37  0xc02aaa39b223fe8d0a0e5c4f27ead9083c756cc2         Governance OHM   \n38  0xd7c9f0e536dc865ae858b0c0453fe76d13c3beac         Governance OHM   \n\n   transaction_asset_symbol transaction_asset_decimals  \\\n0                      gOHM                         18   \n1                      gOHM                         18   \n2                      gOHM                         18   \n6                      gOHM                         18   \n7                      gOHM                         18   \n8                      gOHM                         18   \n12                     gOHM                         18   \n13                     gOHM                         18   \n14                     gOHM                         18   \n18                     gOHM                         18   \n19                     gOHM                         18   \n20                     gOHM                         18   \n36                     gOHM                         18   \n37                     gOHM                         18   \n38                     gOHM                         18   \n\n    transaction_asset_lastPriceUSD    transaction_amount  \\\n0                      2706.113816   8000012422410633960   \n1                      2706.113816   8000012422410633960   \n2                      2706.113816   8000012422410633960   \n6                      2706.113816    500000776400664622   \n7                      2706.113816    500000776400664622   \n8                      2706.113816    500000776400664622   \n12                     2706.113816   9990015512485279153   \n13                     2706.113816   9990015512485279153   \n14                     2706.113816   9990015512485279153   \n18                     2706.113816  27205735276205638187   \n19                     2706.113816  27205735276205638187   \n20                     2706.113816  27205735276205638187   \n36                     2706.113816  25000038820033231117   \n37                     2706.113816  25000038820033231117   \n38                     2706.113816  25000038820033231117   \n\n   transaction_amountUSD     event transactionReadableAmount  \\\n0           21812.764574  withdraw                  8.000012   \n1           21812.764574  withdraw                  8.000012   \n2           21812.764574  withdraw                  8.000012   \n6            1363.297786  withdraw                  0.500001   \n7            1363.297786  withdraw                  0.500001   \n8            1363.297786  withdraw                  0.500001   \n12          27306.929822  withdraw                  9.990016   \n13          27306.929822  withdraw                  9.990016   \n14          27306.929822  withdraw                  9.990016   \n18          72544.546592  withdraw                 27.205735   \n19          72544.546592  withdraw                 27.205735   \n20          72544.546592  withdraw                 27.205735   \n36          71148.084004  withdraw                 25.000039   \n37          71148.084004  withdraw                 25.000039   \n38          71148.084004  withdraw                 25.000039   \n\n              dateTime  \n0  2023-02-26 10:44:47  \n1  2023-02-26 10:44:47  \n2  2023-02-26 10:44:47  \n6  2023-02-26 09:50:35  \n7  2023-02-26 09:50:35  \n8  2023-02-26 09:50:35  \n12 2023-02-25 16:42:47  \n13 2023-02-25 16:42:47  \n14 2023-02-25 16:42:47  \n18 2023-02-24 15:49:35  \n19 2023-02-24 15:49:35  \n20 2023-02-24 15:49:35  \n36 2023-02-15 15:27:47  \n37 2023-02-15 15:27:47  \n38 2023-02-15 15:27:47  \n\n[15 rows x 21 columns]",
      "text/html": "<div>\n<style scoped>\n    .dataframe tbody tr th:only-of-type {\n        vertical-align: middle;\n    }\n\n    .dataframe tbody tr th {\n        vertical-align: top;\n    }\n\n    .dataframe thead th {\n        text-align: right;\n    }\n</style>\n<table border=\"1\" class=\"dataframe\">\n  <thead>\n    <tr style=\"text-align: right;\">\n      <th></th>\n      <th>transaction_id</th>\n      <th>transaction_hash</th>\n      <th>transaction_blockNumber</th>\n      <th>transaction_timestamp</th>\n      <th>transaction_account_id</th>\n      <th>transaction_market_id</th>\n      <th>transaction_market_protocol_id</th>\n      <th>transaction_market_rates_rate</th>\n      <th>transaction_market_rates_duration</th>\n      <th>transaction_market_rates_side</th>\n      <th>...</th>\n      <th>transaction_market_rates_token_id</th>\n      <th>transaction_asset_name</th>\n      <th>transaction_asset_symbol</th>\n      <th>transaction_asset_decimals</th>\n      <th>transaction_asset_lastPriceUSD</th>\n      <th>transaction_amount</th>\n      <th>transaction_amountUSD</th>\n      <th>event</th>\n      <th>transactionReadableAmount</th>\n      <th>dateTime</th>\n    </tr>\n  </thead>\n  <tbody>\n    <tr>\n      <th>0</th>\n      <td>0xab801d85bf2eda4b0e198678991805292ea062413e39...</td>\n      <td>0xab801d85bf2eda4b0e198678991805292ea062413e39...</td>\n      <td>16711899</td>\n      <td>1677408287</td>\n      <td>0x1ba67f30e25fc43863b50047d7fd4bd63b9c59ec</td>\n      <td>0xc413dd03555f3eb29d834b482d386b2999dc2eb0</td>\n      <td>0xd998c35b7900b344bbbe6555cc11576942cf309d</td>\n      <td>0.000000</td>\n      <td>None</td>\n      <td>BORROWER</td>\n      <td>...</td>\n      <td>0x0ab87046fbb341d058f17cbc4c1133f25a20a52f</td>\n      <td>Governance OHM</td>\n      <td>gOHM</td>\n      <td>18</td>\n      <td>2706.113816</td>\n      <td>8000012422410633960</td>\n      <td>21812.764574</td>\n      <td>withdraw</td>\n      <td>8.000012</td>\n      <td>2023-02-26 10:44:47</td>\n    </tr>\n    <tr>\n      <th>1</th>\n      <td>0xab801d85bf2eda4b0e198678991805292ea062413e39...</td>\n      <td>0xab801d85bf2eda4b0e198678991805292ea062413e39...</td>\n      <td>16711899</td>\n      <td>1677408287</td>\n      <td>0x1ba67f30e25fc43863b50047d7fd4bd63b9c59ec</td>\n      <td>0xc413dd03555f3eb29d834b482d386b2999dc2eb0</td>\n      <td>0xd998c35b7900b344bbbe6555cc11576942cf309d</td>\n      <td>29.269396</td>\n      <td>None</td>\n      <td>BORROWER</td>\n      <td>...</td>\n      <td>0xc02aaa39b223fe8d0a0e5c4f27ead9083c756cc2</td>\n      <td>Governance OHM</td>\n      <td>gOHM</td>\n      <td>18</td>\n      <td>2706.113816</td>\n      <td>8000012422410633960</td>\n      <td>21812.764574</td>\n      <td>withdraw</td>\n      <td>8.000012</td>\n      <td>2023-02-26 10:44:47</td>\n    </tr>\n    <tr>\n      <th>2</th>\n      <td>0xab801d85bf2eda4b0e198678991805292ea062413e39...</td>\n      <td>0xab801d85bf2eda4b0e198678991805292ea062413e39...</td>\n      <td>16711899</td>\n      <td>1677408287</td>\n      <td>0x1ba67f30e25fc43863b50047d7fd4bd63b9c59ec</td>\n      <td>0xc413dd03555f3eb29d834b482d386b2999dc2eb0</td>\n      <td>0xd998c35b7900b344bbbe6555cc11576942cf309d</td>\n      <td>5.858009</td>\n      <td>None</td>\n      <td>BORROWER</td>\n      <td>...</td>\n      <td>0xd7c9f0e536dc865ae858b0c0453fe76d13c3beac</td>\n      <td>Governance OHM</td>\n      <td>gOHM</td>\n      <td>18</td>\n      <td>2706.113816</td>\n      <td>8000012422410633960</td>\n      <td>21812.764574</td>\n      <td>withdraw</td>\n      <td>8.000012</td>\n      <td>2023-02-26 10:44:47</td>\n    </tr>\n    <tr>\n      <th>6</th>\n      <td>0xb4d1f10a88462b4f8e0c10ce406c209b909d6661cc14...</td>\n      <td>0xb4d1f10a88462b4f8e0c10ce406c209b909d6661cc14...</td>\n      <td>16711629</td>\n      <td>1677405035</td>\n      <td>0x44504ba8d43b30e882503948654e247b928bcc7f</td>\n      <td>0xc413dd03555f3eb29d834b482d386b2999dc2eb0</td>\n      <td>0xd998c35b7900b344bbbe6555cc11576942cf309d</td>\n      <td>0.000000</td>\n      <td>None</td>\n      <td>BORROWER</td>\n      <td>...</td>\n      <td>0x0ab87046fbb341d058f17cbc4c1133f25a20a52f</td>\n      <td>Governance OHM</td>\n      <td>gOHM</td>\n      <td>18</td>\n      <td>2706.113816</td>\n      <td>500000776400664622</td>\n      <td>1363.297786</td>\n      <td>withdraw</td>\n      <td>0.500001</td>\n      <td>2023-02-26 09:50:35</td>\n    </tr>\n    <tr>\n      <th>7</th>\n      <td>0xb4d1f10a88462b4f8e0c10ce406c209b909d6661cc14...</td>\n      <td>0xb4d1f10a88462b4f8e0c10ce406c209b909d6661cc14...</td>\n      <td>16711629</td>\n      <td>1677405035</td>\n      <td>0x44504ba8d43b30e882503948654e247b928bcc7f</td>\n      <td>0xc413dd03555f3eb29d834b482d386b2999dc2eb0</td>\n      <td>0xd998c35b7900b344bbbe6555cc11576942cf309d</td>\n      <td>29.269396</td>\n      <td>None</td>\n      <td>BORROWER</td>\n      <td>...</td>\n      <td>0xc02aaa39b223fe8d0a0e5c4f27ead9083c756cc2</td>\n      <td>Governance OHM</td>\n      <td>gOHM</td>\n      <td>18</td>\n      <td>2706.113816</td>\n      <td>500000776400664622</td>\n      <td>1363.297786</td>\n      <td>withdraw</td>\n      <td>0.500001</td>\n      <td>2023-02-26 09:50:35</td>\n    </tr>\n    <tr>\n      <th>8</th>\n      <td>0xb4d1f10a88462b4f8e0c10ce406c209b909d6661cc14...</td>\n      <td>0xb4d1f10a88462b4f8e0c10ce406c209b909d6661cc14...</td>\n      <td>16711629</td>\n      <td>1677405035</td>\n      <td>0x44504ba8d43b30e882503948654e247b928bcc7f</td>\n      <td>0xc413dd03555f3eb29d834b482d386b2999dc2eb0</td>\n      <td>0xd998c35b7900b344bbbe6555cc11576942cf309d</td>\n      <td>5.858009</td>\n      <td>None</td>\n      <td>BORROWER</td>\n      <td>...</td>\n      <td>0xd7c9f0e536dc865ae858b0c0453fe76d13c3beac</td>\n      <td>Governance OHM</td>\n      <td>gOHM</td>\n      <td>18</td>\n      <td>2706.113816</td>\n      <td>500000776400664622</td>\n      <td>1363.297786</td>\n      <td>withdraw</td>\n      <td>0.500001</td>\n      <td>2023-02-26 09:50:35</td>\n    </tr>\n    <tr>\n      <th>12</th>\n      <td>0x8d78cb38f2bd316df301e67a0a64272156228c708266...</td>\n      <td>0x8d78cb38f2bd316df301e67a0a64272156228c708266...</td>\n      <td>16706550</td>\n      <td>1677343367</td>\n      <td>0x51bc3dd10a9ee4946f961038cf5d50057e49eb77</td>\n      <td>0xc413dd03555f3eb29d834b482d386b2999dc2eb0</td>\n      <td>0xd998c35b7900b344bbbe6555cc11576942cf309d</td>\n      <td>0.000000</td>\n      <td>None</td>\n      <td>BORROWER</td>\n      <td>...</td>\n      <td>0x0ab87046fbb341d058f17cbc4c1133f25a20a52f</td>\n      <td>Governance OHM</td>\n      <td>gOHM</td>\n      <td>18</td>\n      <td>2706.113816</td>\n      <td>9990015512485279153</td>\n      <td>27306.929822</td>\n      <td>withdraw</td>\n      <td>9.990016</td>\n      <td>2023-02-25 16:42:47</td>\n    </tr>\n    <tr>\n      <th>13</th>\n      <td>0x8d78cb38f2bd316df301e67a0a64272156228c708266...</td>\n      <td>0x8d78cb38f2bd316df301e67a0a64272156228c708266...</td>\n      <td>16706550</td>\n      <td>1677343367</td>\n      <td>0x51bc3dd10a9ee4946f961038cf5d50057e49eb77</td>\n      <td>0xc413dd03555f3eb29d834b482d386b2999dc2eb0</td>\n      <td>0xd998c35b7900b344bbbe6555cc11576942cf309d</td>\n      <td>29.269396</td>\n      <td>None</td>\n      <td>BORROWER</td>\n      <td>...</td>\n      <td>0xc02aaa39b223fe8d0a0e5c4f27ead9083c756cc2</td>\n      <td>Governance OHM</td>\n      <td>gOHM</td>\n      <td>18</td>\n      <td>2706.113816</td>\n      <td>9990015512485279153</td>\n      <td>27306.929822</td>\n      <td>withdraw</td>\n      <td>9.990016</td>\n      <td>2023-02-25 16:42:47</td>\n    </tr>\n    <tr>\n      <th>14</th>\n      <td>0x8d78cb38f2bd316df301e67a0a64272156228c708266...</td>\n      <td>0x8d78cb38f2bd316df301e67a0a64272156228c708266...</td>\n      <td>16706550</td>\n      <td>1677343367</td>\n      <td>0x51bc3dd10a9ee4946f961038cf5d50057e49eb77</td>\n      <td>0xc413dd03555f3eb29d834b482d386b2999dc2eb0</td>\n      <td>0xd998c35b7900b344bbbe6555cc11576942cf309d</td>\n      <td>5.858009</td>\n      <td>None</td>\n      <td>BORROWER</td>\n      <td>...</td>\n      <td>0xd7c9f0e536dc865ae858b0c0453fe76d13c3beac</td>\n      <td>Governance OHM</td>\n      <td>gOHM</td>\n      <td>18</td>\n      <td>2706.113816</td>\n      <td>9990015512485279153</td>\n      <td>27306.929822</td>\n      <td>withdraw</td>\n      <td>9.990016</td>\n      <td>2023-02-25 16:42:47</td>\n    </tr>\n    <tr>\n      <th>18</th>\n      <td>0x0c1c1115c9b4c20a85fcff86abd0652ce80300c57c06...</td>\n      <td>0x0c1c1115c9b4c20a85fcff86abd0652ce80300c57c06...</td>\n      <td>16699188</td>\n      <td>1677253775</td>\n      <td>0xb0399dac8f4d4100b49b2a7b3873481114229d18</td>\n      <td>0xc413dd03555f3eb29d834b482d386b2999dc2eb0</td>\n      <td>0xd998c35b7900b344bbbe6555cc11576942cf309d</td>\n      <td>0.000000</td>\n      <td>None</td>\n      <td>BORROWER</td>\n      <td>...</td>\n      <td>0x0ab87046fbb341d058f17cbc4c1133f25a20a52f</td>\n      <td>Governance OHM</td>\n      <td>gOHM</td>\n      <td>18</td>\n      <td>2706.113816</td>\n      <td>27205735276205638187</td>\n      <td>72544.546592</td>\n      <td>withdraw</td>\n      <td>27.205735</td>\n      <td>2023-02-24 15:49:35</td>\n    </tr>\n    <tr>\n      <th>19</th>\n      <td>0x0c1c1115c9b4c20a85fcff86abd0652ce80300c57c06...</td>\n      <td>0x0c1c1115c9b4c20a85fcff86abd0652ce80300c57c06...</td>\n      <td>16699188</td>\n      <td>1677253775</td>\n      <td>0xb0399dac8f4d4100b49b2a7b3873481114229d18</td>\n      <td>0xc413dd03555f3eb29d834b482d386b2999dc2eb0</td>\n      <td>0xd998c35b7900b344bbbe6555cc11576942cf309d</td>\n      <td>29.269396</td>\n      <td>None</td>\n      <td>BORROWER</td>\n      <td>...</td>\n      <td>0xc02aaa39b223fe8d0a0e5c4f27ead9083c756cc2</td>\n      <td>Governance OHM</td>\n      <td>gOHM</td>\n      <td>18</td>\n      <td>2706.113816</td>\n      <td>27205735276205638187</td>\n      <td>72544.546592</td>\n      <td>withdraw</td>\n      <td>27.205735</td>\n      <td>2023-02-24 15:49:35</td>\n    </tr>\n    <tr>\n      <th>20</th>\n      <td>0x0c1c1115c9b4c20a85fcff86abd0652ce80300c57c06...</td>\n      <td>0x0c1c1115c9b4c20a85fcff86abd0652ce80300c57c06...</td>\n      <td>16699188</td>\n      <td>1677253775</td>\n      <td>0xb0399dac8f4d4100b49b2a7b3873481114229d18</td>\n      <td>0xc413dd03555f3eb29d834b482d386b2999dc2eb0</td>\n      <td>0xd998c35b7900b344bbbe6555cc11576942cf309d</td>\n      <td>5.858009</td>\n      <td>None</td>\n      <td>BORROWER</td>\n      <td>...</td>\n      <td>0xd7c9f0e536dc865ae858b0c0453fe76d13c3beac</td>\n      <td>Governance OHM</td>\n      <td>gOHM</td>\n      <td>18</td>\n      <td>2706.113816</td>\n      <td>27205735276205638187</td>\n      <td>72544.546592</td>\n      <td>withdraw</td>\n      <td>27.205735</td>\n      <td>2023-02-24 15:49:35</td>\n    </tr>\n    <tr>\n      <th>36</th>\n      <td>0xf4707edc29622f90030af624d1918ff5ae613cef90d8...</td>\n      <td>0xf4707edc29622f90030af624d1918ff5ae613cef90d8...</td>\n      <td>16635032</td>\n      <td>1676474867</td>\n      <td>0x0493bcca897a2248ae3cd4c66aea90dbfc7e13c6</td>\n      <td>0xc413dd03555f3eb29d834b482d386b2999dc2eb0</td>\n      <td>0xd998c35b7900b344bbbe6555cc11576942cf309d</td>\n      <td>0.000000</td>\n      <td>None</td>\n      <td>BORROWER</td>\n      <td>...</td>\n      <td>0x0ab87046fbb341d058f17cbc4c1133f25a20a52f</td>\n      <td>Governance OHM</td>\n      <td>gOHM</td>\n      <td>18</td>\n      <td>2706.113816</td>\n      <td>25000038820033231117</td>\n      <td>71148.084004</td>\n      <td>withdraw</td>\n      <td>25.000039</td>\n      <td>2023-02-15 15:27:47</td>\n    </tr>\n    <tr>\n      <th>37</th>\n      <td>0xf4707edc29622f90030af624d1918ff5ae613cef90d8...</td>\n      <td>0xf4707edc29622f90030af624d1918ff5ae613cef90d8...</td>\n      <td>16635032</td>\n      <td>1676474867</td>\n      <td>0x0493bcca897a2248ae3cd4c66aea90dbfc7e13c6</td>\n      <td>0xc413dd03555f3eb29d834b482d386b2999dc2eb0</td>\n      <td>0xd998c35b7900b344bbbe6555cc11576942cf309d</td>\n      <td>29.269396</td>\n      <td>None</td>\n      <td>BORROWER</td>\n      <td>...</td>\n      <td>0xc02aaa39b223fe8d0a0e5c4f27ead9083c756cc2</td>\n      <td>Governance OHM</td>\n      <td>gOHM</td>\n      <td>18</td>\n      <td>2706.113816</td>\n      <td>25000038820033231117</td>\n      <td>71148.084004</td>\n      <td>withdraw</td>\n      <td>25.000039</td>\n      <td>2023-02-15 15:27:47</td>\n    </tr>\n    <tr>\n      <th>38</th>\n      <td>0xf4707edc29622f90030af624d1918ff5ae613cef90d8...</td>\n      <td>0xf4707edc29622f90030af624d1918ff5ae613cef90d8...</td>\n      <td>16635032</td>\n      <td>1676474867</td>\n      <td>0x0493bcca897a2248ae3cd4c66aea90dbfc7e13c6</td>\n      <td>0xc413dd03555f3eb29d834b482d386b2999dc2eb0</td>\n      <td>0xd998c35b7900b344bbbe6555cc11576942cf309d</td>\n      <td>5.858009</td>\n      <td>None</td>\n      <td>BORROWER</td>\n      <td>...</td>\n      <td>0xd7c9f0e536dc865ae858b0c0453fe76d13c3beac</td>\n      <td>Governance OHM</td>\n      <td>gOHM</td>\n      <td>18</td>\n      <td>2706.113816</td>\n      <td>25000038820033231117</td>\n      <td>71148.084004</td>\n      <td>withdraw</td>\n      <td>25.000039</td>\n      <td>2023-02-15 15:27:47</td>\n    </tr>\n  </tbody>\n</table>\n<p>15 rows × 21 columns</p>\n</div>"
     },
     "execution_count": 26,
     "metadata": {},
     "output_type": "execute_result"
    }
   ],
   "source": [
    "siloWithdrawEventsDbTimedClean = pd.DataFrame()\n",
    "siloWithdrawsDb['transactionReadableAmount'] = siloWithdrawsDb['transaction_amount']/(10**(siloWithdrawsDb['transaction_asset_decimals']))\n",
    "siloWithdrawsDb['transactionReadableAmount']=siloWithdrawsDb['transactionReadableAmount'].astype('float')\n",
    "siloWithdrawsDb['dateTime'] =(pd.to_datetime(siloWithdrawsDb['transaction_timestamp'],unit='s'))\n",
    "\n",
    "#we only want withdrawals in GOHM from those that borrowed, so drop anyone that is not on that side\n",
    "siloWithdrawsDb.drop(siloWithdrawsDb.loc[siloWithdrawsDb['transaction_market_rates_side']!='BORROWER'].index, inplace=True)\n",
    "siloWithdrawsDb.drop(siloWithdrawsDb.loc[siloWithdrawsDb['transaction_asset_symbol']!='gOHM'].index, inplace=True)\n",
    "\n",
    "siloWithdrawEventsDbTimedClean = siloWithdrawsDb[['event','transaction_hash','transaction_blockNumber','transaction_timestamp','transaction_account_id','transaction_market_id','transaction_asset_name','transaction_asset_symbol', 'transactionReadableAmount','transaction_asset_lastPriceUSD','transaction_amountUSD','dateTime']].copy()\n",
    "siloWithdrawEventsDbTimedClean.sort_values(by=['event','transaction_hash','transaction_blockNumber','transaction_timestamp','transaction_account_id','transaction_market_id','transaction_asset_name','transaction_asset_symbol', 'transactionReadableAmount','transaction_asset_lastPriceUSD','transaction_amountUSD','dateTime'])\n",
    "siloWithdrawEventsDbTimedClean.drop_duplicates(subset=['transaction_hash'],keep='first', inplace=True)\n",
    "siloWithdrawEventsDbTimedClean['calDate'] = siloWithdrawEventsDbTimedClean['dateTime'].dt.normalize()\n",
    "siloWithdrawsDb.head(100)"
   ],
   "metadata": {
    "collapsed": false
   }
  },
  {
   "cell_type": "code",
   "execution_count": 27,
   "outputs": [
    {
     "name": "stdout",
     "output_type": "stream",
     "text": [
      "D:\\Dropbox\\Documents\\Edgecaser LLC\\Projects\\Olympus\\Econohmetrics\\gohmAsStablecoinCollateral/data/siloFinanceGohmWithdraws_piped.csv file saved, 5  records\n"
     ]
    }
   ],
   "source": [
    "path =file+'/siloFinanceGohmWithdraws.csv'\n",
    "siloWithdrawEventsDbTimedClean.to_csv(path, index = False)\n",
    "\n",
    "path =file+'/siloFinanceGohmWithdraws_piped.csv'\n",
    "siloWithdrawEventsDbTimedClean.to_csv(path, index = False, sep='|')\n",
    "print(path, 'file saved,', len(siloWithdrawEventsDbTimedClean),' records')"
   ],
   "metadata": {
    "collapsed": false
   }
  },
  {
   "cell_type": "code",
   "execution_count": 28,
   "outputs": [
    {
     "name": "stdout",
     "output_type": "stream",
     "text": [
      "There has been a total of 70.7 OHM withdrawn cumulatively as collateral  to date\n",
      "That is a value of USD$ 194175.62\n"
     ]
    }
   ],
   "source": [
    "totalWithdrawed = sum(siloWithdrawEventsDbTimedClean['transactionReadableAmount'])\n",
    "print('There has been a total of',round(totalWithdrawed,2),  'OHM withdrawn cumulatively as collateral  to date')\n",
    "totalWithdrawedUSD =sum(siloWithdrawEventsDbTimedClean['transaction_amountUSD'])\n",
    "print('That is a value of USD$',round(totalWithdrawedUSD,2))"
   ],
   "metadata": {
    "collapsed": false
   }
  },
  {
   "cell_type": "code",
   "execution_count": 29,
   "outputs": [
    {
     "name": "stdout",
     "output_type": "stream",
     "text": [
      "148.13176131732266  -  70.69580280753544 = 77.43595850978721 currently deposited as collateral in Silo\n"
     ]
    }
   ],
   "source": [
    "siloCollateralBalance = totalDeposited -(totalWithdrawed)\n",
    "print(totalDeposited, ' - ',totalWithdrawed,'=', siloCollateralBalance, 'currently deposited as collateral in Silo' )"
   ],
   "metadata": {
    "collapsed": false
   }
  },
  {
   "cell_type": "code",
   "execution_count": 29,
   "outputs": [],
   "source": [],
   "metadata": {
    "collapsed": false
   }
  },
  {
   "cell_type": "markdown",
   "source": [
    "********************************************************************\n",
    "********************************************************************\n",
    "VESTA BORROWS - Their API is poo RN"
   ],
   "metadata": {
    "collapsed": false
   }
  },
  {
   "cell_type": "code",
   "execution_count": 30,
   "outputs": [],
   "source": [
    "#https://api.thegraph.com/subgraphs/name/corerouter/vesta-finance\n",
    "vesta = sg.load_api('https://api.thegraph.com/subgraphs/name/shinitakunai/vestafinance-v1_2')"
   ],
   "metadata": {
    "collapsed": false
   }
  },
  {
   "cell_type": "code",
   "execution_count": 31,
   "outputs": [
    {
     "data": {
      "text/plain": "                                           borrows_id  \\\n0   borrow-0xe78e7cf33f3c3dcf9d167c79992bd499f5e26...   \n1   borrow-0x93e6a1fc4275b1e3229824808cfbd67b1a95b...   \n2   borrow-0x9651ee75040616476d15e135efd447ea2b61f...   \n3   borrow-0x6d78d97f945a157ac5bddb6e4fc1f082a9026...   \n4   borrow-0x7ebbec623197b45efee3ee5cea51c5570ced5...   \n..                                                ...   \n95  borrow-0x4971939a1fa82aac80d47cb84bf22906a6a6c...   \n96  borrow-0x0d23c88566be4ab100a116a2ec18098d2d232...   \n97  borrow-0x3dae6c0f28205ccd8229d7e19e3c336137449...   \n98  borrow-0x37ebd9187b895f2d610276994cbe5c7a9489d...   \n99  borrow-0x73efddfc237df2061dac07dcae5c5b1b04f0b...   \n\n                                         borrows_hash  \\\n0   0xe78e7cf33f3c3dcf9d167c79992bd499f5e261aa781a...   \n1   0x93e6a1fc4275b1e3229824808cfbd67b1a95b70da5fc...   \n2   0x9651ee75040616476d15e135efd447ea2b61f1c4a1a4...   \n3   0x6d78d97f945a157ac5bddb6e4fc1f082a9026a1d4877...   \n4   0x7ebbec623197b45efee3ee5cea51c5570ced507e35b7...   \n..                                                ...   \n95  0x4971939a1fa82aac80d47cb84bf22906a6a6c1dc1670...   \n96  0x0d23c88566be4ab100a116a2ec18098d2d2326206389...   \n97  0x3dae6c0f28205ccd8229d7e19e3c336137449597a9e3...   \n98  0x37ebd9187b895f2d610276994cbe5c7a9489dcd18329...   \n99  0x73efddfc237df2061dac07dcae5c5b1b04f0b1063ada...   \n\n              borrows_amount  borrows_amountUSD  borrows_timestamp  \\\n0   576298224974605960408026      576298.224975         1659911497   \n1   516405000007276459170000      516405.000007         1661574660   \n2   508522687608107465832660      508522.687608         1661405272   \n3   407615492208601338652456      407615.492209         1669999334   \n4   398065447708496993829189      398065.447708         1670001231   \n..                       ...                ...                ...   \n95   61341003306669234265579       61341.003307         1670604649   \n96   61087922925193565302356       61087.922925         1658654695   \n97   60780009619823879220000       60780.009620         1659334359   \n98   60780000000000000000000       60780.000000         1651452956   \n99   60750000062740671524999       60750.000063         1661793266   \n\n                            borrows_account_id  \\\n0   0xa80191fca50be00f8952c69232c93d57eeacaf6f   \n1   0x15bae977db3b62ceb5a67921fae589fd80624e8d   \n2   0xea17e11fa9d3d772eee6f34a03f0ef44db395720   \n3   0x0561a78021d8966ddd20c28c6c4318d8675ee1f0   \n4   0x0561a78021d8966ddd20c28c6c4318d8675ee1f0   \n..                                         ...   \n95  0x6ae68eb2fa416fe091803fde014bbf7475468979   \n96  0x35e8557f4236bd3f72d0a1a645d06791b0d3bf28   \n97  0xcf8e9a44c47461cd099f73fe6b4c2bc609a14e2a   \n98  0x6dd91bdab368282dc4ea4f4befc831b78a7c38c0   \n99  0x0561a78021d8966ddd20c28c6c4318d8675ee1f0   \n\n                             borrows_market_id borrows_market_name  \\\n0   0x8d9ba570d6cb60c7e3e0f31343efe75ab8e65fb1      Governance OHM   \n1   0x8d9ba570d6cb60c7e3e0f31343efe75ab8e65fb1      Governance OHM   \n2   0x8d9ba570d6cb60c7e3e0f31343efe75ab8e65fb1      Governance OHM   \n3   0x8d9ba570d6cb60c7e3e0f31343efe75ab8e65fb1      Governance OHM   \n4   0x8d9ba570d6cb60c7e3e0f31343efe75ab8e65fb1      Governance OHM   \n..                                         ...                 ...   \n95  0x8d9ba570d6cb60c7e3e0f31343efe75ab8e65fb1      Governance OHM   \n96  0x8d9ba570d6cb60c7e3e0f31343efe75ab8e65fb1      Governance OHM   \n97  0x8d9ba570d6cb60c7e3e0f31343efe75ab8e65fb1      Governance OHM   \n98  0x8d9ba570d6cb60c7e3e0f31343efe75ab8e65fb1      Governance OHM   \n99  0x8d9ba570d6cb60c7e3e0f31343efe75ab8e65fb1      Governance OHM   \n\n    borrows_market_rates_rate                            borrows_asset_id  \\\n0                         0.0  0x64343594ab9b56e99087bfa6f2335db24c2d1f17   \n1                         0.0  0x64343594ab9b56e99087bfa6f2335db24c2d1f17   \n2                         0.0  0x64343594ab9b56e99087bfa6f2335db24c2d1f17   \n3                         0.0  0x64343594ab9b56e99087bfa6f2335db24c2d1f17   \n4                         0.0  0x64343594ab9b56e99087bfa6f2335db24c2d1f17   \n..                        ...                                         ...   \n95                        0.0  0x64343594ab9b56e99087bfa6f2335db24c2d1f17   \n96                        0.0  0x64343594ab9b56e99087bfa6f2335db24c2d1f17   \n97                        0.0  0x64343594ab9b56e99087bfa6f2335db24c2d1f17   \n98                        0.0  0x64343594ab9b56e99087bfa6f2335db24c2d1f17   \n99                        0.0  0x64343594ab9b56e99087bfa6f2335db24c2d1f17   \n\n   borrows_asset_name borrows_asset_symbol  borrows_asset_decimals  \\\n0        Vesta Stable                  VST                      18   \n1        Vesta Stable                  VST                      18   \n2        Vesta Stable                  VST                      18   \n3        Vesta Stable                  VST                      18   \n4        Vesta Stable                  VST                      18   \n..                ...                  ...                     ...   \n95       Vesta Stable                  VST                      18   \n96       Vesta Stable                  VST                      18   \n97       Vesta Stable                  VST                      18   \n98       Vesta Stable                  VST                      18   \n99       Vesta Stable                  VST                      18   \n\n    borrows_asset_lastPriceUSD  borrows_asset_lastPriceBlockNumber   event  \\\n0                     0.979297                            63919783  borrow   \n1                     0.979297                            63919783  borrow   \n2                     0.979297                            63919783  borrow   \n3                     0.979297                            63919783  borrow   \n4                     0.979297                            63919783  borrow   \n..                         ...                                 ...     ...   \n95                    0.979297                            63919783  borrow   \n96                    0.979297                            63919783  borrow   \n97                    0.979297                            63919783  borrow   \n98                    0.979297                            63919783  borrow   \n99                    0.979297                            63919783  borrow   \n\n               dateTime  \n0   2022-08-07 22:31:37  \n1   2022-08-27 04:31:00  \n2   2022-08-25 05:27:52  \n3   2022-12-02 16:42:14  \n4   2022-12-02 17:13:51  \n..                  ...  \n95  2022-12-09 16:50:49  \n96  2022-07-24 09:24:55  \n97  2022-08-01 06:12:39  \n98  2022-05-02 00:55:56  \n99  2022-08-29 17:14:26  \n\n[100 rows x 17 columns]",
      "text/html": "<div>\n<style scoped>\n    .dataframe tbody tr th:only-of-type {\n        vertical-align: middle;\n    }\n\n    .dataframe tbody tr th {\n        vertical-align: top;\n    }\n\n    .dataframe thead th {\n        text-align: right;\n    }\n</style>\n<table border=\"1\" class=\"dataframe\">\n  <thead>\n    <tr style=\"text-align: right;\">\n      <th></th>\n      <th>borrows_id</th>\n      <th>borrows_hash</th>\n      <th>borrows_amount</th>\n      <th>borrows_amountUSD</th>\n      <th>borrows_timestamp</th>\n      <th>borrows_account_id</th>\n      <th>borrows_market_id</th>\n      <th>borrows_market_name</th>\n      <th>borrows_market_rates_rate</th>\n      <th>borrows_asset_id</th>\n      <th>borrows_asset_name</th>\n      <th>borrows_asset_symbol</th>\n      <th>borrows_asset_decimals</th>\n      <th>borrows_asset_lastPriceUSD</th>\n      <th>borrows_asset_lastPriceBlockNumber</th>\n      <th>event</th>\n      <th>dateTime</th>\n    </tr>\n  </thead>\n  <tbody>\n    <tr>\n      <th>0</th>\n      <td>borrow-0xe78e7cf33f3c3dcf9d167c79992bd499f5e26...</td>\n      <td>0xe78e7cf33f3c3dcf9d167c79992bd499f5e261aa781a...</td>\n      <td>576298224974605960408026</td>\n      <td>576298.224975</td>\n      <td>1659911497</td>\n      <td>0xa80191fca50be00f8952c69232c93d57eeacaf6f</td>\n      <td>0x8d9ba570d6cb60c7e3e0f31343efe75ab8e65fb1</td>\n      <td>Governance OHM</td>\n      <td>0.0</td>\n      <td>0x64343594ab9b56e99087bfa6f2335db24c2d1f17</td>\n      <td>Vesta Stable</td>\n      <td>VST</td>\n      <td>18</td>\n      <td>0.979297</td>\n      <td>63919783</td>\n      <td>borrow</td>\n      <td>2022-08-07 22:31:37</td>\n    </tr>\n    <tr>\n      <th>1</th>\n      <td>borrow-0x93e6a1fc4275b1e3229824808cfbd67b1a95b...</td>\n      <td>0x93e6a1fc4275b1e3229824808cfbd67b1a95b70da5fc...</td>\n      <td>516405000007276459170000</td>\n      <td>516405.000007</td>\n      <td>1661574660</td>\n      <td>0x15bae977db3b62ceb5a67921fae589fd80624e8d</td>\n      <td>0x8d9ba570d6cb60c7e3e0f31343efe75ab8e65fb1</td>\n      <td>Governance OHM</td>\n      <td>0.0</td>\n      <td>0x64343594ab9b56e99087bfa6f2335db24c2d1f17</td>\n      <td>Vesta Stable</td>\n      <td>VST</td>\n      <td>18</td>\n      <td>0.979297</td>\n      <td>63919783</td>\n      <td>borrow</td>\n      <td>2022-08-27 04:31:00</td>\n    </tr>\n    <tr>\n      <th>2</th>\n      <td>borrow-0x9651ee75040616476d15e135efd447ea2b61f...</td>\n      <td>0x9651ee75040616476d15e135efd447ea2b61f1c4a1a4...</td>\n      <td>508522687608107465832660</td>\n      <td>508522.687608</td>\n      <td>1661405272</td>\n      <td>0xea17e11fa9d3d772eee6f34a03f0ef44db395720</td>\n      <td>0x8d9ba570d6cb60c7e3e0f31343efe75ab8e65fb1</td>\n      <td>Governance OHM</td>\n      <td>0.0</td>\n      <td>0x64343594ab9b56e99087bfa6f2335db24c2d1f17</td>\n      <td>Vesta Stable</td>\n      <td>VST</td>\n      <td>18</td>\n      <td>0.979297</td>\n      <td>63919783</td>\n      <td>borrow</td>\n      <td>2022-08-25 05:27:52</td>\n    </tr>\n    <tr>\n      <th>3</th>\n      <td>borrow-0x6d78d97f945a157ac5bddb6e4fc1f082a9026...</td>\n      <td>0x6d78d97f945a157ac5bddb6e4fc1f082a9026a1d4877...</td>\n      <td>407615492208601338652456</td>\n      <td>407615.492209</td>\n      <td>1669999334</td>\n      <td>0x0561a78021d8966ddd20c28c6c4318d8675ee1f0</td>\n      <td>0x8d9ba570d6cb60c7e3e0f31343efe75ab8e65fb1</td>\n      <td>Governance OHM</td>\n      <td>0.0</td>\n      <td>0x64343594ab9b56e99087bfa6f2335db24c2d1f17</td>\n      <td>Vesta Stable</td>\n      <td>VST</td>\n      <td>18</td>\n      <td>0.979297</td>\n      <td>63919783</td>\n      <td>borrow</td>\n      <td>2022-12-02 16:42:14</td>\n    </tr>\n    <tr>\n      <th>4</th>\n      <td>borrow-0x7ebbec623197b45efee3ee5cea51c5570ced5...</td>\n      <td>0x7ebbec623197b45efee3ee5cea51c5570ced507e35b7...</td>\n      <td>398065447708496993829189</td>\n      <td>398065.447708</td>\n      <td>1670001231</td>\n      <td>0x0561a78021d8966ddd20c28c6c4318d8675ee1f0</td>\n      <td>0x8d9ba570d6cb60c7e3e0f31343efe75ab8e65fb1</td>\n      <td>Governance OHM</td>\n      <td>0.0</td>\n      <td>0x64343594ab9b56e99087bfa6f2335db24c2d1f17</td>\n      <td>Vesta Stable</td>\n      <td>VST</td>\n      <td>18</td>\n      <td>0.979297</td>\n      <td>63919783</td>\n      <td>borrow</td>\n      <td>2022-12-02 17:13:51</td>\n    </tr>\n    <tr>\n      <th>...</th>\n      <td>...</td>\n      <td>...</td>\n      <td>...</td>\n      <td>...</td>\n      <td>...</td>\n      <td>...</td>\n      <td>...</td>\n      <td>...</td>\n      <td>...</td>\n      <td>...</td>\n      <td>...</td>\n      <td>...</td>\n      <td>...</td>\n      <td>...</td>\n      <td>...</td>\n      <td>...</td>\n      <td>...</td>\n    </tr>\n    <tr>\n      <th>95</th>\n      <td>borrow-0x4971939a1fa82aac80d47cb84bf22906a6a6c...</td>\n      <td>0x4971939a1fa82aac80d47cb84bf22906a6a6c1dc1670...</td>\n      <td>61341003306669234265579</td>\n      <td>61341.003307</td>\n      <td>1670604649</td>\n      <td>0x6ae68eb2fa416fe091803fde014bbf7475468979</td>\n      <td>0x8d9ba570d6cb60c7e3e0f31343efe75ab8e65fb1</td>\n      <td>Governance OHM</td>\n      <td>0.0</td>\n      <td>0x64343594ab9b56e99087bfa6f2335db24c2d1f17</td>\n      <td>Vesta Stable</td>\n      <td>VST</td>\n      <td>18</td>\n      <td>0.979297</td>\n      <td>63919783</td>\n      <td>borrow</td>\n      <td>2022-12-09 16:50:49</td>\n    </tr>\n    <tr>\n      <th>96</th>\n      <td>borrow-0x0d23c88566be4ab100a116a2ec18098d2d232...</td>\n      <td>0x0d23c88566be4ab100a116a2ec18098d2d2326206389...</td>\n      <td>61087922925193565302356</td>\n      <td>61087.922925</td>\n      <td>1658654695</td>\n      <td>0x35e8557f4236bd3f72d0a1a645d06791b0d3bf28</td>\n      <td>0x8d9ba570d6cb60c7e3e0f31343efe75ab8e65fb1</td>\n      <td>Governance OHM</td>\n      <td>0.0</td>\n      <td>0x64343594ab9b56e99087bfa6f2335db24c2d1f17</td>\n      <td>Vesta Stable</td>\n      <td>VST</td>\n      <td>18</td>\n      <td>0.979297</td>\n      <td>63919783</td>\n      <td>borrow</td>\n      <td>2022-07-24 09:24:55</td>\n    </tr>\n    <tr>\n      <th>97</th>\n      <td>borrow-0x3dae6c0f28205ccd8229d7e19e3c336137449...</td>\n      <td>0x3dae6c0f28205ccd8229d7e19e3c336137449597a9e3...</td>\n      <td>60780009619823879220000</td>\n      <td>60780.009620</td>\n      <td>1659334359</td>\n      <td>0xcf8e9a44c47461cd099f73fe6b4c2bc609a14e2a</td>\n      <td>0x8d9ba570d6cb60c7e3e0f31343efe75ab8e65fb1</td>\n      <td>Governance OHM</td>\n      <td>0.0</td>\n      <td>0x64343594ab9b56e99087bfa6f2335db24c2d1f17</td>\n      <td>Vesta Stable</td>\n      <td>VST</td>\n      <td>18</td>\n      <td>0.979297</td>\n      <td>63919783</td>\n      <td>borrow</td>\n      <td>2022-08-01 06:12:39</td>\n    </tr>\n    <tr>\n      <th>98</th>\n      <td>borrow-0x37ebd9187b895f2d610276994cbe5c7a9489d...</td>\n      <td>0x37ebd9187b895f2d610276994cbe5c7a9489dcd18329...</td>\n      <td>60780000000000000000000</td>\n      <td>60780.000000</td>\n      <td>1651452956</td>\n      <td>0x6dd91bdab368282dc4ea4f4befc831b78a7c38c0</td>\n      <td>0x8d9ba570d6cb60c7e3e0f31343efe75ab8e65fb1</td>\n      <td>Governance OHM</td>\n      <td>0.0</td>\n      <td>0x64343594ab9b56e99087bfa6f2335db24c2d1f17</td>\n      <td>Vesta Stable</td>\n      <td>VST</td>\n      <td>18</td>\n      <td>0.979297</td>\n      <td>63919783</td>\n      <td>borrow</td>\n      <td>2022-05-02 00:55:56</td>\n    </tr>\n    <tr>\n      <th>99</th>\n      <td>borrow-0x73efddfc237df2061dac07dcae5c5b1b04f0b...</td>\n      <td>0x73efddfc237df2061dac07dcae5c5b1b04f0b1063ada...</td>\n      <td>60750000062740671524999</td>\n      <td>60750.000063</td>\n      <td>1661793266</td>\n      <td>0x0561a78021d8966ddd20c28c6c4318d8675ee1f0</td>\n      <td>0x8d9ba570d6cb60c7e3e0f31343efe75ab8e65fb1</td>\n      <td>Governance OHM</td>\n      <td>0.0</td>\n      <td>0x64343594ab9b56e99087bfa6f2335db24c2d1f17</td>\n      <td>Vesta Stable</td>\n      <td>VST</td>\n      <td>18</td>\n      <td>0.979297</td>\n      <td>63919783</td>\n      <td>borrow</td>\n      <td>2022-08-29 17:14:26</td>\n    </tr>\n  </tbody>\n</table>\n<p>100 rows × 17 columns</p>\n</div>"
     },
     "execution_count": 31,
     "metadata": {},
     "output_type": "execute_result"
    }
   ],
   "source": [
    "oldVestaBorrowsDb = pd.DataFrame()\n",
    "siloFileName = file+'/vesta_borrow_events.csv'\n",
    "try:\n",
    "    oldVestaBorrowsDb = pd.read_csv (siloFileName)\n",
    "except:\n",
    "    oldVestaBorrowsDb = pd.DataFrame()\n",
    "oldVestaBorrowsDb.head(100)"
   ],
   "metadata": {
    "collapsed": false
   }
  },
  {
   "cell_type": "code",
   "execution_count": 32,
   "outputs": [
    {
     "data": {
      "text/plain": "  troveChanges_id                        troveChanges_transaction_id  \\\n0           99981  0xf935941fd9f2518fa2a5f5f8d29dfa38c92fccb25b75...   \n1           99820  0x467b6aa4a3f3d45e9316a143c45bf91c83ed1f662a4b...   \n2            9972  0xfd781bb00f9e6d9599ce7aebda95979bfb902d3d73d2...   \n3           99669  0xe104d6896bf784009bd9aa410f077f9c0a25154ab628...   \n4            9962  0x2fde74916c909648c83e2725fecdc902181371a58c1f...   \n5            9961  0x1ebcd76a95f023492880bf7f7fbf3183e2197dd266a2...   \n6           99531  0xc4558983947cedeace28d691cf9a70d871256ccd9021...   \n7            9924  0x6a478fd975875045387ad810583e8270a25530599a6d...   \n8           99043  0x24f693681f80f12946d463995c424c41f37a01dbd227...   \n9            9896  0xdf29dc3054d53c0c8681ba1e5a9ab72d0dafbcf77de4...   \n\n   troveChanges_transaction_blockNumber  troveChanges_debtChange  \\\n0                              34713629                -0.100000   \n1                              34701032                -0.010000   \n2                              11845437             -2848.848834   \n3                              34691865                -0.100000   \n4                              11842359              -700.000000   \n5                              11841593              -156.000000   \n6                              34681251                -0.020000   \n7                              11835231             -4000.003949   \n8                              34647273            -31300.004280   \n9                              11831764              -222.000000   \n\n   troveChanges_transaction_timestamp  \\\n0                          1667397544   \n1                          1667393421   \n2                          1652313237   \n3                          1667390188   \n4                          1652309981   \n5                          1652309386   \n6                          1667386332   \n7                          1652304099   \n8                          1667374762   \n9                          1652301736   \n\n                  troveChanges_trove_owner_id  \\\n0  0x0561a78021d8966ddd20c28c6c4318d8675ee1f0   \n1  0x0561a78021d8966ddd20c28c6c4318d8675ee1f0   \n2  0x0c20e9958e4eb2d9c112d1469e17ab6c830cde09   \n3  0x0561a78021d8966ddd20c28c6c4318d8675ee1f0   \n4  0xe9f6711b7c92581856e0419399bc4fb9c36ec7e3   \n5  0x20fd6151bb6c78c6b5c89859bd5076dd852cc461   \n6  0x0561a78021d8966ddd20c28c6c4318d8675ee1f0   \n7  0x6688b44ff874e246c441397d60fc169d4972a1ab   \n8  0x0561a78021d8966ddd20c28c6c4318d8675ee1f0   \n9  0x7ff15d6cf1a7bf0efa7435543cf086835fc80d53   \n\n                  troveChanges_trove_asset_id troveChanges_trove_asset_name  \n0  0x8d9ba570d6cb60c7e3e0f31343efe75ab8e65fb1                          gOHM  \n1  0x8d9ba570d6cb60c7e3e0f31343efe75ab8e65fb1                          gOHM  \n2  0x8d9ba570d6cb60c7e3e0f31343efe75ab8e65fb1                          gOHM  \n3  0x8d9ba570d6cb60c7e3e0f31343efe75ab8e65fb1                          gOHM  \n4  0x8d9ba570d6cb60c7e3e0f31343efe75ab8e65fb1                          gOHM  \n5  0x8d9ba570d6cb60c7e3e0f31343efe75ab8e65fb1                          gOHM  \n6  0x8d9ba570d6cb60c7e3e0f31343efe75ab8e65fb1                          gOHM  \n7  0x8d9ba570d6cb60c7e3e0f31343efe75ab8e65fb1                          gOHM  \n8  0x8d9ba570d6cb60c7e3e0f31343efe75ab8e65fb1                          gOHM  \n9  0x8d9ba570d6cb60c7e3e0f31343efe75ab8e65fb1                          gOHM  ",
      "text/html": "<div>\n<style scoped>\n    .dataframe tbody tr th:only-of-type {\n        vertical-align: middle;\n    }\n\n    .dataframe tbody tr th {\n        vertical-align: top;\n    }\n\n    .dataframe thead th {\n        text-align: right;\n    }\n</style>\n<table border=\"1\" class=\"dataframe\">\n  <thead>\n    <tr style=\"text-align: right;\">\n      <th></th>\n      <th>troveChanges_id</th>\n      <th>troveChanges_transaction_id</th>\n      <th>troveChanges_transaction_blockNumber</th>\n      <th>troveChanges_debtChange</th>\n      <th>troveChanges_transaction_timestamp</th>\n      <th>troveChanges_trove_owner_id</th>\n      <th>troveChanges_trove_asset_id</th>\n      <th>troveChanges_trove_asset_name</th>\n    </tr>\n  </thead>\n  <tbody>\n    <tr>\n      <th>0</th>\n      <td>99981</td>\n      <td>0xf935941fd9f2518fa2a5f5f8d29dfa38c92fccb25b75...</td>\n      <td>34713629</td>\n      <td>-0.100000</td>\n      <td>1667397544</td>\n      <td>0x0561a78021d8966ddd20c28c6c4318d8675ee1f0</td>\n      <td>0x8d9ba570d6cb60c7e3e0f31343efe75ab8e65fb1</td>\n      <td>gOHM</td>\n    </tr>\n    <tr>\n      <th>1</th>\n      <td>99820</td>\n      <td>0x467b6aa4a3f3d45e9316a143c45bf91c83ed1f662a4b...</td>\n      <td>34701032</td>\n      <td>-0.010000</td>\n      <td>1667393421</td>\n      <td>0x0561a78021d8966ddd20c28c6c4318d8675ee1f0</td>\n      <td>0x8d9ba570d6cb60c7e3e0f31343efe75ab8e65fb1</td>\n      <td>gOHM</td>\n    </tr>\n    <tr>\n      <th>2</th>\n      <td>9972</td>\n      <td>0xfd781bb00f9e6d9599ce7aebda95979bfb902d3d73d2...</td>\n      <td>11845437</td>\n      <td>-2848.848834</td>\n      <td>1652313237</td>\n      <td>0x0c20e9958e4eb2d9c112d1469e17ab6c830cde09</td>\n      <td>0x8d9ba570d6cb60c7e3e0f31343efe75ab8e65fb1</td>\n      <td>gOHM</td>\n    </tr>\n    <tr>\n      <th>3</th>\n      <td>99669</td>\n      <td>0xe104d6896bf784009bd9aa410f077f9c0a25154ab628...</td>\n      <td>34691865</td>\n      <td>-0.100000</td>\n      <td>1667390188</td>\n      <td>0x0561a78021d8966ddd20c28c6c4318d8675ee1f0</td>\n      <td>0x8d9ba570d6cb60c7e3e0f31343efe75ab8e65fb1</td>\n      <td>gOHM</td>\n    </tr>\n    <tr>\n      <th>4</th>\n      <td>9962</td>\n      <td>0x2fde74916c909648c83e2725fecdc902181371a58c1f...</td>\n      <td>11842359</td>\n      <td>-700.000000</td>\n      <td>1652309981</td>\n      <td>0xe9f6711b7c92581856e0419399bc4fb9c36ec7e3</td>\n      <td>0x8d9ba570d6cb60c7e3e0f31343efe75ab8e65fb1</td>\n      <td>gOHM</td>\n    </tr>\n    <tr>\n      <th>5</th>\n      <td>9961</td>\n      <td>0x1ebcd76a95f023492880bf7f7fbf3183e2197dd266a2...</td>\n      <td>11841593</td>\n      <td>-156.000000</td>\n      <td>1652309386</td>\n      <td>0x20fd6151bb6c78c6b5c89859bd5076dd852cc461</td>\n      <td>0x8d9ba570d6cb60c7e3e0f31343efe75ab8e65fb1</td>\n      <td>gOHM</td>\n    </tr>\n    <tr>\n      <th>6</th>\n      <td>99531</td>\n      <td>0xc4558983947cedeace28d691cf9a70d871256ccd9021...</td>\n      <td>34681251</td>\n      <td>-0.020000</td>\n      <td>1667386332</td>\n      <td>0x0561a78021d8966ddd20c28c6c4318d8675ee1f0</td>\n      <td>0x8d9ba570d6cb60c7e3e0f31343efe75ab8e65fb1</td>\n      <td>gOHM</td>\n    </tr>\n    <tr>\n      <th>7</th>\n      <td>9924</td>\n      <td>0x6a478fd975875045387ad810583e8270a25530599a6d...</td>\n      <td>11835231</td>\n      <td>-4000.003949</td>\n      <td>1652304099</td>\n      <td>0x6688b44ff874e246c441397d60fc169d4972a1ab</td>\n      <td>0x8d9ba570d6cb60c7e3e0f31343efe75ab8e65fb1</td>\n      <td>gOHM</td>\n    </tr>\n    <tr>\n      <th>8</th>\n      <td>99043</td>\n      <td>0x24f693681f80f12946d463995c424c41f37a01dbd227...</td>\n      <td>34647273</td>\n      <td>-31300.004280</td>\n      <td>1667374762</td>\n      <td>0x0561a78021d8966ddd20c28c6c4318d8675ee1f0</td>\n      <td>0x8d9ba570d6cb60c7e3e0f31343efe75ab8e65fb1</td>\n      <td>gOHM</td>\n    </tr>\n    <tr>\n      <th>9</th>\n      <td>9896</td>\n      <td>0xdf29dc3054d53c0c8681ba1e5a9ab72d0dafbcf77de4...</td>\n      <td>11831764</td>\n      <td>-222.000000</td>\n      <td>1652301736</td>\n      <td>0x7ff15d6cf1a7bf0efa7435543cf086835fc80d53</td>\n      <td>0x8d9ba570d6cb60c7e3e0f31343efe75ab8e65fb1</td>\n      <td>gOHM</td>\n    </tr>\n  </tbody>\n</table>\n</div>"
     },
     "execution_count": 32,
     "metadata": {},
     "output_type": "execute_result"
    }
   ],
   "source": [
    "maxVestaBorrowTimestamp = 0\n",
    "try:\n",
    "    maxVestaTroveChangeId = (max(0,oldVestaBorrowsDb['troveChanges_id'].max()))\n",
    "    maxVestaTroveChangeId = int(maxVestaTroveChangeId)\n",
    "    vestaBorrows = vesta.Query.troveChanges(\n",
    "        orderBy='id',\n",
    "        orderDirection='desc',\n",
    "        first=1000,\n",
    "        skip = skipValue,\n",
    "        where= { 'asset': '0x8d9ba570d6cb60c7e3e0f31343efe75ab8e65fb1'  #gOHM market\n",
    "                ,'debtChange_lt':0\n",
    "                ,'id_gte': maxVestaTroveChangeId\n",
    "         }\n",
    "        )\n",
    "    vestaBorrowslist = sg.query_df([\n",
    "            vestaBorrows.id\n",
    "            ,vestaBorrows.transaction.id\n",
    "            ,vestaBorrows.transaction.blockNumber\n",
    "            ,vestaBorrows.debtChange\n",
    "            ,vestaBorrows.transaction.timestamp\n",
    "            ,vestaBorrows.trove.owner.id\n",
    "            ,vestaBorrows.trove.asset.id\n",
    "            ,vestaBorrows.trove.asset.name\n",
    "        ])\n",
    "except:\n",
    "    maxVestaTroveChangeId = 0\n",
    "    vestaBorrows = vesta.Query.troveChanges(\n",
    "        orderBy='id',\n",
    "        orderDirection='desc',\n",
    "        first=1000,\n",
    "        skip = skipValue,\n",
    "        where= { 'asset': '0x8d9ba570d6cb60c7e3e0f31343efe75ab8e65fb1'  #gOHM market\n",
    "                ,'debtChange_lt':0\n",
    "               #,'id_gte': maxVestaTroveChangeId\n",
    "         }\n",
    "    )\n",
    "    vestaBorrowslist = sg.query_df([\n",
    "            vestaBorrows.id\n",
    "            ,vestaBorrows.transaction.id\n",
    "            ,vestaBorrows.transaction.blockNumber\n",
    "            ,vestaBorrows.debtChange\n",
    "            ,vestaBorrows.transaction.timestamp\n",
    "            ,vestaBorrows.trove.owner.id\n",
    "            ,vestaBorrows.trove.asset.id\n",
    "            ,vestaBorrows.trove.asset.name\n",
    "        ])\n",
    "\n",
    "vestaBorrowslist.head(10)"
   ],
   "metadata": {
    "collapsed": false
   }
  },
  {
   "cell_type": "markdown",
   "source": [
    "vestaBorrows = vesta.Query.troveChanges(\n",
    "        orderBy='id',\n",
    "        orderDirection='desc',\n",
    "        first=1000,\n",
    "        skip = skipValue,\n",
    "        where= { 'asset': '0x8d9ba570d6cb60c7e3e0f31343efe75ab8e65fb1'  #gOHM market\n",
    "                ,'debtChange_lt':0\n",
    "                ,'id_gte': maxVestaTroveChangeId\n",
    "         }\n",
    "    )\n",
    "vestaBorrowslist = sg.query_df([\n",
    "        vestaBorrows.id\n",
    "        ,vestaBorrows.transaction.id\n",
    "        ,vestaBorrows.transaction.blockNumber\n",
    "        ,vestaBorrows.debtChange\n",
    "        ,vestaBorrows.transaction.timestamp\n",
    "        ,vestaBorrows.trove.owner.id\n",
    "        ,vestaBorrows.trove.asset.id\n",
    "        ,vestaBorrows.trove.asset.name\n",
    "    ])\n",
    "\n",
    "vestaBorrowslist.head(10)"
   ],
   "metadata": {
    "collapsed": false
   }
  },
  {
   "cell_type": "code",
   "execution_count": 33,
   "outputs": [
    {
     "name": "stdout",
     "output_type": "stream",
     "text": [
      "iterations:  0 Lines skipped:  0 records collected:  1000  - latest recordID:  0x21da8f0687a20a391e7e08c8af41efd288af11da388165d1fe8423ff8468ed59   9966  - vestaBorrows DB length:  1000  - latest record from:  2022-05-11 16:41:54 292 days ago\n",
      "iterations:  1 Lines skipped:  1000 records collected:  447  - latest recordID:  0xf29d71ee0846f86ac5b6ae454da2078f3061e0278c66a491a64de4dedde05bf3   991  - vestaBorrows DB length:  1447  - latest record from:  2022-02-09 04:29:20 383 days ago\n",
      "Done. Total Records collected:  1447\n"
     ]
    }
   ],
   "source": [
    "##this captures the list of people who vestaBorrowed XAI against gOHM\n",
    "vestaBorrowTicker = 0\n",
    "vestaBorrowslist = pd.DataFrame()\n",
    "vestaBorrowsDb = pd.DataFrame()\n",
    "vestaBorrowListLength = 1000\n",
    "datediff = 0\n",
    "now=0\n",
    "daysAgo=0\n",
    "#daysLimit = 45\n",
    "exit = False\n",
    "while exit==False:\n",
    "    skipValue = (vestaBorrowTicker)*(1000)\n",
    "    try:\n",
    "        maxVestaTroveChangeId = (max(0,oldVestaBorrowsDb['troveChanges_id'].max()))\n",
    "        maxVestaTroveChangeId = int(maxVestaTroveChangeId)\n",
    "        vestaBorrows = vesta.Query.troveChanges(\n",
    "            orderBy='id',\n",
    "            orderDirection='desc',\n",
    "            first=1000,\n",
    "            skip = skipValue,\n",
    "            where= { 'asset': '0x8d9ba570d6cb60c7e3e0f31343efe75ab8e65fb1'  #gOHM market\n",
    "                    ,'debtChange_gt':0\n",
    "                    ,'id_gte': maxVestaTroveChangeId\n",
    "             }\n",
    "            )\n",
    "        vestaBorrowslist = sg.query_df([\n",
    "                vestaBorrows.id\n",
    "                ,vestaBorrows.transaction.id\n",
    "                ,vestaBorrows.transaction.blockNumber\n",
    "                ,vestaBorrows.debtChange\n",
    "                ,vestaBorrows.transaction.timestamp\n",
    "                ,vestaBorrows.trove.owner.id\n",
    "                ,vestaBorrows.trove.asset.id\n",
    "                ,vestaBorrows.trove.asset.name\n",
    "            ])\n",
    "    except:\n",
    "        maxVestaTroveChangeId = 0\n",
    "        vestaBorrows = vesta.Query.troveChanges(\n",
    "            orderBy='id',\n",
    "            orderDirection='desc',\n",
    "            first=1000,\n",
    "            skip = skipValue,\n",
    "            where= { 'asset': '0x8d9ba570d6cb60c7e3e0f31343efe75ab8e65fb1'  #gOHM market\n",
    "                    ,'debtChange_gt':0\n",
    "                   #,'id_gte': maxVestaTroveChangeId\n",
    "             }\n",
    "        )\n",
    "        vestaBorrowslist = sg.query_df([\n",
    "                vestaBorrows.id\n",
    "                ,vestaBorrows.transaction.id\n",
    "                ,vestaBorrows.transaction.blockNumber\n",
    "                ,vestaBorrows.debtChange\n",
    "                ,vestaBorrows.transaction.timestamp\n",
    "                ,vestaBorrows.trove.owner.id\n",
    "                ,vestaBorrows.trove.asset.id\n",
    "                ,vestaBorrows.trove.asset.name\n",
    "            ])\n",
    "\n",
    "    #vestaBorrowslist.sort_values(by=['vestaBorrows_timestamp'])\n",
    "\n",
    "    vestaBorrowsDb=pd.concat([vestaBorrowsDb, vestaBorrowslist])\n",
    "    recordTimestamp1 = vestaBorrowsDb.iat[vestaBorrowTicker,4]\n",
    "    recordTimestamp = dt.datetime.fromtimestamp( recordTimestamp1 )\n",
    "    now = (int(dt.datetime.utcnow().timestamp()))\n",
    "    datediff=abs(int(now) - recordTimestamp1)\n",
    "    daysAgo = int(datediff/86400)\n",
    "    vestaBorrowsDbLength = len(vestaBorrowsDb)\n",
    "    vestaBorrowListLength = len(vestaBorrowslist)\n",
    "    recordID = vestaBorrowsDb.iat[vestaBorrowTicker,0]\n",
    "    vestaBorrow = vestaBorrowsDb.iat[vestaBorrowTicker,1]\n",
    "    print(\"iterations: \", vestaBorrowTicker, \"Lines skipped: \",skipValue, \"records collected: \", vestaBorrowListLength, \" - latest recordID: \",vestaBorrow, \" \", recordID , \" - vestaBorrows DB length: \", vestaBorrowsDbLength, \" - latest record from: \", recordTimestamp, daysAgo,\"days ago\")\n",
    "    #print(\"iterations: \", vestaBorrowTicker, \"records collected: \", vestaBorrowListLength, \" - userdb length: \", vestaBorrowsDbLength)\n",
    "    vestaBorrowTicker = vestaBorrowTicker+1\n",
    "\n",
    "    if daysAgo>daysLimit: exit =True\n",
    "    if vestaBorrowListLength<1000: exit =True\n",
    "\n",
    "#vestaBorrowsDbTimed.columns = vestaBorrowsDbTimed.columns.str.replace(\"borrows\", \"transaction\")\n",
    "vestaBorrowsDb['event']='borrow'\n",
    "print(\"Done. Total Records collected: \", vestaBorrowsDbLength)"
   ],
   "metadata": {
    "collapsed": false
   }
  },
  {
   "cell_type": "code",
   "execution_count": 34,
   "outputs": [
    {
     "data": {
      "text/plain": "    troveChanges_id                        troveChanges_transaction_id  \\\n0            208699  0x0262303378c58366472df669090149e9fc7724ee9adb...   \n1            208622  0x55df82816c96cd12af9203c47081a944c89214ea5d3c...   \n2            208607  0xfce0fc3cb35b1f04d847e4931eac3b116c70dd380c6f...   \n3            208574  0x9d0ce7a1a0fb412b468d3b609f4646020721ed89501b...   \n4            208528  0x42ff27c42a22e3a79c74807f016ab9f79340a653bcaa...   \n..              ...                                                ...   \n995            7945  0xe6e412a75c883dc4f29387b7ce4a9dd9a93daffd3330...   \n996            7944  0x6f55c86ca5c272501eaebe2480cec8d3176b4f7e2b25...   \n997            7943  0x97eb09633d60afb258b2c87a5a5e694caabe3d0629ca...   \n998            7936  0xe679e8f5d0c183e9755fee718789e9bb8bd8967f050c...   \n999            7932  0x5b4cb35e46efcc9ce13da6fe679ffe784096ed50d64d...   \n\n     troveChanges_transaction_blockNumber  troveChanges_debtChange  \\\n0                                65178741               300.000000   \n1                                65112766                 0.453766   \n2                                65079018             14999.997387   \n3                                64918656              7022.916997   \n4                                64712141               147.219475   \n..                                    ...                      ...   \n995                              10348558             28053.843750   \n996                              10348401              1812.434010   \n997                              10348299              4858.781098   \n998                              10338698               199.130273   \n999                              10322788               988.512142   \n\n     troveChanges_transaction_timestamp  \\\n0                            1677525996   \n1                            1677509290   \n2                            1677500902   \n3                            1677459782   \n4                            1677404640   \n..                                  ...   \n995                          1650656395   \n996                          1650656175   \n997                          1650656030   \n998                          1650643308   \n999                          1650624979   \n\n                    troveChanges_trove_owner_id  \\\n0    0x18fee6e511646b8ea2e4964277574f637bc03f3b   \n1    0x57113e17edf278e15e58f047a7aa64dd826f1347   \n2    0xded5d8c6b271a48f3b9ba20e8aa761a6baa2fac9   \n3    0x0fd84d7cb911728737556684050782b298f70f0f   \n4    0x57113e17edf278e15e58f047a7aa64dd826f1347   \n..                                          ...   \n995  0x445e2f0b03f5d61a141913819b18c83aa69f29e5   \n996  0x0c3db603a4045d0f6e8167a9bf0276a4697573a7   \n997  0x344282db40f3903deefcd63e7cd665afdec94616   \n998  0x16d81b2dfd8d6650b2013ebed328588e7c26da24   \n999  0x344282db40f3903deefcd63e7cd665afdec94616   \n\n                    troveChanges_trove_asset_id troveChanges_trove_asset_name  \\\n0    0x8d9ba570d6cb60c7e3e0f31343efe75ab8e65fb1                          gOHM   \n1    0x8d9ba570d6cb60c7e3e0f31343efe75ab8e65fb1                          gOHM   \n2    0x8d9ba570d6cb60c7e3e0f31343efe75ab8e65fb1                          gOHM   \n3    0x8d9ba570d6cb60c7e3e0f31343efe75ab8e65fb1                          gOHM   \n4    0x8d9ba570d6cb60c7e3e0f31343efe75ab8e65fb1                          gOHM   \n..                                          ...                           ...   \n995  0x8d9ba570d6cb60c7e3e0f31343efe75ab8e65fb1                          gOHM   \n996  0x8d9ba570d6cb60c7e3e0f31343efe75ab8e65fb1                          gOHM   \n997  0x8d9ba570d6cb60c7e3e0f31343efe75ab8e65fb1                          gOHM   \n998  0x8d9ba570d6cb60c7e3e0f31343efe75ab8e65fb1                          gOHM   \n999  0x8d9ba570d6cb60c7e3e0f31343efe75ab8e65fb1                          gOHM   \n\n      event            dateTime  \n0    borrow 2023-02-27 19:26:36  \n1    borrow 2023-02-27 14:48:10  \n2    borrow 2023-02-27 12:28:22  \n3    borrow 2023-02-27 01:03:02  \n4    borrow 2023-02-26 09:44:00  \n..      ...                 ...  \n995  borrow 2022-04-22 19:39:55  \n996  borrow 2022-04-22 19:36:15  \n997  borrow 2022-04-22 19:33:50  \n998  borrow 2022-04-22 16:01:48  \n999  borrow 2022-04-22 10:56:19  \n\n[1000 rows x 10 columns]",
      "text/html": "<div>\n<style scoped>\n    .dataframe tbody tr th:only-of-type {\n        vertical-align: middle;\n    }\n\n    .dataframe tbody tr th {\n        vertical-align: top;\n    }\n\n    .dataframe thead th {\n        text-align: right;\n    }\n</style>\n<table border=\"1\" class=\"dataframe\">\n  <thead>\n    <tr style=\"text-align: right;\">\n      <th></th>\n      <th>troveChanges_id</th>\n      <th>troveChanges_transaction_id</th>\n      <th>troveChanges_transaction_blockNumber</th>\n      <th>troveChanges_debtChange</th>\n      <th>troveChanges_transaction_timestamp</th>\n      <th>troveChanges_trove_owner_id</th>\n      <th>troveChanges_trove_asset_id</th>\n      <th>troveChanges_trove_asset_name</th>\n      <th>event</th>\n      <th>dateTime</th>\n    </tr>\n  </thead>\n  <tbody>\n    <tr>\n      <th>0</th>\n      <td>208699</td>\n      <td>0x0262303378c58366472df669090149e9fc7724ee9adb...</td>\n      <td>65178741</td>\n      <td>300.000000</td>\n      <td>1677525996</td>\n      <td>0x18fee6e511646b8ea2e4964277574f637bc03f3b</td>\n      <td>0x8d9ba570d6cb60c7e3e0f31343efe75ab8e65fb1</td>\n      <td>gOHM</td>\n      <td>borrow</td>\n      <td>2023-02-27 19:26:36</td>\n    </tr>\n    <tr>\n      <th>1</th>\n      <td>208622</td>\n      <td>0x55df82816c96cd12af9203c47081a944c89214ea5d3c...</td>\n      <td>65112766</td>\n      <td>0.453766</td>\n      <td>1677509290</td>\n      <td>0x57113e17edf278e15e58f047a7aa64dd826f1347</td>\n      <td>0x8d9ba570d6cb60c7e3e0f31343efe75ab8e65fb1</td>\n      <td>gOHM</td>\n      <td>borrow</td>\n      <td>2023-02-27 14:48:10</td>\n    </tr>\n    <tr>\n      <th>2</th>\n      <td>208607</td>\n      <td>0xfce0fc3cb35b1f04d847e4931eac3b116c70dd380c6f...</td>\n      <td>65079018</td>\n      <td>14999.997387</td>\n      <td>1677500902</td>\n      <td>0xded5d8c6b271a48f3b9ba20e8aa761a6baa2fac9</td>\n      <td>0x8d9ba570d6cb60c7e3e0f31343efe75ab8e65fb1</td>\n      <td>gOHM</td>\n      <td>borrow</td>\n      <td>2023-02-27 12:28:22</td>\n    </tr>\n    <tr>\n      <th>3</th>\n      <td>208574</td>\n      <td>0x9d0ce7a1a0fb412b468d3b609f4646020721ed89501b...</td>\n      <td>64918656</td>\n      <td>7022.916997</td>\n      <td>1677459782</td>\n      <td>0x0fd84d7cb911728737556684050782b298f70f0f</td>\n      <td>0x8d9ba570d6cb60c7e3e0f31343efe75ab8e65fb1</td>\n      <td>gOHM</td>\n      <td>borrow</td>\n      <td>2023-02-27 01:03:02</td>\n    </tr>\n    <tr>\n      <th>4</th>\n      <td>208528</td>\n      <td>0x42ff27c42a22e3a79c74807f016ab9f79340a653bcaa...</td>\n      <td>64712141</td>\n      <td>147.219475</td>\n      <td>1677404640</td>\n      <td>0x57113e17edf278e15e58f047a7aa64dd826f1347</td>\n      <td>0x8d9ba570d6cb60c7e3e0f31343efe75ab8e65fb1</td>\n      <td>gOHM</td>\n      <td>borrow</td>\n      <td>2023-02-26 09:44:00</td>\n    </tr>\n    <tr>\n      <th>...</th>\n      <td>...</td>\n      <td>...</td>\n      <td>...</td>\n      <td>...</td>\n      <td>...</td>\n      <td>...</td>\n      <td>...</td>\n      <td>...</td>\n      <td>...</td>\n      <td>...</td>\n    </tr>\n    <tr>\n      <th>995</th>\n      <td>7945</td>\n      <td>0xe6e412a75c883dc4f29387b7ce4a9dd9a93daffd3330...</td>\n      <td>10348558</td>\n      <td>28053.843750</td>\n      <td>1650656395</td>\n      <td>0x445e2f0b03f5d61a141913819b18c83aa69f29e5</td>\n      <td>0x8d9ba570d6cb60c7e3e0f31343efe75ab8e65fb1</td>\n      <td>gOHM</td>\n      <td>borrow</td>\n      <td>2022-04-22 19:39:55</td>\n    </tr>\n    <tr>\n      <th>996</th>\n      <td>7944</td>\n      <td>0x6f55c86ca5c272501eaebe2480cec8d3176b4f7e2b25...</td>\n      <td>10348401</td>\n      <td>1812.434010</td>\n      <td>1650656175</td>\n      <td>0x0c3db603a4045d0f6e8167a9bf0276a4697573a7</td>\n      <td>0x8d9ba570d6cb60c7e3e0f31343efe75ab8e65fb1</td>\n      <td>gOHM</td>\n      <td>borrow</td>\n      <td>2022-04-22 19:36:15</td>\n    </tr>\n    <tr>\n      <th>997</th>\n      <td>7943</td>\n      <td>0x97eb09633d60afb258b2c87a5a5e694caabe3d0629ca...</td>\n      <td>10348299</td>\n      <td>4858.781098</td>\n      <td>1650656030</td>\n      <td>0x344282db40f3903deefcd63e7cd665afdec94616</td>\n      <td>0x8d9ba570d6cb60c7e3e0f31343efe75ab8e65fb1</td>\n      <td>gOHM</td>\n      <td>borrow</td>\n      <td>2022-04-22 19:33:50</td>\n    </tr>\n    <tr>\n      <th>998</th>\n      <td>7936</td>\n      <td>0xe679e8f5d0c183e9755fee718789e9bb8bd8967f050c...</td>\n      <td>10338698</td>\n      <td>199.130273</td>\n      <td>1650643308</td>\n      <td>0x16d81b2dfd8d6650b2013ebed328588e7c26da24</td>\n      <td>0x8d9ba570d6cb60c7e3e0f31343efe75ab8e65fb1</td>\n      <td>gOHM</td>\n      <td>borrow</td>\n      <td>2022-04-22 16:01:48</td>\n    </tr>\n    <tr>\n      <th>999</th>\n      <td>7932</td>\n      <td>0x5b4cb35e46efcc9ce13da6fe679ffe784096ed50d64d...</td>\n      <td>10322788</td>\n      <td>988.512142</td>\n      <td>1650624979</td>\n      <td>0x344282db40f3903deefcd63e7cd665afdec94616</td>\n      <td>0x8d9ba570d6cb60c7e3e0f31343efe75ab8e65fb1</td>\n      <td>gOHM</td>\n      <td>borrow</td>\n      <td>2022-04-22 10:56:19</td>\n    </tr>\n  </tbody>\n</table>\n<p>1000 rows × 10 columns</p>\n</div>"
     },
     "execution_count": 34,
     "metadata": {},
     "output_type": "execute_result"
    }
   ],
   "source": [
    "vestaBorrowsDbTimed = db.query(\"select \"\n",
    "               \"    * \"\n",
    "                    \" ,to_timestamp(troveChanges_transaction_timestamp::int) dateTime \"\n",
    "               \"From vestaBorrowsDb \"\n",
    "                               \"order by troveChanges_transaction_timestamp desc\"\n",
    "               ).df()\n",
    "\n",
    "vestaBorrowsDbTimed.head(1000)"
   ],
   "metadata": {
    "collapsed": false
   }
  },
  {
   "cell_type": "code",
   "execution_count": 35,
   "outputs": [
    {
     "ename": "RuntimeError",
     "evalue": "Binder Error: column \"borrows_asset_name\" must appear in the GROUP BY clause or be used in an aggregate function",
     "output_type": "error",
     "traceback": [
      "\u001B[1;31m---------------------------------------------------------------------------\u001B[0m",
      "\u001B[1;31mRuntimeError\u001B[0m                              Traceback (most recent call last)",
      "Input \u001B[1;32mIn [35]\u001B[0m, in \u001B[0;36m<cell line: 3>\u001B[1;34m()\u001B[0m\n\u001B[0;32m      1\u001B[0m vestaBorrowsDbTimed \u001B[38;5;241m=\u001B[39m pd\u001B[38;5;241m.\u001B[39mconcat([oldVestaBorrowsDb,vestaBorrowsDbTimed])\u001B[38;5;241m.\u001B[39mdrop_duplicates()\u001B[38;5;241m.\u001B[39mreset_index(drop\u001B[38;5;241m=\u001B[39m\u001B[38;5;28;01mTrue\u001B[39;00m)\n\u001B[0;32m      2\u001B[0m vestaBorrowsDbTimed\u001B[38;5;241m.\u001B[39mdrop_duplicates()\n\u001B[1;32m----> 3\u001B[0m vestaBorrowsDbTimed \u001B[38;5;241m=\u001B[39m \u001B[43mdb\u001B[49m\u001B[38;5;241;43m.\u001B[39;49m\u001B[43mquery\u001B[49m\u001B[43m(\u001B[49m\u001B[38;5;124;43m\"\u001B[39;49m\u001B[38;5;124;43mselect \u001B[39;49m\u001B[38;5;124;43m\"\u001B[39;49m\n\u001B[0;32m      4\u001B[0m \u001B[43m               \u001B[49m\u001B[38;5;124;43m\"\u001B[39;49m\u001B[38;5;124;43m    * \u001B[39;49m\u001B[38;5;124;43m\"\u001B[39;49m\n\u001B[0;32m      5\u001B[0m \u001B[43m               \u001B[49m\u001B[38;5;124;43m\"\u001B[39;49m\u001B[38;5;124;43mFrom vestaBorrowsDbTimed \u001B[39;49m\u001B[38;5;124;43m\"\u001B[39;49m\n\u001B[0;32m      6\u001B[0m \u001B[43m                         \u001B[49m\u001B[38;5;124;43m\"\u001B[39;49m\u001B[38;5;124;43mgroup by 1,2,3,4,5,6,7,8,9,10 \u001B[39;49m\u001B[38;5;124;43m\"\u001B[39;49m\n\u001B[0;32m      7\u001B[0m \u001B[43m                     \u001B[49m\u001B[38;5;66;43;03m# \"order by borrows_amountUSD desc \"\u001B[39;49;00m\n\u001B[0;32m      8\u001B[0m \u001B[43m               \u001B[49m\u001B[38;5;66;43;03m#\"where lower(liquidityPools_name) like lower('%olympus%') \"\u001B[39;49;00m\n\u001B[0;32m      9\u001B[0m \u001B[43m                \u001B[49m\u001B[38;5;66;43;03m#    \"or lower(pairs_token1_symbol) like lower('%OHM%')  \"\u001B[39;49;00m\n\u001B[0;32m     10\u001B[0m \u001B[43m               \u001B[49m\u001B[38;5;66;43;03m#\" limit 100 \"\u001B[39;49;00m\n\u001B[0;32m     11\u001B[0m \u001B[43m               \u001B[49m\u001B[43m)\u001B[49m\u001B[38;5;241m.\u001B[39mdf()\n\u001B[0;32m     13\u001B[0m vestaBorrowsDbTimed\u001B[38;5;241m.\u001B[39mhead(\u001B[38;5;241m100\u001B[39m)\n",
      "\u001B[1;31mRuntimeError\u001B[0m: Binder Error: column \"borrows_asset_name\" must appear in the GROUP BY clause or be used in an aggregate function"
     ]
    }
   ],
   "source": [
    "vestaBorrowsDbTimed = pd.concat([oldVestaBorrowsDb,vestaBorrowsDbTimed]).drop_duplicates().reset_index(drop=True)\n",
    "vestaBorrowsDbTimed.drop_duplicates()\n",
    "vestaBorrowsDbTimed = db.query(\"select \"\n",
    "               \"    * \"\n",
    "               \"From vestaBorrowsDbTimed \"\n",
    "                         \"group by 1,2,3,4,5,6,7,8,9,10 \"\n",
    "                     # \"order by borrows_amountUSD desc \"\n",
    "               #\"where lower(liquidityPools_name) like lower('%olympus%') \"\n",
    "                #    \"or lower(pairs_token1_symbol) like lower('%OHM%')  \"\n",
    "               #\" limit 100 \"\n",
    "               ).df()\n",
    "\n",
    "vestaBorrowsDbTimed.head(100)"
   ],
   "metadata": {
    "collapsed": false
   }
  },
  {
   "cell_type": "code",
   "execution_count": null,
   "outputs": [],
   "source": [
    "path =file+'/vesta_borrow_events.csv'\n",
    "vestaBorrowsDbTimed.to_csv(path, index = False)\n",
    "\n",
    "path =file+'/vesta_borrow_events_piped.csv'\n",
    "vestaBorrowsDbTimed.to_csv(path, index = False, sep='|')\n",
    "print(path, 'file saved,', len(vestaBorrowsDbTimed),' records')"
   ],
   "metadata": {
    "collapsed": false
   }
  },
  {
   "cell_type": "markdown",
   "source": [
    "************************************************************\n",
    "FINE.... FRAX TOO\n",
    "\n",
    "This subgraph is completely different, so we're going to  have to crunch in order to merge all these tables into coherent reports"
   ],
   "metadata": {
    "collapsed": false
   }
  },
  {
   "cell_type": "code",
   "execution_count": null,
   "outputs": [],
   "source": [
    "frax = sg.load_api('https://gateway.thegraph.com/api/'+apiKey+'/subgraphs/id/GELTrjPJYEzxyp6Y2CtEaYpGHcJNrJA6i5Ci4KfJSEsf')\n",
    "#frax = sg.load_api('https://api.thegraph.com/subgraphs/name/frax-finance-data/fraxlend-subgraph---mainnet')"
   ],
   "metadata": {
    "collapsed": false
   }
  },
  {
   "cell_type": "code",
   "execution_count": null,
   "outputs": [],
   "source": [
    "oldFraxActions = pd.DataFrame()\n",
    "fraxFileName = file+'/frax_actions.csv'\n",
    "try:\n",
    "    oldFraxActions = pd.read_csv (fraxFileName)\n",
    "except:\n",
    "    oldFraxActions = pd.DataFrame()\n",
    "oldFraxActions.head(1000)"
   ],
   "metadata": {
    "collapsed": false
   }
  },
  {
   "cell_type": "code",
   "execution_count": null,
   "outputs": [],
   "source": [
    "oldFraxActions = pd.DataFrame()\n",
    "fraxFileName = file+'/frax_borrows.csv'\n",
    "try:\n",
    "    oldFraxActions = pd.read_csv (fraxFileName)\n",
    "except:\n",
    "    oldFraxActions = pd.DataFrame()\n",
    "oldFraxActions.head(1000)"
   ],
   "metadata": {
    "collapsed": false
   }
  },
  {
   "cell_type": "code",
   "execution_count": null,
   "outputs": [],
   "source": [
    "oldFraxDeposits = pd.DataFrame()\n",
    "fraxFileName = file+'/frax_deposits.csv'\n",
    "try:\n",
    "    oldFraxActions = pd.read_csv (fraxFileName)\n",
    "except:\n",
    "    oldFraxActions = pd.DataFrame()\n",
    "oldFraxActions.head(1000)"
   ],
   "metadata": {
    "collapsed": false
   }
  },
  {
   "cell_type": "code",
   "execution_count": null,
   "outputs": [],
   "source": [
    "oldFraxWithdraws = pd.DataFrame()\n",
    "fraxFileName = file+'/frax_deposits.csv'\n",
    "try:\n",
    "    oldFraxActions = pd.read_csv (fraxFileName)\n",
    "except:\n",
    "    oldFraxActions = pd.DataFrame()\n",
    "oldFraxWithdraws.head(1000)"
   ],
   "metadata": {
    "collapsed": false
   }
  },
  {
   "cell_type": "code",
   "execution_count": null,
   "outputs": [],
   "source": [
    "maxActionFraxTimestamp = 0\n",
    "try:\n",
    "    maxActionFraxTimestamp = (max(1,oldFraxActions['actions_timestamp'].max()))-1\n",
    "except:\n",
    "        maxActionFraxTimestamp = 0\n",
    "maxActionFraxTimestamp = int(maxActionFraxTimestamp)\n",
    "maxActionFraxTimestamp"
   ],
   "metadata": {
    "collapsed": false
   }
  },
  {
   "cell_type": "code",
   "execution_count": null,
   "outputs": [],
   "source": [
    "actionsQuery = frax.Query.actions(\n",
    "     orderBy='timestamp'\n",
    "    ,orderDirection='desc'\n",
    "    ,first=1000\n",
    "    #,where = [frax.Query.actions.token.id == '0x66bf36dba79d4606039f04b32946a260bcd3ff52']\n",
    "    ,where={ 'pair': '0x66bf36dba79d4606039f04b32946a260bcd3ff52'\n",
    "             ,'timestamp_gte': maxBorrowFraxTimestamp\n",
    "             }\n",
    "    #,where = {'positions.pairid':'0x66bf36dba79d4606039f04b32946a260bcd3ff52'}\n",
    "#{'users_positions_pair_id':'0x66bf36dba79d4606039f04b32946a260bcd3ff52'}\n",
    "\n",
    ")\n",
    "actions= sg.query_df([\n",
    "    actionsQuery.id\n",
    "    ,actionsQuery.type\n",
    "    ,actionsQuery.amount\n",
    "    ,actionsQuery.timestamp\n",
    "    ,actionsQuery.block\n",
    "    ,actionsQuery.token.name\n",
    "    ,actionsQuery.root.address\n",
    "    ,actionsQuery.pair.asset.symbol\n",
    "    ,actionsQuery.pair.asset.decimals\n",
    "    ,actionsQuery.pair.collateral.symbol\n",
    "    ,actionsQuery.pair.collateral.decimals\n",
    "    ]\n",
    ")\n",
    "actions['dateTime'] =(pd.to_datetime(actions['actions_timestamp'],unit='s'))\n",
    "actions.head(100)"
   ],
   "metadata": {
    "collapsed": false
   }
  },
  {
   "cell_type": "code",
   "execution_count": null,
   "outputs": [],
   "source": [
    "actionListLength=0\n",
    "actionTicker = 0\n",
    "fraxUsersDb = pd.DataFrame()\n",
    "actionsDb = pd.DataFrame()\n",
    "actionListLength = 1000\n",
    "datediff = 0\n",
    "now=0\n",
    "daysAgo=0\n",
    "#daysLimit = 45\n",
    "exit = False\n",
    "while exit==False:\n",
    "    #listLength=0\n",
    "    skipValue = (actionTicker)*(1000)\n",
    "    actionsQuery = frax.Query.actions(\n",
    "         orderBy='timestamp'\n",
    "        ,orderDirection='desc'\n",
    "        ,first=1000\n",
    "        ,skipValue = skipValue\n",
    "        #,where = [frax.Query.actions.token.id == '0x66bf36dba79d4606039f04b32946a260bcd3ff52']\n",
    "        ,where={ 'pair': '0x66bf36dba79d4606039f04b32946a260bcd3ff52'\n",
    "                 ,'timestamp_gte': maxBorrowFraxTimestamp\n",
    "                 }\n",
    "        #,where = {'positions.pairid':'0x66bf36dba79d4606039f04b32946a260bcd3ff52'}\n",
    "    #{'users_positions_pair_id':'0x66bf36dba79d4606039f04b32946a260bcd3ff52'}\n",
    "\n",
    "    )\n",
    "    actions= sg.query_df([\n",
    "        actionsQuery.id\n",
    "        ,actionsQuery.type\n",
    "        ,actionsQuery.amount\n",
    "        ,actionsQuery.timestamp\n",
    "        ,actionsQuery.block\n",
    "        ,actionsQuery.token.name\n",
    "        ,actionsQuery.root.address\n",
    "        ,actionsQuery.pair.asset.symbol\n",
    "        ,actionsQuery.pair.asset.decimals\n",
    "        ,actionsQuery.pair.collateral.symbol\n",
    "        ,actionsQuery.pair.collateral.decimals\n",
    "        ]\n",
    "    )\n",
    "\n",
    "    actions.sort_values(by=['actions_timestamp'])\n",
    "\n",
    "    actionsDb=pd.concat([actionsDb, actions])\n",
    "    recordTimestamp1 = actionsDb.iat[actionTicker,3]\n",
    "    recordTimestamp = dt.datetime.fromtimestamp( recordTimestamp1 )\n",
    "    now = (int(dt.datetime.utcnow().timestamp()))\n",
    "    datediff=abs(int(now) - recordTimestamp1)\n",
    "    daysAgo = int(datediff/86400)\n",
    "    actionsDbLength = len(actionsDb)\n",
    "    actionListLength = len(actions)\n",
    "    recordID = actionsDb.iat[actionTicker,0]\n",
    "    action = actionsDb.iat[actionTicker,1]\n",
    "    print(\"iterations: \", actionTicker, \"Lines skipped: \",skipValue, \"records collected: \", actionListLength, \" - latest recordID: \",action, \" \", recordID , \" - actions DB length: \", actionsDbLength, \" - latest record from: \", recordTimestamp, daysAgo,\"days ago\")\n",
    "    #print(\"iterations: \", actionTicker, \"records collected: \", actionListLength, \" - userdb length: \", actionsDbLength)\n",
    "    if daysAgo>daysLimit: exit =True\n",
    "    if actionListLength<1000: exit =True\n",
    "    actionTicker = actionTicker+1\n",
    "actionsDb['DateTime']=(pd.to_datetime(actionsDb['actions_timestamp'],unit='s'))\n",
    "print(\"Done. Total Records collected: \", actionsDbLength)"
   ],
   "metadata": {
    "collapsed": false
   }
  },
  {
   "cell_type": "code",
   "execution_count": null,
   "outputs": [],
   "source": [
    "actionsDb['transactionReadableAmount'] = actionsDb['actions_amount']/(10**(actionsDb['actions_pair_asset_decimals']))\n",
    "actionsDb['transactionReadableAmount']=actionsDb['transactionReadableAmount'].astype('float')\n",
    "actionsDb.head(2000)"
   ],
   "metadata": {
    "collapsed": false
   }
  },
  {
   "cell_type": "code",
   "execution_count": null,
   "outputs": [],
   "source": [
    "fraxActionsDb= pd.DataFrame()\n",
    "fraxActionsDbTimed =pd.concat([actionsDb, oldFraxActions])\n",
    "fraxActionsDbTimed.head(1000)"
   ],
   "metadata": {
    "collapsed": false
   }
  },
  {
   "cell_type": "code",
   "execution_count": null,
   "outputs": [],
   "source": [
    "fraxActionsDbTimedLength = len(fraxActionsDbTimed)\n",
    "path =file+'/frax_borrows.csv'\n",
    "fraxActionsDbTimed.to_csv(path, index = False)\n",
    "\n",
    "path =file+'/frax_borrows_piped.csv'\n",
    "fraxActionsDbTimed.to_csv(path, index = False, sep='|')\n",
    "\n",
    "print(path, 'file saved,', fraxActionsDbTimedLength,' records at', (dt.datetime.now()) )\n"
   ],
   "metadata": {
    "collapsed": false
   }
  },
  {
   "cell_type": "code",
   "execution_count": null,
   "outputs": [],
   "source": [
    "fraxActionsDbTimed.head(10)"
   ],
   "metadata": {
    "collapsed": false
   }
  },
  {
   "cell_type": "code",
   "execution_count": null,
   "outputs": [],
   "source": [
    "#we might as well create all the DBs here and save ourselves time and grief\n",
    "fraxBorrowsDbTimed = pd.DataFrame()\n",
    "fraxBorrowsDbTimed = db.query(\"Select distinct * from fraxActionsDbTimed where actions_type = 'borrowAsset' and actions_pair_collateral_symbol= 'gOHM' and right(actions_id,2)<>'+1' \").df()\n",
    "\n",
    "fraxDepositsDbTimed = pd.DataFrame()\n",
    "fraxDepositsDbTimed =fraxBorrows = db.query(\"Select distinct * from fraxActionsDbTimed where actions_type = 'addCollateral' and actions_pair_collateral_symbol= 'gOHM' and right(actions_id,2)<>'+1' \").df()\n",
    "\n",
    "fraxWithdrawsDbTimed = pd.DataFrame()\n",
    "fraxWithdrawsDbTimed = db.query(\"Select distinct * from fraxActionsDbTimed where actions_type = 'removeCollateral' and actions_pair_collateral_symbol= 'gOHM' and right(actions_id,2)<>'+1' \").df()"
   ],
   "metadata": {
    "collapsed": false
   }
  },
  {
   "cell_type": "code",
   "execution_count": null,
   "outputs": [],
   "source": [
    "fraxBorrowsDbTimed.head(1000)"
   ],
   "metadata": {
    "collapsed": false
   }
  },
  {
   "cell_type": "code",
   "execution_count": null,
   "outputs": [],
   "source": [
    "fraxDepositsDbTimed.head(1000)"
   ],
   "metadata": {
    "collapsed": false
   }
  },
  {
   "cell_type": "code",
   "execution_count": null,
   "outputs": [],
   "source": [
    "fraxWithdrawsDbTimed.head(10)"
   ],
   "metadata": {
    "collapsed": false
   }
  },
  {
   "cell_type": "code",
   "execution_count": null,
   "outputs": [],
   "source": [
    "#fraxActionsDbTimed = pd.concat([oldFraxBorrows,fraxBorrowsDbTimed]).drop_duplicates().reset_index(drop=True)\n",
    "fraxActionsDbTimed.sort_values(['actions_id','actions_type','actions_amount','actions_timestamp','actions_block','actions_token_name','actions_root_address','DateTime'])\n",
    "fraxActionsDbTimed.drop_duplicates(keep='first' )\n",
    "fraxActionsDbTimed.head(100)"
   ],
   "metadata": {
    "collapsed": false
   }
  },
  {
   "cell_type": "code",
   "execution_count": null,
   "outputs": [],
   "source": [
    "fraxActionsDbTimedLength = len(fraxActionsDbTimed)\n",
    "path =file+'/frax_actions.csv'\n",
    "fraxActionsDbTimed.to_csv(path, index = False)\n",
    "\n",
    "path =file+'/frax_actions_piped.csv'\n",
    "fraxActionsDbTimed.to_csv(path, index = False, sep='|')\n",
    "\n",
    "print(path, 'file saved,', fraxActionsDbTimedLength,' records at', (dt.datetime.now()) )"
   ],
   "metadata": {
    "collapsed": false
   }
  },
  {
   "cell_type": "code",
   "execution_count": null,
   "outputs": [],
   "source": [
    "fraxBorrowsDbTimedLength = len(fraxBorrowsDbTimed)\n",
    "path =file+'/frax_borrows.csv'\n",
    "fraxBorrowsDbTimed.to_csv(path, index = False)\n",
    "\n",
    "path =file+'/frax_borrows_piped.csv'\n",
    "fraxBorrowsDbTimed.to_csv(path, index = False, sep='|')\n",
    "\n",
    "print(path, 'file saved,', fraxActionsDbTimedLength,' records at', (dt.datetime.now()) )"
   ],
   "metadata": {
    "collapsed": false
   }
  },
  {
   "cell_type": "code",
   "execution_count": null,
   "outputs": [],
   "source": [
    "fraxDepositsDbTimedLength = len(fraxBorrowsDbTimed)\n",
    "path =file+'/frax_deposits.csv'\n",
    "fraxBorrowsDbTimed.to_csv(path, index = False)\n",
    "\n",
    "path =file+'/frax_deposits_piped.csv'\n",
    "fraxBorrowsDbTimed.to_csv(path, index = False, sep='|')\n",
    "\n",
    "print(path, 'file saved,', fraxActionsDbTimedLength,' records at', (dt.datetime.now()) )"
   ],
   "metadata": {
    "collapsed": false
   }
  },
  {
   "cell_type": "code",
   "execution_count": null,
   "outputs": [],
   "source": [
    "fraxWithdrawsDbTimedLength = len(fraxBorrowsDbTimed)\n",
    "path =file+'/frax_borrows.csv'\n",
    "fraxWithdrawsDbTimed.to_csv(path, index = False)\n",
    "\n",
    "path =file+'/frax_borrows_piped.csv'\n",
    "fraxWithdrawsDbTimed.to_csv(path, index = False, sep='|')\n",
    "\n",
    "print(path, 'file saved,', fraxWithdrawsDbTimedLength,' records at', (dt.datetime.now()) )"
   ],
   "metadata": {
    "collapsed": false
   }
  },
  {
   "cell_type": "markdown",
   "source": [
    "Collateral check"
   ],
   "metadata": {
    "collapsed": false
   }
  },
  {
   "cell_type": "code",
   "execution_count": null,
   "outputs": [],
   "source": [
    "totalgOHMDepositedFrax = sum(fraxDepositsDbTimed['transactionReadableAmount'])\n",
    "print('There has been a total of',round(totalgOHMDepositedFrax,2),  'gOHM deposited cumulatively as collateral  to date')"
   ],
   "metadata": {
    "collapsed": false
   }
  },
  {
   "cell_type": "code",
   "execution_count": null,
   "outputs": [],
   "source": [
    "totalgOHMWithdrawnFrax = sum(fraxWithdrawsDbTimed['transactionReadableAmount'])\n",
    "print('There has been a total of',round(totalgOHMWithdrawnFrax,2),  'gOHM withdrawn cumulatively as collateral  to date')"
   ],
   "metadata": {
    "collapsed": false
   }
  },
  {
   "cell_type": "code",
   "execution_count": null,
   "outputs": [],
   "source": [
    "collateralBalance = totalgOHMDepositedFrax-totalgOHMWithdrawnFrax\n",
    "print(totalgOHMDepositedFrax, ' - ',totalgOHMWithdrawnFrax,'=', collateralBalance, 'currently deposited as collateral in Silo' )"
   ],
   "metadata": {
    "collapsed": false
   }
  },
  {
   "cell_type": "markdown",
   "source": [
    "**********************************************************\n",
    "MERGE DIFFERENT DBs"
   ],
   "metadata": {
    "collapsed": false
   }
  },
  {
   "cell_type": "code",
   "execution_count": null,
   "outputs": [],
   "source": [
    "#COLLATERALDEPOSITS\n",
    "fraxDepositsDbPreMerge = db.query(\n",
    "    \"select distinct\"\n",
    "    \" actions_id transaction_id\"\n",
    "    \", actions_timestamp transaction_timestamp\"\n",
    "    \", DateTime dateTime\"\n",
    "    \", actions_root_address transaction_from \"\n",
    "    \", actions_pair_collateral_symbol asset_symbol\"\n",
    "    \", transactionReadableAmount ReadableAmount \"\n",
    "    \"from fraxDepositsDbTimed \"\n",
    ").df()\n",
    "fraxDepositsDbPreMerge['protocol'] = 'Frax'\n",
    "fraxDepositsDbPreMerge['action'] = 'depositCollateral'\n",
    "fraxDepositsDbPreMerge.head(10)\n",
    "\n"
   ],
   "metadata": {
    "collapsed": false
   }
  },
  {
   "cell_type": "code",
   "execution_count": null,
   "outputs": [],
   "source": [
    "siloDepositEventsDbTimedClean.head(1)"
   ],
   "metadata": {
    "collapsed": false
   }
  },
  {
   "cell_type": "code",
   "execution_count": null,
   "outputs": [],
   "source": [
    "siloDepositsDbPreMerge = db.query(\n",
    "    \"select distinct\"\n",
    "    \" transaction_hash transaction_id \"\n",
    "    \", transaction_timestamp transaction_timestamp \"\n",
    "    \", dateTime \"\n",
    "    \", transaction_account_id transaction_from \"\n",
    "    \", transaction_asset_symbol asset_symbol \"\n",
    "    \", transactionReadableAmount ReadableAmount \"\n",
    "    \"from siloDepositEventsDbTimedClean \"\n",
    ").df()\n",
    "siloDepositsDbPreMerge['protocol'] = 'silo'\n",
    "siloDepositsDbPreMerge['action'] = 'depositCollateral'\n",
    "siloDepositsDbPreMerge.head(10)\n"
   ],
   "metadata": {
    "collapsed": false
   }
  },
  {
   "cell_type": "markdown",
   "source": [
    "DONT FORGET VESTA WHEN IT GETS FIXED"
   ],
   "metadata": {
    "collapsed": false
   }
  },
  {
   "cell_type": "code",
   "execution_count": null,
   "outputs": [],
   "source": [
    "gOHMCollateralDeposits = pd.concat([siloDepositsDbPreMerge,fraxDepositsDbPreMerge])\n",
    "gOHMCollateralDeposits.head(1000)"
   ],
   "metadata": {
    "collapsed": false
   }
  },
  {
   "cell_type": "code",
   "execution_count": null,
   "outputs": [],
   "source": [
    "gOHMCollateralDepositsLength = len(gOHMCollateralDeposits)\n",
    "path =file+'/gOHMCollateralDeposits.csv'\n",
    "gOHMCollateralDeposits.to_csv(path, index = False)\n",
    "\n",
    "path =file+'/gOHMCollateralDeposits_piped.csv'\n",
    "gOHMCollateralDeposits.to_csv(path, index = False, sep='|')\n",
    "\n",
    "print(path, 'file saved,', gOHMCollateralDepositsLength,' records at', (dt.datetime.now()) )"
   ],
   "metadata": {
    "collapsed": false
   }
  },
  {
   "cell_type": "code",
   "execution_count": null,
   "outputs": [],
   "source": [
    "#ALL WITHDRAW EVENTS"
   ],
   "metadata": {
    "collapsed": false
   }
  },
  {
   "cell_type": "code",
   "execution_count": null,
   "outputs": [],
   "source": [
    "fraxWithdrawsDbPreMerge = db.query(\n",
    "    \"select distinct\"\n",
    "    \" actions_id transaction_id\"\n",
    "    \", actions_timestamp transaction_timestamp\"\n",
    "    \", DateTime dateTime \"\n",
    "    \", actions_root_address transaction_from \"\n",
    "    \", actions_pair_collateral_symbol asset_symbol \"\n",
    "    \", transactionReadableAmount ReadableAmount \"\n",
    "    \"from fraxWithdrawsDbTimed \"\n",
    ").df()\n",
    "fraxWithdrawsDbPreMerge['protocol'] = 'Frax'\n",
    "fraxWithdrawsDbPreMerge['action'] = 'withdrawCollateral'\n",
    "fraxWithdrawsDbPreMerge.head(1000)"
   ],
   "metadata": {
    "collapsed": false
   }
  },
  {
   "cell_type": "code",
   "execution_count": null,
   "outputs": [],
   "source": [
    "siloWithdrawsDbPreMerge = db.query(\n",
    "    \"select distinct\"\n",
    "    \" transaction_hash transaction_id \"\n",
    "    \", transaction_timestamp transaction_timestamp \"\n",
    "    \", dateTime \"\n",
    "    \", transaction_account_id transaction_from \"\n",
    "    \", transaction_asset_symbol asset_symbol \"\n",
    "    \", transactionReadableAmount ReadableAmount \"\n",
    "    \"from siloWithdrawEventsDbTimedClean \"\n",
    ").df()\n",
    "siloWithdrawsDbPreMerge['protocol'] = 'silo'\n",
    "siloWithdrawsDbPreMerge['action'] = 'withdrawCollateral'\n",
    "siloWithdrawsDbPreMerge.head(1000)\n"
   ],
   "metadata": {
    "collapsed": false
   }
  },
  {
   "cell_type": "markdown",
   "source": [
    "DONT FORGET VESTA"
   ],
   "metadata": {
    "collapsed": false
   }
  },
  {
   "cell_type": "code",
   "execution_count": null,
   "outputs": [],
   "source": [
    "gOHMCollateralWithdrawals = pd.concat([siloWithdrawsDbPreMerge,fraxWithdrawsDbPreMerge])\n",
    "gOHMCollateralWithdrawals.head(1000)"
   ],
   "metadata": {
    "collapsed": false
   }
  },
  {
   "cell_type": "code",
   "execution_count": null,
   "outputs": [],
   "source": [
    "gOHMCollateralWithdrawalsLength = len(gOHMCollateralWithdrawals)\n",
    "path =file+'/gOHMCollateralDeposits.csv'\n",
    "gOHMCollateralWithdrawals.to_csv(path, index = False)\n",
    "\n",
    "path =file+'/gOHMCollateralWithdrawals_piped.csv'\n",
    "gOHMCollateralWithdrawals.to_csv(path, index = False, sep='|')\n",
    "\n",
    "print(path, 'file saved,', gOHMCollateralWithdrawalsLength,' records at', (dt.datetime.now()) )"
   ],
   "metadata": {
    "collapsed": false
   }
  },
  {
   "cell_type": "code",
   "execution_count": null,
   "outputs": [],
   "source": [
    "#BORROWS"
   ],
   "metadata": {
    "collapsed": false
   }
  },
  {
   "cell_type": "code",
   "execution_count": null,
   "outputs": [],
   "source": [
    "fraxBorrowsDbPreMerge = db.query(\n",
    "    \"select distinct\"\n",
    "    \" actions_id transaction_id\"\n",
    "    \", actions_timestamp transaction_timestamp\"\n",
    "    \", DateTime as dateTime \"\n",
    "    \", actions_root_address transaction_from \"\n",
    "    \", 'FRAX' asset_symbol \"\n",
    "    \", transactionReadableAmount ReadableAmount \"\n",
    "    \"from fraxBorrowsDbTimed \"\n",
    ").df()\n",
    "fraxBorrowsDbPreMerge['protocol'] = 'Frax'\n",
    "fraxBorrowsDbPreMerge['action'] = 'borrowStablecoin'\n",
    "fraxBorrowsDbPreMerge.head(10)"
   ],
   "metadata": {
    "collapsed": false
   }
  },
  {
   "cell_type": "code",
   "execution_count": null,
   "outputs": [],
   "source": [
    "siloBorrowsDbPreMerge = db.query(\n",
    "    \"select distinct\"\n",
    "    \" transaction_hash transaction_id \"\n",
    "    \", transaction_timestamp transaction_timestamp \"\n",
    "    \", dateTime \"\n",
    "    \", transaction_account_id transaction_from \"\n",
    "    \", 'XAI' asset_symbol \"\n",
    "    \", transactionReadableAmount ReadableAmount \"\n",
    "    \"from siloBorrowEventsDbTimedClean \"\n",
    ").df()\n",
    "siloBorrowsDbPreMerge['protocol'] = 'silo'\n",
    "siloBorrowsDbPreMerge['action'] = 'borrowStablecoin'\n",
    "siloBorrowsDbPreMerge.head(10)"
   ],
   "metadata": {
    "collapsed": false
   }
  },
  {
   "cell_type": "markdown",
   "source": [
    "DONT FORGET VESTA"
   ],
   "metadata": {
    "collapsed": false
   }
  },
  {
   "cell_type": "code",
   "execution_count": null,
   "outputs": [],
   "source": [
    "stablecoinsBorrowedWithGOHMCollateral = pd.concat([siloBorrowsDbPreMerge,fraxBorrowsDbPreMerge])\n",
    "stablecoinsBorrowedWithGOHMCollateral.head(1000)"
   ],
   "metadata": {
    "collapsed": false
   }
  },
  {
   "cell_type": "code",
   "execution_count": null,
   "outputs": [],
   "source": [
    "stablecoinsBorrowedWithGOHMCollateralLength = len(stablecoinsBorrowedWithGOHMCollateral)\n",
    "path =file+'/stablecoinsBorrowedWithGOHMCollateralDeposits.csv'\n",
    "stablecoinsBorrowedWithGOHMCollateral.to_csv(path, index = False)\n",
    "\n",
    "path =file+'/stablecoinsBorrowedWithGOHMCollateralDeposits_piped.csv'\n",
    "stablecoinsBorrowedWithGOHMCollateral.to_csv(path, index = False, sep='|')\n",
    "print(path, 'file saved,', stablecoinsBorrowedWithGOHMCollateralLength,' records at', (dt.datetime.now()) )"
   ],
   "metadata": {
    "collapsed": false
   }
  },
  {
   "cell_type": "markdown",
   "source": [
    "**********************************************************\n",
    "MERGE EVERYTHING\n"
   ],
   "metadata": {
    "collapsed": false
   }
  },
  {
   "cell_type": "markdown",
   "source": [],
   "metadata": {
    "collapsed": false
   }
  },
  {
   "cell_type": "code",
   "execution_count": null,
   "outputs": [],
   "source": [
    "stablecoinsBorrowedWithGOHMCollateral.head(1)"
   ],
   "metadata": {
    "collapsed": false
   }
  },
  {
   "cell_type": "code",
   "execution_count": null,
   "outputs": [],
   "source": [
    "stablecoinsBorrowedWithGOHMCollateralEvents = pd.DataFrame()\n",
    "stablecoinsBorrowedWithGOHMCollateralEvents = pd.concat([gOHMCollateralDeposits,gOHMCollateralWithdrawals,stablecoinsBorrowedWithGOHMCollateral])\n",
    "stablecoinsBorrowedWithGOHMCollateralEvents.head(1000)"
   ],
   "metadata": {
    "collapsed": false
   }
  },
  {
   "cell_type": "code",
   "execution_count": null,
   "outputs": [],
   "source": [
    "stablecoinsBorrowedWithGOHMCollateralEventsLength = len(stablecoinsBorrowedWithGOHMCollateralEvents)\n",
    "path =file+'/stablecoinsBorrowedWithGOHMCollateralEvents.csv'\n",
    "stablecoinsBorrowedWithGOHMCollateralEvents.to_csv(path, index = False)\n",
    "\n",
    "path =file+'/stablecoinsBorrowedWithGOHMCollateralEvents_piped.csv'\n",
    "stablecoinsBorrowedWithGOHMCollateralEvents.to_csv(path, index = False, sep='|')\n",
    "print(path, 'file saved,', stablecoinsBorrowedWithGOHMCollateralEventsLength,' records at', (dt.datetime.now()) )"
   ],
   "metadata": {
    "collapsed": false
   }
  },
  {
   "cell_type": "markdown",
   "source": [
    "FRAX DAILY SNAPS"
   ],
   "metadata": {
    "collapsed": false
   }
  },
  {
   "cell_type": "code",
   "execution_count": null,
   "outputs": [],
   "source": [
    "pairSnapshotsListLength=0\n",
    "pairSnapshotsTicker = 0\n",
    "Snapshots = pd.DataFrame()\n",
    "pairSnapshotsDb = pd.DataFrame()\n",
    "pairSnapshotsListLength = 1000\n",
    "datediff = 0\n",
    "now=0\n",
    "daysAgo=0\n",
    "#daysLimit = 45\n",
    "exit= False\n",
    "while exit==False:\n",
    "    #listLength=0\n",
    "    skipValue = (pairSnapshotsTicker)*(1000)\n",
    "    pairsQuery = frax.Query.pairPerDays(\n",
    "         orderBy='id'\n",
    "        ,orderDirection='desc'\n",
    "        ,first=1000\n",
    "        ,skipValue = skipValue\n",
    "        #,where = [frax.Query.pairs.token.id == '0x66bf36dba79d4606039f04b32946a260bcd3ff52']\n",
    "        ,where={ 'pair': '0x66bf36dba79d4606039f04b32946a260bcd3ff52' }\n",
    "        #,where = {'positions.pairid':'0x66bf36dba79d4606039f04b32946a260bcd3ff52'}\n",
    "    #{'users_positions_pair_id':'0x66bf36dba79d4606039f04b32946a260bcd3ff52'}\n",
    "\n",
    "    )\n",
    "    Snapshots= sg.query_df([\n",
    "    pairsQuery.id\n",
    "    ,pairsQuery.pair.collateral.symbol\n",
    "    ,pairsQuery.pair.collateral.decimals\n",
    "    ,pairsQuery.pair.asset.symbol\n",
    "    ,pairsQuery.pair.asset.decimals\n",
    "    ,pairsQuery.feeToProtocolRate\n",
    "    ,pairsQuery.exchangeRate\n",
    "    ,pairsQuery.totalAssetAmount\n",
    "    ,pairsQuery.totalAssetShare\n",
    "    ,pairsQuery.totalCollateral\n",
    "    ,pairsQuery.totalBorrowAmount\n",
    "    ,pairsQuery.totalBorrowShare\n",
    "    ,pairsQuery.interestPerSecond\n",
    "    ,pairsQuery.utilization\n",
    "    ,pairsQuery.totalFeesAmount\n",
    "    ,pairsQuery.totalFeesShare\n",
    "    ,pairsQuery.lastAccrued\n",
    "    ,pairsQuery.block\n",
    "    ,pairsQuery.timestamp\n",
    "    ,pairsQuery.totalAssetValue\n",
    "    ,pairsQuery.totalCollateralValue\n",
    "    ,pairsQuery.totalBorrowValue\n",
    "    ,pairsQuery.pair\n",
    "    ]\n",
    "    )\n",
    "\n",
    "    Snapshots.sort_values(by=['pairPerDays_timestamp'])\n",
    "\n",
    "    pairSnapshotsDb=pd.concat([pairSnapshotsDb, Snapshots])\n",
    "    recordTimestamp1 = pairSnapshotsDb.iat[pairSnapshotsTicker,14]\n",
    "    recordTimestamp = dt.datetime.fromtimestamp( recordTimestamp1 )\n",
    "    now = (int(dt.datetime.utcnow().timestamp()))\n",
    "    datediff=abs(int(now) - recordTimestamp1)\n",
    "    daysAgo = int(datediff/86400)\n",
    "    pairSnapshotsDbLength = len(pairSnapshotsDb)\n",
    "    pairSnapshotsListLength = len(Snapshots)\n",
    "    recordID = pairSnapshotsDb.iat[pairSnapshotsTicker,0]\n",
    "    Snapshot = pairSnapshotsDb.iat[pairSnapshotsTicker,1]\n",
    "    print(\"iterations: \", pairSnapshotsTicker, \"Lines skipped: \",skipValue, \"records collected: \", pairSnapshotsListLength, \" - latest recordID: \",Snapshot, \" \", recordID , \" - pairSnapshots DB length: \", pairSnapshotsDbLength, \" - latest record from: \", recordTimestamp, daysAgo,\"days ago\")\n",
    "    #print(\"iterations: \", pairSnapshotsTicker, \"records collected: \", pairSnapshotsListLength, \" - userdb length: \", pairSnapshotsDbLength)\n",
    "    if daysAgo>daysLimit: exit =True\n",
    "    if pairSnapshotsListLength<1000: exit =True\n",
    "    pairSnapshotsTicker = pairSnapshotsTicker+1\n",
    "\n",
    "print(\"Done. Total Records collected: \", pairSnapshotsDbLength)"
   ],
   "metadata": {
    "collapsed": false
   }
  },
  {
   "cell_type": "code",
   "execution_count": null,
   "outputs": [],
   "source": [
    "pairSnapshotsDb.head(10)"
   ],
   "metadata": {
    "collapsed": false
   }
  },
  {
   "cell_type": "code",
   "execution_count": null,
   "outputs": [],
   "source": [
    "pairSnapshotsDb['pairPerDays_totalCollateralReadable'] = pairSnapshotsDb['pairPerDays_totalCollateral']/(10**(pairSnapshotsDb['pairPerDays_pair_collateral_decimals']))\n",
    "pairSnapshotsDb['pairPerDays_totalCollateralReadable']=pairSnapshotsDb['pairPerDays_totalCollateralReadable'].astype('float')\n",
    "\n",
    "pairSnapshotsDb['pairPerDays_totalAssetAmountReadable'] = pairSnapshotsDb['pairPerDays_totalAssetAmount']/(10**(pairSnapshotsDb['pairPerDays_pair_asset_decimals']))\n",
    "pairSnapshotsDb['pairPerDays_totalAssetAmountReadable']=pairSnapshotsDb['pairPerDays_totalAssetAmountReadable'].astype('float')\n",
    "\n",
    "pairSnapshotsDb['pairPerDays_totalBorrowAmountReadable'] = pairSnapshotsDb['pairPerDays_totalBorrowAmount']/(10**(pairSnapshotsDb['pairPerDays_pair_asset_decimals']))\n",
    "pairSnapshotsDb['pairPerDays_totalBorrowAmountReadable']=pairSnapshotsDb['pairPerDays_totalBorrowAmountReadable'].astype('float')\n",
    "\n",
    "\n",
    "pairSnapshotsDb['dateTime'] =(pd.to_datetime(pairSnapshotsDb['pairPerDays_timestamp'],unit='s'))\n",
    "\n",
    "pairSnapshotsDb.drop_duplicates(keep =\"first\",inplace = True)\n",
    "\n",
    "\n",
    "pairSnapshotsDb.head(2000)"
   ],
   "metadata": {
    "collapsed": false
   }
  },
  {
   "cell_type": "code",
   "execution_count": null,
   "outputs": [],
   "source": [
    "fraxPairSnapshotsLength = len(pairSnapshotsDb)\n",
    "path =file+'/fraxPairSnapshotsLength.csv'\n",
    "pairSnapshotsDb.to_csv(path, index = False)\n",
    "\n",
    "path =file+'/fraxPairSnapshotsLength_piped.csv'\n",
    "pairSnapshotsDb.to_csv(path, index = False, sep='|')\n",
    "print(path, 'file saved,', fraxPairSnapshotsLength,' records at', (dt.datetime.now()) )"
   ],
   "metadata": {
    "collapsed": false
   }
  },
  {
   "cell_type": "code",
   "execution_count": null,
   "outputs": [],
   "source": [
    "fraxCollateral = pairSnapshotsDb.iat[pairSnapshotsTicker,37]\n",
    "fraxCollateral"
   ],
   "metadata": {
    "collapsed": false
   }
  },
  {
   "cell_type": "code",
   "execution_count": null,
   "outputs": [],
   "source": [
    "siloCollateralBalance"
   ],
   "metadata": {
    "collapsed": false
   }
  },
  {
   "cell_type": "code",
   "execution_count": null,
   "outputs": [],
   "source": [
    "totalBorrowedUSDFrax= pairSnapshotsDb.iat[pairSnapshotsTicker,40]\n",
    "totalBorrowedUSDFrax"
   ],
   "metadata": {
    "collapsed": false
   }
  },
  {
   "cell_type": "code",
   "execution_count": null,
   "outputs": [],
   "source": [
    "collateralGohmLevels = pd.DataFrame({\n",
    "    'protocol':['Frax','vesta','silo'],\n",
    "    'collateralBalance':[fraxCollateral,0,siloCollateralBalance],\n",
    "    'totalBorrowed':[totalBorrowedUSDFrax,0,totalBorrowedUSDSilo]\n",
    "})\n",
    "collateralGohmLevels.head(10)"
   ],
   "metadata": {
    "collapsed": false
   }
  },
  {
   "cell_type": "code",
   "execution_count": null,
   "outputs": [],
   "source": [
    "collateralGohmLevelsLength = len(collateralGohmLevels)\n",
    "path =file+'/collateralGohmLevels.csv'\n",
    "collateralGohmLevels.to_csv(path, index = False)\n",
    "\n",
    "path =file+'/collateralGohmLevels_piped.csv'\n",
    "collateralGohmLevels.to_csv(path, index = False, sep='|')\n",
    "print(path, 'file saved,', collateralGohmLevelsLength,' records at', (dt.datetime.now()) )"
   ],
   "metadata": {
    "collapsed": false
   }
  },
  {
   "cell_type": "code",
   "execution_count": null,
   "outputs": [],
   "source": [
    "totalBorrowedUSDSilo"
   ],
   "metadata": {
    "collapsed": false
   }
  },
  {
   "cell_type": "code",
   "execution_count": null,
   "outputs": [],
   "source": [],
   "metadata": {
    "collapsed": false
   }
  }
 ],
 "metadata": {
  "kernelspec": {
   "display_name": "Python 3",
   "language": "python",
   "name": "python3"
  },
  "language_info": {
   "codemirror_mode": {
    "name": "ipython",
    "version": 2
   },
   "file_extension": ".py",
   "mimetype": "text/x-python",
   "name": "python",
   "nbconvert_exporter": "python",
   "pygments_lexer": "ipython2",
   "version": "2.7.6"
  }
 },
 "nbformat": 4,
 "nbformat_minor": 0
}
